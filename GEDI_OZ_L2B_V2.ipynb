{
  "cells": [
    {
      "cell_type": "markdown",
      "metadata": {
        "colab_type": "text",
        "id": "view-in-github"
      },
      "source": [
        "<a href=\"https://colab.research.google.com/github/gdeslo/GEDI_course/blob/notebook/GEDI_OZ_L2B_V2.ipynb\" target=\"_parent\"><img src=\"https://colab.research.google.com/assets/colab-badge.svg\" alt=\"Open In Colab\"/></a>"
      ]
    },
    {
      "cell_type": "markdown",
      "metadata": {
        "id": "GhjPPEHjTah3"
      },
      "source": [
        "# Getting Started with GEDI L2B Version 2 Data in Python\n",
        "### This tutorial demonstrates how to work with the Canopy Cover and Vertical Profile Metrics ([GEDI02_B.002](https://doi.org/10.5067/GEDI/GEDI02_B.002)) data product.\n",
        "The Global Ecosystem Dynamics Investigation ([GEDI](https://lpdaac.usgs.gov/data/get-started-data/collection-overview/missions/gedi-overview/)) mission aims to characterize ecosystem structure and dynamics to enable radically improved quantification and understanding of the Earth's carbon cycle and biodiversity. The GEDI instrument produces high resolution laser ranging observations of the 3-dimensional structure of the Earth. GEDI is attached to the International Space Station and collects data globally between 51.6 N and 51.6 S latitudes at the highest resolution and densest sampling of any light detection and ranging (lidar) instrument in orbit to date. The Land Processes Distributed Active Archive Center (LP DAAC) distributes the GEDI Level 1 and Level 2 Version 1 and Version 2 products. The L1B and L2 GEDI products are archived and distributed in the HDF-EOS5 file format.\n",
        "\n",
        "---\n",
        "## Use Case Example:  \n",
        "This tutorial was developed using one of our own projects as an example. The QPRP project covers a network of permanent tropical rainforest plots in North-Eastern Queensland, Australia that spans both a rainfall and altitudinal gradient.  **The goal of this practical is to use GEDI L2B Version 2 data to observe tree canopy height, cover, and profile over the QPRP network.**\n",
        "\n",
        "This tutorial will show how to use Python to open GEDI L2B Version 2 files, visualize the sub-orbit of GEDI points (shots), subset to a region of interest, visualize GEDI canopy height and vertical profile metrics, and export subsets of GEDI science dataset (SDS) layers as GeoJSON files that can be loaded into GIS and/or Remote Sensing software programs.\n",
        "\n",
        "***    \n",
        "### Data Used in the Example:  \n",
        "- **GEDI L2B Canopy Cover and Vertical Profile Metrics Data Global Footprint Level - [GEDI02_B.002](https://doi.org/10.5067/GEDI/GEDI02_B.002)**  \n",
        "     - _The purpose of the L2B dataset is to extract biophysical metrics from each GEDI waveform. These metrics are based on the directional gap probability profile derived from the L1B waveform and include canopy cover, Plant Area Index (PAI), Plant Area Volume Density (PAVD) and Foliage Height Diversity (FHD)._   \n",
        "     - **Science Dataset (SDS) layers:**\n",
        "        - /geolocation/digital_elevation_model\n",
        "        - /geolocation/elev_lowestmode  \n",
        "        - /geolocation/elev_highestreturn  \n",
        "        - /geolocation/lat_lowestmode  \n",
        "        - /geolocation/lon_lowestmode  \n",
        "        - /rh100  \n",
        "        - /l2b_quality_flag  \n",
        "        - /degrade_flag  \n",
        "        - /sensitivity  \n",
        "        - /pai  \n",
        "        - /pavd_z  \n",
        "        - /geolocation/shot_number  \n",
        "        - /dz  \n",
        "        - /selected_l2a_algorithm\n",
        "***  \n",
        "# Topics Covered:\n",
        "1. [**Get Started**](#getstarted)  \n",
        "    1.1 Install packages \n",
        "    1.2 Import Packages    \n",
        "    1.3 Set Up the Working Environment and Retrieve Files      \n",
        "2. [**Import and Interpret Data**](#importinterpret)      \n",
        "    2.1 Open a GEDI HDF5 File and Read File Metadata     \n",
        "    2.2 Read SDS Metadata and Subset by Beam   \n",
        "3. [**Visualize a GEDI Sub-Orbit**](#visualizeorbit)      \n",
        "    3.1 Subset by Layer and Create a Geodataframe   \n",
        "    3.2 Visualize a Geodataframe\n",
        "4. [**Work with GEDI L2B Data**](#L2B)        \n",
        "    4.1 Import and Extract PAVD   \n",
        "    4.2 Visualize PAVD    \n",
        "5. [**Work with GEDI L2B Beam Transects**](#beamtransects)        \n",
        "    5.1 Quality Filtering        \n",
        "    5.2 Plot Beam Transects  \n",
        "    5.3 Subset Beam Transects  \n",
        "6. [**Plot Profile Transects**](#plottransects)      \n",
        "    6.1 Plot PAVD Transects  \n",
        "7. [**Spatial Visualization**](#spatialvisualization)      \n",
        "    7.1 Import, Subset, and Quality Filter all Beams  \n",
        "    7.2 Spatial Subsetting  \n",
        "    7.3 Visualize All Beams: Canopy Height, Elevation, and PAI  \n",
        "8. [**Export Subsets as GeoJSON Files**](#exportgeojson)     \n",
        "       \n",
        "***\n",
        "# Before Starting this Tutorial:\n",
        "\n",
        "This tutorial requires a compatible Python Environment and GEDI L2B granule from June 19, 2019 (orbit 02932, sub-orbit `02`) to download. To setup the Python environment and download the file, follow the steps in the github.\n",
        "\n",
        "## Source Code used to Generate this Tutorial:\n",
        "The repository containing all of the required files is located at: https://github.com/gdeslo/GEDI_course.git\n",
        "  \n",
        "<div class=\"alert alert-block alert-warning\" >\n",
        "<b>NOTE:</b> This tutorial was developed for GEDI L2B Version 2 HDF-EOS5 files and should only be used for that product. </div>   \n"
      ]
    },
    {
      "cell_type": "markdown",
      "metadata": {
        "id": "xwW87bh0Tah4"
      },
      "source": [
        "---\n",
        "# 1. Get Started <a id=\"getstarted\"></a>"
      ]
    },
    {
      "cell_type": "markdown",
      "metadata": {
        "id": "CvaqqwXxOEzT"
      },
      "source": [
        "## 1.1 Install Packages <a id=\"1.1\"></a>\n",
        "#### Install the required packages."
      ]
    },
    {
      "cell_type": "code",
      "execution_count": null,
      "metadata": {
        "colab": {
          "base_uri": "https://localhost:8080/"
        },
        "id": "3-Hsi4rHOusx",
        "outputId": "9f1cf966-ff44-47ff-c9d9-df7766b70fdf"
      },
      "outputs": [],
      "source": [
        "# !pip install geospatial geoviews\n",
        "# !pip install \"ipywidgets>=7,<8\""
      ]
    },
    {
      "cell_type": "markdown",
      "metadata": {
        "id": "2AkqRiE_Tah4"
      },
      "source": [
        "## 1.2 Import Packages <a id=\"1.1\"></a>\n",
        "#### Import the required packages and set the input/working directory to run this Jupyter Notebook locally."
      ]
    },
    {
      "cell_type": "code",
      "execution_count": 4,
      "metadata": {
        "colab": {
          "base_uri": "https://localhost:8080/",
          "height": 516
        },
        "id": "RwHk0KcTTah4",
        "outputId": "b5bf4b7d-2ba6-4959-a459-285d90532094"
      },
      "outputs": [
        {
          "data": {
            "text/html": [
              "<script type=\"esms-options\">{\"shimMode\": true}</script><style>*[data-root-id],\n",
              "*[data-root-id] > * {\n",
              "  box-sizing: border-box;\n",
              "  font-family: var(--jp-ui-font-family);\n",
              "  font-size: var(--jp-ui-font-size1);\n",
              "  color: var(--vscode-editor-foreground, var(--jp-ui-font-color1));\n",
              "}\n",
              "\n",
              "/* Override VSCode background color */\n",
              ".cell-output-ipywidget-background:has(\n",
              "    > .cell-output-ipywidget-background > .lm-Widget > *[data-root-id]\n",
              "  ),\n",
              ".cell-output-ipywidget-background:has(> .lm-Widget > *[data-root-id]) {\n",
              "  background-color: transparent !important;\n",
              "}\n",
              "</style>"
            ]
          },
          "metadata": {},
          "output_type": "display_data"
        },
        {
          "data": {
            "application/javascript": "(function(root) {\n  function now() {\n    return new Date();\n  }\n\n  const force = true;\n  const py_version = '3.6.2'.replace('rc', '-rc.').replace('.dev', '-dev.');\n  const reloading = false;\n  const Bokeh = root.Bokeh;\n\n  // Set a timeout for this load but only if we are not already initializing\n  if (typeof (root._bokeh_timeout) === \"undefined\" || (force || !root._bokeh_is_initializing)) {\n    root._bokeh_timeout = Date.now() + 5000;\n    root._bokeh_failed_load = false;\n  }\n\n  function run_callbacks() {\n    try {\n      root._bokeh_onload_callbacks.forEach(function(callback) {\n        if (callback != null)\n          callback();\n      });\n    } finally {\n      delete root._bokeh_onload_callbacks;\n    }\n    console.debug(\"Bokeh: all callbacks have finished\");\n  }\n\n  function load_libs(css_urls, js_urls, js_modules, js_exports, callback) {\n    if (css_urls == null) css_urls = [];\n    if (js_urls == null) js_urls = [];\n    if (js_modules == null) js_modules = [];\n    if (js_exports == null) js_exports = {};\n\n    root._bokeh_onload_callbacks.push(callback);\n\n    if (root._bokeh_is_loading > 0) {\n      // Don't load bokeh if it is still initializing\n      console.debug(\"Bokeh: BokehJS is being loaded, scheduling callback at\", now());\n      return null;\n    } else if (js_urls.length === 0 && js_modules.length === 0 && Object.keys(js_exports).length === 0) {\n      // There is nothing to load\n      run_callbacks();\n      return null;\n    }\n\n    function on_load() {\n      root._bokeh_is_loading--;\n      if (root._bokeh_is_loading === 0) {\n        console.debug(\"Bokeh: all BokehJS libraries/stylesheets loaded\");\n        run_callbacks()\n      }\n    }\n    window._bokeh_on_load = on_load\n\n    function on_error(e) {\n      const src_el = e.srcElement\n      console.error(\"failed to load \" + (src_el.href || src_el.src));\n    }\n\n    const skip = [];\n    if (window.requirejs) {\n      window.requirejs.config({'packages': {}, 'paths': {}, 'shim': {}});\n      root._bokeh_is_loading = css_urls.length + 0;\n    } else {\n      root._bokeh_is_loading = css_urls.length + js_urls.length + js_modules.length + Object.keys(js_exports).length;\n    }\n\n    const existing_stylesheets = []\n    const links = document.getElementsByTagName('link')\n    for (let i = 0; i < links.length; i++) {\n      const link = links[i]\n      if (link.href != null) {\n        existing_stylesheets.push(link.href)\n      }\n    }\n    for (let i = 0; i < css_urls.length; i++) {\n      const url = css_urls[i];\n      const escaped = encodeURI(url)\n      if (existing_stylesheets.indexOf(escaped) !== -1) {\n        on_load()\n        continue;\n      }\n      const element = document.createElement(\"link\");\n      element.onload = on_load;\n      element.onerror = on_error;\n      element.rel = \"stylesheet\";\n      element.type = \"text/css\";\n      element.href = url;\n      console.debug(\"Bokeh: injecting link tag for BokehJS stylesheet: \", url);\n      document.body.appendChild(element);\n    }    var existing_scripts = []\n    const scripts = document.getElementsByTagName('script')\n    for (let i = 0; i < scripts.length; i++) {\n      var script = scripts[i]\n      if (script.src != null) {\n        existing_scripts.push(script.src)\n      }\n    }\n    for (let i = 0; i < js_urls.length; i++) {\n      const url = js_urls[i];\n      const escaped = encodeURI(url)\n      if (skip.indexOf(escaped) !== -1 || existing_scripts.indexOf(escaped) !== -1) {\n        if (!window.requirejs) {\n          on_load();\n        }\n        continue;\n      }\n      const element = document.createElement('script');\n      element.onload = on_load;\n      element.onerror = on_error;\n      element.async = false;\n      element.src = url;\n      console.debug(\"Bokeh: injecting script tag for BokehJS library: \", url);\n      document.head.appendChild(element);\n    }\n    for (let i = 0; i < js_modules.length; i++) {\n      const url = js_modules[i];\n      const escaped = encodeURI(url)\n      if (skip.indexOf(escaped) !== -1 || existing_scripts.indexOf(escaped) !== -1) {\n        if (!window.requirejs) {\n          on_load();\n        }\n        continue;\n      }\n      var element = document.createElement('script');\n      element.onload = on_load;\n      element.onerror = on_error;\n      element.async = false;\n      element.src = url;\n      element.type = \"module\";\n      console.debug(\"Bokeh: injecting script tag for BokehJS library: \", url);\n      document.head.appendChild(element);\n    }\n    for (const name in js_exports) {\n      const url = js_exports[name];\n      const escaped = encodeURI(url)\n      if (skip.indexOf(escaped) >= 0 || root[name] != null) {\n        if (!window.requirejs) {\n          on_load();\n        }\n        continue;\n      }\n      var element = document.createElement('script');\n      element.onerror = on_error;\n      element.async = false;\n      element.type = \"module\";\n      console.debug(\"Bokeh: injecting script tag for BokehJS library: \", url);\n      element.textContent = `\n      import ${name} from \"${url}\"\n      window.${name} = ${name}\n      window._bokeh_on_load()\n      `\n      document.head.appendChild(element);\n    }\n    if (!js_urls.length && !js_modules.length) {\n      on_load()\n    }\n  };\n\n  function inject_raw_css(css) {\n    const element = document.createElement(\"style\");\n    element.appendChild(document.createTextNode(css));\n    document.body.appendChild(element);\n  }\n\n  const js_urls = [\"https://cdn.holoviz.org/panel/1.6.0/dist/bundled/reactiveesm/es-module-shims@^1.10.0/dist/es-module-shims.min.js\", \"https://cdn.bokeh.org/bokeh/release/bokeh-3.6.2.min.js\", \"https://cdn.bokeh.org/bokeh/release/bokeh-gl-3.6.2.min.js\", \"https://cdn.bokeh.org/bokeh/release/bokeh-widgets-3.6.2.min.js\", \"https://cdn.bokeh.org/bokeh/release/bokeh-tables-3.6.2.min.js\", \"https://cdn.holoviz.org/panel/1.6.0/dist/panel.min.js\", \"https://cdn.jsdelivr.net/npm/@holoviz/geoviews@1.14.0/dist/geoviews.min.js\"];\n  const js_modules = [];\n  const js_exports = {};\n  const css_urls = [];\n  const inline_js = [    function(Bokeh) {\n      Bokeh.set_log_level(\"info\");\n    },\nfunction(Bokeh) {} // ensure no trailing comma for IE\n  ];\n\n  function run_inline_js() {\n    if ((root.Bokeh !== undefined) || (force === true)) {\n      for (let i = 0; i < inline_js.length; i++) {\n        try {\n          inline_js[i].call(root, root.Bokeh);\n        } catch(e) {\n          if (!reloading) {\n            throw e;\n          }\n        }\n      }\n      // Cache old bokeh versions\n      if (Bokeh != undefined && !reloading) {\n        var NewBokeh = root.Bokeh;\n        if (Bokeh.versions === undefined) {\n          Bokeh.versions = new Map();\n        }\n        if (NewBokeh.version !== Bokeh.version) {\n          Bokeh.versions.set(NewBokeh.version, NewBokeh)\n        }\n        root.Bokeh = Bokeh;\n      }\n    } else if (Date.now() < root._bokeh_timeout) {\n      setTimeout(run_inline_js, 100);\n    } else if (!root._bokeh_failed_load) {\n      console.log(\"Bokeh: BokehJS failed to load within specified timeout.\");\n      root._bokeh_failed_load = true;\n    }\n    root._bokeh_is_initializing = false\n  }\n\n  function load_or_wait() {\n    // Implement a backoff loop that tries to ensure we do not load multiple\n    // versions of Bokeh and its dependencies at the same time.\n    // In recent versions we use the root._bokeh_is_initializing flag\n    // to determine whether there is an ongoing attempt to initialize\n    // bokeh, however for backward compatibility we also try to ensure\n    // that we do not start loading a newer (Panel>=1.0 and Bokeh>3) version\n    // before older versions are fully initialized.\n    if (root._bokeh_is_initializing && Date.now() > root._bokeh_timeout) {\n      // If the timeout and bokeh was not successfully loaded we reset\n      // everything and try loading again\n      root._bokeh_timeout = Date.now() + 5000;\n      root._bokeh_is_initializing = false;\n      root._bokeh_onload_callbacks = undefined;\n      root._bokeh_is_loading = 0\n      console.log(\"Bokeh: BokehJS was loaded multiple times but one version failed to initialize.\");\n      load_or_wait();\n    } else if (root._bokeh_is_initializing || (typeof root._bokeh_is_initializing === \"undefined\" && root._bokeh_onload_callbacks !== undefined)) {\n      setTimeout(load_or_wait, 100);\n    } else {\n      root._bokeh_is_initializing = true\n      root._bokeh_onload_callbacks = []\n      const bokeh_loaded = root.Bokeh != null && (root.Bokeh.version === py_version || (root.Bokeh.versions !== undefined && root.Bokeh.versions.has(py_version)));\n      if (!reloading && !bokeh_loaded) {\n        if (root.Bokeh) {\n          root.Bokeh = undefined;\n        }\n        console.debug(\"Bokeh: BokehJS not loaded, scheduling load and callback at\", now());\n      }\n      load_libs(css_urls, js_urls, js_modules, js_exports, function() {\n        console.debug(\"Bokeh: BokehJS plotting callback run at\", now());\n        run_inline_js();\n      });\n    }\n  }\n  // Give older versions of the autoload script a head-start to ensure\n  // they initialize before we start loading newer version.\n  setTimeout(load_or_wait, 100)\n}(window));",
            "application/vnd.holoviews_load.v0+json": ""
          },
          "metadata": {},
          "output_type": "display_data"
        },
        {
          "data": {
            "application/javascript": "\nif ((window.PyViz === undefined) || (window.PyViz instanceof HTMLElement)) {\n  window.PyViz = {comms: {}, comm_status:{}, kernels:{}, receivers: {}, plot_index: []}\n}\n\n\n    function JupyterCommManager() {\n    }\n\n    JupyterCommManager.prototype.register_target = function(plot_id, comm_id, msg_handler) {\n      if (window.comm_manager || ((window.Jupyter !== undefined) && (Jupyter.notebook.kernel != null))) {\n        var comm_manager = window.comm_manager || Jupyter.notebook.kernel.comm_manager;\n        comm_manager.register_target(comm_id, function(comm) {\n          comm.on_msg(msg_handler);\n        });\n      } else if ((plot_id in window.PyViz.kernels) && (window.PyViz.kernels[plot_id])) {\n        window.PyViz.kernels[plot_id].registerCommTarget(comm_id, function(comm) {\n          comm.onMsg = msg_handler;\n        });\n      } else if (typeof google != 'undefined' && google.colab.kernel != null) {\n        google.colab.kernel.comms.registerTarget(comm_id, (comm) => {\n          var messages = comm.messages[Symbol.asyncIterator]();\n          function processIteratorResult(result) {\n            var message = result.value;\n            console.log(message)\n            var content = {data: message.data, comm_id};\n            var buffers = []\n            for (var buffer of message.buffers || []) {\n              buffers.push(new DataView(buffer))\n            }\n            var metadata = message.metadata || {};\n            var msg = {content, buffers, metadata}\n            msg_handler(msg);\n            return messages.next().then(processIteratorResult);\n          }\n          return messages.next().then(processIteratorResult);\n        })\n      }\n    }\n\n    JupyterCommManager.prototype.get_client_comm = function(plot_id, comm_id, msg_handler) {\n      if (comm_id in window.PyViz.comms) {\n        return window.PyViz.comms[comm_id];\n      } else if (window.comm_manager || ((window.Jupyter !== undefined) && (Jupyter.notebook.kernel != null))) {\n        var comm_manager = window.comm_manager || Jupyter.notebook.kernel.comm_manager;\n        var comm = comm_manager.new_comm(comm_id, {}, {}, {}, comm_id);\n        if (msg_handler) {\n          comm.on_msg(msg_handler);\n        }\n      } else if ((plot_id in window.PyViz.kernels) && (window.PyViz.kernels[plot_id])) {\n        var comm = window.PyViz.kernels[plot_id].connectToComm(comm_id);\n        comm.open();\n        if (msg_handler) {\n          comm.onMsg = msg_handler;\n        }\n      } else if (typeof google != 'undefined' && google.colab.kernel != null) {\n        var comm_promise = google.colab.kernel.comms.open(comm_id)\n        comm_promise.then((comm) => {\n          window.PyViz.comms[comm_id] = comm;\n          if (msg_handler) {\n            var messages = comm.messages[Symbol.asyncIterator]();\n            function processIteratorResult(result) {\n              var message = result.value;\n              var content = {data: message.data};\n              var metadata = message.metadata || {comm_id};\n              var msg = {content, metadata}\n              msg_handler(msg);\n              return messages.next().then(processIteratorResult);\n            }\n            return messages.next().then(processIteratorResult);\n          }\n        })\n        var sendClosure = (data, metadata, buffers, disposeOnDone) => {\n          return comm_promise.then((comm) => {\n            comm.send(data, metadata, buffers, disposeOnDone);\n          });\n        };\n        var comm = {\n          send: sendClosure\n        };\n      }\n      window.PyViz.comms[comm_id] = comm;\n      return comm;\n    }\n    window.PyViz.comm_manager = new JupyterCommManager();\n    \n\n\nvar JS_MIME_TYPE = 'application/javascript';\nvar HTML_MIME_TYPE = 'text/html';\nvar EXEC_MIME_TYPE = 'application/vnd.holoviews_exec.v0+json';\nvar CLASS_NAME = 'output';\n\n/**\n * Render data to the DOM node\n */\nfunction render(props, node) {\n  var div = document.createElement(\"div\");\n  var script = document.createElement(\"script\");\n  node.appendChild(div);\n  node.appendChild(script);\n}\n\n/**\n * Handle when a new output is added\n */\nfunction handle_add_output(event, handle) {\n  var output_area = handle.output_area;\n  var output = handle.output;\n  if ((output.data == undefined) || (!output.data.hasOwnProperty(EXEC_MIME_TYPE))) {\n    return\n  }\n  var id = output.metadata[EXEC_MIME_TYPE][\"id\"];\n  var toinsert = output_area.element.find(\".\" + CLASS_NAME.split(' ')[0]);\n  if (id !== undefined) {\n    var nchildren = toinsert.length;\n    var html_node = toinsert[nchildren-1].children[0];\n    html_node.innerHTML = output.data[HTML_MIME_TYPE];\n    var scripts = [];\n    var nodelist = html_node.querySelectorAll(\"script\");\n    for (var i in nodelist) {\n      if (nodelist.hasOwnProperty(i)) {\n        scripts.push(nodelist[i])\n      }\n    }\n\n    scripts.forEach( function (oldScript) {\n      var newScript = document.createElement(\"script\");\n      var attrs = [];\n      var nodemap = oldScript.attributes;\n      for (var j in nodemap) {\n        if (nodemap.hasOwnProperty(j)) {\n          attrs.push(nodemap[j])\n        }\n      }\n      attrs.forEach(function(attr) { newScript.setAttribute(attr.name, attr.value) });\n      newScript.appendChild(document.createTextNode(oldScript.innerHTML));\n      oldScript.parentNode.replaceChild(newScript, oldScript);\n    });\n    if (JS_MIME_TYPE in output.data) {\n      toinsert[nchildren-1].children[1].textContent = output.data[JS_MIME_TYPE];\n    }\n    output_area._hv_plot_id = id;\n    if ((window.Bokeh !== undefined) && (id in Bokeh.index)) {\n      window.PyViz.plot_index[id] = Bokeh.index[id];\n    } else {\n      window.PyViz.plot_index[id] = null;\n    }\n  } else if (output.metadata[EXEC_MIME_TYPE][\"server_id\"] !== undefined) {\n    var bk_div = document.createElement(\"div\");\n    bk_div.innerHTML = output.data[HTML_MIME_TYPE];\n    var script_attrs = bk_div.children[0].attributes;\n    for (var i = 0; i < script_attrs.length; i++) {\n      toinsert[toinsert.length - 1].childNodes[1].setAttribute(script_attrs[i].name, script_attrs[i].value);\n    }\n    // store reference to server id on output_area\n    output_area._bokeh_server_id = output.metadata[EXEC_MIME_TYPE][\"server_id\"];\n  }\n}\n\n/**\n * Handle when an output is cleared or removed\n */\nfunction handle_clear_output(event, handle) {\n  var id = handle.cell.output_area._hv_plot_id;\n  var server_id = handle.cell.output_area._bokeh_server_id;\n  if (((id === undefined) || !(id in PyViz.plot_index)) && (server_id !== undefined)) { return; }\n  var comm = window.PyViz.comm_manager.get_client_comm(\"hv-extension-comm\", \"hv-extension-comm\", function () {});\n  if (server_id !== null) {\n    comm.send({event_type: 'server_delete', 'id': server_id});\n    return;\n  } else if (comm !== null) {\n    comm.send({event_type: 'delete', 'id': id});\n  }\n  delete PyViz.plot_index[id];\n  if ((window.Bokeh !== undefined) & (id in window.Bokeh.index)) {\n    var doc = window.Bokeh.index[id].model.document\n    doc.clear();\n    const i = window.Bokeh.documents.indexOf(doc);\n    if (i > -1) {\n      window.Bokeh.documents.splice(i, 1);\n    }\n  }\n}\n\n/**\n * Handle kernel restart event\n */\nfunction handle_kernel_cleanup(event, handle) {\n  delete PyViz.comms[\"hv-extension-comm\"];\n  window.PyViz.plot_index = {}\n}\n\n/**\n * Handle update_display_data messages\n */\nfunction handle_update_output(event, handle) {\n  handle_clear_output(event, {cell: {output_area: handle.output_area}})\n  handle_add_output(event, handle)\n}\n\nfunction register_renderer(events, OutputArea) {\n  function append_mime(data, metadata, element) {\n    // create a DOM node to render to\n    var toinsert = this.create_output_subarea(\n    metadata,\n    CLASS_NAME,\n    EXEC_MIME_TYPE\n    );\n    this.keyboard_manager.register_events(toinsert);\n    // Render to node\n    var props = {data: data, metadata: metadata[EXEC_MIME_TYPE]};\n    render(props, toinsert[0]);\n    element.append(toinsert);\n    return toinsert\n  }\n\n  events.on('output_added.OutputArea', handle_add_output);\n  events.on('output_updated.OutputArea', handle_update_output);\n  events.on('clear_output.CodeCell', handle_clear_output);\n  events.on('delete.Cell', handle_clear_output);\n  events.on('kernel_ready.Kernel', handle_kernel_cleanup);\n\n  OutputArea.prototype.register_mime_type(EXEC_MIME_TYPE, append_mime, {\n    safe: true,\n    index: 0\n  });\n}\n\nif (window.Jupyter !== undefined) {\n  try {\n    var events = require('base/js/events');\n    var OutputArea = require('notebook/js/outputarea').OutputArea;\n    if (OutputArea.prototype.mime_types().indexOf(EXEC_MIME_TYPE) == -1) {\n      register_renderer(events, OutputArea);\n    }\n  } catch(err) {\n  }\n}\n",
            "application/vnd.holoviews_load.v0+json": ""
          },
          "metadata": {},
          "output_type": "display_data"
        },
        {
          "data": {
            "application/vnd.holoviews_exec.v0+json": "",
            "text/html": [
              "<div id='cb606c5d-529e-4f3c-8650-d8cf47872ca2'>\n",
              "  <div id=\"bd1d33fa-803a-43ef-b6e6-48aa7fdceb00\" data-root-id=\"cb606c5d-529e-4f3c-8650-d8cf47872ca2\" style=\"display: contents;\"></div>\n",
              "</div>\n",
              "<script type=\"application/javascript\">(function(root) {\n",
              "  var docs_json = {\"3d098a16-f1ef-4d4f-a340-52b0fd92ae40\":{\"version\":\"3.6.2\",\"title\":\"Bokeh Application\",\"roots\":[{\"type\":\"object\",\"name\":\"panel.models.browser.BrowserInfo\",\"id\":\"cb606c5d-529e-4f3c-8650-d8cf47872ca2\"},{\"type\":\"object\",\"name\":\"panel.models.comm_manager.CommManager\",\"id\":\"b29c0669-f4d0-47ef-9efb-a5795b049b48\",\"attributes\":{\"plot_id\":\"cb606c5d-529e-4f3c-8650-d8cf47872ca2\",\"comm_id\":\"71641890a1b244cc80f91bdea53badcc\",\"client_comm_id\":\"0fc1194620004112bb9b4983fb836e54\"}}],\"defs\":[{\"type\":\"model\",\"name\":\"ReactiveHTML1\"},{\"type\":\"model\",\"name\":\"FlexBox1\",\"properties\":[{\"name\":\"align_content\",\"kind\":\"Any\",\"default\":\"flex-start\"},{\"name\":\"align_items\",\"kind\":\"Any\",\"default\":\"flex-start\"},{\"name\":\"flex_direction\",\"kind\":\"Any\",\"default\":\"row\"},{\"name\":\"flex_wrap\",\"kind\":\"Any\",\"default\":\"wrap\"},{\"name\":\"gap\",\"kind\":\"Any\",\"default\":\"\"},{\"name\":\"justify_content\",\"kind\":\"Any\",\"default\":\"flex-start\"}]},{\"type\":\"model\",\"name\":\"FloatPanel1\",\"properties\":[{\"name\":\"config\",\"kind\":\"Any\",\"default\":{\"type\":\"map\"}},{\"name\":\"contained\",\"kind\":\"Any\",\"default\":true},{\"name\":\"position\",\"kind\":\"Any\",\"default\":\"right-top\"},{\"name\":\"offsetx\",\"kind\":\"Any\",\"default\":null},{\"name\":\"offsety\",\"kind\":\"Any\",\"default\":null},{\"name\":\"theme\",\"kind\":\"Any\",\"default\":\"primary\"},{\"name\":\"status\",\"kind\":\"Any\",\"default\":\"normalized\"}]},{\"type\":\"model\",\"name\":\"GridStack1\",\"properties\":[{\"name\":\"mode\",\"kind\":\"Any\",\"default\":\"warn\"},{\"name\":\"ncols\",\"kind\":\"Any\",\"default\":null},{\"name\":\"nrows\",\"kind\":\"Any\",\"default\":null},{\"name\":\"allow_resize\",\"kind\":\"Any\",\"default\":true},{\"name\":\"allow_drag\",\"kind\":\"Any\",\"default\":true},{\"name\":\"state\",\"kind\":\"Any\",\"default\":[]}]},{\"type\":\"model\",\"name\":\"drag1\",\"properties\":[{\"name\":\"slider_width\",\"kind\":\"Any\",\"default\":5},{\"name\":\"slider_color\",\"kind\":\"Any\",\"default\":\"black\"},{\"name\":\"value\",\"kind\":\"Any\",\"default\":50}]},{\"type\":\"model\",\"name\":\"click1\",\"properties\":[{\"name\":\"terminal_output\",\"kind\":\"Any\",\"default\":\"\"},{\"name\":\"debug_name\",\"kind\":\"Any\",\"default\":\"\"},{\"name\":\"clears\",\"kind\":\"Any\",\"default\":0}]},{\"type\":\"model\",\"name\":\"FastWrapper1\",\"properties\":[{\"name\":\"object\",\"kind\":\"Any\",\"default\":null},{\"name\":\"style\",\"kind\":\"Any\",\"default\":null}]},{\"type\":\"model\",\"name\":\"NotificationAreaBase1\",\"properties\":[{\"name\":\"js_events\",\"kind\":\"Any\",\"default\":{\"type\":\"map\"}},{\"name\":\"position\",\"kind\":\"Any\",\"default\":\"bottom-right\"},{\"name\":\"_clear\",\"kind\":\"Any\",\"default\":0}]},{\"type\":\"model\",\"name\":\"NotificationArea1\",\"properties\":[{\"name\":\"js_events\",\"kind\":\"Any\",\"default\":{\"type\":\"map\"}},{\"name\":\"notifications\",\"kind\":\"Any\",\"default\":[]},{\"name\":\"position\",\"kind\":\"Any\",\"default\":\"bottom-right\"},{\"name\":\"_clear\",\"kind\":\"Any\",\"default\":0},{\"name\":\"types\",\"kind\":\"Any\",\"default\":[{\"type\":\"map\",\"entries\":[[\"type\",\"warning\"],[\"background\",\"#ffc107\"],[\"icon\",{\"type\":\"map\",\"entries\":[[\"className\",\"fas fa-exclamation-triangle\"],[\"tagName\",\"i\"],[\"color\",\"white\"]]}]]},{\"type\":\"map\",\"entries\":[[\"type\",\"info\"],[\"background\",\"#007bff\"],[\"icon\",{\"type\":\"map\",\"entries\":[[\"className\",\"fas fa-info-circle\"],[\"tagName\",\"i\"],[\"color\",\"white\"]]}]]}]}]},{\"type\":\"model\",\"name\":\"Notification\",\"properties\":[{\"name\":\"background\",\"kind\":\"Any\",\"default\":null},{\"name\":\"duration\",\"kind\":\"Any\",\"default\":3000},{\"name\":\"icon\",\"kind\":\"Any\",\"default\":null},{\"name\":\"message\",\"kind\":\"Any\",\"default\":\"\"},{\"name\":\"notification_type\",\"kind\":\"Any\",\"default\":null},{\"name\":\"_rendered\",\"kind\":\"Any\",\"default\":false},{\"name\":\"_destroyed\",\"kind\":\"Any\",\"default\":false}]},{\"type\":\"model\",\"name\":\"TemplateActions1\",\"properties\":[{\"name\":\"open_modal\",\"kind\":\"Any\",\"default\":0},{\"name\":\"close_modal\",\"kind\":\"Any\",\"default\":0}]},{\"type\":\"model\",\"name\":\"BootstrapTemplateActions1\",\"properties\":[{\"name\":\"open_modal\",\"kind\":\"Any\",\"default\":0},{\"name\":\"close_modal\",\"kind\":\"Any\",\"default\":0}]},{\"type\":\"model\",\"name\":\"TemplateEditor1\",\"properties\":[{\"name\":\"layout\",\"kind\":\"Any\",\"default\":[]}]},{\"type\":\"model\",\"name\":\"MaterialTemplateActions1\",\"properties\":[{\"name\":\"open_modal\",\"kind\":\"Any\",\"default\":0},{\"name\":\"close_modal\",\"kind\":\"Any\",\"default\":0}]},{\"type\":\"model\",\"name\":\"ReactiveESM1\",\"properties\":[{\"name\":\"esm_constants\",\"kind\":\"Any\",\"default\":{\"type\":\"map\"}}]},{\"type\":\"model\",\"name\":\"JSComponent1\",\"properties\":[{\"name\":\"esm_constants\",\"kind\":\"Any\",\"default\":{\"type\":\"map\"}}]},{\"type\":\"model\",\"name\":\"ReactComponent1\",\"properties\":[{\"name\":\"esm_constants\",\"kind\":\"Any\",\"default\":{\"type\":\"map\"}}]},{\"type\":\"model\",\"name\":\"AnyWidgetComponent1\",\"properties\":[{\"name\":\"esm_constants\",\"kind\":\"Any\",\"default\":{\"type\":\"map\"}}]},{\"type\":\"model\",\"name\":\"request_value1\",\"properties\":[{\"name\":\"fill\",\"kind\":\"Any\",\"default\":\"none\"},{\"name\":\"_synced\",\"kind\":\"Any\",\"default\":null},{\"name\":\"_request_sync\",\"kind\":\"Any\",\"default\":0}]}]}};\n",
              "  var render_items = [{\"docid\":\"3d098a16-f1ef-4d4f-a340-52b0fd92ae40\",\"roots\":{\"cb606c5d-529e-4f3c-8650-d8cf47872ca2\":\"bd1d33fa-803a-43ef-b6e6-48aa7fdceb00\"},\"root_ids\":[\"cb606c5d-529e-4f3c-8650-d8cf47872ca2\"]}];\n",
              "  var docs = Object.values(docs_json)\n",
              "  if (!docs) {\n",
              "    return\n",
              "  }\n",
              "  const py_version = docs[0].version.replace('rc', '-rc.').replace('.dev', '-dev.')\n",
              "  async function embed_document(root) {\n",
              "    var Bokeh = get_bokeh(root)\n",
              "    await Bokeh.embed.embed_items_notebook(docs_json, render_items);\n",
              "    for (const render_item of render_items) {\n",
              "      for (const root_id of render_item.root_ids) {\n",
              "\tconst id_el = document.getElementById(root_id)\n",
              "\tif (id_el.children.length && id_el.children[0].hasAttribute('data-root-id')) {\n",
              "\t  const root_el = id_el.children[0]\n",
              "\t  root_el.id = root_el.id + '-rendered'\n",
              "\t  for (const child of root_el.children) {\n",
              "            // Ensure JupyterLab does not capture keyboard shortcuts\n",
              "            // see: https://jupyterlab.readthedocs.io/en/4.1.x/extension/notebook.html#keyboard-interaction-model\n",
              "\t    child.setAttribute('data-lm-suppress-shortcuts', 'true')\n",
              "\t  }\n",
              "\t}\n",
              "      }\n",
              "    }\n",
              "  }\n",
              "  function get_bokeh(root) {\n",
              "    if (root.Bokeh === undefined) {\n",
              "      return null\n",
              "    } else if (root.Bokeh.version !== py_version) {\n",
              "      if (root.Bokeh.versions === undefined || !root.Bokeh.versions.has(py_version)) {\n",
              "\treturn null\n",
              "      }\n",
              "      return root.Bokeh.versions.get(py_version);\n",
              "    } else if (root.Bokeh.version === py_version) {\n",
              "      return root.Bokeh\n",
              "    }\n",
              "    return null\n",
              "  }\n",
              "  function is_loaded(root) {\n",
              "    var Bokeh = get_bokeh(root)\n",
              "    return (Bokeh != null && Bokeh.Panel !== undefined)\n",
              "  }\n",
              "  if (is_loaded(root)) {\n",
              "    embed_document(root);\n",
              "  } else {\n",
              "    var attempts = 0;\n",
              "    var timer = setInterval(function(root) {\n",
              "      if (is_loaded(root)) {\n",
              "        clearInterval(timer);\n",
              "        embed_document(root);\n",
              "      } else if (document.readyState == \"complete\") {\n",
              "        attempts++;\n",
              "        if (attempts > 200) {\n",
              "          clearInterval(timer);\n",
              "\t  var Bokeh = get_bokeh(root)\n",
              "\t  if (Bokeh == null || Bokeh.Panel == null) {\n",
              "            console.warn(\"Panel: ERROR: Unable to run Panel code because Bokeh or Panel library is missing\");\n",
              "\t  } else {\n",
              "\t    console.warn(\"Panel: WARNING: Attempting to render but not all required libraries could be resolved.\")\n",
              "\t    embed_document(root)\n",
              "\t  }\n",
              "        }\n",
              "      }\n",
              "    }, 25, root)\n",
              "  }\n",
              "})(window);</script>"
            ]
          },
          "metadata": {
            "application/vnd.holoviews_exec.v0+json": {
              "id": "cb606c5d-529e-4f3c-8650-d8cf47872ca2"
            }
          },
          "output_type": "display_data"
        },
        {
          "data": {
            "text/html": [
              "\n",
              "<div class=\"logo-block\">\n",
              "<img src='data:image/png;base64,iVBORw0KGgoAAAANSUhEUgAAAEAAAABACAYAAACqaXHeAAAABHNCSVQICAgIfAhkiAAAAAlwSFlz\n",
              "AAAB+wAAAfsBxc2miwAAABl0RVh0U29mdHdhcmUAd3d3Lmlua3NjYXBlLm9yZ5vuPBoAAA6zSURB\n",
              "VHic7ZtpeFRVmsf/5966taWqUlUJ2UioBBJiIBAwCZtog9IOgjqACsogKtqirT2ttt069nQ/zDzt\n",
              "tI4+CrJIREFaFgWhBXpUNhHZQoKBkIUASchWla1S+3ar7r1nPkDaCAnZKoQP/D7mnPOe9/xy76n3\n",
              "nFSAW9ziFoPFNED2LLK5wcyBDObkb8ZkxuaoSYlI6ZcOKq1eWFdedqNzGHQBk9RMEwFAASkk0Xw3\n",
              "ETacDNi2vtvc7L0ROdw0AjoSotQVkKSvHQz/wRO1lScGModBFbDMaNRN1A4tUBCS3lk7BWhQkgpD\n",
              "lG4852/+7DWr1R3uHAZVQDsbh6ZPN7CyxUrCzJMRouusj0ipRwD2uKm0Zn5d2dFwzX1TCGhnmdGo\n",
              "G62Nna+isiUqhkzuKrkQaJlPEv5mFl2fvGg2t/VnzkEV8F5ioioOEWkLG86fvbpthynjdhXYZziQ\n",
              "x1hC9J2NFyi8vCTt91Fh04KGip0AaG9zuCk2wQCVyoNU3Hjezee9bq92duzzTmxsRJoy+jEZZZYo\n",
              "GTKJ6SJngdJqAfRzpze0+jHreUtPc7gpBLQnIYK6BYp/uGhw9YK688eu7v95ysgshcg9qSLMo3JC\n",
              "4jqLKQFBgdKDPoQ+Pltb8dUyQLpeDjeVgI6EgLIQFT5tEl3rn2losHVsexbZ3EyT9wE1uGdkIPcy\n",
              "BGxn8QUq1QrA5nqW5i2tLqvrrM9NK6AdkVIvL9E9bZL/oyfMVd/jqvc8LylzRBKDJSzIExwhQzuL\n",
              "QYGQj4rHfFTc8mUdu3E7yoLtbTe9gI4EqVgVkug2i5+uXGo919ixbRog+3fTbQ8qJe4ZOYNfMoTI\n",
              "OoshUNosgO60AisX15aeI2PSIp5KiFLI9ubb1vV3Qb2ltwLakUCDAkWX7/nHKRmmGIl9VgYsUhJm\n",
              "2NXjKYADtM1ygne9QQDIXlk49FBstMKx66D1v4+XuQr7vqTe0VcBHQlRWiOCbmmSYe2SqtL6q5rJ\n",
              "zsTb7lKx3FKOYC4DoqyS/B5bvLPxvD9Qtf6saxYLQGJErmDOdOMr/zo96km1nElr8bmPOBwI9COv\n",
              "HnFPRIwmkSOv9kcAS4heRsidOkpeWBgZM+UBrTFAXNYL5Vf2ii9c1trNzpYdaoVil3WIc+wdk+gQ\n",
              "noie3ecCcxt9ITcLAPWt/laGEO/9U6PmzZkenTtsSMQ8uYywJVW+grCstAvCIaAdArAsIWkRDDs/\n",
              "KzLm2YcjY1Lv0UdW73HabE9n6V66cxSzfEmuJssTpKGVp+0vHq73FwL46eOjpMpbRAnNmJFrGJNu\n",
              "Ukf9Yrz+3rghiumCKNXXWPhLYcjxGsIpoCMsIRoFITkW8AuyM8jC1+/QLx4bozCEJIq38+1rtpR6\n",
              "V/yzb8eBlRb3fo5l783N0CWolAzJHaVNzkrTzlEp2bQ2q3TC5gn6wpnoQAmwSiGh2GitnTmVMc5O\n",
              "UyfKWUKCIsU7+fZDKwqdT6DDpvkzAX4/+AMFjk0tDp5GRXLpQ2MUmhgDp5gxQT8+Y7hyPsMi8uxF\n",
              "71H0oebujHALECjFKaW9Lm68n18wXp2kVzIcABytD5iXFzg+WVXkegpAsOOYziqo0OkK76GyquC3\n",
              "ltZAzMhhqlSNmmWTE5T6e3IN05ITFLM4GdN0vtZ3ob8Jh1NAKXFbm5PtLU/eqTSlGjkNAJjdgn/N\n",
              "aedXa0tdi7+t9G0FIF49rtMSEgAs1kDLkTPO7ebm4IUWeyh1bKomXqlgMG6kJmHcSM0clYLJ8XtR\n",
              "1GTnbV3F6I5wCGikAb402npp1h1s7LQUZZSMIfALFOuL3UUrfnS8+rez7v9qcold5tilgHbO1fjK\n",
              "9ubb17u9oshxzMiUBKXWqJNxd+fqb0tLVs4lILFnK71H0Ind7uiPgACVcFJlrb0tV6DzxqqTIhUM\n",
              "CwDf1/rrVhTa33/3pGPxJYdQ2l2cbgVcQSosdx8uqnDtbGjh9SlDVSMNWhlnilfqZk42Th2ZpLpf\n",
              "xrHec5e815zrr0dfBZSwzkZfqsv+1FS1KUknUwPARVvItfKUY+cn57yP7qv07UE3p8B2uhUwLk09\n",
              "e0SCOrK+hbdYHYLjRIl71wWzv9jpEoeOHhGRrJAzyEyNiJuUqX0g2sBN5kGK6y2Blp5M3lsB9Qh4\n",
              "y2Ja6x6+i0ucmKgwMATwhSjdUu49tKrQ/pvN5d53ml2CGwCmJipmKjgmyuaXzNeL2a0AkQ01Th5j\n",
              "2DktO3Jyk8f9vcOBQHV94OK+fPumJmvQHxJoWkaKWq9Vs+yUsbq0zGT1I4RgeH2b5wef7+c7bl8F\n",
              "eKgoHVVZa8ZPEORzR6sT1BzDUAD/d9F78e2Tzv99v8D+fLVTqAKAsbGamKey1Mt9Ann4eH3gTXTz\n",
              "idWtAJ8PQWOk7NzSeQn/OTHDuEikVF1R4z8BQCy+6D1aWRfY0tTGG2OM8rRoPaeIj5ZHzJxszElN\n",
              "VM8K8JS5WOfv8mzRnQAKoEhmt8gyPM4lU9SmBK1MCQBnW4KONT86v1hZ1PbwSXPw4JWussVjtH9Y\n",
              "NCoiL9UoH/6PSu8jFrfY2t36erQHXLIEakMi1SydmzB31h3GGXFDFNPaK8Rme9B79Ixrd0WN+1ij\n",
              "NRQ/doRmuFLBkHSTOm5GruG+pFjFdAmorG4IXH1Qua6ASniclfFtDYt+oUjKipPrCQB7QBQ2lrgP\n",
              "fFzm+9XWUtcqJ3/5vDLDpJ79XHZk3u8nGZ42qlj1+ydtbxysCezrydp6ugmipNJ7WBPB5tydY0jP\n",
              "HaVNzs3QzeE4ZpTbI+ZbnSFPbVOw9vsfnVvqWnirPyCNGD08IlqtYkh2hjZ5dErEQzoNm+6ykyOt\n",
              "Lt5/PQEuSRRKo22VkydK+vvS1XEKlhCJAnsqvcVvH7f/ZU2R67eXbMEGAMiIV5oWZWiWvz5Fv2xG\n",
              "sjqNJQRvn3Rs2lji/lNP19VjAQDgD7FHhujZB9OGqYxRkZxixgRDVlqS6uEOFaJUVu0rPFzctrnF\n",
              "JqijImVp8dEKVWyUXDk92zAuMZ6bFwpBU1HrOw6AdhQgUooChb0+ItMbWJitSo5Ws3IAOGEOtL53\n",
              "0vHZih9sC4vtofZ7Qu6523V/fmGcds1TY3V36pUsBwAbSlxnVh2xLfAD/IAIMDf7XYIkNmXfpp2l\n",
              "18rkAJAy9HKFaIr/qULkeQQKy9zf1JgDB2uaeFNGijo5QsUyacNUUTOnGO42xSnv4oOwpDi1zYkc\n",
              "efUc3I5Gk6PhyTuVKaOGyLUAYPGIoY9Pu/atL/L92+4q9wbflRJ2Trpm/jPjdBtfnqB/dIThcl8A\n",
              "KG7hbRuKnb8qsQsVvVlTrwQAQMUlf3kwJI24Z4JhPMtcfng5GcH49GsrxJpGvvHIaeem2ma+KSjQ\n",
              "lIwUdYyCY8j4dE1KzijNnIP2llF2wcXNnsoapw9XxsgYAl6k+KzUXbi2yP3KR2ecf6z3BFsBICdW\n",
              "nvnIaG3eHybqX7vbpEqUMT+9OL4Qpe8VON7dXuFd39v19FoAABRVePbGGuXTszO0P7tu6lghUonE\n",
              "llRdrhArLvmKdh9u29jcFiRRkfLUxBiFNiqSU9icoZQHo5mYBI1MBgBH6wMNb+U7Pnw337H4gi1Y\n",
              "ciWs+uks3Z9fztUvfzxTm9Ne8XXkvQLHNytOOZeiD4e0PgkAIAYCYknKUNUDSXEKzdWNpnil7r4p\n",
              "xqkjTarZMtk/K8TQ6Qve78qqvXurGwIJqcOUKfUWHsm8KGvxSP68YudXq4pcj39X49uOK2X142O0\n",
              "Tz5/u/7TVybqH0rSya6ZBwD21/gubbrgWdDgEOx9WUhfBaC2ibcEBYm7a7x+ukrBMNcEZggyR0TE\n",
              "T8zUPjikQ4VosQZbTpS4vqizBKvqmvjsqnpfzaZyx9JPiz1/bfGKdgD45XB1zoIMzYbfTdS/NClB\n",
              "Gct0USiY3YL/g0LHy/uq/Ef6uo5+n0R/vyhp17Klpge763f8rMu6YU/zrn2nml+2WtH+Z+5IAAFc\n",
              "2bUTdTDOSNa9+cQY7YLsOIXhevEkCvzph7a8laecz/Un/z4/Ae04XeL3UQb57IwU9ZDr9UuKVajv\n",
              "nxp1+1UVIo/LjztZkKH59fO3G/JemqCfmaCRqbqbd90ZZ8FfjtkfAyD0J/9+C2h1hDwsSxvGjNDc\n",
              "b4zk5NfrSwiQblLHzZhg+Jf4aPlUwpDqkQqa9nimbt1/TDH8OitGMaQnj+RJS6B1fbF7SY1TqO5v\n",
              "/v0WAADl1f7zokgS7s7VT2DZ7pegUjBM7mjtiDZbcN4j0YrHH0rXpCtY0qPX0cVL0rv5jv/ZXend\n",
              "0u/EESYBAFBU4T4Qa5TflZOhTe7pmKpaP8kCVUVw1+yhXfJWvn1P3hnXi33JsTN6PnP3hHZ8Z3/h\n",
              "aLHzmkNPuPj7Bc/F/Q38CwjTpSwQXgE4Vmwry9tpfq/ZFgqFMy4AVDtCvi8rvMvOmv0N4YwbVgEA\n",
              "sPM72/KVnzfspmH7HQGCRLG2yL1+z8XwvPcdCbsAANh+xPzstgMtxeGKt+6MK3/tacfvwhWvIwMi\n",
              "oKEBtm0H7W+UVfkc/Y1V0BhoPlDr/w1w/eu1vjIgAgDg22OtX6/eYfnEz/focrZTHAFR+PSs56/7\n",
              "q32nwpjazxgwAQCwcU/T62t3WL7r6/jVRa6/byp1rei+Z98ZUAEAhEPHPc8fKnTU9nbgtnOe8h0l\n",
              "9hcGIqmODLQAHCy2Xti6v/XNRivf43f4fFvIteu854+VHnR7q9tfBlwAAGz+pnndB9vM26UebAe8\n",
              "SLHujPOTPVW+rwY+sxskAAC2HrA8t2Vvc7ffP1r9o+vwR2dcr92InIAbKKC1FZ5tB1tf+/G8p8sv\n",
              "N/9Q5zd/XR34LYCwV5JdccMEAMDBk45DH243r/X4xGvqxFa/GNpS7n6rwOwNWwHVE26oAADYurf1\n",
              "zx/utOzt+DMKYM0p17YtZZ5VNzqfsB2HewG1WXE8PoZ7gOclbTIvynZf9JV+fqZtfgs/8F/Nu5rB\n",
              "EIBmJ+8QRMmpU7EzGRsf2FzuePqYRbzh/zE26EwdrT10f6r6o8HOYzCJB9Dpff8tbnGLG8L/A/WE\n",
              "roTBs2RqAAAAAElFTkSuQmCC'\n",
              "     style='height:25px; border-radius:12px; display: inline-block; float: left; vertical-align: middle'></img>\n",
              "\n",
              "\n",
              "  <img src='data:image/png;base64,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'\n",
              "       style='height:15px; border-radius:12px; display: inline-block; float: left'></img>\n",
              "  \n",
              "\n",
              "\n",
              "  <img src='data:image/png;base64,iVBORw0KGgoAAAANSUhEUgAAACAAAAAgCAYAAABzenr0AAAABHNCSVQICAgIfAhkiAAAAAlwSFlz\n",
              "AAAFMAAABTABZarKtgAAABl0RVh0U29mdHdhcmUAd3d3Lmlua3NjYXBlLm9yZ5vuPBoAAArNSURB\n",
              "VFiFnVd5VFNXGv/ee0kgGyQhbFoXIKCFYEXEDVErTucMoKUOWA/VLsNSLPQgFTOdyrHPiIp1lFIQ\n",
              "OlaPShEG3EpPcQmISCuV1bQ1CLKIULeQhJA9JO+9+UMT0x5aPfOdc895373f/e7v/t537/ddBF5Q\n",
              "JBIJl81mJwCACEVRQBCEQhAEAQCgnghCURRCkmS7Wq2+WlJSYn0Rv8jzDHAcD0EQJIVGo5mFQuGF\n",
              "jIyMu39kq1KpkOrq6gU6nS6aIAiGzWY7VVBQ0P9/AcjNzWXy+fxcOp2uiY+Przm0d6+n8dblv/Fo\n",
              "kzM4SzYfPlRePvFnjnt6ehh1dXVv2mw2nlar/byoqMj8wgBwHBchCJIZEhJSeu1yHVi7vtu02t8+\n",
              "NykQ7BMWoOUMhXQsXLv5IQAwSJJEEASxcDicoeTk5DtCoZBy9XX69Gnv3t7ebJIky3EcH3guAKlU\n",
              "GoGiaOKWLVsOvhs7/9XXPMde3/IyIFbMnaPDuD5AUdQuOf2XlD0npTExMWYAgNbWVpZcLg8xGAzB\n",
              "JEnSvby82tPT052LaTQatLy8fBtJkt/s3Lnz5h8CwHFcRKPRNu/YsePAjh072KTs0IGCxRg8RgUB\n",
              "TGpSx6cmHgMAfNqN6Xa1GvJ/D35gYAAViURkcXHxUrPZHDRv3rxv4uLiDI7xPXv2bLdYLBUFBQWD\n",
              "jj7M8ZGbm8tkMpmSrKysQiaTScXGxtpqL7dManT6tcu5mgEWWJyOhicozpk+c3NsbKzNFcBbWWEf\n",
              "1Td9/upA30i3ZJv0h8bGxiSFQmFcuHDhOACAWCy+0d3dvX3lypUtzc3N9t8AiIuLk4SEhByLiooy\n",
              "AgAcO3ZsNlPgH3Cttb35JZo+bCYXIQAA9MDiUW7sWS1KN687w6Mera2twa2trfMvXboUOS28Pyb1\n",
              "U08McRtf/sXBSmt5cc35pqamVQqFwhoZGallMpnU/fv3e7RaberVq1d/AABAn1IfQqfTNRs3blQB\n",
              "AFy+fJk7Nja2XCKRnD3dNSorusPq6NfTPR+gPiEEoLRFXO1tS2+zavv27ReftjNttyr0S1/j0rUP\n",
              "PEJQwNwQYGgAACQSyXmNRhMtk8lYAAApKSlKDMP0+fn5QU4ACIKkxMfH1zjYuHnz5uspKSlOfdX7\n",
              "u68fvOePcCzKQR4YVCgATGfa/F3pnzaHWOAXSDyaMCqH2+r8VXErP3D+snXr1tV2dXW94dATExOr\n",
              "6XT6JgAAVCKRcDEMM4WHh9sAAHJyUqNu//wDymKx7AAAVVVVPiaTKXxByrYMvBsxEMSTwPXhuL+8\n",
              "e/fu9fv371+flvbemogYNz+TnsBOFEwMFO8/KzEYDKFVVVX+AAChoaGT7u7ud48ePRro0DEMs+bl\n",
              "5bFRNpud4O3tfdGBzq5uy/5wTUPM/q2zC9atmbVqeHg4Pi0t7WxGRoZFH5rw76I7LI8HqHfwPL7d\n",
              "rfVagzw1NfW81t4ePUfsP/OrnWZ6fPSuUqFQSEkkkrOjo6OvuQR5q0ajiXLoPj4+lzgcTjwKACLH\n",
              "9SqXy2kzhBO8haGo+UA2wZW+p880DxeveGt9aHx9fT09ctlq3sC0NT9e6xsbjuZblSxl7wKtVotM\n",
              "m6PnXvlmZJBtX91CEMQsxyJsNlteXl4udugIghAajQYFAEhPTx9AEGQOimGY8y4oLt63KlJkdB4t\n",
              "P282Z/c/dPrDH04ktJ9P2tfWXP3+2o1vHzunEp6Xq0lsGt08KzUrcSGTQ3n3XeefLCs5UqnT6Rap\n",
              "VCoEACA7O/snvV4f5gJooLa2NsihoygKKEVRzquTND2OCpttGXdG1tOxwOlgzdvE9v30rV+m3W5I\n",
              "2jfJNQmLH85QUUzPNTwvkAx0+vVGhq2/VV9fT+dyuZ01NTXOXQOA3fGxevXq2waDYY5r8KIoij5b\n",
              "jzB5Cz2oKdOo0erOm+1tVuVtBMZXElNMRJR1fvvjx9iPLQ/RjpuB0Xu/Vp7YmH1864YNG3oNBkPw\n",
              "VD7mzp1rJUnSzZUBmqsBggAgGFC/n6jVA+3WoN3tu1Gg39cg2tEx1Cg3CIJHsclxnl2HRorMN8Z0\n",
              "fRW+vr7GJ36Q56Z5h9BIknzGAMJWtvdQYs0EZe3/FSwqk5tpXEMb1JoYD+n8xRdQJl/fMPEgzKhS\n",
              "L40KCD7lGzg92qIyovpb3y/msT2un2psvFpWVvYyl8vtc1nDSXFXV5c7iqLOtEyS5LNBAADfWeKm\n",
              "Ly4uuvR1++sfv51/P5sfnHm2/Iy+mBmwsaHJbpt+Q0jHSS7TZ/PSNVkNJ/973OxtemD1s91CPb12\n",
              "h9MfvZsk5meo1eqo5ORkxTNWn7HR1tY2l8PhOAsUiqIolCRJcETtv/61qzNySYK5trZ2TCgUUiwW\n",
              "S1FSUhLR+bA/kAzwXcAbHa/cFhrTXrJ/v+7IkSPu3Je4Xm5eboJv2wba5QbO5fQwxhsP679Y+nFO\n",
              "jgAAoKSkJILFYjnBGI1G0YYNGwYBnqRoiqIQlKKojurq6gUAAAKBgKQoiuGYkJWVpTCZTOKmI1Xd\n",
              "HwnDcm+cOnOMw+H0FxYWbqpvqv/r9EV+bky+O+/QoUPiqJRt9JphTLFHbKBCR87tWL9EPN9oNIZn\n",
              "ZWUpXHaMCQQCEgCgsrIyEgBuoGq1+qpOp4t2GPH5/BvFxcVLHXpgYGDD8ePH/56Xl2cCAMjMzOxP\n",
              "S0s7pWfow4RCbz/fAF9RT0+P9yeffHJySSqev+9nxLD1FaAlTR8vlJ8vxxzsFhUVLRMIBB0OvwaD\n",
              "YRlFUdfQkpISK0EQ9J6eHgYAQEZGxl2z2Rw0MjJCBwBITk5+xOVyfzpw4ECSw5lQKKQIbxtJm4EN\n",
              "8eZ7jPz0oNv+dK5FG/jq54eH+IFr/S1KabBy0UerAvI+++wzD4vFEpCWljYEACCTyVh2ux3FcXwS\n",
              "BQCw2WxVdXV1bzrQRURE1FVVVTn1zMzM/pkzZ35/9OjRd0pLS19RqVQIy4/tCwDgOcPTQvFQEQBA\n",
              "aWnpK0ERK2LbyVllN341GUJ4YDu8zD5bKyur7O+85tx9Z2fnO1ar9QjA04KkpaVFs2LFir8olcq7\n",
              "YWFhJpFINNnX16drbGyMjY6Ovg0AIBaLjcuXL5d3d3d7XbhwIW704b3F479MeD1qVfJ5Og/bvb4R\n",
              "LwaDMZabm9uwflNa/z/3HOIv5NsDEK7XS7FeevXPvYNLvm5S/GglCK5KpZorlUobXE8g5ObmMqVS\n",
              "6UG1Wu1BURSHoijOiRMnwgoLC7coFAqBo+9Fm0KhEKStmvvto3TeucFN7pVJYbytarXaQyqVHsRx\n",
              "3N15TF1BuBaljr4rV66wOzo63mAymXdzcnKuwwtIUVHRMqvVGkgQxMV7NXvyJijGvcNXB/7z5Zdf\n",
              "bicI4gSO40NTAgD4bVnuODIAT2pElUq1FEEQO4fD6QsPD++fqixHEATj8/ntjoCrqKhwS0hIsJWV\n",
              "leURBHEOx3G563pT3tn5+flBDAbjg6CgoMMpKSlK17GhoSFMJpMFPk04DJIkEQzDzCwW6+5UD5Oa\n",
              "mhrfO3fufECS5GHXnf8pAAAAHMfdURTdimGYPjExsTo0NHTyj2ynEplMxurs7HyHIAiKJMlSHMct\n",
              "U9k9N2vl5+cH0en0TRiGWX18fC65vnh+LxqNBq2oqFhgMpmi7XY7arVaj+zdu/fxn/l/4bSZl5fH\n",
              "5nK5CQAQMtXznCRJePpEbwOAZhzHX4ix/wHzzC/tu64gcwAAAABJRU5ErkJggg=='\n",
              "       style='height:15px; border-radius:12px; display: inline-block; float: left'></img>\n",
              "  \n",
              "\n",
              "\n",
              "</div>\n"
            ]
          },
          "metadata": {},
          "output_type": "display_data"
        }
      ],
      "source": [
        "import os\n",
        "import h5py\n",
        "import numpy as np\n",
        "import pandas as pd\n",
        "import geopandas as gp\n",
        "from shapely.geometry import Point\n",
        "import geoviews as gv\n",
        "from geoviews import opts, tile_sources as gvts\n",
        "import holoviews as hv\n",
        "gv.extension('bokeh', 'matplotlib')\n",
        "import shapely\n",
        "import warnings\n",
        "from shapely.errors import ShapelyDeprecationWarning\n",
        "warnings.filterwarnings(\"ignore\", category=ShapelyDeprecationWarning)\n",
        "\n",
        "os.chdir('../../')"
      ]
    },
    {
      "cell_type": "markdown",
      "metadata": {
        "id": "DS3sLrRCTah5"
      },
      "source": [
        "## 1.3 Set Up the Working Environment and Retrieve Files<a id=\"1.2\"></a>\n",
        "#### The input directory is defined as the current working directory. Note that you will need to have the Jupyter Notebook and example data (.h5 and .geojson) stored in this directory in order to execute the tutorial successfully."
      ]
    },
    {
      "cell_type": "code",
      "execution_count": null,
      "metadata": {
        "colab": {
          "base_uri": "https://localhost:8080/"
        },
        "id": "NaWeJMXpSc72",
        "outputId": "6e084273-8c1f-4a5f-e012-67722ac59334"
      },
      "outputs": [],
      "source": [
        "from google.colab import drive\n",
        "drive.mount('/content/drive')"
      ]
    },
    {
      "cell_type": "markdown",
      "metadata": {
        "id": "lHdPYeOTTah6"
      },
      "source": [
        "#### You will need to download the file in order to execute this tutorial. Make sure to download the file into the `DATA` directory you made when setting up Google Colab.\n",
        "You can use `earthaccess` package to download the data."
      ]
    },
    {
      "cell_type": "code",
      "execution_count": 5,
      "metadata": {
        "colab": {
          "base_uri": "https://localhost:8080/",
          "height": 169,
          "referenced_widgets": [
            "a1eb71fa6a674b72bbd197014d808721",
            "8bfd8d9974be4ad5850feb8a9b2ce9f0",
            "a2fa4ffae9f84cae85be7673d6056103",
            "78ec3d9fad9341e3b7d9c275b01ab8c9",
            "60b2a5f3f7e94e46ab3aa4cf58e271d1",
            "d349013a8452404c9167b7c233a079de",
            "9e636a7f0ad14187b5297ea3382a7d30",
            "317fdd3868d24fa2a93ab2a7db4eed97",
            "71a73ff116184257981be20b4eab99e0",
            "fbbb1c605d2b42f485af3e31b06457d8",
            "bada98e3f54c4dfe9385006df65711c8",
            "6e09a66c4b6b4c9395f8ccb66cbd298e",
            "80e12bd7734543bcbc6eb1539fbf1c0a",
            "65bcedc1e421475ba8241cad3bc23c42",
            "778d7d5a9cac4abe9e8787e2bc0e5460",
            "ff6ca8d019974fb7af0be610378f9a55",
            "7a91ad9b8019412bac5d1b62a221508f",
            "45d2b6b725ef4d17bd6a81c6c0f243d2",
            "d72b3a10596b4196b707bdc7396ed358",
            "0cf6b249ee5f4d6c9a46ef1fe2e54a03",
            "4c01195d1335454886b0ed4af0c97f5e",
            "9f9e0fe4b815475994baec35e470b005",
            "9bf4ef7f44f949a39c1a51ef7847df43",
            "79fe4ed4a6924eab8f06feaede94453e",
            "187e9908627e4c8c8ed679fac6cc3d2c",
            "d9da46b658a04a178f2bb308e34c8701",
            "3783bd9906c44a70872027698f8e7000",
            "9d158dbe205d414fa800152d683392b5",
            "ac8a2b09d9a34e2586f168251bf79607",
            "0071f7da2df944659c4c819ee2d80aee",
            "7f1b53f4bb674e36bdc967860efc9dee",
            "c35c6abfa4524d28b741a2121ab31c6a",
            "6fbeebbd1ddf465a80d1d3ff3e71cfcc"
          ]
        },
        "id": "pK7uzfppTah6",
        "outputId": "921322c6-fef1-4231-e4a5-ff58a0a1e1cc"
      },
      "outputs": [
        {
          "data": {
            "application/vnd.jupyter.widget-view+json": {
              "model_id": "40c145bbeac14d3d948a0270072848bf",
              "version_major": 2,
              "version_minor": 0
            },
            "text/plain": [
              "QUEUEING TASKS | :   0%|          | 0/1 [00:00<?, ?it/s]"
            ]
          },
          "metadata": {},
          "output_type": "display_data"
        },
        {
          "data": {
            "application/vnd.jupyter.widget-view+json": {
              "model_id": "db25314305e24d7d87aee56558601efa",
              "version_major": 2,
              "version_minor": 0
            },
            "text/plain": [
              "PROCESSING TASKS | :   0%|          | 0/1 [00:00<?, ?it/s]"
            ]
          },
          "metadata": {},
          "output_type": "display_data"
        },
        {
          "data": {
            "application/vnd.jupyter.widget-view+json": {
              "model_id": "b8fbdb23c7214fe3b7b0d155396e4a1f",
              "version_major": 2,
              "version_minor": 0
            },
            "text/plain": [
              "COLLECTING RESULTS | :   0%|          | 0/1 [00:00<?, ?it/s]"
            ]
          },
          "metadata": {},
          "output_type": "display_data"
        }
      ],
      "source": [
        "# !pip install earthaccess==0.8.2\n",
        "import earthaccess\n",
        "earthaccess.login(persist=True)\n",
        "results = ['https://data.lpdaac.earthdatacloud.nasa.gov/lp-prod-protected/GEDI02_B.002/GEDI02_B_2022344195102_O22626_01_T06507_02_003_01_V002/GEDI02_B_2022344195102_O22626_01_T06507_02_003_01_V002.h5']\n",
        "# download\n",
        "downloaded_files = earthaccess.download(\n",
        "    results,\n",
        "    local_path='DATA/',\n",
        ")"
      ]
    },
    {
      "cell_type": "code",
      "execution_count": 7,
      "metadata": {
        "colab": {
          "base_uri": "https://localhost:8080/"
        },
        "id": "2o-J5zDvTah6",
        "outputId": "7f6664ef-579d-4b70-c7c9-185a16e4fc04"
      },
      "outputs": [
        {
          "data": {
            "text/plain": [
              "['GEDI02_B_2022344195102_O22626_01_T06507_02_003_01_V002.h5']"
            ]
          },
          "execution_count": 7,
          "metadata": {},
          "output_type": "execute_result"
        }
      ],
      "source": [
        "gediFiles = [g for g in os.listdir('DATA/') if g.startswith('GEDI02_B') and g.endswith('.h5')]  # List all GEDI L2B .h5 files in inDir\n",
        "gediFiles"
      ]
    },
    {
      "cell_type": "markdown",
      "metadata": {
        "id": "xgxrJD_rTah6"
      },
      "source": [
        "---\n",
        "# 2. Import and Interpret Data <a id=\"importinterpret\"></a>"
      ]
    },
    {
      "cell_type": "markdown",
      "metadata": {
        "id": "zak52OkvTah6"
      },
      "source": [
        "## 2.1 Open a GEDI HDF5 File and Read File Metadata <a id=\"2.1\"></a>\n",
        "#### Read the file using `h5py`."
      ]
    },
    {
      "cell_type": "code",
      "execution_count": 8,
      "metadata": {
        "colab": {
          "base_uri": "https://localhost:8080/",
          "height": 36
        },
        "id": "X1bruP9xTah6",
        "outputId": "661885bf-b761-496d-ed49-becc70ec9695"
      },
      "outputs": [
        {
          "data": {
            "text/plain": [
              "'DATA/GEDI02_B_2022344195102_O22626_01_T06507_02_003_01_V002.h5'"
            ]
          },
          "execution_count": 8,
          "metadata": {},
          "output_type": "execute_result"
        }
      ],
      "source": [
        "L2B = f'DATA/{gediFiles[0]}'\n",
        "L2B"
      ]
    },
    {
      "cell_type": "markdown",
      "metadata": {
        "id": "KJn7TwvzTah6"
      },
      "source": [
        "#### The standard format  for GEDI Version 2 filenames is as follows:\n",
        "> **GEDI02_B**: Product Short Name    \n",
        "**2019170155833**: Julian Date and Time of Acquisition (YYYYDDDHHMMSS)  \n",
        "**O02932**: Orbit Number   \n",
        "**02**: Sub-Orbit Granule Number (1-4)  \n",
        "**T02267**: Track Number (Reference Ground Track)   \n",
        "**02**: Positioning and Pointing Determination System (PPDS) type (00 is predict, 01 rapid, 02 and higher is final)  \n",
        "**003**: PGE Version Number    \n",
        "**01**: Granule Production Version  \n",
        "**V002**: Product Version  "
      ]
    },
    {
      "cell_type": "markdown",
      "metadata": {
        "id": "WHzzQansTah6"
      },
      "source": [
        "#### Read in a GEDI HDF5 file using the `h5py` package."
      ]
    },
    {
      "cell_type": "code",
      "execution_count": 9,
      "metadata": {
        "id": "4LmHXY_9Tah6"
      },
      "outputs": [],
      "source": [
        "gediL2B = h5py.File(L2B, 'r')  # Read file using h5py"
      ]
    },
    {
      "cell_type": "markdown",
      "metadata": {
        "id": "Hh9aEsVYTah6"
      },
      "source": [
        "#### Navigate the HDF5 file below."
      ]
    },
    {
      "cell_type": "code",
      "execution_count": 10,
      "metadata": {
        "colab": {
          "base_uri": "https://localhost:8080/"
        },
        "id": "gBgbIMZSTah6",
        "outputId": "2afc8be1-0157-4022-9c5e-7106d002fae3"
      },
      "outputs": [
        {
          "data": {
            "text/plain": [
              "['BEAM0000',\n",
              " 'BEAM0001',\n",
              " 'BEAM0010',\n",
              " 'BEAM0011',\n",
              " 'BEAM0101',\n",
              " 'BEAM0110',\n",
              " 'BEAM1000',\n",
              " 'BEAM1011',\n",
              " 'METADATA']"
            ]
          },
          "execution_count": 10,
          "metadata": {},
          "output_type": "execute_result"
        }
      ],
      "source": [
        "list(gediL2B.keys())"
      ]
    },
    {
      "cell_type": "markdown",
      "metadata": {
        "id": "oBPL7-X_Tah6"
      },
      "source": [
        "#### The GEDI HDF5 file contains groups in which data and metadata are stored.\n",
        "#### First, the `METADATA` group contains the file-level metadata."
      ]
    },
    {
      "cell_type": "code",
      "execution_count": 11,
      "metadata": {
        "colab": {
          "base_uri": "https://localhost:8080/"
        },
        "id": "OrHQpF8KTah6",
        "outputId": "155efec7-a890-4655-fc27-fc680535f632"
      },
      "outputs": [
        {
          "data": {
            "text/plain": [
              "['DatasetIdentification']"
            ]
          },
          "execution_count": 11,
          "metadata": {},
          "output_type": "execute_result"
        }
      ],
      "source": [
        "list(gediL2B['METADATA'])"
      ]
    },
    {
      "cell_type": "markdown",
      "metadata": {
        "id": "50rN392cTah7"
      },
      "source": [
        "This contains useful information such as the creation date, PGEVersion, and VersionID. Below, print the file-level metadata attributes."
      ]
    },
    {
      "cell_type": "code",
      "execution_count": 12,
      "metadata": {
        "colab": {
          "base_uri": "https://localhost:8080/"
        },
        "id": "2xNCkr8UTah7",
        "outputId": "674418ec-064a-4617-abaa-20a85b02f30d"
      },
      "outputs": [
        {
          "name": "stdout",
          "output_type": "stream",
          "text": [
            "PGEVersion\n",
            "VersionID\n",
            "abstract\n",
            "characterSet\n",
            "creationDate\n",
            "credit\n",
            "fileName\n",
            "language\n",
            "originatorOrganizationName\n",
            "purpose\n",
            "shortName\n",
            "spatialRepresentationType\n",
            "status\n",
            "topicCategory\n",
            "uuid\n"
          ]
        }
      ],
      "source": [
        "for g in gediL2B['METADATA']['DatasetIdentification'].attrs:\n",
        "    print(g)"
      ]
    },
    {
      "cell_type": "code",
      "execution_count": 13,
      "metadata": {
        "colab": {
          "base_uri": "https://localhost:8080/"
        },
        "id": "t84iC9_pTah7",
        "outputId": "7d8507a8-b751-41a6-eb3c-6ced3318fad4"
      },
      "outputs": [
        {
          "name": "stdout",
          "output_type": "stream",
          "text": [
            "The purpose of the L2B dataset is to extract biophysical metrics from each GEDI waveform. These metrics are based on the directional gap probability profile derived from the L1B waveform and include canopy cover, Plant Area Index (PAI), Plant Area Volume Density (PAVD) and Foliage Height Diversity (FHD).\n"
          ]
        }
      ],
      "source": [
        "print(gediL2B['METADATA']['DatasetIdentification'].attrs['purpose'])"
      ]
    },
    {
      "cell_type": "markdown",
      "metadata": {
        "id": "T7KqtKM-Tah7"
      },
      "source": [
        "## 2.2 Read SDS Metadata and Subset by Beam <a id=\"2.2\"></a>"
      ]
    },
    {
      "cell_type": "markdown",
      "metadata": {
        "id": "BtEQSoAPTah7"
      },
      "source": [
        "####  The GEDI instrument consists of 3 lasers producing a total of 8 beam ground transects. The eight remaining groups contain data for each of the eight GEDI beam transects. For additional information, be sure to check out: https://gedi.umd.edu/instrument/specifications/."
      ]
    },
    {
      "cell_type": "code",
      "execution_count": 14,
      "metadata": {
        "colab": {
          "base_uri": "https://localhost:8080/"
        },
        "id": "5A2bxGL8Tah7",
        "outputId": "6d275e6a-8d85-4526-ac95-7228b3bdeb90"
      },
      "outputs": [
        {
          "data": {
            "text/plain": [
              "['BEAM0000',\n",
              " 'BEAM0001',\n",
              " 'BEAM0010',\n",
              " 'BEAM0011',\n",
              " 'BEAM0101',\n",
              " 'BEAM0110',\n",
              " 'BEAM1000',\n",
              " 'BEAM1011']"
            ]
          },
          "execution_count": 14,
          "metadata": {},
          "output_type": "execute_result"
        }
      ],
      "source": [
        "beamNames = [g for g in gediL2B.keys() if g.startswith('BEAM')]\n",
        "beamNames"
      ]
    },
    {
      "cell_type": "markdown",
      "metadata": {
        "id": "uXdAkD9VTah7"
      },
      "source": [
        "#### One useful piece of metadata to retrieve from each beam transect is whether it is a full power beam or a coverage beam."
      ]
    },
    {
      "cell_type": "code",
      "execution_count": 15,
      "metadata": {
        "colab": {
          "base_uri": "https://localhost:8080/"
        },
        "id": "H-0_ADtZTah7",
        "outputId": "0ffe85d9-32d3-4b83-a928-8ddf725f4b99"
      },
      "outputs": [
        {
          "name": "stdout",
          "output_type": "stream",
          "text": [
            "description\n",
            "wp-l2-l2b_githash\n",
            "wp-l2-l2b_version\n"
          ]
        }
      ],
      "source": [
        "for g in gediL2B['BEAM0000'].attrs: print(g)"
      ]
    },
    {
      "cell_type": "code",
      "execution_count": 16,
      "metadata": {
        "colab": {
          "base_uri": "https://localhost:8080/"
        },
        "id": "vFbErI-BTah7",
        "outputId": "4c0fd727-ffa1-4fcc-ce94-5d27dcc68675"
      },
      "outputs": [
        {
          "name": "stdout",
          "output_type": "stream",
          "text": [
            "BEAM0000 is a Coverage beam\n",
            "BEAM0001 is a Coverage beam\n",
            "BEAM0010 is a Coverage beam\n",
            "BEAM0011 is a Coverage beam\n",
            "BEAM0101 is a Full power beam\n",
            "BEAM0110 is a Full power beam\n",
            "BEAM1000 is a Full power beam\n",
            "BEAM1011 is a Full power beam\n"
          ]
        }
      ],
      "source": [
        "for b in beamNames:\n",
        "    print(f\"{b} is a {gediL2B[b].attrs['description']}\")"
      ]
    },
    {
      "cell_type": "markdown",
      "metadata": {
        "id": "nFwyArPzTah7"
      },
      "source": [
        "#### Below, pick one of the full power beams that will be used to retrieve GEDI L2B shots in Section 3."
      ]
    },
    {
      "cell_type": "code",
      "execution_count": 17,
      "metadata": {
        "id": "E47dmbFpTah7"
      },
      "outputs": [],
      "source": [
        "beamNames = ['BEAM1000']"
      ]
    },
    {
      "cell_type": "markdown",
      "metadata": {
        "id": "U8YRhdGNTah7"
      },
      "source": [
        "#### Identify all the objects in the GEDI HDF5 file below.\n",
        "Note: This step may take a while to complete."
      ]
    },
    {
      "cell_type": "code",
      "execution_count": 18,
      "metadata": {
        "colab": {
          "base_uri": "https://localhost:8080/"
        },
        "id": "uBP4vSmWTah7",
        "outputId": "56b26463-85f0-47e3-b5d1-429d63d80f7f"
      },
      "outputs": [
        {
          "data": {
            "text/plain": [
              "['BEAM1000/algorithmrun_flag',\n",
              " 'BEAM1000/ancillary/dz',\n",
              " 'BEAM1000/ancillary/l2a_alg_count',\n",
              " 'BEAM1000/ancillary/maxheight_cuttoff',\n",
              " 'BEAM1000/ancillary/rg_eg_constraint_center_buffer',\n",
              " 'BEAM1000/ancillary/rg_eg_mpfit_max_func_evals',\n",
              " 'BEAM1000/ancillary/rg_eg_mpfit_maxiters',\n",
              " 'BEAM1000/ancillary/rg_eg_mpfit_tolerance',\n",
              " 'BEAM1000/ancillary/signal_search_buff',\n",
              " 'BEAM1000/ancillary/tx_noise_stddev_multiplier']"
            ]
          },
          "execution_count": 18,
          "metadata": {},
          "output_type": "execute_result"
        }
      ],
      "source": [
        "gediL2B_objs = []\n",
        "gediL2B.visit(gediL2B_objs.append)                                           # Retrieve list of datasets\n",
        "gediSDS = [o for o in gediL2B_objs if isinstance(gediL2B[o], h5py.Dataset)]  # Search for relevant SDS inside data file\n",
        "[i for i in gediSDS if beamNames[0] in i][:10]                               # Print the first 10 datasets for selected beam"
      ]
    },
    {
      "cell_type": "markdown",
      "metadata": {
        "id": "iHIvJWyWTah7"
      },
      "source": [
        "---\n",
        "# 3. Visualize a GEDI Orbit <a id=\"visualizeorbit\"></a>\n",
        "#### In the section below, import GEDI L2B SDS layers into a `GeoPandas` GeoDataFrame for the beam specified above.\n",
        "#### Use the `lat_lowestmode` and `lon_lowestmode` to create a `shapely` point for each GEDI shot location."
      ]
    },
    {
      "cell_type": "markdown",
      "metadata": {
        "id": "yPwYeQ-mTah7"
      },
      "source": [
        "## 3.1 Subset by Layer and Create a Geodataframe <a id=\"3.1\"></a>"
      ]
    },
    {
      "cell_type": "markdown",
      "metadata": {
        "id": "Daj9ZGGkTah7"
      },
      "source": [
        "#### Read in the SDS and take a representative sample (every 100th shot) and append to lists, then use the lists to generate a `pandas` dataframe."
      ]
    },
    {
      "cell_type": "code",
      "execution_count": 19,
      "metadata": {
        "colab": {
          "base_uri": "https://localhost:8080/",
          "height": 423
        },
        "id": "Va6O3DHETah7",
        "outputId": "0618b783-df45-4a02-b062-62daaf0c0d5e"
      },
      "outputs": [
        {
          "data": {
            "text/html": [
              "<div>\n",
              "<style scoped>\n",
              "    .dataframe tbody tr th:only-of-type {\n",
              "        vertical-align: middle;\n",
              "    }\n",
              "\n",
              "    .dataframe tbody tr th {\n",
              "        vertical-align: top;\n",
              "    }\n",
              "\n",
              "    .dataframe thead th {\n",
              "        text-align: right;\n",
              "    }\n",
              "</style>\n",
              "<table border=\"1\" class=\"dataframe\">\n",
              "  <thead>\n",
              "    <tr style=\"text-align: right;\">\n",
              "      <th></th>\n",
              "      <th>Beam</th>\n",
              "      <th>Shot Number</th>\n",
              "      <th>Longitude</th>\n",
              "      <th>Latitude</th>\n",
              "      <th>Quality Flag</th>\n",
              "    </tr>\n",
              "  </thead>\n",
              "  <tbody>\n",
              "    <tr>\n",
              "      <th>0</th>\n",
              "      <td>BEAM1000</td>\n",
              "      <td>226260800100000001</td>\n",
              "      <td>113.471193</td>\n",
              "      <td>-43.811102</td>\n",
              "      <td>0</td>\n",
              "    </tr>\n",
              "    <tr>\n",
              "      <th>1</th>\n",
              "      <td>BEAM1000</td>\n",
              "      <td>226260800100000101</td>\n",
              "      <td>113.502161</td>\n",
              "      <td>-43.796849</td>\n",
              "      <td>0</td>\n",
              "    </tr>\n",
              "    <tr>\n",
              "      <th>2</th>\n",
              "      <td>BEAM1000</td>\n",
              "      <td>226260800100000201</td>\n",
              "      <td>113.533147</td>\n",
              "      <td>-43.782566</td>\n",
              "      <td>0</td>\n",
              "    </tr>\n",
              "    <tr>\n",
              "      <th>3</th>\n",
              "      <td>BEAM1000</td>\n",
              "      <td>226260800100000301</td>\n",
              "      <td>113.562902</td>\n",
              "      <td>-43.768843</td>\n",
              "      <td>0</td>\n",
              "    </tr>\n",
              "    <tr>\n",
              "      <th>4</th>\n",
              "      <td>BEAM1000</td>\n",
              "      <td>226260800100000401</td>\n",
              "      <td>113.592688</td>\n",
              "      <td>-43.755102</td>\n",
              "      <td>0</td>\n",
              "    </tr>\n",
              "    <tr>\n",
              "      <th>...</th>\n",
              "      <td>...</td>\n",
              "      <td>...</td>\n",
              "      <td>...</td>\n",
              "      <td>...</td>\n",
              "      <td>...</td>\n",
              "    </tr>\n",
              "    <tr>\n",
              "      <th>1059</th>\n",
              "      <td>BEAM1000</td>\n",
              "      <td>226260800100105901</td>\n",
              "      <td>155.480450</td>\n",
              "      <td>-4.202643</td>\n",
              "      <td>0</td>\n",
              "    </tr>\n",
              "    <tr>\n",
              "      <th>1060</th>\n",
              "      <td>BEAM1000</td>\n",
              "      <td>226260800100106001</td>\n",
              "      <td>155.493912</td>\n",
              "      <td>-4.184152</td>\n",
              "      <td>0</td>\n",
              "    </tr>\n",
              "    <tr>\n",
              "      <th>1061</th>\n",
              "      <td>BEAM1000</td>\n",
              "      <td>226260800100106101</td>\n",
              "      <td>155.510008</td>\n",
              "      <td>-4.161068</td>\n",
              "      <td>0</td>\n",
              "    </tr>\n",
              "    <tr>\n",
              "      <th>1062</th>\n",
              "      <td>BEAM1000</td>\n",
              "      <td>226260800100106201</td>\n",
              "      <td>155.524909</td>\n",
              "      <td>-4.140045</td>\n",
              "      <td>0</td>\n",
              "    </tr>\n",
              "    <tr>\n",
              "      <th>1063</th>\n",
              "      <td>BEAM1000</td>\n",
              "      <td>226260800100106301</td>\n",
              "      <td>155.539451</td>\n",
              "      <td>-4.119809</td>\n",
              "      <td>0</td>\n",
              "    </tr>\n",
              "  </tbody>\n",
              "</table>\n",
              "<p>1064 rows × 5 columns</p>\n",
              "</div>"
            ],
            "text/plain": [
              "          Beam         Shot Number   Longitude   Latitude  Quality Flag\n",
              "0     BEAM1000  226260800100000001  113.471193 -43.811102             0\n",
              "1     BEAM1000  226260800100000101  113.502161 -43.796849             0\n",
              "2     BEAM1000  226260800100000201  113.533147 -43.782566             0\n",
              "3     BEAM1000  226260800100000301  113.562902 -43.768843             0\n",
              "4     BEAM1000  226260800100000401  113.592688 -43.755102             0\n",
              "...        ...                 ...         ...        ...           ...\n",
              "1059  BEAM1000  226260800100105901  155.480450  -4.202643             0\n",
              "1060  BEAM1000  226260800100106001  155.493912  -4.184152             0\n",
              "1061  BEAM1000  226260800100106101  155.510008  -4.161068             0\n",
              "1062  BEAM1000  226260800100106201  155.524909  -4.140045             0\n",
              "1063  BEAM1000  226260800100106301  155.539451  -4.119809             0\n",
              "\n",
              "[1064 rows x 5 columns]"
            ]
          },
          "execution_count": 19,
          "metadata": {},
          "output_type": "execute_result"
        }
      ],
      "source": [
        "lonSample, latSample, shotSample, qualitySample, beamSample = [], [], [], [], []  # Set up lists to store data\n",
        "\n",
        "# Open the SDS\n",
        "lats = gediL2B[f'{beamNames[0]}/geolocation/lat_lowestmode'][()]\n",
        "lons = gediL2B[f'{beamNames[0]}/geolocation/lon_lowestmode'][()]\n",
        "shots = gediL2B[f'{beamNames[0]}/geolocation/shot_number'][()]\n",
        "quality = gediL2B[f'{beamNames[0]}/l2b_quality_flag'][()]\n",
        "\n",
        "# Take every 100th shot and append to list\n",
        "for i in range(len(shots)):\n",
        "    if i % 100 == 0:\n",
        "        shotSample.append(str(shots[i]))\n",
        "        lonSample.append(lons[i])\n",
        "        latSample.append(lats[i])\n",
        "        qualitySample.append(quality[i])\n",
        "        beamSample.append(beamNames[0])\n",
        "\n",
        "# Write all of the sample shots to a dataframe\n",
        "latslons = pd.DataFrame({'Beam': beamSample, 'Shot Number': shotSample, 'Longitude': lonSample, 'Latitude': latSample,\n",
        "                         'Quality Flag': qualitySample})\n",
        "latslons"
      ]
    },
    {
      "cell_type": "markdown",
      "metadata": {
        "id": "gtNOw8DzTah8"
      },
      "source": [
        "#### Above is a dataframe containing columns describing the beam, shot number, lat/lon location, and quality information about each shot."
      ]
    },
    {
      "cell_type": "markdown",
      "metadata": {
        "id": "oljlWyAqTah8"
      },
      "source": [
        "#### Below, create an additional column called 'geometry' that contains a `shapely` point generated from each lat/lon location from the shot."
      ]
    },
    {
      "cell_type": "code",
      "execution_count": 20,
      "metadata": {
        "id": "beIyZ1IfTaiC"
      },
      "outputs": [],
      "source": [
        "# Take the lat/lon dataframe and convert each lat/lon to a shapely point\n",
        "latslons['geometry'] = latslons.apply(lambda row: Point(row.Longitude, row.Latitude), axis=1)"
      ]
    },
    {
      "cell_type": "markdown",
      "metadata": {
        "id": "eip-OdiXTaiC"
      },
      "source": [
        "#### Next, convert to a `Geopandas` GeoDataFrame."
      ]
    },
    {
      "cell_type": "code",
      "execution_count": 21,
      "metadata": {
        "colab": {
          "base_uri": "https://localhost:8080/",
          "height": 458
        },
        "id": "kPJdIVDwTaiC",
        "outputId": "e025fcdd-2e28-4900-c750-1d54ae35aa99"
      },
      "outputs": [
        {
          "data": {
            "text/plain": [
              "0        POINT (113.47119 -43.8111)\n",
              "1       POINT (113.50216 -43.79685)\n",
              "2       POINT (113.53315 -43.78257)\n",
              "3        POINT (113.5629 -43.76884)\n",
              "4        POINT (113.59269 -43.7551)\n",
              "                   ...             \n",
              "1059     POINT (155.48045 -4.20264)\n",
              "1060     POINT (155.49391 -4.18415)\n",
              "1061     POINT (155.51001 -4.16107)\n",
              "1062     POINT (155.52491 -4.14005)\n",
              "1063     POINT (155.53945 -4.11981)\n",
              "Name: geometry, Length: 1064, dtype: geometry"
            ]
          },
          "execution_count": 21,
          "metadata": {},
          "output_type": "execute_result"
        }
      ],
      "source": [
        "# Convert to a Geodataframe\n",
        "latslons = gp.GeoDataFrame(latslons)\n",
        "latslons = latslons.drop(columns=['Latitude','Longitude'])\n",
        "latslons['geometry']"
      ]
    },
    {
      "cell_type": "markdown",
      "metadata": {
        "id": "kWLWO7o3TaiC"
      },
      "source": [
        "#### Pull out and plot an example `shapely` point below."
      ]
    },
    {
      "cell_type": "code",
      "execution_count": 22,
      "metadata": {
        "colab": {
          "base_uri": "https://localhost:8080/",
          "height": 121
        },
        "id": "HrEpkVErTaiC",
        "outputId": "c963776e-a997-4168-de88-374c9c2dc304",
        "scrolled": true
      },
      "outputs": [
        {
          "data": {
            "image/svg+xml": [
              "<svg xmlns=\"http://www.w3.org/2000/svg\" xmlns:xlink=\"http://www.w3.org/1999/xlink\" width=\"100.0\" height=\"100.0\" viewBox=\"112.47119252332631 -44.81110228239022 2.0 2.0\" preserveAspectRatio=\"xMinYMin meet\"><g transform=\"matrix(1,0,0,-1,0,-87.62220456478045)\"><circle cx=\"113.47119252332631\" cy=\"-43.81110228239022\" r=\"0.06\" stroke=\"#555555\" stroke-width=\"0.02\" fill=\"#66cc99\" opacity=\"0.6\" /></g></svg>"
            ],
            "text/plain": [
              "<POINT (113.471 -43.811)>"
            ]
          },
          "execution_count": 22,
          "metadata": {},
          "output_type": "execute_result"
        }
      ],
      "source": [
        "latslons['geometry'][0]"
      ]
    },
    {
      "cell_type": "markdown",
      "metadata": {
        "id": "6OMbsS-cTaiC"
      },
      "source": [
        "## 3.2 Visualize a GeoDataFrame <a id=\"3.2\"></a>\n",
        "#### In this section, use the GeoDataFrame of Queensland and the QPRP plots, and use the `leafmap` python package to spatially visualize the location of the GEDI shots on a basemap."
      ]
    },
    {
      "cell_type": "markdown",
      "metadata": {
        "id": "8VyTcJABTaiC"
      },
      "source": [
        "#### Import a GeoJSON of Queensland and the QPRP plots as a GeoDataFrame. Note that you will need to have downloaded the folder with DATA to your Google Drive."
      ]
    },
    {
      "cell_type": "code",
      "execution_count": null,
      "metadata": {
        "colab": {
          "base_uri": "https://localhost:8080/"
        },
        "id": "lcWqZ2GGTaiC",
        "outputId": "e86b9048-a061-4655-c835-8313bc1f3dd6"
      },
      "outputs": [],
      "source": [
        "import geopandas as gpd\n",
        "plots = '/DATA/plots.shp'\n",
        "plots_gdf = gpd.read_file(plots, encoding='ISO-8859-1')\n",
        "QLD = gpd.read_file('DATA/QLD.geojson') "
      ]
    },
    {
      "cell_type": "code",
      "execution_count": 25,
      "metadata": {},
      "outputs": [
        {
          "data": {
            "text/plain": [
              "array([143.931885, -18.802318, 146.942139, -15.485445])"
            ]
          },
          "execution_count": 25,
          "metadata": {},
          "output_type": "execute_result"
        }
      ],
      "source": [
        "#make a bbox to zoom center on\n",
        "bbox = QLD.total_bounds\n",
        "bbox"
      ]
    },
    {
      "cell_type": "markdown",
      "metadata": {},
      "source": [
        "Now we make a simple interactive map using `leafmap` that shows Queensland and the QPRP plots."
      ]
    },
    {
      "cell_type": "code",
      "execution_count": 27,
      "metadata": {
        "colab": {
          "base_uri": "https://localhost:8080/",
          "height": 621,
          "referenced_widgets": [
            "9adc10ac8ade41a7bd462b03d5d41454",
            "11850d8be0f041f1beeeb61db3b5223e",
            "ec0b65fd11074168a71390ac0d5b2da8",
            "99b32bd1edc844fa86cf645de9364fc8",
            "0d2bfbe36279441fb03a4f8e469adc01",
            "6eef7d85f71a4713b9ae7461cf1f5ba8",
            "bcd04a0dd0ad4393818f7c669785640b",
            "9602cb5b4b874046b7b6688d343f8bb9",
            "8ac4207784fd415f8b252aacd0e8c56b",
            "a9ba411fa65f4b0da6d15f7c177b6e8d",
            "0b1c19f1038e4027bd254bbdfbca294e",
            "c276dc396d564c3eafada0786e5cbbf2",
            "62bc8f8e4a2d4747b08acfa975f452ea",
            "41d415be139a471b8a8f1cd6b1593e1e",
            "7fade1f3d2134d04a60be2cc92298715",
            "179472626e1249b0bf4d6a6f1f9492cf",
            "38f354c7e74e4652b7253ea8a8022303",
            "2e65f9c12c074642a332a35790101170",
            "3f5f103286664bb0abd1dd58d21daa2a",
            "fa1ac8916329421e8ee8d740af44dd4b",
            "5acd2b0be569433e9bab6bd84d6339b2",
            "791ceb6f42e54dc782a221dde1093516",
            "fb2af16a864d4ccc9e0ee0d85d7e5cba",
            "f76eb9c49f2c4232844c5e8c1d68767e",
            "d68cb7f3d5394ef8a5332d637244ea44",
            "2bf96751cd414c279579129d49e77292",
            "3ecfe426086b4a7989ef7bd9ba20f034",
            "0fdef225fff14c4cb3524639a82f4e98",
            "4d7d50b12ba740d7903f8665ac7b5cda",
            "2b860256902b418c89293b65aef00a0e",
            "804bc8f4e64c4f1eb59734d834d3a274",
            "220ca28f6df94662a2b2b000b5ab134d",
            "a9b8581b70cd4642b4228da352098daf",
            "0bd12d10a6124312a84ab3d901ae846e",
            "b5ec80ad2410471884b049cf7caad06c",
            "5af5b68c26b343af81b72ac32d3164d3",
            "eb89c6a7c6454082b714460a96ed4637",
            "5ec5579c8b1642aaabe7afa42cc8b00f",
            "28dab910aedb43f2ad247caac14611ff",
            "64c67aec06254626963ea72f3d55472a",
            "37a3e4a02bd049dd92275fe0e83a4e42",
            "688b2f68de9b49ed90ddc144f960e45f",
            "edcba03eb2d6489fa5d5f3e44f9a2096",
            "cbcefad099f94d1790e4cab1c0d073dc",
            "d595ff69f67045fd9f8f42c5b2fcf378",
            "1e887fdde4694c5fb5ad2039b5fdf345",
            "dba8320895d547cea0609aa53a47c23d",
            "9bd1a2aafb304c35850641d6762fde09",
            "0e9261dfaccb4e63b1d5ccf56501fc01",
            "26a38b9a7d1f4b478bb8149d0675806c",
            "8285e105dae14921aa457ccfdc37aca8",
            "1802764f4fa443758934a818ca6ef284",
            "2abf3d88054843bb9e1a263536d59edc"
          ]
        },
        "id": "KBdwtw17TaiD",
        "outputId": "e6dc8059-7907-41ef-a1be-83dd35f0e627"
      },
      "outputs": [
        {
          "data": {
            "application/vnd.jupyter.widget-view+json": {
              "model_id": "551bfce546fd47cbb4fd4b3820de22d7",
              "version_major": 2,
              "version_minor": 0
            },
            "text/plain": [
              "Map(center=[20, 0], controls=(ZoomControl(options=['position', 'zoom_in_text', 'zoom_in_title', 'zoom_out_text…"
            ]
          },
          "execution_count": 27,
          "metadata": {},
          "output_type": "execute_result"
        }
      ],
      "source": [
        "import leafmap\n",
        "m = leafmap.Map()\n",
        "m.zoom_to_bounds(bbox)\n",
        "m.add_basemap('HYBRID')\n",
        "m.add_gdf(QLD, layer_name=\"QPRP-CSIRO\", style={'fillColor': 'yellow', 'color': 'yellow', 'fillOpacity': 0.5})\n",
        "m.add_markers(plots_gdf, shape=\"circle\", radius=4, color=\"blue\", fill_color=\"blue\", popup=[\"plot_name\"])\n",
        "m"
      ]
    },
    {
      "cell_type": "markdown",
      "metadata": {},
      "source": [
        "Congrats, you made your first map.\n",
        "\n",
        "Next, let's make a new map that also adds all the GEDI shots."
      ]
    },
    {
      "cell_type": "code",
      "execution_count": 28,
      "metadata": {
        "colab": {
          "base_uri": "https://localhost:8080/",
          "height": 478,
          "referenced_widgets": [
            "cadc8a8fe97e4a92a8837450c7005461",
            "08229369f52448178dfd6b542a51f9cb",
            "144e1aaedd754e03b54b0d1b4ba7ecfd",
            "411979b03a3f4078bc6efca2f534087e",
            "b67398bbfb574b44b908ba417e0521c5",
            "a1a97892427049c88f5c4ec058b60d11",
            "8dd095e2e77141409dd6da2671ddc378",
            "57f826ff1d394dccb206426876a87574",
            "6f794fbb5aa64fdb9a47ef93aecb8334",
            "1d5c6ed59b1c42cb98ebd4a748a4473e",
            "8ab67e376c85484f949c6073c9797e39",
            "3a383514f8c04a7a8309c1f0e1823c2e",
            "c4ad2609bdd44210b36647d1f34a530c",
            "f33fa56056f842dab938bd68ddbb5332",
            "69917da2adfe409483eb22e82068ff80",
            "1622619b517040dd9282317fd425976c",
            "d0373f8b0f4d49b194d091dcdc09fa99",
            "3c618d0cfd6d464f86f9188c262f0b87",
            "4fe7fbdbf2534629bece5711486e8724",
            "359ac21f615346ba9cd351bdaeb6bbda"
          ]
        },
        "id": "ZGgu7oaCTaiD",
        "outputId": "9d8608a4-d509-456d-c5c5-33d19731af88"
      },
      "outputs": [
        {
          "data": {
            "application/vnd.jupyter.widget-view+json": {
              "model_id": "95d4c49dedf74d24ad0c4633df0015e7",
              "version_major": 2,
              "version_minor": 0
            },
            "text/plain": [
              "Map(center=[20, 0], controls=(ZoomControl(options=['position', 'zoom_in_text', 'zoom_in_title', 'zoom_out_text…"
            ]
          },
          "execution_count": 28,
          "metadata": {},
          "output_type": "execute_result"
        }
      ],
      "source": [
        "m = leafmap.Map()\n",
        "m.zoom_to_bounds(bbox)\n",
        "m.add_basemap('HYBRID')\n",
        "m.add_gdf(QLD, layer_name=\"QPRP-CSIRO\", style={'fillColor': 'yellow', 'color': 'yellow', 'fillOpacity': 0.5})\n",
        "m.add_markers(latslons, shape=\"circle\", radius=2, color=\"red\", fill_color=\"red\", popup=[\"geometry\", \"Beam\", \"Shot Number\", \"Quality Flag\"])\n",
        "m.add_markers(plots_gdf, shape=\"circle\", radius=4, color=\"blue\", fill_color=\"blue\", popup=[\"plot_name\"])\n",
        "m"
      ]
    },
    {
      "cell_type": "markdown",
      "metadata": {
        "id": "WWjh88Y5TaiD"
      },
      "source": [
        "Above is a good illustration of the new GEDI _Version 2_ sub-orbit granules (remember that GEDI _Version 1_  files are stored as one ISS orbit). One of the benefits of using \t`leafmap` is the interactive nature of the output maps. Use the tools in the upper right of the map and try zooming in to find interesting shots close to QPRP plots."
      ]
    },
    {
      "cell_type": "markdown",
      "metadata": {
        "id": "ZLtzPYsoTaiD"
      },
      "source": [
        "Side Note: Wondering what the 0's and 1's for `l2b_quality_flag` mean?"
      ]
    },
    {
      "cell_type": "code",
      "execution_count": 29,
      "metadata": {
        "id": "QMswBC9PTaiD"
      },
      "outputs": [
        {
          "name": "stdout",
          "output_type": "stream",
          "text": [
            "Quality Flag: Flag simpilfying selection of most useful data for Level 2B\n"
          ]
        }
      ],
      "source": [
        "print(f\"Quality Flag: {gediL2B[b]['l2b_quality_flag'].attrs['description']}\")"
      ]
    },
    {
      "cell_type": "markdown",
      "metadata": {
        "id": "000Nn5pKTaiD"
      },
      "source": [
        "Above, 0 is poor quality and a quality_flag value of 1 indicates the laser shot meets criteria based on energy, sensitivity, amplitude, and real-time surface tracking quality. We will show an example of how to quality filter GEDI data in section 5.1.\n",
        "After finding one of the shots close to a QPRP plot and with a quality index of 1, find the index for that shot number so that we can find the correct shot to visualize in Section 4."
      ]
    },
    {
      "cell_type": "markdown",
      "metadata": {
        "id": "Xpr1upiPTaiD"
      },
      "source": [
        "#### Each GEDI shot has a unique shot identifier (shot number) that is available within each data group of the product. The shot number is important to retain in any data subsetting as it will allow the user to link any shot record back to the original orbit data, and to link any shot and its data between the L1 and L2 products. The standard format  for GEDI Shots is as follows:"
      ]
    },
    {
      "cell_type": "markdown",
      "metadata": {
        "id": "8xi5b4YTTaiE"
      },
      "source": [
        "### Shot: 29320600200465601\n",
        "> **2932**: Orbit Number      \n",
        "**06**: Beam Number    \n",
        "**0**: Reserved for future use     \n",
        "**02**: Sub-orbit Granule Number    \n",
        "**004**: Minor frame number   \n",
        "**65601**: Shot index  "
      ]
    },
    {
      "cell_type": "markdown",
      "metadata": {
        "id": "KQdmQKBPTaiE"
      },
      "source": [
        "---\n",
        "# 4. Work with GEDI L2B Data <a id=\"L2B\"></a>\n",
        "#### The L2B product contains biophysical information derived from the geolocated GEDI return waveforms including total and vertical profiles of canopy cover and Plant Area Index (PAI), the vertical Plant Area Volume Density (PAVD) profile, and Foliage Height Diversity (FHD).\n",
        "Detailed product information can be found on the [GEDI L2B Product Page](https://doi.org/10.5067/GEDI/GEDI02_B.002)."
      ]
    },
    {
      "cell_type": "markdown",
      "metadata": {
        "id": "mEJsLNzTTaiE"
      },
      "source": [
        "## 4.1 Import and Extract Specific Shots\n",
        "Notice that there are over a thousand datasets available in the GEDI L2B product. In the code blocks below, you will subset to just a few of the datasets available.\n",
        "\n",
        "This section teaches how to extract and subset specific shots and plot Plant Area Volume Density (PAVD) using `matplotlib`.\n",
        "`matplotlib` is a comprehensive library for creating static, animated, and interactive visualizations in Python, \n",
        "making it a valuable tool for data analysis and visualization."
      ]
    },
    {
      "cell_type": "code",
      "execution_count": 30,
      "metadata": {
        "id": "BxqWL3HsTaiE"
      },
      "outputs": [
        {
          "data": {
            "text/plain": [
              "1576"
            ]
          },
          "execution_count": 30,
          "metadata": {},
          "output_type": "execute_result"
        }
      ],
      "source": [
        "len(gediSDS)"
      ]
    },
    {
      "cell_type": "code",
      "execution_count": 31,
      "metadata": {
        "id": "x1_8dakJTaiE"
      },
      "outputs": [
        {
          "data": {
            "text/plain": [
              "['BEAM1000']"
            ]
          },
          "execution_count": 31,
          "metadata": {},
          "output_type": "execute_result"
        }
      ],
      "source": [
        "beamNames"
      ]
    },
    {
      "cell_type": "code",
      "execution_count": 32,
      "metadata": {
        "id": "ltAZaEk9TaiE"
      },
      "outputs": [
        {
          "data": {
            "text/plain": [
              "197"
            ]
          },
          "execution_count": 32,
          "metadata": {},
          "output_type": "execute_result"
        }
      ],
      "source": [
        "beamSDS = [g for g in gediSDS if beamNames[0] in g]  # Subset to a single beam\n",
        "len(beamSDS)"
      ]
    },
    {
      "cell_type": "markdown",
      "metadata": {
        "id": "J4AUUlpRTaiE"
      },
      "source": [
        "We will set 2 shot indeces as an example. These shotindeces will work for all the following code. Feel free to set it to different shots, however take into account that it is not guaranteed that everything will work."
      ]
    },
    {
      "cell_type": "code",
      "execution_count": 33,
      "metadata": {
        "id": "LCy4koHcTaiE"
      },
      "outputs": [],
      "source": [
        "shot1 = 226260800100073901\n",
        "shot2 = 226260800100073601"
      ]
    },
    {
      "cell_type": "code",
      "execution_count": 34,
      "metadata": {
        "id": "5G-VOW3QTaiE"
      },
      "outputs": [
        {
          "data": {
            "text/plain": [
              "73900"
            ]
          },
          "execution_count": 34,
          "metadata": {},
          "output_type": "execute_result"
        }
      ],
      "source": [
        "index1 = np.where(gediL2B[f'{beamNames[0]}/shot_number'][()]==shot1)[0][0]  # Set the index for the first shot identified above\n",
        "index1"
      ]
    },
    {
      "cell_type": "code",
      "execution_count": 35,
      "metadata": {},
      "outputs": [
        {
          "data": {
            "text/plain": [
              "73600"
            ]
          },
          "execution_count": 35,
          "metadata": {},
          "output_type": "execute_result"
        }
      ],
      "source": [
        "index2 = np.where(gediL2B[f'{beamNames[0]}/shot_number'][()]==shot2)[0][0]  # Set the index for the second shot identified above\n",
        "index2"
      ]
    },
    {
      "cell_type": "markdown",
      "metadata": {
        "id": "lb8lhUoLTaiE"
      },
      "source": [
        "## 4.2 Visualize PAVD\n",
        "Now we import the PAVD metrics (`pavd_z`) and begin exploring how to plot them."
      ]
    },
    {
      "cell_type": "code",
      "execution_count": 36,
      "metadata": {
        "id": "e3RTT5xvTaiE"
      },
      "outputs": [],
      "source": [
        "pavd = gediL2B[[g for g in beamSDS if g.endswith('/pavd_z')][0]]  # PAVD"
      ]
    },
    {
      "cell_type": "markdown",
      "metadata": {
        "id": "Y6oVcCoETaiE"
      },
      "source": [
        "Print the description for the PAVD dataset."
      ]
    },
    {
      "cell_type": "code",
      "execution_count": 37,
      "metadata": {
        "id": "_Zza41NbTaiE"
      },
      "outputs": [
        {
          "name": "stdout",
          "output_type": "stream",
          "text": [
            "Plant Area Volume Density is Vertical Plant Area Volume Density profile with a vertical step size of dZ\n"
          ]
        }
      ],
      "source": [
        "print(f\"Plant Area Volume Density is {pavd.attrs['description']}\")"
      ]
    },
    {
      "cell_type": "markdown",
      "metadata": {
        "id": "4Pre6EdsTaiE"
      },
      "source": [
        "Below, open the `dz` layer in order to define the correct vertical step size."
      ]
    },
    {
      "cell_type": "code",
      "execution_count": 38,
      "metadata": {
        "id": "I0SUFyKvTaiE"
      },
      "outputs": [
        {
          "data": {
            "text/plain": [
              "5.0"
            ]
          },
          "execution_count": 38,
          "metadata": {},
          "output_type": "execute_result"
        }
      ],
      "source": [
        "# Grab vertical step size\n",
        "dz = gediL2B[f'{beamNames[0]}/ancillary/dz'][0]\n",
        "dz"
      ]
    },
    {
      "cell_type": "markdown",
      "metadata": {
        "id": "Z58MwaniTaiE"
      },
      "source": [
        "So the vertical step size is 5.0 meters."
      ]
    },
    {
      "cell_type": "code",
      "execution_count": 39,
      "metadata": {
        "id": "1SYiISikTaiE"
      },
      "outputs": [
        {
          "name": "stdout",
          "output_type": "stream",
          "text": [
            "The shape of PAVD is (106306, 30).\n"
          ]
        }
      ],
      "source": [
        "print(f\"The shape of PAVD is {pavd.shape}.\")"
      ]
    },
    {
      "cell_type": "markdown",
      "metadata": {
        "id": "4F03BIpQTaiE"
      },
      "source": [
        "And it looks like PAVD includes 30 \"steps\" in each shot, describing the PAVD at height = step # * `dz`.\n",
        "\n",
        "Now, bring in other useful L2B datasets such as `elev_lowestmode`, `lat_lowestmode` and `lon_lowestmode`."
      ]
    },
    {
      "cell_type": "code",
      "execution_count": 40,
      "metadata": {
        "id": "1fMmFBM8TaiF"
      },
      "outputs": [],
      "source": [
        "# Bring in the desired SDS\n",
        "elev = gediL2B[f'{beamNames[0]}/geolocation/elev_lowestmode'][()]  # Latitude\n",
        "lats = gediL2B[f'{beamNames[0]}/geolocation/lat_lowestmode'][()]  # Latitude\n",
        "lons = gediL2B[f'{beamNames[0]}/geolocation/lon_lowestmode'][()]  # Longitude"
      ]
    },
    {
      "cell_type": "markdown",
      "metadata": {
        "id": "3v54dLOVTaiF"
      },
      "source": [
        "Grab the location, elevation, and PAVD metrics for the shots defined above:"
      ]
    },
    {
      "cell_type": "code",
      "execution_count": 41,
      "metadata": {
        "id": "gHL9KydETaiF"
      },
      "outputs": [],
      "source": [
        "shotElev1 = elev[index1]\n",
        "shotLat1 = lats[index1]\n",
        "shotLon1 = lons[index1]\n",
        "shotPAVD1 = pavd[index1]\n",
        "\n",
        "#now for shot 2\n",
        "shotElev2 = elev[index2]    \n",
        "shotLat2 = lats[index2]\n",
        "shotLon2 = lons[index2]\n",
        "shotPAVD2 = pavd[index2]"
      ]
    },
    {
      "cell_type": "markdown",
      "metadata": {
        "id": "TI9nM34yTaiF"
      },
      "source": [
        "Put everything together to identify the shots that we want to extract:"
      ]
    },
    {
      "cell_type": "code",
      "execution_count": 42,
      "metadata": {
        "id": "yiXP5KH7TaiF"
      },
      "outputs": [
        {
          "name": "stdout",
          "output_type": "stream",
          "text": [
            "The first shot is located at: -17.439383887594833, 145.59592035601435 (shot ID: 226260800100073901, index 73900) and is from BEAM1000.\n",
            "The second shot is located at: -17.5617925541215, 145.49698939422302 (shot ID: 226260800100073601, index 73600) and is from BEAM1000.\n"
          ]
        }
      ],
      "source": [
        "print(f\"The first shot is located at: {str(shotLat1)}, {str(shotLon1)} (shot ID: {shot1}, index {index1}) and is from {beamNames[0]}.\")\n",
        "print(f\"The second shot is located at: {str(shotLat2)}, {str(shotLon2)} (shot ID: {shot2}, index {index2}) and is from {beamNames[0]}.\")"
      ]
    },
    {
      "cell_type": "markdown",
      "metadata": {
        "id": "eD_G0LEgTaiF"
      },
      "source": [
        "Next, reformat PAVD into a list of tuples containing each PAVD value and height."
      ]
    },
    {
      "cell_type": "code",
      "execution_count": 43,
      "metadata": {
        "id": "azaawJRHTaiF"
      },
      "outputs": [],
      "source": [
        "# Append the first shot to the list\n",
        "pavdAll1 = []\n",
        "pavdElev1 = []\n",
        "\n",
        "for i, e in enumerate(range(len(shotPAVD1))):\n",
        "    if shotPAVD1[i] > 0:\n",
        "        pavdElev1.append((shot1, shotElev1 + dz * i, shotPAVD1[i]))  # Append tuple of shot number, elevation, and PAVD\n",
        "pavdAll1.append(pavdElev1)                                         # Append to final list\n",
        "\n",
        "# Append the second shot to the list\n",
        "pavdAll2 = []\n",
        "pavdElev2 = []\n",
        "\n",
        "for i, e in enumerate(range(len(shotPAVD2))):\n",
        "    if shotPAVD2[i] > 0:\n",
        "        pavdElev2.append((shot2, shotElev2 + dz * i, shotPAVD2[i]))  # Append tuple of shot number, elevation, and PAVD\n",
        "pavdAll2.append(pavdElev2)                                         # Append to final list"
      ]
    },
    {
      "cell_type": "markdown",
      "metadata": {
        "id": "Vwd-BAhYTaiF"
      },
      "source": [
        "Below, plot each shot by using `matplotlib` "
      ]
    },
    {
      "cell_type": "code",
      "execution_count": 44,
      "metadata": {
        "id": "Y8elaJ2aTaiF"
      },
      "outputs": [
        {
          "data": {
            "text/plain": [
              "[[(226260800100073901, 841.378173828125, 0.0011634467),\n",
              "  (226260800100073901, 846.378173828125, 0.00058172335)]]"
            ]
          },
          "execution_count": 44,
          "metadata": {},
          "output_type": "execute_result"
        }
      ],
      "source": [
        "pavdAll1"
      ]
    },
    {
      "cell_type": "code",
      "execution_count": 45,
      "metadata": {},
      "outputs": [
        {
          "data": {
            "text/plain": [
              "[[(226260800100073601, 1140.8712158203125, 0.037622105),\n",
              "  (226260800100073601, 1145.8712158203125, 0.02158315),\n",
              "  (226260800100073601, 1150.8712158203125, 0.0073676156),\n",
              "  (226260800100073601, 1155.8712158203125, 0.011193232),\n",
              "  (226260800100073601, 1160.8712158203125, 0.011290111),\n",
              "  (226260800100073601, 1165.8712158203125, 0.0069349734),\n",
              "  (226260800100073601, 1170.8712158203125, 0.0022425766)]]"
            ]
          },
          "execution_count": 45,
          "metadata": {},
          "output_type": "execute_result"
        }
      ],
      "source": [
        "pavdAll2"
      ]
    },
    {
      "cell_type": "code",
      "execution_count": 56,
      "metadata": {},
      "outputs": [
        {
          "data": {},
          "metadata": {},
          "output_type": "display_data"
        },
        {
          "data": {
            "application/vnd.holoviews_exec.v0+json": "",
            "text/html": [
              "<div id='6b288399-c6a7-43fe-a751-d4e35b27b797'>\n",
              "  <div id=\"fcbc4e1d-f9b9-4e5c-95c1-bf3e45cfbf98\" data-root-id=\"6b288399-c6a7-43fe-a751-d4e35b27b797\" style=\"display: contents;\"></div>\n",
              "</div>\n",
              "<script type=\"application/javascript\">(function(root) {\n",
              "  var docs_json = {\"a878d716-6a62-4ee6-8d22-a0f791b4df55\":{\"version\":\"3.6.2\",\"title\":\"Bokeh Application\",\"roots\":[{\"type\":\"object\",\"name\":\"Row\",\"id\":\"6b288399-c6a7-43fe-a751-d4e35b27b797\",\"attributes\":{\"name\":\"Row03655\",\"tags\":[\"embedded\"],\"stylesheets\":[\"\\n:host(.pn-loading):before, .pn-loading:before {\\n  background-color: #c3c3c3;\\n  mask-size: auto calc(min(50%, 400px));\\n  -webkit-mask-size: auto calc(min(50%, 400px));\\n}\",{\"type\":\"object\",\"name\":\"ImportedStyleSheet\",\"id\":\"c8396c78-d1d6-4d85-9ca0-014d5bc4de30\",\"attributes\":{\"url\":\"https://cdn.holoviz.org/panel/1.6.0/dist/css/loading.css\"}},{\"type\":\"object\",\"name\":\"ImportedStyleSheet\",\"id\":\"1aad248c-9b1c-4d79-9b02-5c74ce8c6ce9\",\"attributes\":{\"url\":\"https://cdn.holoviz.org/panel/1.6.0/dist/css/listpanel.css\"}},{\"type\":\"object\",\"name\":\"ImportedStyleSheet\",\"id\":\"481ec7ce-6c06-4896-ad10-eaa20cb980d3\",\"attributes\":{\"url\":\"https://cdn.holoviz.org/panel/1.6.0/dist/bundled/theme/default.css\"}},{\"type\":\"object\",\"name\":\"ImportedStyleSheet\",\"id\":\"91f9322d-0c9b-47a2-82df-2d26acdb4472\",\"attributes\":{\"url\":\"https://cdn.holoviz.org/panel/1.6.0/dist/bundled/theme/native.css\"}}],\"margin\":0,\"sizing_mode\":\"stretch_width\",\"align\":\"start\",\"children\":[{\"type\":\"object\",\"name\":\"Spacer\",\"id\":\"eba36333-11dd-4d2b-84b5-f3e4b8402d6d\",\"attributes\":{\"name\":\"HSpacer03659\",\"stylesheets\":[\"\\n:host(.pn-loading):before, .pn-loading:before {\\n  background-color: #c3c3c3;\\n  mask-size: auto calc(min(50%, 400px));\\n  -webkit-mask-size: auto calc(min(50%, 400px));\\n}\",{\"id\":\"c8396c78-d1d6-4d85-9ca0-014d5bc4de30\"},{\"id\":\"481ec7ce-6c06-4896-ad10-eaa20cb980d3\"},{\"id\":\"91f9322d-0c9b-47a2-82df-2d26acdb4472\"}],\"margin\":0,\"sizing_mode\":\"stretch_width\",\"align\":\"start\"}},{\"type\":\"object\",\"name\":\"GridPlot\",\"id\":\"a069e870-7e40-41c6-8059-c93dbec7f213\",\"attributes\":{\"rows\":null,\"cols\":null,\"toolbar\":{\"type\":\"object\",\"name\":\"Toolbar\",\"id\":\"7c99f15f-3204-4b16-b97a-81763d44e6e7\",\"attributes\":{\"tools\":[{\"type\":\"object\",\"name\":\"ToolProxy\",\"id\":\"f3835051-f1b6-4cfa-a3d6-18ba6c6880b0\",\"attributes\":{\"tools\":[{\"type\":\"object\",\"name\":\"WheelZoomTool\",\"id\":\"1c568676-a929-4ff8-be4f-ee6187ce4ece\",\"attributes\":{\"tags\":[\"hv_created\"],\"renderers\":\"auto\",\"zoom_together\":\"none\"}},{\"type\":\"object\",\"name\":\"WheelZoomTool\",\"id\":\"3aa66013-e5e8-447a-9ce3-0b229a9ca959\",\"attributes\":{\"tags\":[\"hv_created\"],\"renderers\":\"auto\",\"zoom_together\":\"none\"}}]}},{\"type\":\"object\",\"name\":\"SaveTool\",\"id\":\"2189a5b5-7b4e-460a-a7a4-ef8cb2ff66b2\"},{\"type\":\"object\",\"name\":\"ToolProxy\",\"id\":\"e6705917-8cfc-4999-b575-34c193890019\",\"attributes\":{\"tools\":[{\"type\":\"object\",\"name\":\"PanTool\",\"id\":\"a5a928bf-de17-4b1f-9ad9-276f8f05b15e\"},{\"type\":\"object\",\"name\":\"PanTool\",\"id\":\"0b14f15f-ee59-45cd-8937-6eb12289323e\"}]}},{\"type\":\"object\",\"name\":\"ToolProxy\",\"id\":\"2f5b7aa1-9163-43bb-93f3-ef3534f2acef\",\"attributes\":{\"tools\":[{\"type\":\"object\",\"name\":\"BoxZoomTool\",\"id\":\"a5a8509b-6e9a-403f-83ef-8621920711c0\",\"attributes\":{\"overlay\":{\"type\":\"object\",\"name\":\"BoxAnnotation\",\"id\":\"9ed10118-0355-479d-806b-eac837fdb9d8\",\"attributes\":{\"syncable\":false,\"line_color\":\"black\",\"line_alpha\":1.0,\"line_width\":2,\"line_dash\":[4,4],\"fill_color\":\"lightgrey\",\"fill_alpha\":0.5,\"level\":\"overlay\",\"visible\":false,\"left\":{\"type\":\"number\",\"value\":\"nan\"},\"right\":{\"type\":\"number\",\"value\":\"nan\"},\"top\":{\"type\":\"number\",\"value\":\"nan\"},\"bottom\":{\"type\":\"number\",\"value\":\"nan\"},\"left_units\":\"canvas\",\"right_units\":\"canvas\",\"top_units\":\"canvas\",\"bottom_units\":\"canvas\",\"handles\":{\"type\":\"object\",\"name\":\"BoxInteractionHandles\",\"id\":\"5f11246d-f567-4d8e-a175-f477f0232292\",\"attributes\":{\"all\":{\"type\":\"object\",\"name\":\"AreaVisuals\",\"id\":\"57fef6b8-e1e9-46c8-8839-cc1486651348\",\"attributes\":{\"fill_color\":\"white\",\"hover_fill_color\":\"lightgray\"}}}}}}}},{\"type\":\"object\",\"name\":\"BoxZoomTool\",\"id\":\"87cb0ae4-fe35-46a4-806c-13436b5c715e\",\"attributes\":{\"overlay\":{\"type\":\"object\",\"name\":\"BoxAnnotation\",\"id\":\"d4a9f814-3cd8-4329-8526-712582733f97\",\"attributes\":{\"syncable\":false,\"line_color\":\"black\",\"line_alpha\":1.0,\"line_width\":2,\"line_dash\":[4,4],\"fill_color\":\"lightgrey\",\"fill_alpha\":0.5,\"level\":\"overlay\",\"visible\":false,\"left\":{\"type\":\"number\",\"value\":\"nan\"},\"right\":{\"type\":\"number\",\"value\":\"nan\"},\"top\":{\"type\":\"number\",\"value\":\"nan\"},\"bottom\":{\"type\":\"number\",\"value\":\"nan\"},\"left_units\":\"canvas\",\"right_units\":\"canvas\",\"top_units\":\"canvas\",\"bottom_units\":\"canvas\",\"handles\":{\"type\":\"object\",\"name\":\"BoxInteractionHandles\",\"id\":\"bb0b3235-3c3e-480c-8640-e688dc7b890a\",\"attributes\":{\"all\":{\"type\":\"object\",\"name\":\"AreaVisuals\",\"id\":\"565fa95b-3b14-4f17-b644-8096c3275267\",\"attributes\":{\"fill_color\":\"white\",\"hover_fill_color\":\"lightgray\"}}}}}}}}]}},{\"type\":\"object\",\"name\":\"ToolProxy\",\"id\":\"4cd27fa3-231c-4580-bf23-b640b00ee6ae\",\"attributes\":{\"tools\":[{\"type\":\"object\",\"name\":\"ResetTool\",\"id\":\"890e7974-4a6e-4bef-8e42-535217352f4b\"},{\"type\":\"object\",\"name\":\"ResetTool\",\"id\":\"3e87468a-f3da-46b3-a9c8-4d326491002b\"}]}}]}},\"children\":[[{\"type\":\"object\",\"name\":\"Figure\",\"id\":\"21b2efbc-9d99-428d-904f-08b85eb6d338\",\"attributes\":{\"width\":700,\"height\":550,\"sizing_mode\":\"fixed\",\"align\":\"start\",\"x_range\":{\"type\":\"object\",\"name\":\"Range1d\",\"id\":\"d6737098-0a0c-486e-a3f7-471c84634a3d\",\"attributes\":{\"name\":\"x\",\"tags\":[[[\"x\",null]],[]],\"start\":2.036347200900665e+17,\"end\":2.4888688011008128e+17,\"reset_start\":2.036347200900665e+17,\"reset_end\":2.4888688011008128e+17}},\"y_range\":{\"type\":\"object\",\"name\":\"Range1d\",\"id\":\"6ac41919-ce70-48d6-aa34-4040fb7678bb\",\"attributes\":{\"name\":\"y\",\"tags\":[[[\"y\",null]],{\"type\":\"map\",\"entries\":[[\"invert_yaxis\",false],[\"autorange\",false]]}],\"start\":840.878173828125,\"end\":846.878173828125,\"reset_start\":840.878173828125,\"reset_end\":846.878173828125}},\"x_scale\":{\"type\":\"object\",\"name\":\"LinearScale\",\"id\":\"1ed95812-9c35-42fd-8502-4af45ecfa1a0\"},\"y_scale\":{\"type\":\"object\",\"name\":\"LinearScale\",\"id\":\"f5bd597c-848f-4db1-ba3f-8cec3b72296f\"},\"title\":{\"type\":\"object\",\"name\":\"Title\",\"id\":\"96a70a37-1934-44a1-9587-b52b0e1d9ddb\",\"attributes\":{\"text_color\":\"black\",\"text_font_size\":\"16pt\"}},\"renderers\":[{\"type\":\"object\",\"name\":\"GlyphRenderer\",\"id\":\"7091ed93-2c81-4e1c-a6e3-d4aec5d5d2fe\",\"attributes\":{\"data_source\":{\"type\":\"object\",\"name\":\"ColumnDataSource\",\"id\":\"e508c730-7341-41c0-bf20-8935923c7819\",\"attributes\":{\"selected\":{\"type\":\"object\",\"name\":\"Selection\",\"id\":\"47e29193-6e7a-4549-8d90-b7f4bbd24180\",\"attributes\":{\"indices\":[],\"line_indices\":[]}},\"selection_policy\":{\"type\":\"object\",\"name\":\"UnionRenderers\",\"id\":\"690f4160-11e5-4093-9863-35f158381973\"},\"data\":{\"type\":\"map\",\"entries\":[[\"xs\",[{\"type\":\"ndarray\",\"array\":{\"type\":\"bytes\",\"data\":\"DXzE/bceiUMNfMT9tx6JQw==\"},\"shape\":[2],\"dtype\":\"float64\",\"order\":\"little\"}]],[\"ys\",[{\"type\":\"ndarray\",\"array\":{\"type\":\"bytes\",\"data\":\"AAAAgAZLikAAAACABnOKQA==\"},\"shape\":[2],\"dtype\":\"float64\",\"order\":\"little\"}]],[\"color\",{\"type\":\"ndarray\",\"array\":{\"type\":\"bytes\",\"data\":\"y36YOg==\"},\"shape\":[1],\"dtype\":\"float32\",\"order\":\"little\"}]]}}},\"view\":{\"type\":\"object\",\"name\":\"CDSView\",\"id\":\"f1a445f9-ab78-448d-9fc0-5166db25c7fa\",\"attributes\":{\"filter\":{\"type\":\"object\",\"name\":\"AllIndices\",\"id\":\"5b10ffd5-0e1f-4798-b9dc-e18d5f688dfb\"}}},\"glyph\":{\"type\":\"object\",\"name\":\"MultiLine\",\"id\":\"f07702af-a2f5-46a5-bab6-90042dba17e9\",\"attributes\":{\"tags\":[\"apply_ranges\"],\"xs\":{\"type\":\"field\",\"field\":\"xs\"},\"ys\":{\"type\":\"field\",\"field\":\"ys\"},\"line_color\":{\"type\":\"field\",\"field\":\"color\",\"transform\":{\"type\":\"object\",\"name\":\"LinearColorMapper\",\"id\":\"39511fe9-11df-469f-a687-beab41c093cb\",\"attributes\":{\"palette\":[\"#f7fcf5\",\"#f6fbf4\",\"#f5fbf3\",\"#f5fbf3\",\"#f4fbf2\",\"#f4faf1\",\"#f3faf1\",\"#f3faf0\",\"#f2faef\",\"#f1faef\",\"#f1f9ee\",\"#f0f9ed\",\"#f0f9ed\",\"#eff9ec\",\"#eff8eb\",\"#eef8eb\",\"#edf8ea\",\"#edf8e9\",\"#ecf8e9\",\"#ecf7e8\",\"#ebf7e7\",\"#ebf7e7\",\"#eaf7e6\",\"#eaf6e5\",\"#e9f6e5\",\"#e8f6e4\",\"#e8f6e3\",\"#e7f6e3\",\"#e7f5e2\",\"#e6f5e1\",\"#e6f5e1\",\"#e5f5e0\",\"#e4f4df\",\"#e3f4de\",\"#e3f4dd\",\"#e2f3dc\",\"#e1f3db\",\"#e0f3da\",\"#dff2d9\",\"#def2d8\",\"#ddf1d7\",\"#dcf1d6\",\"#dbf1d5\",\"#daf0d4\",\"#d9f0d3\",\"#d8f0d2\",\"#d7efd1\",\"#d6efd0\",\"#d5eecf\",\"#d4eece\",\"#d3eecd\",\"#d3edcc\",\"#d2edcb\",\"#d1edca\",\"#d0ecc9\",\"#cfecc8\",\"#ceebc7\",\"#cdebc6\",\"#ccebc5\",\"#cbeac4\",\"#caeac3\",\"#c9eac2\",\"#c8e9c1\",\"#c7e9c0\",\"#c6e8bf\",\"#c5e8be\",\"#c4e7bd\",\"#c3e7bc\",\"#c1e6bb\",\"#c0e6b9\",\"#bfe5b8\",\"#bee5b7\",\"#bde4b6\",\"#bbe4b5\",\"#bae3b4\",\"#b9e3b2\",\"#b8e2b1\",\"#b7e2b0\",\"#b6e1af\",\"#b4e1ae\",\"#b3e0ad\",\"#b2e0ab\",\"#b1dfaa\",\"#b0dfa9\",\"#aedea8\",\"#addea7\",\"#acdda6\",\"#abdda5\",\"#aadca3\",\"#a8dca2\",\"#a7dba1\",\"#a6dba0\",\"#a5da9f\",\"#a4da9e\",\"#a2d99c\",\"#a1d99b\",\"#a0d89a\",\"#9fd899\",\"#9dd798\",\"#9cd697\",\"#9ad695\",\"#99d594\",\"#98d493\",\"#96d492\",\"#95d391\",\"#93d290\",\"#92d28e\",\"#90d18d\",\"#8fd08c\",\"#8ed08b\",\"#8ccf8a\",\"#8bce89\",\"#89ce87\",\"#88cd86\",\"#87cc85\",\"#85cc84\",\"#84cb83\",\"#82ca82\",\"#81ca81\",\"#80c97f\",\"#7ec87e\",\"#7dc87d\",\"#7bc77c\",\"#7ac67b\",\"#78c67a\",\"#77c578\",\"#76c477\",\"#74c476\",\"#73c375\",\"#71c274\",\"#70c274\",\"#6ec173\",\"#6cc072\",\"#6bbf71\",\"#69be70\",\"#68be70\",\"#66bd6f\",\"#64bc6e\",\"#63bb6d\",\"#61ba6c\",\"#60ba6c\",\"#5eb96b\",\"#5cb86a\",\"#5bb769\",\"#59b769\",\"#58b668\",\"#56b567\",\"#54b466\",\"#53b365\",\"#51b365\",\"#50b264\",\"#4eb163\",\"#4cb062\",\"#4bb061\",\"#49af61\",\"#48ae60\",\"#46ad5f\",\"#44ac5e\",\"#43ac5e\",\"#41ab5d\",\"#40aa5c\",\"#3fa95b\",\"#3ea85b\",\"#3da75a\",\"#3ca659\",\"#3ba558\",\"#3aa458\",\"#39a357\",\"#38a256\",\"#37a155\",\"#37a055\",\"#369f54\",\"#359e53\",\"#349d52\",\"#339c51\",\"#329b51\",\"#319a50\",\"#30994f\",\"#2f984e\",\"#2e974e\",\"#2d964d\",\"#2c954c\",\"#2b944b\",\"#2a934b\",\"#29924a\",\"#289149\",\"#279048\",\"#278f48\",\"#268e47\",\"#258d46\",\"#248c45\",\"#238b45\",\"#228a44\",\"#218943\",\"#1f8842\",\"#1e8742\",\"#1d8641\",\"#1c8540\",\"#1b843f\",\"#1a833e\",\"#19823e\",\"#18813d\",\"#17803c\",\"#167f3b\",\"#157e3a\",\"#137e3a\",\"#127d39\",\"#117c38\",\"#107b37\",\"#0f7a37\",\"#0e7936\",\"#0d7835\",\"#0c7734\",\"#0b7633\",\"#0a7533\",\"#087432\",\"#077331\",\"#067230\",\"#057130\",\"#04702f\",\"#036f2e\",\"#026f2d\",\"#016e2c\",\"#006d2c\",\"#006b2b\",\"#006a2b\",\"#00692a\",\"#006829\",\"#006629\",\"#006528\",\"#006428\",\"#006227\",\"#006127\",\"#006026\",\"#005f26\",\"#005d25\",\"#005c25\",\"#005b24\",\"#005924\",\"#005823\",\"#005723\",\"#005622\",\"#005421\",\"#005321\",\"#005220\",\"#005020\",\"#004f1f\",\"#004e1f\",\"#004d1e\",\"#004b1e\",\"#004a1d\",\"#00491d\",\"#00471c\",\"#00461c\",\"#00451b\",\"#00441b\"],\"low\":0,\"high\":0.1}}},\"line_width\":{\"type\":\"value\",\"value\":20}}},\"selection_glyph\":{\"type\":\"object\",\"name\":\"MultiLine\",\"id\":\"f3e3fc75-ef10-468f-828f-d4b18ada745a\",\"attributes\":{\"tags\":[\"apply_ranges\"],\"xs\":{\"type\":\"field\",\"field\":\"xs\"},\"ys\":{\"type\":\"field\",\"field\":\"ys\"},\"line_color\":{\"type\":\"field\",\"field\":\"color\",\"transform\":{\"id\":\"39511fe9-11df-469f-a687-beab41c093cb\"}},\"line_alpha\":{\"type\":\"value\",\"value\":1.0},\"line_width\":{\"type\":\"value\",\"value\":20},\"line_join\":{\"type\":\"value\",\"value\":\"bevel\"},\"line_cap\":{\"type\":\"value\",\"value\":\"butt\"},\"line_dash\":{\"type\":\"value\",\"value\":[]},\"line_dash_offset\":{\"type\":\"value\",\"value\":0}}},\"nonselection_glyph\":{\"type\":\"object\",\"name\":\"MultiLine\",\"id\":\"22e6ea00-fc45-4c30-a3c3-7de8a7c5015c\",\"attributes\":{\"tags\":[\"apply_ranges\"],\"xs\":{\"type\":\"field\",\"field\":\"xs\"},\"ys\":{\"type\":\"field\",\"field\":\"ys\"},\"line_color\":{\"type\":\"field\",\"field\":\"color\",\"transform\":{\"id\":\"39511fe9-11df-469f-a687-beab41c093cb\"}},\"line_alpha\":{\"type\":\"value\",\"value\":0.1},\"line_width\":{\"type\":\"value\",\"value\":20}}},\"muted_glyph\":{\"type\":\"object\",\"name\":\"MultiLine\",\"id\":\"b6c2bdb4-f8f1-469a-a884-f7919e640631\",\"attributes\":{\"tags\":[\"apply_ranges\"],\"xs\":{\"type\":\"field\",\"field\":\"xs\"},\"ys\":{\"type\":\"field\",\"field\":\"ys\"},\"line_color\":{\"type\":\"field\",\"field\":\"color\",\"transform\":{\"id\":\"39511fe9-11df-469f-a687-beab41c093cb\"}},\"line_alpha\":{\"type\":\"value\",\"value\":0.2},\"line_width\":{\"type\":\"value\",\"value\":20}}}}}],\"toolbar\":{\"type\":\"object\",\"name\":\"Toolbar\",\"id\":\"d9d45d06-cf79-4a15-ad1f-0bc86ee1b98f\",\"attributes\":{\"tools\":[{\"id\":\"1c568676-a929-4ff8-be4f-ee6187ce4ece\"},{\"type\":\"object\",\"name\":\"SaveTool\",\"id\":\"5c7eea34-173d-4e22-b78d-473bf743492f\"},{\"id\":\"a5a928bf-de17-4b1f-9ad9-276f8f05b15e\"},{\"id\":\"a5a8509b-6e9a-403f-83ef-8621920711c0\"},{\"id\":\"890e7974-4a6e-4bef-8e42-535217352f4b\"}],\"active_drag\":{\"id\":\"a5a928bf-de17-4b1f-9ad9-276f8f05b15e\"},\"active_scroll\":{\"id\":\"1c568676-a929-4ff8-be4f-ee6187ce4ece\"}}},\"toolbar_location\":null,\"left\":[{\"type\":\"object\",\"name\":\"LinearAxis\",\"id\":\"4af86729-442b-4a1d-96e6-1139d6a3df1e\",\"attributes\":{\"ticker\":{\"type\":\"object\",\"name\":\"BasicTicker\",\"id\":\"0e658d9b-6f80-4d50-8f03-11e6576bc82b\",\"attributes\":{\"mantissas\":[1,2,5]}},\"formatter\":{\"type\":\"object\",\"name\":\"BasicTickFormatter\",\"id\":\"b19e2a14-c1d8-4394-aea4-113d154d95cb\"},\"axis_label\":\"Elevation (m)\",\"axis_label_text_font_size\":\"16pt\",\"major_label_policy\":{\"type\":\"object\",\"name\":\"AllLabels\",\"id\":\"45409e21-4bff-4da2-a04f-2d06d85f6409\"},\"major_label_text_font_size\":\"12pt\"}}],\"right\":[{\"type\":\"object\",\"name\":\"ColorBar\",\"id\":\"f972366f-2f58-4bc0-8e26-2da146f47c96\",\"attributes\":{\"location\":[0,0],\"title\":\"PAVD\",\"title_text_font_size\":\"12pt\",\"ticker\":{\"type\":\"object\",\"name\":\"BasicTicker\",\"id\":\"d3454b13-c2e4-4021-808a-1988dff530f8\",\"attributes\":{\"mantissas\":[1,2,5]}},\"major_label_policy\":{\"type\":\"object\",\"name\":\"NoOverlap\",\"id\":\"353931d2-0c12-4338-ba40-338fab92b8b5\"},\"major_label_text_font_size\":\"10pt\",\"label_standoff\":8,\"major_tick_line_color\":\"black\",\"bar_line_color\":\"black\",\"color_mapper\":{\"id\":\"39511fe9-11df-469f-a687-beab41c093cb\"}}}],\"below\":[{\"type\":\"object\",\"name\":\"LinearAxis\",\"id\":\"477bc708-f062-4801-bdeb-976adca826af\",\"attributes\":{\"ticker\":{\"type\":\"object\",\"name\":\"BasicTicker\",\"id\":\"e401acf3-36db-4d5e-9489-5316a0511fa5\",\"attributes\":{\"mantissas\":[1,2,5]}},\"formatter\":{\"type\":\"object\",\"name\":\"BasicTickFormatter\",\"id\":\"036df536-fb76-478a-af61-0eaf384f9c3d\"},\"axis_label\":\"Shot Number\",\"axis_label_text_font_size\":\"16pt\",\"major_label_policy\":{\"type\":\"object\",\"name\":\"AllLabels\",\"id\":\"ca082a30-de1e-4644-9349-9ba3f195b1c9\"},\"major_label_text_font_size\":\"12pt\"}}],\"center\":[{\"type\":\"object\",\"name\":\"Grid\",\"id\":\"e63f1214-3297-4ff3-aff0-9135046b50e1\",\"attributes\":{\"axis\":{\"id\":\"477bc708-f062-4801-bdeb-976adca826af\"},\"grid_line_color\":null}},{\"type\":\"object\",\"name\":\"Grid\",\"id\":\"1f01703f-c4db-42d4-a898-31bd2571054f\",\"attributes\":{\"dimension\":1,\"axis\":{\"id\":\"4af86729-442b-4a1d-96e6-1139d6a3df1e\"},\"grid_line_color\":null}}],\"min_border_top\":10,\"min_border_bottom\":10,\"min_border_left\":10,\"min_border_right\":10,\"output_backend\":\"webgl\"}},0,0],[{\"type\":\"object\",\"name\":\"Figure\",\"id\":\"78fad3b0-f390-41c4-8151-71cdbaccfb57\",\"attributes\":{\"width\":700,\"height\":550,\"sizing_mode\":\"fixed\",\"align\":\"start\",\"x_range\":{\"type\":\"object\",\"name\":\"Range1d\",\"id\":\"bf6bedf8-bf8c-4c2f-ba47-d717bec477a5\",\"attributes\":{\"name\":\"x\",\"tags\":[[[\"x\",null]],[]],\"start\":2.0363472009006624e+17,\"end\":2.4888688011008096e+17,\"reset_start\":2.0363472009006624e+17,\"reset_end\":2.4888688011008096e+17}},\"y_range\":{\"type\":\"object\",\"name\":\"Range1d\",\"id\":\"834bf33e-f166-4aa0-974f-f2bc7a892155\",\"attributes\":{\"name\":\"y\",\"tags\":[[[\"y\",null]],{\"type\":\"map\",\"entries\":[[\"invert_yaxis\",false],[\"autorange\",false]]}],\"start\":1137.8712158203125,\"end\":1173.8712158203125,\"reset_start\":1137.8712158203125,\"reset_end\":1173.8712158203125}},\"x_scale\":{\"type\":\"object\",\"name\":\"LinearScale\",\"id\":\"3de913ba-9dd9-4284-9618-1ad701a59482\"},\"y_scale\":{\"type\":\"object\",\"name\":\"LinearScale\",\"id\":\"22bda573-bfdd-44c5-8c91-d43e1ac233e2\"},\"title\":{\"type\":\"object\",\"name\":\"Title\",\"id\":\"ace722f0-9ff1-47ac-8d17-77436d9a0bd1\",\"attributes\":{\"text_color\":\"black\",\"text_font_size\":\"16pt\"}},\"renderers\":[{\"type\":\"object\",\"name\":\"GlyphRenderer\",\"id\":\"c085b1e8-5c26-4a8a-bd2e-c7034d54e75a\",\"attributes\":{\"data_source\":{\"type\":\"object\",\"name\":\"ColumnDataSource\",\"id\":\"94ef1183-cee5-48d9-b6f3-7b578b406b93\",\"attributes\":{\"selected\":{\"type\":\"object\",\"name\":\"Selection\",\"id\":\"1309b2bf-08be-4ffa-8633-bb79b969cb3d\",\"attributes\":{\"indices\":[],\"line_indices\":[]}},\"selection_policy\":{\"type\":\"object\",\"name\":\"UnionRenderers\",\"id\":\"5480531d-a788-4369-b2c0-95568fe3c87e\"},\"data\":{\"type\":\"map\",\"entries\":[[\"xs\",[{\"type\":\"ndarray\",\"array\":{\"type\":\"bytes\",\"data\":\"BHzE/bceiUMEfMT9tx6JQw==\"},\"shape\":[2],\"dtype\":\"float64\",\"order\":\"little\"},{\"type\":\"ndarray\",\"array\":{\"type\":\"bytes\",\"data\":\"BHzE/bceiUMEfMT9tx6JQw==\"},\"shape\":[2],\"dtype\":\"float64\",\"order\":\"little\"},{\"type\":\"ndarray\",\"array\":{\"type\":\"bytes\",\"data\":\"BHzE/bceiUMEfMT9tx6JQw==\"},\"shape\":[2],\"dtype\":\"float64\",\"order\":\"little\"},{\"type\":\"ndarray\",\"array\":{\"type\":\"bytes\",\"data\":\"BHzE/bceiUMEfMT9tx6JQw==\"},\"shape\":[2],\"dtype\":\"float64\",\"order\":\"little\"},{\"type\":\"ndarray\",\"array\":{\"type\":\"bytes\",\"data\":\"BHzE/bceiUMEfMT9tx6JQw==\"},\"shape\":[2],\"dtype\":\"float64\",\"order\":\"little\"},{\"type\":\"ndarray\",\"array\":{\"type\":\"bytes\",\"data\":\"BHzE/bceiUMEfMT9tx6JQw==\"},\"shape\":[2],\"dtype\":\"float64\",\"order\":\"little\"}]],[\"ys\",[{\"type\":\"ndarray\",\"array\":{\"type\":\"bytes\",\"data\":\"AAAAIHzTkUAAAAAgfOeRQA==\"},\"shape\":[2],\"dtype\":\"float64\",\"order\":\"little\"},{\"type\":\"ndarray\",\"array\":{\"type\":\"bytes\",\"data\":\"AAAAIHznkUAAAAAgfPuRQA==\"},\"shape\":[2],\"dtype\":\"float64\",\"order\":\"little\"},{\"type\":\"ndarray\",\"array\":{\"type\":\"bytes\",\"data\":\"AAAAIHz7kUAAAAAgfA+SQA==\"},\"shape\":[2],\"dtype\":\"float64\",\"order\":\"little\"},{\"type\":\"ndarray\",\"array\":{\"type\":\"bytes\",\"data\":\"AAAAIHwPkkAAAAAgfCOSQA==\"},\"shape\":[2],\"dtype\":\"float64\",\"order\":\"little\"},{\"type\":\"ndarray\",\"array\":{\"type\":\"bytes\",\"data\":\"AAAAIHwjkkAAAAAgfDeSQA==\"},\"shape\":[2],\"dtype\":\"float64\",\"order\":\"little\"},{\"type\":\"ndarray\",\"array\":{\"type\":\"bytes\",\"data\":\"AAAAIHw3kkAAAAAgfEuSQA==\"},\"shape\":[2],\"dtype\":\"float64\",\"order\":\"little\"}]],[\"color\",{\"type\":\"ndarray\",\"array\":{\"type\":\"bytes\",\"data\":\"oxkaPSXPsDwKbPE70WM3PCj6ODzGPuM7\"},\"shape\":[6],\"dtype\":\"float32\",\"order\":\"little\"}]]}}},\"view\":{\"type\":\"object\",\"name\":\"CDSView\",\"id\":\"2c0ea6a2-afb0-4fd7-b4e9-767d27318d2d\",\"attributes\":{\"filter\":{\"type\":\"object\",\"name\":\"AllIndices\",\"id\":\"c4b8f04a-7412-4f54-95ab-67f936d7e201\"}}},\"glyph\":{\"type\":\"object\",\"name\":\"MultiLine\",\"id\":\"8c8ef2c6-7f31-4996-b4d9-f76c737ad906\",\"attributes\":{\"tags\":[\"apply_ranges\"],\"xs\":{\"type\":\"field\",\"field\":\"xs\"},\"ys\":{\"type\":\"field\",\"field\":\"ys\"},\"line_color\":{\"type\":\"field\",\"field\":\"color\",\"transform\":{\"type\":\"object\",\"name\":\"LinearColorMapper\",\"id\":\"d2121318-75ce-4d44-8188-71d816d03f80\",\"attributes\":{\"palette\":[\"#f7fcf5\",\"#f6fbf4\",\"#f5fbf3\",\"#f5fbf3\",\"#f4fbf2\",\"#f4faf1\",\"#f3faf1\",\"#f3faf0\",\"#f2faef\",\"#f1faef\",\"#f1f9ee\",\"#f0f9ed\",\"#f0f9ed\",\"#eff9ec\",\"#eff8eb\",\"#eef8eb\",\"#edf8ea\",\"#edf8e9\",\"#ecf8e9\",\"#ecf7e8\",\"#ebf7e7\",\"#ebf7e7\",\"#eaf7e6\",\"#eaf6e5\",\"#e9f6e5\",\"#e8f6e4\",\"#e8f6e3\",\"#e7f6e3\",\"#e7f5e2\",\"#e6f5e1\",\"#e6f5e1\",\"#e5f5e0\",\"#e4f4df\",\"#e3f4de\",\"#e3f4dd\",\"#e2f3dc\",\"#e1f3db\",\"#e0f3da\",\"#dff2d9\",\"#def2d8\",\"#ddf1d7\",\"#dcf1d6\",\"#dbf1d5\",\"#daf0d4\",\"#d9f0d3\",\"#d8f0d2\",\"#d7efd1\",\"#d6efd0\",\"#d5eecf\",\"#d4eece\",\"#d3eecd\",\"#d3edcc\",\"#d2edcb\",\"#d1edca\",\"#d0ecc9\",\"#cfecc8\",\"#ceebc7\",\"#cdebc6\",\"#ccebc5\",\"#cbeac4\",\"#caeac3\",\"#c9eac2\",\"#c8e9c1\",\"#c7e9c0\",\"#c6e8bf\",\"#c5e8be\",\"#c4e7bd\",\"#c3e7bc\",\"#c1e6bb\",\"#c0e6b9\",\"#bfe5b8\",\"#bee5b7\",\"#bde4b6\",\"#bbe4b5\",\"#bae3b4\",\"#b9e3b2\",\"#b8e2b1\",\"#b7e2b0\",\"#b6e1af\",\"#b4e1ae\",\"#b3e0ad\",\"#b2e0ab\",\"#b1dfaa\",\"#b0dfa9\",\"#aedea8\",\"#addea7\",\"#acdda6\",\"#abdda5\",\"#aadca3\",\"#a8dca2\",\"#a7dba1\",\"#a6dba0\",\"#a5da9f\",\"#a4da9e\",\"#a2d99c\",\"#a1d99b\",\"#a0d89a\",\"#9fd899\",\"#9dd798\",\"#9cd697\",\"#9ad695\",\"#99d594\",\"#98d493\",\"#96d492\",\"#95d391\",\"#93d290\",\"#92d28e\",\"#90d18d\",\"#8fd08c\",\"#8ed08b\",\"#8ccf8a\",\"#8bce89\",\"#89ce87\",\"#88cd86\",\"#87cc85\",\"#85cc84\",\"#84cb83\",\"#82ca82\",\"#81ca81\",\"#80c97f\",\"#7ec87e\",\"#7dc87d\",\"#7bc77c\",\"#7ac67b\",\"#78c67a\",\"#77c578\",\"#76c477\",\"#74c476\",\"#73c375\",\"#71c274\",\"#70c274\",\"#6ec173\",\"#6cc072\",\"#6bbf71\",\"#69be70\",\"#68be70\",\"#66bd6f\",\"#64bc6e\",\"#63bb6d\",\"#61ba6c\",\"#60ba6c\",\"#5eb96b\",\"#5cb86a\",\"#5bb769\",\"#59b769\",\"#58b668\",\"#56b567\",\"#54b466\",\"#53b365\",\"#51b365\",\"#50b264\",\"#4eb163\",\"#4cb062\",\"#4bb061\",\"#49af61\",\"#48ae60\",\"#46ad5f\",\"#44ac5e\",\"#43ac5e\",\"#41ab5d\",\"#40aa5c\",\"#3fa95b\",\"#3ea85b\",\"#3da75a\",\"#3ca659\",\"#3ba558\",\"#3aa458\",\"#39a357\",\"#38a256\",\"#37a155\",\"#37a055\",\"#369f54\",\"#359e53\",\"#349d52\",\"#339c51\",\"#329b51\",\"#319a50\",\"#30994f\",\"#2f984e\",\"#2e974e\",\"#2d964d\",\"#2c954c\",\"#2b944b\",\"#2a934b\",\"#29924a\",\"#289149\",\"#279048\",\"#278f48\",\"#268e47\",\"#258d46\",\"#248c45\",\"#238b45\",\"#228a44\",\"#218943\",\"#1f8842\",\"#1e8742\",\"#1d8641\",\"#1c8540\",\"#1b843f\",\"#1a833e\",\"#19823e\",\"#18813d\",\"#17803c\",\"#167f3b\",\"#157e3a\",\"#137e3a\",\"#127d39\",\"#117c38\",\"#107b37\",\"#0f7a37\",\"#0e7936\",\"#0d7835\",\"#0c7734\",\"#0b7633\",\"#0a7533\",\"#087432\",\"#077331\",\"#067230\",\"#057130\",\"#04702f\",\"#036f2e\",\"#026f2d\",\"#016e2c\",\"#006d2c\",\"#006b2b\",\"#006a2b\",\"#00692a\",\"#006829\",\"#006629\",\"#006528\",\"#006428\",\"#006227\",\"#006127\",\"#006026\",\"#005f26\",\"#005d25\",\"#005c25\",\"#005b24\",\"#005924\",\"#005823\",\"#005723\",\"#005622\",\"#005421\",\"#005321\",\"#005220\",\"#005020\",\"#004f1f\",\"#004e1f\",\"#004d1e\",\"#004b1e\",\"#004a1d\",\"#00491d\",\"#00471c\",\"#00461c\",\"#00451b\",\"#00441b\"],\"low\":0,\"high\":0.1}}},\"line_width\":{\"type\":\"value\",\"value\":20}}},\"selection_glyph\":{\"type\":\"object\",\"name\":\"MultiLine\",\"id\":\"9ab00f16-ac71-4c01-947b-01a29b44f325\",\"attributes\":{\"tags\":[\"apply_ranges\"],\"xs\":{\"type\":\"field\",\"field\":\"xs\"},\"ys\":{\"type\":\"field\",\"field\":\"ys\"},\"line_color\":{\"type\":\"field\",\"field\":\"color\",\"transform\":{\"id\":\"d2121318-75ce-4d44-8188-71d816d03f80\"}},\"line_alpha\":{\"type\":\"value\",\"value\":1.0},\"line_width\":{\"type\":\"value\",\"value\":20},\"line_join\":{\"type\":\"value\",\"value\":\"bevel\"},\"line_cap\":{\"type\":\"value\",\"value\":\"butt\"},\"line_dash\":{\"type\":\"value\",\"value\":[]},\"line_dash_offset\":{\"type\":\"value\",\"value\":0}}},\"nonselection_glyph\":{\"type\":\"object\",\"name\":\"MultiLine\",\"id\":\"7eed2f1e-c550-44b0-9697-451f58ce6bc8\",\"attributes\":{\"tags\":[\"apply_ranges\"],\"xs\":{\"type\":\"field\",\"field\":\"xs\"},\"ys\":{\"type\":\"field\",\"field\":\"ys\"},\"line_color\":{\"type\":\"field\",\"field\":\"color\",\"transform\":{\"id\":\"d2121318-75ce-4d44-8188-71d816d03f80\"}},\"line_alpha\":{\"type\":\"value\",\"value\":0.1},\"line_width\":{\"type\":\"value\",\"value\":20}}},\"muted_glyph\":{\"type\":\"object\",\"name\":\"MultiLine\",\"id\":\"af461a2e-8664-4978-bbcf-3b1a1d1a59dc\",\"attributes\":{\"tags\":[\"apply_ranges\"],\"xs\":{\"type\":\"field\",\"field\":\"xs\"},\"ys\":{\"type\":\"field\",\"field\":\"ys\"},\"line_color\":{\"type\":\"field\",\"field\":\"color\",\"transform\":{\"id\":\"d2121318-75ce-4d44-8188-71d816d03f80\"}},\"line_alpha\":{\"type\":\"value\",\"value\":0.2},\"line_width\":{\"type\":\"value\",\"value\":20}}}}}],\"toolbar\":{\"type\":\"object\",\"name\":\"Toolbar\",\"id\":\"fc1e6aef-8c2f-43c7-a2fa-3f5af64fded3\",\"attributes\":{\"tools\":[{\"id\":\"3aa66013-e5e8-447a-9ce3-0b229a9ca959\"},{\"type\":\"object\",\"name\":\"SaveTool\",\"id\":\"c7e23b68-ac54-44a5-acb1-740b7006ddc6\"},{\"id\":\"0b14f15f-ee59-45cd-8937-6eb12289323e\"},{\"id\":\"87cb0ae4-fe35-46a4-806c-13436b5c715e\"},{\"id\":\"3e87468a-f3da-46b3-a9c8-4d326491002b\"}],\"active_drag\":{\"id\":\"0b14f15f-ee59-45cd-8937-6eb12289323e\"},\"active_scroll\":{\"id\":\"3aa66013-e5e8-447a-9ce3-0b229a9ca959\"}}},\"toolbar_location\":null,\"left\":[{\"type\":\"object\",\"name\":\"LinearAxis\",\"id\":\"ae2d2cbc-262c-4d04-b995-8861de38e922\",\"attributes\":{\"ticker\":{\"type\":\"object\",\"name\":\"BasicTicker\",\"id\":\"08115c22-a921-4f5e-b16a-44d4b40d7fa9\",\"attributes\":{\"mantissas\":[1,2,5]}},\"formatter\":{\"type\":\"object\",\"name\":\"BasicTickFormatter\",\"id\":\"1093300a-e06d-4077-ae32-68cb0738000c\"},\"axis_label\":\"Elevation (m)\",\"axis_label_text_font_size\":\"16pt\",\"major_label_policy\":{\"type\":\"object\",\"name\":\"AllLabels\",\"id\":\"3a7515a8-415d-4c01-bdf1-35b2e2739fa4\"},\"major_label_text_font_size\":\"12pt\"}}],\"right\":[{\"type\":\"object\",\"name\":\"ColorBar\",\"id\":\"1b17ba48-c053-4a94-8754-0cb628dca341\",\"attributes\":{\"location\":[0,0],\"title\":\"PAVD\",\"title_text_font_size\":\"12pt\",\"ticker\":{\"type\":\"object\",\"name\":\"BasicTicker\",\"id\":\"9f4b4b67-2562-4a87-9f68-f3174a549c04\",\"attributes\":{\"mantissas\":[1,2,5]}},\"major_label_policy\":{\"type\":\"object\",\"name\":\"NoOverlap\",\"id\":\"5c955a97-a5c4-4881-8f14-6e3a3f3528f5\"},\"major_label_text_font_size\":\"10pt\",\"label_standoff\":8,\"major_tick_line_color\":\"black\",\"bar_line_color\":\"black\",\"color_mapper\":{\"id\":\"d2121318-75ce-4d44-8188-71d816d03f80\"}}}],\"below\":[{\"type\":\"object\",\"name\":\"LinearAxis\",\"id\":\"732583bf-8316-4099-a5b5-58bed7446ccb\",\"attributes\":{\"ticker\":{\"type\":\"object\",\"name\":\"BasicTicker\",\"id\":\"5e7c414a-b8ff-41cf-976c-39ef9bbb3faa\",\"attributes\":{\"mantissas\":[1,2,5]}},\"formatter\":{\"type\":\"object\",\"name\":\"BasicTickFormatter\",\"id\":\"c821ca1d-fd1b-4666-a393-a1034637c761\"},\"axis_label\":\"Shot Number\",\"axis_label_text_font_size\":\"16pt\",\"major_label_policy\":{\"type\":\"object\",\"name\":\"AllLabels\",\"id\":\"3cfc0d24-1db8-499d-a508-2dab1e80637b\"},\"major_label_text_font_size\":\"12pt\"}}],\"center\":[{\"type\":\"object\",\"name\":\"Grid\",\"id\":\"1d7c7730-aee4-4ad3-9b27-9b343f54d222\",\"attributes\":{\"axis\":{\"id\":\"732583bf-8316-4099-a5b5-58bed7446ccb\"},\"grid_line_color\":null}},{\"type\":\"object\",\"name\":\"Grid\",\"id\":\"bd6f12db-be14-48ae-bad7-4ece826ee8d3\",\"attributes\":{\"dimension\":1,\"axis\":{\"id\":\"ae2d2cbc-262c-4d04-b995-8861de38e922\"},\"grid_line_color\":null}}],\"min_border_top\":10,\"min_border_bottom\":10,\"min_border_left\":10,\"min_border_right\":10,\"output_backend\":\"webgl\"}},0,1]]}},{\"type\":\"object\",\"name\":\"Spacer\",\"id\":\"685c334c-1286-4752-bc6a-f39bdd26db17\",\"attributes\":{\"name\":\"HSpacer03660\",\"stylesheets\":[\"\\n:host(.pn-loading):before, .pn-loading:before {\\n  background-color: #c3c3c3;\\n  mask-size: auto calc(min(50%, 400px));\\n  -webkit-mask-size: auto calc(min(50%, 400px));\\n}\",{\"id\":\"c8396c78-d1d6-4d85-9ca0-014d5bc4de30\"},{\"id\":\"481ec7ce-6c06-4896-ad10-eaa20cb980d3\"},{\"id\":\"91f9322d-0c9b-47a2-82df-2d26acdb4472\"}],\"margin\":0,\"sizing_mode\":\"stretch_width\",\"align\":\"start\"}}]}}],\"defs\":[{\"type\":\"model\",\"name\":\"ReactiveHTML1\"},{\"type\":\"model\",\"name\":\"FlexBox1\",\"properties\":[{\"name\":\"align_content\",\"kind\":\"Any\",\"default\":\"flex-start\"},{\"name\":\"align_items\",\"kind\":\"Any\",\"default\":\"flex-start\"},{\"name\":\"flex_direction\",\"kind\":\"Any\",\"default\":\"row\"},{\"name\":\"flex_wrap\",\"kind\":\"Any\",\"default\":\"wrap\"},{\"name\":\"gap\",\"kind\":\"Any\",\"default\":\"\"},{\"name\":\"justify_content\",\"kind\":\"Any\",\"default\":\"flex-start\"}]},{\"type\":\"model\",\"name\":\"FloatPanel1\",\"properties\":[{\"name\":\"config\",\"kind\":\"Any\",\"default\":{\"type\":\"map\"}},{\"name\":\"contained\",\"kind\":\"Any\",\"default\":true},{\"name\":\"position\",\"kind\":\"Any\",\"default\":\"right-top\"},{\"name\":\"offsetx\",\"kind\":\"Any\",\"default\":null},{\"name\":\"offsety\",\"kind\":\"Any\",\"default\":null},{\"name\":\"theme\",\"kind\":\"Any\",\"default\":\"primary\"},{\"name\":\"status\",\"kind\":\"Any\",\"default\":\"normalized\"}]},{\"type\":\"model\",\"name\":\"GridStack1\",\"properties\":[{\"name\":\"mode\",\"kind\":\"Any\",\"default\":\"warn\"},{\"name\":\"ncols\",\"kind\":\"Any\",\"default\":null},{\"name\":\"nrows\",\"kind\":\"Any\",\"default\":null},{\"name\":\"allow_resize\",\"kind\":\"Any\",\"default\":true},{\"name\":\"allow_drag\",\"kind\":\"Any\",\"default\":true},{\"name\":\"state\",\"kind\":\"Any\",\"default\":[]}]},{\"type\":\"model\",\"name\":\"drag1\",\"properties\":[{\"name\":\"slider_width\",\"kind\":\"Any\",\"default\":5},{\"name\":\"slider_color\",\"kind\":\"Any\",\"default\":\"black\"},{\"name\":\"value\",\"kind\":\"Any\",\"default\":50}]},{\"type\":\"model\",\"name\":\"click1\",\"properties\":[{\"name\":\"terminal_output\",\"kind\":\"Any\",\"default\":\"\"},{\"name\":\"debug_name\",\"kind\":\"Any\",\"default\":\"\"},{\"name\":\"clears\",\"kind\":\"Any\",\"default\":0}]},{\"type\":\"model\",\"name\":\"FastWrapper1\",\"properties\":[{\"name\":\"object\",\"kind\":\"Any\",\"default\":null},{\"name\":\"style\",\"kind\":\"Any\",\"default\":null}]},{\"type\":\"model\",\"name\":\"NotificationAreaBase1\",\"properties\":[{\"name\":\"js_events\",\"kind\":\"Any\",\"default\":{\"type\":\"map\"}},{\"name\":\"position\",\"kind\":\"Any\",\"default\":\"bottom-right\"},{\"name\":\"_clear\",\"kind\":\"Any\",\"default\":0}]},{\"type\":\"model\",\"name\":\"NotificationArea1\",\"properties\":[{\"name\":\"js_events\",\"kind\":\"Any\",\"default\":{\"type\":\"map\"}},{\"name\":\"notifications\",\"kind\":\"Any\",\"default\":[]},{\"name\":\"position\",\"kind\":\"Any\",\"default\":\"bottom-right\"},{\"name\":\"_clear\",\"kind\":\"Any\",\"default\":0},{\"name\":\"types\",\"kind\":\"Any\",\"default\":[{\"type\":\"map\",\"entries\":[[\"type\",\"warning\"],[\"background\",\"#ffc107\"],[\"icon\",{\"type\":\"map\",\"entries\":[[\"className\",\"fas fa-exclamation-triangle\"],[\"tagName\",\"i\"],[\"color\",\"white\"]]}]]},{\"type\":\"map\",\"entries\":[[\"type\",\"info\"],[\"background\",\"#007bff\"],[\"icon\",{\"type\":\"map\",\"entries\":[[\"className\",\"fas fa-info-circle\"],[\"tagName\",\"i\"],[\"color\",\"white\"]]}]]}]}]},{\"type\":\"model\",\"name\":\"Notification\",\"properties\":[{\"name\":\"background\",\"kind\":\"Any\",\"default\":null},{\"name\":\"duration\",\"kind\":\"Any\",\"default\":3000},{\"name\":\"icon\",\"kind\":\"Any\",\"default\":null},{\"name\":\"message\",\"kind\":\"Any\",\"default\":\"\"},{\"name\":\"notification_type\",\"kind\":\"Any\",\"default\":null},{\"name\":\"_rendered\",\"kind\":\"Any\",\"default\":false},{\"name\":\"_destroyed\",\"kind\":\"Any\",\"default\":false}]},{\"type\":\"model\",\"name\":\"TemplateActions1\",\"properties\":[{\"name\":\"open_modal\",\"kind\":\"Any\",\"default\":0},{\"name\":\"close_modal\",\"kind\":\"Any\",\"default\":0}]},{\"type\":\"model\",\"name\":\"BootstrapTemplateActions1\",\"properties\":[{\"name\":\"open_modal\",\"kind\":\"Any\",\"default\":0},{\"name\":\"close_modal\",\"kind\":\"Any\",\"default\":0}]},{\"type\":\"model\",\"name\":\"TemplateEditor1\",\"properties\":[{\"name\":\"layout\",\"kind\":\"Any\",\"default\":[]}]},{\"type\":\"model\",\"name\":\"MaterialTemplateActions1\",\"properties\":[{\"name\":\"open_modal\",\"kind\":\"Any\",\"default\":0},{\"name\":\"close_modal\",\"kind\":\"Any\",\"default\":0}]},{\"type\":\"model\",\"name\":\"ReactiveESM1\",\"properties\":[{\"name\":\"esm_constants\",\"kind\":\"Any\",\"default\":{\"type\":\"map\"}}]},{\"type\":\"model\",\"name\":\"JSComponent1\",\"properties\":[{\"name\":\"esm_constants\",\"kind\":\"Any\",\"default\":{\"type\":\"map\"}}]},{\"type\":\"model\",\"name\":\"ReactComponent1\",\"properties\":[{\"name\":\"esm_constants\",\"kind\":\"Any\",\"default\":{\"type\":\"map\"}}]},{\"type\":\"model\",\"name\":\"AnyWidgetComponent1\",\"properties\":[{\"name\":\"esm_constants\",\"kind\":\"Any\",\"default\":{\"type\":\"map\"}}]},{\"type\":\"model\",\"name\":\"request_value1\",\"properties\":[{\"name\":\"fill\",\"kind\":\"Any\",\"default\":\"none\"},{\"name\":\"_synced\",\"kind\":\"Any\",\"default\":null},{\"name\":\"_request_sync\",\"kind\":\"Any\",\"default\":0}]}]}};\n",
              "  var render_items = [{\"docid\":\"a878d716-6a62-4ee6-8d22-a0f791b4df55\",\"roots\":{\"6b288399-c6a7-43fe-a751-d4e35b27b797\":\"fcbc4e1d-f9b9-4e5c-95c1-bf3e45cfbf98\"},\"root_ids\":[\"6b288399-c6a7-43fe-a751-d4e35b27b797\"]}];\n",
              "  var docs = Object.values(docs_json)\n",
              "  if (!docs) {\n",
              "    return\n",
              "  }\n",
              "  const py_version = docs[0].version.replace('rc', '-rc.').replace('.dev', '-dev.')\n",
              "  async function embed_document(root) {\n",
              "    var Bokeh = get_bokeh(root)\n",
              "    await Bokeh.embed.embed_items_notebook(docs_json, render_items);\n",
              "    for (const render_item of render_items) {\n",
              "      for (const root_id of render_item.root_ids) {\n",
              "\tconst id_el = document.getElementById(root_id)\n",
              "\tif (id_el.children.length && id_el.children[0].hasAttribute('data-root-id')) {\n",
              "\t  const root_el = id_el.children[0]\n",
              "\t  root_el.id = root_el.id + '-rendered'\n",
              "\t  for (const child of root_el.children) {\n",
              "            // Ensure JupyterLab does not capture keyboard shortcuts\n",
              "            // see: https://jupyterlab.readthedocs.io/en/4.1.x/extension/notebook.html#keyboard-interaction-model\n",
              "\t    child.setAttribute('data-lm-suppress-shortcuts', 'true')\n",
              "\t  }\n",
              "\t}\n",
              "      }\n",
              "    }\n",
              "  }\n",
              "  function get_bokeh(root) {\n",
              "    if (root.Bokeh === undefined) {\n",
              "      return null\n",
              "    } else if (root.Bokeh.version !== py_version) {\n",
              "      if (root.Bokeh.versions === undefined || !root.Bokeh.versions.has(py_version)) {\n",
              "\treturn null\n",
              "      }\n",
              "      return root.Bokeh.versions.get(py_version);\n",
              "    } else if (root.Bokeh.version === py_version) {\n",
              "      return root.Bokeh\n",
              "    }\n",
              "    return null\n",
              "  }\n",
              "  function is_loaded(root) {\n",
              "    var Bokeh = get_bokeh(root)\n",
              "    return (Bokeh != null && Bokeh.Panel !== undefined)\n",
              "  }\n",
              "  if (is_loaded(root)) {\n",
              "    embed_document(root);\n",
              "  } else {\n",
              "    var attempts = 0;\n",
              "    var timer = setInterval(function(root) {\n",
              "      if (is_loaded(root)) {\n",
              "        clearInterval(timer);\n",
              "        embed_document(root);\n",
              "      } else if (document.readyState == \"complete\") {\n",
              "        attempts++;\n",
              "        if (attempts > 200) {\n",
              "          clearInterval(timer);\n",
              "\t  var Bokeh = get_bokeh(root)\n",
              "\t  if (Bokeh == null || Bokeh.Panel == null) {\n",
              "            console.warn(\"Panel: ERROR: Unable to run Panel code because Bokeh or Panel library is missing\");\n",
              "\t  } else {\n",
              "\t    console.warn(\"Panel: WARNING: Attempting to render but not all required libraries could be resolved.\")\n",
              "\t    embed_document(root)\n",
              "\t  }\n",
              "        }\n",
              "      }\n",
              "    }, 25, root)\n",
              "  }\n",
              "})(window);</script>"
            ],
            "text/plain": [
              ":Layout\n",
              "   .Path.I  :Path   [x,y]   (PAVD)\n",
              "   .Path.II :Path   [x,y]   (PAVD)"
            ]
          },
          "execution_count": 56,
          "metadata": {
            "application/vnd.holoviews_exec.v0+json": {
              "id": "6b288399-c6a7-43fe-a751-d4e35b27b797"
            }
          },
          "output_type": "execute_result"
        }
      ],
      "source": [
        "# Create Holoviews Paths\n",
        "path1 = hv.Path(pavdAll1, vdims='PAVD').opts(\n",
        "    color='PAVD', clim=(0, 0.1), cmap='Greens', line_width=20, colorbar=True,\n",
        "    width=700, height=550, clabel='PAVD', xlabel='Shot Number',\n",
        "    ylabel='Elevation (m)', fontsize={'title': 16, 'xlabel': 16, 'ylabel': 16,\n",
        "                                      'xticks': 12, 'yticks': 12,\n",
        "                                      'clabel': 12, 'cticks': 10},\n",
        "    shared_axes=False  # ✅ Allows independent Y-axis for visibility\n",
        ")\n",
        "\n",
        "path2 = hv.Path(pavdAll2, vdims='PAVD').opts(\n",
        "    color='PAVD', clim=(0, 0.1), cmap='Greens', line_width=20, colorbar=True,\n",
        "    width=700, height=550, clabel='PAVD', xlabel='Shot Number',\n",
        "    ylabel='Elevation (m)', fontsize={'title': 16, 'xlabel': 16, 'ylabel': 16,\n",
        "                                      'xticks': 12, 'yticks': 12,\n",
        "                                      'clabel': 12, 'cticks': 10},\n",
        "    shared_axes=False  # ✅ Different scaling for better visibility\n",
        ")\n",
        "\n",
        "# Display side by side without shared axes\n",
        "(path1 + path2).opts(shared_axes=False)\n",
        "\n"
      ]
    },
    {
      "cell_type": "markdown",
      "metadata": {
        "id": "xuV6eU-CTaiF"
      },
      "source": [
        "### 🎉 Congratulations! You have plotted your first PAVD profile.\n",
        "\n",
        "Now, let's analyze the results and reflect on the data.\n",
        "\n",
        "#### 🧐 Questions to Think About:\n",
        "\n",
        "1. **Axes & Scaling**\n",
        "   - What do you notice about the axes for elevation? How does this affect the way PAVD is displayed?\n",
        "   - Why do the two plots have different elevation ranges? What does this tell us about the two shots?\n",
        "   - If we had used the same y-axis limits for both graphs, what would change?\n",
        "\n",
        "2. **PAVD Distribution**\n",
        "   - Which regions in the plot have the highest PAVD values? What does this mean in terms of canopy structure?\n",
        "   - Is the PAVD distribution continuous or patchy? Why might this be the case?\n",
        "   - How does the PAVD vary with elevation? Is there a pattern you can identify?\n",
        "\n",
        "3. **Data Representation**\n",
        "   - The PAVD is color-coded using a gradient from light green to dark green. What does a darker color indicate?\n",
        "   - Does the color scale influence how you interpret the data? If so, how?\n",
        "   - If we used a different colormap (e.g., ‘Reds’ instead of ‘Greens’), how might that affect interpretation?\n",
        "\n",
        "4. **Scientific Interpretation**\n",
        "   - What could cause one shot to have higher PAVD values at certain elevations than the other?\n",
        "   - How do these profiles relate to forest structure? Can you infer anything about canopy height or density?\n",
        "   - If you were collecting more data, what other variables would you want to include for a better understanding of PAVD?\n",
        "\n",
        "5. **Extra**: Using what you've learned, describe what you would expect to see in a PAVD profile for:\n",
        "   - A dense tropical rainforest\n",
        "   - An open savanna\n",
        "   - A recently logged forest\n",
        "\n"
      ]
    },
    {
      "cell_type": "markdown",
      "metadata": {
        "id": "zJiSeFV1TaiF"
      },
      "source": [
        "---\n",
        "# 5. Work with GEDI L2B Beam Transects<a id=\"beamtransects\"></a>\n",
        "#### Next, import a number of desired SDS layers for BEAM0110 (for the entire orbit) and create a `pandas` Dataframe to store the arrays."
      ]
    },
    {
      "cell_type": "code",
      "execution_count": null,
      "metadata": {
        "id": "sYW-FsJFTaiF"
      },
      "outputs": [],
      "source": [
        "# Open all of the desired SDS\n",
        "dem = gediL2B[[g for g in beamSDS if g.endswith('/digital_elevation_model')][0]][()]\n",
        "zElevation = gediL2B[[g for g in beamSDS if g.endswith('/elev_lowestmode')][0]][()]\n",
        "zHigh = gediL2B[[g for g in beamSDS if g.endswith('/elev_highestreturn')][0]][()]\n",
        "zLat = gediL2B[[g for g in beamSDS if g.endswith('/lat_lowestmode')][0]][()]\n",
        "zLon = gediL2B[[g for g in beamSDS if g.endswith('/lon_lowestmode')][0]][()]\n",
        "canopyHeight = gediL2B[[g for g in beamSDS if g.endswith('/rh100')][0]][()]\n",
        "quality = gediL2B[[g for g in beamSDS if g.endswith('/l2b_quality_flag')][0]][()]\n",
        "degrade = gediL2B[[g for g in beamSDS if g.endswith('/degrade_flag')][0]][()]\n",
        "sensitivity = gediL2B[[g for g in beamSDS if g.endswith('/sensitivity')][0]][()]\n",
        "pavd = gediL2B[f'{beamNames[0]}/pavd_z'][()]\n",
        "shotNums = gediL2B[f'{beamNames[0]}/shot_number'][()]\n",
        "selectedAlgorithmL2A = gediL2B[[g for g in beamSDS if g.endswith('/selected_l2a_algorithm')][0]][()]\n",
        "\n",
        "# Create a shot index\n",
        "shotIndex = np.arange(shotNums.size)"
      ]
    },
    {
      "cell_type": "markdown",
      "metadata": {
        "id": "Bpd3Q_SfTaiF"
      },
      "source": [
        "#### In the GEDI L2B product, Canopy Height is stored in units (cm), so below convert to meters."
      ]
    },
    {
      "cell_type": "code",
      "execution_count": null,
      "metadata": {
        "id": "RM6ezhGHTaiF"
      },
      "outputs": [],
      "source": [
        "canopyHeight = canopyHeight / 100  # Convert RH100 from cm to m"
      ]
    },
    {
      "cell_type": "markdown",
      "metadata": {
        "id": "BgF-8ve1TaiF"
      },
      "source": [
        "#### As mentioned in the sections above, Plant Area Volume Density (pavd) is defined as the _Vertical Plant Area Volume Density profile with a vertical step size of dZ_. Below, reformat the shape of the PAVD layer in order to add it to the dataframe below."
      ]
    },
    {
      "cell_type": "code",
      "execution_count": null,
      "metadata": {
        "id": "T89hwDB3TaiF"
      },
      "outputs": [],
      "source": [
        "print(f\"The shape of Canopy Height is {canopyHeight.shape} vs. the shape of PAVD, which is {pavd.shape}.\")"
      ]
    },
    {
      "cell_type": "markdown",
      "metadata": {
        "id": "0p0x6_h6TaiF"
      },
      "source": [
        "#### Above, notice that unlike a SDS layer like Canopy Height, which has a single value for each shot, PAVD has 30 values (representing different vertical heights) for each shot.\n",
        "#### Below, reformat the data into a list of values for each shot."
      ]
    },
    {
      "cell_type": "code",
      "execution_count": null,
      "metadata": {
        "id": "yY0sieWATaiG"
      },
      "outputs": [],
      "source": [
        "# Set up an empty list to append to\n",
        "pavdA = []\n",
        "for i in range(len(pavd)):\n",
        "\n",
        "    # If any of the values are fill value, set to nan\n",
        "    pavdF = [np.nan]\n",
        "    for p in range(len(pavd[i])):\n",
        "        if pavd[i][p]!= -9999:\n",
        "            pavdF.append(pavd[i][p])  # If the value is not fill value, append to list\n",
        "    pavdA.append(pavdF)               # Append back to master list"
      ]
    },
    {
      "cell_type": "markdown",
      "metadata": {
        "id": "aCeQXUN9TaiG"
      },
      "source": [
        "#### Note: The cell above may take up to a minute to process."
      ]
    },
    {
      "cell_type": "markdown",
      "metadata": {
        "id": "PtJ0kR5qTaiG"
      },
      "source": [
        "#### Below, notice the reformatted PAVD layer, which should now fit into the dataframe created below."
      ]
    },
    {
      "cell_type": "code",
      "execution_count": null,
      "metadata": {
        "id": "iOYqEeTFTaiG",
        "scrolled": true
      },
      "outputs": [],
      "source": [
        "len(pavdA)"
      ]
    },
    {
      "cell_type": "code",
      "execution_count": null,
      "metadata": {
        "id": "q1QM-GE4TaiG"
      },
      "outputs": [],
      "source": [
        "# Take the DEM, GEDI-produced Elevation, and Canopy height and add to a Pandas dataframe\n",
        "transectDF = pd.DataFrame({\n",
        "    'Shot Index': shotIndex,\n",
        "    'Shot Number': shotNums,\n",
        "    'Latitude': zLat,\n",
        "    'Longitude': zLon,\n",
        "    'Tandem-X DEM': dem,\n",
        "    'Elevation (m)': zElevation,\n",
        "    'Canopy Elevation (m)': zHigh,\n",
        "    'Canopy Height (rh100)': canopyHeight,\n",
        "    'Quality Flag': quality,\n",
        "    'Degrade Flag': degrade,\n",
        "    'Plant Area Volume Density': pavdA,\n",
        "    'Sensitivity': sensitivity,\n",
        "    'Selected L2A Algorithm': selectedAlgorithmL2A\n",
        "    })"
      ]
    },
    {
      "cell_type": "code",
      "execution_count": null,
      "metadata": {
        "id": "l68eCYUwTaiG"
      },
      "outputs": [],
      "source": [
        "transectDF"
      ]
    },
    {
      "cell_type": "code",
      "execution_count": null,
      "metadata": {
        "id": "kdmndZkoTaiG"
      },
      "outputs": [],
      "source": [
        "index"
      ]
    },
    {
      "cell_type": "markdown",
      "metadata": {
        "id": "bLhaJWDaTaiG"
      },
      "source": [
        "#### Notice the unusual values listed above--those shots are flagged as poor quality and will be removed in Section 5.1.\n",
        "#### Now that you have the desired SDS into a `pandas` dataframe, begin plotting the entire beam transect:"
      ]
    },
    {
      "cell_type": "code",
      "execution_count": null,
      "metadata": {
        "id": "loOrusLnTaiG"
      },
      "outputs": [],
      "source": [
        "# Plot Canopy Height\n",
        "canopyVis = hv.Scatter((transectDF['Shot Index'], transectDF['Canopy Height (rh100)']))\n",
        "canopyVis.opts(color='darkgreen', height=500, width=900, title=f'GEDI L2B Full Transect {beamNames[0]}',\n",
        "               fontsize={'title':16, 'xlabel':16, 'ylabel': 16}, size=0.1, xlabel='Shot Index', ylabel='Canopy Height (m)')"
      ]
    },
    {
      "cell_type": "markdown",
      "metadata": {
        "id": "2F6CYcnGTaiG"
      },
      "source": [
        "#### Congratulations! You have plotted your first GEDI sub-orbit beam transect. Notice above that things look a little messy--before we dive deeper into plotting full transects, let's quality filter the shots in the section below."
      ]
    },
    {
      "cell_type": "markdown",
      "metadata": {
        "id": "dN-Dij3LTaiG"
      },
      "source": [
        "## 5.1 Quality Filtering\n",
        "#### Now that you have the desired layers imported as a dataframe for the entire beam transect, let's perform quality filtering.\n",
        "#### Below, remove any shots where the `l2b_quality_flag` is set to 0 by defining those shots as `nan`.\n",
        "#### The syntax of the line below can be read as: in the dataframe, find the rows \"where\" the quality flag is not equal (ne) to 0. If a row (shot) does not meet the condition, set all values equal to `nan` for that row."
      ]
    },
    {
      "cell_type": "code",
      "execution_count": null,
      "metadata": {
        "id": "s_hoGijxTaiG"
      },
      "outputs": [],
      "source": [
        "transectDF = transectDF.where(transectDF['Quality Flag'].ne(0))  # Set any poor quality returns to NaN"
      ]
    },
    {
      "cell_type": "code",
      "execution_count": null,
      "metadata": {
        "id": "CWAGR5yYTaiG"
      },
      "outputs": [],
      "source": [
        "transectDF"
      ]
    },
    {
      "cell_type": "markdown",
      "metadata": {
        "id": "wdWsGcrLTaiG"
      },
      "source": [
        "#### Below, quality filter even further by using the `degrade_flag` (Greater than zero if the shot occurs during a degrade period, zero otherwise) and the `Sensitivity` layer, using a threshold of 0.95."
      ]
    },
    {
      "cell_type": "code",
      "execution_count": null,
      "metadata": {
        "id": "BdcYe5GKTaiG"
      },
      "outputs": [],
      "source": [
        "transectDF = transectDF.where(transectDF['Degrade Flag'] < 1)\n",
        "transectDF = transectDF.where(transectDF['Sensitivity'] > 0.95)"
      ]
    },
    {
      "cell_type": "markdown",
      "metadata": {
        "id": "Xg_4a2bVTaiG"
      },
      "source": [
        "#### Below, drop all of the shots that did not pass the quality filtering standards outlined above from the `transectDF`."
      ]
    },
    {
      "cell_type": "code",
      "execution_count": null,
      "metadata": {
        "id": "EcmWbAKRTaiH"
      },
      "outputs": [],
      "source": [
        "transectDF = transectDF.dropna()  # Drop all of the rows (shots) that did not pass the quality filtering above"
      ]
    },
    {
      "cell_type": "code",
      "execution_count": null,
      "metadata": {
        "id": "3DjBKRQsTaiH"
      },
      "outputs": [],
      "source": [
        "print(f\"Quality filtering complete, {len(transectDF)} high quality shots remaining.\")"
      ]
    },
    {
      "cell_type": "markdown",
      "metadata": {
        "id": "GBxu5yU7TaiH"
      },
      "source": [
        "## 5.2 Plot Beam Transects\n",
        "#### Next, plot the full remaining transect of high quality values using `holoviews` Scatter(). Combine the Tandem-X derived elevation, the GEDI-derived elevation, and the Canopy Top Elevation in a combined holoviews plot."
      ]
    },
    {
      "cell_type": "code",
      "execution_count": null,
      "metadata": {
        "id": "Q3Gun1xfTaiH"
      },
      "outputs": [],
      "source": [
        "# Plot Digital Elevation Model\n",
        "demVis = hv.Scatter((transectDF['Shot Index'], transectDF['Tandem-X DEM']), label='Tandem-X DEM')\n",
        "demVis = demVis.opts(color='black', height=500, width=900, fontsize={'xlabel':16, 'ylabel': 16}, size=1.5)"
      ]
    },
    {
      "cell_type": "code",
      "execution_count": null,
      "metadata": {
        "id": "TrVS-uROTaiH"
      },
      "outputs": [],
      "source": [
        "# Plot GEDI-Retrieved Elevation\n",
        "zVis = hv.Scatter((transectDF['Shot Index'], transectDF['Elevation (m)']), label='GEDI-derived Elevation')\n",
        "zVis = zVis.opts(color='saddlebrown', height=500, width=900, fontsize={'xlabel':16, 'ylabel': 16}, size=1.5)"
      ]
    },
    {
      "cell_type": "code",
      "execution_count": null,
      "metadata": {
        "id": "yZiZRw7VTaiH"
      },
      "outputs": [],
      "source": [
        "# Plot Canopy Top Elevation\n",
        "rhVis = hv.Scatter((transectDF['Shot Index'], transectDF['Canopy Elevation (m)']), label='Canopy Top Elevation')\n",
        "rhVis = rhVis.opts(color='darkgreen', height=500, width=900, fontsize={'xlabel':16, 'ylabel': 16}, size=1.5,\n",
        "                   tools=['hover'], xlabel='Shot Index', ylabel='Elevation (m)')"
      ]
    },
    {
      "cell_type": "code",
      "execution_count": null,
      "metadata": {
        "id": "6e3_VO44TaiH"
      },
      "outputs": [],
      "source": [
        "# Combine all three scatterplots\n",
        "(demVis * zVis * rhVis).opts(show_legend=True, legend_position='top_left',fontsize={'title':14, 'xlabel':16, 'ylabel': 16},\n",
        "                             title=f'{beamNames[0]} Full Transect: {L2B.split(\".\")[0]}')"
      ]
    },
    {
      "cell_type": "markdown",
      "metadata": {
        "id": "qx6uXF7HTaiH"
      },
      "source": [
        "#### The plot still looks a bit messy this far zoomed out--feel free to pan, zoom, and explore different areas of the plot. The waveforms plotted in section 4 were 46597-46600. If you zoom into the high-quality shots between 4.000e+5 and 5.000e+5, you will find the portion of the transect intersecting Redwood National Park, seen below:\n",
        "![GEDI_L2B_V2_Tutorial_2.png](../../img/GEDI_L2B_V2_Tutorial_2.png \"BEAM0110 Transect Plot of Tandem-X Elevation, GEDI-derived Elevation, and Canopy Top Elevation over Redwood National Park, USA.\")"
      ]
    },
    {
      "cell_type": "markdown",
      "metadata": {
        "id": "8SE8sBXoTaiH"
      },
      "source": [
        "## 5.3 Subset Beam Transects"
      ]
    },
    {
      "cell_type": "markdown",
      "metadata": {
        "id": "GNaYT6-zTaiH"
      },
      "source": [
        "#### Now, subset down to a smaller transect centered on the shot analyzed in the sections above."
      ]
    },
    {
      "cell_type": "code",
      "execution_count": null,
      "metadata": {
        "id": "vkiNtzJLTaiH"
      },
      "outputs": [],
      "source": [
        "index"
      ]
    },
    {
      "cell_type": "code",
      "execution_count": null,
      "metadata": {
        "id": "FYrPzMUOd3tU"
      },
      "outputs": [],
      "source": [
        "transectDF"
      ]
    },
    {
      "cell_type": "code",
      "execution_count": null,
      "metadata": {
        "id": "7oz5DcNFTaiH"
      },
      "outputs": [],
      "source": [
        "# Grab 50 points before and after the shot visualized above\n",
        "start = index - 50\n",
        "end = index + 50"
      ]
    },
    {
      "cell_type": "code",
      "execution_count": null,
      "metadata": {
        "id": "PnRLClHNTaiI"
      },
      "outputs": [],
      "source": [
        "start"
      ]
    },
    {
      "cell_type": "code",
      "execution_count": null,
      "metadata": {
        "id": "vL-_R3-FTaiI"
      },
      "outputs": [],
      "source": [
        "transectDF['Latitude']"
      ]
    },
    {
      "cell_type": "markdown",
      "metadata": {
        "id": "62hsJDCJTaiI"
      },
      "source": [
        "#### Below, subset the transect using `.loc`."
      ]
    },
    {
      "cell_type": "code",
      "execution_count": null,
      "metadata": {
        "id": "yUOtI_buTaiI"
      },
      "outputs": [],
      "source": [
        "transectDF = transectDF.loc[start:end]  # Subset the Dataframe to only the selected region of interest over Redwood NP"
      ]
    },
    {
      "cell_type": "markdown",
      "metadata": {
        "id": "FjVqJktQTaiI"
      },
      "source": [
        "---\n",
        "# 6. Plot Profile Transects <a id=\"plottransects\"></a>\n",
        "#### In this section, plot the transect subset using elevation, canopy height, and plant area volume density (PAVD) metrics."
      ]
    },
    {
      "cell_type": "markdown",
      "metadata": {
        "id": "FR8ps_Y4TaiI"
      },
      "source": [
        "#### In order to get an idea of the length of the beam transect that you are plotting, you can plot the x-axis as distance, which is calculated below."
      ]
    },
    {
      "cell_type": "code",
      "execution_count": null,
      "metadata": {
        "id": "jjQOr1L2TaiI"
      },
      "outputs": [],
      "source": [
        "# Calculate along-track distance\n",
        "distance = np.arange(0.0, len(transectDF.index) * 60, 60)  # GEDI Shots are spaced 60 m apart\n",
        "transectDF['Distance'] = distance                          # Add Distance as a new column in the dataframe"
      ]
    },
    {
      "cell_type": "markdown",
      "metadata": {
        "id": "jXfa86meTaiI"
      },
      "source": [
        "## 6.1 Plot PAVD Transects"
      ]
    },
    {
      "cell_type": "markdown",
      "metadata": {
        "id": "Ac-SA_IvTaiI"
      },
      "source": [
        "#### Similar to what was done with PAVD in the sections above, reformat PAVD into a list of tuples containing each PAVD value and height by shot."
      ]
    },
    {
      "cell_type": "code",
      "execution_count": null,
      "metadata": {
        "id": "4o7uelEZTaiI"
      },
      "outputs": [],
      "source": [
        "pavdAll = []\n",
        "for j, s in enumerate(transectDF.index):\n",
        "    pavdShot = transectDF['Plant Area Volume Density'][s]\n",
        "    elevShot = transectDF['Elevation (m)'][s]\n",
        "    pavdElev = []\n",
        "\n",
        "    # Remove fill values\n",
        "    if np.isnan(pavdShot).all():\n",
        "        continue\n",
        "    else:\n",
        "        del pavdShot[0]\n",
        "    for i, e in enumerate(range(len(pavdShot))):\n",
        "        if pavdShot[i] > 0:\n",
        "            pavdElev.append((distance[j], elevShot + dz * i, pavdShot[i]))  # Append tuple of distance, elevation, and PAVD\n",
        "    pavdAll.append(pavdElev)                                                # Append to final list"
      ]
    },
    {
      "cell_type": "code",
      "execution_count": null,
      "metadata": {
        "id": "8HspU6h3TaiI",
        "scrolled": true
      },
      "outputs": [],
      "source": [
        "canopyElevation = [p[-1][1] for p in pavdAll]  # Grab the canopy elevation by selecting the last value in each PAVD"
      ]
    },
    {
      "cell_type": "markdown",
      "metadata": {
        "id": "weBovIY4TaiI"
      },
      "source": [
        "#### Below, plot each shot by using `holoviews` Path() function, with the PAVD plotted in the third dimension in shades of green."
      ]
    },
    {
      "cell_type": "code",
      "execution_count": null,
      "metadata": {
        "id": "bGCnzW5VTaiI"
      },
      "outputs": [],
      "source": [
        "path1 = hv.Path(pavdAll, vdims='PAVD').options(color='PAVD', clim=(0,0.3), cmap='Greens', line_width=8, colorbar=True,\n",
        "                                               width=950, height=500, clabel='PAVD', xlabel='Distance Along Transect (m)',\n",
        "                                               ylabel='Elevation (m)', fontsize={'title':16, 'xlabel':16, 'ylabel': 16,\n",
        "                                                                                 'xticks':12, 'yticks':12,\n",
        "                                                                                 'clabel':12, 'cticks':10})\n",
        "path1"
      ]
    },
    {
      "cell_type": "markdown",
      "metadata": {
        "id": "032NUuc1TaiI"
      },
      "source": [
        "#### Add in the ground elevation and canopy top elevation for better context as to where in the canopy the highest PAVD exists."
      ]
    },
    {
      "cell_type": "code",
      "execution_count": null,
      "metadata": {
        "id": "AqsFtjrXTaiI"
      },
      "outputs": [],
      "source": [
        "path2 = hv.Curve((distance, transectDF['Elevation (m)']), label='Ground Elevation').options(color='black', line_width=2)\n",
        "path3 = hv.Curve((distance, canopyElevation), label='Canopy Top Elevation').options(color='grey', line_width=1.5)"
      ]
    },
    {
      "cell_type": "code",
      "execution_count": null,
      "metadata": {
        "id": "W_WMGxQQTaiJ"
      },
      "outputs": [],
      "source": [
        "# Plot all three together\n",
        "path = path1 * path2 * path3\n",
        "path.opts(height=500,width=980, ylim=(min(transectDF['Elevation (m)']) - 5, max(canopyElevation) + 5),\n",
        "          xlabel='Distance Along Transect (m)', ylabel='Elevation (m)', legend_position='bottom_right',\n",
        "          fontsize={'title':15, 'xlabel':15, 'ylabel': 15, 'xticks': 14, 'yticks': 14, 'legend': 14},\n",
        "          title=f'GEDI L2B {beamNames[0]} PAVD over Dinden National Park, Queensland, Australia in 2022')"
      ]
    },
    {
      "cell_type": "code",
      "execution_count": null,
      "metadata": {
        "id": "92wT99F-TaiJ"
      },
      "outputs": [],
      "source": [
        "#save graph\n",
        "hv.save(path, 'DATA/GEDI_L2B_PAVD.html')"
      ]
    },
    {
      "cell_type": "markdown",
      "metadata": {
        "id": "blkFiyQmTaiJ"
      },
      "source": [
        "#### Above, you can get an idea about the terrain over the region of interest, particularly the classic \"V\" representing the river valley that is bisected by the transect. In terms of vegetation structure, this plot does a good job of showing not only which portions of the canopy are taller, but also where they are denser (darker shades of green)."
      ]
    },
    {
      "cell_type": "code",
      "execution_count": null,
      "metadata": {
        "id": "zzP9hBoZTaiJ"
      },
      "outputs": [],
      "source": [
        "del distance, canopyElevation, pavdAll, pavdElev, pavdShot, transectDF"
      ]
    },
    {
      "cell_type": "markdown",
      "metadata": {
        "id": "PxqhIXKvTaiJ"
      },
      "source": [
        "### At this point you have visualized the elevation, canopy, and vertical structure of specific footprints over Redwood national park, and for a transect cutting through the national park. In section 7 you will look at mapping all of the high-quality shots from all eight GEDI beams for a given region of interest in order to gain knowledge on the spatial distribution of and characteristics of the canopy over Redwood National Park."
      ]
    },
    {
      "cell_type": "markdown",
      "metadata": {
        "id": "eg9vNsgFTaiJ"
      },
      "source": [
        "---\n",
        "# 7. Spatial Visualization<a id=\"spatialvisualization\"></a>\n",
        "#### Section 7 combines many of the techniques learned above including how to import GEDI datasets, perform quality filtering, spatial subsetting, and visualization."
      ]
    },
    {
      "cell_type": "markdown",
      "metadata": {
        "id": "UIlUu7DSTaiJ"
      },
      "source": [
        "## 7.1 Import, Subset, and Quality Filter All Beams"
      ]
    },
    {
      "cell_type": "markdown",
      "metadata": {
        "id": "NzEVQprUTaiJ"
      },
      "source": [
        "#### Below, re-open the GEDI L2B observation--but this time, loop through and import data for all 8 of the GEDI beams."
      ]
    },
    {
      "cell_type": "code",
      "execution_count": null,
      "metadata": {
        "id": "boDoafC4TaiJ"
      },
      "outputs": [],
      "source": [
        "beamNames = [g for g in gediL2B.keys() if g.startswith('BEAM')]"
      ]
    },
    {
      "cell_type": "code",
      "execution_count": null,
      "metadata": {
        "id": "vmKkhCsjTaiJ"
      },
      "outputs": [],
      "source": [
        "beamNames"
      ]
    },
    {
      "cell_type": "markdown",
      "metadata": {
        "id": "_Vg8LpMETaiJ"
      },
      "source": [
        "#### Loop through each of the desired datasets (SDS) for each beam, append to lists, and transform into a `pandas` DataFrame."
      ]
    },
    {
      "cell_type": "code",
      "execution_count": null,
      "metadata": {
        "id": "OiUK7syZTaiJ"
      },
      "outputs": [],
      "source": [
        "# Set up lists to store data\n",
        "shotNum, dem, zElevation, zHigh, zLat, zLon, canopyHeight, quality, degrade, sensitivity, pai, beamI, selectedAlgorithmL2A = ([] for i in range(13))"
      ]
    },
    {
      "cell_type": "code",
      "execution_count": null,
      "metadata": {
        "id": "ozrQkGFuTaiJ"
      },
      "outputs": [],
      "source": [
        "# Loop through each beam and open the SDS needed\n",
        "for b in beamNames:\n",
        "    [shotNum.append(h) for h in gediL2B[[g for g in gediSDS if g.endswith('/shot_number') and b in g][0]][()]]\n",
        "    [dem.append(h) for h in gediL2B[[g for g in gediSDS if g.endswith('/digital_elevation_model') and b in g][0]][()]]\n",
        "    [zElevation.append(h) for h in gediL2B[[g for g in gediSDS if g.endswith('/elev_lowestmode') and b in g][0]][()]]\n",
        "    [zHigh.append(h) for h in gediL2B[[g for g in gediSDS if g.endswith('/elev_highestreturn') and b in g][0]][()]]\n",
        "    [zLat.append(h) for h in gediL2B[[g for g in gediSDS if g.endswith('/lat_lowestmode') and b in g][0]][()]]\n",
        "    [zLon.append(h) for h in gediL2B[[g for g in gediSDS if g.endswith('/lon_lowestmode') and b in g][0]][()]]\n",
        "    [canopyHeight.append(h) for h in gediL2B[[g for g in gediSDS if g.endswith('/rh100') and b in g][0]][()]]\n",
        "    [quality.append(h) for h in gediL2B[[g for g in gediSDS if g.endswith('/l2b_quality_flag') and b in g][0]][()]]\n",
        "    [degrade.append(h) for h in gediL2B[[g for g in gediSDS if g.endswith('/degrade_flag') and b in g][0]][()]]\n",
        "    [sensitivity.append(h) for h in gediL2B[[g for g in gediSDS if g.endswith('/sensitivity') and b in g][0]][()]]\n",
        "    [beamI.append(h) for h in [b] * len(gediL2B[[g for g in gediSDS if g.endswith('/shot_number') and b in g][0]][()])]\n",
        "    [selectedAlgorithmL2A.append(h) for h in gediL2B[[g for g in gediSDS if g.endswith('/selected_l2a_algorithm') and b in g][0]][()]]\n",
        "    [pai.append(h) for h in gediL2B[f'{b}/pai'][()]]"
      ]
    },
    {
      "cell_type": "code",
      "execution_count": null,
      "metadata": {
        "id": "JFHy9NCeTaiJ"
      },
      "outputs": [],
      "source": [
        "# Convert lists to Pandas dataframe\n",
        "allDF = pd.DataFrame({\n",
        "    'Shot Number': shotNum,\n",
        "    'Beam': beamI,\n",
        "    'Latitude': zLat,\n",
        "    'Longitude': zLon,\n",
        "    'Tandem-X DEM': dem,\n",
        "    'Elevation (m)': zElevation,\n",
        "    'Canopy Elevation (m)': zHigh,\n",
        "    'Canopy Height (rh100)': canopyHeight,\n",
        "    'Quality Flag': quality,\n",
        "    'Plant Area Index': pai,\n",
        "    'Degrade Flag': degrade,\n",
        "    'Sensitivity': sensitivity,\n",
        "    'Selected L2A Algorithm': selectedAlgorithmL2A\n",
        "    })"
      ]
    },
    {
      "cell_type": "code",
      "execution_count": null,
      "metadata": {
        "id": "1dqdzJDmTaiJ"
      },
      "outputs": [],
      "source": [
        "del beamI, canopyHeight, degrade, dem, gediSDS, pai, quality, sensitivity, zElevation, zHigh, zLat, zLon, shotNum, selectedAlgorithmL2A"
      ]
    },
    {
      "cell_type": "markdown",
      "metadata": {
        "id": "Q-_oeDXeTaiJ"
      },
      "source": [
        "## 7.2 Spatial Subsetting\n",
        "#### Below, subset the pandas dataframe using a simple bounding box region of interest. If you are interested in spatially clipping GEDI shots to a GeoJSON region of interest, be sure to check out the GEDI-Subsetter python script available at: https://git.earthdata.nasa.gov/projects/LPDUR/repos/gedi-subsetter/browse."
      ]
    },
    {
      "cell_type": "code",
      "execution_count": null,
      "metadata": {
        "id": "UkbGUJxVTaiJ"
      },
      "outputs": [],
      "source": [
        "len(allDF)"
      ]
    },
    {
      "cell_type": "markdown",
      "metadata": {
        "id": "fcvLKinGTaiK"
      },
      "source": [
        "#### Almost 800,000 shots are contained in this single GEDI sub-orbit granule! Below subset down to only the shots falling within this small bounding box encompassing Redwood National Park. `RedwoodNP` our `geopandas` geodataframe can be called for the \"envelope\" or smallest bounding box encompassing the entire region of interest. Here, use that as the bounding box for subsetting the GEDI shots."
      ]
    },
    {
      "cell_type": "code",
      "execution_count": null,
      "metadata": {
        "id": "_3zaQhXvTaiK"
      },
      "outputs": [],
      "source": [
        "QLD.envelope[0].bounds"
      ]
    },
    {
      "cell_type": "code",
      "execution_count": null,
      "metadata": {
        "id": "hAL7gQj5TaiK"
      },
      "outputs": [],
      "source": [
        "minLon, minLat, maxLon, maxLat = QLD.envelope[0].bounds  # Define the min/max lat/lon from the bounds of Redwood NP"
      ]
    },
    {
      "cell_type": "markdown",
      "metadata": {
        "id": "irtOVzgSTaiK"
      },
      "source": [
        "#### Filter by the bounding box, which is done similarly to filtering by quality in section 6.1 above."
      ]
    },
    {
      "cell_type": "code",
      "execution_count": null,
      "metadata": {
        "id": "ZVdCGWrzTaiK"
      },
      "outputs": [],
      "source": [
        "allDF = allDF.where(allDF['Latitude'] > minLat)\n",
        "allDF = allDF.where(allDF['Latitude'] < maxLat)\n",
        "allDF = allDF.where(allDF['Longitude'] > minLon)\n",
        "allDF = allDF.where(allDF['Longitude'] < maxLon)"
      ]
    },
    {
      "cell_type": "code",
      "execution_count": null,
      "metadata": {
        "id": "luLMKzI9TaiK"
      },
      "outputs": [],
      "source": [
        "allDF = allDF.dropna()  # Drop shots outside of the ROI"
      ]
    },
    {
      "cell_type": "code",
      "execution_count": null,
      "metadata": {
        "id": "BAZvJWb-TaiK"
      },
      "outputs": [],
      "source": [
        "len(allDF)"
      ]
    },
    {
      "cell_type": "markdown",
      "metadata": {
        "id": "kGGJhpF2TaiK"
      },
      "source": [
        "#### Notice you have drastically reduced the number of shots you are working with (which will greatly enhance your experience in plotting them below). But first, remove any poor quality shots that exist within the ROI."
      ]
    },
    {
      "cell_type": "code",
      "execution_count": null,
      "metadata": {
        "id": "B6GAEoZETaiK"
      },
      "outputs": [],
      "source": [
        "# Set any poor quality returns to NaN\n",
        "allDF = allDF.where(allDF['Quality Flag'].ne(0))\n",
        "allDF = allDF.where(allDF['Degrade Flag'] < 1)\n",
        "allDF = allDF.where(allDF['Sensitivity'] > 0.95)\n",
        "allDF = allDF.dropna()\n",
        "len(allDF)"
      ]
    },
    {
      "cell_type": "markdown",
      "metadata": {
        "id": "Op50DZoDTaiK"
      },
      "source": [
        "#### Down to roughly 2000 shots, next create a `Shapely` Point out of each shot and insert it as the geometry column in the [soon to be geo]dataframe."
      ]
    },
    {
      "cell_type": "code",
      "execution_count": null,
      "metadata": {
        "id": "c0hQLPxZTaiK"
      },
      "outputs": [],
      "source": [
        "# Take the lat/lon dataframe and convert each lat/lon to a shapely point\n",
        "allDF['geometry'] = allDF.apply(lambda row: Point(row.Longitude, row.Latitude), axis=1)"
      ]
    },
    {
      "cell_type": "code",
      "execution_count": null,
      "metadata": {
        "id": "tSpWCFvsTaiK"
      },
      "outputs": [],
      "source": [
        "# Convert to geodataframe\n",
        "allDF = gp.GeoDataFrame(allDF)\n",
        "allDF = allDF.drop(columns=['Latitude','Longitude'])"
      ]
    },
    {
      "cell_type": "markdown",
      "metadata": {
        "id": "kMy3TzIvTaiK"
      },
      "source": [
        "## 7.3 Visualize All Beams: Canopy Height, Elevation, and PAI"
      ]
    },
    {
      "cell_type": "markdown",
      "metadata": {
        "id": "GmSoj2X9TaiL"
      },
      "source": [
        "#### Now, using the `pointVisual` function defined in section 3.2, plot the `geopandas` GeoDataFrame using `geoviews`."
      ]
    },
    {
      "cell_type": "code",
      "execution_count": null,
      "metadata": {
        "id": "00Va_W7wTaiL"
      },
      "outputs": [],
      "source": [
        "m = leafmap.Map()\n",
        "m.zoom_to_bounds(bbox)\n",
        "m.add_basemap('HYBRID')\n",
        "m.add_gdf(QLD, layer_name=\"QPRP-CSIRO\", style={'fillColor': 'yellow', 'color': 'yellow', 'fillOpacity': 0.5})\n",
        "m.add_markers(allDF, shape=\"circle\", radius=2, color=\"red\", fill_color=\"red\", popup=[\"geometry\", \"Beam\", \"Shot Number\", \"Quality Flag\"])\n",
        "m.add_markers(gdf, shape=\"circle\", radius=4, color=\"blue\", fill_color=\"blue\", popup=[\"plot_name\"])\n",
        "m"
      ]
    },
    {
      "cell_type": "code",
      "execution_count": null,
      "metadata": {
        "id": "IgxKlSFKTaiL"
      },
      "outputs": [],
      "source": [
        "allDF['Shot Number'] = allDF['Shot Number'].astype(str)  # Convert shot number to string\n",
        "\n",
        "vdims = []\n",
        "for f in allDF:\n",
        "    if f not in ['geometry']:\n",
        "        vdims.append(f)\n",
        "\n",
        "visual = pointVisual(allDF, vdims = vdims)\n",
        "visual * gv.Polygons(QLD['geometry']).opts(line_color='red', color=None)"
      ]
    },
    {
      "cell_type": "markdown",
      "metadata": {
        "id": "zts6JIliTaiL"
      },
      "source": [
        "#### Feel free to pan and zoom in to the GEDI shots in yellow."
      ]
    },
    {
      "cell_type": "markdown",
      "metadata": {
        "id": "mgYtMfnaTaiL"
      },
      "source": [
        "### Now let's not only plot the points in the geodataframe but also add a colormap for Canopy Height (m), Elevation (m), and Plant Area Index (PAI)."
      ]
    },
    {
      "cell_type": "code",
      "execution_count": null,
      "metadata": {
        "id": "V7R23cSCTaiL",
        "scrolled": true
      },
      "outputs": [],
      "source": [
        "allDF['Canopy Height (rh100)'] = allDF['Canopy Height (rh100)'] / 100 # Convert canopy height from cm to m\n",
        "#Watch out: do not run this cell twice! As the allDF['Canopy Height (rh100)'] will be divided by 100 again."
      ]
    },
    {
      "cell_type": "code",
      "execution_count": null,
      "metadata": {
        "id": "JD7vIzbsTaiL"
      },
      "outputs": [],
      "source": [
        "# Plot the basemap and geoviews Points, defining the color as the Canopy Height for each shot\n",
        "(gvts.EsriImagery * gv.Points(allDF, vdims=vdims).options(color='Canopy Height (rh100)',cmap='plasma', size=3, tools=['hover'],\n",
        "                                                          clim=(0,70), colorbar=True, clabel='Meters',\n",
        "                                                          title='GEDI Canopy Height over Redwood National Park: June 19, 2019',\n",
        "                                                          fontsize={'xticks': 10, 'yticks': 10, 'xlabel':16, 'clabel':12,\n",
        "                                                                    'cticks':10,'title':16,'ylabel':16})).options(height=500,\n",
        "                                                                                                                  width=900)"
      ]
    },
    {
      "cell_type": "code",
      "execution_count": null,
      "metadata": {
        "id": "HGDXynMKTaiL"
      },
      "outputs": [],
      "source": [
        "m.zoom_to_bounds(bbox)\n",
        "m.add_basemap('HYBRID')\n",
        "m.add_gdf(QLD, layer_name=\"QPRP-CSIRO\", style={'fillColor': 'yellow', 'color': 'yellow', 'fillOpacity': 0.2})\n",
        "m.add_markers(gdf, shape=\"circle\", radius=4, color=\"blue\", fill_color=\"blue\", popup=[\"plot_name\"])\n",
        "m.add_data(allDF, column=\"Canopy Height (rh100)\", cmap=\"plasma\", marker_radius=2, layer_name=\"Canopy Height (rh100)\")\n",
        "m"
      ]
    },
    {
      "cell_type": "markdown",
      "metadata": {
        "id": "-i_xKAwTTaiL"
      },
      "source": [
        "#### Next, take a look at the GEDI-derived elevation over the shots. Notice below that the colormap is changed to 'terrain'."
      ]
    },
    {
      "cell_type": "code",
      "execution_count": null,
      "metadata": {
        "id": "G1qANDJMTaiL"
      },
      "outputs": [],
      "source": [
        "(gvts.EsriImagery * gv.Points(allDF, vdims=vdims).options(color='Elevation (m)',cmap='terrain', size=3, tools=['hover'],\n",
        "                                                          clim=(min(allDF['Elevation (m)']), max(allDF['Elevation (m)'])),\n",
        "                                                          colorbar=True, clabel='Meters',\n",
        "                                                          title='GEDI Elevation over Redwood National Park: June 19, 2019',\n",
        "                                                          fontsize={'xticks': 10, 'yticks': 10, 'xlabel':16, 'clabel':12,\n",
        "                                                                    'cticks':10,'title':16,'ylabel':16})).options(height=500,\n",
        "                                                                                                                  width=900)"
      ]
    },
    {
      "cell_type": "code",
      "execution_count": null,
      "metadata": {
        "id": "s5S5170sTaiL"
      },
      "outputs": [],
      "source": [
        "m = leafmap.Map()\n",
        "m.zoom_to_bounds(bbox)\n",
        "m.add_basemap('HYBRID')\n",
        "m.add_gdf(QLD, layer_name=\"QPRP-CSIRO\", style={'fillColor': 'yellow', 'color': 'yellow', 'fillOpacity': 0.2})\n",
        "m.add_markers(gdf, shape=\"circle\", radius=4, color=\"blue\", fill_color=\"blue\", popup=[\"plot_name\"])\n",
        "m.add_data(allDF, column=\"Elevation (m)\", cmap=\"terrain\", marker_radius=2, layer_name=\"GEDI Elevation\")\n",
        "m"
      ]
    },
    {
      "cell_type": "markdown",
      "metadata": {
        "id": "mwI3TTHVTaiL"
      },
      "source": [
        "#### Last but certainly not least, `Plant Area Index`:"
      ]
    },
    {
      "cell_type": "code",
      "execution_count": null,
      "metadata": {
        "id": "qMMVPSfUTaiL"
      },
      "outputs": [],
      "source": [
        "(gvts.EsriImagery * gv.Points(allDF, vdims=vdims).options(color='Plant Area Index',cmap='Greens', size=3, tools=['hover'],\n",
        "                                                          clim=(0,1), colorbar=True, clabel='m2/m2',\n",
        "                                                          title='GEDI PAI over Redwood National Park: June 19, 2019',\n",
        "                                                          fontsize={'xticks': 10, 'yticks': 10, 'xlabel':16, 'clabel':12,\n",
        "                                                                    'cticks':10,'title':16,'ylabel':16})).options(height=500,\n",
        "                                                                                                                  width=900)"
      ]
    },
    {
      "cell_type": "code",
      "execution_count": null,
      "metadata": {
        "id": "PNK07iWhTaiL"
      },
      "outputs": [],
      "source": [
        "m = leafmap.Map()\n",
        "m.zoom_to_bounds(bbox)\n",
        "m.add_basemap('HYBRID')\n",
        "m.add_gdf(QLD, layer_name=\"QPRP-CSIRO\", style={'fillColor': 'yellow', 'color': 'yellow', 'fillOpacity': 0.2})\n",
        "m.add_markers(gdf, shape=\"circle\", radius=4, color=\"blue\", fill_color=\"blue\", popup=[\"plot_name\"])\n",
        "m.add_data(allDF, column=\"Plant Area Index\", cmap=\"Greens\", marker_radius=2, layer_name=\"GEDI PAI over Queensland\")\n",
        "m"
      ]
    },
    {
      "cell_type": "markdown",
      "metadata": {
        "id": "ffPr_xgdTaiL"
      },
      "source": [
        "### Success! You have now learned how to start working with GEDI L2B files in Python as well as some interesting strategies for visualizing those data in order to better understand your specific region of interest. Using this Jupyter Notebook as a workflow, you should now be able to switch to GEDI files over your specific region of interest and re-run the notebook. Good Luck!"
      ]
    },
    {
      "cell_type": "markdown",
      "metadata": {
        "id": "eYG-RZ1qTaiL"
      },
      "source": [
        "\n",
        "# 8. Export Subsets as GeoJSON Files<a id=\"exportgeojson\"></a>\n",
        "#### In this section, export the GeoDataFrame as a `.geojson` file that can be easily opened in your favorite remote sensing and/or GIS software and will include an attribute table with all of the shots/values for each of the SDS layers in the dataframe."
      ]
    },
    {
      "cell_type": "code",
      "execution_count": null,
      "metadata": {
        "id": "m0EjJcd-TaiM"
      },
      "outputs": [],
      "source": [
        "gediL2B.filename  # L2B Filename"
      ]
    },
    {
      "cell_type": "code",
      "execution_count": null,
      "metadata": {
        "id": "MwzYXo0QTaiM"
      },
      "outputs": [],
      "source": [
        "outName = gediL2B.filename.replace('.h5', '.json')  # Create an output file name using the input file name\n",
        "outName"
      ]
    },
    {
      "cell_type": "code",
      "execution_count": null,
      "metadata": {
        "id": "XrS3rDxfTaiM"
      },
      "outputs": [],
      "source": [
        "allDF.to_file(outName, driver='GeoJSON')  # Export to GeoJSON"
      ]
    },
    {
      "cell_type": "code",
      "execution_count": null,
      "metadata": {
        "id": "Cgl-1nIUTaiM"
      },
      "outputs": [],
      "source": [
        "del allDF"
      ]
    },
    {
      "cell_type": "markdown",
      "metadata": {
        "id": "xfTDrkBPTaiM"
      },
      "source": [
        "\n",
        "## Contact Info:  \n",
        "\n",
        "Email: LPDAAC@usgs.gov  \n",
        "Voice: +1-866-573-3222  \n",
        "Organization: Land Processes Distributed Active Archive Center (LP DAAC)¹  \n",
        "Website: <https://lpdaac.usgs.gov/>  \n",
        "Date last modified: 02-20-2024  \n",
        "\n",
        "¹Work performed under USGS contract G15PD00467 for NASA contract NNG14HH33I.  "
      ]
    }
  ],
  "metadata": {
    "colab": {
      "include_colab_link": true,
      "provenance": []
    },
    "kernelspec": {
      "display_name": ".venv",
      "language": "python",
      "name": "python3"
    },
    "language_info": {
      "codemirror_mode": {
        "name": "ipython",
        "version": 3
      },
      "file_extension": ".py",
      "mimetype": "text/x-python",
      "name": "python",
      "nbconvert_exporter": "python",
      "pygments_lexer": "ipython3",
      "version": "3.11.4"
    },
    "widgets": {
      "application/vnd.jupyter.widget-state+json": {
        "0071f7da2df944659c4c819ee2d80aee": {
          "model_module": "@jupyter-widgets/base",
          "model_module_version": "1.2.0",
          "model_name": "LayoutModel",
          "state": {
            "_model_module": "@jupyter-widgets/base",
            "_model_module_version": "1.2.0",
            "_model_name": "LayoutModel",
            "_view_count": null,
            "_view_module": "@jupyter-widgets/base",
            "_view_module_version": "1.2.0",
            "_view_name": "LayoutView",
            "align_content": null,
            "align_items": null,
            "align_self": null,
            "border": null,
            "bottom": null,
            "display": null,
            "flex": null,
            "flex_flow": null,
            "grid_area": null,
            "grid_auto_columns": null,
            "grid_auto_flow": null,
            "grid_auto_rows": null,
            "grid_column": null,
            "grid_gap": null,
            "grid_row": null,
            "grid_template_areas": null,
            "grid_template_columns": null,
            "grid_template_rows": null,
            "height": null,
            "justify_content": null,
            "justify_items": null,
            "left": null,
            "margin": null,
            "max_height": null,
            "max_width": null,
            "min_height": null,
            "min_width": null,
            "object_fit": null,
            "object_position": null,
            "order": null,
            "overflow": null,
            "overflow_x": null,
            "overflow_y": null,
            "padding": null,
            "right": null,
            "top": null,
            "visibility": null,
            "width": null
          }
        },
        "08229369f52448178dfd6b542a51f9cb": {
          "model_module": "jupyter-leaflet",
          "model_module_version": "^0.19",
          "model_name": "LeafletTileLayerModel",
          "state": {
            "_model_module": "jupyter-leaflet",
            "_model_module_version": "^0.19",
            "_model_name": "LeafletTileLayerModel",
            "_view_count": null,
            "_view_module": "jupyter-leaflet",
            "_view_module_version": "^0.19",
            "_view_name": "LeafletTileLayerView",
            "attribution": "&copy; <a href=\"https://www.openstreetmap.org/copyright\">OpenStreetMap</a> contributors",
            "base": true,
            "bottom": true,
            "bounds": null,
            "detect_retina": false,
            "loading": false,
            "max_native_zoom": null,
            "max_zoom": 19,
            "min_native_zoom": null,
            "min_zoom": 1,
            "name": "OpenStreetMap",
            "no_wrap": false,
            "opacity": 1,
            "options": [
              "attribution",
              "bounds",
              "detect_retina",
              "max_native_zoom",
              "max_zoom",
              "min_native_zoom",
              "min_zoom",
              "no_wrap",
              "tile_size",
              "tms",
              "zoom_offset"
            ],
            "pane": "",
            "popup": null,
            "popup_max_height": null,
            "popup_max_width": 300,
            "popup_min_width": 50,
            "show_loading": false,
            "subitems": [],
            "tile_size": 256,
            "tms": false,
            "url": "https://tile.openstreetmap.org/{z}/{x}/{y}.png",
            "visible": true,
            "zoom_offset": 0
          }
        },
        "0b1c19f1038e4027bd254bbdfbca294e": {
          "model_module": "@jupyter-widgets/controls",
          "model_module_version": "1.5.0",
          "model_name": "CheckboxModel",
          "state": {
            "_dom_classes": [],
            "_model_module": "@jupyter-widgets/controls",
            "_model_module_version": "1.5.0",
            "_model_name": "CheckboxModel",
            "_view_count": null,
            "_view_module": "@jupyter-widgets/controls",
            "_view_module_version": "1.5.0",
            "_view_name": "CheckboxView",
            "description": "OpenStreetMap",
            "description_tooltip": null,
            "disabled": false,
            "indent": false,
            "layout": "IPY_MODEL_179472626e1249b0bf4d6a6f1f9492cf",
            "style": "IPY_MODEL_38f354c7e74e4652b7253ea8a8022303",
            "value": true
          }
        },
        "0bd12d10a6124312a84ab3d901ae846e": {
          "model_module": "@jupyter-widgets/base",
          "model_module_version": "1.2.0",
          "model_name": "LayoutModel",
          "state": {
            "_model_module": "@jupyter-widgets/base",
            "_model_module_version": "1.2.0",
            "_model_name": "LayoutModel",
            "_view_count": null,
            "_view_module": "@jupyter-widgets/base",
            "_view_module_version": "1.2.0",
            "_view_name": "LayoutView",
            "align_content": null,
            "align_items": null,
            "align_self": null,
            "border": null,
            "bottom": null,
            "display": null,
            "flex": null,
            "flex_flow": null,
            "grid_area": null,
            "grid_auto_columns": null,
            "grid_auto_flow": null,
            "grid_auto_rows": null,
            "grid_column": null,
            "grid_gap": null,
            "grid_row": null,
            "grid_template_areas": null,
            "grid_template_columns": null,
            "grid_template_rows": null,
            "height": "600px",
            "justify_content": null,
            "justify_items": null,
            "left": null,
            "margin": null,
            "max_height": null,
            "max_width": null,
            "min_height": null,
            "min_width": null,
            "object_fit": null,
            "object_position": null,
            "order": null,
            "overflow": null,
            "overflow_x": null,
            "overflow_y": null,
            "padding": null,
            "right": null,
            "top": null,
            "visibility": null,
            "width": null
          }
        },
        "0cf6b249ee5f4d6c9a46ef1fe2e54a03": {
          "model_module": "@jupyter-widgets/controls",
          "model_module_version": "1.5.0",
          "model_name": "ProgressStyleModel",
          "state": {
            "_model_module": "@jupyter-widgets/controls",
            "_model_module_version": "1.5.0",
            "_model_name": "ProgressStyleModel",
            "_view_count": null,
            "_view_module": "@jupyter-widgets/base",
            "_view_module_version": "1.2.0",
            "_view_name": "StyleView",
            "bar_color": null,
            "description_width": ""
          }
        },
        "0d2bfbe36279441fb03a4f8e469adc01": {
          "model_module": "@jupyter-widgets/controls",
          "model_module_version": "1.5.0",
          "model_name": "DescriptionStyleModel",
          "state": {
            "_model_module": "@jupyter-widgets/controls",
            "_model_module_version": "1.5.0",
            "_model_name": "DescriptionStyleModel",
            "_view_count": null,
            "_view_module": "@jupyter-widgets/base",
            "_view_module_version": "1.2.0",
            "_view_name": "StyleView",
            "description_width": ""
          }
        },
        "0e9261dfaccb4e63b1d5ccf56501fc01": {
          "model_module": "@jupyter-widgets/controls",
          "model_module_version": "1.5.0",
          "model_name": "DescriptionStyleModel",
          "state": {
            "_model_module": "@jupyter-widgets/controls",
            "_model_module_version": "1.5.0",
            "_model_name": "DescriptionStyleModel",
            "_view_count": null,
            "_view_module": "@jupyter-widgets/base",
            "_view_module_version": "1.2.0",
            "_view_name": "StyleView",
            "description_width": ""
          }
        },
        "0fdef225fff14c4cb3524639a82f4e98": {
          "model_module": "jupyter-leaflet",
          "model_module_version": "^0.19",
          "model_name": "LeafletDrawControlModel",
          "state": {
            "_model_module": "jupyter-leaflet",
            "_model_module_version": "^0.19",
            "_model_name": "LeafletDrawControlModel",
            "_view_count": null,
            "_view_module": "jupyter-leaflet",
            "_view_module_version": "^0.19",
            "_view_name": "LeafletDrawControlView",
            "circle": {
              "repeatMode": false,
              "shapeOptions": {
                "color": "#3388ff"
              }
            },
            "circlemarker": {},
            "data": [],
            "edit": true,
            "marker": {
              "repeatMode": false,
              "shapeOptions": {
                "color": "#3388ff"
              }
            },
            "options": [
              "position"
            ],
            "polygon": {
              "repeatMode": false
            },
            "polyline": {
              "repeatMode": false
            },
            "position": "topleft",
            "rectangle": {
              "repeatMode": false,
              "shapeOptions": {
                "color": "#3388ff"
              }
            },
            "remove": true
          }
        },
        "11850d8be0f041f1beeeb61db3b5223e": {
          "model_module": "jupyter-leaflet",
          "model_module_version": "^0.19",
          "model_name": "LeafletTileLayerModel",
          "state": {
            "_model_module": "jupyter-leaflet",
            "_model_module_version": "^0.19",
            "_model_name": "LeafletTileLayerModel",
            "_view_count": null,
            "_view_module": "jupyter-leaflet",
            "_view_module_version": "^0.19",
            "_view_name": "LeafletTileLayerView",
            "attribution": "&copy; <a href=\"https://www.openstreetmap.org/copyright\">OpenStreetMap</a> contributors",
            "base": true,
            "bottom": true,
            "bounds": null,
            "detect_retina": false,
            "loading": false,
            "max_native_zoom": null,
            "max_zoom": 19,
            "min_native_zoom": null,
            "min_zoom": 1,
            "name": "OpenStreetMap",
            "no_wrap": false,
            "opacity": 1,
            "options": [
              "attribution",
              "bounds",
              "detect_retina",
              "max_native_zoom",
              "max_zoom",
              "min_native_zoom",
              "min_zoom",
              "no_wrap",
              "tile_size",
              "tms",
              "zoom_offset"
            ],
            "pane": "",
            "popup": null,
            "popup_max_height": null,
            "popup_max_width": 300,
            "popup_min_width": 50,
            "show_loading": false,
            "subitems": [],
            "tile_size": 256,
            "tms": false,
            "url": "https://tile.openstreetmap.org/{z}/{x}/{y}.png",
            "visible": true,
            "zoom_offset": 0
          }
        },
        "144e1aaedd754e03b54b0d1b4ba7ecfd": {
          "model_module": "@jupyter-widgets/controls",
          "model_module_version": "1.5.0",
          "model_name": "CheckboxModel",
          "state": {
            "_dom_classes": [],
            "_model_module": "@jupyter-widgets/controls",
            "_model_module_version": "1.5.0",
            "_model_name": "CheckboxModel",
            "_view_count": null,
            "_view_module": "@jupyter-widgets/controls",
            "_view_module_version": "1.5.0",
            "_view_name": "CheckboxView",
            "description": "OpenStreetMap.Mapnik",
            "description_tooltip": null,
            "disabled": false,
            "indent": false,
            "layout": "IPY_MODEL_8dd095e2e77141409dd6da2671ddc378",
            "style": "IPY_MODEL_57f826ff1d394dccb206426876a87574",
            "value": true
          }
        },
        "1622619b517040dd9282317fd425976c": {
          "model_module": "jupyter-leaflet",
          "model_module_version": "^0.19",
          "model_name": "LeafletTileLayerModel",
          "state": {
            "_model_module": "jupyter-leaflet",
            "_model_module_version": "^0.19",
            "_model_name": "LeafletTileLayerModel",
            "_view_count": null,
            "_view_module": "jupyter-leaflet",
            "_view_module_version": "^0.19",
            "_view_name": "LeafletTileLayerView",
            "attribution": "Google",
            "base": false,
            "bottom": true,
            "bounds": null,
            "detect_retina": false,
            "loading": false,
            "max_native_zoom": null,
            "max_zoom": 24,
            "min_native_zoom": null,
            "min_zoom": 0,
            "name": "Google Hybrid",
            "no_wrap": false,
            "opacity": 1,
            "options": [
              "attribution",
              "bounds",
              "detect_retina",
              "max_native_zoom",
              "max_zoom",
              "min_native_zoom",
              "min_zoom",
              "no_wrap",
              "tile_size",
              "tms",
              "zoom_offset"
            ],
            "pane": "",
            "popup": null,
            "popup_max_height": null,
            "popup_max_width": 300,
            "popup_min_width": 50,
            "show_loading": false,
            "subitems": [],
            "tile_size": 256,
            "tms": false,
            "url": "https://mt1.google.com/vt/lyrs=y&x={x}&y={y}&z={z}&key=YOUR-API-KEY",
            "visible": true,
            "zoom_offset": 0
          }
        },
        "179472626e1249b0bf4d6a6f1f9492cf": {
          "model_module": "@jupyter-widgets/base",
          "model_module_version": "1.2.0",
          "model_name": "LayoutModel",
          "state": {
            "_model_module": "@jupyter-widgets/base",
            "_model_module_version": "1.2.0",
            "_model_name": "LayoutModel",
            "_view_count": null,
            "_view_module": "@jupyter-widgets/base",
            "_view_module_version": "1.2.0",
            "_view_name": "LayoutView",
            "align_content": null,
            "align_items": null,
            "align_self": null,
            "border": null,
            "bottom": null,
            "display": null,
            "flex": null,
            "flex_flow": null,
            "grid_area": null,
            "grid_auto_columns": null,
            "grid_auto_flow": null,
            "grid_auto_rows": null,
            "grid_column": null,
            "grid_gap": null,
            "grid_row": null,
            "grid_template_areas": null,
            "grid_template_columns": null,
            "grid_template_rows": null,
            "height": "18px",
            "justify_content": null,
            "justify_items": null,
            "left": null,
            "margin": null,
            "max_height": null,
            "max_width": null,
            "min_height": null,
            "min_width": null,
            "object_fit": null,
            "object_position": null,
            "order": null,
            "overflow": null,
            "overflow_x": null,
            "overflow_y": null,
            "padding": null,
            "right": null,
            "top": null,
            "visibility": null,
            "width": "25ex"
          }
        },
        "1802764f4fa443758934a818ca6ef284": {
          "model_module": "@jupyter-widgets/base",
          "model_module_version": "1.2.0",
          "model_name": "LayoutModel",
          "state": {
            "_model_module": "@jupyter-widgets/base",
            "_model_module_version": "1.2.0",
            "_model_name": "LayoutModel",
            "_view_count": null,
            "_view_module": "@jupyter-widgets/base",
            "_view_module_version": "1.2.0",
            "_view_name": "LayoutView",
            "align_content": null,
            "align_items": null,
            "align_self": null,
            "border": null,
            "bottom": null,
            "display": null,
            "flex": null,
            "flex_flow": null,
            "grid_area": null,
            "grid_auto_columns": null,
            "grid_auto_flow": null,
            "grid_auto_rows": null,
            "grid_column": null,
            "grid_gap": null,
            "grid_row": null,
            "grid_template_areas": null,
            "grid_template_columns": null,
            "grid_template_rows": null,
            "height": "28px",
            "justify_content": null,
            "justify_items": null,
            "left": null,
            "margin": null,
            "max_height": null,
            "max_width": null,
            "min_height": null,
            "min_width": null,
            "object_fit": null,
            "object_position": null,
            "order": null,
            "overflow": null,
            "overflow_x": null,
            "overflow_y": null,
            "padding": "0px 0px 0px 4px",
            "right": null,
            "top": null,
            "visibility": null,
            "width": "28px"
          }
        },
        "187e9908627e4c8c8ed679fac6cc3d2c": {
          "model_module": "@jupyter-widgets/controls",
          "model_module_version": "1.5.0",
          "model_name": "FloatProgressModel",
          "state": {
            "_dom_classes": [],
            "_model_module": "@jupyter-widgets/controls",
            "_model_module_version": "1.5.0",
            "_model_name": "FloatProgressModel",
            "_view_count": null,
            "_view_module": "@jupyter-widgets/controls",
            "_view_module_version": "1.5.0",
            "_view_name": "ProgressView",
            "bar_style": "success",
            "description": "",
            "description_tooltip": null,
            "layout": "IPY_MODEL_0071f7da2df944659c4c819ee2d80aee",
            "max": 1,
            "min": 0,
            "orientation": "horizontal",
            "style": "IPY_MODEL_7f1b53f4bb674e36bdc967860efc9dee",
            "value": 1
          }
        },
        "1d5c6ed59b1c42cb98ebd4a748a4473e": {
          "model_module": "@jupyter-widgets/controls",
          "model_module_version": "1.5.0",
          "model_name": "DescriptionStyleModel",
          "state": {
            "_model_module": "@jupyter-widgets/controls",
            "_model_module_version": "1.5.0",
            "_model_name": "DescriptionStyleModel",
            "_view_count": null,
            "_view_module": "@jupyter-widgets/base",
            "_view_module_version": "1.2.0",
            "_view_name": "StyleView",
            "description_width": ""
          }
        },
        "1e887fdde4694c5fb5ad2039b5fdf345": {
          "model_module": "@jupyter-widgets/controls",
          "model_module_version": "1.5.0",
          "model_name": "ToggleButtonModel",
          "state": {
            "_dom_classes": [],
            "_model_module": "@jupyter-widgets/controls",
            "_model_module_version": "1.5.0",
            "_model_name": "ToggleButtonModel",
            "_view_count": null,
            "_view_module": "@jupyter-widgets/controls",
            "_view_module_version": "1.5.0",
            "_view_name": "ToggleButtonView",
            "button_style": "",
            "description": "",
            "description_tooltip": null,
            "disabled": false,
            "icon": "times",
            "layout": "IPY_MODEL_1802764f4fa443758934a818ca6ef284",
            "style": "IPY_MODEL_2abf3d88054843bb9e1a263536d59edc",
            "tooltip": "Close the tool",
            "value": false
          }
        },
        "220ca28f6df94662a2b2b000b5ab134d": {
          "model_module": "jupyter-leaflet",
          "model_module_version": "^0.19",
          "model_name": "LeafletMapStyleModel",
          "state": {
            "_model_module": "jupyter-leaflet",
            "_model_module_version": "^0.19",
            "_model_name": "LeafletMapStyleModel",
            "_view_count": null,
            "_view_module": "@jupyter-widgets/base",
            "_view_module_version": "1.2.0",
            "_view_name": "StyleView",
            "cursor": "grab"
          }
        },
        "26a38b9a7d1f4b478bb8149d0675806c": {
          "model_module": "@jupyter-widgets/base",
          "model_module_version": "1.2.0",
          "model_name": "LayoutModel",
          "state": {
            "_model_module": "@jupyter-widgets/base",
            "_model_module_version": "1.2.0",
            "_model_name": "LayoutModel",
            "_view_count": null,
            "_view_module": "@jupyter-widgets/base",
            "_view_module_version": "1.2.0",
            "_view_name": "LayoutView",
            "align_content": null,
            "align_items": null,
            "align_self": null,
            "border": null,
            "bottom": null,
            "display": null,
            "flex": null,
            "flex_flow": null,
            "grid_area": null,
            "grid_auto_columns": null,
            "grid_auto_flow": null,
            "grid_auto_rows": null,
            "grid_column": null,
            "grid_gap": null,
            "grid_row": null,
            "grid_template_areas": null,
            "grid_template_columns": null,
            "grid_template_rows": null,
            "height": "28px",
            "justify_content": null,
            "justify_items": null,
            "left": null,
            "margin": null,
            "max_height": null,
            "max_width": null,
            "min_height": null,
            "min_width": null,
            "object_fit": null,
            "object_position": null,
            "order": null,
            "overflow": null,
            "overflow_x": null,
            "overflow_y": null,
            "padding": "0px 0px 0px 4px",
            "right": null,
            "top": null,
            "visibility": null,
            "width": "28px"
          }
        },
        "28dab910aedb43f2ad247caac14611ff": {
          "model_module": "@jupyter-widgets/base",
          "model_module_version": "1.2.0",
          "model_name": "LayoutModel",
          "state": {
            "_model_module": "@jupyter-widgets/base",
            "_model_module_version": "1.2.0",
            "_model_name": "LayoutModel",
            "_view_count": null,
            "_view_module": "@jupyter-widgets/base",
            "_view_module_version": "1.2.0",
            "_view_name": "LayoutView",
            "align_content": null,
            "align_items": null,
            "align_self": null,
            "border": null,
            "bottom": null,
            "display": null,
            "flex": null,
            "flex_flow": null,
            "grid_area": null,
            "grid_auto_columns": null,
            "grid_auto_flow": null,
            "grid_auto_rows": null,
            "grid_column": null,
            "grid_gap": null,
            "grid_row": null,
            "grid_template_areas": null,
            "grid_template_columns": null,
            "grid_template_rows": null,
            "height": null,
            "justify_content": null,
            "justify_items": null,
            "left": null,
            "margin": null,
            "max_height": null,
            "max_width": null,
            "min_height": null,
            "min_width": null,
            "object_fit": null,
            "object_position": null,
            "order": null,
            "overflow": null,
            "overflow_x": null,
            "overflow_y": null,
            "padding": null,
            "right": null,
            "top": null,
            "visibility": null,
            "width": null
          }
        },
        "2abf3d88054843bb9e1a263536d59edc": {
          "model_module": "@jupyter-widgets/controls",
          "model_module_version": "1.5.0",
          "model_name": "DescriptionStyleModel",
          "state": {
            "_model_module": "@jupyter-widgets/controls",
            "_model_module_version": "1.5.0",
            "_model_name": "DescriptionStyleModel",
            "_view_count": null,
            "_view_module": "@jupyter-widgets/base",
            "_view_module_version": "1.2.0",
            "_view_name": "StyleView",
            "description_width": ""
          }
        },
        "2b860256902b418c89293b65aef00a0e": {
          "model_module": "jupyter-leaflet",
          "model_module_version": "^0.19",
          "model_name": "LeafletWidgetControlModel",
          "state": {
            "_model_module": "jupyter-leaflet",
            "_model_module_version": "^0.19",
            "_model_name": "LeafletWidgetControlModel",
            "_view_count": null,
            "_view_module": "jupyter-leaflet",
            "_view_module_version": "^0.19",
            "_view_name": "LeafletWidgetControlView",
            "max_height": null,
            "max_width": null,
            "min_height": null,
            "min_width": null,
            "options": [
              "position",
              "transparent_bg"
            ],
            "position": "topright",
            "transparent_bg": false,
            "widget": "IPY_MODEL_5af5b68c26b343af81b72ac32d3164d3"
          }
        },
        "2bf96751cd414c279579129d49e77292": {
          "model_module": "jupyter-leaflet",
          "model_module_version": "^0.19",
          "model_name": "LeafletAttributionControlModel",
          "state": {
            "_model_module": "jupyter-leaflet",
            "_model_module_version": "^0.19",
            "_model_name": "LeafletAttributionControlModel",
            "_view_count": null,
            "_view_module": "jupyter-leaflet",
            "_view_module_version": "^0.19",
            "_view_name": "LeafletAttributionControlView",
            "options": [
              "position",
              "prefix"
            ],
            "position": "bottomright",
            "prefix": "ipyleaflet"
          }
        },
        "2e65f9c12c074642a332a35790101170": {
          "model_module": "jupyter-leaflet",
          "model_module_version": "^0.19",
          "model_name": "LeafletMapModel",
          "state": {
            "_dom_classes": [],
            "_model_module": "jupyter-leaflet",
            "_model_module_version": "^0.19",
            "_model_name": "LeafletMapModel",
            "_view_count": null,
            "_view_module": "jupyter-leaflet",
            "_view_module_version": "^0.19",
            "_view_name": "LeafletMapView",
            "bottom": 754,
            "bounce_at_zoom_limits": true,
            "box_zoom": true,
            "center": [
              20,
              0
            ],
            "close_popup_on_click": true,
            "controls": [
              "IPY_MODEL_d68cb7f3d5394ef8a5332d637244ea44",
              "IPY_MODEL_2bf96751cd414c279579129d49e77292",
              "IPY_MODEL_3ecfe426086b4a7989ef7bd9ba20f034",
              "IPY_MODEL_0fdef225fff14c4cb3524639a82f4e98",
              "IPY_MODEL_4d7d50b12ba740d7903f8665ac7b5cda",
              "IPY_MODEL_2b860256902b418c89293b65aef00a0e",
              "IPY_MODEL_804bc8f4e64c4f1eb59734d834d3a274"
            ],
            "crs": {
              "custom": false,
              "name": "EPSG3857"
            },
            "default_style": "IPY_MODEL_220ca28f6df94662a2b2b000b5ab134d",
            "double_click_zoom": true,
            "dragging": true,
            "dragging_style": "IPY_MODEL_a9b8581b70cd4642b4228da352098daf",
            "east": 116.3671875,
            "fullscreen": false,
            "inertia": true,
            "inertia_deceleration": 3000,
            "inertia_max_speed": 1500,
            "interpolation": "bilinear",
            "keyboard": true,
            "keyboard_pan_offset": 80,
            "keyboard_zoom_offset": 1,
            "layers": [
              "IPY_MODEL_11850d8be0f041f1beeeb61db3b5223e",
              "IPY_MODEL_7fade1f3d2134d04a60be2cc92298715"
            ],
            "layout": "IPY_MODEL_0bd12d10a6124312a84ab3d901ae846e",
            "left": 182,
            "max_zoom": 24,
            "min_zoom": null,
            "modisdate": "2025-01-29",
            "north": 77.31251993823143,
            "options": [
              "bounce_at_zoom_limits",
              "box_zoom",
              "center",
              "close_popup_on_click",
              "double_click_zoom",
              "dragging",
              "fullscreen",
              "inertia",
              "inertia_deceleration",
              "inertia_max_speed",
              "interpolation",
              "keyboard",
              "keyboard_pan_offset",
              "keyboard_zoom_offset",
              "max_zoom",
              "min_zoom",
              "prefer_canvas",
              "scroll_wheel_zoom",
              "tap",
              "tap_tolerance",
              "touch_zoom",
              "world_copy_jump",
              "zoom",
              "zoom_animation_threshold",
              "zoom_delta",
              "zoom_snap"
            ],
            "panes": {},
            "prefer_canvas": false,
            "right": 843,
            "scroll_wheel_zoom": true,
            "south": -64.47279382008165,
            "style": "IPY_MODEL_b5ec80ad2410471884b049cf7caad06c",
            "tap": true,
            "tap_tolerance": 15,
            "top": 154,
            "touch_zoom": true,
            "west": -116.01562500000001,
            "window_url": "https://vnpjo712b4-496ff2e9c6d22116-0-colab.googleusercontent.com/outputframe.html?vrz=colab_20250128-060149_RC00_720506466",
            "world_copy_jump": false,
            "zoom": 2,
            "zoom_animation_threshold": 4,
            "zoom_delta": 1,
            "zoom_snap": 1
          }
        },
        "317fdd3868d24fa2a93ab2a7db4eed97": {
          "model_module": "@jupyter-widgets/base",
          "model_module_version": "1.2.0",
          "model_name": "LayoutModel",
          "state": {
            "_model_module": "@jupyter-widgets/base",
            "_model_module_version": "1.2.0",
            "_model_name": "LayoutModel",
            "_view_count": null,
            "_view_module": "@jupyter-widgets/base",
            "_view_module_version": "1.2.0",
            "_view_name": "LayoutView",
            "align_content": null,
            "align_items": null,
            "align_self": null,
            "border": null,
            "bottom": null,
            "display": null,
            "flex": null,
            "flex_flow": null,
            "grid_area": null,
            "grid_auto_columns": null,
            "grid_auto_flow": null,
            "grid_auto_rows": null,
            "grid_column": null,
            "grid_gap": null,
            "grid_row": null,
            "grid_template_areas": null,
            "grid_template_columns": null,
            "grid_template_rows": null,
            "height": null,
            "justify_content": null,
            "justify_items": null,
            "left": null,
            "margin": null,
            "max_height": null,
            "max_width": null,
            "min_height": null,
            "min_width": null,
            "object_fit": null,
            "object_position": null,
            "order": null,
            "overflow": null,
            "overflow_x": null,
            "overflow_y": null,
            "padding": null,
            "right": null,
            "top": null,
            "visibility": null,
            "width": null
          }
        },
        "359ac21f615346ba9cd351bdaeb6bbda": {
          "model_module": "@jupyter-widgets/controls",
          "model_module_version": "1.5.0",
          "model_name": "DescriptionStyleModel",
          "state": {
            "_model_module": "@jupyter-widgets/controls",
            "_model_module_version": "1.5.0",
            "_model_name": "DescriptionStyleModel",
            "_view_count": null,
            "_view_module": "@jupyter-widgets/base",
            "_view_module_version": "1.2.0",
            "_view_name": "StyleView",
            "description_width": ""
          }
        },
        "3783bd9906c44a70872027698f8e7000": {
          "model_module": "@jupyter-widgets/base",
          "model_module_version": "1.2.0",
          "model_name": "LayoutModel",
          "state": {
            "_model_module": "@jupyter-widgets/base",
            "_model_module_version": "1.2.0",
            "_model_name": "LayoutModel",
            "_view_count": null,
            "_view_module": "@jupyter-widgets/base",
            "_view_module_version": "1.2.0",
            "_view_name": "LayoutView",
            "align_content": null,
            "align_items": null,
            "align_self": null,
            "border": null,
            "bottom": null,
            "display": null,
            "flex": null,
            "flex_flow": null,
            "grid_area": null,
            "grid_auto_columns": null,
            "grid_auto_flow": null,
            "grid_auto_rows": null,
            "grid_column": null,
            "grid_gap": null,
            "grid_row": null,
            "grid_template_areas": null,
            "grid_template_columns": null,
            "grid_template_rows": null,
            "height": null,
            "justify_content": null,
            "justify_items": null,
            "left": null,
            "margin": null,
            "max_height": null,
            "max_width": null,
            "min_height": null,
            "min_width": null,
            "object_fit": null,
            "object_position": null,
            "order": null,
            "overflow": null,
            "overflow_x": null,
            "overflow_y": null,
            "padding": null,
            "right": null,
            "top": null,
            "visibility": null,
            "width": null
          }
        },
        "37a3e4a02bd049dd92275fe0e83a4e42": {
          "model_module": "@jupyter-widgets/controls",
          "model_module_version": "1.5.0",
          "model_name": "HTMLModel",
          "state": {
            "_dom_classes": [],
            "_model_module": "@jupyter-widgets/controls",
            "_model_module_version": "1.5.0",
            "_model_name": "HTMLModel",
            "_view_count": null,
            "_view_module": "@jupyter-widgets/controls",
            "_view_module_version": "1.5.0",
            "_view_name": "HTMLView",
            "description": "",
            "description_tooltip": null,
            "layout": "IPY_MODEL_9bd1a2aafb304c35850641d6762fde09",
            "placeholder": "​",
            "style": "IPY_MODEL_0e9261dfaccb4e63b1d5ccf56501fc01",
            "value": ""
          }
        },
        "38f354c7e74e4652b7253ea8a8022303": {
          "model_module": "@jupyter-widgets/controls",
          "model_module_version": "1.5.0",
          "model_name": "DescriptionStyleModel",
          "state": {
            "_model_module": "@jupyter-widgets/controls",
            "_model_module_version": "1.5.0",
            "_model_name": "DescriptionStyleModel",
            "_view_count": null,
            "_view_module": "@jupyter-widgets/base",
            "_view_module_version": "1.2.0",
            "_view_name": "StyleView",
            "description_width": ""
          }
        },
        "3a383514f8c04a7a8309c1f0e1823c2e": {
          "model_module": "@jupyter-widgets/base",
          "model_module_version": "1.2.0",
          "model_name": "LayoutModel",
          "state": {
            "_model_module": "@jupyter-widgets/base",
            "_model_module_version": "1.2.0",
            "_model_name": "LayoutModel",
            "_view_count": null,
            "_view_module": "@jupyter-widgets/base",
            "_view_module_version": "1.2.0",
            "_view_name": "LayoutView",
            "align_content": null,
            "align_items": null,
            "align_self": null,
            "border": null,
            "bottom": null,
            "display": null,
            "flex": null,
            "flex_flow": null,
            "grid_area": null,
            "grid_auto_columns": null,
            "grid_auto_flow": null,
            "grid_auto_rows": null,
            "grid_column": null,
            "grid_gap": null,
            "grid_row": null,
            "grid_template_areas": null,
            "grid_template_columns": null,
            "grid_template_rows": null,
            "height": "18px",
            "justify_content": null,
            "justify_items": null,
            "left": null,
            "margin": null,
            "max_height": null,
            "max_width": null,
            "min_height": null,
            "min_width": null,
            "object_fit": null,
            "object_position": null,
            "order": null,
            "overflow": null,
            "overflow_x": null,
            "overflow_y": null,
            "padding": null,
            "right": null,
            "top": null,
            "visibility": null,
            "width": "25ex"
          }
        },
        "3c618d0cfd6d464f86f9188c262f0b87": {
          "model_module": "@jupyter-widgets/controls",
          "model_module_version": "1.5.0",
          "model_name": "DescriptionStyleModel",
          "state": {
            "_model_module": "@jupyter-widgets/controls",
            "_model_module_version": "1.5.0",
            "_model_name": "DescriptionStyleModel",
            "_view_count": null,
            "_view_module": "@jupyter-widgets/base",
            "_view_module_version": "1.2.0",
            "_view_name": "StyleView",
            "description_width": ""
          }
        },
        "3ecfe426086b4a7989ef7bd9ba20f034": {
          "model_module": "jupyter-leaflet",
          "model_module_version": "^0.19",
          "model_name": "LeafletFullScreenControlModel",
          "state": {
            "_model_module": "jupyter-leaflet",
            "_model_module_version": "^0.19",
            "_model_name": "LeafletFullScreenControlModel",
            "_view_count": null,
            "_view_module": "jupyter-leaflet",
            "_view_module_version": "^0.19",
            "_view_name": "LeafletFullScreenControlView",
            "options": [
              "position"
            ],
            "position": "topleft"
          }
        },
        "3f5f103286664bb0abd1dd58d21daa2a": {
          "model_module": "@jupyter-widgets/base",
          "model_module_version": "1.2.0",
          "model_name": "LayoutModel",
          "state": {
            "_model_module": "@jupyter-widgets/base",
            "_model_module_version": "1.2.0",
            "_model_name": "LayoutModel",
            "_view_count": null,
            "_view_module": "@jupyter-widgets/base",
            "_view_module_version": "1.2.0",
            "_view_name": "LayoutView",
            "align_content": null,
            "align_items": null,
            "align_self": null,
            "border": null,
            "bottom": null,
            "display": null,
            "flex": null,
            "flex_flow": null,
            "grid_area": null,
            "grid_auto_columns": null,
            "grid_auto_flow": null,
            "grid_auto_rows": null,
            "grid_column": null,
            "grid_gap": null,
            "grid_row": null,
            "grid_template_areas": null,
            "grid_template_columns": null,
            "grid_template_rows": null,
            "height": "18px",
            "justify_content": null,
            "justify_items": null,
            "left": null,
            "margin": null,
            "max_height": null,
            "max_width": null,
            "min_height": null,
            "min_width": null,
            "object_fit": null,
            "object_position": null,
            "order": null,
            "overflow": null,
            "overflow_x": null,
            "overflow_y": null,
            "padding": null,
            "right": null,
            "top": null,
            "visibility": null,
            "width": "25ex"
          }
        },
        "411979b03a3f4078bc6efca2f534087e": {
          "model_module": "@jupyter-widgets/controls",
          "model_module_version": "1.5.0",
          "model_name": "CheckboxModel",
          "state": {
            "_dom_classes": [],
            "_model_module": "@jupyter-widgets/controls",
            "_model_module_version": "1.5.0",
            "_model_name": "CheckboxModel",
            "_view_count": null,
            "_view_module": "@jupyter-widgets/controls",
            "_view_module_version": "1.5.0",
            "_view_name": "CheckboxView",
            "description": "OpenStreetMap.Mapnik",
            "description_tooltip": null,
            "disabled": false,
            "indent": false,
            "layout": "IPY_MODEL_6f794fbb5aa64fdb9a47ef93aecb8334",
            "style": "IPY_MODEL_1d5c6ed59b1c42cb98ebd4a748a4473e",
            "value": true
          }
        },
        "41d415be139a471b8a8f1cd6b1593e1e": {
          "model_module": "@jupyter-widgets/controls",
          "model_module_version": "1.5.0",
          "model_name": "CheckboxModel",
          "state": {
            "_dom_classes": [],
            "_model_module": "@jupyter-widgets/controls",
            "_model_module_version": "1.5.0",
            "_model_name": "CheckboxModel",
            "_view_count": null,
            "_view_module": "@jupyter-widgets/controls",
            "_view_module_version": "1.5.0",
            "_view_name": "CheckboxView",
            "description": "Plots",
            "description_tooltip": null,
            "disabled": false,
            "indent": false,
            "layout": "IPY_MODEL_fb2af16a864d4ccc9e0ee0d85d7e5cba",
            "style": "IPY_MODEL_f76eb9c49f2c4232844c5e8c1d68767e",
            "value": true
          }
        },
        "45d2b6b725ef4d17bd6a81c6c0f243d2": {
          "model_module": "@jupyter-widgets/controls",
          "model_module_version": "1.5.0",
          "model_name": "DescriptionStyleModel",
          "state": {
            "_model_module": "@jupyter-widgets/controls",
            "_model_module_version": "1.5.0",
            "_model_name": "DescriptionStyleModel",
            "_view_count": null,
            "_view_module": "@jupyter-widgets/base",
            "_view_module_version": "1.2.0",
            "_view_name": "StyleView",
            "description_width": ""
          }
        },
        "4c01195d1335454886b0ed4af0c97f5e": {
          "model_module": "@jupyter-widgets/base",
          "model_module_version": "1.2.0",
          "model_name": "LayoutModel",
          "state": {
            "_model_module": "@jupyter-widgets/base",
            "_model_module_version": "1.2.0",
            "_model_name": "LayoutModel",
            "_view_count": null,
            "_view_module": "@jupyter-widgets/base",
            "_view_module_version": "1.2.0",
            "_view_name": "LayoutView",
            "align_content": null,
            "align_items": null,
            "align_self": null,
            "border": null,
            "bottom": null,
            "display": null,
            "flex": null,
            "flex_flow": null,
            "grid_area": null,
            "grid_auto_columns": null,
            "grid_auto_flow": null,
            "grid_auto_rows": null,
            "grid_column": null,
            "grid_gap": null,
            "grid_row": null,
            "grid_template_areas": null,
            "grid_template_columns": null,
            "grid_template_rows": null,
            "height": null,
            "justify_content": null,
            "justify_items": null,
            "left": null,
            "margin": null,
            "max_height": null,
            "max_width": null,
            "min_height": null,
            "min_width": null,
            "object_fit": null,
            "object_position": null,
            "order": null,
            "overflow": null,
            "overflow_x": null,
            "overflow_y": null,
            "padding": null,
            "right": null,
            "top": null,
            "visibility": null,
            "width": null
          }
        },
        "4d7d50b12ba740d7903f8665ac7b5cda": {
          "model_module": "jupyter-leaflet",
          "model_module_version": "^0.19",
          "model_name": "LeafletScaleControlModel",
          "state": {
            "_model_module": "jupyter-leaflet",
            "_model_module_version": "^0.19",
            "_model_name": "LeafletScaleControlModel",
            "_view_count": null,
            "_view_module": "jupyter-leaflet",
            "_view_module_version": "^0.19",
            "_view_name": "LeafletScaleControlView",
            "imperial": true,
            "max_width": 100,
            "metric": true,
            "options": [
              "imperial",
              "max_width",
              "metric",
              "position",
              "update_when_idle"
            ],
            "position": "bottomleft",
            "update_when_idle": false
          }
        },
        "4fe7fbdbf2534629bece5711486e8724": {
          "model_module": "@jupyter-widgets/base",
          "model_module_version": "1.2.0",
          "model_name": "LayoutModel",
          "state": {
            "_model_module": "@jupyter-widgets/base",
            "_model_module_version": "1.2.0",
            "_model_name": "LayoutModel",
            "_view_count": null,
            "_view_module": "@jupyter-widgets/base",
            "_view_module_version": "1.2.0",
            "_view_name": "LayoutView",
            "align_content": null,
            "align_items": null,
            "align_self": null,
            "border": null,
            "bottom": null,
            "display": null,
            "flex": null,
            "flex_flow": null,
            "grid_area": null,
            "grid_auto_columns": null,
            "grid_auto_flow": null,
            "grid_auto_rows": null,
            "grid_column": null,
            "grid_gap": null,
            "grid_row": null,
            "grid_template_areas": null,
            "grid_template_columns": null,
            "grid_template_rows": null,
            "height": "18px",
            "justify_content": null,
            "justify_items": null,
            "left": null,
            "margin": null,
            "max_height": null,
            "max_width": null,
            "min_height": null,
            "min_width": null,
            "object_fit": null,
            "object_position": null,
            "order": null,
            "overflow": null,
            "overflow_x": null,
            "overflow_y": null,
            "padding": null,
            "right": null,
            "top": null,
            "visibility": null,
            "width": "25ex"
          }
        },
        "57f826ff1d394dccb206426876a87574": {
          "model_module": "@jupyter-widgets/controls",
          "model_module_version": "1.5.0",
          "model_name": "DescriptionStyleModel",
          "state": {
            "_model_module": "@jupyter-widgets/controls",
            "_model_module_version": "1.5.0",
            "_model_name": "DescriptionStyleModel",
            "_view_count": null,
            "_view_module": "@jupyter-widgets/base",
            "_view_module_version": "1.2.0",
            "_view_name": "StyleView",
            "description_width": ""
          }
        },
        "5acd2b0be569433e9bab6bd84d6339b2": {
          "model_module": "@jupyter-widgets/base",
          "model_module_version": "1.2.0",
          "model_name": "LayoutModel",
          "state": {
            "_model_module": "@jupyter-widgets/base",
            "_model_module_version": "1.2.0",
            "_model_name": "LayoutModel",
            "_view_count": null,
            "_view_module": "@jupyter-widgets/base",
            "_view_module_version": "1.2.0",
            "_view_name": "LayoutView",
            "align_content": null,
            "align_items": null,
            "align_self": null,
            "border": null,
            "bottom": null,
            "display": null,
            "flex": null,
            "flex_flow": null,
            "grid_area": null,
            "grid_auto_columns": null,
            "grid_auto_flow": null,
            "grid_auto_rows": null,
            "grid_column": null,
            "grid_gap": null,
            "grid_row": null,
            "grid_template_areas": null,
            "grid_template_columns": null,
            "grid_template_rows": null,
            "height": "18px",
            "justify_content": null,
            "justify_items": null,
            "left": null,
            "margin": null,
            "max_height": null,
            "max_width": null,
            "min_height": null,
            "min_width": null,
            "object_fit": null,
            "object_position": null,
            "order": null,
            "overflow": null,
            "overflow_x": null,
            "overflow_y": null,
            "padding": null,
            "right": null,
            "top": null,
            "visibility": null,
            "width": "25ex"
          }
        },
        "5af5b68c26b343af81b72ac32d3164d3": {
          "model_module": "@jupyter-widgets/controls",
          "model_module_version": "1.5.0",
          "model_name": "VBoxModel",
          "state": {
            "_dom_classes": [],
            "_model_module": "@jupyter-widgets/controls",
            "_model_module_version": "1.5.0",
            "_model_name": "VBoxModel",
            "_view_count": null,
            "_view_module": "@jupyter-widgets/controls",
            "_view_module_version": "1.5.0",
            "_view_name": "VBoxView",
            "box_style": "",
            "children": [
              "IPY_MODEL_5ec5579c8b1642aaabe7afa42cc8b00f"
            ],
            "layout": "IPY_MODEL_28dab910aedb43f2ad247caac14611ff"
          }
        },
        "5ec5579c8b1642aaabe7afa42cc8b00f": {
          "model_module": "@jupyter-widgets/controls",
          "model_module_version": "1.5.0",
          "model_name": "ToggleButtonModel",
          "state": {
            "_dom_classes": [],
            "_model_module": "@jupyter-widgets/controls",
            "_model_module_version": "1.5.0",
            "_model_name": "ToggleButtonModel",
            "_view_count": null,
            "_view_module": "@jupyter-widgets/controls",
            "_view_module_version": "1.5.0",
            "_view_name": "ToggleButtonView",
            "button_style": "",
            "description": "",
            "description_tooltip": null,
            "disabled": false,
            "icon": "wrench",
            "layout": "IPY_MODEL_edcba03eb2d6489fa5d5f3e44f9a2096",
            "style": "IPY_MODEL_cbcefad099f94d1790e4cab1c0d073dc",
            "tooltip": "Toolbar",
            "value": false
          }
        },
        "60b2a5f3f7e94e46ab3aa4cf58e271d1": {
          "model_module": "@jupyter-widgets/base",
          "model_module_version": "1.2.0",
          "model_name": "LayoutModel",
          "state": {
            "_model_module": "@jupyter-widgets/base",
            "_model_module_version": "1.2.0",
            "_model_name": "LayoutModel",
            "_view_count": null,
            "_view_module": "@jupyter-widgets/base",
            "_view_module_version": "1.2.0",
            "_view_name": "LayoutView",
            "align_content": null,
            "align_items": null,
            "align_self": null,
            "border": null,
            "bottom": null,
            "display": null,
            "flex": null,
            "flex_flow": null,
            "grid_area": null,
            "grid_auto_columns": null,
            "grid_auto_flow": null,
            "grid_auto_rows": null,
            "grid_column": null,
            "grid_gap": null,
            "grid_row": null,
            "grid_template_areas": null,
            "grid_template_columns": null,
            "grid_template_rows": null,
            "height": null,
            "justify_content": null,
            "justify_items": null,
            "left": null,
            "margin": null,
            "max_height": null,
            "max_width": null,
            "min_height": null,
            "min_width": null,
            "object_fit": null,
            "object_position": null,
            "order": null,
            "overflow": null,
            "overflow_x": null,
            "overflow_y": null,
            "padding": null,
            "right": null,
            "top": null,
            "visibility": null,
            "width": null
          }
        },
        "62bc8f8e4a2d4747b08acfa975f452ea": {
          "model_module": "@jupyter-widgets/controls",
          "model_module_version": "1.5.0",
          "model_name": "CheckboxModel",
          "state": {
            "_dom_classes": [],
            "_model_module": "@jupyter-widgets/controls",
            "_model_module_version": "1.5.0",
            "_model_name": "CheckboxModel",
            "_view_count": null,
            "_view_module": "@jupyter-widgets/controls",
            "_view_module_version": "1.5.0",
            "_view_name": "CheckboxView",
            "description": "OpenStreetMap",
            "description_tooltip": null,
            "disabled": false,
            "indent": false,
            "layout": "IPY_MODEL_5acd2b0be569433e9bab6bd84d6339b2",
            "style": "IPY_MODEL_791ceb6f42e54dc782a221dde1093516",
            "value": true
          }
        },
        "64c67aec06254626963ea72f3d55472a": {
          "model_module": "@jupyter-widgets/controls",
          "model_module_version": "1.5.0",
          "model_name": "HBoxModel",
          "state": {
            "_dom_classes": [],
            "_model_module": "@jupyter-widgets/controls",
            "_model_module_version": "1.5.0",
            "_model_name": "HBoxModel",
            "_view_count": null,
            "_view_module": "@jupyter-widgets/controls",
            "_view_module_version": "1.5.0",
            "_view_name": "HBoxView",
            "box_style": "",
            "children": [
              "IPY_MODEL_d595ff69f67045fd9f8f42c5b2fcf378",
              "IPY_MODEL_1e887fdde4694c5fb5ad2039b5fdf345"
            ],
            "layout": "IPY_MODEL_dba8320895d547cea0609aa53a47c23d"
          }
        },
        "65bcedc1e421475ba8241cad3bc23c42": {
          "model_module": "@jupyter-widgets/controls",
          "model_module_version": "1.5.0",
          "model_name": "FloatProgressModel",
          "state": {
            "_dom_classes": [],
            "_model_module": "@jupyter-widgets/controls",
            "_model_module_version": "1.5.0",
            "_model_name": "FloatProgressModel",
            "_view_count": null,
            "_view_module": "@jupyter-widgets/controls",
            "_view_module_version": "1.5.0",
            "_view_name": "ProgressView",
            "bar_style": "success",
            "description": "",
            "description_tooltip": null,
            "layout": "IPY_MODEL_d72b3a10596b4196b707bdc7396ed358",
            "max": 1,
            "min": 0,
            "orientation": "horizontal",
            "style": "IPY_MODEL_0cf6b249ee5f4d6c9a46ef1fe2e54a03",
            "value": 1
          }
        },
        "688b2f68de9b49ed90ddc144f960e45f": {
          "model_module": "@jupyter-widgets/base",
          "model_module_version": "1.2.0",
          "model_name": "LayoutModel",
          "state": {
            "_model_module": "@jupyter-widgets/base",
            "_model_module_version": "1.2.0",
            "_model_name": "LayoutModel",
            "_view_count": null,
            "_view_module": "@jupyter-widgets/base",
            "_view_module_version": "1.2.0",
            "_view_name": "LayoutView",
            "align_content": null,
            "align_items": null,
            "align_self": null,
            "border": null,
            "bottom": null,
            "display": null,
            "flex": null,
            "flex_flow": null,
            "grid_area": null,
            "grid_auto_columns": null,
            "grid_auto_flow": null,
            "grid_auto_rows": null,
            "grid_column": null,
            "grid_gap": null,
            "grid_row": null,
            "grid_template_areas": null,
            "grid_template_columns": null,
            "grid_template_rows": null,
            "height": null,
            "justify_content": null,
            "justify_items": null,
            "left": null,
            "margin": null,
            "max_height": null,
            "max_width": null,
            "min_height": null,
            "min_width": null,
            "object_fit": null,
            "object_position": null,
            "order": null,
            "overflow": null,
            "overflow_x": null,
            "overflow_y": null,
            "padding": null,
            "right": null,
            "top": null,
            "visibility": null,
            "width": null
          }
        },
        "69917da2adfe409483eb22e82068ff80": {
          "model_module": "@jupyter-widgets/controls",
          "model_module_version": "1.5.0",
          "model_name": "CheckboxModel",
          "state": {
            "_dom_classes": [],
            "_model_module": "@jupyter-widgets/controls",
            "_model_module_version": "1.5.0",
            "_model_name": "CheckboxModel",
            "_view_count": null,
            "_view_module": "@jupyter-widgets/controls",
            "_view_module_version": "1.5.0",
            "_view_name": "CheckboxView",
            "description": "Google Hybrid",
            "description_tooltip": null,
            "disabled": false,
            "indent": false,
            "layout": "IPY_MODEL_4fe7fbdbf2534629bece5711486e8724",
            "style": "IPY_MODEL_359ac21f615346ba9cd351bdaeb6bbda",
            "value": true
          }
        },
        "6e09a66c4b6b4c9395f8ccb66cbd298e": {
          "model_module": "@jupyter-widgets/controls",
          "model_module_version": "1.5.0",
          "model_name": "HBoxModel",
          "state": {
            "_dom_classes": [],
            "_model_module": "@jupyter-widgets/controls",
            "_model_module_version": "1.5.0",
            "_model_name": "HBoxModel",
            "_view_count": null,
            "_view_module": "@jupyter-widgets/controls",
            "_view_module_version": "1.5.0",
            "_view_name": "HBoxView",
            "box_style": "",
            "children": [
              "IPY_MODEL_80e12bd7734543bcbc6eb1539fbf1c0a",
              "IPY_MODEL_65bcedc1e421475ba8241cad3bc23c42",
              "IPY_MODEL_778d7d5a9cac4abe9e8787e2bc0e5460"
            ],
            "layout": "IPY_MODEL_ff6ca8d019974fb7af0be610378f9a55"
          }
        },
        "6eef7d85f71a4713b9ae7461cf1f5ba8": {
          "model_module": "@jupyter-widgets/base",
          "model_module_version": "1.2.0",
          "model_name": "LayoutModel",
          "state": {
            "_model_module": "@jupyter-widgets/base",
            "_model_module_version": "1.2.0",
            "_model_name": "LayoutModel",
            "_view_count": null,
            "_view_module": "@jupyter-widgets/base",
            "_view_module_version": "1.2.0",
            "_view_name": "LayoutView",
            "align_content": null,
            "align_items": null,
            "align_self": null,
            "border": null,
            "bottom": null,
            "display": null,
            "flex": null,
            "flex_flow": null,
            "grid_area": null,
            "grid_auto_columns": null,
            "grid_auto_flow": null,
            "grid_auto_rows": null,
            "grid_column": null,
            "grid_gap": null,
            "grid_row": null,
            "grid_template_areas": null,
            "grid_template_columns": null,
            "grid_template_rows": null,
            "height": "18px",
            "justify_content": null,
            "justify_items": null,
            "left": null,
            "margin": null,
            "max_height": null,
            "max_width": null,
            "min_height": null,
            "min_width": null,
            "object_fit": null,
            "object_position": null,
            "order": null,
            "overflow": null,
            "overflow_x": null,
            "overflow_y": null,
            "padding": null,
            "right": null,
            "top": null,
            "visibility": null,
            "width": "25ex"
          }
        },
        "6f794fbb5aa64fdb9a47ef93aecb8334": {
          "model_module": "@jupyter-widgets/base",
          "model_module_version": "1.2.0",
          "model_name": "LayoutModel",
          "state": {
            "_model_module": "@jupyter-widgets/base",
            "_model_module_version": "1.2.0",
            "_model_name": "LayoutModel",
            "_view_count": null,
            "_view_module": "@jupyter-widgets/base",
            "_view_module_version": "1.2.0",
            "_view_name": "LayoutView",
            "align_content": null,
            "align_items": null,
            "align_self": null,
            "border": null,
            "bottom": null,
            "display": null,
            "flex": null,
            "flex_flow": null,
            "grid_area": null,
            "grid_auto_columns": null,
            "grid_auto_flow": null,
            "grid_auto_rows": null,
            "grid_column": null,
            "grid_gap": null,
            "grid_row": null,
            "grid_template_areas": null,
            "grid_template_columns": null,
            "grid_template_rows": null,
            "height": "18px",
            "justify_content": null,
            "justify_items": null,
            "left": null,
            "margin": null,
            "max_height": null,
            "max_width": null,
            "min_height": null,
            "min_width": null,
            "object_fit": null,
            "object_position": null,
            "order": null,
            "overflow": null,
            "overflow_x": null,
            "overflow_y": null,
            "padding": null,
            "right": null,
            "top": null,
            "visibility": null,
            "width": "25ex"
          }
        },
        "6fbeebbd1ddf465a80d1d3ff3e71cfcc": {
          "model_module": "@jupyter-widgets/controls",
          "model_module_version": "1.5.0",
          "model_name": "DescriptionStyleModel",
          "state": {
            "_model_module": "@jupyter-widgets/controls",
            "_model_module_version": "1.5.0",
            "_model_name": "DescriptionStyleModel",
            "_view_count": null,
            "_view_module": "@jupyter-widgets/base",
            "_view_module_version": "1.2.0",
            "_view_name": "StyleView",
            "description_width": ""
          }
        },
        "71a73ff116184257981be20b4eab99e0": {
          "model_module": "@jupyter-widgets/controls",
          "model_module_version": "1.5.0",
          "model_name": "ProgressStyleModel",
          "state": {
            "_model_module": "@jupyter-widgets/controls",
            "_model_module_version": "1.5.0",
            "_model_name": "ProgressStyleModel",
            "_view_count": null,
            "_view_module": "@jupyter-widgets/base",
            "_view_module_version": "1.2.0",
            "_view_name": "StyleView",
            "bar_color": null,
            "description_width": ""
          }
        },
        "778d7d5a9cac4abe9e8787e2bc0e5460": {
          "model_module": "@jupyter-widgets/controls",
          "model_module_version": "1.5.0",
          "model_name": "HTMLModel",
          "state": {
            "_dom_classes": [],
            "_model_module": "@jupyter-widgets/controls",
            "_model_module_version": "1.5.0",
            "_model_name": "HTMLModel",
            "_view_count": null,
            "_view_module": "@jupyter-widgets/controls",
            "_view_module_version": "1.5.0",
            "_view_name": "HTMLView",
            "description": "",
            "description_tooltip": null,
            "layout": "IPY_MODEL_4c01195d1335454886b0ed4af0c97f5e",
            "placeholder": "​",
            "style": "IPY_MODEL_9f9e0fe4b815475994baec35e470b005",
            "value": " 1/1 [00:00&lt;00:00, 45.56it/s]"
          }
        },
        "78ec3d9fad9341e3b7d9c275b01ab8c9": {
          "model_module": "@jupyter-widgets/controls",
          "model_module_version": "1.5.0",
          "model_name": "HTMLModel",
          "state": {
            "_dom_classes": [],
            "_model_module": "@jupyter-widgets/controls",
            "_model_module_version": "1.5.0",
            "_model_name": "HTMLModel",
            "_view_count": null,
            "_view_module": "@jupyter-widgets/controls",
            "_view_module_version": "1.5.0",
            "_view_name": "HTMLView",
            "description": "",
            "description_tooltip": null,
            "layout": "IPY_MODEL_fbbb1c605d2b42f485af3e31b06457d8",
            "placeholder": "​",
            "style": "IPY_MODEL_bada98e3f54c4dfe9385006df65711c8",
            "value": " 1/1 [00:00&lt;00:00, 14.68it/s]"
          }
        },
        "791ceb6f42e54dc782a221dde1093516": {
          "model_module": "@jupyter-widgets/controls",
          "model_module_version": "1.5.0",
          "model_name": "DescriptionStyleModel",
          "state": {
            "_model_module": "@jupyter-widgets/controls",
            "_model_module_version": "1.5.0",
            "_model_name": "DescriptionStyleModel",
            "_view_count": null,
            "_view_module": "@jupyter-widgets/base",
            "_view_module_version": "1.2.0",
            "_view_name": "StyleView",
            "description_width": ""
          }
        },
        "79fe4ed4a6924eab8f06feaede94453e": {
          "model_module": "@jupyter-widgets/controls",
          "model_module_version": "1.5.0",
          "model_name": "HTMLModel",
          "state": {
            "_dom_classes": [],
            "_model_module": "@jupyter-widgets/controls",
            "_model_module_version": "1.5.0",
            "_model_name": "HTMLModel",
            "_view_count": null,
            "_view_module": "@jupyter-widgets/controls",
            "_view_module_version": "1.5.0",
            "_view_name": "HTMLView",
            "description": "",
            "description_tooltip": null,
            "layout": "IPY_MODEL_9d158dbe205d414fa800152d683392b5",
            "placeholder": "​",
            "style": "IPY_MODEL_ac8a2b09d9a34e2586f168251bf79607",
            "value": "COLLECTING RESULTS | : 100%"
          }
        },
        "7a91ad9b8019412bac5d1b62a221508f": {
          "model_module": "@jupyter-widgets/base",
          "model_module_version": "1.2.0",
          "model_name": "LayoutModel",
          "state": {
            "_model_module": "@jupyter-widgets/base",
            "_model_module_version": "1.2.0",
            "_model_name": "LayoutModel",
            "_view_count": null,
            "_view_module": "@jupyter-widgets/base",
            "_view_module_version": "1.2.0",
            "_view_name": "LayoutView",
            "align_content": null,
            "align_items": null,
            "align_self": null,
            "border": null,
            "bottom": null,
            "display": null,
            "flex": null,
            "flex_flow": null,
            "grid_area": null,
            "grid_auto_columns": null,
            "grid_auto_flow": null,
            "grid_auto_rows": null,
            "grid_column": null,
            "grid_gap": null,
            "grid_row": null,
            "grid_template_areas": null,
            "grid_template_columns": null,
            "grid_template_rows": null,
            "height": null,
            "justify_content": null,
            "justify_items": null,
            "left": null,
            "margin": null,
            "max_height": null,
            "max_width": null,
            "min_height": null,
            "min_width": null,
            "object_fit": null,
            "object_position": null,
            "order": null,
            "overflow": null,
            "overflow_x": null,
            "overflow_y": null,
            "padding": null,
            "right": null,
            "top": null,
            "visibility": null,
            "width": null
          }
        },
        "7f1b53f4bb674e36bdc967860efc9dee": {
          "model_module": "@jupyter-widgets/controls",
          "model_module_version": "1.5.0",
          "model_name": "ProgressStyleModel",
          "state": {
            "_model_module": "@jupyter-widgets/controls",
            "_model_module_version": "1.5.0",
            "_model_name": "ProgressStyleModel",
            "_view_count": null,
            "_view_module": "@jupyter-widgets/base",
            "_view_module_version": "1.2.0",
            "_view_name": "StyleView",
            "bar_color": null,
            "description_width": ""
          }
        },
        "7fade1f3d2134d04a60be2cc92298715": {
          "model_module": "jupyter-leaflet",
          "model_module_version": "^0.19",
          "model_name": "LeafletGeoJSONModel",
          "state": {
            "_model_module": "jupyter-leaflet",
            "_model_module_version": "^0.19",
            "_model_name": "LeafletGeoJSONModel",
            "_view_count": null,
            "_view_module": "jupyter-leaflet",
            "_view_module_version": "^0.19",
            "_view_name": "LeafletGeoJSONView",
            "base": false,
            "bottom": false,
            "data": {
              "bbox": [
                145.07139,
                -18.49892,
                145.83122,
                -16.10319437603427
              ],
              "features": [
                {
                  "bbox": [
                    145.44139,
                    -16.13658,
                    145.44139,
                    -16.13658
                  ],
                  "geometry": {
                    "coordinates": [
                      145.44139,
                      -16.13658
                    ],
                    "type": "Point"
                  },
                  "id": "0",
                  "properties": {
                    "#census": 13,
                    "AGB_estim": 589,
                    "Notes": "Short walk to plot (1/2 hour)",
                    "access": "Y",
                    "alt_masl": 15,
                    "area_ha": 0.505,
                    "base_acces": "Cairns (1.5 hours)",
                    "disturb_ev": " ",
                    "first_cens": 1977,
                    "last_censu": 2012,
                    "lat": -16.13658,
                    "long": 145.44139,
                    "mean_temp": "25.3",
                    "multitemp": "Y",
                    "plot_name": "Oliver Creek",
                    "plot_num": "ep41",
                    "precip": "3470",
                    "stems_firs": 790,
                    "stems_last": 630,
                    "style": {
                      "weight": 1
                    },
                    "travel_day": "1"
                  },
                  "type": "Feature"
                },
                {
                  "bbox": [
                    145.08522,
                    -16.21794,
                    145.08522,
                    -16.21794
                  ],
                  "geometry": {
                    "coordinates": [
                      145.08522,
                      -16.21794
                    ],
                    "type": "Point"
                  },
                  "id": "1",
                  "properties": {
                    "#census": 10,
                    "AGB_estim": 708,
                    "Notes": "This is the walk - ~10 hours in due to having to cut your way along an old track - faster to come out.",
                    "access": "N",
                    "alt_masl": 910,
                    "area_ha": 0.524,
                    "base_acces": "Atherton/Cairns (2 hour)",
                    "disturb_ev": null,
                    "first_cens": 1980,
                    "last_censu": 2013,
                    "lat": -16.21794,
                    "long": 145.08522,
                    "mean_temp": "20.2",
                    "multitemp": "N",
                    "plot_name": "Fantail LA",
                    "plot_num": "ep44",
                    "precip": "2365",
                    "stems_firs": 878,
                    "stems_last": 778,
                    "style": {
                      "weight": 1
                    },
                    "travel_day": "1.5**"
                  },
                  "type": "Feature"
                },
                {
                  "bbox": [
                    145.07139,
                    -16.27767,
                    145.07139,
                    -16.27767
                  ],
                  "geometry": {
                    "coordinates": [
                      145.07139,
                      -16.27767
                    ],
                    "type": "Point"
                  },
                  "id": "2",
                  "properties": {
                    "#census": 12,
                    "AGB_estim": 674,
                    "Notes": "Would do with Agapates SA and Fantail.  Short walk to this one from road.",
                    "access": "/",
                    "alt_masl": 1060,
                    "area_ha": 0.5081,
                    "base_acces": "Atherton/Cairns (2 hour)",
                    "disturb_ev": " ",
                    "first_cens": 1976,
                    "last_censu": 2013,
                    "lat": -16.27767,
                    "long": 145.07139,
                    "mean_temp": "19.5",
                    "multitemp": "N",
                    "plot_name": "Agapetes LA",
                    "plot_num": "ep30",
                    "precip": "2597",
                    "stems_firs": 1104,
                    "stems_last": 1134,
                    "style": {
                      "weight": 1
                    },
                    "travel_day": "1.5**"
                  },
                  "type": "Feature"
                },
                {
                  "bbox": [
                    145.10231,
                    -16.28017,
                    145.10231,
                    -16.28017
                  ],
                  "geometry": {
                    "coordinates": [
                      145.10231,
                      -16.28017
                    ],
                    "type": "Point"
                  },
                  "id": "3",
                  "properties": {
                    "#census": 11,
                    "AGB_estim": 627,
                    "Notes": "1 hour walk from road",
                    "access": "/",
                    "alt_masl": 800,
                    "area_ha": 0.5236,
                    "base_acces": "Atherton/Cairns (2 hour)",
                    "disturb_ev": "D (2006)",
                    "first_cens": 1978,
                    "last_censu": 2013,
                    "lat": -16.28017,
                    "long": 145.10231,
                    "mean_temp": "20.7",
                    "multitemp": "N",
                    "plot_name": "Agapetes SA",
                    "plot_num": "ep40",
                    "precip": "2097",
                    "stems_firs": 992,
                    "stems_last": 848,
                    "style": {
                      "weight": 1
                    },
                    "travel_day": "1.5**"
                  },
                  "type": "Feature"
                },
                {
                  "bbox": [
                    145.33667,
                    -16.35542,
                    145.33667,
                    -16.35542
                  ],
                  "geometry": {
                    "coordinates": [
                      145.33667,
                      -16.35542
                    ],
                    "type": "Point"
                  },
                  "id": "4",
                  "properties": {
                    "#census": 13,
                    "AGB_estim": 551,
                    "Notes": "Long walk to plot (several hours)",
                    "access": "N",
                    "alt_masl": 230,
                    "area_ha": 0.5401,
                    "base_acces": "Cairns/Atherton (1 hour)",
                    "disturb_ev": "c(1986)",
                    "first_cens": 1977,
                    "last_censu": 2012,
                    "lat": -16.35542,
                    "long": 145.33667,
                    "mean_temp": "24.4",
                    "multitemp": "N",
                    "plot_name": "Whyanbeel",
                    "plot_num": "ep35",
                    "precip": "2411",
                    "stems_firs": 1002,
                    "stems_last": 818,
                    "style": {
                      "weight": 1
                    },
                    "travel_day": "1.5*"
                  },
                  "type": "Feature"
                },
                {
                  "bbox": [
                    145.26656,
                    -16.52264,
                    145.26656,
                    -16.52264
                  ],
                  "geometry": {
                    "coordinates": [
                      145.26656,
                      -16.52264
                    ],
                    "type": "Point"
                  },
                  "id": "5",
                  "properties": {
                    "#census": 15,
                    "AGB_estim": 838,
                    "Notes": "Through locked gate (National Parks) to top of Mt Lewis Road.  Short walk to plot",
                    "access": "/",
                    "alt_masl": 1100,
                    "area_ha": 0.5098,
                    "base_acces": "Cairns/Atherton (2 hour)",
                    "disturb_ev": "P(1987-1996)",
                    "first_cens": 1973,
                    "last_censu": 2012,
                    "lat": -16.52264,
                    "long": 145.26656,
                    "mean_temp": "19.2",
                    "multitemp": "N",
                    "plot_name": "Mount Lewis",
                    "plot_num": "ep18",
                    "precip": "2676",
                    "stems_firs": 908,
                    "stems_last": 838,
                    "style": {
                      "weight": 1
                    },
                    "travel_day": "1"
                  },
                  "type": "Feature"
                },
                {
                  "bbox": [
                    145.83122,
                    -16.99486,
                    145.83122,
                    -16.99486
                  ],
                  "geometry": {
                    "coordinates": [
                      145.83122,
                      -16.99486
                    ],
                    "type": "Point"
                  },
                  "id": "6",
                  "properties": {
                    "#census": 14,
                    "AGB_estim": 456,
                    "Notes": "Short walk to plot (1 hour)",
                    "access": "Y",
                    "alt_masl": 110,
                    "area_ha": 0.5096,
                    "base_acces": "Cairns (1/2 hour)",
                    "disturb_ev": "C (1990)",
                    "first_cens": 1972,
                    "last_censu": 2012,
                    "lat": -16.99486,
                    "long": 145.83122,
                    "mean_temp": "24.9",
                    "multitemp": "N",
                    "plot_name": "Pine Creek",
                    "plot_num": "ep4",
                    "precip": "2453",
                    "stems_firs": 972,
                    "stems_last": 916,
                    "style": {
                      "weight": 1
                    },
                    "travel_day": "1"
                  },
                  "type": "Feature"
                },
                {
                  "bbox": [
                    145.59161,
                    -17.08783,
                    145.59161,
                    -17.08783
                  ],
                  "geometry": {
                    "coordinates": [
                      145.59161,
                      -17.08783
                    ],
                    "type": "Point"
                  },
                  "id": "7",
                  "properties": {
                    "#census": 16,
                    "AGB_estim": 814,
                    "Notes": "Short walk to plot (1 hour)",
                    "access": "N",
                    "alt_masl": 1120,
                    "area_ha": 0.5434,
                    "base_acces": "Atherton (1/2 hour)",
                    "disturb_ev": "c (2006)",
                    "first_cens": 1971,
                    "last_censu": 2011,
                    "lat": -17.08783,
                    "long": 145.59161,
                    "mean_temp": "18.7",
                    "multitemp": "Y",
                    "plot_name": "Mount Haig",
                    "plot_num": "ep3",
                    "precip": "2884",
                    "stems_firs": 1004,
                    "stems_last": 966,
                    "style": {
                      "weight": 1
                    },
                    "travel_day": "1"
                  },
                  "type": "Feature"
                },
                {
                  "bbox": [
                    145.63272,
                    -17.11544,
                    145.63272,
                    -17.11544
                  ],
                  "geometry": {
                    "coordinates": [
                      145.63272,
                      -17.11544
                    ],
                    "type": "Point"
                  },
                  "id": "8",
                  "properties": {
                    "#census": 15,
                    "AGB_estim": 679,
                    "Notes": "Short walk to plot (1/2 hour)",
                    "access": "Y",
                    "alt_masl": 800,
                    "area_ha": 0.5593,
                    "base_acces": "Atherton (1/2 hour)",
                    "disturb_ev": "C (2006)",
                    "first_cens": 1972,
                    "last_censu": 2011,
                    "lat": -17.11544,
                    "long": 145.63272,
                    "mean_temp": "20.399999999999999",
                    "multitemp": "Y",
                    "plot_name": "Robson Creek",
                    "plot_num": "ep9",
                    "precip": "1769",
                    "stems_firs": 882,
                    "stems_last": 856,
                    "style": {
                      "weight": 1
                    },
                    "travel_day": "1"
                  },
                  "type": "Feature"
                },
                {
                  "bbox": [
                    145.58688,
                    -17.14616,
                    145.58688,
                    -17.14616
                  ],
                  "geometry": {
                    "coordinates": [
                      145.58688,
                      -17.14616
                    ],
                    "type": "Point"
                  },
                  "id": "9",
                  "properties": {
                    "#census": 16,
                    "AGB_estim": 343,
                    "Notes": "Short walk to plot (1/2 hour)",
                    "access": "Y",
                    "alt_masl": 720,
                    "area_ha": 0.5128,
                    "base_acces": "Atherton (1/2 hour)",
                    "disturb_ev": "C (2006)",
                    "first_cens": 1971,
                    "last_censu": 2011,
                    "lat": -17.14616,
                    "long": 145.58688,
                    "mean_temp": "20.7",
                    "multitemp": "N",
                    "plot_name": "Downfall Creek",
                    "plot_num": "ep2",
                    "precip": "1403",
                    "stems_firs": 924,
                    "stems_last": 1012,
                    "style": {
                      "weight": 1
                    },
                    "travel_day": "1"
                  },
                  "type": "Feature"
                },
                {
                  "bbox": [
                    145.57183,
                    -17.28642,
                    145.57183,
                    -17.28642
                  ],
                  "geometry": {
                    "coordinates": [
                      145.57183,
                      -17.28642
                    ],
                    "type": "Point"
                  },
                  "id": "10",
                  "properties": {
                    "#census": 13,
                    "AGB_estim": 806,
                    "Notes": "Short walk to plot (1/2 hour)",
                    "access": "Y",
                    "alt_masl": 720,
                    "area_ha": 0.5063,
                    "base_acces": "Atherton (1/2 hour)",
                    "disturb_ev": "c (2006), D (1995)",
                    "first_cens": 1976,
                    "last_censu": 2011,
                    "lat": -17.28642,
                    "long": 145.57183,
                    "mean_temp": "20.6",
                    "multitemp": "Y",
                    "plot_name": "Curtain Fig",
                    "plot_num": "ep33",
                    "precip": "1424",
                    "stems_firs": 630,
                    "stems_last": 514,
                    "style": {
                      "weight": 1
                    },
                    "travel_day": "1"
                  },
                  "type": "Feature"
                },
                {
                  "bbox": [
                    145.43725,
                    -17.30869,
                    145.43725,
                    -17.30869
                  ],
                  "geometry": {
                    "coordinates": [
                      145.43725,
                      -17.30869
                    ],
                    "type": "Point"
                  },
                  "id": "11",
                  "properties": {
                    "#census": 12,
                    "AGB_estim": 635,
                    "Notes": "Short walk to plot (1/2 hour)",
                    "access": "Y",
                    "alt_masl": 1120,
                    "area_ha": 0.5716,
                    "base_acces": "Atherton (1/2 hour)",
                    "disturb_ev": "C (2006)",
                    "first_cens": 1978,
                    "last_censu": 2012,
                    "lat": -17.30869,
                    "long": 145.43725,
                    "mean_temp": "19.100000000000001",
                    "multitemp": "N",
                    "plot_name": "Mount Baldy",
                    "plot_num": "ep43",
                    "precip": "1655",
                    "stems_firs": 778,
                    "stems_last": 678,
                    "style": {
                      "weight": 1
                    },
                    "travel_day": "1"
                  },
                  "type": "Feature"
                },
                {
                  "bbox": [
                    145.47919,
                    -17.35025,
                    145.47919,
                    -17.35025
                  ],
                  "geometry": {
                    "coordinates": [
                      145.47919,
                      -17.35025
                    ],
                    "type": "Point"
                  },
                  "id": "12",
                  "properties": {
                    "#census": 13,
                    "AGB_estim": 505,
                    "Notes": "Short walk to plot (1 hour)",
                    "access": "Y",
                    "alt_masl": 1000,
                    "area_ha": 0.518,
                    "base_acces": "Atherton (1/2 hour)",
                    "disturb_ev": "C (2006)",
                    "first_cens": 1977,
                    "last_censu": 2011,
                    "lat": -17.35025,
                    "long": 145.47919,
                    "mean_temp": "19.2",
                    "multitemp": "N",
                    "plot_name": "The Crater",
                    "plot_num": "ep38",
                    "precip": "1797",
                    "stems_firs": 746,
                    "stems_last": 644,
                    "style": {
                      "weight": 1
                    },
                    "travel_day": "1"
                  },
                  "type": "Feature"
                },
                {
                  "bbox": [
                    145.77078,
                    -17.40858,
                    145.77078,
                    -17.40858
                  ],
                  "geometry": {
                    "coordinates": [
                      145.77078,
                      -17.40858
                    ],
                    "type": "Point"
                  },
                  "id": "13",
                  "properties": {
                    "#census": 12,
                    "AGB_estim": 530,
                    "Notes": "Long walk to plot (several hours)",
                    "access": "Y",
                    "alt_masl": 380,
                    "area_ha": 0.5269,
                    "base_acces": "Atherton (1/2 hour)",
                    "disturb_ev": "C (2006)",
                    "first_cens": 1976,
                    "last_censu": 2012,
                    "lat": -17.40858,
                    "long": 145.77078,
                    "mean_temp": "22.8",
                    "multitemp": "N",
                    "plot_name": "Russell River",
                    "plot_num": "ep34",
                    "precip": "3101",
                    "stems_firs": 604,
                    "stems_last": 474,
                    "style": {
                      "weight": 1
                    },
                    "travel_day": "1.5*"
                  },
                  "type": "Feature"
                },
                {
                  "bbox": [
                    145.82919,
                    -17.52669,
                    145.82919,
                    -17.52669
                  ],
                  "geometry": {
                    "coordinates": [
                      145.82919,
                      -17.52669
                    ],
                    "type": "Point"
                  },
                  "id": "14",
                  "properties": {
                    "#census": 10,
                    "AGB_estim": 537,
                    "Notes": "Long walk/swim/canoe to plot (5 hours)",
                    "access": "/",
                    "alt_masl": 80,
                    "area_ha": 0.5241,
                    "base_acces": "Atherton (1 hour)",
                    "disturb_ev": "C (1986, 2006), c(2011)",
                    "first_cens": 1976,
                    "last_censu": 2013,
                    "lat": -17.52669,
                    "long": 145.82919,
                    "mean_temp": "24.2",
                    "multitemp": "N",
                    "plot_name": "Woopen Creek",
                    "plot_num": "ep31",
                    "precip": "3365",
                    "stems_firs": 476,
                    "stems_last": 410,
                    "style": {
                      "weight": 1
                    },
                    "travel_day": "2"
                  },
                  "type": "Feature"
                },
                {
                  "bbox": [
                    145.54811,
                    -17.54569,
                    145.54811,
                    -17.54569
                  ],
                  "geometry": {
                    "coordinates": [
                      145.54811,
                      -17.54569
                    ],
                    "type": "Point"
                  },
                  "id": "15",
                  "properties": {
                    "#census": 14,
                    "AGB_estim": 478,
                    "Notes": "Short walk to plot (1 hour)",
                    "access": "Y",
                    "alt_masl": 1200,
                    "area_ha": 0.5237,
                    "base_acces": "Atherton (1/2 hour)",
                    "disturb_ev": "C (2006, 2011)",
                    "first_cens": 1975,
                    "last_censu": 2011,
                    "lat": -17.54569,
                    "long": 145.54811,
                    "mean_temp": "18.3",
                    "multitemp": "N",
                    "plot_name": "Mount Fisher",
                    "plot_num": "ep29",
                    "precip": "2857",
                    "stems_firs": 988,
                    "stems_last": 842,
                    "style": {
                      "weight": 1
                    },
                    "travel_day": "1"
                  },
                  "type": "Feature"
                },
                {
                  "bbox": [
                    145.75628,
                    -18.49892,
                    145.75628,
                    -18.49892
                  ],
                  "geometry": {
                    "coordinates": [
                      145.75628,
                      -18.49892
                    ],
                    "type": "Point"
                  },
                  "id": "16",
                  "properties": {
                    "#census": 13,
                    "AGB_estim": 307,
                    "Notes": "Through locked gate (National Parks) to Wallaman Falls.  Short walk to plot",
                    "access": "N",
                    "alt_masl": 620,
                    "area_ha": 0.5235,
                    "base_acces": "Ingham (1 hour)",
                    "disturb_ev": "P (19781989), C(2011)",
                    "first_cens": 1975,
                    "last_censu": 2013,
                    "lat": -18.49892,
                    "long": 145.75628,
                    "mean_temp": "21.4",
                    "multitemp": "N",
                    "plot_name": "Garrawalt",
                    "plot_num": "ep19",
                    "precip": "1236",
                    "stems_firs": 800,
                    "stems_last": 1032,
                    "style": {
                      "weight": 1
                    },
                    "travel_day": "1"
                  },
                  "type": "Feature"
                },
                {
                  "bbox": [
                    145.44979917191876,
                    -16.10319437603427,
                    145.44979917191876,
                    -16.10319437603427
                  ],
                  "geometry": {
                    "coordinates": [
                      145.44979917191876,
                      -16.10319437603427
                    ],
                    "type": "Point"
                  },
                  "id": "17",
                  "properties": {
                    "#census": null,
                    "AGB_estim": null,
                    "Notes": null,
                    "access": "Y",
                    "alt_masl": 45,
                    "area_ha": null,
                    "base_acces": null,
                    "disturb_ev": null,
                    "first_cens": null,
                    "last_censu": null,
                    "lat": -16.10360023979272,
                    "long": 145.44973413835763,
                    "mean_temp": "24.4",
                    "multitemp": "N",
                    "plot_name": "Daintree Rainforest Observatory",
                    "plot_num": "DRO",
                    "precip": "3500",
                    "stems_firs": null,
                    "stems_last": null,
                    "style": {
                      "weight": 1
                    },
                    "travel_day": null
                  },
                  "type": "Feature"
                },
                {
                  "bbox": [
                    145.57956366548325,
                    -17.00653468949732,
                    145.57956366548325,
                    -17.00653468949732
                  ],
                  "geometry": {
                    "coordinates": [
                      145.57956366548325,
                      -17.00653468949732
                    ],
                    "type": "Point"
                  },
                  "id": "18",
                  "properties": {
                    "#census": null,
                    "AGB_estim": null,
                    "Notes": null,
                    "access": "Y",
                    "alt_masl": 850,
                    "area_ha": null,
                    "base_acces": null,
                    "disturb_ev": null,
                    "first_cens": null,
                    "last_censu": null,
                    "lat": -17.003510400000003,
                    "long": 145.57224019999998,
                    "mean_temp": null,
                    "multitemp": "N",
                    "plot_name": "Davies Creek",
                    "plot_num": "DC",
                    "precip": "2164",
                    "stems_firs": null,
                    "stems_last": null,
                    "style": {
                      "weight": 1
                    },
                    "travel_day": null
                  },
                  "type": "Feature"
                }
              ],
              "type": "FeatureCollection"
            },
            "hover_style": {
              "color": "yellow",
              "fillOpacity": 0,
              "weight": 3
            },
            "layers": [],
            "name": "Plots",
            "options": [],
            "pane": "",
            "point_style": {},
            "popup": null,
            "popup_max_height": null,
            "popup_max_width": 300,
            "popup_min_width": 50,
            "style": {
              "weight": 1
            },
            "subitems": [],
            "visible": true
          }
        },
        "804bc8f4e64c4f1eb59734d834d3a274": {
          "model_module": "jupyter-leaflet",
          "model_module_version": "^0.19",
          "model_name": "LeafletWidgetControlModel",
          "state": {
            "_model_module": "jupyter-leaflet",
            "_model_module_version": "^0.19",
            "_model_name": "LeafletWidgetControlModel",
            "_view_count": null,
            "_view_module": "jupyter-leaflet",
            "_view_module_version": "^0.19",
            "_view_name": "LeafletWidgetControlView",
            "max_height": null,
            "max_width": null,
            "min_height": null,
            "min_width": null,
            "options": [
              "position",
              "transparent_bg"
            ],
            "position": "bottomright",
            "transparent_bg": false,
            "widget": "IPY_MODEL_eb89c6a7c6454082b714460a96ed4637"
          }
        },
        "80e12bd7734543bcbc6eb1539fbf1c0a": {
          "model_module": "@jupyter-widgets/controls",
          "model_module_version": "1.5.0",
          "model_name": "HTMLModel",
          "state": {
            "_dom_classes": [],
            "_model_module": "@jupyter-widgets/controls",
            "_model_module_version": "1.5.0",
            "_model_name": "HTMLModel",
            "_view_count": null,
            "_view_module": "@jupyter-widgets/controls",
            "_view_module_version": "1.5.0",
            "_view_name": "HTMLView",
            "description": "",
            "description_tooltip": null,
            "layout": "IPY_MODEL_7a91ad9b8019412bac5d1b62a221508f",
            "placeholder": "​",
            "style": "IPY_MODEL_45d2b6b725ef4d17bd6a81c6c0f243d2",
            "value": "PROCESSING TASKS | : 100%"
          }
        },
        "8285e105dae14921aa457ccfdc37aca8": {
          "model_module": "@jupyter-widgets/controls",
          "model_module_version": "1.5.0",
          "model_name": "DescriptionStyleModel",
          "state": {
            "_model_module": "@jupyter-widgets/controls",
            "_model_module_version": "1.5.0",
            "_model_name": "DescriptionStyleModel",
            "_view_count": null,
            "_view_module": "@jupyter-widgets/base",
            "_view_module_version": "1.2.0",
            "_view_name": "StyleView",
            "description_width": ""
          }
        },
        "8ab67e376c85484f949c6073c9797e39": {
          "model_module": "@jupyter-widgets/controls",
          "model_module_version": "1.5.0",
          "model_name": "CheckboxModel",
          "state": {
            "_dom_classes": [],
            "_model_module": "@jupyter-widgets/controls",
            "_model_module_version": "1.5.0",
            "_model_name": "CheckboxModel",
            "_view_count": null,
            "_view_module": "@jupyter-widgets/controls",
            "_view_module_version": "1.5.0",
            "_view_name": "CheckboxView",
            "description": "OpenStreetMap",
            "description_tooltip": null,
            "disabled": false,
            "indent": false,
            "layout": "IPY_MODEL_3a383514f8c04a7a8309c1f0e1823c2e",
            "style": "IPY_MODEL_c4ad2609bdd44210b36647d1f34a530c",
            "value": true
          }
        },
        "8ac4207784fd415f8b252aacd0e8c56b": {
          "model_module": "@jupyter-widgets/base",
          "model_module_version": "1.2.0",
          "model_name": "LayoutModel",
          "state": {
            "_model_module": "@jupyter-widgets/base",
            "_model_module_version": "1.2.0",
            "_model_name": "LayoutModel",
            "_view_count": null,
            "_view_module": "@jupyter-widgets/base",
            "_view_module_version": "1.2.0",
            "_view_name": "LayoutView",
            "align_content": null,
            "align_items": null,
            "align_self": null,
            "border": null,
            "bottom": null,
            "display": null,
            "flex": null,
            "flex_flow": null,
            "grid_area": null,
            "grid_auto_columns": null,
            "grid_auto_flow": null,
            "grid_auto_rows": null,
            "grid_column": null,
            "grid_gap": null,
            "grid_row": null,
            "grid_template_areas": null,
            "grid_template_columns": null,
            "grid_template_rows": null,
            "height": "18px",
            "justify_content": null,
            "justify_items": null,
            "left": null,
            "margin": null,
            "max_height": null,
            "max_width": null,
            "min_height": null,
            "min_width": null,
            "object_fit": null,
            "object_position": null,
            "order": null,
            "overflow": null,
            "overflow_x": null,
            "overflow_y": null,
            "padding": null,
            "right": null,
            "top": null,
            "visibility": null,
            "width": "25ex"
          }
        },
        "8bfd8d9974be4ad5850feb8a9b2ce9f0": {
          "model_module": "@jupyter-widgets/controls",
          "model_module_version": "1.5.0",
          "model_name": "HTMLModel",
          "state": {
            "_dom_classes": [],
            "_model_module": "@jupyter-widgets/controls",
            "_model_module_version": "1.5.0",
            "_model_name": "HTMLModel",
            "_view_count": null,
            "_view_module": "@jupyter-widgets/controls",
            "_view_module_version": "1.5.0",
            "_view_name": "HTMLView",
            "description": "",
            "description_tooltip": null,
            "layout": "IPY_MODEL_d349013a8452404c9167b7c233a079de",
            "placeholder": "​",
            "style": "IPY_MODEL_9e636a7f0ad14187b5297ea3382a7d30",
            "value": "QUEUEING TASKS | : 100%"
          }
        },
        "8dd095e2e77141409dd6da2671ddc378": {
          "model_module": "@jupyter-widgets/base",
          "model_module_version": "1.2.0",
          "model_name": "LayoutModel",
          "state": {
            "_model_module": "@jupyter-widgets/base",
            "_model_module_version": "1.2.0",
            "_model_name": "LayoutModel",
            "_view_count": null,
            "_view_module": "@jupyter-widgets/base",
            "_view_module_version": "1.2.0",
            "_view_name": "LayoutView",
            "align_content": null,
            "align_items": null,
            "align_self": null,
            "border": null,
            "bottom": null,
            "display": null,
            "flex": null,
            "flex_flow": null,
            "grid_area": null,
            "grid_auto_columns": null,
            "grid_auto_flow": null,
            "grid_auto_rows": null,
            "grid_column": null,
            "grid_gap": null,
            "grid_row": null,
            "grid_template_areas": null,
            "grid_template_columns": null,
            "grid_template_rows": null,
            "height": "18px",
            "justify_content": null,
            "justify_items": null,
            "left": null,
            "margin": null,
            "max_height": null,
            "max_width": null,
            "min_height": null,
            "min_width": null,
            "object_fit": null,
            "object_position": null,
            "order": null,
            "overflow": null,
            "overflow_x": null,
            "overflow_y": null,
            "padding": null,
            "right": null,
            "top": null,
            "visibility": null,
            "width": "25ex"
          }
        },
        "9602cb5b4b874046b7b6688d343f8bb9": {
          "model_module": "@jupyter-widgets/controls",
          "model_module_version": "1.5.0",
          "model_name": "CheckboxModel",
          "state": {
            "_dom_classes": [],
            "_model_module": "@jupyter-widgets/controls",
            "_model_module_version": "1.5.0",
            "_model_name": "CheckboxModel",
            "_view_count": null,
            "_view_module": "@jupyter-widgets/controls",
            "_view_module_version": "1.5.0",
            "_view_name": "CheckboxView",
            "description": "OpenStreetMap.Mapnik",
            "description_tooltip": null,
            "disabled": false,
            "indent": false,
            "layout": "IPY_MODEL_8ac4207784fd415f8b252aacd0e8c56b",
            "style": "IPY_MODEL_a9ba411fa65f4b0da6d15f7c177b6e8d",
            "value": true
          }
        },
        "99b32bd1edc844fa86cf645de9364fc8": {
          "model_module": "@jupyter-widgets/base",
          "model_module_version": "1.2.0",
          "model_name": "LayoutModel",
          "state": {
            "_model_module": "@jupyter-widgets/base",
            "_model_module_version": "1.2.0",
            "_model_name": "LayoutModel",
            "_view_count": null,
            "_view_module": "@jupyter-widgets/base",
            "_view_module_version": "1.2.0",
            "_view_name": "LayoutView",
            "align_content": null,
            "align_items": null,
            "align_self": null,
            "border": null,
            "bottom": null,
            "display": null,
            "flex": null,
            "flex_flow": null,
            "grid_area": null,
            "grid_auto_columns": null,
            "grid_auto_flow": null,
            "grid_auto_rows": null,
            "grid_column": null,
            "grid_gap": null,
            "grid_row": null,
            "grid_template_areas": null,
            "grid_template_columns": null,
            "grid_template_rows": null,
            "height": "18px",
            "justify_content": null,
            "justify_items": null,
            "left": null,
            "margin": null,
            "max_height": null,
            "max_width": null,
            "min_height": null,
            "min_width": null,
            "object_fit": null,
            "object_position": null,
            "order": null,
            "overflow": null,
            "overflow_x": null,
            "overflow_y": null,
            "padding": null,
            "right": null,
            "top": null,
            "visibility": null,
            "width": "25ex"
          }
        },
        "9adc10ac8ade41a7bd462b03d5d41454": {
          "model_module": "@jupyter-widgets/controls",
          "model_module_version": "1.5.0",
          "model_name": "CheckboxModel",
          "state": {
            "_dom_classes": [],
            "_model_module": "@jupyter-widgets/controls",
            "_model_module_version": "1.5.0",
            "_model_name": "CheckboxModel",
            "_view_count": null,
            "_view_module": "@jupyter-widgets/controls",
            "_view_module_version": "1.5.0",
            "_view_name": "CheckboxView",
            "description": "OpenStreetMap.Mapnik",
            "description_tooltip": null,
            "disabled": false,
            "indent": false,
            "layout": "IPY_MODEL_99b32bd1edc844fa86cf645de9364fc8",
            "style": "IPY_MODEL_0d2bfbe36279441fb03a4f8e469adc01",
            "value": true
          }
        },
        "9bd1a2aafb304c35850641d6762fde09": {
          "model_module": "@jupyter-widgets/base",
          "model_module_version": "1.2.0",
          "model_name": "LayoutModel",
          "state": {
            "_model_module": "@jupyter-widgets/base",
            "_model_module_version": "1.2.0",
            "_model_name": "LayoutModel",
            "_view_count": null,
            "_view_module": "@jupyter-widgets/base",
            "_view_module_version": "1.2.0",
            "_view_name": "LayoutView",
            "align_content": null,
            "align_items": null,
            "align_self": null,
            "border": null,
            "bottom": null,
            "display": null,
            "flex": null,
            "flex_flow": null,
            "grid_area": null,
            "grid_auto_columns": null,
            "grid_auto_flow": null,
            "grid_auto_rows": null,
            "grid_column": null,
            "grid_gap": null,
            "grid_row": null,
            "grid_template_areas": null,
            "grid_template_columns": null,
            "grid_template_rows": null,
            "height": null,
            "justify_content": null,
            "justify_items": null,
            "left": null,
            "margin": "0px 10px 0px 10px",
            "max_height": "250px",
            "max_width": "250px",
            "min_height": null,
            "min_width": null,
            "object_fit": null,
            "object_position": null,
            "order": null,
            "overflow": null,
            "overflow_x": null,
            "overflow_y": null,
            "padding": null,
            "right": null,
            "top": null,
            "visibility": null,
            "width": null
          }
        },
        "9bf4ef7f44f949a39c1a51ef7847df43": {
          "model_module": "@jupyter-widgets/controls",
          "model_module_version": "1.5.0",
          "model_name": "HBoxModel",
          "state": {
            "_dom_classes": [],
            "_model_module": "@jupyter-widgets/controls",
            "_model_module_version": "1.5.0",
            "_model_name": "HBoxModel",
            "_view_count": null,
            "_view_module": "@jupyter-widgets/controls",
            "_view_module_version": "1.5.0",
            "_view_name": "HBoxView",
            "box_style": "",
            "children": [
              "IPY_MODEL_79fe4ed4a6924eab8f06feaede94453e",
              "IPY_MODEL_187e9908627e4c8c8ed679fac6cc3d2c",
              "IPY_MODEL_d9da46b658a04a178f2bb308e34c8701"
            ],
            "layout": "IPY_MODEL_3783bd9906c44a70872027698f8e7000"
          }
        },
        "9d158dbe205d414fa800152d683392b5": {
          "model_module": "@jupyter-widgets/base",
          "model_module_version": "1.2.0",
          "model_name": "LayoutModel",
          "state": {
            "_model_module": "@jupyter-widgets/base",
            "_model_module_version": "1.2.0",
            "_model_name": "LayoutModel",
            "_view_count": null,
            "_view_module": "@jupyter-widgets/base",
            "_view_module_version": "1.2.0",
            "_view_name": "LayoutView",
            "align_content": null,
            "align_items": null,
            "align_self": null,
            "border": null,
            "bottom": null,
            "display": null,
            "flex": null,
            "flex_flow": null,
            "grid_area": null,
            "grid_auto_columns": null,
            "grid_auto_flow": null,
            "grid_auto_rows": null,
            "grid_column": null,
            "grid_gap": null,
            "grid_row": null,
            "grid_template_areas": null,
            "grid_template_columns": null,
            "grid_template_rows": null,
            "height": null,
            "justify_content": null,
            "justify_items": null,
            "left": null,
            "margin": null,
            "max_height": null,
            "max_width": null,
            "min_height": null,
            "min_width": null,
            "object_fit": null,
            "object_position": null,
            "order": null,
            "overflow": null,
            "overflow_x": null,
            "overflow_y": null,
            "padding": null,
            "right": null,
            "top": null,
            "visibility": null,
            "width": null
          }
        },
        "9e636a7f0ad14187b5297ea3382a7d30": {
          "model_module": "@jupyter-widgets/controls",
          "model_module_version": "1.5.0",
          "model_name": "DescriptionStyleModel",
          "state": {
            "_model_module": "@jupyter-widgets/controls",
            "_model_module_version": "1.5.0",
            "_model_name": "DescriptionStyleModel",
            "_view_count": null,
            "_view_module": "@jupyter-widgets/base",
            "_view_module_version": "1.2.0",
            "_view_name": "StyleView",
            "description_width": ""
          }
        },
        "9f9e0fe4b815475994baec35e470b005": {
          "model_module": "@jupyter-widgets/controls",
          "model_module_version": "1.5.0",
          "model_name": "DescriptionStyleModel",
          "state": {
            "_model_module": "@jupyter-widgets/controls",
            "_model_module_version": "1.5.0",
            "_model_name": "DescriptionStyleModel",
            "_view_count": null,
            "_view_module": "@jupyter-widgets/base",
            "_view_module_version": "1.2.0",
            "_view_name": "StyleView",
            "description_width": ""
          }
        },
        "a1a97892427049c88f5c4ec058b60d11": {
          "model_module": "@jupyter-widgets/controls",
          "model_module_version": "1.5.0",
          "model_name": "DescriptionStyleModel",
          "state": {
            "_model_module": "@jupyter-widgets/controls",
            "_model_module_version": "1.5.0",
            "_model_name": "DescriptionStyleModel",
            "_view_count": null,
            "_view_module": "@jupyter-widgets/base",
            "_view_module_version": "1.2.0",
            "_view_name": "StyleView",
            "description_width": ""
          }
        },
        "a1eb71fa6a674b72bbd197014d808721": {
          "model_module": "@jupyter-widgets/controls",
          "model_module_version": "1.5.0",
          "model_name": "HBoxModel",
          "state": {
            "_dom_classes": [],
            "_model_module": "@jupyter-widgets/controls",
            "_model_module_version": "1.5.0",
            "_model_name": "HBoxModel",
            "_view_count": null,
            "_view_module": "@jupyter-widgets/controls",
            "_view_module_version": "1.5.0",
            "_view_name": "HBoxView",
            "box_style": "",
            "children": [
              "IPY_MODEL_8bfd8d9974be4ad5850feb8a9b2ce9f0",
              "IPY_MODEL_a2fa4ffae9f84cae85be7673d6056103",
              "IPY_MODEL_78ec3d9fad9341e3b7d9c275b01ab8c9"
            ],
            "layout": "IPY_MODEL_60b2a5f3f7e94e46ab3aa4cf58e271d1"
          }
        },
        "a2fa4ffae9f84cae85be7673d6056103": {
          "model_module": "@jupyter-widgets/controls",
          "model_module_version": "1.5.0",
          "model_name": "FloatProgressModel",
          "state": {
            "_dom_classes": [],
            "_model_module": "@jupyter-widgets/controls",
            "_model_module_version": "1.5.0",
            "_model_name": "FloatProgressModel",
            "_view_count": null,
            "_view_module": "@jupyter-widgets/controls",
            "_view_module_version": "1.5.0",
            "_view_name": "ProgressView",
            "bar_style": "success",
            "description": "",
            "description_tooltip": null,
            "layout": "IPY_MODEL_317fdd3868d24fa2a93ab2a7db4eed97",
            "max": 1,
            "min": 0,
            "orientation": "horizontal",
            "style": "IPY_MODEL_71a73ff116184257981be20b4eab99e0",
            "value": 1
          }
        },
        "a9b8581b70cd4642b4228da352098daf": {
          "model_module": "jupyter-leaflet",
          "model_module_version": "^0.19",
          "model_name": "LeafletMapStyleModel",
          "state": {
            "_model_module": "jupyter-leaflet",
            "_model_module_version": "^0.19",
            "_model_name": "LeafletMapStyleModel",
            "_view_count": null,
            "_view_module": "@jupyter-widgets/base",
            "_view_module_version": "1.2.0",
            "_view_name": "StyleView",
            "cursor": "move"
          }
        },
        "a9ba411fa65f4b0da6d15f7c177b6e8d": {
          "model_module": "@jupyter-widgets/controls",
          "model_module_version": "1.5.0",
          "model_name": "DescriptionStyleModel",
          "state": {
            "_model_module": "@jupyter-widgets/controls",
            "_model_module_version": "1.5.0",
            "_model_name": "DescriptionStyleModel",
            "_view_count": null,
            "_view_module": "@jupyter-widgets/base",
            "_view_module_version": "1.2.0",
            "_view_name": "StyleView",
            "description_width": ""
          }
        },
        "ac8a2b09d9a34e2586f168251bf79607": {
          "model_module": "@jupyter-widgets/controls",
          "model_module_version": "1.5.0",
          "model_name": "DescriptionStyleModel",
          "state": {
            "_model_module": "@jupyter-widgets/controls",
            "_model_module_version": "1.5.0",
            "_model_name": "DescriptionStyleModel",
            "_view_count": null,
            "_view_module": "@jupyter-widgets/base",
            "_view_module_version": "1.2.0",
            "_view_name": "StyleView",
            "description_width": ""
          }
        },
        "b5ec80ad2410471884b049cf7caad06c": {
          "model_module": "jupyter-leaflet",
          "model_module_version": "^0.19",
          "model_name": "LeafletMapStyleModel",
          "state": {
            "_model_module": "jupyter-leaflet",
            "_model_module_version": "^0.19",
            "_model_name": "LeafletMapStyleModel",
            "_view_count": null,
            "_view_module": "@jupyter-widgets/base",
            "_view_module_version": "1.2.0",
            "_view_name": "StyleView",
            "cursor": "grab"
          }
        },
        "b67398bbfb574b44b908ba417e0521c5": {
          "model_module": "@jupyter-widgets/base",
          "model_module_version": "1.2.0",
          "model_name": "LayoutModel",
          "state": {
            "_model_module": "@jupyter-widgets/base",
            "_model_module_version": "1.2.0",
            "_model_name": "LayoutModel",
            "_view_count": null,
            "_view_module": "@jupyter-widgets/base",
            "_view_module_version": "1.2.0",
            "_view_name": "LayoutView",
            "align_content": null,
            "align_items": null,
            "align_self": null,
            "border": null,
            "bottom": null,
            "display": null,
            "flex": null,
            "flex_flow": null,
            "grid_area": null,
            "grid_auto_columns": null,
            "grid_auto_flow": null,
            "grid_auto_rows": null,
            "grid_column": null,
            "grid_gap": null,
            "grid_row": null,
            "grid_template_areas": null,
            "grid_template_columns": null,
            "grid_template_rows": null,
            "height": "18px",
            "justify_content": null,
            "justify_items": null,
            "left": null,
            "margin": null,
            "max_height": null,
            "max_width": null,
            "min_height": null,
            "min_width": null,
            "object_fit": null,
            "object_position": null,
            "order": null,
            "overflow": null,
            "overflow_x": null,
            "overflow_y": null,
            "padding": null,
            "right": null,
            "top": null,
            "visibility": null,
            "width": "25ex"
          }
        },
        "bada98e3f54c4dfe9385006df65711c8": {
          "model_module": "@jupyter-widgets/controls",
          "model_module_version": "1.5.0",
          "model_name": "DescriptionStyleModel",
          "state": {
            "_model_module": "@jupyter-widgets/controls",
            "_model_module_version": "1.5.0",
            "_model_name": "DescriptionStyleModel",
            "_view_count": null,
            "_view_module": "@jupyter-widgets/base",
            "_view_module_version": "1.2.0",
            "_view_name": "StyleView",
            "description_width": ""
          }
        },
        "bcd04a0dd0ad4393818f7c669785640b": {
          "model_module": "@jupyter-widgets/controls",
          "model_module_version": "1.5.0",
          "model_name": "DescriptionStyleModel",
          "state": {
            "_model_module": "@jupyter-widgets/controls",
            "_model_module_version": "1.5.0",
            "_model_name": "DescriptionStyleModel",
            "_view_count": null,
            "_view_module": "@jupyter-widgets/base",
            "_view_module_version": "1.2.0",
            "_view_name": "StyleView",
            "description_width": ""
          }
        },
        "c276dc396d564c3eafada0786e5cbbf2": {
          "model_module": "@jupyter-widgets/controls",
          "model_module_version": "1.5.0",
          "model_name": "CheckboxModel",
          "state": {
            "_dom_classes": [],
            "_model_module": "@jupyter-widgets/controls",
            "_model_module_version": "1.5.0",
            "_model_name": "CheckboxModel",
            "_view_count": null,
            "_view_module": "@jupyter-widgets/controls",
            "_view_module_version": "1.5.0",
            "_view_name": "CheckboxView",
            "description": "OpenStreetMap",
            "description_tooltip": null,
            "disabled": false,
            "indent": false,
            "layout": "IPY_MODEL_3f5f103286664bb0abd1dd58d21daa2a",
            "style": "IPY_MODEL_fa1ac8916329421e8ee8d740af44dd4b",
            "value": true
          }
        },
        "c35c6abfa4524d28b741a2121ab31c6a": {
          "model_module": "@jupyter-widgets/base",
          "model_module_version": "1.2.0",
          "model_name": "LayoutModel",
          "state": {
            "_model_module": "@jupyter-widgets/base",
            "_model_module_version": "1.2.0",
            "_model_name": "LayoutModel",
            "_view_count": null,
            "_view_module": "@jupyter-widgets/base",
            "_view_module_version": "1.2.0",
            "_view_name": "LayoutView",
            "align_content": null,
            "align_items": null,
            "align_self": null,
            "border": null,
            "bottom": null,
            "display": null,
            "flex": null,
            "flex_flow": null,
            "grid_area": null,
            "grid_auto_columns": null,
            "grid_auto_flow": null,
            "grid_auto_rows": null,
            "grid_column": null,
            "grid_gap": null,
            "grid_row": null,
            "grid_template_areas": null,
            "grid_template_columns": null,
            "grid_template_rows": null,
            "height": null,
            "justify_content": null,
            "justify_items": null,
            "left": null,
            "margin": null,
            "max_height": null,
            "max_width": null,
            "min_height": null,
            "min_width": null,
            "object_fit": null,
            "object_position": null,
            "order": null,
            "overflow": null,
            "overflow_x": null,
            "overflow_y": null,
            "padding": null,
            "right": null,
            "top": null,
            "visibility": null,
            "width": null
          }
        },
        "c4ad2609bdd44210b36647d1f34a530c": {
          "model_module": "@jupyter-widgets/controls",
          "model_module_version": "1.5.0",
          "model_name": "DescriptionStyleModel",
          "state": {
            "_model_module": "@jupyter-widgets/controls",
            "_model_module_version": "1.5.0",
            "_model_name": "DescriptionStyleModel",
            "_view_count": null,
            "_view_module": "@jupyter-widgets/base",
            "_view_module_version": "1.2.0",
            "_view_name": "StyleView",
            "description_width": ""
          }
        },
        "cadc8a8fe97e4a92a8837450c7005461": {
          "model_module": "@jupyter-widgets/controls",
          "model_module_version": "1.5.0",
          "model_name": "CheckboxModel",
          "state": {
            "_dom_classes": [],
            "_model_module": "@jupyter-widgets/controls",
            "_model_module_version": "1.5.0",
            "_model_name": "CheckboxModel",
            "_view_count": null,
            "_view_module": "@jupyter-widgets/controls",
            "_view_module_version": "1.5.0",
            "_view_name": "CheckboxView",
            "description": "OpenStreetMap.Mapnik",
            "description_tooltip": null,
            "disabled": false,
            "indent": false,
            "layout": "IPY_MODEL_b67398bbfb574b44b908ba417e0521c5",
            "style": "IPY_MODEL_a1a97892427049c88f5c4ec058b60d11",
            "value": true
          }
        },
        "cbcefad099f94d1790e4cab1c0d073dc": {
          "model_module": "@jupyter-widgets/controls",
          "model_module_version": "1.5.0",
          "model_name": "DescriptionStyleModel",
          "state": {
            "_model_module": "@jupyter-widgets/controls",
            "_model_module_version": "1.5.0",
            "_model_name": "DescriptionStyleModel",
            "_view_count": null,
            "_view_module": "@jupyter-widgets/base",
            "_view_module_version": "1.2.0",
            "_view_name": "StyleView",
            "description_width": ""
          }
        },
        "d0373f8b0f4d49b194d091dcdc09fa99": {
          "model_module": "@jupyter-widgets/base",
          "model_module_version": "1.2.0",
          "model_name": "LayoutModel",
          "state": {
            "_model_module": "@jupyter-widgets/base",
            "_model_module_version": "1.2.0",
            "_model_name": "LayoutModel",
            "_view_count": null,
            "_view_module": "@jupyter-widgets/base",
            "_view_module_version": "1.2.0",
            "_view_name": "LayoutView",
            "align_content": null,
            "align_items": null,
            "align_self": null,
            "border": null,
            "bottom": null,
            "display": null,
            "flex": null,
            "flex_flow": null,
            "grid_area": null,
            "grid_auto_columns": null,
            "grid_auto_flow": null,
            "grid_auto_rows": null,
            "grid_column": null,
            "grid_gap": null,
            "grid_row": null,
            "grid_template_areas": null,
            "grid_template_columns": null,
            "grid_template_rows": null,
            "height": "18px",
            "justify_content": null,
            "justify_items": null,
            "left": null,
            "margin": null,
            "max_height": null,
            "max_width": null,
            "min_height": null,
            "min_width": null,
            "object_fit": null,
            "object_position": null,
            "order": null,
            "overflow": null,
            "overflow_x": null,
            "overflow_y": null,
            "padding": null,
            "right": null,
            "top": null,
            "visibility": null,
            "width": "25ex"
          }
        },
        "d349013a8452404c9167b7c233a079de": {
          "model_module": "@jupyter-widgets/base",
          "model_module_version": "1.2.0",
          "model_name": "LayoutModel",
          "state": {
            "_model_module": "@jupyter-widgets/base",
            "_model_module_version": "1.2.0",
            "_model_name": "LayoutModel",
            "_view_count": null,
            "_view_module": "@jupyter-widgets/base",
            "_view_module_version": "1.2.0",
            "_view_name": "LayoutView",
            "align_content": null,
            "align_items": null,
            "align_self": null,
            "border": null,
            "bottom": null,
            "display": null,
            "flex": null,
            "flex_flow": null,
            "grid_area": null,
            "grid_auto_columns": null,
            "grid_auto_flow": null,
            "grid_auto_rows": null,
            "grid_column": null,
            "grid_gap": null,
            "grid_row": null,
            "grid_template_areas": null,
            "grid_template_columns": null,
            "grid_template_rows": null,
            "height": null,
            "justify_content": null,
            "justify_items": null,
            "left": null,
            "margin": null,
            "max_height": null,
            "max_width": null,
            "min_height": null,
            "min_width": null,
            "object_fit": null,
            "object_position": null,
            "order": null,
            "overflow": null,
            "overflow_x": null,
            "overflow_y": null,
            "padding": null,
            "right": null,
            "top": null,
            "visibility": null,
            "width": null
          }
        },
        "d595ff69f67045fd9f8f42c5b2fcf378": {
          "model_module": "@jupyter-widgets/controls",
          "model_module_version": "1.5.0",
          "model_name": "ToggleButtonModel",
          "state": {
            "_dom_classes": [],
            "_model_module": "@jupyter-widgets/controls",
            "_model_module_version": "1.5.0",
            "_model_name": "ToggleButtonModel",
            "_view_count": null,
            "_view_module": "@jupyter-widgets/controls",
            "_view_module_version": "1.5.0",
            "_view_name": "ToggleButtonView",
            "button_style": "",
            "description": "",
            "description_tooltip": null,
            "disabled": false,
            "icon": "info",
            "layout": "IPY_MODEL_26a38b9a7d1f4b478bb8149d0675806c",
            "style": "IPY_MODEL_8285e105dae14921aa457ccfdc37aca8",
            "tooltip": "Toolbar",
            "value": true
          }
        },
        "d68cb7f3d5394ef8a5332d637244ea44": {
          "model_module": "jupyter-leaflet",
          "model_module_version": "^0.19",
          "model_name": "LeafletZoomControlModel",
          "state": {
            "_model_module": "jupyter-leaflet",
            "_model_module_version": "^0.19",
            "_model_name": "LeafletZoomControlModel",
            "_view_count": null,
            "_view_module": "jupyter-leaflet",
            "_view_module_version": "^0.19",
            "_view_name": "LeafletZoomControlView",
            "options": [
              "position",
              "zoom_in_text",
              "zoom_in_title",
              "zoom_out_text",
              "zoom_out_title"
            ],
            "position": "topleft",
            "zoom_in_text": "+",
            "zoom_in_title": "Zoom in",
            "zoom_out_text": "-",
            "zoom_out_title": "Zoom out"
          }
        },
        "d72b3a10596b4196b707bdc7396ed358": {
          "model_module": "@jupyter-widgets/base",
          "model_module_version": "1.2.0",
          "model_name": "LayoutModel",
          "state": {
            "_model_module": "@jupyter-widgets/base",
            "_model_module_version": "1.2.0",
            "_model_name": "LayoutModel",
            "_view_count": null,
            "_view_module": "@jupyter-widgets/base",
            "_view_module_version": "1.2.0",
            "_view_name": "LayoutView",
            "align_content": null,
            "align_items": null,
            "align_self": null,
            "border": null,
            "bottom": null,
            "display": null,
            "flex": null,
            "flex_flow": null,
            "grid_area": null,
            "grid_auto_columns": null,
            "grid_auto_flow": null,
            "grid_auto_rows": null,
            "grid_column": null,
            "grid_gap": null,
            "grid_row": null,
            "grid_template_areas": null,
            "grid_template_columns": null,
            "grid_template_rows": null,
            "height": null,
            "justify_content": null,
            "justify_items": null,
            "left": null,
            "margin": null,
            "max_height": null,
            "max_width": null,
            "min_height": null,
            "min_width": null,
            "object_fit": null,
            "object_position": null,
            "order": null,
            "overflow": null,
            "overflow_x": null,
            "overflow_y": null,
            "padding": null,
            "right": null,
            "top": null,
            "visibility": null,
            "width": null
          }
        },
        "d9da46b658a04a178f2bb308e34c8701": {
          "model_module": "@jupyter-widgets/controls",
          "model_module_version": "1.5.0",
          "model_name": "HTMLModel",
          "state": {
            "_dom_classes": [],
            "_model_module": "@jupyter-widgets/controls",
            "_model_module_version": "1.5.0",
            "_model_name": "HTMLModel",
            "_view_count": null,
            "_view_module": "@jupyter-widgets/controls",
            "_view_module_version": "1.5.0",
            "_view_name": "HTMLView",
            "description": "",
            "description_tooltip": null,
            "layout": "IPY_MODEL_c35c6abfa4524d28b741a2121ab31c6a",
            "placeholder": "​",
            "style": "IPY_MODEL_6fbeebbd1ddf465a80d1d3ff3e71cfcc",
            "value": " 1/1 [00:00&lt;00:00, 45.44it/s]"
          }
        },
        "dba8320895d547cea0609aa53a47c23d": {
          "model_module": "@jupyter-widgets/base",
          "model_module_version": "1.2.0",
          "model_name": "LayoutModel",
          "state": {
            "_model_module": "@jupyter-widgets/base",
            "_model_module_version": "1.2.0",
            "_model_name": "LayoutModel",
            "_view_count": null,
            "_view_module": "@jupyter-widgets/base",
            "_view_module_version": "1.2.0",
            "_view_name": "LayoutView",
            "align_content": null,
            "align_items": null,
            "align_self": null,
            "border": null,
            "bottom": null,
            "display": null,
            "flex": null,
            "flex_flow": null,
            "grid_area": null,
            "grid_auto_columns": null,
            "grid_auto_flow": null,
            "grid_auto_rows": null,
            "grid_column": null,
            "grid_gap": null,
            "grid_row": null,
            "grid_template_areas": null,
            "grid_template_columns": null,
            "grid_template_rows": null,
            "height": null,
            "justify_content": null,
            "justify_items": null,
            "left": null,
            "margin": null,
            "max_height": null,
            "max_width": null,
            "min_height": null,
            "min_width": null,
            "object_fit": null,
            "object_position": null,
            "order": null,
            "overflow": null,
            "overflow_x": null,
            "overflow_y": null,
            "padding": null,
            "right": null,
            "top": null,
            "visibility": null,
            "width": null
          }
        },
        "eb89c6a7c6454082b714460a96ed4637": {
          "model_module": "@jupyter-widgets/controls",
          "model_module_version": "1.5.0",
          "model_name": "VBoxModel",
          "state": {
            "_dom_classes": [],
            "_model_module": "@jupyter-widgets/controls",
            "_model_module_version": "1.5.0",
            "_model_name": "VBoxModel",
            "_view_count": null,
            "_view_module": "@jupyter-widgets/controls",
            "_view_module_version": "1.5.0",
            "_view_name": "VBoxView",
            "box_style": "",
            "children": [
              "IPY_MODEL_64c67aec06254626963ea72f3d55472a",
              "IPY_MODEL_37a3e4a02bd049dd92275fe0e83a4e42"
            ],
            "layout": "IPY_MODEL_688b2f68de9b49ed90ddc144f960e45f"
          }
        },
        "ec0b65fd11074168a71390ac0d5b2da8": {
          "model_module": "@jupyter-widgets/controls",
          "model_module_version": "1.5.0",
          "model_name": "CheckboxModel",
          "state": {
            "_dom_classes": [],
            "_model_module": "@jupyter-widgets/controls",
            "_model_module_version": "1.5.0",
            "_model_name": "CheckboxModel",
            "_view_count": null,
            "_view_module": "@jupyter-widgets/controls",
            "_view_module_version": "1.5.0",
            "_view_name": "CheckboxView",
            "description": "OpenStreetMap.Mapnik",
            "description_tooltip": null,
            "disabled": false,
            "indent": false,
            "layout": "IPY_MODEL_6eef7d85f71a4713b9ae7461cf1f5ba8",
            "style": "IPY_MODEL_bcd04a0dd0ad4393818f7c669785640b",
            "value": true
          }
        },
        "edcba03eb2d6489fa5d5f3e44f9a2096": {
          "model_module": "@jupyter-widgets/base",
          "model_module_version": "1.2.0",
          "model_name": "LayoutModel",
          "state": {
            "_model_module": "@jupyter-widgets/base",
            "_model_module_version": "1.2.0",
            "_model_name": "LayoutModel",
            "_view_count": null,
            "_view_module": "@jupyter-widgets/base",
            "_view_module_version": "1.2.0",
            "_view_name": "LayoutView",
            "align_content": null,
            "align_items": null,
            "align_self": null,
            "border": null,
            "bottom": null,
            "display": null,
            "flex": null,
            "flex_flow": null,
            "grid_area": null,
            "grid_auto_columns": null,
            "grid_auto_flow": null,
            "grid_auto_rows": null,
            "grid_column": null,
            "grid_gap": null,
            "grid_row": null,
            "grid_template_areas": null,
            "grid_template_columns": null,
            "grid_template_rows": null,
            "height": "28px",
            "justify_content": null,
            "justify_items": null,
            "left": null,
            "margin": null,
            "max_height": null,
            "max_width": null,
            "min_height": null,
            "min_width": null,
            "object_fit": null,
            "object_position": null,
            "order": null,
            "overflow": null,
            "overflow_x": null,
            "overflow_y": null,
            "padding": "0px 0px 0px 4px",
            "right": null,
            "top": null,
            "visibility": null,
            "width": "28px"
          }
        },
        "f33fa56056f842dab938bd68ddbb5332": {
          "model_module": "@jupyter-widgets/controls",
          "model_module_version": "1.5.0",
          "model_name": "CheckboxModel",
          "state": {
            "_dom_classes": [],
            "_model_module": "@jupyter-widgets/controls",
            "_model_module_version": "1.5.0",
            "_model_name": "CheckboxModel",
            "_view_count": null,
            "_view_module": "@jupyter-widgets/controls",
            "_view_module_version": "1.5.0",
            "_view_name": "CheckboxView",
            "description": "OpenStreetMap",
            "description_tooltip": null,
            "disabled": false,
            "indent": false,
            "layout": "IPY_MODEL_d0373f8b0f4d49b194d091dcdc09fa99",
            "style": "IPY_MODEL_3c618d0cfd6d464f86f9188c262f0b87",
            "value": true
          }
        },
        "f76eb9c49f2c4232844c5e8c1d68767e": {
          "model_module": "@jupyter-widgets/controls",
          "model_module_version": "1.5.0",
          "model_name": "DescriptionStyleModel",
          "state": {
            "_model_module": "@jupyter-widgets/controls",
            "_model_module_version": "1.5.0",
            "_model_name": "DescriptionStyleModel",
            "_view_count": null,
            "_view_module": "@jupyter-widgets/base",
            "_view_module_version": "1.2.0",
            "_view_name": "StyleView",
            "description_width": ""
          }
        },
        "fa1ac8916329421e8ee8d740af44dd4b": {
          "model_module": "@jupyter-widgets/controls",
          "model_module_version": "1.5.0",
          "model_name": "DescriptionStyleModel",
          "state": {
            "_model_module": "@jupyter-widgets/controls",
            "_model_module_version": "1.5.0",
            "_model_name": "DescriptionStyleModel",
            "_view_count": null,
            "_view_module": "@jupyter-widgets/base",
            "_view_module_version": "1.2.0",
            "_view_name": "StyleView",
            "description_width": ""
          }
        },
        "fb2af16a864d4ccc9e0ee0d85d7e5cba": {
          "model_module": "@jupyter-widgets/base",
          "model_module_version": "1.2.0",
          "model_name": "LayoutModel",
          "state": {
            "_model_module": "@jupyter-widgets/base",
            "_model_module_version": "1.2.0",
            "_model_name": "LayoutModel",
            "_view_count": null,
            "_view_module": "@jupyter-widgets/base",
            "_view_module_version": "1.2.0",
            "_view_name": "LayoutView",
            "align_content": null,
            "align_items": null,
            "align_self": null,
            "border": null,
            "bottom": null,
            "display": null,
            "flex": null,
            "flex_flow": null,
            "grid_area": null,
            "grid_auto_columns": null,
            "grid_auto_flow": null,
            "grid_auto_rows": null,
            "grid_column": null,
            "grid_gap": null,
            "grid_row": null,
            "grid_template_areas": null,
            "grid_template_columns": null,
            "grid_template_rows": null,
            "height": "18px",
            "justify_content": null,
            "justify_items": null,
            "left": null,
            "margin": null,
            "max_height": null,
            "max_width": null,
            "min_height": null,
            "min_width": null,
            "object_fit": null,
            "object_position": null,
            "order": null,
            "overflow": null,
            "overflow_x": null,
            "overflow_y": null,
            "padding": null,
            "right": null,
            "top": null,
            "visibility": null,
            "width": "25ex"
          }
        },
        "fbbb1c605d2b42f485af3e31b06457d8": {
          "model_module": "@jupyter-widgets/base",
          "model_module_version": "1.2.0",
          "model_name": "LayoutModel",
          "state": {
            "_model_module": "@jupyter-widgets/base",
            "_model_module_version": "1.2.0",
            "_model_name": "LayoutModel",
            "_view_count": null,
            "_view_module": "@jupyter-widgets/base",
            "_view_module_version": "1.2.0",
            "_view_name": "LayoutView",
            "align_content": null,
            "align_items": null,
            "align_self": null,
            "border": null,
            "bottom": null,
            "display": null,
            "flex": null,
            "flex_flow": null,
            "grid_area": null,
            "grid_auto_columns": null,
            "grid_auto_flow": null,
            "grid_auto_rows": null,
            "grid_column": null,
            "grid_gap": null,
            "grid_row": null,
            "grid_template_areas": null,
            "grid_template_columns": null,
            "grid_template_rows": null,
            "height": null,
            "justify_content": null,
            "justify_items": null,
            "left": null,
            "margin": null,
            "max_height": null,
            "max_width": null,
            "min_height": null,
            "min_width": null,
            "object_fit": null,
            "object_position": null,
            "order": null,
            "overflow": null,
            "overflow_x": null,
            "overflow_y": null,
            "padding": null,
            "right": null,
            "top": null,
            "visibility": null,
            "width": null
          }
        },
        "ff6ca8d019974fb7af0be610378f9a55": {
          "model_module": "@jupyter-widgets/base",
          "model_module_version": "1.2.0",
          "model_name": "LayoutModel",
          "state": {
            "_model_module": "@jupyter-widgets/base",
            "_model_module_version": "1.2.0",
            "_model_name": "LayoutModel",
            "_view_count": null,
            "_view_module": "@jupyter-widgets/base",
            "_view_module_version": "1.2.0",
            "_view_name": "LayoutView",
            "align_content": null,
            "align_items": null,
            "align_self": null,
            "border": null,
            "bottom": null,
            "display": null,
            "flex": null,
            "flex_flow": null,
            "grid_area": null,
            "grid_auto_columns": null,
            "grid_auto_flow": null,
            "grid_auto_rows": null,
            "grid_column": null,
            "grid_gap": null,
            "grid_row": null,
            "grid_template_areas": null,
            "grid_template_columns": null,
            "grid_template_rows": null,
            "height": null,
            "justify_content": null,
            "justify_items": null,
            "left": null,
            "margin": null,
            "max_height": null,
            "max_width": null,
            "min_height": null,
            "min_width": null,
            "object_fit": null,
            "object_position": null,
            "order": null,
            "overflow": null,
            "overflow_x": null,
            "overflow_y": null,
            "padding": null,
            "right": null,
            "top": null,
            "visibility": null,
            "width": null
          }
        }
      }
    }
  },
  "nbformat": 4,
  "nbformat_minor": 0
}
