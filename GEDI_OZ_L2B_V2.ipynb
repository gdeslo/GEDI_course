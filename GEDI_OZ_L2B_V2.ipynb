{
  "cells": [
    {
      "cell_type": "markdown",
      "metadata": {
        "id": "view-in-github",
        "colab_type": "text"
      },
      "source": [
        "<a href=\"https://colab.research.google.com/github/gdeslo/GEDI_course/blob/notebook/GEDI_OZ_L2B_V2.ipynb\" target=\"_parent\"><img src=\"https://colab.research.google.com/assets/colab-badge.svg\" alt=\"Open In Colab\"/></a>"
      ]
    },
    {
      "cell_type": "markdown",
      "metadata": {
        "id": "GhjPPEHjTah3"
      },
      "source": [
        "# Getting Started with GEDI L2B Version 2 Data in Python\n",
        "### This tutorial demonstrates how to work with the Canopy Cover and Vertical Profile Metrics ([GEDI02_B.002](https://doi.org/10.5067/GEDI/GEDI02_B.002)) data product.\n",
        "The Global Ecosystem Dynamics Investigation ([GEDI](https://lpdaac.usgs.gov/data/get-started-data/collection-overview/missions/gedi-overview/)) mission aims to characterize ecosystem structure and dynamics to enable radically improved quantification and understanding of the Earth's carbon cycle and biodiversity. The GEDI instrument produces high resolution laser ranging observations of the 3-dimensional structure of the Earth. GEDI is attached to the International Space Station and collects data globally between 51.6 N and 51.6 S latitudes at the highest resolution and densest sampling of any light detection and ranging (lidar) instrument in orbit to date. The Land Processes Distributed Active Archive Center (LP DAAC) distributes the GEDI Level 1 and Level 2 Version 1 and Version 2 products. The L1B and L2 GEDI products are archived and distributed in the HDF-EOS5 file format.\n",
        "\n",
        "---\n",
        "## Use Case Example:  \n",
        "This tutorial was developed using an example use case for a project being completed by the National Park Service. **The goal of the project is to use GEDI L2B Version 2 data to observe tree canopy height, cover, and profile over Redwood National Park in northern California.**\n",
        "\n",
        "This tutorial will show how to use Python to open GEDI L2B Version 2 files, visualize the sub-orbit of GEDI points (shots), subset to a region of interest, visualize GEDI canopy height and vertical profile metrics, and export subsets of GEDI science dataset (SDS) layers as GeoJSON files that can be loaded into GIS and/or Remote Sensing software programs.\n",
        "\n",
        "- [Redwood National Park GeoJSON](https://github.com/nasa/GEDI-Data-Resources/Additional_files/RedwoodNP.geojson)  \n",
        "    - Contains the administrative boundary for Redwood National Park, available from: [Administrative Boundaries of National Park System Units 12/31/2017 - National Geospatial Data Asset (NGDA) NPS National Parks Dataset](https://irma.nps.gov/DataStore/DownloadFile/594958)\n",
        "\n",
        "***    \n",
        "### Data Used in the Example:  \n",
        "- **GEDI L2B Canopy Cover and Vertical Profile Metrics Data Global Footprint Level - [GEDI02_B.002](https://doi.org/10.5067/GEDI/GEDI02_B.002)**  \n",
        "     - _The purpose of the L2B dataset is to extract biophysical metrics from each GEDI waveform. These metrics are based on the directional gap probability profile derived from the L1B waveform and include canopy cover, Plant Area Index (PAI), Plant Area Volume Density (PAVD) and Foliage Height Diversity (FHD)._   \n",
        "     - **Science Dataset (SDS) layers:**\n",
        "        - /geolocation/digital_elevation_model\n",
        "        - /geolocation/elev_lowestmode  \n",
        "        - /geolocation/elev_highestreturn  \n",
        "        - /geolocation/lat_lowestmode  \n",
        "        - /geolocation/lon_lowestmode  \n",
        "        - /rh100  \n",
        "        - /l2b_quality_flag  \n",
        "        - /degrade_flag  \n",
        "        - /sensitivity  \n",
        "        - /pai  \n",
        "        - /pavd_z  \n",
        "        - /geolocation/shot_number  \n",
        "        - /dz  \n",
        "        - /selected_l2a_algorithm\n",
        "***  \n",
        "# Topics Covered:\n",
        "1. [**Get Started**](#getstarted)  \n",
        "    1.1 Import Packages    \n",
        "    1.2 Set Up the Working Environment and Retrieve Files      \n",
        "2. [**Import and Interpret Data**](#importinterpret)      \n",
        "    2.1 Open a GEDI HDF5 File and Read File Metadata     \n",
        "    2.2 Read SDS Metadata and Subset by Beam   \n",
        "3. [**Visualize a GEDI Sub-Orbit**](#visualizeorbit)      \n",
        "    3.1 Subset by Layer and Create a Geodataframe   \n",
        "    3.2 Visualize a Geodataframe\n",
        "4. [**Work with GEDI L2B Data**](#L2B)        \n",
        "    4.1 Import and Extract PAVD   \n",
        "    4.2 Visualize PAVD    \n",
        "5. [**Work with GEDI L2B Beam Transects**](#beamtransects)        \n",
        "    5.1 Quality Filtering        \n",
        "    5.2 Plot Beam Transects  \n",
        "    5.3 Subset Beam Transects  \n",
        "6. [**Plot Profile Transects**](#plottransects)      \n",
        "    6.1 Plot PAVD Transects  \n",
        "7. [**Spatial Visualization**](#spatialvisualization)      \n",
        "    7.1 Import, Subset, and Quality Filter all Beams  \n",
        "    7.2 Spatial Subsetting  \n",
        "    7.3 Visualize All Beams: Canopy Height, Elevation, and PAI  \n",
        "8. [**Export Subsets as GeoJSON Files**](#exportgeojson)     \n",
        "       \n",
        "***\n",
        "# Before Starting this Tutorial:\n",
        "\n",
        "This tutorial requires a compatible Python Environment and GEDI L2B granule from June 19, 2019 (orbit 02932, sub-orbit `02`) to download. To setup the Python environment and download the file, follow the steps in sections 1 and 2 of the [set-up instruction](https://github.com/nasa/GEDI-Data-Resources/Setup/setup_instructions.md).  \n",
        "\n",
        "## Source Code used to Generate this Tutorial:\n",
        "The repository containing all of the required files is located at: https://github.com/nasa/GEDI-Data-Resources      \n",
        "  \n",
        "<div class=\"alert alert-block alert-warning\" >\n",
        "<b>NOTE:</b> This tutorial was developed for GEDI L2B Version 2 HDF-EOS5 files and should only be used for that product. </div>   \n"
      ]
    },
    {
      "cell_type": "markdown",
      "metadata": {
        "id": "xwW87bh0Tah4"
      },
      "source": [
        "---\n",
        "# 1. Get Started <a id=\"getstarted\"></a>"
      ]
    },
    {
      "cell_type": "markdown",
      "source": [
        "## 1.1 Install Packages <a id=\"1.1\"></a>\n",
        "#### Install the required packages."
      ],
      "metadata": {
        "id": "CvaqqwXxOEzT"
      }
    },
    {
      "cell_type": "code",
      "source": [
        "!pip install geospatial geoviews\n",
        "!pip install \"ipywidgets>=7,<8\""
      ],
      "metadata": {
        "colab": {
          "base_uri": "https://localhost:8080/"
        },
        "id": "3-Hsi4rHOusx",
        "outputId": "9f1cf966-ff44-47ff-c9d9-df7766b70fdf"
      },
      "execution_count": null,
      "outputs": [
        {
          "output_type": "stream",
          "name": "stdout",
          "text": [
            "Requirement already satisfied: geospatial in /usr/local/lib/python3.11/dist-packages (0.11.2)\n",
            "Requirement already satisfied: geoviews in /usr/local/lib/python3.11/dist-packages (1.14.0)\n",
            "Requirement already satisfied: apache-sedona in /usr/local/lib/python3.11/dist-packages (from geospatial) (1.7.0)\n",
            "Requirement already satisfied: bokeh in /usr/local/lib/python3.11/dist-packages (from geospatial) (3.6.2)\n",
            "Requirement already satisfied: cenpy in /usr/local/lib/python3.11/dist-packages (from geospatial) (1.0.1)\n",
            "Requirement already satisfied: contextily in /usr/local/lib/python3.11/dist-packages (from geospatial) (1.6.2)\n",
            "Requirement already satisfied: cubo in /usr/local/lib/python3.11/dist-packages (from geospatial) (2024.8.0)\n",
            "Requirement already satisfied: dask-ee in /usr/local/lib/python3.11/dist-packages (from geospatial) (0.0.3)\n",
            "Requirement already satisfied: dask-geopandas in /usr/local/lib/python3.11/dist-packages (from geospatial) (0.4.3)\n",
            "Requirement already satisfied: datashader in /usr/local/lib/python3.11/dist-packages (from geospatial) (0.17.0)\n",
            "Requirement already satisfied: earthaccess in /usr/local/lib/python3.11/dist-packages (from geospatial) (0.13.0)\n",
            "Requirement already satisfied: earthengine-api in /usr/local/lib/python3.11/dist-packages (from geospatial) (1.4.6)\n",
            "Requirement already satisfied: earthpy in /usr/local/lib/python3.11/dist-packages (from geospatial) (0.9.4)\n",
            "Requirement already satisfied: easystac in /usr/local/lib/python3.11/dist-packages (from geospatial) (0.0.1)\n",
            "Requirement already satisfied: eemont in /usr/local/lib/python3.11/dist-packages (from geospatial) (0.3.6)\n",
            "Requirement already satisfied: eoreader in /usr/local/lib/python3.11/dist-packages (from geospatial) (0.21.9)\n",
            "Requirement already satisfied: fiona in /usr/local/lib/python3.11/dist-packages (from geospatial) (1.10.1)\n",
            "Requirement already satisfied: folium in /usr/local/lib/python3.11/dist-packages (from geospatial) (0.19.4)\n",
            "Requirement already satisfied: geemap>=0.34.3 in /usr/local/lib/python3.11/dist-packages (from geospatial) (0.35.1)\n",
            "Requirement already satisfied: geoalchemy2 in /usr/local/lib/python3.11/dist-packages (from geospatial) (0.17.0)\n",
            "Requirement already satisfied: geocube in /usr/local/lib/python3.11/dist-packages (from geospatial) (0.7.0)\n",
            "Requirement already satisfied: geopandas in /usr/local/lib/python3.11/dist-packages (from geospatial) (1.0.1)\n",
            "Requirement already satisfied: geotiff in /usr/local/lib/python3.11/dist-packages (from geospatial) (0.2.10)\n",
            "Requirement already satisfied: h3 in /usr/local/lib/python3.11/dist-packages (from geospatial) (4.2.0)\n",
            "Requirement already satisfied: hvplot in /usr/local/lib/python3.11/dist-packages (from geospatial) (0.11.2)\n",
            "Requirement already satisfied: hypercoast in /usr/local/lib/python3.11/dist-packages (from geospatial) (0.10.0)\n",
            "Requirement already satisfied: ipygany in /usr/local/lib/python3.11/dist-packages (from geospatial) (0.5.0)\n",
            "Requirement already satisfied: ipyleaflet in /usr/local/lib/python3.11/dist-packages (from geospatial) (0.19.2)\n",
            "Requirement already satisfied: keplergl in /usr/local/lib/python3.11/dist-packages (from geospatial) (0.3.6)\n",
            "Requirement already satisfied: laspy in /usr/local/lib/python3.11/dist-packages (from geospatial) (2.5.4)\n",
            "Requirement already satisfied: leafmap>=0.38.0 in /usr/local/lib/python3.11/dist-packages (from geospatial) (0.42.9)\n",
            "Requirement already satisfied: localtileserver in /usr/local/lib/python3.11/dist-packages (from geospatial) (0.10.6)\n",
            "Requirement already satisfied: lonboard in /usr/local/lib/python3.11/dist-packages (from geospatial) (0.10.3)\n",
            "Requirement already satisfied: mapboxgl in /usr/local/lib/python3.11/dist-packages (from geospatial) (0.10.2)\n",
            "Requirement already satisfied: mapclassify in /usr/local/lib/python3.11/dist-packages (from geospatial) (2.8.1)\n",
            "Requirement already satisfied: maplibre in /usr/local/lib/python3.11/dist-packages (from geospatial) (0.2.8)\n",
            "Requirement already satisfied: mapwidget in /usr/local/lib/python3.11/dist-packages (from geospatial) (0.1.2)\n",
            "Requirement already satisfied: movingpandas in /usr/local/lib/python3.11/dist-packages (from geospatial) (0.21.2)\n",
            "Requirement already satisfied: mss in /usr/local/lib/python3.11/dist-packages (from geospatial) (10.0.0)\n",
            "Requirement already satisfied: netcdf4 in /usr/local/lib/python3.11/dist-packages (from geospatial) (1.7.2)\n",
            "Requirement already satisfied: networkx in /usr/local/lib/python3.11/dist-packages (from geospatial) (3.4.2)\n",
            "Requirement already satisfied: odc-stac in /usr/local/lib/python3.11/dist-packages (from geospatial) (0.3.11)\n",
            "Requirement already satisfied: osmnx in /usr/local/lib/python3.11/dist-packages (from geospatial) (2.0.1)\n",
            "Requirement already satisfied: overturemaps in /usr/local/lib/python3.11/dist-packages (from geospatial) (0.12.0)\n",
            "Requirement already satisfied: owslib in /usr/local/lib/python3.11/dist-packages (from geospatial) (0.32.1)\n",
            "Requirement already satisfied: palettable in /usr/local/lib/python3.11/dist-packages (from geospatial) (3.3.3)\n",
            "Requirement already satisfied: panel in /usr/local/lib/python3.11/dist-packages (from geospatial) (1.6.0)\n",
            "Requirement already satisfied: planetary-computer in /usr/local/lib/python3.11/dist-packages (from geospatial) (1.0.0)\n",
            "Requirement already satisfied: plotly in /usr/local/lib/python3.11/dist-packages (from geospatial) (5.24.1)\n",
            "Requirement already satisfied: pydeck in /usr/local/lib/python3.11/dist-packages (from geospatial) (0.9.1)\n",
            "Requirement already satisfied: pygis>=0.7.0 in /usr/local/lib/python3.11/dist-packages (from geospatial) (0.7.0)\n",
            "Requirement already satisfied: pyntcloud in /usr/local/lib/python3.11/dist-packages (from geospatial) (0.3.1)\n",
            "Requirement already satisfied: pyproj in /usr/local/lib/python3.11/dist-packages (from geospatial) (3.7.0)\n",
            "Requirement already satisfied: pysal in /usr/local/lib/python3.11/dist-packages (from geospatial) (24.7)\n",
            "Requirement already satisfied: pyshp in /usr/local/lib/python3.11/dist-packages (from geospatial) (2.3.1)\n",
            "Requirement already satisfied: pystac-client in /usr/local/lib/python3.11/dist-packages (from geospatial) (0.8.5)\n",
            "Requirement already satisfied: rasterio in /usr/local/lib/python3.11/dist-packages (from geospatial) (1.4.3)\n",
            "Requirement already satisfied: rasterstats in /usr/local/lib/python3.11/dist-packages (from geospatial) (0.20.0)\n",
            "Requirement already satisfied: rio-cogeo in /usr/local/lib/python3.11/dist-packages (from geospatial) (5.4.1)\n",
            "Requirement already satisfied: rioxarray in /usr/local/lib/python3.11/dist-packages (from geospatial) (0.18.2)\n",
            "Requirement already satisfied: s2cloudless in /usr/local/lib/python3.11/dist-packages (from geospatial) (1.7.3)\n",
            "Requirement already satisfied: sarpy in /usr/local/lib/python3.11/dist-packages (from geospatial) (1.3.60)\n",
            "Requirement already satisfied: satpy in /usr/local/lib/python3.11/dist-packages (from geospatial) (0.53.0)\n",
            "Requirement already satisfied: sentinelsat in /usr/local/lib/python3.11/dist-packages (from geospatial) (1.2.1)\n",
            "Requirement already satisfied: shapely in /usr/local/lib/python3.11/dist-packages (from geospatial) (2.0.6)\n",
            "Requirement already satisfied: simplekml in /usr/local/lib/python3.11/dist-packages (from geospatial) (1.3.6)\n",
            "Requirement already satisfied: sliderule in /usr/local/lib/python3.11/dist-packages (from geospatial) (4.9.2)\n",
            "Requirement already satisfied: spyndex in /usr/local/lib/python3.11/dist-packages (from geospatial) (0.6.0)\n",
            "Requirement already satisfied: sqlalchemy in /usr/local/lib/python3.11/dist-packages (from geospatial) (2.0.37)\n",
            "Requirement already satisfied: stackstac in /usr/local/lib/python3.11/dist-packages (from geospatial) (0.5.1)\n",
            "Requirement already satisfied: usgs in /usr/local/lib/python3.11/dist-packages (from geospatial) (0.3.5)\n",
            "Requirement already satisfied: whitebox in /usr/local/lib/python3.11/dist-packages (from geospatial) (2.3.5)\n",
            "Requirement already satisfied: whiteboxgui in /usr/local/lib/python3.11/dist-packages (from geospatial) (2.3.0)\n",
            "Requirement already satisfied: wxee in /usr/local/lib/python3.11/dist-packages (from geospatial) (0.4.2)\n",
            "Requirement already satisfied: xarray in /usr/local/lib/python3.11/dist-packages (from geospatial) (2025.1.1)\n",
            "Requirement already satisfied: xarray-spatial in /usr/local/lib/python3.11/dist-packages (from geospatial) (0.4.0)\n",
            "Requirement already satisfied: xee in /usr/local/lib/python3.11/dist-packages (from geospatial) (0.0.19)\n",
            "Requirement already satisfied: xyzservices in /usr/local/lib/python3.11/dist-packages (from geospatial) (2025.1.0)\n",
            "Requirement already satisfied: duckdb in /usr/local/lib/python3.11/dist-packages (from geospatial) (1.1.3)\n",
            "Requirement already satisfied: cartopy>=0.18.0 in /usr/local/lib/python3.11/dist-packages (from geoviews) (0.24.1)\n",
            "Requirement already satisfied: holoviews>=1.16.0 in /usr/local/lib/python3.11/dist-packages (from geoviews) (1.20.0)\n",
            "Requirement already satisfied: numpy in /usr/local/lib/python3.11/dist-packages (from geoviews) (1.26.4)\n",
            "Requirement already satisfied: packaging in /usr/local/lib/python3.11/dist-packages (from geoviews) (24.2)\n",
            "Requirement already satisfied: param<3.0,>=1.9.3 in /usr/local/lib/python3.11/dist-packages (from geoviews) (2.2.0)\n",
            "Requirement already satisfied: Jinja2>=2.9 in /usr/local/lib/python3.11/dist-packages (from bokeh->geospatial) (3.1.5)\n",
            "Requirement already satisfied: contourpy>=1.2 in /usr/local/lib/python3.11/dist-packages (from bokeh->geospatial) (1.3.1)\n",
            "Requirement already satisfied: pandas>=1.2 in /usr/local/lib/python3.11/dist-packages (from bokeh->geospatial) (2.2.2)\n",
            "Requirement already satisfied: pillow>=7.1.0 in /usr/local/lib/python3.11/dist-packages (from bokeh->geospatial) (11.1.0)\n",
            "Requirement already satisfied: PyYAML>=3.10 in /usr/local/lib/python3.11/dist-packages (from bokeh->geospatial) (6.0.2)\n",
            "Requirement already satisfied: tornado>=6.2 in /usr/local/lib/python3.11/dist-packages (from bokeh->geospatial) (6.3.3)\n",
            "Requirement already satisfied: matplotlib>=3.6 in /usr/local/lib/python3.11/dist-packages (from cartopy>=0.18.0->geoviews) (3.10.0)\n",
            "Requirement already satisfied: bqplot in /usr/local/lib/python3.11/dist-packages (from geemap>=0.34.3->geospatial) (0.12.44)\n",
            "Requirement already satisfied: colour in /usr/local/lib/python3.11/dist-packages (from geemap>=0.34.3->geospatial) (0.1.5)\n",
            "Requirement already satisfied: eerepr>=0.0.4 in /usr/local/lib/python3.11/dist-packages (from geemap>=0.34.3->geospatial) (0.1.0)\n",
            "Requirement already satisfied: geocoder in /usr/local/lib/python3.11/dist-packages (from geemap>=0.34.3->geospatial) (1.38.1)\n",
            "Requirement already satisfied: ipyevents in /usr/local/lib/python3.11/dist-packages (from geemap>=0.34.3->geospatial) (2.0.2)\n",
            "Requirement already satisfied: ipyfilechooser>=0.6.0 in /usr/local/lib/python3.11/dist-packages (from geemap>=0.34.3->geospatial) (0.6.0)\n",
            "Requirement already satisfied: ipytree in /usr/local/lib/python3.11/dist-packages (from geemap>=0.34.3->geospatial) (0.2.2)\n",
            "Requirement already satisfied: pyperclip in /usr/local/lib/python3.11/dist-packages (from geemap>=0.34.3->geospatial) (1.9.0)\n",
            "Requirement already satisfied: python-box in /usr/local/lib/python3.11/dist-packages (from geemap>=0.34.3->geospatial) (7.3.2)\n",
            "Requirement already satisfied: scooby in /usr/local/lib/python3.11/dist-packages (from geemap>=0.34.3->geospatial) (0.10.0)\n",
            "Requirement already satisfied: google-cloud-storage in /usr/local/lib/python3.11/dist-packages (from earthengine-api->geospatial) (2.19.0)\n",
            "Requirement already satisfied: google-api-python-client>=1.12.1 in /usr/local/lib/python3.11/dist-packages (from earthengine-api->geospatial) (2.155.0)\n",
            "Requirement already satisfied: google-auth>=1.4.1 in /usr/local/lib/python3.11/dist-packages (from earthengine-api->geospatial) (2.27.0)\n",
            "Requirement already satisfied: google-auth-httplib2>=0.0.3 in /usr/local/lib/python3.11/dist-packages (from earthengine-api->geospatial) (0.2.0)\n",
            "Requirement already satisfied: httplib2<1dev,>=0.9.2 in /usr/local/lib/python3.11/dist-packages (from earthengine-api->geospatial) (0.22.0)\n",
            "Requirement already satisfied: requests in /usr/local/lib/python3.11/dist-packages (from earthengine-api->geospatial) (2.32.3)\n",
            "Requirement already satisfied: branca>=0.6.0 in /usr/local/lib/python3.11/dist-packages (from folium->geospatial) (0.8.1)\n",
            "Requirement already satisfied: colorcet in /usr/local/lib/python3.11/dist-packages (from holoviews>=1.16.0->geoviews) (3.1.0)\n",
            "Requirement already satisfied: pyviz-comms>=2.1 in /usr/local/lib/python3.11/dist-packages (from holoviews>=1.16.0->geoviews) (3.0.4)\n",
            "Requirement already satisfied: ipywidgets<9,>=7.6.0 in /usr/local/lib/python3.11/dist-packages (from ipyleaflet->geospatial) (7.8.5)\n",
            "Requirement already satisfied: jupyter-leaflet<0.20,>=0.19 in /usr/local/lib/python3.11/dist-packages (from ipyleaflet->geospatial) (0.19.2)\n",
            "Requirement already satisfied: traittypes<3,>=0.2.1 in /usr/local/lib/python3.11/dist-packages (from ipyleaflet->geospatial) (0.2.1)\n",
            "Requirement already satisfied: anywidget in /usr/local/lib/python3.11/dist-packages (from leafmap>=0.38.0->geospatial) (0.9.13)\n",
            "Requirement already satisfied: gdown in /usr/local/lib/python3.11/dist-packages (from leafmap>=0.38.0->geospatial) (5.2.0)\n",
            "Requirement already satisfied: geojson in /usr/local/lib/python3.11/dist-packages (from leafmap>=0.38.0->geospatial) (3.2.0)\n",
            "Requirement already satisfied: ipyvuetify in /usr/local/lib/python3.11/dist-packages (from leafmap>=0.38.0->geospatial) (1.10.0)\n",
            "Requirement already satisfied: psutil in /usr/local/lib/python3.11/dist-packages (from leafmap>=0.38.0->geospatial) (5.9.5)\n",
            "Requirement already satisfied: bleach in /usr/local/lib/python3.11/dist-packages (from panel->geospatial) (6.2.0)\n",
            "Requirement already satisfied: linkify-it-py in /usr/local/lib/python3.11/dist-packages (from panel->geospatial) (2.0.3)\n",
            "Requirement already satisfied: markdown in /usr/local/lib/python3.11/dist-packages (from panel->geospatial) (3.7)\n",
            "Requirement already satisfied: markdown-it-py in /usr/local/lib/python3.11/dist-packages (from panel->geospatial) (3.0.0)\n",
            "Requirement already satisfied: mdit-py-plugins in /usr/local/lib/python3.11/dist-packages (from panel->geospatial) (0.4.2)\n",
            "Requirement already satisfied: tqdm in /usr/local/lib/python3.11/dist-packages (from panel->geospatial) (4.67.1)\n",
            "Requirement already satisfied: typing-extensions in /usr/local/lib/python3.11/dist-packages (from panel->geospatial) (4.12.2)\n",
            "Requirement already satisfied: ffmpeg-python in /usr/local/lib/python3.11/dist-packages (from pygis>=0.7.0->geospatial) (0.2.0)\n",
            "Requirement already satisfied: geeadd in /usr/local/lib/python3.11/dist-packages (from pygis>=0.7.0->geospatial) (1.2.0)\n",
            "Requirement already satisfied: geedim>=1.6.1 in /usr/local/lib/python3.11/dist-packages (from pygis>=0.7.0->geospatial) (1.9.0)\n",
            "Requirement already satisfied: ipynb-py-convert in /usr/local/lib/python3.11/dist-packages (from pygis>=0.7.0->geospatial) (0.4.6)\n",
            "Requirement already satisfied: pycrs in /usr/local/lib/python3.11/dist-packages (from pygis>=0.7.0->geospatial) (1.0.2)\n",
            "Requirement already satisfied: retry in /usr/local/lib/python3.11/dist-packages (from pygis>=0.7.0->geospatial) (0.9.2)\n",
            "Requirement already satisfied: sankee in /usr/local/lib/python3.11/dist-packages (from pygis>=0.7.0->geospatial) (0.2.5)\n",
            "Requirement already satisfied: click in /usr/local/lib/python3.11/dist-packages (from localtileserver->geospatial) (8.1.8)\n",
            "Requirement already satisfied: flask<4,>=2.0.0 in /usr/local/lib/python3.11/dist-packages (from localtileserver->geospatial) (3.1.0)\n",
            "Requirement already satisfied: Flask-Caching in /usr/local/lib/python3.11/dist-packages (from localtileserver->geospatial) (2.3.0)\n",
            "Requirement already satisfied: flask-cors in /usr/local/lib/python3.11/dist-packages (from localtileserver->geospatial) (5.0.0)\n",
            "Requirement already satisfied: flask-restx>=1.3.0 in /usr/local/lib/python3.11/dist-packages (from localtileserver->geospatial) (1.3.0)\n",
            "Requirement already satisfied: rio-tiler in /usr/local/lib/python3.11/dist-packages (from localtileserver->geospatial) (7.4.0)\n",
            "Requirement already satisfied: server-thread in /usr/local/lib/python3.11/dist-packages (from localtileserver->geospatial) (0.3.0)\n",
            "Requirement already satisfied: werkzeug in /usr/local/lib/python3.11/dist-packages (from localtileserver->geospatial) (3.1.3)\n",
            "Requirement already satisfied: scikit-learn>=1.0 in /usr/local/lib/python3.11/dist-packages (from mapclassify->geospatial) (1.6.1)\n",
            "Requirement already satisfied: scipy>=1.8 in /usr/local/lib/python3.11/dist-packages (from mapclassify->geospatial) (1.13.1)\n",
            "Requirement already satisfied: certifi in /usr/local/lib/python3.11/dist-packages (from pyproj->geospatial) (2024.12.14)\n",
            "Requirement already satisfied: attrs in /usr/local/lib/python3.11/dist-packages (from apache-sedona->geospatial) (25.1.0)\n",
            "Requirement already satisfied: rtree in /usr/local/lib/python3.11/dist-packages (from cenpy->geospatial) (1.3.0)\n",
            "Requirement already satisfied: six in /usr/local/lib/python3.11/dist-packages (from cenpy->geospatial) (1.17.0)\n",
            "Requirement already satisfied: fuzzywuzzy in /usr/local/lib/python3.11/dist-packages (from cenpy->geospatial) (0.18.0)\n",
            "Requirement already satisfied: libpysal in /usr/local/lib/python3.11/dist-packages (from cenpy->geospatial) (4.12.1)\n",
            "Requirement already satisfied: geopy in /usr/local/lib/python3.11/dist-packages (from contextily->geospatial) (2.4.1)\n",
            "Requirement already satisfied: mercantile in /usr/local/lib/python3.11/dist-packages (from contextily->geospatial) (1.2.1)\n",
            "Requirement already satisfied: joblib in /usr/local/lib/python3.11/dist-packages (from contextily->geospatial) (1.4.2)\n",
            "Requirement already satisfied: dask>=2023.7.0 in /usr/local/lib/python3.11/dist-packages (from cubo->geospatial) (2025.1.0)\n",
            "Requirement already satisfied: pydantic>=1.7.3 in /usr/local/lib/python3.11/dist-packages (from planetary-computer->geospatial) (2.10.6)\n",
            "Requirement already satisfied: pystac>=1.0.0 in /usr/local/lib/python3.11/dist-packages (from planetary-computer->geospatial) (1.12.1)\n",
            "Requirement already satisfied: pytz>=2020.5 in /usr/local/lib/python3.11/dist-packages (from planetary-computer->geospatial) (2024.2)\n",
            "Requirement already satisfied: python-dotenv in /usr/local/lib/python3.11/dist-packages (from planetary-computer->geospatial) (1.0.1)\n",
            "Requirement already satisfied: python-dateutil>=2.8.2 in /usr/local/lib/python3.11/dist-packages (from pystac-client->geospatial) (2.8.2)\n",
            "Requirement already satisfied: affine in /usr/local/lib/python3.11/dist-packages (from rasterio->geospatial) (2.4.0)\n",
            "Requirement already satisfied: cligj>=0.5 in /usr/local/lib/python3.11/dist-packages (from rasterio->geospatial) (0.7.2)\n",
            "Requirement already satisfied: click-plugins in /usr/local/lib/python3.11/dist-packages (from rasterio->geospatial) (1.1.1)\n",
            "Requirement already satisfied: pyparsing in /usr/local/lib/python3.11/dist-packages (from rasterio->geospatial) (3.2.1)\n",
            "Requirement already satisfied: pyogrio>=0.7.2 in /usr/local/lib/python3.11/dist-packages (from geopandas->geospatial) (0.10.0)\n",
            "Requirement already satisfied: multipledispatch in /usr/local/lib/python3.11/dist-packages (from datashader->geospatial) (1.0.0)\n",
            "Requirement already satisfied: numba in /usr/local/lib/python3.11/dist-packages (from datashader->geospatial) (0.60.0)\n",
            "Requirement already satisfied: pyct in /usr/local/lib/python3.11/dist-packages (from datashader->geospatial) (0.5.0)\n",
            "Requirement already satisfied: toolz in /usr/local/lib/python3.11/dist-packages (from datashader->geospatial) (0.12.1)\n",
            "Requirement already satisfied: fsspec>=2022.11 in /usr/local/lib/python3.11/dist-packages (from earthaccess->geospatial) (2024.12.0)\n",
            "Requirement already satisfied: importlib-resources>=6.3.2 in /usr/local/lib/python3.11/dist-packages (from earthaccess->geospatial) (6.5.2)\n",
            "Requirement already satisfied: multimethod>=1.8 in /usr/local/lib/python3.11/dist-packages (from earthaccess->geospatial) (2.0)\n",
            "Requirement already satisfied: pqdm>=0.1 in /usr/local/lib/python3.11/dist-packages (from earthaccess->geospatial) (0.2.0)\n",
            "Requirement already satisfied: python-cmr>=0.10.0 in /usr/local/lib/python3.11/dist-packages (from earthaccess->geospatial) (0.13.0)\n",
            "Requirement already satisfied: s3fs>=2022.11 in /usr/local/lib/python3.11/dist-packages (from earthaccess->geospatial) (2024.12.0)\n",
            "Requirement already satisfied: tinynetrc>=1.3.1 in /usr/local/lib/python3.11/dist-packages (from earthaccess->geospatial) (1.3.1)\n",
            "Requirement already satisfied: scikit-image in /usr/local/lib/python3.11/dist-packages (from earthpy->geospatial) (0.25.1)\n",
            "Requirement already satisfied: radiant-mlhub in /usr/local/lib/python3.11/dist-packages (from easystac->geospatial) (0.4.1)\n",
            "Requirement already satisfied: termcolor in /usr/local/lib/python3.11/dist-packages (from easystac->geospatial) (2.5.0)\n",
            "Requirement already satisfied: beautifulsoup4 in /usr/local/lib/python3.11/dist-packages (from eemont->geospatial) (4.12.3)\n",
            "Requirement already satisfied: ee-extra>=0.0.15 in /usr/local/lib/python3.11/dist-packages (from eemont->geospatial) (0.0.15)\n",
            "Requirement already satisfied: lxml in /usr/local/lib/python3.11/dist-packages (from eoreader->geospatial) (5.3.0)\n",
            "Requirement already satisfied: h5netcdf in /usr/local/lib/python3.11/dist-packages (from eoreader->geospatial) (1.5.0)\n",
            "Requirement already satisfied: odc-geo>=0.4.6 in /usr/local/lib/python3.11/dist-packages (from eoreader->geospatial) (0.4.9.post0)\n",
            "Requirement already satisfied: sertit>=1.44.1 in /usr/local/lib/python3.11/dist-packages (from sertit[full]>=1.44.1->eoreader->geospatial) (1.45.0)\n",
            "Requirement already satisfied: pyresample in /usr/local/lib/python3.11/dist-packages (from eoreader->geospatial) (1.32.0)\n",
            "Requirement already satisfied: zarr in /usr/local/lib/python3.11/dist-packages (from eoreader->geospatial) (2.12.0)\n",
            "Requirement already satisfied: cloudpathlib>=0.12.1 in /usr/local/lib/python3.11/dist-packages (from cloudpathlib[s3]>=0.12.1->eoreader->geospatial) (0.20.0)\n",
            "Requirement already satisfied: validators in /usr/local/lib/python3.11/dist-packages (from eoreader->geospatial) (0.34.0)\n",
            "Requirement already satisfied: methodtools in /usr/local/lib/python3.11/dist-packages (from eoreader->geospatial) (0.4.7)\n",
            "Requirement already satisfied: dicttoxml in /usr/local/lib/python3.11/dist-packages (from eoreader->geospatial) (1.7.16)\n",
            "Requirement already satisfied: seaborn in /usr/local/lib/python3.11/dist-packages (from spyndex->geospatial) (0.13.2)\n",
            "Requirement already satisfied: greenlet!=0.4.17 in /usr/local/lib/python3.11/dist-packages (from sqlalchemy->geospatial) (3.1.1)\n",
            "Requirement already satisfied: appdirs in /usr/local/lib/python3.11/dist-packages (from geocube->geospatial) (1.4.4)\n",
            "Requirement already satisfied: tifffile!=2022.4.28,>=2021.7.4 in /usr/local/lib/python3.11/dist-packages (from geotiff->geospatial) (2025.1.10)\n",
            "Collecting ipywidgets<9,>=7.6.0 (from ipyleaflet->geospatial)\n",
            "  Using cached ipywidgets-8.1.5-py3-none-any.whl.metadata (2.3 kB)\n",
            "Requirement already satisfied: traitlets>=4.3.2 in /usr/local/lib/python3.11/dist-packages (from keplergl->geospatial) (5.7.1)\n",
            "Requirement already satisfied: jupyter_packaging>=0.12.3 in /usr/local/lib/python3.11/dist-packages (from keplergl->geospatial) (0.12.3)\n",
            "Requirement already satisfied: jupyter>=1.0.0 in /usr/local/lib/python3.11/dist-packages (from keplergl->geospatial) (1.1.1)\n",
            "Requirement already satisfied: jupyterlab>=4.1.6 in /usr/local/lib/python3.11/dist-packages (from keplergl->geospatial) (4.3.5)\n",
            "Requirement already satisfied: notebook>=6.0.1 in /usr/local/lib/python3.11/dist-packages (from keplergl->geospatial) (6.5.5)\n",
            "Requirement already satisfied: pyarrow>=16.0.0 in /usr/local/lib/python3.11/dist-packages (from keplergl->geospatial) (17.0.0)\n",
            "Requirement already satisfied: geoarrow-pyarrow>=0.1.2 in /usr/local/lib/python3.11/dist-packages (from keplergl->geospatial) (0.1.2)\n",
            "Requirement already satisfied: geoarrow-pandas>=0.1.1 in /usr/local/lib/python3.11/dist-packages (from keplergl->geospatial) (0.1.1)\n",
            "Requirement already satisfied: arro3-compute>=0.4.1 in /usr/local/lib/python3.11/dist-packages (from lonboard->geospatial) (0.4.5)\n",
            "Requirement already satisfied: arro3-core>=0.4.1 in /usr/local/lib/python3.11/dist-packages (from lonboard->geospatial) (0.4.5)\n",
            "Requirement already satisfied: arro3-io>=0.4.1 in /usr/local/lib/python3.11/dist-packages (from lonboard->geospatial) (0.4.5)\n",
            "Requirement already satisfied: chroma-py in /usr/local/lib/python3.11/dist-packages (from mapboxgl->geospatial) (0.1.0.dev1)\n",
            "Requirement already satisfied: htmltools>=0.5.1 in /usr/local/lib/python3.11/dist-packages (from maplibre->geospatial) (0.6.0)\n",
            "Requirement already satisfied: shiny>=0.7.0 in /usr/local/lib/python3.11/dist-packages (from maplibre->geospatial) (1.2.1)\n",
            "Requirement already satisfied: cftime in /usr/local/lib/python3.11/dist-packages (from netcdf4->geospatial) (1.6.4.post1)\n",
            "Requirement already satisfied: tenacity>=6.2.0 in /usr/local/lib/python3.11/dist-packages (from plotly->geospatial) (9.0.0)\n",
            "Requirement already satisfied: platformdirs>=2.0.2 in /usr/local/lib/python3.11/dist-packages (from pysal->geospatial) (4.3.6)\n",
            "Requirement already satisfied: access>=1.1.9 in /usr/local/lib/python3.11/dist-packages (from pysal->geospatial) (1.1.9)\n",
            "Requirement already satisfied: esda>=2.6.0 in /usr/local/lib/python3.11/dist-packages (from pysal->geospatial) (2.6.0)\n",
            "Requirement already satisfied: giddy>=2.3.5 in /usr/local/lib/python3.11/dist-packages (from pysal->geospatial) (2.3.6)\n",
            "Requirement already satisfied: inequality>=1.0.1 in /usr/local/lib/python3.11/dist-packages (from pysal->geospatial) (1.1.1)\n",
            "Requirement already satisfied: pointpats>=2.5.0 in /usr/local/lib/python3.11/dist-packages (from pysal->geospatial) (2.5.1)\n",
            "Requirement already satisfied: segregation>=2.5 in /usr/local/lib/python3.11/dist-packages (from pysal->geospatial) (2.5.1)\n",
            "Requirement already satisfied: spaghetti>=1.7.6 in /usr/local/lib/python3.11/dist-packages (from pysal->geospatial) (1.7.6)\n",
            "Requirement already satisfied: mgwr>=2.2.1 in /usr/local/lib/python3.11/dist-packages (from pysal->geospatial) (2.2.1)\n",
            "Requirement already satisfied: momepy>=0.7.2 in /usr/local/lib/python3.11/dist-packages (from pysal->geospatial) (0.9.1)\n",
            "Requirement already satisfied: spglm>=1.1.0 in /usr/local/lib/python3.11/dist-packages (from pysal->geospatial) (1.1.0)\n",
            "Requirement already satisfied: spint>=1.0.7 in /usr/local/lib/python3.11/dist-packages (from pysal->geospatial) (1.0.7)\n",
            "Requirement already satisfied: spreg>=1.5.0 in /usr/local/lib/python3.11/dist-packages (from pysal->geospatial) (1.8.1)\n",
            "Requirement already satisfied: spvcm>=0.3.0 in /usr/local/lib/python3.11/dist-packages (from pysal->geospatial) (0.3.0)\n",
            "Requirement already satisfied: tobler>=0.11.2 in /usr/local/lib/python3.11/dist-packages (from pysal->geospatial) (0.12.1)\n",
            "Requirement already satisfied: splot>=1.1.5.post1 in /usr/local/lib/python3.11/dist-packages (from pysal->geospatial) (1.1.7)\n",
            "Requirement already satisfied: spopt>=0.6.1 in /usr/local/lib/python3.11/dist-packages (from pysal->geospatial) (0.6.1)\n",
            "Requirement already satisfied: simplejson in /usr/local/lib/python3.11/dist-packages (from rasterstats->geospatial) (3.19.3)\n",
            "Requirement already satisfied: morecantile<7.0,>=5.0 in /usr/local/lib/python3.11/dist-packages (from rio-cogeo->geospatial) (6.2.0)\n",
            "Requirement already satisfied: lightgbm>=2.0.11 in /usr/local/lib/python3.11/dist-packages (from s2cloudless->geospatial) (4.5.0)\n",
            "Requirement already satisfied: opencv-python-headless in /usr/local/lib/python3.11/dist-packages (from s2cloudless->geospatial) (4.11.0.86)\n",
            "Requirement already satisfied: sentinelhub>=3.9.0 in /usr/local/lib/python3.11/dist-packages (from s2cloudless->geospatial) (3.11.1)\n",
            "Requirement already satisfied: donfig in /usr/local/lib/python3.11/dist-packages (from satpy->geospatial) (0.8.1.post1)\n",
            "Requirement already satisfied: pooch in /usr/local/lib/python3.11/dist-packages (from satpy->geospatial) (1.8.2)\n",
            "Requirement already satisfied: pykdtree in /usr/local/lib/python3.11/dist-packages (from satpy->geospatial) (1.4.1)\n",
            "Requirement already satisfied: pyorbital in /usr/local/lib/python3.11/dist-packages (from satpy->geospatial) (1.9.2)\n",
            "Requirement already satisfied: trollimage>=1.24 in /usr/local/lib/python3.11/dist-packages (from satpy->geospatial) (1.26.0)\n",
            "Requirement already satisfied: trollsift in /usr/local/lib/python3.11/dist-packages (from satpy->geospatial) (0.5.3)\n",
            "Requirement already satisfied: html2text in /usr/local/lib/python3.11/dist-packages (from sentinelsat->geospatial) (2024.2.26)\n",
            "Requirement already satisfied: geomet in /usr/local/lib/python3.11/dist-packages (from sentinelsat->geospatial) (1.1.0)\n",
            "Requirement already satisfied: requests-futures>=0.9.5 in /usr/local/lib/python3.11/dist-packages (from usgs->geospatial) (1.0.2)\n",
            "Requirement already satisfied: psygnal>=0.8.1 in /usr/local/lib/python3.11/dist-packages (from anywidget->leafmap>=0.38.0->geospatial) (0.11.1)\n",
            "Requirement already satisfied: soupsieve>1.2 in /usr/local/lib/python3.11/dist-packages (from beautifulsoup4->eemont->geospatial) (2.6)\n",
            "Requirement already satisfied: boto3>=1.34.0 in /usr/local/lib/python3.11/dist-packages (from cloudpathlib[s3]>=0.12.1->eoreader->geospatial) (1.36.3)\n",
            "Requirement already satisfied: cloudpickle>=3.0.0 in /usr/local/lib/python3.11/dist-packages (from dask>=2023.7.0->cubo->geospatial) (3.1.1)\n",
            "Requirement already satisfied: partd>=1.4.0 in /usr/local/lib/python3.11/dist-packages (from dask>=2023.7.0->cubo->geospatial) (1.4.2)\n",
            "Requirement already satisfied: importlib_metadata>=4.13.0 in /usr/local/lib/python3.11/dist-packages (from dask>=2023.7.0->cubo->geospatial) (8.6.1)\n",
            "Requirement already satisfied: itsdangerous>=2.2 in /usr/local/lib/python3.11/dist-packages (from flask<4,>=2.0.0->localtileserver->geospatial) (2.2.0)\n",
            "Requirement already satisfied: blinker>=1.9 in /usr/local/lib/python3.11/dist-packages (from flask<4,>=2.0.0->localtileserver->geospatial) (1.9.0)\n",
            "Requirement already satisfied: aniso8601>=0.82 in /usr/local/lib/python3.11/dist-packages (from flask-restx>=1.3.0->localtileserver->geospatial) (10.0.0)\n",
            "Requirement already satisfied: jsonschema in /usr/local/lib/python3.11/dist-packages (from flask-restx>=1.3.0->localtileserver->geospatial) (4.23.0)\n",
            "Requirement already satisfied: tabulate>=0.8 in /usr/local/lib/python3.11/dist-packages (from geedim>=1.6.1->pygis>=0.7.0->geospatial) (0.9.0)\n",
            "Requirement already satisfied: geoarrow-c in /usr/local/lib/python3.11/dist-packages (from geoarrow-pyarrow>=0.1.2->keplergl->geospatial) (0.1.2)\n",
            "Requirement already satisfied: pyarrow-hotfix in /usr/local/lib/python3.11/dist-packages (from geoarrow-pyarrow>=0.1.2->keplergl->geospatial) (0.6)\n",
            "Requirement already satisfied: quantecon>=0.7 in /usr/local/lib/python3.11/dist-packages (from giddy>=2.3.5->pysal->geospatial) (0.7.2)\n",
            "Requirement already satisfied: google-api-core!=2.0.*,!=2.1.*,!=2.2.*,!=2.3.0,<3.0.0.dev0,>=1.31.5 in /usr/local/lib/python3.11/dist-packages (from google-api-python-client>=1.12.1->earthengine-api->geospatial) (2.19.2)\n",
            "Requirement already satisfied: uritemplate<5,>=3.0.1 in /usr/local/lib/python3.11/dist-packages (from google-api-python-client>=1.12.1->earthengine-api->geospatial) (4.1.1)\n",
            "Requirement already satisfied: cachetools<6.0,>=2.0.0 in /usr/local/lib/python3.11/dist-packages (from google-auth>=1.4.1->earthengine-api->geospatial) (5.5.1)\n",
            "Requirement already satisfied: pyasn1-modules>=0.2.1 in /usr/local/lib/python3.11/dist-packages (from google-auth>=1.4.1->earthengine-api->geospatial) (0.4.1)\n",
            "Requirement already satisfied: rsa<5,>=3.1.4 in /usr/local/lib/python3.11/dist-packages (from google-auth>=1.4.1->earthengine-api->geospatial) (4.9)\n",
            "Requirement already satisfied: comm>=0.1.3 in /usr/local/lib/python3.11/dist-packages (from ipywidgets<9,>=7.6.0->ipyleaflet->geospatial) (0.2.2)\n",
            "Requirement already satisfied: ipython>=6.1.0 in /usr/local/lib/python3.11/dist-packages (from ipywidgets<9,>=7.6.0->ipyleaflet->geospatial) (7.34.0)\n",
            "Collecting widgetsnbextension~=4.0.12 (from ipywidgets<9,>=7.6.0->ipyleaflet->geospatial)\n",
            "  Using cached widgetsnbextension-4.0.13-py3-none-any.whl.metadata (1.6 kB)\n",
            "Collecting jupyterlab-widgets~=3.0.12 (from ipywidgets<9,>=7.6.0->ipyleaflet->geospatial)\n",
            "  Using cached jupyterlab_widgets-3.0.13-py3-none-any.whl.metadata (4.1 kB)\n",
            "Requirement already satisfied: MarkupSafe>=2.0 in /usr/local/lib/python3.11/dist-packages (from Jinja2>=2.9->bokeh->geospatial) (3.0.2)\n",
            "Requirement already satisfied: jupyter-console in /usr/local/lib/python3.11/dist-packages (from jupyter>=1.0.0->keplergl->geospatial) (6.1.0)\n",
            "Requirement already satisfied: nbconvert in /usr/local/lib/python3.11/dist-packages (from jupyter>=1.0.0->keplergl->geospatial) (7.16.5)\n",
            "Requirement already satisfied: ipykernel in /usr/local/lib/python3.11/dist-packages (from jupyter>=1.0.0->keplergl->geospatial) (6.29.5)\n",
            "Requirement already satisfied: deprecation in /usr/local/lib/python3.11/dist-packages (from jupyter_packaging>=0.12.3->keplergl->geospatial) (2.1.0)\n",
            "Requirement already satisfied: setuptools>=60.2.0 in /usr/local/lib/python3.11/dist-packages (from jupyter_packaging>=0.12.3->keplergl->geospatial) (75.1.0)\n",
            "Requirement already satisfied: tomlkit in /usr/local/lib/python3.11/dist-packages (from jupyter_packaging>=0.12.3->keplergl->geospatial) (0.13.2)\n",
            "Requirement already satisfied: wheel in /usr/local/lib/python3.11/dist-packages (from jupyter_packaging>=0.12.3->keplergl->geospatial) (0.45.1)\n",
            "Requirement already satisfied: async-lru>=1.0.0 in /usr/local/lib/python3.11/dist-packages (from jupyterlab>=4.1.6->keplergl->geospatial) (2.0.4)\n",
            "Requirement already satisfied: httpx>=0.25.0 in /usr/local/lib/python3.11/dist-packages (from jupyterlab>=4.1.6->keplergl->geospatial) (0.28.1)\n",
            "Requirement already satisfied: jupyter-core in /usr/local/lib/python3.11/dist-packages (from jupyterlab>=4.1.6->keplergl->geospatial) (5.7.2)\n",
            "Requirement already satisfied: jupyter-lsp>=2.0.0 in /usr/local/lib/python3.11/dist-packages (from jupyterlab>=4.1.6->keplergl->geospatial) (2.2.5)\n",
            "Requirement already satisfied: jupyter-server<3,>=2.4.0 in /usr/local/lib/python3.11/dist-packages (from jupyterlab>=4.1.6->keplergl->geospatial) (2.15.0)\n",
            "Requirement already satisfied: jupyterlab-server<3,>=2.27.1 in /usr/local/lib/python3.11/dist-packages (from jupyterlab>=4.1.6->keplergl->geospatial) (2.27.3)\n",
            "Requirement already satisfied: notebook-shim>=0.2 in /usr/local/lib/python3.11/dist-packages (from jupyterlab>=4.1.6->keplergl->geospatial) (0.2.4)\n",
            "Requirement already satisfied: cycler>=0.10 in /usr/local/lib/python3.11/dist-packages (from matplotlib>=3.6->cartopy>=0.18.0->geoviews) (0.12.1)\n",
            "Requirement already satisfied: fonttools>=4.22.0 in /usr/local/lib/python3.11/dist-packages (from matplotlib>=3.6->cartopy>=0.18.0->geoviews) (4.55.6)\n",
            "Requirement already satisfied: kiwisolver>=1.3.1 in /usr/local/lib/python3.11/dist-packages (from matplotlib>=3.6->cartopy>=0.18.0->geoviews) (1.4.8)\n",
            "Requirement already satisfied: pyzmq<25,>=17 in /usr/local/lib/python3.11/dist-packages (from notebook>=6.0.1->keplergl->geospatial) (24.0.1)\n",
            "Requirement already satisfied: argon2-cffi in /usr/local/lib/python3.11/dist-packages (from notebook>=6.0.1->keplergl->geospatial) (23.1.0)\n",
            "Requirement already satisfied: jupyter-client<8,>=5.3.4 in /usr/local/lib/python3.11/dist-packages (from notebook>=6.0.1->keplergl->geospatial) (7.4.9)\n",
            "Requirement already satisfied: ipython-genutils in /usr/local/lib/python3.11/dist-packages (from notebook>=6.0.1->keplergl->geospatial) (0.2.0)\n",
            "Requirement already satisfied: nbformat in /usr/local/lib/python3.11/dist-packages (from notebook>=6.0.1->keplergl->geospatial) (5.10.4)\n",
            "Requirement already satisfied: nest-asyncio>=1.5 in /usr/local/lib/python3.11/dist-packages (from notebook>=6.0.1->keplergl->geospatial) (1.6.0)\n",
            "Requirement already satisfied: Send2Trash>=1.8.0 in /usr/local/lib/python3.11/dist-packages (from notebook>=6.0.1->keplergl->geospatial) (1.8.3)\n",
            "Requirement already satisfied: terminado>=0.8.3 in /usr/local/lib/python3.11/dist-packages (from notebook>=6.0.1->keplergl->geospatial) (0.18.1)\n",
            "Requirement already satisfied: prometheus-client in /usr/local/lib/python3.11/dist-packages (from notebook>=6.0.1->keplergl->geospatial) (0.21.1)\n",
            "Requirement already satisfied: nbclassic>=0.4.7 in /usr/local/lib/python3.11/dist-packages (from notebook>=6.0.1->keplergl->geospatial) (1.2.0)\n",
            "Requirement already satisfied: tzdata>=2022.7 in /usr/local/lib/python3.11/dist-packages (from pandas>=1.2->bokeh->geospatial) (2025.1)\n",
            "Requirement already satisfied: bounded-pool-executor in /usr/local/lib/python3.11/dist-packages (from pqdm>=0.1->earthaccess->geospatial) (0.0.3)\n",
            "Requirement already satisfied: annotated-types>=0.6.0 in /usr/local/lib/python3.11/dist-packages (from pydantic>=1.7.3->planetary-computer->geospatial) (0.7.0)\n",
            "Requirement already satisfied: pydantic-core==2.27.2 in /usr/local/lib/python3.11/dist-packages (from pydantic>=1.7.3->planetary-computer->geospatial) (2.27.2)\n",
            "Requirement already satisfied: configobj in /usr/local/lib/python3.11/dist-packages (from pyresample->eoreader->geospatial) (5.0.9)\n",
            "Requirement already satisfied: charset-normalizer<4,>=2 in /usr/local/lib/python3.11/dist-packages (from requests->earthengine-api->geospatial) (3.4.1)\n",
            "Requirement already satisfied: idna<4,>=2.5 in /usr/local/lib/python3.11/dist-packages (from requests->earthengine-api->geospatial) (3.10)\n",
            "Requirement already satisfied: urllib3<3,>=1.21.1 in /usr/local/lib/python3.11/dist-packages (from requests->earthengine-api->geospatial) (2.3.0)\n",
            "Requirement already satisfied: aiobotocore<3.0.0,>=2.5.4 in /usr/local/lib/python3.11/dist-packages (from s3fs>=2022.11->earthaccess->geospatial) (2.19.0)\n",
            "Requirement already satisfied: aiohttp!=4.0.0a0,!=4.0.0a1 in /usr/local/lib/python3.11/dist-packages (from s3fs>=2022.11->earthaccess->geospatial) (3.11.11)\n",
            "Requirement already satisfied: threadpoolctl>=3.1.0 in /usr/local/lib/python3.11/dist-packages (from scikit-learn>=1.0->mapclassify->geospatial) (3.5.0)\n",
            "Requirement already satisfied: aenum>=2.1.4 in /usr/local/lib/python3.11/dist-packages (from sentinelhub>=3.9.0->s2cloudless->geospatial) (3.1.15)\n",
            "Requirement already satisfied: dataclasses-json in /usr/local/lib/python3.11/dist-packages (from sentinelhub>=3.9.0->s2cloudless->geospatial) (0.6.7)\n",
            "Requirement already satisfied: oauthlib in /usr/local/lib/python3.11/dist-packages (from sentinelhub>=3.9.0->s2cloudless->geospatial) (3.2.2)\n",
            "Requirement already satisfied: requests-oauthlib>=1.0.0 in /usr/local/lib/python3.11/dist-packages (from sentinelhub>=3.9.0->s2cloudless->geospatial) (1.3.1)\n",
            "Requirement already satisfied: tomli in /usr/local/lib/python3.11/dist-packages (from sentinelhub>=3.9.0->s2cloudless->geospatial) (2.2.1)\n",
            "Requirement already satisfied: tomli-w in /usr/local/lib/python3.11/dist-packages (from sentinelhub>=3.9.0->s2cloudless->geospatial) (1.2.0)\n",
            "Requirement already satisfied: utm in /usr/local/lib/python3.11/dist-packages (from sentinelhub>=3.9.0->s2cloudless->geospatial) (0.8.0)\n",
            "Requirement already satisfied: dill in /usr/local/lib/python3.11/dist-packages (from sertit>=1.44.1->sertit[full]>=1.44.1->eoreader->geospatial) (0.3.9)\n",
            "Requirement already satisfied: starlette in /usr/local/lib/python3.11/dist-packages (from shiny>=0.7.0->maplibre->geospatial) (0.45.3)\n",
            "Requirement already satisfied: websockets>=13.0 in /usr/local/lib/python3.11/dist-packages (from shiny>=0.7.0->maplibre->geospatial) (14.2)\n",
            "Requirement already satisfied: python-multipart in /usr/local/lib/python3.11/dist-packages (from shiny>=0.7.0->maplibre->geospatial) (0.0.20)\n",
            "Requirement already satisfied: asgiref>=3.5.2 in /usr/local/lib/python3.11/dist-packages (from shiny>=0.7.0->maplibre->geospatial) (3.8.1)\n",
            "Requirement already satisfied: narwhals>=1.10.0 in /usr/local/lib/python3.11/dist-packages (from shiny>=0.7.0->maplibre->geospatial) (1.24.0)\n",
            "Requirement already satisfied: orjson>=3.10.7 in /usr/local/lib/python3.11/dist-packages (from shiny>=0.7.0->maplibre->geospatial) (3.10.15)\n",
            "Requirement already satisfied: uvicorn>=0.16.0 in /usr/local/lib/python3.11/dist-packages (from shiny>=0.7.0->maplibre->geospatial) (0.34.0)\n",
            "Requirement already satisfied: watchfiles>=0.18.0 in /usr/local/lib/python3.11/dist-packages (from shiny>=0.7.0->maplibre->geospatial) (1.0.4)\n",
            "Requirement already satisfied: questionary>=2.0.0 in /usr/local/lib/python3.11/dist-packages (from shiny>=0.7.0->maplibre->geospatial) (2.1.0)\n",
            "Requirement already satisfied: prompt-toolkit in /usr/local/lib/python3.11/dist-packages (from shiny>=0.7.0->maplibre->geospatial) (3.0.50)\n",
            "Requirement already satisfied: uc-micro-py in /usr/local/lib/python3.11/dist-packages (from linkify-it-py->panel->geospatial) (1.0.3)\n",
            "Requirement already satisfied: mdurl~=0.1 in /usr/local/lib/python3.11/dist-packages (from markdown-it-py->panel->geospatial) (0.1.2)\n",
            "Requirement already satisfied: pulp>=2.7 in /usr/local/lib/python3.11/dist-packages (from spopt>=0.6.1->pysal->geospatial) (2.9.0)\n",
            "Requirement already satisfied: statsmodels in /usr/local/lib/python3.11/dist-packages (from tobler>=0.11.2->pysal->geospatial) (0.14.4)\n",
            "Requirement already satisfied: asciitree in /usr/local/lib/python3.11/dist-packages (from zarr->eoreader->geospatial) (0.3.3)\n",
            "Requirement already satisfied: fasteners in /usr/local/lib/python3.11/dist-packages (from zarr->eoreader->geospatial) (0.19)\n",
            "Requirement already satisfied: numcodecs>=0.6.4 in /usr/local/lib/python3.11/dist-packages (from zarr->eoreader->geospatial) (0.15.0)\n",
            "Requirement already satisfied: webencodings in /usr/local/lib/python3.11/dist-packages (from bleach->panel->geospatial) (0.5.1)\n",
            "Requirement already satisfied: future in /usr/local/lib/python3.11/dist-packages (from ffmpeg-python->pygis>=0.7.0->geospatial) (1.0.0)\n",
            "Requirement already satisfied: cachelib<0.10.0,>=0.9.0 in /usr/local/lib/python3.11/dist-packages (from Flask-Caching->localtileserver->geospatial) (0.9.0)\n",
            "Requirement already satisfied: filelock in /usr/local/lib/python3.11/dist-packages (from gdown->leafmap>=0.38.0->geospatial) (3.17.0)\n",
            "Requirement already satisfied: logzero>=1.5.0 in /usr/local/lib/python3.11/dist-packages (from geeadd->pygis>=0.7.0->geospatial) (1.7.0)\n",
            "Requirement already satisfied: jsbeautifier>=1.15.1 in /usr/local/lib/python3.11/dist-packages (from geeadd->pygis>=0.7.0->geospatial) (1.15.1)\n",
            "Requirement already satisfied: ratelim in /usr/local/lib/python3.11/dist-packages (from geocoder->geemap>=0.34.3->geospatial) (0.1.6)\n",
            "Requirement already satisfied: geographiclib<3,>=1.52 in /usr/local/lib/python3.11/dist-packages (from geopy->contextily->geospatial) (2.0)\n",
            "Requirement already satisfied: google-cloud-core<3.0dev,>=2.3.0 in /usr/local/lib/python3.11/dist-packages (from google-cloud-storage->earthengine-api->geospatial) (2.4.1)\n",
            "Requirement already satisfied: google-resumable-media>=2.7.2 in /usr/local/lib/python3.11/dist-packages (from google-cloud-storage->earthengine-api->geospatial) (2.7.2)\n",
            "Requirement already satisfied: google-crc32c<2.0dev,>=1.0 in /usr/local/lib/python3.11/dist-packages (from google-cloud-storage->earthengine-api->geospatial) (1.6.0)\n",
            "Requirement already satisfied: h5py in /usr/local/lib/python3.11/dist-packages (from h5netcdf->eoreader->geospatial) (3.12.1)\n",
            "Requirement already satisfied: ipyvue<2,>=1.7 in /usr/local/lib/python3.11/dist-packages (from ipyvuetify->leafmap>=0.38.0->geospatial) (1.11.2)\n",
            "Requirement already satisfied: wirerope>=0.4.7 in /usr/local/lib/python3.11/dist-packages (from methodtools->eoreader->geospatial) (1.0.0)\n",
            "Requirement already satisfied: llvmlite<0.44,>=0.43.0dev0 in /usr/local/lib/python3.11/dist-packages (from numba->datashader->geospatial) (0.43.0)\n",
            "Requirement already satisfied: defusedxml in /usr/local/lib/python3.11/dist-packages (from pyorbital->satpy->geospatial) (0.7.1)\n",
            "Requirement already satisfied: decorator>=3.4.2 in /usr/local/lib/python3.11/dist-packages (from retry->pygis>=0.7.0->geospatial) (4.4.2)\n",
            "Requirement already satisfied: py<2.0.0,>=1.4.26 in /usr/local/lib/python3.11/dist-packages (from retry->pygis>=0.7.0->geospatial) (1.11.0)\n",
            "Requirement already satisfied: color-operations in /usr/local/lib/python3.11/dist-packages (from rio-tiler->localtileserver->geospatial) (0.1.6)\n",
            "Requirement already satisfied: numexpr in /usr/local/lib/python3.11/dist-packages (from rio-tiler->localtileserver->geospatial) (2.10.2)\n",
            "Requirement already satisfied: imageio!=2.35.0,>=2.33 in /usr/local/lib/python3.11/dist-packages (from scikit-image->earthpy->geospatial) (2.36.1)\n",
            "Requirement already satisfied: lazy-loader>=0.4 in /usr/local/lib/python3.11/dist-packages (from scikit-image->earthpy->geospatial) (0.4)\n",
            "Requirement already satisfied: aioitertools<1.0.0,>=0.5.1 in /usr/local/lib/python3.11/dist-packages (from aiobotocore<3.0.0,>=2.5.4->s3fs>=2022.11->earthaccess->geospatial) (0.12.0)\n",
            "Requirement already satisfied: botocore<1.36.4,>=1.36.0 in /usr/local/lib/python3.11/dist-packages (from aiobotocore<3.0.0,>=2.5.4->s3fs>=2022.11->earthaccess->geospatial) (1.36.3)\n",
            "Requirement already satisfied: jmespath<2.0.0,>=0.7.1 in /usr/local/lib/python3.11/dist-packages (from aiobotocore<3.0.0,>=2.5.4->s3fs>=2022.11->earthaccess->geospatial) (1.0.1)\n",
            "Requirement already satisfied: multidict<7.0.0,>=6.0.0 in /usr/local/lib/python3.11/dist-packages (from aiobotocore<3.0.0,>=2.5.4->s3fs>=2022.11->earthaccess->geospatial) (6.1.0)\n",
            "Requirement already satisfied: wrapt<2.0.0,>=1.10.10 in /usr/local/lib/python3.11/dist-packages (from aiobotocore<3.0.0,>=2.5.4->s3fs>=2022.11->earthaccess->geospatial) (1.17.2)\n",
            "Requirement already satisfied: aiohappyeyeballs>=2.3.0 in /usr/local/lib/python3.11/dist-packages (from aiohttp!=4.0.0a0,!=4.0.0a1->s3fs>=2022.11->earthaccess->geospatial) (2.4.4)\n",
            "Requirement already satisfied: aiosignal>=1.1.2 in /usr/local/lib/python3.11/dist-packages (from aiohttp!=4.0.0a0,!=4.0.0a1->s3fs>=2022.11->earthaccess->geospatial) (1.3.2)\n",
            "Requirement already satisfied: frozenlist>=1.1.1 in /usr/local/lib/python3.11/dist-packages (from aiohttp!=4.0.0a0,!=4.0.0a1->s3fs>=2022.11->earthaccess->geospatial) (1.5.0)\n",
            "Requirement already satisfied: propcache>=0.2.0 in /usr/local/lib/python3.11/dist-packages (from aiohttp!=4.0.0a0,!=4.0.0a1->s3fs>=2022.11->earthaccess->geospatial) (0.2.1)\n",
            "Requirement already satisfied: yarl<2.0,>=1.17.0 in /usr/local/lib/python3.11/dist-packages (from aiohttp!=4.0.0a0,!=4.0.0a1->s3fs>=2022.11->earthaccess->geospatial) (1.18.3)\n",
            "Requirement already satisfied: s3transfer<0.12.0,>=0.11.0 in /usr/local/lib/python3.11/dist-packages (from boto3>=1.34.0->cloudpathlib[s3]>=0.12.1->eoreader->geospatial) (0.11.2)\n",
            "Requirement already satisfied: googleapis-common-protos<2.0.dev0,>=1.56.2 in /usr/local/lib/python3.11/dist-packages (from google-api-core!=2.0.*,!=2.1.*,!=2.2.*,!=2.3.0,<3.0.0.dev0,>=1.31.5->google-api-python-client>=1.12.1->earthengine-api->geospatial) (1.66.0)\n",
            "Requirement already satisfied: protobuf!=3.20.0,!=3.20.1,!=4.21.0,!=4.21.1,!=4.21.2,!=4.21.3,!=4.21.4,!=4.21.5,<6.0.0.dev0,>=3.19.5 in /usr/local/lib/python3.11/dist-packages (from google-api-core!=2.0.*,!=2.1.*,!=2.2.*,!=2.3.0,<3.0.0.dev0,>=1.31.5->google-api-python-client>=1.12.1->earthengine-api->geospatial) (4.25.6)\n",
            "Requirement already satisfied: proto-plus<2.0.0dev,>=1.22.3 in /usr/local/lib/python3.11/dist-packages (from google-api-core!=2.0.*,!=2.1.*,!=2.2.*,!=2.3.0,<3.0.0.dev0,>=1.31.5->google-api-python-client>=1.12.1->earthengine-api->geospatial) (1.25.0)\n",
            "Requirement already satisfied: anyio in /usr/local/lib/python3.11/dist-packages (from httpx>=0.25.0->jupyterlab>=4.1.6->keplergl->geospatial) (3.7.1)\n",
            "Requirement already satisfied: httpcore==1.* in /usr/local/lib/python3.11/dist-packages (from httpx>=0.25.0->jupyterlab>=4.1.6->keplergl->geospatial) (1.0.7)\n",
            "Requirement already satisfied: h11<0.15,>=0.13 in /usr/local/lib/python3.11/dist-packages (from httpcore==1.*->httpx>=0.25.0->jupyterlab>=4.1.6->keplergl->geospatial) (0.14.0)\n",
            "Requirement already satisfied: zipp>=3.20 in /usr/local/lib/python3.11/dist-packages (from importlib_metadata>=4.13.0->dask>=2023.7.0->cubo->geospatial) (3.21.0)\n",
            "Requirement already satisfied: debugpy>=1.6.5 in /usr/local/lib/python3.11/dist-packages (from ipykernel->jupyter>=1.0.0->keplergl->geospatial) (1.8.0)\n",
            "Requirement already satisfied: matplotlib-inline>=0.1 in /usr/local/lib/python3.11/dist-packages (from ipykernel->jupyter>=1.0.0->keplergl->geospatial) (0.1.7)\n",
            "Requirement already satisfied: jedi>=0.16 in /usr/local/lib/python3.11/dist-packages (from ipython>=6.1.0->ipywidgets<9,>=7.6.0->ipyleaflet->geospatial) (0.19.2)\n",
            "Requirement already satisfied: pickleshare in /usr/local/lib/python3.11/dist-packages (from ipython>=6.1.0->ipywidgets<9,>=7.6.0->ipyleaflet->geospatial) (0.7.5)\n",
            "Requirement already satisfied: pygments in /usr/local/lib/python3.11/dist-packages (from ipython>=6.1.0->ipywidgets<9,>=7.6.0->ipyleaflet->geospatial) (2.18.0)\n",
            "Requirement already satisfied: backcall in /usr/local/lib/python3.11/dist-packages (from ipython>=6.1.0->ipywidgets<9,>=7.6.0->ipyleaflet->geospatial) (0.2.0)\n",
            "Requirement already satisfied: pexpect>4.3 in /usr/local/lib/python3.11/dist-packages (from ipython>=6.1.0->ipywidgets<9,>=7.6.0->ipyleaflet->geospatial) (4.9.0)\n",
            "Requirement already satisfied: editorconfig>=0.12.2 in /usr/local/lib/python3.11/dist-packages (from jsbeautifier>=1.15.1->geeadd->pygis>=0.7.0->geospatial) (0.17.0)\n",
            "Requirement already satisfied: jsonschema-specifications>=2023.03.6 in /usr/local/lib/python3.11/dist-packages (from jsonschema->flask-restx>=1.3.0->localtileserver->geospatial) (2024.10.1)\n",
            "Requirement already satisfied: referencing>=0.28.4 in /usr/local/lib/python3.11/dist-packages (from jsonschema->flask-restx>=1.3.0->localtileserver->geospatial) (0.36.2)\n",
            "Requirement already satisfied: rpds-py>=0.7.1 in /usr/local/lib/python3.11/dist-packages (from jsonschema->flask-restx>=1.3.0->localtileserver->geospatial) (0.22.3)\n",
            "Requirement already satisfied: entrypoints in /usr/local/lib/python3.11/dist-packages (from jupyter-client<8,>=5.3.4->notebook>=6.0.1->keplergl->geospatial) (0.4)\n",
            "Requirement already satisfied: jupyter-events>=0.11.0 in /usr/local/lib/python3.11/dist-packages (from jupyter-server<3,>=2.4.0->jupyterlab>=4.1.6->keplergl->geospatial) (0.11.0)\n",
            "Requirement already satisfied: jupyter-server-terminals>=0.4.4 in /usr/local/lib/python3.11/dist-packages (from jupyter-server<3,>=2.4.0->jupyterlab>=4.1.6->keplergl->geospatial) (0.5.3)\n",
            "Requirement already satisfied: overrides>=5.0 in /usr/local/lib/python3.11/dist-packages (from jupyter-server<3,>=2.4.0->jupyterlab>=4.1.6->keplergl->geospatial) (7.7.0)\n",
            "Requirement already satisfied: websocket-client>=1.7 in /usr/local/lib/python3.11/dist-packages (from jupyter-server<3,>=2.4.0->jupyterlab>=4.1.6->keplergl->geospatial) (1.8.0)\n",
            "Requirement already satisfied: argon2-cffi-bindings in /usr/local/lib/python3.11/dist-packages (from argon2-cffi->notebook>=6.0.1->keplergl->geospatial) (21.2.0)\n",
            "Requirement already satisfied: babel>=2.10 in /usr/local/lib/python3.11/dist-packages (from jupyterlab-server<3,>=2.27.1->jupyterlab>=4.1.6->keplergl->geospatial) (2.16.0)\n",
            "Requirement already satisfied: json5>=0.9.0 in /usr/local/lib/python3.11/dist-packages (from jupyterlab-server<3,>=2.27.1->jupyterlab>=4.1.6->keplergl->geospatial) (0.10.0)\n",
            "Requirement already satisfied: jupyterlab-pygments in /usr/local/lib/python3.11/dist-packages (from nbconvert->jupyter>=1.0.0->keplergl->geospatial) (0.3.0)\n",
            "Requirement already satisfied: mistune<4,>=2.0.3 in /usr/local/lib/python3.11/dist-packages (from nbconvert->jupyter>=1.0.0->keplergl->geospatial) (3.1.0)\n",
            "Requirement already satisfied: nbclient>=0.5.0 in /usr/local/lib/python3.11/dist-packages (from nbconvert->jupyter>=1.0.0->keplergl->geospatial) (0.10.2)\n",
            "Requirement already satisfied: pandocfilters>=1.4.1 in /usr/local/lib/python3.11/dist-packages (from nbconvert->jupyter>=1.0.0->keplergl->geospatial) (1.5.1)\n",
            "Requirement already satisfied: fastjsonschema>=2.15 in /usr/local/lib/python3.11/dist-packages (from nbformat->notebook>=6.0.1->keplergl->geospatial) (2.21.1)\n",
            "Requirement already satisfied: deprecated in /usr/local/lib/python3.11/dist-packages (from numcodecs>=0.6.4->zarr->eoreader->geospatial) (1.2.18)\n",
            "Requirement already satisfied: locket in /usr/local/lib/python3.11/dist-packages (from partd>=1.4.0->dask>=2023.7.0->cubo->geospatial) (1.0.0)\n",
            "Requirement already satisfied: wcwidth in /usr/local/lib/python3.11/dist-packages (from prompt-toolkit->shiny>=0.7.0->maplibre->geospatial) (0.2.13)\n",
            "Requirement already satisfied: pyasn1<0.7.0,>=0.4.6 in /usr/local/lib/python3.11/dist-packages (from pyasn1-modules>=0.2.1->google-auth>=1.4.1->earthengine-api->geospatial) (0.6.1)\n",
            "Requirement already satisfied: sympy in /usr/local/lib/python3.11/dist-packages (from quantecon>=0.7->giddy>=2.3.5->pysal->geospatial) (1.13.1)\n",
            "Requirement already satisfied: ptyprocess in /usr/local/lib/python3.11/dist-packages (from terminado>=0.8.3->notebook>=6.0.1->keplergl->geospatial) (0.7.0)\n",
            "Requirement already satisfied: lz4>=4.3.2 in /usr/local/lib/python3.11/dist-packages (from dask>=2023.7.0->cubo->geospatial) (4.4.3)\n",
            "Requirement already satisfied: marshmallow<4.0.0,>=3.18.0 in /usr/local/lib/python3.11/dist-packages (from dataclasses-json->sentinelhub>=3.9.0->s2cloudless->geospatial) (3.26.0)\n",
            "Requirement already satisfied: typing-inspect<1,>=0.4.0 in /usr/local/lib/python3.11/dist-packages (from dataclasses-json->sentinelhub>=3.9.0->s2cloudless->geospatial) (0.9.0)\n",
            "Requirement already satisfied: PySocks!=1.5.7,>=1.5.6 in /usr/local/lib/python3.11/dist-packages (from requests[socks]->gdown->leafmap>=0.38.0->geospatial) (1.7.1)\n",
            "Requirement already satisfied: colorlog in /usr/local/lib/python3.11/dist-packages (from sertit>=1.44.1->sertit[full]>=1.44.1->eoreader->geospatial) (6.9.0)\n",
            "Requirement already satisfied: distributed in /usr/local/lib/python3.11/dist-packages (from sertit>=1.44.1->sertit[full]>=1.44.1->eoreader->geospatial) (2025.1.0)\n",
            "Requirement already satisfied: cytoolz in /usr/local/lib/python3.11/dist-packages (from sertit>=1.44.1->sertit[full]>=1.44.1->eoreader->geospatial) (1.0.1)\n",
            "Requirement already satisfied: patsy>=0.5.6 in /usr/local/lib/python3.11/dist-packages (from statsmodels->tobler>=0.11.2->pysal->geospatial) (1.0.1)\n",
            "Requirement already satisfied: sniffio>=1.1 in /usr/local/lib/python3.11/dist-packages (from anyio->httpx>=0.25.0->jupyterlab>=4.1.6->keplergl->geospatial) (1.3.1)\n",
            "Requirement already satisfied: tinycss2<1.5,>=1.1.0 in /usr/local/lib/python3.11/dist-packages (from bleach[css]!=5.0.0->nbconvert->jupyter>=1.0.0->keplergl->geospatial) (1.4.0)\n",
            "Requirement already satisfied: parso<0.9.0,>=0.8.4 in /usr/local/lib/python3.11/dist-packages (from jedi>=0.16->ipython>=6.1.0->ipywidgets<9,>=7.6.0->ipyleaflet->geospatial) (0.8.4)\n",
            "Requirement already satisfied: python-json-logger>=2.0.4 in /usr/local/lib/python3.11/dist-packages (from jupyter-events>=0.11.0->jupyter-server<3,>=2.4.0->jupyterlab>=4.1.6->keplergl->geospatial) (3.2.1)\n",
            "Requirement already satisfied: rfc3339-validator in /usr/local/lib/python3.11/dist-packages (from jupyter-events>=0.11.0->jupyter-server<3,>=2.4.0->jupyterlab>=4.1.6->keplergl->geospatial) (0.1.4)\n",
            "Requirement already satisfied: rfc3986-validator>=0.1.1 in /usr/local/lib/python3.11/dist-packages (from jupyter-events>=0.11.0->jupyter-server<3,>=2.4.0->jupyterlab>=4.1.6->keplergl->geospatial) (0.1.1)\n",
            "Requirement already satisfied: mypy-extensions>=0.3.0 in /usr/local/lib/python3.11/dist-packages (from typing-inspect<1,>=0.4.0->dataclasses-json->sentinelhub>=3.9.0->s2cloudless->geospatial) (1.0.0)\n",
            "Requirement already satisfied: cffi>=1.0.1 in /usr/local/lib/python3.11/dist-packages (from argon2-cffi-bindings->argon2-cffi->notebook>=6.0.1->keplergl->geospatial) (1.17.1)\n",
            "Requirement already satisfied: msgpack>=1.0.2 in /usr/local/lib/python3.11/dist-packages (from distributed->sertit>=1.44.1->sertit[full]>=1.44.1->eoreader->geospatial) (1.1.0)\n",
            "Requirement already satisfied: sortedcontainers>=2.0.5 in /usr/local/lib/python3.11/dist-packages (from distributed->sertit>=1.44.1->sertit[full]>=1.44.1->eoreader->geospatial) (2.4.0)\n",
            "Requirement already satisfied: tblib>=1.6.0 in /usr/local/lib/python3.11/dist-packages (from distributed->sertit>=1.44.1->sertit[full]>=1.44.1->eoreader->geospatial) (3.0.0)\n",
            "Requirement already satisfied: zict>=3.0.0 in /usr/local/lib/python3.11/dist-packages (from distributed->sertit>=1.44.1->sertit[full]>=1.44.1->eoreader->geospatial) (3.0.0)\n",
            "Requirement already satisfied: mpmath<1.4,>=1.1.0 in /usr/local/lib/python3.11/dist-packages (from sympy->quantecon>=0.7->giddy>=2.3.5->pysal->geospatial) (1.3.0)\n",
            "Requirement already satisfied: pycparser in /usr/local/lib/python3.11/dist-packages (from cffi>=1.0.1->argon2-cffi-bindings->argon2-cffi->notebook>=6.0.1->keplergl->geospatial) (2.22)\n",
            "Requirement already satisfied: fqdn in /usr/local/lib/python3.11/dist-packages (from jsonschema[format-nongpl]>=4.18.0->jupyter-events>=0.11.0->jupyter-server<3,>=2.4.0->jupyterlab>=4.1.6->keplergl->geospatial) (1.5.1)\n",
            "Requirement already satisfied: isoduration in /usr/local/lib/python3.11/dist-packages (from jsonschema[format-nongpl]>=4.18.0->jupyter-events>=0.11.0->jupyter-server<3,>=2.4.0->jupyterlab>=4.1.6->keplergl->geospatial) (20.11.0)\n",
            "Requirement already satisfied: jsonpointer>1.13 in /usr/local/lib/python3.11/dist-packages (from jsonschema[format-nongpl]>=4.18.0->jupyter-events>=0.11.0->jupyter-server<3,>=2.4.0->jupyterlab>=4.1.6->keplergl->geospatial) (3.0.0)\n",
            "Requirement already satisfied: uri-template in /usr/local/lib/python3.11/dist-packages (from jsonschema[format-nongpl]>=4.18.0->jupyter-events>=0.11.0->jupyter-server<3,>=2.4.0->jupyterlab>=4.1.6->keplergl->geospatial) (1.3.0)\n",
            "Requirement already satisfied: webcolors>=24.6.0 in /usr/local/lib/python3.11/dist-packages (from jsonschema[format-nongpl]>=4.18.0->jupyter-events>=0.11.0->jupyter-server<3,>=2.4.0->jupyterlab>=4.1.6->keplergl->geospatial) (24.11.1)\n",
            "Requirement already satisfied: arrow>=0.15.0 in /usr/local/lib/python3.11/dist-packages (from isoduration->jsonschema[format-nongpl]>=4.18.0->jupyter-events>=0.11.0->jupyter-server<3,>=2.4.0->jupyterlab>=4.1.6->keplergl->geospatial) (1.3.0)\n",
            "Requirement already satisfied: types-python-dateutil>=2.8.10 in /usr/local/lib/python3.11/dist-packages (from arrow>=0.15.0->isoduration->jsonschema[format-nongpl]>=4.18.0->jupyter-events>=0.11.0->jupyter-server<3,>=2.4.0->jupyterlab>=4.1.6->keplergl->geospatial) (2.9.0.20241206)\n",
            "Using cached ipywidgets-8.1.5-py3-none-any.whl (139 kB)\n",
            "Using cached jupyterlab_widgets-3.0.13-py3-none-any.whl (214 kB)\n",
            "Using cached widgetsnbextension-4.0.13-py3-none-any.whl (2.3 MB)\n",
            "Installing collected packages: widgetsnbextension, jupyterlab-widgets, ipywidgets\n",
            "  Attempting uninstall: widgetsnbextension\n",
            "    Found existing installation: widgetsnbextension 3.6.10\n",
            "    Uninstalling widgetsnbextension-3.6.10:\n",
            "      Successfully uninstalled widgetsnbextension-3.6.10\n",
            "  Attempting uninstall: jupyterlab-widgets\n",
            "    Found existing installation: jupyterlab_widgets 1.1.11\n",
            "    Uninstalling jupyterlab_widgets-1.1.11:\n",
            "      Successfully uninstalled jupyterlab_widgets-1.1.11\n",
            "  Attempting uninstall: ipywidgets\n",
            "    Found existing installation: ipywidgets 7.8.5\n",
            "    Uninstalling ipywidgets-7.8.5:\n",
            "      Successfully uninstalled ipywidgets-7.8.5\n",
            "Successfully installed ipywidgets-8.1.5 jupyterlab-widgets-3.0.13 widgetsnbextension-4.0.13\n",
            "Collecting ipywidgets<8,>=7\n",
            "  Using cached ipywidgets-7.8.5-py2.py3-none-any.whl.metadata (1.9 kB)\n",
            "Requirement already satisfied: comm>=0.1.3 in /usr/local/lib/python3.11/dist-packages (from ipywidgets<8,>=7) (0.2.2)\n",
            "Requirement already satisfied: ipython-genutils~=0.2.0 in /usr/local/lib/python3.11/dist-packages (from ipywidgets<8,>=7) (0.2.0)\n",
            "Requirement already satisfied: traitlets>=4.3.1 in /usr/local/lib/python3.11/dist-packages (from ipywidgets<8,>=7) (5.7.1)\n",
            "Collecting widgetsnbextension~=3.6.10 (from ipywidgets<8,>=7)\n",
            "  Using cached widgetsnbextension-3.6.10-py2.py3-none-any.whl.metadata (1.3 kB)\n",
            "Requirement already satisfied: ipython>=4.0.0 in /usr/local/lib/python3.11/dist-packages (from ipywidgets<8,>=7) (7.34.0)\n",
            "Collecting jupyterlab-widgets<3,>=1.0.0 (from ipywidgets<8,>=7)\n",
            "  Using cached jupyterlab_widgets-1.1.11-py3-none-any.whl.metadata (3.7 kB)\n",
            "Requirement already satisfied: setuptools>=18.5 in /usr/local/lib/python3.11/dist-packages (from ipython>=4.0.0->ipywidgets<8,>=7) (75.1.0)\n",
            "Requirement already satisfied: jedi>=0.16 in /usr/local/lib/python3.11/dist-packages (from ipython>=4.0.0->ipywidgets<8,>=7) (0.19.2)\n",
            "Requirement already satisfied: decorator in /usr/local/lib/python3.11/dist-packages (from ipython>=4.0.0->ipywidgets<8,>=7) (4.4.2)\n",
            "Requirement already satisfied: pickleshare in /usr/local/lib/python3.11/dist-packages (from ipython>=4.0.0->ipywidgets<8,>=7) (0.7.5)\n",
            "Requirement already satisfied: prompt-toolkit!=3.0.0,!=3.0.1,<3.1.0,>=2.0.0 in /usr/local/lib/python3.11/dist-packages (from ipython>=4.0.0->ipywidgets<8,>=7) (3.0.50)\n",
            "Requirement already satisfied: pygments in /usr/local/lib/python3.11/dist-packages (from ipython>=4.0.0->ipywidgets<8,>=7) (2.18.0)\n",
            "Requirement already satisfied: backcall in /usr/local/lib/python3.11/dist-packages (from ipython>=4.0.0->ipywidgets<8,>=7) (0.2.0)\n",
            "Requirement already satisfied: matplotlib-inline in /usr/local/lib/python3.11/dist-packages (from ipython>=4.0.0->ipywidgets<8,>=7) (0.1.7)\n",
            "Requirement already satisfied: pexpect>4.3 in /usr/local/lib/python3.11/dist-packages (from ipython>=4.0.0->ipywidgets<8,>=7) (4.9.0)\n",
            "Requirement already satisfied: notebook>=4.4.1 in /usr/local/lib/python3.11/dist-packages (from widgetsnbextension~=3.6.10->ipywidgets<8,>=7) (6.5.5)\n",
            "Requirement already satisfied: parso<0.9.0,>=0.8.4 in /usr/local/lib/python3.11/dist-packages (from jedi>=0.16->ipython>=4.0.0->ipywidgets<8,>=7) (0.8.4)\n",
            "Requirement already satisfied: jinja2 in /usr/local/lib/python3.11/dist-packages (from notebook>=4.4.1->widgetsnbextension~=3.6.10->ipywidgets<8,>=7) (3.1.5)\n",
            "Requirement already satisfied: tornado>=6.1 in /usr/local/lib/python3.11/dist-packages (from notebook>=4.4.1->widgetsnbextension~=3.6.10->ipywidgets<8,>=7) (6.3.3)\n",
            "Requirement already satisfied: pyzmq<25,>=17 in /usr/local/lib/python3.11/dist-packages (from notebook>=4.4.1->widgetsnbextension~=3.6.10->ipywidgets<8,>=7) (24.0.1)\n",
            "Requirement already satisfied: argon2-cffi in /usr/local/lib/python3.11/dist-packages (from notebook>=4.4.1->widgetsnbextension~=3.6.10->ipywidgets<8,>=7) (23.1.0)\n",
            "Requirement already satisfied: jupyter-core>=4.6.1 in /usr/local/lib/python3.11/dist-packages (from notebook>=4.4.1->widgetsnbextension~=3.6.10->ipywidgets<8,>=7) (5.7.2)\n",
            "Requirement already satisfied: jupyter-client<8,>=5.3.4 in /usr/local/lib/python3.11/dist-packages (from notebook>=4.4.1->widgetsnbextension~=3.6.10->ipywidgets<8,>=7) (7.4.9)\n",
            "Requirement already satisfied: nbformat in /usr/local/lib/python3.11/dist-packages (from notebook>=4.4.1->widgetsnbextension~=3.6.10->ipywidgets<8,>=7) (5.10.4)\n",
            "Requirement already satisfied: nbconvert>=5 in /usr/local/lib/python3.11/dist-packages (from notebook>=4.4.1->widgetsnbextension~=3.6.10->ipywidgets<8,>=7) (7.16.5)\n",
            "Requirement already satisfied: nest-asyncio>=1.5 in /usr/local/lib/python3.11/dist-packages (from notebook>=4.4.1->widgetsnbextension~=3.6.10->ipywidgets<8,>=7) (1.6.0)\n",
            "Requirement already satisfied: ipykernel in /usr/local/lib/python3.11/dist-packages (from notebook>=4.4.1->widgetsnbextension~=3.6.10->ipywidgets<8,>=7) (6.29.5)\n",
            "Requirement already satisfied: Send2Trash>=1.8.0 in /usr/local/lib/python3.11/dist-packages (from notebook>=4.4.1->widgetsnbextension~=3.6.10->ipywidgets<8,>=7) (1.8.3)\n",
            "Requirement already satisfied: terminado>=0.8.3 in /usr/local/lib/python3.11/dist-packages (from notebook>=4.4.1->widgetsnbextension~=3.6.10->ipywidgets<8,>=7) (0.18.1)\n",
            "Requirement already satisfied: prometheus-client in /usr/local/lib/python3.11/dist-packages (from notebook>=4.4.1->widgetsnbextension~=3.6.10->ipywidgets<8,>=7) (0.21.1)\n",
            "Requirement already satisfied: nbclassic>=0.4.7 in /usr/local/lib/python3.11/dist-packages (from notebook>=4.4.1->widgetsnbextension~=3.6.10->ipywidgets<8,>=7) (1.2.0)\n",
            "Requirement already satisfied: ptyprocess>=0.5 in /usr/local/lib/python3.11/dist-packages (from pexpect>4.3->ipython>=4.0.0->ipywidgets<8,>=7) (0.7.0)\n",
            "Requirement already satisfied: wcwidth in /usr/local/lib/python3.11/dist-packages (from prompt-toolkit!=3.0.0,!=3.0.1,<3.1.0,>=2.0.0->ipython>=4.0.0->ipywidgets<8,>=7) (0.2.13)\n",
            "Requirement already satisfied: entrypoints in /usr/local/lib/python3.11/dist-packages (from jupyter-client<8,>=5.3.4->notebook>=4.4.1->widgetsnbextension~=3.6.10->ipywidgets<8,>=7) (0.4)\n",
            "Requirement already satisfied: python-dateutil>=2.8.2 in /usr/local/lib/python3.11/dist-packages (from jupyter-client<8,>=5.3.4->notebook>=4.4.1->widgetsnbextension~=3.6.10->ipywidgets<8,>=7) (2.8.2)\n",
            "Requirement already satisfied: platformdirs>=2.5 in /usr/local/lib/python3.11/dist-packages (from jupyter-core>=4.6.1->notebook>=4.4.1->widgetsnbextension~=3.6.10->ipywidgets<8,>=7) (4.3.6)\n",
            "Requirement already satisfied: notebook-shim>=0.2.3 in /usr/local/lib/python3.11/dist-packages (from nbclassic>=0.4.7->notebook>=4.4.1->widgetsnbextension~=3.6.10->ipywidgets<8,>=7) (0.2.4)\n",
            "Requirement already satisfied: beautifulsoup4 in /usr/local/lib/python3.11/dist-packages (from nbconvert>=5->notebook>=4.4.1->widgetsnbextension~=3.6.10->ipywidgets<8,>=7) (4.12.3)\n",
            "Requirement already satisfied: bleach!=5.0.0 in /usr/local/lib/python3.11/dist-packages (from bleach[css]!=5.0.0->nbconvert>=5->notebook>=4.4.1->widgetsnbextension~=3.6.10->ipywidgets<8,>=7) (6.2.0)\n",
            "Requirement already satisfied: defusedxml in /usr/local/lib/python3.11/dist-packages (from nbconvert>=5->notebook>=4.4.1->widgetsnbextension~=3.6.10->ipywidgets<8,>=7) (0.7.1)\n",
            "Requirement already satisfied: jupyterlab-pygments in /usr/local/lib/python3.11/dist-packages (from nbconvert>=5->notebook>=4.4.1->widgetsnbextension~=3.6.10->ipywidgets<8,>=7) (0.3.0)\n",
            "Requirement already satisfied: markupsafe>=2.0 in /usr/local/lib/python3.11/dist-packages (from nbconvert>=5->notebook>=4.4.1->widgetsnbextension~=3.6.10->ipywidgets<8,>=7) (3.0.2)\n",
            "Requirement already satisfied: mistune<4,>=2.0.3 in /usr/local/lib/python3.11/dist-packages (from nbconvert>=5->notebook>=4.4.1->widgetsnbextension~=3.6.10->ipywidgets<8,>=7) (3.1.0)\n",
            "Requirement already satisfied: nbclient>=0.5.0 in /usr/local/lib/python3.11/dist-packages (from nbconvert>=5->notebook>=4.4.1->widgetsnbextension~=3.6.10->ipywidgets<8,>=7) (0.10.2)\n",
            "Requirement already satisfied: packaging in /usr/local/lib/python3.11/dist-packages (from nbconvert>=5->notebook>=4.4.1->widgetsnbextension~=3.6.10->ipywidgets<8,>=7) (24.2)\n",
            "Requirement already satisfied: pandocfilters>=1.4.1 in /usr/local/lib/python3.11/dist-packages (from nbconvert>=5->notebook>=4.4.1->widgetsnbextension~=3.6.10->ipywidgets<8,>=7) (1.5.1)\n",
            "Requirement already satisfied: fastjsonschema>=2.15 in /usr/local/lib/python3.11/dist-packages (from nbformat->notebook>=4.4.1->widgetsnbextension~=3.6.10->ipywidgets<8,>=7) (2.21.1)\n",
            "Requirement already satisfied: jsonschema>=2.6 in /usr/local/lib/python3.11/dist-packages (from nbformat->notebook>=4.4.1->widgetsnbextension~=3.6.10->ipywidgets<8,>=7) (4.23.0)\n",
            "Requirement already satisfied: argon2-cffi-bindings in /usr/local/lib/python3.11/dist-packages (from argon2-cffi->notebook>=4.4.1->widgetsnbextension~=3.6.10->ipywidgets<8,>=7) (21.2.0)\n",
            "Requirement already satisfied: debugpy>=1.6.5 in /usr/local/lib/python3.11/dist-packages (from ipykernel->notebook>=4.4.1->widgetsnbextension~=3.6.10->ipywidgets<8,>=7) (1.8.0)\n",
            "Requirement already satisfied: psutil in /usr/local/lib/python3.11/dist-packages (from ipykernel->notebook>=4.4.1->widgetsnbextension~=3.6.10->ipywidgets<8,>=7) (5.9.5)\n",
            "Requirement already satisfied: webencodings in /usr/local/lib/python3.11/dist-packages (from bleach!=5.0.0->bleach[css]!=5.0.0->nbconvert>=5->notebook>=4.4.1->widgetsnbextension~=3.6.10->ipywidgets<8,>=7) (0.5.1)\n",
            "Requirement already satisfied: tinycss2<1.5,>=1.1.0 in /usr/local/lib/python3.11/dist-packages (from bleach[css]!=5.0.0->nbconvert>=5->notebook>=4.4.1->widgetsnbextension~=3.6.10->ipywidgets<8,>=7) (1.4.0)\n",
            "Requirement already satisfied: attrs>=22.2.0 in /usr/local/lib/python3.11/dist-packages (from jsonschema>=2.6->nbformat->notebook>=4.4.1->widgetsnbextension~=3.6.10->ipywidgets<8,>=7) (25.1.0)\n",
            "Requirement already satisfied: jsonschema-specifications>=2023.03.6 in /usr/local/lib/python3.11/dist-packages (from jsonschema>=2.6->nbformat->notebook>=4.4.1->widgetsnbextension~=3.6.10->ipywidgets<8,>=7) (2024.10.1)\n",
            "Requirement already satisfied: referencing>=0.28.4 in /usr/local/lib/python3.11/dist-packages (from jsonschema>=2.6->nbformat->notebook>=4.4.1->widgetsnbextension~=3.6.10->ipywidgets<8,>=7) (0.36.2)\n",
            "Requirement already satisfied: rpds-py>=0.7.1 in /usr/local/lib/python3.11/dist-packages (from jsonschema>=2.6->nbformat->notebook>=4.4.1->widgetsnbextension~=3.6.10->ipywidgets<8,>=7) (0.22.3)\n",
            "Requirement already satisfied: jupyter-server<3,>=1.8 in /usr/local/lib/python3.11/dist-packages (from notebook-shim>=0.2.3->nbclassic>=0.4.7->notebook>=4.4.1->widgetsnbextension~=3.6.10->ipywidgets<8,>=7) (2.15.0)\n",
            "Requirement already satisfied: six>=1.5 in /usr/local/lib/python3.11/dist-packages (from python-dateutil>=2.8.2->jupyter-client<8,>=5.3.4->notebook>=4.4.1->widgetsnbextension~=3.6.10->ipywidgets<8,>=7) (1.17.0)\n",
            "Requirement already satisfied: cffi>=1.0.1 in /usr/local/lib/python3.11/dist-packages (from argon2-cffi-bindings->argon2-cffi->notebook>=4.4.1->widgetsnbextension~=3.6.10->ipywidgets<8,>=7) (1.17.1)\n",
            "Requirement already satisfied: soupsieve>1.2 in /usr/local/lib/python3.11/dist-packages (from beautifulsoup4->nbconvert>=5->notebook>=4.4.1->widgetsnbextension~=3.6.10->ipywidgets<8,>=7) (2.6)\n",
            "Requirement already satisfied: pycparser in /usr/local/lib/python3.11/dist-packages (from cffi>=1.0.1->argon2-cffi-bindings->argon2-cffi->notebook>=4.4.1->widgetsnbextension~=3.6.10->ipywidgets<8,>=7) (2.22)\n",
            "Requirement already satisfied: anyio>=3.1.0 in /usr/local/lib/python3.11/dist-packages (from jupyter-server<3,>=1.8->notebook-shim>=0.2.3->nbclassic>=0.4.7->notebook>=4.4.1->widgetsnbextension~=3.6.10->ipywidgets<8,>=7) (3.7.1)\n",
            "Requirement already satisfied: jupyter-events>=0.11.0 in /usr/local/lib/python3.11/dist-packages (from jupyter-server<3,>=1.8->notebook-shim>=0.2.3->nbclassic>=0.4.7->notebook>=4.4.1->widgetsnbextension~=3.6.10->ipywidgets<8,>=7) (0.11.0)\n",
            "Requirement already satisfied: jupyter-server-terminals>=0.4.4 in /usr/local/lib/python3.11/dist-packages (from jupyter-server<3,>=1.8->notebook-shim>=0.2.3->nbclassic>=0.4.7->notebook>=4.4.1->widgetsnbextension~=3.6.10->ipywidgets<8,>=7) (0.5.3)\n",
            "Requirement already satisfied: overrides>=5.0 in /usr/local/lib/python3.11/dist-packages (from jupyter-server<3,>=1.8->notebook-shim>=0.2.3->nbclassic>=0.4.7->notebook>=4.4.1->widgetsnbextension~=3.6.10->ipywidgets<8,>=7) (7.7.0)\n",
            "Requirement already satisfied: websocket-client>=1.7 in /usr/local/lib/python3.11/dist-packages (from jupyter-server<3,>=1.8->notebook-shim>=0.2.3->nbclassic>=0.4.7->notebook>=4.4.1->widgetsnbextension~=3.6.10->ipywidgets<8,>=7) (1.8.0)\n",
            "Requirement already satisfied: typing-extensions>=4.4.0 in /usr/local/lib/python3.11/dist-packages (from referencing>=0.28.4->jsonschema>=2.6->nbformat->notebook>=4.4.1->widgetsnbextension~=3.6.10->ipywidgets<8,>=7) (4.12.2)\n",
            "Requirement already satisfied: idna>=2.8 in /usr/local/lib/python3.11/dist-packages (from anyio>=3.1.0->jupyter-server<3,>=1.8->notebook-shim>=0.2.3->nbclassic>=0.4.7->notebook>=4.4.1->widgetsnbextension~=3.6.10->ipywidgets<8,>=7) (3.10)\n",
            "Requirement already satisfied: sniffio>=1.1 in /usr/local/lib/python3.11/dist-packages (from anyio>=3.1.0->jupyter-server<3,>=1.8->notebook-shim>=0.2.3->nbclassic>=0.4.7->notebook>=4.4.1->widgetsnbextension~=3.6.10->ipywidgets<8,>=7) (1.3.1)\n",
            "Requirement already satisfied: python-json-logger>=2.0.4 in /usr/local/lib/python3.11/dist-packages (from jupyter-events>=0.11.0->jupyter-server<3,>=1.8->notebook-shim>=0.2.3->nbclassic>=0.4.7->notebook>=4.4.1->widgetsnbextension~=3.6.10->ipywidgets<8,>=7) (3.2.1)\n",
            "Requirement already satisfied: pyyaml>=5.3 in /usr/local/lib/python3.11/dist-packages (from jupyter-events>=0.11.0->jupyter-server<3,>=1.8->notebook-shim>=0.2.3->nbclassic>=0.4.7->notebook>=4.4.1->widgetsnbextension~=3.6.10->ipywidgets<8,>=7) (6.0.2)\n",
            "Requirement already satisfied: rfc3339-validator in /usr/local/lib/python3.11/dist-packages (from jupyter-events>=0.11.0->jupyter-server<3,>=1.8->notebook-shim>=0.2.3->nbclassic>=0.4.7->notebook>=4.4.1->widgetsnbextension~=3.6.10->ipywidgets<8,>=7) (0.1.4)\n",
            "Requirement already satisfied: rfc3986-validator>=0.1.1 in /usr/local/lib/python3.11/dist-packages (from jupyter-events>=0.11.0->jupyter-server<3,>=1.8->notebook-shim>=0.2.3->nbclassic>=0.4.7->notebook>=4.4.1->widgetsnbextension~=3.6.10->ipywidgets<8,>=7) (0.1.1)\n",
            "Requirement already satisfied: fqdn in /usr/local/lib/python3.11/dist-packages (from jsonschema[format-nongpl]>=4.18.0->jupyter-events>=0.11.0->jupyter-server<3,>=1.8->notebook-shim>=0.2.3->nbclassic>=0.4.7->notebook>=4.4.1->widgetsnbextension~=3.6.10->ipywidgets<8,>=7) (1.5.1)\n",
            "Requirement already satisfied: isoduration in /usr/local/lib/python3.11/dist-packages (from jsonschema[format-nongpl]>=4.18.0->jupyter-events>=0.11.0->jupyter-server<3,>=1.8->notebook-shim>=0.2.3->nbclassic>=0.4.7->notebook>=4.4.1->widgetsnbextension~=3.6.10->ipywidgets<8,>=7) (20.11.0)\n",
            "Requirement already satisfied: jsonpointer>1.13 in /usr/local/lib/python3.11/dist-packages (from jsonschema[format-nongpl]>=4.18.0->jupyter-events>=0.11.0->jupyter-server<3,>=1.8->notebook-shim>=0.2.3->nbclassic>=0.4.7->notebook>=4.4.1->widgetsnbextension~=3.6.10->ipywidgets<8,>=7) (3.0.0)\n",
            "Requirement already satisfied: uri-template in /usr/local/lib/python3.11/dist-packages (from jsonschema[format-nongpl]>=4.18.0->jupyter-events>=0.11.0->jupyter-server<3,>=1.8->notebook-shim>=0.2.3->nbclassic>=0.4.7->notebook>=4.4.1->widgetsnbextension~=3.6.10->ipywidgets<8,>=7) (1.3.0)\n",
            "Requirement already satisfied: webcolors>=24.6.0 in /usr/local/lib/python3.11/dist-packages (from jsonschema[format-nongpl]>=4.18.0->jupyter-events>=0.11.0->jupyter-server<3,>=1.8->notebook-shim>=0.2.3->nbclassic>=0.4.7->notebook>=4.4.1->widgetsnbextension~=3.6.10->ipywidgets<8,>=7) (24.11.1)\n",
            "Requirement already satisfied: arrow>=0.15.0 in /usr/local/lib/python3.11/dist-packages (from isoduration->jsonschema[format-nongpl]>=4.18.0->jupyter-events>=0.11.0->jupyter-server<3,>=1.8->notebook-shim>=0.2.3->nbclassic>=0.4.7->notebook>=4.4.1->widgetsnbextension~=3.6.10->ipywidgets<8,>=7) (1.3.0)\n",
            "Requirement already satisfied: types-python-dateutil>=2.8.10 in /usr/local/lib/python3.11/dist-packages (from arrow>=0.15.0->isoduration->jsonschema[format-nongpl]>=4.18.0->jupyter-events>=0.11.0->jupyter-server<3,>=1.8->notebook-shim>=0.2.3->nbclassic>=0.4.7->notebook>=4.4.1->widgetsnbextension~=3.6.10->ipywidgets<8,>=7) (2.9.0.20241206)\n",
            "Using cached ipywidgets-7.8.5-py2.py3-none-any.whl (124 kB)\n",
            "Using cached jupyterlab_widgets-1.1.11-py3-none-any.whl (246 kB)\n",
            "Using cached widgetsnbextension-3.6.10-py2.py3-none-any.whl (1.6 MB)\n",
            "Installing collected packages: jupyterlab-widgets, widgetsnbextension, ipywidgets\n",
            "  Attempting uninstall: jupyterlab-widgets\n",
            "    Found existing installation: jupyterlab_widgets 3.0.13\n",
            "    Uninstalling jupyterlab_widgets-3.0.13:\n",
            "      Successfully uninstalled jupyterlab_widgets-3.0.13\n",
            "  Attempting uninstall: widgetsnbextension\n",
            "    Found existing installation: widgetsnbextension 4.0.13\n",
            "    Uninstalling widgetsnbextension-4.0.13:\n",
            "      Successfully uninstalled widgetsnbextension-4.0.13\n",
            "  Attempting uninstall: ipywidgets\n",
            "    Found existing installation: ipywidgets 8.1.5\n",
            "    Uninstalling ipywidgets-8.1.5:\n",
            "      Successfully uninstalled ipywidgets-8.1.5\n",
            "\u001b[31mERROR: pip's dependency resolver does not currently take into account all the packages that are installed. This behaviour is the source of the following dependency conflicts.\n",
            "keplergl 0.3.6 requires ipywidgets>=8.1.5, but you have ipywidgets 7.8.5 which is incompatible.\u001b[0m\u001b[31m\n",
            "\u001b[0mSuccessfully installed ipywidgets-7.8.5 jupyterlab-widgets-1.1.11 widgetsnbextension-3.6.10\n"
          ]
        }
      ]
    },
    {
      "cell_type": "markdown",
      "metadata": {
        "id": "2AkqRiE_Tah4"
      },
      "source": [
        "## 1.2 Import Packages <a id=\"1.1\"></a>\n",
        "#### Import the required packages and set the input/working directory to run this Jupyter Notebook locally."
      ]
    },
    {
      "cell_type": "code",
      "execution_count": null,
      "metadata": {
        "id": "RwHk0KcTTah4",
        "outputId": "b5bf4b7d-2ba6-4959-a459-285d90532094",
        "colab": {
          "base_uri": "https://localhost:8080/",
          "height": 516
        }
      },
      "outputs": [
        {
          "output_type": "stream",
          "name": "stderr",
          "text": [
            "/usr/local/lib/python3.11/dist-packages/cudf/utils/_ptxcompiler.py:64: UserWarning: Error getting driver and runtime versions:\n",
            "\n",
            "stdout:\n",
            "\n",
            "\n",
            "\n",
            "stderr:\n",
            "\n",
            "Traceback (most recent call last):\n",
            "  File \"<string>\", line 4, in <module>\n",
            "  File \"/usr/local/lib/python3.11/dist-packages/numba_cuda/numba/cuda/cudadrv/driver.py\", line 272, in __getattr__\n",
            "    raise CudaSupportError(\"Error at driver init: \\n%s:\" %\n",
            "numba.cuda.cudadrv.error.CudaSupportError: Error at driver init: \n",
            "\n",
            "CUDA driver library cannot be found.\n",
            "If you are sure that a CUDA driver is installed,\n",
            "try setting environment variable NUMBA_CUDA_DRIVER\n",
            "with the file path of the CUDA driver shared library.\n",
            ":\n",
            "\n",
            "\n",
            "Not patching Numba\n",
            "  warnings.warn(msg, UserWarning)\n",
            "/usr/local/lib/python3.11/dist-packages/cudf/utils/gpu_utils.py:62: UserWarning: Failed to dlopen libcuda.so.1\n",
            "  warnings.warn(str(e))\n"
          ]
        },
        {
          "output_type": "display_data",
          "data": {
            "text/html": [
              "<script type=\"esms-options\">{\"shimMode\": true}</script><style>*[data-root-id],\n",
              "*[data-root-id] > * {\n",
              "  box-sizing: border-box;\n",
              "  font-family: var(--jp-ui-font-family);\n",
              "  font-size: var(--jp-ui-font-size1);\n",
              "  color: var(--vscode-editor-foreground, var(--jp-ui-font-color1));\n",
              "}\n",
              "\n",
              "/* Override VSCode background color */\n",
              ".cell-output-ipywidget-background:has(\n",
              "    > .cell-output-ipywidget-background > .lm-Widget > *[data-root-id]\n",
              "  ),\n",
              ".cell-output-ipywidget-background:has(> .lm-Widget > *[data-root-id]) {\n",
              "  background-color: transparent !important;\n",
              "}\n",
              "</style>"
            ]
          },
          "metadata": {}
        },
        {
          "output_type": "display_data",
          "data": {
            "application/javascript": [
              "(function(root) {\n",
              "  function now() {\n",
              "    return new Date();\n",
              "  }\n",
              "\n",
              "  const force = true;\n",
              "  const py_version = '3.6.2'.replace('rc', '-rc.').replace('.dev', '-dev.');\n",
              "  const reloading = false;\n",
              "  const Bokeh = root.Bokeh;\n",
              "\n",
              "  // Set a timeout for this load but only if we are not already initializing\n",
              "  if (typeof (root._bokeh_timeout) === \"undefined\" || (force || !root._bokeh_is_initializing)) {\n",
              "    root._bokeh_timeout = Date.now() + 5000;\n",
              "    root._bokeh_failed_load = false;\n",
              "  }\n",
              "\n",
              "  function run_callbacks() {\n",
              "    try {\n",
              "      root._bokeh_onload_callbacks.forEach(function(callback) {\n",
              "        if (callback != null)\n",
              "          callback();\n",
              "      });\n",
              "    } finally {\n",
              "      delete root._bokeh_onload_callbacks;\n",
              "    }\n",
              "    console.debug(\"Bokeh: all callbacks have finished\");\n",
              "  }\n",
              "\n",
              "  function load_libs(css_urls, js_urls, js_modules, js_exports, callback) {\n",
              "    if (css_urls == null) css_urls = [];\n",
              "    if (js_urls == null) js_urls = [];\n",
              "    if (js_modules == null) js_modules = [];\n",
              "    if (js_exports == null) js_exports = {};\n",
              "\n",
              "    root._bokeh_onload_callbacks.push(callback);\n",
              "\n",
              "    if (root._bokeh_is_loading > 0) {\n",
              "      // Don't load bokeh if it is still initializing\n",
              "      console.debug(\"Bokeh: BokehJS is being loaded, scheduling callback at\", now());\n",
              "      return null;\n",
              "    } else if (js_urls.length === 0 && js_modules.length === 0 && Object.keys(js_exports).length === 0) {\n",
              "      // There is nothing to load\n",
              "      run_callbacks();\n",
              "      return null;\n",
              "    }\n",
              "\n",
              "    function on_load() {\n",
              "      root._bokeh_is_loading--;\n",
              "      if (root._bokeh_is_loading === 0) {\n",
              "        console.debug(\"Bokeh: all BokehJS libraries/stylesheets loaded\");\n",
              "        run_callbacks()\n",
              "      }\n",
              "    }\n",
              "    window._bokeh_on_load = on_load\n",
              "\n",
              "    function on_error(e) {\n",
              "      const src_el = e.srcElement\n",
              "      console.error(\"failed to load \" + (src_el.href || src_el.src));\n",
              "    }\n",
              "\n",
              "    const skip = [];\n",
              "    if (window.requirejs) {\n",
              "      window.requirejs.config({'packages': {}, 'paths': {}, 'shim': {}});\n",
              "      root._bokeh_is_loading = css_urls.length + 0;\n",
              "    } else {\n",
              "      root._bokeh_is_loading = css_urls.length + js_urls.length + js_modules.length + Object.keys(js_exports).length;\n",
              "    }\n",
              "\n",
              "    const existing_stylesheets = []\n",
              "    const links = document.getElementsByTagName('link')\n",
              "    for (let i = 0; i < links.length; i++) {\n",
              "      const link = links[i]\n",
              "      if (link.href != null) {\n",
              "        existing_stylesheets.push(link.href)\n",
              "      }\n",
              "    }\n",
              "    for (let i = 0; i < css_urls.length; i++) {\n",
              "      const url = css_urls[i];\n",
              "      const escaped = encodeURI(url)\n",
              "      if (existing_stylesheets.indexOf(escaped) !== -1) {\n",
              "        on_load()\n",
              "        continue;\n",
              "      }\n",
              "      const element = document.createElement(\"link\");\n",
              "      element.onload = on_load;\n",
              "      element.onerror = on_error;\n",
              "      element.rel = \"stylesheet\";\n",
              "      element.type = \"text/css\";\n",
              "      element.href = url;\n",
              "      console.debug(\"Bokeh: injecting link tag for BokehJS stylesheet: \", url);\n",
              "      document.body.appendChild(element);\n",
              "    }    var existing_scripts = []\n",
              "    const scripts = document.getElementsByTagName('script')\n",
              "    for (let i = 0; i < scripts.length; i++) {\n",
              "      var script = scripts[i]\n",
              "      if (script.src != null) {\n",
              "        existing_scripts.push(script.src)\n",
              "      }\n",
              "    }\n",
              "    for (let i = 0; i < js_urls.length; i++) {\n",
              "      const url = js_urls[i];\n",
              "      const escaped = encodeURI(url)\n",
              "      if (skip.indexOf(escaped) !== -1 || existing_scripts.indexOf(escaped) !== -1) {\n",
              "        if (!window.requirejs) {\n",
              "          on_load();\n",
              "        }\n",
              "        continue;\n",
              "      }\n",
              "      const element = document.createElement('script');\n",
              "      element.onload = on_load;\n",
              "      element.onerror = on_error;\n",
              "      element.async = false;\n",
              "      element.src = url;\n",
              "      console.debug(\"Bokeh: injecting script tag for BokehJS library: \", url);\n",
              "      document.head.appendChild(element);\n",
              "    }\n",
              "    for (let i = 0; i < js_modules.length; i++) {\n",
              "      const url = js_modules[i];\n",
              "      const escaped = encodeURI(url)\n",
              "      if (skip.indexOf(escaped) !== -1 || existing_scripts.indexOf(escaped) !== -1) {\n",
              "        if (!window.requirejs) {\n",
              "          on_load();\n",
              "        }\n",
              "        continue;\n",
              "      }\n",
              "      var element = document.createElement('script');\n",
              "      element.onload = on_load;\n",
              "      element.onerror = on_error;\n",
              "      element.async = false;\n",
              "      element.src = url;\n",
              "      element.type = \"module\";\n",
              "      console.debug(\"Bokeh: injecting script tag for BokehJS library: \", url);\n",
              "      document.head.appendChild(element);\n",
              "    }\n",
              "    for (const name in js_exports) {\n",
              "      const url = js_exports[name];\n",
              "      const escaped = encodeURI(url)\n",
              "      if (skip.indexOf(escaped) >= 0 || root[name] != null) {\n",
              "        if (!window.requirejs) {\n",
              "          on_load();\n",
              "        }\n",
              "        continue;\n",
              "      }\n",
              "      var element = document.createElement('script');\n",
              "      element.onerror = on_error;\n",
              "      element.async = false;\n",
              "      element.type = \"module\";\n",
              "      console.debug(\"Bokeh: injecting script tag for BokehJS library: \", url);\n",
              "      element.textContent = `\n",
              "      import ${name} from \"${url}\"\n",
              "      window.${name} = ${name}\n",
              "      window._bokeh_on_load()\n",
              "      `\n",
              "      document.head.appendChild(element);\n",
              "    }\n",
              "    if (!js_urls.length && !js_modules.length) {\n",
              "      on_load()\n",
              "    }\n",
              "  };\n",
              "\n",
              "  function inject_raw_css(css) {\n",
              "    const element = document.createElement(\"style\");\n",
              "    element.appendChild(document.createTextNode(css));\n",
              "    document.body.appendChild(element);\n",
              "  }\n",
              "\n",
              "  const js_urls = [\"https://cdn.holoviz.org/panel/1.6.0/dist/bundled/reactiveesm/es-module-shims@^1.10.0/dist/es-module-shims.min.js\", \"https://cdn.bokeh.org/bokeh/release/bokeh-3.6.2.min.js\", \"https://cdn.bokeh.org/bokeh/release/bokeh-gl-3.6.2.min.js\", \"https://cdn.bokeh.org/bokeh/release/bokeh-widgets-3.6.2.min.js\", \"https://cdn.bokeh.org/bokeh/release/bokeh-tables-3.6.2.min.js\", \"https://cdn.holoviz.org/panel/1.6.0/dist/panel.min.js\", \"https://cdn.jsdelivr.net/npm/@holoviz/geoviews@1.14.0/dist/geoviews.min.js\"];\n",
              "  const js_modules = [];\n",
              "  const js_exports = {};\n",
              "  const css_urls = [];\n",
              "  const inline_js = [    function(Bokeh) {\n",
              "      Bokeh.set_log_level(\"info\");\n",
              "    },\n",
              "function(Bokeh) {} // ensure no trailing comma for IE\n",
              "  ];\n",
              "\n",
              "  function run_inline_js() {\n",
              "    if ((root.Bokeh !== undefined) || (force === true)) {\n",
              "      for (let i = 0; i < inline_js.length; i++) {\n",
              "        try {\n",
              "          inline_js[i].call(root, root.Bokeh);\n",
              "        } catch(e) {\n",
              "          if (!reloading) {\n",
              "            throw e;\n",
              "          }\n",
              "        }\n",
              "      }\n",
              "      // Cache old bokeh versions\n",
              "      if (Bokeh != undefined && !reloading) {\n",
              "        var NewBokeh = root.Bokeh;\n",
              "        if (Bokeh.versions === undefined) {\n",
              "          Bokeh.versions = new Map();\n",
              "        }\n",
              "        if (NewBokeh.version !== Bokeh.version) {\n",
              "          Bokeh.versions.set(NewBokeh.version, NewBokeh)\n",
              "        }\n",
              "        root.Bokeh = Bokeh;\n",
              "      }\n",
              "    } else if (Date.now() < root._bokeh_timeout) {\n",
              "      setTimeout(run_inline_js, 100);\n",
              "    } else if (!root._bokeh_failed_load) {\n",
              "      console.log(\"Bokeh: BokehJS failed to load within specified timeout.\");\n",
              "      root._bokeh_failed_load = true;\n",
              "    }\n",
              "    root._bokeh_is_initializing = false\n",
              "  }\n",
              "\n",
              "  function load_or_wait() {\n",
              "    // Implement a backoff loop that tries to ensure we do not load multiple\n",
              "    // versions of Bokeh and its dependencies at the same time.\n",
              "    // In recent versions we use the root._bokeh_is_initializing flag\n",
              "    // to determine whether there is an ongoing attempt to initialize\n",
              "    // bokeh, however for backward compatibility we also try to ensure\n",
              "    // that we do not start loading a newer (Panel>=1.0 and Bokeh>3) version\n",
              "    // before older versions are fully initialized.\n",
              "    if (root._bokeh_is_initializing && Date.now() > root._bokeh_timeout) {\n",
              "      // If the timeout and bokeh was not successfully loaded we reset\n",
              "      // everything and try loading again\n",
              "      root._bokeh_timeout = Date.now() + 5000;\n",
              "      root._bokeh_is_initializing = false;\n",
              "      root._bokeh_onload_callbacks = undefined;\n",
              "      root._bokeh_is_loading = 0\n",
              "      console.log(\"Bokeh: BokehJS was loaded multiple times but one version failed to initialize.\");\n",
              "      load_or_wait();\n",
              "    } else if (root._bokeh_is_initializing || (typeof root._bokeh_is_initializing === \"undefined\" && root._bokeh_onload_callbacks !== undefined)) {\n",
              "      setTimeout(load_or_wait, 100);\n",
              "    } else {\n",
              "      root._bokeh_is_initializing = true\n",
              "      root._bokeh_onload_callbacks = []\n",
              "      const bokeh_loaded = root.Bokeh != null && (root.Bokeh.version === py_version || (root.Bokeh.versions !== undefined && root.Bokeh.versions.has(py_version)));\n",
              "      if (!reloading && !bokeh_loaded) {\n",
              "        if (root.Bokeh) {\n",
              "          root.Bokeh = undefined;\n",
              "        }\n",
              "        console.debug(\"Bokeh: BokehJS not loaded, scheduling load and callback at\", now());\n",
              "      }\n",
              "      load_libs(css_urls, js_urls, js_modules, js_exports, function() {\n",
              "        console.debug(\"Bokeh: BokehJS plotting callback run at\", now());\n",
              "        run_inline_js();\n",
              "      });\n",
              "    }\n",
              "  }\n",
              "  // Give older versions of the autoload script a head-start to ensure\n",
              "  // they initialize before we start loading newer version.\n",
              "  setTimeout(load_or_wait, 100)\n",
              "}(window));"
            ],
            "application/vnd.holoviews_load.v0+json": "(function(root) {\n  function now() {\n    return new Date();\n  }\n\n  const force = true;\n  const py_version = '3.6.2'.replace('rc', '-rc.').replace('.dev', '-dev.');\n  const reloading = false;\n  const Bokeh = root.Bokeh;\n\n  // Set a timeout for this load but only if we are not already initializing\n  if (typeof (root._bokeh_timeout) === \"undefined\" || (force || !root._bokeh_is_initializing)) {\n    root._bokeh_timeout = Date.now() + 5000;\n    root._bokeh_failed_load = false;\n  }\n\n  function run_callbacks() {\n    try {\n      root._bokeh_onload_callbacks.forEach(function(callback) {\n        if (callback != null)\n          callback();\n      });\n    } finally {\n      delete root._bokeh_onload_callbacks;\n    }\n    console.debug(\"Bokeh: all callbacks have finished\");\n  }\n\n  function load_libs(css_urls, js_urls, js_modules, js_exports, callback) {\n    if (css_urls == null) css_urls = [];\n    if (js_urls == null) js_urls = [];\n    if (js_modules == null) js_modules = [];\n    if (js_exports == null) js_exports = {};\n\n    root._bokeh_onload_callbacks.push(callback);\n\n    if (root._bokeh_is_loading > 0) {\n      // Don't load bokeh if it is still initializing\n      console.debug(\"Bokeh: BokehJS is being loaded, scheduling callback at\", now());\n      return null;\n    } else if (js_urls.length === 0 && js_modules.length === 0 && Object.keys(js_exports).length === 0) {\n      // There is nothing to load\n      run_callbacks();\n      return null;\n    }\n\n    function on_load() {\n      root._bokeh_is_loading--;\n      if (root._bokeh_is_loading === 0) {\n        console.debug(\"Bokeh: all BokehJS libraries/stylesheets loaded\");\n        run_callbacks()\n      }\n    }\n    window._bokeh_on_load = on_load\n\n    function on_error(e) {\n      const src_el = e.srcElement\n      console.error(\"failed to load \" + (src_el.href || src_el.src));\n    }\n\n    const skip = [];\n    if (window.requirejs) {\n      window.requirejs.config({'packages': {}, 'paths': {}, 'shim': {}});\n      root._bokeh_is_loading = css_urls.length + 0;\n    } else {\n      root._bokeh_is_loading = css_urls.length + js_urls.length + js_modules.length + Object.keys(js_exports).length;\n    }\n\n    const existing_stylesheets = []\n    const links = document.getElementsByTagName('link')\n    for (let i = 0; i < links.length; i++) {\n      const link = links[i]\n      if (link.href != null) {\n        existing_stylesheets.push(link.href)\n      }\n    }\n    for (let i = 0; i < css_urls.length; i++) {\n      const url = css_urls[i];\n      const escaped = encodeURI(url)\n      if (existing_stylesheets.indexOf(escaped) !== -1) {\n        on_load()\n        continue;\n      }\n      const element = document.createElement(\"link\");\n      element.onload = on_load;\n      element.onerror = on_error;\n      element.rel = \"stylesheet\";\n      element.type = \"text/css\";\n      element.href = url;\n      console.debug(\"Bokeh: injecting link tag for BokehJS stylesheet: \", url);\n      document.body.appendChild(element);\n    }    var existing_scripts = []\n    const scripts = document.getElementsByTagName('script')\n    for (let i = 0; i < scripts.length; i++) {\n      var script = scripts[i]\n      if (script.src != null) {\n        existing_scripts.push(script.src)\n      }\n    }\n    for (let i = 0; i < js_urls.length; i++) {\n      const url = js_urls[i];\n      const escaped = encodeURI(url)\n      if (skip.indexOf(escaped) !== -1 || existing_scripts.indexOf(escaped) !== -1) {\n        if (!window.requirejs) {\n          on_load();\n        }\n        continue;\n      }\n      const element = document.createElement('script');\n      element.onload = on_load;\n      element.onerror = on_error;\n      element.async = false;\n      element.src = url;\n      console.debug(\"Bokeh: injecting script tag for BokehJS library: \", url);\n      document.head.appendChild(element);\n    }\n    for (let i = 0; i < js_modules.length; i++) {\n      const url = js_modules[i];\n      const escaped = encodeURI(url)\n      if (skip.indexOf(escaped) !== -1 || existing_scripts.indexOf(escaped) !== -1) {\n        if (!window.requirejs) {\n          on_load();\n        }\n        continue;\n      }\n      var element = document.createElement('script');\n      element.onload = on_load;\n      element.onerror = on_error;\n      element.async = false;\n      element.src = url;\n      element.type = \"module\";\n      console.debug(\"Bokeh: injecting script tag for BokehJS library: \", url);\n      document.head.appendChild(element);\n    }\n    for (const name in js_exports) {\n      const url = js_exports[name];\n      const escaped = encodeURI(url)\n      if (skip.indexOf(escaped) >= 0 || root[name] != null) {\n        if (!window.requirejs) {\n          on_load();\n        }\n        continue;\n      }\n      var element = document.createElement('script');\n      element.onerror = on_error;\n      element.async = false;\n      element.type = \"module\";\n      console.debug(\"Bokeh: injecting script tag for BokehJS library: \", url);\n      element.textContent = `\n      import ${name} from \"${url}\"\n      window.${name} = ${name}\n      window._bokeh_on_load()\n      `\n      document.head.appendChild(element);\n    }\n    if (!js_urls.length && !js_modules.length) {\n      on_load()\n    }\n  };\n\n  function inject_raw_css(css) {\n    const element = document.createElement(\"style\");\n    element.appendChild(document.createTextNode(css));\n    document.body.appendChild(element);\n  }\n\n  const js_urls = [\"https://cdn.holoviz.org/panel/1.6.0/dist/bundled/reactiveesm/es-module-shims@^1.10.0/dist/es-module-shims.min.js\", \"https://cdn.bokeh.org/bokeh/release/bokeh-3.6.2.min.js\", \"https://cdn.bokeh.org/bokeh/release/bokeh-gl-3.6.2.min.js\", \"https://cdn.bokeh.org/bokeh/release/bokeh-widgets-3.6.2.min.js\", \"https://cdn.bokeh.org/bokeh/release/bokeh-tables-3.6.2.min.js\", \"https://cdn.holoviz.org/panel/1.6.0/dist/panel.min.js\", \"https://cdn.jsdelivr.net/npm/@holoviz/geoviews@1.14.0/dist/geoviews.min.js\"];\n  const js_modules = [];\n  const js_exports = {};\n  const css_urls = [];\n  const inline_js = [    function(Bokeh) {\n      Bokeh.set_log_level(\"info\");\n    },\nfunction(Bokeh) {} // ensure no trailing comma for IE\n  ];\n\n  function run_inline_js() {\n    if ((root.Bokeh !== undefined) || (force === true)) {\n      for (let i = 0; i < inline_js.length; i++) {\n        try {\n          inline_js[i].call(root, root.Bokeh);\n        } catch(e) {\n          if (!reloading) {\n            throw e;\n          }\n        }\n      }\n      // Cache old bokeh versions\n      if (Bokeh != undefined && !reloading) {\n        var NewBokeh = root.Bokeh;\n        if (Bokeh.versions === undefined) {\n          Bokeh.versions = new Map();\n        }\n        if (NewBokeh.version !== Bokeh.version) {\n          Bokeh.versions.set(NewBokeh.version, NewBokeh)\n        }\n        root.Bokeh = Bokeh;\n      }\n    } else if (Date.now() < root._bokeh_timeout) {\n      setTimeout(run_inline_js, 100);\n    } else if (!root._bokeh_failed_load) {\n      console.log(\"Bokeh: BokehJS failed to load within specified timeout.\");\n      root._bokeh_failed_load = true;\n    }\n    root._bokeh_is_initializing = false\n  }\n\n  function load_or_wait() {\n    // Implement a backoff loop that tries to ensure we do not load multiple\n    // versions of Bokeh and its dependencies at the same time.\n    // In recent versions we use the root._bokeh_is_initializing flag\n    // to determine whether there is an ongoing attempt to initialize\n    // bokeh, however for backward compatibility we also try to ensure\n    // that we do not start loading a newer (Panel>=1.0 and Bokeh>3) version\n    // before older versions are fully initialized.\n    if (root._bokeh_is_initializing && Date.now() > root._bokeh_timeout) {\n      // If the timeout and bokeh was not successfully loaded we reset\n      // everything and try loading again\n      root._bokeh_timeout = Date.now() + 5000;\n      root._bokeh_is_initializing = false;\n      root._bokeh_onload_callbacks = undefined;\n      root._bokeh_is_loading = 0\n      console.log(\"Bokeh: BokehJS was loaded multiple times but one version failed to initialize.\");\n      load_or_wait();\n    } else if (root._bokeh_is_initializing || (typeof root._bokeh_is_initializing === \"undefined\" && root._bokeh_onload_callbacks !== undefined)) {\n      setTimeout(load_or_wait, 100);\n    } else {\n      root._bokeh_is_initializing = true\n      root._bokeh_onload_callbacks = []\n      const bokeh_loaded = root.Bokeh != null && (root.Bokeh.version === py_version || (root.Bokeh.versions !== undefined && root.Bokeh.versions.has(py_version)));\n      if (!reloading && !bokeh_loaded) {\n        if (root.Bokeh) {\n          root.Bokeh = undefined;\n        }\n        console.debug(\"Bokeh: BokehJS not loaded, scheduling load and callback at\", now());\n      }\n      load_libs(css_urls, js_urls, js_modules, js_exports, function() {\n        console.debug(\"Bokeh: BokehJS plotting callback run at\", now());\n        run_inline_js();\n      });\n    }\n  }\n  // Give older versions of the autoload script a head-start to ensure\n  // they initialize before we start loading newer version.\n  setTimeout(load_or_wait, 100)\n}(window));"
          },
          "metadata": {}
        },
        {
          "output_type": "display_data",
          "data": {
            "application/vnd.holoviews_load.v0+json": "\nif ((window.PyViz === undefined) || (window.PyViz instanceof HTMLElement)) {\n  window.PyViz = {comms: {}, comm_status:{}, kernels:{}, receivers: {}, plot_index: []}\n}\n\n\n    function JupyterCommManager() {\n    }\n\n    JupyterCommManager.prototype.register_target = function(plot_id, comm_id, msg_handler) {\n      if (window.comm_manager || ((window.Jupyter !== undefined) && (Jupyter.notebook.kernel != null))) {\n        var comm_manager = window.comm_manager || Jupyter.notebook.kernel.comm_manager;\n        comm_manager.register_target(comm_id, function(comm) {\n          comm.on_msg(msg_handler);\n        });\n      } else if ((plot_id in window.PyViz.kernels) && (window.PyViz.kernels[plot_id])) {\n        window.PyViz.kernels[plot_id].registerCommTarget(comm_id, function(comm) {\n          comm.onMsg = msg_handler;\n        });\n      } else if (typeof google != 'undefined' && google.colab.kernel != null) {\n        google.colab.kernel.comms.registerTarget(comm_id, (comm) => {\n          var messages = comm.messages[Symbol.asyncIterator]();\n          function processIteratorResult(result) {\n            var message = result.value;\n            console.log(message)\n            var content = {data: message.data, comm_id};\n            var buffers = []\n            for (var buffer of message.buffers || []) {\n              buffers.push(new DataView(buffer))\n            }\n            var metadata = message.metadata || {};\n            var msg = {content, buffers, metadata}\n            msg_handler(msg);\n            return messages.next().then(processIteratorResult);\n          }\n          return messages.next().then(processIteratorResult);\n        })\n      }\n    }\n\n    JupyterCommManager.prototype.get_client_comm = function(plot_id, comm_id, msg_handler) {\n      if (comm_id in window.PyViz.comms) {\n        return window.PyViz.comms[comm_id];\n      } else if (window.comm_manager || ((window.Jupyter !== undefined) && (Jupyter.notebook.kernel != null))) {\n        var comm_manager = window.comm_manager || Jupyter.notebook.kernel.comm_manager;\n        var comm = comm_manager.new_comm(comm_id, {}, {}, {}, comm_id);\n        if (msg_handler) {\n          comm.on_msg(msg_handler);\n        }\n      } else if ((plot_id in window.PyViz.kernels) && (window.PyViz.kernels[plot_id])) {\n        var comm = window.PyViz.kernels[plot_id].connectToComm(comm_id);\n        comm.open();\n        if (msg_handler) {\n          comm.onMsg = msg_handler;\n        }\n      } else if (typeof google != 'undefined' && google.colab.kernel != null) {\n        var comm_promise = google.colab.kernel.comms.open(comm_id)\n        comm_promise.then((comm) => {\n          window.PyViz.comms[comm_id] = comm;\n          if (msg_handler) {\n            var messages = comm.messages[Symbol.asyncIterator]();\n            function processIteratorResult(result) {\n              var message = result.value;\n              var content = {data: message.data};\n              var metadata = message.metadata || {comm_id};\n              var msg = {content, metadata}\n              msg_handler(msg);\n              return messages.next().then(processIteratorResult);\n            }\n            return messages.next().then(processIteratorResult);\n          }\n        })\n        var sendClosure = (data, metadata, buffers, disposeOnDone) => {\n          return comm_promise.then((comm) => {\n            comm.send(data, metadata, buffers, disposeOnDone);\n          });\n        };\n        var comm = {\n          send: sendClosure\n        };\n      }\n      window.PyViz.comms[comm_id] = comm;\n      return comm;\n    }\n    window.PyViz.comm_manager = new JupyterCommManager();\n    \n\n\nvar JS_MIME_TYPE = 'application/javascript';\nvar HTML_MIME_TYPE = 'text/html';\nvar EXEC_MIME_TYPE = 'application/vnd.holoviews_exec.v0+json';\nvar CLASS_NAME = 'output';\n\n/**\n * Render data to the DOM node\n */\nfunction render(props, node) {\n  var div = document.createElement(\"div\");\n  var script = document.createElement(\"script\");\n  node.appendChild(div);\n  node.appendChild(script);\n}\n\n/**\n * Handle when a new output is added\n */\nfunction handle_add_output(event, handle) {\n  var output_area = handle.output_area;\n  var output = handle.output;\n  if ((output.data == undefined) || (!output.data.hasOwnProperty(EXEC_MIME_TYPE))) {\n    return\n  }\n  var id = output.metadata[EXEC_MIME_TYPE][\"id\"];\n  var toinsert = output_area.element.find(\".\" + CLASS_NAME.split(' ')[0]);\n  if (id !== undefined) {\n    var nchildren = toinsert.length;\n    var html_node = toinsert[nchildren-1].children[0];\n    html_node.innerHTML = output.data[HTML_MIME_TYPE];\n    var scripts = [];\n    var nodelist = html_node.querySelectorAll(\"script\");\n    for (var i in nodelist) {\n      if (nodelist.hasOwnProperty(i)) {\n        scripts.push(nodelist[i])\n      }\n    }\n\n    scripts.forEach( function (oldScript) {\n      var newScript = document.createElement(\"script\");\n      var attrs = [];\n      var nodemap = oldScript.attributes;\n      for (var j in nodemap) {\n        if (nodemap.hasOwnProperty(j)) {\n          attrs.push(nodemap[j])\n        }\n      }\n      attrs.forEach(function(attr) { newScript.setAttribute(attr.name, attr.value) });\n      newScript.appendChild(document.createTextNode(oldScript.innerHTML));\n      oldScript.parentNode.replaceChild(newScript, oldScript);\n    });\n    if (JS_MIME_TYPE in output.data) {\n      toinsert[nchildren-1].children[1].textContent = output.data[JS_MIME_TYPE];\n    }\n    output_area._hv_plot_id = id;\n    if ((window.Bokeh !== undefined) && (id in Bokeh.index)) {\n      window.PyViz.plot_index[id] = Bokeh.index[id];\n    } else {\n      window.PyViz.plot_index[id] = null;\n    }\n  } else if (output.metadata[EXEC_MIME_TYPE][\"server_id\"] !== undefined) {\n    var bk_div = document.createElement(\"div\");\n    bk_div.innerHTML = output.data[HTML_MIME_TYPE];\n    var script_attrs = bk_div.children[0].attributes;\n    for (var i = 0; i < script_attrs.length; i++) {\n      toinsert[toinsert.length - 1].childNodes[1].setAttribute(script_attrs[i].name, script_attrs[i].value);\n    }\n    // store reference to server id on output_area\n    output_area._bokeh_server_id = output.metadata[EXEC_MIME_TYPE][\"server_id\"];\n  }\n}\n\n/**\n * Handle when an output is cleared or removed\n */\nfunction handle_clear_output(event, handle) {\n  var id = handle.cell.output_area._hv_plot_id;\n  var server_id = handle.cell.output_area._bokeh_server_id;\n  if (((id === undefined) || !(id in PyViz.plot_index)) && (server_id !== undefined)) { return; }\n  var comm = window.PyViz.comm_manager.get_client_comm(\"hv-extension-comm\", \"hv-extension-comm\", function () {});\n  if (server_id !== null) {\n    comm.send({event_type: 'server_delete', 'id': server_id});\n    return;\n  } else if (comm !== null) {\n    comm.send({event_type: 'delete', 'id': id});\n  }\n  delete PyViz.plot_index[id];\n  if ((window.Bokeh !== undefined) & (id in window.Bokeh.index)) {\n    var doc = window.Bokeh.index[id].model.document\n    doc.clear();\n    const i = window.Bokeh.documents.indexOf(doc);\n    if (i > -1) {\n      window.Bokeh.documents.splice(i, 1);\n    }\n  }\n}\n\n/**\n * Handle kernel restart event\n */\nfunction handle_kernel_cleanup(event, handle) {\n  delete PyViz.comms[\"hv-extension-comm\"];\n  window.PyViz.plot_index = {}\n}\n\n/**\n * Handle update_display_data messages\n */\nfunction handle_update_output(event, handle) {\n  handle_clear_output(event, {cell: {output_area: handle.output_area}})\n  handle_add_output(event, handle)\n}\n\nfunction register_renderer(events, OutputArea) {\n  function append_mime(data, metadata, element) {\n    // create a DOM node to render to\n    var toinsert = this.create_output_subarea(\n    metadata,\n    CLASS_NAME,\n    EXEC_MIME_TYPE\n    );\n    this.keyboard_manager.register_events(toinsert);\n    // Render to node\n    var props = {data: data, metadata: metadata[EXEC_MIME_TYPE]};\n    render(props, toinsert[0]);\n    element.append(toinsert);\n    return toinsert\n  }\n\n  events.on('output_added.OutputArea', handle_add_output);\n  events.on('output_updated.OutputArea', handle_update_output);\n  events.on('clear_output.CodeCell', handle_clear_output);\n  events.on('delete.Cell', handle_clear_output);\n  events.on('kernel_ready.Kernel', handle_kernel_cleanup);\n\n  OutputArea.prototype.register_mime_type(EXEC_MIME_TYPE, append_mime, {\n    safe: true,\n    index: 0\n  });\n}\n\nif (window.Jupyter !== undefined) {\n  try {\n    var events = require('base/js/events');\n    var OutputArea = require('notebook/js/outputarea').OutputArea;\n    if (OutputArea.prototype.mime_types().indexOf(EXEC_MIME_TYPE) == -1) {\n      register_renderer(events, OutputArea);\n    }\n  } catch(err) {\n  }\n}\n",
            "application/javascript": [
              "\n",
              "if ((window.PyViz === undefined) || (window.PyViz instanceof HTMLElement)) {\n",
              "  window.PyViz = {comms: {}, comm_status:{}, kernels:{}, receivers: {}, plot_index: []}\n",
              "}\n",
              "\n",
              "\n",
              "    function JupyterCommManager() {\n",
              "    }\n",
              "\n",
              "    JupyterCommManager.prototype.register_target = function(plot_id, comm_id, msg_handler) {\n",
              "      if (window.comm_manager || ((window.Jupyter !== undefined) && (Jupyter.notebook.kernel != null))) {\n",
              "        var comm_manager = window.comm_manager || Jupyter.notebook.kernel.comm_manager;\n",
              "        comm_manager.register_target(comm_id, function(comm) {\n",
              "          comm.on_msg(msg_handler);\n",
              "        });\n",
              "      } else if ((plot_id in window.PyViz.kernels) && (window.PyViz.kernels[plot_id])) {\n",
              "        window.PyViz.kernels[plot_id].registerCommTarget(comm_id, function(comm) {\n",
              "          comm.onMsg = msg_handler;\n",
              "        });\n",
              "      } else if (typeof google != 'undefined' && google.colab.kernel != null) {\n",
              "        google.colab.kernel.comms.registerTarget(comm_id, (comm) => {\n",
              "          var messages = comm.messages[Symbol.asyncIterator]();\n",
              "          function processIteratorResult(result) {\n",
              "            var message = result.value;\n",
              "            console.log(message)\n",
              "            var content = {data: message.data, comm_id};\n",
              "            var buffers = []\n",
              "            for (var buffer of message.buffers || []) {\n",
              "              buffers.push(new DataView(buffer))\n",
              "            }\n",
              "            var metadata = message.metadata || {};\n",
              "            var msg = {content, buffers, metadata}\n",
              "            msg_handler(msg);\n",
              "            return messages.next().then(processIteratorResult);\n",
              "          }\n",
              "          return messages.next().then(processIteratorResult);\n",
              "        })\n",
              "      }\n",
              "    }\n",
              "\n",
              "    JupyterCommManager.prototype.get_client_comm = function(plot_id, comm_id, msg_handler) {\n",
              "      if (comm_id in window.PyViz.comms) {\n",
              "        return window.PyViz.comms[comm_id];\n",
              "      } else if (window.comm_manager || ((window.Jupyter !== undefined) && (Jupyter.notebook.kernel != null))) {\n",
              "        var comm_manager = window.comm_manager || Jupyter.notebook.kernel.comm_manager;\n",
              "        var comm = comm_manager.new_comm(comm_id, {}, {}, {}, comm_id);\n",
              "        if (msg_handler) {\n",
              "          comm.on_msg(msg_handler);\n",
              "        }\n",
              "      } else if ((plot_id in window.PyViz.kernels) && (window.PyViz.kernels[plot_id])) {\n",
              "        var comm = window.PyViz.kernels[plot_id].connectToComm(comm_id);\n",
              "        comm.open();\n",
              "        if (msg_handler) {\n",
              "          comm.onMsg = msg_handler;\n",
              "        }\n",
              "      } else if (typeof google != 'undefined' && google.colab.kernel != null) {\n",
              "        var comm_promise = google.colab.kernel.comms.open(comm_id)\n",
              "        comm_promise.then((comm) => {\n",
              "          window.PyViz.comms[comm_id] = comm;\n",
              "          if (msg_handler) {\n",
              "            var messages = comm.messages[Symbol.asyncIterator]();\n",
              "            function processIteratorResult(result) {\n",
              "              var message = result.value;\n",
              "              var content = {data: message.data};\n",
              "              var metadata = message.metadata || {comm_id};\n",
              "              var msg = {content, metadata}\n",
              "              msg_handler(msg);\n",
              "              return messages.next().then(processIteratorResult);\n",
              "            }\n",
              "            return messages.next().then(processIteratorResult);\n",
              "          }\n",
              "        })\n",
              "        var sendClosure = (data, metadata, buffers, disposeOnDone) => {\n",
              "          return comm_promise.then((comm) => {\n",
              "            comm.send(data, metadata, buffers, disposeOnDone);\n",
              "          });\n",
              "        };\n",
              "        var comm = {\n",
              "          send: sendClosure\n",
              "        };\n",
              "      }\n",
              "      window.PyViz.comms[comm_id] = comm;\n",
              "      return comm;\n",
              "    }\n",
              "    window.PyViz.comm_manager = new JupyterCommManager();\n",
              "    \n",
              "\n",
              "\n",
              "var JS_MIME_TYPE = 'application/javascript';\n",
              "var HTML_MIME_TYPE = 'text/html';\n",
              "var EXEC_MIME_TYPE = 'application/vnd.holoviews_exec.v0+json';\n",
              "var CLASS_NAME = 'output';\n",
              "\n",
              "/**\n",
              " * Render data to the DOM node\n",
              " */\n",
              "function render(props, node) {\n",
              "  var div = document.createElement(\"div\");\n",
              "  var script = document.createElement(\"script\");\n",
              "  node.appendChild(div);\n",
              "  node.appendChild(script);\n",
              "}\n",
              "\n",
              "/**\n",
              " * Handle when a new output is added\n",
              " */\n",
              "function handle_add_output(event, handle) {\n",
              "  var output_area = handle.output_area;\n",
              "  var output = handle.output;\n",
              "  if ((output.data == undefined) || (!output.data.hasOwnProperty(EXEC_MIME_TYPE))) {\n",
              "    return\n",
              "  }\n",
              "  var id = output.metadata[EXEC_MIME_TYPE][\"id\"];\n",
              "  var toinsert = output_area.element.find(\".\" + CLASS_NAME.split(' ')[0]);\n",
              "  if (id !== undefined) {\n",
              "    var nchildren = toinsert.length;\n",
              "    var html_node = toinsert[nchildren-1].children[0];\n",
              "    html_node.innerHTML = output.data[HTML_MIME_TYPE];\n",
              "    var scripts = [];\n",
              "    var nodelist = html_node.querySelectorAll(\"script\");\n",
              "    for (var i in nodelist) {\n",
              "      if (nodelist.hasOwnProperty(i)) {\n",
              "        scripts.push(nodelist[i])\n",
              "      }\n",
              "    }\n",
              "\n",
              "    scripts.forEach( function (oldScript) {\n",
              "      var newScript = document.createElement(\"script\");\n",
              "      var attrs = [];\n",
              "      var nodemap = oldScript.attributes;\n",
              "      for (var j in nodemap) {\n",
              "        if (nodemap.hasOwnProperty(j)) {\n",
              "          attrs.push(nodemap[j])\n",
              "        }\n",
              "      }\n",
              "      attrs.forEach(function(attr) { newScript.setAttribute(attr.name, attr.value) });\n",
              "      newScript.appendChild(document.createTextNode(oldScript.innerHTML));\n",
              "      oldScript.parentNode.replaceChild(newScript, oldScript);\n",
              "    });\n",
              "    if (JS_MIME_TYPE in output.data) {\n",
              "      toinsert[nchildren-1].children[1].textContent = output.data[JS_MIME_TYPE];\n",
              "    }\n",
              "    output_area._hv_plot_id = id;\n",
              "    if ((window.Bokeh !== undefined) && (id in Bokeh.index)) {\n",
              "      window.PyViz.plot_index[id] = Bokeh.index[id];\n",
              "    } else {\n",
              "      window.PyViz.plot_index[id] = null;\n",
              "    }\n",
              "  } else if (output.metadata[EXEC_MIME_TYPE][\"server_id\"] !== undefined) {\n",
              "    var bk_div = document.createElement(\"div\");\n",
              "    bk_div.innerHTML = output.data[HTML_MIME_TYPE];\n",
              "    var script_attrs = bk_div.children[0].attributes;\n",
              "    for (var i = 0; i < script_attrs.length; i++) {\n",
              "      toinsert[toinsert.length - 1].childNodes[1].setAttribute(script_attrs[i].name, script_attrs[i].value);\n",
              "    }\n",
              "    // store reference to server id on output_area\n",
              "    output_area._bokeh_server_id = output.metadata[EXEC_MIME_TYPE][\"server_id\"];\n",
              "  }\n",
              "}\n",
              "\n",
              "/**\n",
              " * Handle when an output is cleared or removed\n",
              " */\n",
              "function handle_clear_output(event, handle) {\n",
              "  var id = handle.cell.output_area._hv_plot_id;\n",
              "  var server_id = handle.cell.output_area._bokeh_server_id;\n",
              "  if (((id === undefined) || !(id in PyViz.plot_index)) && (server_id !== undefined)) { return; }\n",
              "  var comm = window.PyViz.comm_manager.get_client_comm(\"hv-extension-comm\", \"hv-extension-comm\", function () {});\n",
              "  if (server_id !== null) {\n",
              "    comm.send({event_type: 'server_delete', 'id': server_id});\n",
              "    return;\n",
              "  } else if (comm !== null) {\n",
              "    comm.send({event_type: 'delete', 'id': id});\n",
              "  }\n",
              "  delete PyViz.plot_index[id];\n",
              "  if ((window.Bokeh !== undefined) & (id in window.Bokeh.index)) {\n",
              "    var doc = window.Bokeh.index[id].model.document\n",
              "    doc.clear();\n",
              "    const i = window.Bokeh.documents.indexOf(doc);\n",
              "    if (i > -1) {\n",
              "      window.Bokeh.documents.splice(i, 1);\n",
              "    }\n",
              "  }\n",
              "}\n",
              "\n",
              "/**\n",
              " * Handle kernel restart event\n",
              " */\n",
              "function handle_kernel_cleanup(event, handle) {\n",
              "  delete PyViz.comms[\"hv-extension-comm\"];\n",
              "  window.PyViz.plot_index = {}\n",
              "}\n",
              "\n",
              "/**\n",
              " * Handle update_display_data messages\n",
              " */\n",
              "function handle_update_output(event, handle) {\n",
              "  handle_clear_output(event, {cell: {output_area: handle.output_area}})\n",
              "  handle_add_output(event, handle)\n",
              "}\n",
              "\n",
              "function register_renderer(events, OutputArea) {\n",
              "  function append_mime(data, metadata, element) {\n",
              "    // create a DOM node to render to\n",
              "    var toinsert = this.create_output_subarea(\n",
              "    metadata,\n",
              "    CLASS_NAME,\n",
              "    EXEC_MIME_TYPE\n",
              "    );\n",
              "    this.keyboard_manager.register_events(toinsert);\n",
              "    // Render to node\n",
              "    var props = {data: data, metadata: metadata[EXEC_MIME_TYPE]};\n",
              "    render(props, toinsert[0]);\n",
              "    element.append(toinsert);\n",
              "    return toinsert\n",
              "  }\n",
              "\n",
              "  events.on('output_added.OutputArea', handle_add_output);\n",
              "  events.on('output_updated.OutputArea', handle_update_output);\n",
              "  events.on('clear_output.CodeCell', handle_clear_output);\n",
              "  events.on('delete.Cell', handle_clear_output);\n",
              "  events.on('kernel_ready.Kernel', handle_kernel_cleanup);\n",
              "\n",
              "  OutputArea.prototype.register_mime_type(EXEC_MIME_TYPE, append_mime, {\n",
              "    safe: true,\n",
              "    index: 0\n",
              "  });\n",
              "}\n",
              "\n",
              "if (window.Jupyter !== undefined) {\n",
              "  try {\n",
              "    var events = require('base/js/events');\n",
              "    var OutputArea = require('notebook/js/outputarea').OutputArea;\n",
              "    if (OutputArea.prototype.mime_types().indexOf(EXEC_MIME_TYPE) == -1) {\n",
              "      register_renderer(events, OutputArea);\n",
              "    }\n",
              "  } catch(err) {\n",
              "  }\n",
              "}\n"
            ]
          },
          "metadata": {}
        },
        {
          "output_type": "display_data",
          "data": {
            "text/html": [
              "<div id='2bf37265-9c6e-4361-91fe-6860bdc947f3'>\n",
              "  <div id=\"fa7a1c7d-f747-401f-8532-8880ca3ffc4f\" data-root-id=\"2bf37265-9c6e-4361-91fe-6860bdc947f3\" style=\"display: contents;\"></div>\n",
              "</div>\n",
              "<script type=\"application/javascript\">(function(root) {\n",
              "  var docs_json = {\"725c38bd-6a7f-4b0a-b3c1-3cff3e1b5516\":{\"version\":\"3.6.2\",\"title\":\"Bokeh Application\",\"roots\":[{\"type\":\"object\",\"name\":\"panel.models.browser.BrowserInfo\",\"id\":\"2bf37265-9c6e-4361-91fe-6860bdc947f3\"},{\"type\":\"object\",\"name\":\"panel.models.comm_manager.CommManager\",\"id\":\"bb0a248a-540c-4c88-8d7e-37b4efcc92c7\",\"attributes\":{\"plot_id\":\"2bf37265-9c6e-4361-91fe-6860bdc947f3\",\"comm_id\":\"85a54aff221646178c1e14536416bc14\",\"client_comm_id\":\"ff412aa305524736aec282d3b9b9c5c7\"}}],\"defs\":[{\"type\":\"model\",\"name\":\"ReactiveHTML1\"},{\"type\":\"model\",\"name\":\"FlexBox1\",\"properties\":[{\"name\":\"align_content\",\"kind\":\"Any\",\"default\":\"flex-start\"},{\"name\":\"align_items\",\"kind\":\"Any\",\"default\":\"flex-start\"},{\"name\":\"flex_direction\",\"kind\":\"Any\",\"default\":\"row\"},{\"name\":\"flex_wrap\",\"kind\":\"Any\",\"default\":\"wrap\"},{\"name\":\"gap\",\"kind\":\"Any\",\"default\":\"\"},{\"name\":\"justify_content\",\"kind\":\"Any\",\"default\":\"flex-start\"}]},{\"type\":\"model\",\"name\":\"FloatPanel1\",\"properties\":[{\"name\":\"config\",\"kind\":\"Any\",\"default\":{\"type\":\"map\"}},{\"name\":\"contained\",\"kind\":\"Any\",\"default\":true},{\"name\":\"position\",\"kind\":\"Any\",\"default\":\"right-top\"},{\"name\":\"offsetx\",\"kind\":\"Any\",\"default\":null},{\"name\":\"offsety\",\"kind\":\"Any\",\"default\":null},{\"name\":\"theme\",\"kind\":\"Any\",\"default\":\"primary\"},{\"name\":\"status\",\"kind\":\"Any\",\"default\":\"normalized\"}]},{\"type\":\"model\",\"name\":\"GridStack1\",\"properties\":[{\"name\":\"mode\",\"kind\":\"Any\",\"default\":\"warn\"},{\"name\":\"ncols\",\"kind\":\"Any\",\"default\":null},{\"name\":\"nrows\",\"kind\":\"Any\",\"default\":null},{\"name\":\"allow_resize\",\"kind\":\"Any\",\"default\":true},{\"name\":\"allow_drag\",\"kind\":\"Any\",\"default\":true},{\"name\":\"state\",\"kind\":\"Any\",\"default\":[]}]},{\"type\":\"model\",\"name\":\"drag1\",\"properties\":[{\"name\":\"slider_width\",\"kind\":\"Any\",\"default\":5},{\"name\":\"slider_color\",\"kind\":\"Any\",\"default\":\"black\"},{\"name\":\"value\",\"kind\":\"Any\",\"default\":50}]},{\"type\":\"model\",\"name\":\"click1\",\"properties\":[{\"name\":\"terminal_output\",\"kind\":\"Any\",\"default\":\"\"},{\"name\":\"debug_name\",\"kind\":\"Any\",\"default\":\"\"},{\"name\":\"clears\",\"kind\":\"Any\",\"default\":0}]},{\"type\":\"model\",\"name\":\"FastWrapper1\",\"properties\":[{\"name\":\"object\",\"kind\":\"Any\",\"default\":null},{\"name\":\"style\",\"kind\":\"Any\",\"default\":null}]},{\"type\":\"model\",\"name\":\"NotificationAreaBase1\",\"properties\":[{\"name\":\"js_events\",\"kind\":\"Any\",\"default\":{\"type\":\"map\"}},{\"name\":\"position\",\"kind\":\"Any\",\"default\":\"bottom-right\"},{\"name\":\"_clear\",\"kind\":\"Any\",\"default\":0}]},{\"type\":\"model\",\"name\":\"NotificationArea1\",\"properties\":[{\"name\":\"js_events\",\"kind\":\"Any\",\"default\":{\"type\":\"map\"}},{\"name\":\"notifications\",\"kind\":\"Any\",\"default\":[]},{\"name\":\"position\",\"kind\":\"Any\",\"default\":\"bottom-right\"},{\"name\":\"_clear\",\"kind\":\"Any\",\"default\":0},{\"name\":\"types\",\"kind\":\"Any\",\"default\":[{\"type\":\"map\",\"entries\":[[\"type\",\"warning\"],[\"background\",\"#ffc107\"],[\"icon\",{\"type\":\"map\",\"entries\":[[\"className\",\"fas fa-exclamation-triangle\"],[\"tagName\",\"i\"],[\"color\",\"white\"]]}]]},{\"type\":\"map\",\"entries\":[[\"type\",\"info\"],[\"background\",\"#007bff\"],[\"icon\",{\"type\":\"map\",\"entries\":[[\"className\",\"fas fa-info-circle\"],[\"tagName\",\"i\"],[\"color\",\"white\"]]}]]}]}]},{\"type\":\"model\",\"name\":\"Notification\",\"properties\":[{\"name\":\"background\",\"kind\":\"Any\",\"default\":null},{\"name\":\"duration\",\"kind\":\"Any\",\"default\":3000},{\"name\":\"icon\",\"kind\":\"Any\",\"default\":null},{\"name\":\"message\",\"kind\":\"Any\",\"default\":\"\"},{\"name\":\"notification_type\",\"kind\":\"Any\",\"default\":null},{\"name\":\"_rendered\",\"kind\":\"Any\",\"default\":false},{\"name\":\"_destroyed\",\"kind\":\"Any\",\"default\":false}]},{\"type\":\"model\",\"name\":\"TemplateActions1\",\"properties\":[{\"name\":\"open_modal\",\"kind\":\"Any\",\"default\":0},{\"name\":\"close_modal\",\"kind\":\"Any\",\"default\":0}]},{\"type\":\"model\",\"name\":\"BootstrapTemplateActions1\",\"properties\":[{\"name\":\"open_modal\",\"kind\":\"Any\",\"default\":0},{\"name\":\"close_modal\",\"kind\":\"Any\",\"default\":0}]},{\"type\":\"model\",\"name\":\"TemplateEditor1\",\"properties\":[{\"name\":\"layout\",\"kind\":\"Any\",\"default\":[]}]},{\"type\":\"model\",\"name\":\"MaterialTemplateActions1\",\"properties\":[{\"name\":\"open_modal\",\"kind\":\"Any\",\"default\":0},{\"name\":\"close_modal\",\"kind\":\"Any\",\"default\":0}]},{\"type\":\"model\",\"name\":\"ReactiveESM1\",\"properties\":[{\"name\":\"esm_constants\",\"kind\":\"Any\",\"default\":{\"type\":\"map\"}}]},{\"type\":\"model\",\"name\":\"JSComponent1\",\"properties\":[{\"name\":\"esm_constants\",\"kind\":\"Any\",\"default\":{\"type\":\"map\"}}]},{\"type\":\"model\",\"name\":\"ReactComponent1\",\"properties\":[{\"name\":\"esm_constants\",\"kind\":\"Any\",\"default\":{\"type\":\"map\"}}]},{\"type\":\"model\",\"name\":\"AnyWidgetComponent1\",\"properties\":[{\"name\":\"esm_constants\",\"kind\":\"Any\",\"default\":{\"type\":\"map\"}}]},{\"type\":\"model\",\"name\":\"request_value1\",\"properties\":[{\"name\":\"fill\",\"kind\":\"Any\",\"default\":\"none\"},{\"name\":\"_synced\",\"kind\":\"Any\",\"default\":null},{\"name\":\"_request_sync\",\"kind\":\"Any\",\"default\":0}]}]}};\n",
              "  var render_items = [{\"docid\":\"725c38bd-6a7f-4b0a-b3c1-3cff3e1b5516\",\"roots\":{\"2bf37265-9c6e-4361-91fe-6860bdc947f3\":\"fa7a1c7d-f747-401f-8532-8880ca3ffc4f\"},\"root_ids\":[\"2bf37265-9c6e-4361-91fe-6860bdc947f3\"]}];\n",
              "  var docs = Object.values(docs_json)\n",
              "  if (!docs) {\n",
              "    return\n",
              "  }\n",
              "  const py_version = docs[0].version.replace('rc', '-rc.').replace('.dev', '-dev.')\n",
              "  async function embed_document(root) {\n",
              "    var Bokeh = get_bokeh(root)\n",
              "    await Bokeh.embed.embed_items_notebook(docs_json, render_items);\n",
              "    for (const render_item of render_items) {\n",
              "      for (const root_id of render_item.root_ids) {\n",
              "\tconst id_el = document.getElementById(root_id)\n",
              "\tif (id_el.children.length && id_el.children[0].hasAttribute('data-root-id')) {\n",
              "\t  const root_el = id_el.children[0]\n",
              "\t  root_el.id = root_el.id + '-rendered'\n",
              "\t  for (const child of root_el.children) {\n",
              "            // Ensure JupyterLab does not capture keyboard shortcuts\n",
              "            // see: https://jupyterlab.readthedocs.io/en/4.1.x/extension/notebook.html#keyboard-interaction-model\n",
              "\t    child.setAttribute('data-lm-suppress-shortcuts', 'true')\n",
              "\t  }\n",
              "\t}\n",
              "      }\n",
              "    }\n",
              "  }\n",
              "  function get_bokeh(root) {\n",
              "    if (root.Bokeh === undefined) {\n",
              "      return null\n",
              "    } else if (root.Bokeh.version !== py_version) {\n",
              "      if (root.Bokeh.versions === undefined || !root.Bokeh.versions.has(py_version)) {\n",
              "\treturn null\n",
              "      }\n",
              "      return root.Bokeh.versions.get(py_version);\n",
              "    } else if (root.Bokeh.version === py_version) {\n",
              "      return root.Bokeh\n",
              "    }\n",
              "    return null\n",
              "  }\n",
              "  function is_loaded(root) {\n",
              "    var Bokeh = get_bokeh(root)\n",
              "    return (Bokeh != null && Bokeh.Panel !== undefined)\n",
              "  }\n",
              "  if (is_loaded(root)) {\n",
              "    embed_document(root);\n",
              "  } else {\n",
              "    var attempts = 0;\n",
              "    var timer = setInterval(function(root) {\n",
              "      if (is_loaded(root)) {\n",
              "        clearInterval(timer);\n",
              "        embed_document(root);\n",
              "      } else if (document.readyState == \"complete\") {\n",
              "        attempts++;\n",
              "        if (attempts > 200) {\n",
              "          clearInterval(timer);\n",
              "\t  var Bokeh = get_bokeh(root)\n",
              "\t  if (Bokeh == null || Bokeh.Panel == null) {\n",
              "            console.warn(\"Panel: ERROR: Unable to run Panel code because Bokeh or Panel library is missing\");\n",
              "\t  } else {\n",
              "\t    console.warn(\"Panel: WARNING: Attempting to render but not all required libraries could be resolved.\")\n",
              "\t    embed_document(root)\n",
              "\t  }\n",
              "        }\n",
              "      }\n",
              "    }, 25, root)\n",
              "  }\n",
              "})(window);</script>"
            ],
            "application/vnd.holoviews_exec.v0+json": ""
          },
          "metadata": {
            "application/vnd.holoviews_exec.v0+json": {
              "id": "2bf37265-9c6e-4361-91fe-6860bdc947f3"
            }
          }
        },
        {
          "output_type": "display_data",
          "data": {
            "text/html": [
              "\n",
              "<div class=\"logo-block\">\n",
              "<img src='data:image/png;base64,iVBORw0KGgoAAAANSUhEUgAAAEAAAABACAYAAACqaXHeAAAABHNCSVQICAgIfAhkiAAAAAlwSFlz\n",
              "AAAB+wAAAfsBxc2miwAAABl0RVh0U29mdHdhcmUAd3d3Lmlua3NjYXBlLm9yZ5vuPBoAAA6zSURB\n",
              "VHic7ZtpeFRVmsf/5966taWqUlUJ2UioBBJiIBAwCZtog9IOgjqACsogKtqirT2ttt069nQ/zDzt\n",
              "tI4+CrJIREFaFgWhBXpUNhHZQoKBkIUASchWla1S+3ar7r1nPkDaCAnZKoQP/D7mnPOe9/xy76n3\n",
              "nFSAW9ziFoPFNED2LLK5wcyBDObkb8ZkxuaoSYlI6ZcOKq1eWFdedqNzGHQBk9RMEwFAASkk0Xw3\n",
              "ETacDNi2vtvc7L0ROdw0AjoSotQVkKSvHQz/wRO1lScGModBFbDMaNRN1A4tUBCS3lk7BWhQkgpD\n",
              "lG4852/+7DWr1R3uHAZVQDsbh6ZPN7CyxUrCzJMRouusj0ipRwD2uKm0Zn5d2dFwzX1TCGhnmdGo\n",
              "G62Nna+isiUqhkzuKrkQaJlPEv5mFl2fvGg2t/VnzkEV8F5ioioOEWkLG86fvbpthynjdhXYZziQ\n",
              "x1hC9J2NFyi8vCTt91Fh04KGip0AaG9zuCk2wQCVyoNU3Hjezee9bq92duzzTmxsRJoy+jEZZZYo\n",
              "GTKJ6SJngdJqAfRzpze0+jHreUtPc7gpBLQnIYK6BYp/uGhw9YK688eu7v95ysgshcg9qSLMo3JC\n",
              "4jqLKQFBgdKDPoQ+Pltb8dUyQLpeDjeVgI6EgLIQFT5tEl3rn2losHVsexbZ3EyT9wE1uGdkIPcy\n",
              "BGxn8QUq1QrA5nqW5i2tLqvrrM9NK6AdkVIvL9E9bZL/oyfMVd/jqvc8LylzRBKDJSzIExwhQzuL\n",
              "QYGQj4rHfFTc8mUdu3E7yoLtbTe9gI4EqVgVkug2i5+uXGo919ixbRog+3fTbQ8qJe4ZOYNfMoTI\n",
              "OoshUNosgO60AisX15aeI2PSIp5KiFLI9ubb1vV3Qb2ltwLakUCDAkWX7/nHKRmmGIl9VgYsUhJm\n",
              "2NXjKYADtM1ygne9QQDIXlk49FBstMKx66D1v4+XuQr7vqTe0VcBHQlRWiOCbmmSYe2SqtL6q5rJ\n",
              "zsTb7lKx3FKOYC4DoqyS/B5bvLPxvD9Qtf6saxYLQGJErmDOdOMr/zo96km1nElr8bmPOBwI9COv\n",
              "HnFPRIwmkSOv9kcAS4heRsidOkpeWBgZM+UBrTFAXNYL5Vf2ii9c1trNzpYdaoVil3WIc+wdk+gQ\n",
              "noie3ecCcxt9ITcLAPWt/laGEO/9U6PmzZkenTtsSMQ8uYywJVW+grCstAvCIaAdArAsIWkRDDs/\n",
              "KzLm2YcjY1Lv0UdW73HabE9n6V66cxSzfEmuJssTpKGVp+0vHq73FwL46eOjpMpbRAnNmJFrGJNu\n",
              "Ukf9Yrz+3rghiumCKNXXWPhLYcjxGsIpoCMsIRoFITkW8AuyM8jC1+/QLx4bozCEJIq38+1rtpR6\n",
              "V/yzb8eBlRb3fo5l783N0CWolAzJHaVNzkrTzlEp2bQ2q3TC5gn6wpnoQAmwSiGh2GitnTmVMc5O\n",
              "UyfKWUKCIsU7+fZDKwqdT6DDpvkzAX4/+AMFjk0tDp5GRXLpQ2MUmhgDp5gxQT8+Y7hyPsMi8uxF\n",
              "71H0oebujHALECjFKaW9Lm68n18wXp2kVzIcABytD5iXFzg+WVXkegpAsOOYziqo0OkK76GyquC3\n",
              "ltZAzMhhqlSNmmWTE5T6e3IN05ITFLM4GdN0vtZ3ob8Jh1NAKXFbm5PtLU/eqTSlGjkNAJjdgn/N\n",
              "aedXa0tdi7+t9G0FIF49rtMSEgAs1kDLkTPO7ebm4IUWeyh1bKomXqlgMG6kJmHcSM0clYLJ8XtR\n",
              "1GTnbV3F6I5wCGikAb402npp1h1s7LQUZZSMIfALFOuL3UUrfnS8+rez7v9qcold5tilgHbO1fjK\n",
              "9ubb17u9oshxzMiUBKXWqJNxd+fqb0tLVs4lILFnK71H0Ind7uiPgACVcFJlrb0tV6DzxqqTIhUM\n",
              "CwDf1/rrVhTa33/3pGPxJYdQ2l2cbgVcQSosdx8uqnDtbGjh9SlDVSMNWhlnilfqZk42Th2ZpLpf\n",
              "xrHec5e815zrr0dfBZSwzkZfqsv+1FS1KUknUwPARVvItfKUY+cn57yP7qv07UE3p8B2uhUwLk09\n",
              "e0SCOrK+hbdYHYLjRIl71wWzv9jpEoeOHhGRrJAzyEyNiJuUqX0g2sBN5kGK6y2Blp5M3lsB9Qh4\n",
              "y2Ja6x6+i0ucmKgwMATwhSjdUu49tKrQ/pvN5d53ml2CGwCmJipmKjgmyuaXzNeL2a0AkQ01Th5j\n",
              "2DktO3Jyk8f9vcOBQHV94OK+fPumJmvQHxJoWkaKWq9Vs+yUsbq0zGT1I4RgeH2b5wef7+c7bl8F\n",
              "eKgoHVVZa8ZPEORzR6sT1BzDUAD/d9F78e2Tzv99v8D+fLVTqAKAsbGamKey1Mt9Ann4eH3gTXTz\n",
              "idWtAJ8PQWOk7NzSeQn/OTHDuEikVF1R4z8BQCy+6D1aWRfY0tTGG2OM8rRoPaeIj5ZHzJxszElN\n",
              "VM8K8JS5WOfv8mzRnQAKoEhmt8gyPM4lU9SmBK1MCQBnW4KONT86v1hZ1PbwSXPw4JWussVjtH9Y\n",
              "NCoiL9UoH/6PSu8jFrfY2t36erQHXLIEakMi1SydmzB31h3GGXFDFNPaK8Rme9B79Ixrd0WN+1ij\n",
              "NRQ/doRmuFLBkHSTOm5GruG+pFjFdAmorG4IXH1Qua6ASniclfFtDYt+oUjKipPrCQB7QBQ2lrgP\n",
              "fFzm+9XWUtcqJ3/5vDLDpJ79XHZk3u8nGZ42qlj1+ydtbxysCezrydp6ugmipNJ7WBPB5tydY0jP\n",
              "HaVNzs3QzeE4ZpTbI+ZbnSFPbVOw9vsfnVvqWnirPyCNGD08IlqtYkh2hjZ5dErEQzoNm+6ykyOt\n",
              "Lt5/PQEuSRRKo22VkydK+vvS1XEKlhCJAnsqvcVvH7f/ZU2R67eXbMEGAMiIV5oWZWiWvz5Fv2xG\n",
              "sjqNJQRvn3Rs2lji/lNP19VjAQDgD7FHhujZB9OGqYxRkZxixgRDVlqS6uEOFaJUVu0rPFzctrnF\n",
              "JqijImVp8dEKVWyUXDk92zAuMZ6bFwpBU1HrOw6AdhQgUooChb0+ItMbWJitSo5Ws3IAOGEOtL53\n",
              "0vHZih9sC4vtofZ7Qu6523V/fmGcds1TY3V36pUsBwAbSlxnVh2xLfAD/IAIMDf7XYIkNmXfpp2l\n",
              "18rkAJAy9HKFaIr/qULkeQQKy9zf1JgDB2uaeFNGijo5QsUyacNUUTOnGO42xSnv4oOwpDi1zYkc\n",
              "efUc3I5Gk6PhyTuVKaOGyLUAYPGIoY9Pu/atL/L92+4q9wbflRJ2Trpm/jPjdBtfnqB/dIThcl8A\n",
              "KG7hbRuKnb8qsQsVvVlTrwQAQMUlf3kwJI24Z4JhPMtcfng5GcH49GsrxJpGvvHIaeem2ma+KSjQ\n",
              "lIwUdYyCY8j4dE1KzijNnIP2llF2wcXNnsoapw9XxsgYAl6k+KzUXbi2yP3KR2ecf6z3BFsBICdW\n",
              "nvnIaG3eHybqX7vbpEqUMT+9OL4Qpe8VON7dXuFd39v19FoAABRVePbGGuXTszO0P7tu6lghUonE\n",
              "llRdrhArLvmKdh9u29jcFiRRkfLUxBiFNiqSU9icoZQHo5mYBI1MBgBH6wMNb+U7Pnw337H4gi1Y\n",
              "ciWs+uks3Z9fztUvfzxTm9Ne8XXkvQLHNytOOZeiD4e0PgkAIAYCYknKUNUDSXEKzdWNpnil7r4p\n",
              "xqkjTarZMtk/K8TQ6Qve78qqvXurGwIJqcOUKfUWHsm8KGvxSP68YudXq4pcj39X49uOK2X142O0\n",
              "Tz5/u/7TVybqH0rSya6ZBwD21/gubbrgWdDgEOx9WUhfBaC2ibcEBYm7a7x+ukrBMNcEZggyR0TE\n",
              "T8zUPjikQ4VosQZbTpS4vqizBKvqmvjsqnpfzaZyx9JPiz1/bfGKdgD45XB1zoIMzYbfTdS/NClB\n",
              "Gct0USiY3YL/g0LHy/uq/Ef6uo5+n0R/vyhp17Klpge763f8rMu6YU/zrn2nml+2WtH+Z+5IAAFc\n",
              "2bUTdTDOSNa9+cQY7YLsOIXhevEkCvzph7a8laecz/Un/z4/Ae04XeL3UQb57IwU9ZDr9UuKVajv\n",
              "nxp1+1UVIo/LjztZkKH59fO3G/JemqCfmaCRqbqbd90ZZ8FfjtkfAyD0J/9+C2h1hDwsSxvGjNDc\n",
              "b4zk5NfrSwiQblLHzZhg+Jf4aPlUwpDqkQqa9nimbt1/TDH8OitGMaQnj+RJS6B1fbF7SY1TqO5v\n",
              "/v0WAADl1f7zokgS7s7VT2DZ7pegUjBM7mjtiDZbcN4j0YrHH0rXpCtY0qPX0cVL0rv5jv/ZXend\n",
              "0u/EESYBAFBU4T4Qa5TflZOhTe7pmKpaP8kCVUVw1+yhXfJWvn1P3hnXi33JsTN6PnP3hHZ8Z3/h\n",
              "aLHzmkNPuPj7Bc/F/Q38CwjTpSwQXgE4Vmwry9tpfq/ZFgqFMy4AVDtCvi8rvMvOmv0N4YwbVgEA\n",
              "sPM72/KVnzfspmH7HQGCRLG2yL1+z8XwvPcdCbsAANh+xPzstgMtxeGKt+6MK3/tacfvwhWvIwMi\n",
              "oKEBtm0H7W+UVfkc/Y1V0BhoPlDr/w1w/eu1vjIgAgDg22OtX6/eYfnEz/focrZTHAFR+PSs56/7\n",
              "q32nwpjazxgwAQCwcU/T62t3WL7r6/jVRa6/byp1rei+Z98ZUAEAhEPHPc8fKnTU9nbgtnOe8h0l\n",
              "9hcGIqmODLQAHCy2Xti6v/XNRivf43f4fFvIteu854+VHnR7q9tfBlwAAGz+pnndB9vM26UebAe8\n",
              "SLHujPOTPVW+rwY+sxskAAC2HrA8t2Vvc7ffP1r9o+vwR2dcr92InIAbKKC1FZ5tB1tf+/G8p8sv\n",
              "N/9Q5zd/XR34LYCwV5JdccMEAMDBk45DH243r/X4xGvqxFa/GNpS7n6rwOwNWwHVE26oAADYurf1\n",
              "zx/utOzt+DMKYM0p17YtZZ5VNzqfsB2HewG1WXE8PoZ7gOclbTIvynZf9JV+fqZtfgs/8F/Nu5rB\n",
              "EIBmJ+8QRMmpU7EzGRsf2FzuePqYRbzh/zE26EwdrT10f6r6o8HOYzCJB9Dpff8tbnGLG8L/A/WE\n",
              "roTBs2RqAAAAAElFTkSuQmCC'\n",
              "     style='height:25px; border-radius:12px; display: inline-block; float: left; vertical-align: middle'></img>\n",
              "\n",
              "\n",
              "  <img src='data:image/png;base64,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'\n",
              "       style='height:15px; border-radius:12px; display: inline-block; float: left'></img>\n",
              "  \n",
              "\n",
              "\n",
              "  <img src='data:image/png;base64,iVBORw0KGgoAAAANSUhEUgAAACAAAAAgCAYAAABzenr0AAAABHNCSVQICAgIfAhkiAAAAAlwSFlz\n",
              "AAAFMAAABTABZarKtgAAABl0RVh0U29mdHdhcmUAd3d3Lmlua3NjYXBlLm9yZ5vuPBoAAArNSURB\n",
              "VFiFnVd5VFNXGv/ee0kgGyQhbFoXIKCFYEXEDVErTucMoKUOWA/VLsNSLPQgFTOdyrHPiIp1lFIQ\n",
              "OlaPShEG3EpPcQmISCuV1bQ1CLKIULeQhJA9JO+9+UMT0x5aPfOdc895373f/e7v/t537/ddBF5Q\n",
              "JBIJl81mJwCACEVRQBCEQhAEAQCgnghCURRCkmS7Wq2+WlJSYn0Rv8jzDHAcD0EQJIVGo5mFQuGF\n",
              "jIyMu39kq1KpkOrq6gU6nS6aIAiGzWY7VVBQ0P9/AcjNzWXy+fxcOp2uiY+Przm0d6+n8dblv/Fo\n",
              "kzM4SzYfPlRePvFnjnt6ehh1dXVv2mw2nlar/byoqMj8wgBwHBchCJIZEhJSeu1yHVi7vtu02t8+\n",
              "NykQ7BMWoOUMhXQsXLv5IQAwSJJEEASxcDicoeTk5DtCoZBy9XX69Gnv3t7ebJIky3EcH3guAKlU\n",
              "GoGiaOKWLVsOvhs7/9XXPMde3/IyIFbMnaPDuD5AUdQuOf2XlD0npTExMWYAgNbWVpZcLg8xGAzB\n",
              "JEnSvby82tPT052LaTQatLy8fBtJkt/s3Lnz5h8CwHFcRKPRNu/YsePAjh072KTs0IGCxRg8RgUB\n",
              "TGpSx6cmHgMAfNqN6Xa1GvJ/D35gYAAViURkcXHxUrPZHDRv3rxv4uLiDI7xPXv2bLdYLBUFBQWD\n",
              "jj7M8ZGbm8tkMpmSrKysQiaTScXGxtpqL7dManT6tcu5mgEWWJyOhicozpk+c3NsbKzNFcBbWWEf\n",
              "1Td9/upA30i3ZJv0h8bGxiSFQmFcuHDhOACAWCy+0d3dvX3lypUtzc3N9t8AiIuLk4SEhByLiooy\n",
              "AgAcO3ZsNlPgH3Cttb35JZo+bCYXIQAA9MDiUW7sWS1KN687w6Mera2twa2trfMvXboUOS28Pyb1\n",
              "U08McRtf/sXBSmt5cc35pqamVQqFwhoZGallMpnU/fv3e7RaberVq1d/AABAn1IfQqfTNRs3blQB\n",
              "AFy+fJk7Nja2XCKRnD3dNSorusPq6NfTPR+gPiEEoLRFXO1tS2+zavv27ReftjNttyr0S1/j0rUP\n",
              "PEJQwNwQYGgAACQSyXmNRhMtk8lYAAApKSlKDMP0+fn5QU4ACIKkxMfH1zjYuHnz5uspKSlOfdX7\n",
              "u68fvOePcCzKQR4YVCgATGfa/F3pnzaHWOAXSDyaMCqH2+r8VXErP3D+snXr1tV2dXW94dATExOr\n",
              "6XT6JgAAVCKRcDEMM4WHh9sAAHJyUqNu//wDymKx7AAAVVVVPiaTKXxByrYMvBsxEMSTwPXhuL+8\n",
              "e/fu9fv371+flvbemogYNz+TnsBOFEwMFO8/KzEYDKFVVVX+AAChoaGT7u7ud48ePRro0DEMs+bl\n",
              "5bFRNpud4O3tfdGBzq5uy/5wTUPM/q2zC9atmbVqeHg4Pi0t7WxGRoZFH5rw76I7LI8HqHfwPL7d\n",
              "rfVagzw1NfW81t4ePUfsP/OrnWZ6fPSuUqFQSEkkkrOjo6OvuQR5q0ajiXLoPj4+lzgcTjwKACLH\n",
              "9SqXy2kzhBO8haGo+UA2wZW+p880DxeveGt9aHx9fT09ctlq3sC0NT9e6xsbjuZblSxl7wKtVotM\n",
              "m6PnXvlmZJBtX91CEMQsxyJsNlteXl4udugIghAajQYFAEhPTx9AEGQOimGY8y4oLt63KlJkdB4t\n",
              "P282Z/c/dPrDH04ktJ9P2tfWXP3+2o1vHzunEp6Xq0lsGt08KzUrcSGTQ3n3XeefLCs5UqnT6Rap\n",
              "VCoEACA7O/snvV4f5gJooLa2NsihoygKKEVRzquTND2OCpttGXdG1tOxwOlgzdvE9v30rV+m3W5I\n",
              "2jfJNQmLH85QUUzPNTwvkAx0+vVGhq2/VV9fT+dyuZ01NTXOXQOA3fGxevXq2waDYY5r8KIoij5b\n",
              "jzB5Cz2oKdOo0erOm+1tVuVtBMZXElNMRJR1fvvjx9iPLQ/RjpuB0Xu/Vp7YmH1864YNG3oNBkPw\n",
              "VD7mzp1rJUnSzZUBmqsBggAgGFC/n6jVA+3WoN3tu1Gg39cg2tEx1Cg3CIJHsclxnl2HRorMN8Z0\n",
              "fRW+vr7GJ36Q56Z5h9BIknzGAMJWtvdQYs0EZe3/FSwqk5tpXEMb1JoYD+n8xRdQJl/fMPEgzKhS\n",
              "L40KCD7lGzg92qIyovpb3y/msT2un2psvFpWVvYyl8vtc1nDSXFXV5c7iqLOtEyS5LNBAADfWeKm\n",
              "Ly4uuvR1++sfv51/P5sfnHm2/Iy+mBmwsaHJbpt+Q0jHSS7TZ/PSNVkNJ/973OxtemD1s91CPb12\n",
              "h9MfvZsk5meo1eqo5ORkxTNWn7HR1tY2l8PhOAsUiqIolCRJcETtv/61qzNySYK5trZ2TCgUUiwW\n",
              "S1FSUhLR+bA/kAzwXcAbHa/cFhrTXrJ/v+7IkSPu3Je4Xm5eboJv2wba5QbO5fQwxhsP679Y+nFO\n",
              "jgAAoKSkJILFYjnBGI1G0YYNGwYBnqRoiqIQlKKojurq6gUAAAKBgKQoiuGYkJWVpTCZTOKmI1Xd\n",
              "HwnDcm+cOnOMw+H0FxYWbqpvqv/r9EV+bky+O+/QoUPiqJRt9JphTLFHbKBCR87tWL9EPN9oNIZn\n",
              "ZWUpXHaMCQQCEgCgsrIyEgBuoGq1+qpOp4t2GPH5/BvFxcVLHXpgYGDD8ePH/56Xl2cCAMjMzOxP\n",
              "S0s7pWfow4RCbz/fAF9RT0+P9yeffHJySSqev+9nxLD1FaAlTR8vlJ8vxxzsFhUVLRMIBB0OvwaD\n",
              "YRlFUdfQkpISK0EQ9J6eHgYAQEZGxl2z2Rw0MjJCBwBITk5+xOVyfzpw4ECSw5lQKKQIbxtJm4EN\n",
              "8eZ7jPz0oNv+dK5FG/jq54eH+IFr/S1KabBy0UerAvI+++wzD4vFEpCWljYEACCTyVh2ux3FcXwS\n",
              "BQCw2WxVdXV1bzrQRURE1FVVVTn1zMzM/pkzZ35/9OjRd0pLS19RqVQIy4/tCwDgOcPTQvFQEQBA\n",
              "aWnpK0ERK2LbyVllN341GUJ4YDu8zD5bKyur7O+85tx9Z2fnO1ar9QjA04KkpaVFs2LFir8olcq7\n",
              "YWFhJpFINNnX16drbGyMjY6Ovg0AIBaLjcuXL5d3d3d7XbhwIW704b3F479MeD1qVfJ5Og/bvb4R\n",
              "LwaDMZabm9uwflNa/z/3HOIv5NsDEK7XS7FeevXPvYNLvm5S/GglCK5KpZorlUobXE8g5ObmMqVS\n",
              "6UG1Wu1BURSHoijOiRMnwgoLC7coFAqBo+9Fm0KhEKStmvvto3TeucFN7pVJYbytarXaQyqVHsRx\n",
              "3N15TF1BuBaljr4rV66wOzo63mAymXdzcnKuwwtIUVHRMqvVGkgQxMV7NXvyJijGvcNXB/7z5Zdf\n",
              "bicI4gSO40NTAgD4bVnuODIAT2pElUq1FEEQO4fD6QsPD++fqixHEATj8/ntjoCrqKhwS0hIsJWV\n",
              "leURBHEOx3G563pT3tn5+flBDAbjg6CgoMMpKSlK17GhoSFMJpMFPk04DJIkEQzDzCwW6+5UD5Oa\n",
              "mhrfO3fufECS5GHXnf8pAAAAHMfdURTdimGYPjExsTo0NHTyj2ynEplMxurs7HyHIAiKJMlSHMct\n",
              "U9k9N2vl5+cH0en0TRiGWX18fC65vnh+LxqNBq2oqFhgMpmi7XY7arVaj+zdu/fxn/l/4bSZl5fH\n",
              "5nK5CQAQMtXznCRJePpEbwOAZhzHX4ix/wHzzC/tu64gcwAAAABJRU5ErkJggg=='\n",
              "       style='height:15px; border-radius:12px; display: inline-block; float: left'></img>\n",
              "  \n",
              "\n",
              "\n",
              "</div>\n"
            ]
          },
          "metadata": {}
        }
      ],
      "source": [
        "import os\n",
        "import h5py\n",
        "import numpy as np\n",
        "import pandas as pd\n",
        "import geopandas as gp\n",
        "from shapely.geometry import Point\n",
        "import geoviews as gv\n",
        "from geoviews import opts, tile_sources as gvts\n",
        "import holoviews as hv\n",
        "gv.extension('bokeh', 'matplotlib')\n",
        "import shapely\n",
        "import warnings\n",
        "from shapely.errors import ShapelyDeprecationWarning\n",
        "warnings.filterwarnings(\"ignore\", category=ShapelyDeprecationWarning)\n",
        "\n",
        "os.chdir('../../')"
      ]
    },
    {
      "cell_type": "markdown",
      "metadata": {
        "id": "DS3sLrRCTah5"
      },
      "source": [
        "## 1.3 Set Up the Working Environment and Retrieve Files<a id=\"1.2\"></a>\n",
        "#### The input directory is defined as the current working directory. Note that you will need to have the Jupyter Notebook and example data (.h5 and .geojson) stored in this directory in order to execute the tutorial successfully."
      ]
    },
    {
      "cell_type": "code",
      "source": [
        "from google.colab import drive\n",
        "drive.mount('/content/drive')"
      ],
      "metadata": {
        "colab": {
          "base_uri": "https://localhost:8080/"
        },
        "id": "NaWeJMXpSc72",
        "outputId": "6e084273-8c1f-4a5f-e012-67722ac59334"
      },
      "execution_count": null,
      "outputs": [
        {
          "output_type": "stream",
          "name": "stdout",
          "text": [
            "Drive already mounted at /content/drive; to attempt to forcibly remount, call drive.mount(\"/content/drive\", force_remount=True).\n"
          ]
        }
      ]
    },
    {
      "cell_type": "markdown",
      "metadata": {
        "id": "lHdPYeOTTah6"
      },
      "source": [
        "#### You will need to download the file in order to execute this tutorial. Make sure to download the file into the `data` directory defined above.\n",
        "### Direct Link to file:\n",
        " - https://data.lpdaac.earthdatacloud.nasa.gov/lp-prod-protected/GEDI02_B.002/GEDI02_B_2019170155833_O02932_02_T02267_02_003_01_V002/GEDI02_B_2019170155833_O02932_02_T02267_02_003_01_V002.h5\n",
        "\n",
        "Alternatively, you can use `earthaccess` package to download the data."
      ]
    },
    {
      "cell_type": "code",
      "execution_count": null,
      "metadata": {
        "colab": {
          "referenced_widgets": [
            "a1eb71fa6a674b72bbd197014d808721",
            "8bfd8d9974be4ad5850feb8a9b2ce9f0",
            "a2fa4ffae9f84cae85be7673d6056103",
            "78ec3d9fad9341e3b7d9c275b01ab8c9",
            "60b2a5f3f7e94e46ab3aa4cf58e271d1",
            "d349013a8452404c9167b7c233a079de",
            "9e636a7f0ad14187b5297ea3382a7d30",
            "317fdd3868d24fa2a93ab2a7db4eed97",
            "71a73ff116184257981be20b4eab99e0",
            "fbbb1c605d2b42f485af3e31b06457d8",
            "bada98e3f54c4dfe9385006df65711c8",
            "6e09a66c4b6b4c9395f8ccb66cbd298e",
            "80e12bd7734543bcbc6eb1539fbf1c0a",
            "65bcedc1e421475ba8241cad3bc23c42",
            "778d7d5a9cac4abe9e8787e2bc0e5460",
            "ff6ca8d019974fb7af0be610378f9a55",
            "7a91ad9b8019412bac5d1b62a221508f",
            "45d2b6b725ef4d17bd6a81c6c0f243d2",
            "d72b3a10596b4196b707bdc7396ed358",
            "0cf6b249ee5f4d6c9a46ef1fe2e54a03",
            "4c01195d1335454886b0ed4af0c97f5e",
            "9f9e0fe4b815475994baec35e470b005",
            "9bf4ef7f44f949a39c1a51ef7847df43",
            "79fe4ed4a6924eab8f06feaede94453e",
            "187e9908627e4c8c8ed679fac6cc3d2c",
            "d9da46b658a04a178f2bb308e34c8701",
            "3783bd9906c44a70872027698f8e7000",
            "9d158dbe205d414fa800152d683392b5",
            "ac8a2b09d9a34e2586f168251bf79607",
            "0071f7da2df944659c4c819ee2d80aee",
            "7f1b53f4bb674e36bdc967860efc9dee",
            "c35c6abfa4524d28b741a2121ab31c6a",
            "6fbeebbd1ddf465a80d1d3ff3e71cfcc"
          ],
          "base_uri": "https://localhost:8080/",
          "height": 169
        },
        "id": "pK7uzfppTah6",
        "outputId": "921322c6-fef1-4231-e4a5-ff58a0a1e1cc"
      },
      "outputs": [
        {
          "output_type": "display_data",
          "data": {
            "text/plain": [
              "QUEUEING TASKS | :   0%|          | 0/1 [00:00<?, ?it/s]"
            ],
            "application/vnd.jupyter.widget-view+json": {
              "version_major": 2,
              "version_minor": 0,
              "model_id": "a1eb71fa6a674b72bbd197014d808721"
            }
          },
          "metadata": {}
        },
        {
          "output_type": "display_data",
          "data": {
            "text/plain": [
              "PROCESSING TASKS | :   0%|          | 0/1 [00:00<?, ?it/s]"
            ],
            "application/vnd.jupyter.widget-view+json": {
              "version_major": 2,
              "version_minor": 0,
              "model_id": "6e09a66c4b6b4c9395f8ccb66cbd298e"
            }
          },
          "metadata": {}
        },
        {
          "output_type": "display_data",
          "data": {
            "text/plain": [
              "COLLECTING RESULTS | :   0%|          | 0/1 [00:00<?, ?it/s]"
            ],
            "application/vnd.jupyter.widget-view+json": {
              "version_major": 2,
              "version_minor": 0,
              "model_id": "9bf4ef7f44f949a39c1a51ef7847df43"
            }
          },
          "metadata": {}
        }
      ],
      "source": [
        "# !pip install earthaccess==0.8.2\n",
        "import earthaccess\n",
        "earthaccess.login(persist=True)\n",
        "results = ['https://data.lpdaac.earthdatacloud.nasa.gov/lp-prod-protected/GEDI02_B.002/GEDI02_B_2022344195102_O22626_01_T06507_02_003_01_V002/GEDI02_B_2022344195102_O22626_01_T06507_02_003_01_V002.h5']\n",
        "# download\n",
        "downloaded_files = earthaccess.download(\n",
        "    results,\n",
        "    local_path='DATA/',\n",
        ")"
      ]
    },
    {
      "cell_type": "code",
      "execution_count": null,
      "metadata": {
        "id": "2o-J5zDvTah6",
        "outputId": "7f6664ef-579d-4b70-c7c9-185a16e4fc04",
        "colab": {
          "base_uri": "https://localhost:8080/"
        }
      },
      "outputs": [
        {
          "output_type": "execute_result",
          "data": {
            "text/plain": [
              "['GEDI02_B_2022344195102_O22626_01_T06507_02_003_01_V002.h5']"
            ]
          },
          "metadata": {},
          "execution_count": 5
        }
      ],
      "source": [
        "gediFiles = [g for g in os.listdir('DATA/') if g.startswith('GEDI02_B') and g.endswith('.h5')]  # List all GEDI L2B .h5 files in inDir\n",
        "gediFiles"
      ]
    },
    {
      "cell_type": "markdown",
      "metadata": {
        "id": "xgxrJD_rTah6"
      },
      "source": [
        "---\n",
        "# 2. Import and Interpret Data <a id=\"importinterpret\"></a>"
      ]
    },
    {
      "cell_type": "markdown",
      "metadata": {
        "id": "zak52OkvTah6"
      },
      "source": [
        "## 2.1 Open a GEDI HDF5 File and Read File Metadata <a id=\"2.1\"></a>\n",
        "#### Read the file using `h5py`."
      ]
    },
    {
      "cell_type": "code",
      "execution_count": null,
      "metadata": {
        "id": "X1bruP9xTah6",
        "outputId": "661885bf-b761-496d-ed49-becc70ec9695",
        "colab": {
          "base_uri": "https://localhost:8080/",
          "height": 36
        }
      },
      "outputs": [
        {
          "output_type": "execute_result",
          "data": {
            "text/plain": [
              "'DATA/GEDI02_B_2022344195102_O22626_01_T06507_02_003_01_V002.h5'"
            ],
            "application/vnd.google.colaboratory.intrinsic+json": {
              "type": "string"
            }
          },
          "metadata": {},
          "execution_count": 6
        }
      ],
      "source": [
        "L2B = f'DATA/{gediFiles[0]}'\n",
        "L2B"
      ]
    },
    {
      "cell_type": "markdown",
      "metadata": {
        "id": "KJn7TwvzTah6"
      },
      "source": [
        "#### The standard format  for GEDI Version 2 filenames is as follows:\n",
        "> **GEDI02_B**: Product Short Name    \n",
        "**2019170155833**: Julian Date and Time of Acquisition (YYYYDDDHHMMSS)  \n",
        "**O02932**: Orbit Number   \n",
        "**02**: Sub-Orbit Granule Number (1-4)  \n",
        "**T02267**: Track Number (Reference Ground Track)   \n",
        "**02**: Positioning and Pointing Determination System (PPDS) type (00 is predict, 01 rapid, 02 and higher is final)  \n",
        "**003**: PGE Version Number    \n",
        "**01**: Granule Production Version  \n",
        "**V002**: Product Version  "
      ]
    },
    {
      "cell_type": "markdown",
      "metadata": {
        "id": "WHzzQansTah6"
      },
      "source": [
        "#### Read in a GEDI HDF5 file using the `h5py` package."
      ]
    },
    {
      "cell_type": "code",
      "execution_count": null,
      "metadata": {
        "id": "4LmHXY_9Tah6"
      },
      "outputs": [],
      "source": [
        "gediL2B = h5py.File(L2B, 'r')  # Read file using h5py"
      ]
    },
    {
      "cell_type": "markdown",
      "metadata": {
        "id": "Hh9aEsVYTah6"
      },
      "source": [
        "#### Navigate the HDF5 file below."
      ]
    },
    {
      "cell_type": "code",
      "execution_count": null,
      "metadata": {
        "id": "gBgbIMZSTah6",
        "outputId": "2afc8be1-0157-4022-9c5e-7106d002fae3",
        "colab": {
          "base_uri": "https://localhost:8080/"
        }
      },
      "outputs": [
        {
          "output_type": "execute_result",
          "data": {
            "text/plain": [
              "['BEAM0000',\n",
              " 'BEAM0001',\n",
              " 'BEAM0010',\n",
              " 'BEAM0011',\n",
              " 'BEAM0101',\n",
              " 'BEAM0110',\n",
              " 'BEAM1000',\n",
              " 'BEAM1011',\n",
              " 'METADATA']"
            ]
          },
          "metadata": {},
          "execution_count": 8
        }
      ],
      "source": [
        "list(gediL2B.keys())"
      ]
    },
    {
      "cell_type": "markdown",
      "metadata": {
        "id": "oBPL7-X_Tah6"
      },
      "source": [
        "#### The GEDI HDF5 file contains groups in which data and metadata are stored.\n",
        "#### First, the `METADATA` group contains the file-level metadata."
      ]
    },
    {
      "cell_type": "code",
      "execution_count": null,
      "metadata": {
        "id": "OrHQpF8KTah6",
        "outputId": "155efec7-a890-4655-fc27-fc680535f632",
        "colab": {
          "base_uri": "https://localhost:8080/"
        }
      },
      "outputs": [
        {
          "output_type": "execute_result",
          "data": {
            "text/plain": [
              "['DatasetIdentification']"
            ]
          },
          "metadata": {},
          "execution_count": 9
        }
      ],
      "source": [
        "list(gediL2B['METADATA'])"
      ]
    },
    {
      "cell_type": "markdown",
      "metadata": {
        "id": "50rN392cTah7"
      },
      "source": [
        "This contains useful information such as the creation date, PGEVersion, and VersionID. Below, print the file-level metadata attributes."
      ]
    },
    {
      "cell_type": "code",
      "execution_count": null,
      "metadata": {
        "id": "2xNCkr8UTah7",
        "outputId": "674418ec-064a-4617-abaa-20a85b02f30d",
        "colab": {
          "base_uri": "https://localhost:8080/"
        }
      },
      "outputs": [
        {
          "output_type": "stream",
          "name": "stdout",
          "text": [
            "PGEVersion\n",
            "VersionID\n",
            "abstract\n",
            "characterSet\n",
            "creationDate\n",
            "credit\n",
            "fileName\n",
            "language\n",
            "originatorOrganizationName\n",
            "purpose\n",
            "shortName\n",
            "spatialRepresentationType\n",
            "status\n",
            "topicCategory\n",
            "uuid\n"
          ]
        }
      ],
      "source": [
        "for g in gediL2B['METADATA']['DatasetIdentification'].attrs:\n",
        "    print(g)"
      ]
    },
    {
      "cell_type": "code",
      "execution_count": null,
      "metadata": {
        "id": "t84iC9_pTah7",
        "outputId": "7d8507a8-b751-41a6-eb3c-6ced3318fad4",
        "colab": {
          "base_uri": "https://localhost:8080/"
        }
      },
      "outputs": [
        {
          "output_type": "stream",
          "name": "stdout",
          "text": [
            "The purpose of the L2B dataset is to extract biophysical metrics from each GEDI waveform. These metrics are based on the directional gap probability profile derived from the L1B waveform and include canopy cover, Plant Area Index (PAI), Plant Area Volume Density (PAVD) and Foliage Height Diversity (FHD).\n"
          ]
        }
      ],
      "source": [
        "print(gediL2B['METADATA']['DatasetIdentification'].attrs['purpose'])"
      ]
    },
    {
      "cell_type": "markdown",
      "metadata": {
        "id": "T7KqtKM-Tah7"
      },
      "source": [
        "## 2.2 Read SDS Metadata and Subset by Beam <a id=\"2.2\"></a>"
      ]
    },
    {
      "cell_type": "markdown",
      "metadata": {
        "id": "BtEQSoAPTah7"
      },
      "source": [
        "####  The GEDI instrument consists of 3 lasers producing a total of 8 beam ground transects. The eight remaining groups contain data for each of the eight GEDI beam transects. For additional information, be sure to check out: https://gedi.umd.edu/instrument/specifications/."
      ]
    },
    {
      "cell_type": "code",
      "execution_count": null,
      "metadata": {
        "id": "5A2bxGL8Tah7",
        "outputId": "6d275e6a-8d85-4526-ac95-7228b3bdeb90",
        "colab": {
          "base_uri": "https://localhost:8080/"
        }
      },
      "outputs": [
        {
          "output_type": "execute_result",
          "data": {
            "text/plain": [
              "['BEAM0000',\n",
              " 'BEAM0001',\n",
              " 'BEAM0010',\n",
              " 'BEAM0011',\n",
              " 'BEAM0101',\n",
              " 'BEAM0110',\n",
              " 'BEAM1000',\n",
              " 'BEAM1011']"
            ]
          },
          "metadata": {},
          "execution_count": 12
        }
      ],
      "source": [
        "beamNames = [g for g in gediL2B.keys() if g.startswith('BEAM')]\n",
        "beamNames"
      ]
    },
    {
      "cell_type": "markdown",
      "metadata": {
        "id": "uXdAkD9VTah7"
      },
      "source": [
        "#### One useful piece of metadata to retrieve from each beam transect is whether it is a full power beam or a coverage beam."
      ]
    },
    {
      "cell_type": "code",
      "execution_count": null,
      "metadata": {
        "id": "H-0_ADtZTah7",
        "outputId": "0ffe85d9-32d3-4b83-a928-8ddf725f4b99",
        "colab": {
          "base_uri": "https://localhost:8080/"
        }
      },
      "outputs": [
        {
          "output_type": "stream",
          "name": "stdout",
          "text": [
            "description\n",
            "wp-l2-l2b_githash\n",
            "wp-l2-l2b_version\n"
          ]
        }
      ],
      "source": [
        "for g in gediL2B['BEAM0000'].attrs: print(g)"
      ]
    },
    {
      "cell_type": "code",
      "execution_count": null,
      "metadata": {
        "id": "vFbErI-BTah7",
        "outputId": "4c0fd727-ffa1-4fcc-ce94-5d27dcc68675",
        "colab": {
          "base_uri": "https://localhost:8080/"
        }
      },
      "outputs": [
        {
          "output_type": "stream",
          "name": "stdout",
          "text": [
            "BEAM0000 is a Coverage beam\n",
            "BEAM0001 is a Coverage beam\n",
            "BEAM0010 is a Coverage beam\n",
            "BEAM0011 is a Coverage beam\n",
            "BEAM0101 is a Full power beam\n",
            "BEAM0110 is a Full power beam\n",
            "BEAM1000 is a Full power beam\n",
            "BEAM1011 is a Full power beam\n"
          ]
        }
      ],
      "source": [
        "for b in beamNames:\n",
        "    print(f\"{b} is a {gediL2B[b].attrs['description']}\")"
      ]
    },
    {
      "cell_type": "markdown",
      "metadata": {
        "id": "nFwyArPzTah7"
      },
      "source": [
        "#### Below, pick one of the full power beams that will be used to retrieve GEDI L2B shots in Section 3."
      ]
    },
    {
      "cell_type": "code",
      "execution_count": null,
      "metadata": {
        "id": "E47dmbFpTah7"
      },
      "outputs": [],
      "source": [
        "beamNames = ['BEAM1000']"
      ]
    },
    {
      "cell_type": "markdown",
      "metadata": {
        "id": "U8YRhdGNTah7"
      },
      "source": [
        "#### Identify all the objects in the GEDI HDF5 file below.\n",
        "Note: This step may take a while to complete."
      ]
    },
    {
      "cell_type": "code",
      "execution_count": null,
      "metadata": {
        "id": "uBP4vSmWTah7",
        "outputId": "56b26463-85f0-47e3-b5d1-429d63d80f7f",
        "colab": {
          "base_uri": "https://localhost:8080/"
        }
      },
      "outputs": [
        {
          "output_type": "execute_result",
          "data": {
            "text/plain": [
              "['BEAM1000/algorithmrun_flag',\n",
              " 'BEAM1000/ancillary/dz',\n",
              " 'BEAM1000/ancillary/l2a_alg_count',\n",
              " 'BEAM1000/ancillary/maxheight_cuttoff',\n",
              " 'BEAM1000/ancillary/rg_eg_constraint_center_buffer',\n",
              " 'BEAM1000/ancillary/rg_eg_mpfit_max_func_evals',\n",
              " 'BEAM1000/ancillary/rg_eg_mpfit_maxiters',\n",
              " 'BEAM1000/ancillary/rg_eg_mpfit_tolerance',\n",
              " 'BEAM1000/ancillary/signal_search_buff',\n",
              " 'BEAM1000/ancillary/tx_noise_stddev_multiplier']"
            ]
          },
          "metadata": {},
          "execution_count": 16
        }
      ],
      "source": [
        "gediL2B_objs = []\n",
        "gediL2B.visit(gediL2B_objs.append)                                           # Retrieve list of datasets\n",
        "gediSDS = [o for o in gediL2B_objs if isinstance(gediL2B[o], h5py.Dataset)]  # Search for relevant SDS inside data file\n",
        "[i for i in gediSDS if beamNames[0] in i][:10]                               # Print the first 10 datasets for selected beam"
      ]
    },
    {
      "cell_type": "markdown",
      "metadata": {
        "id": "iHIvJWyWTah7"
      },
      "source": [
        "---\n",
        "# 3. Visualize a GEDI Orbit <a id=\"visualizeorbit\"></a>\n",
        "#### In the section below, import GEDI L2B SDS layers into a `GeoPandas` GeoDataFrame for the beam specified above.\n",
        "#### Use the `lat_lowestmode` and `lon_lowestmode` to create a `shapely` point for each GEDI shot location."
      ]
    },
    {
      "cell_type": "markdown",
      "metadata": {
        "id": "yPwYeQ-mTah7"
      },
      "source": [
        "## 3.1 Subset by Layer and Create a Geodataframe <a id=\"3.1\"></a>"
      ]
    },
    {
      "cell_type": "markdown",
      "metadata": {
        "id": "Daj9ZGGkTah7"
      },
      "source": [
        "#### Read in the SDS and take a representative sample (every 100th shot) and append to lists, then use the lists to generate a `pandas` dataframe."
      ]
    },
    {
      "cell_type": "code",
      "execution_count": null,
      "metadata": {
        "id": "Va6O3DHETah7",
        "outputId": "0618b783-df45-4a02-b062-62daaf0c0d5e",
        "colab": {
          "base_uri": "https://localhost:8080/",
          "height": 423
        }
      },
      "outputs": [
        {
          "output_type": "execute_result",
          "data": {
            "text/plain": [
              "          Beam         Shot Number   Longitude   Latitude  Quality Flag\n",
              "0     BEAM1000  226260800100000001  113.471193 -43.811102             0\n",
              "1     BEAM1000  226260800100000101  113.502161 -43.796849             0\n",
              "2     BEAM1000  226260800100000201  113.533147 -43.782566             0\n",
              "3     BEAM1000  226260800100000301  113.562902 -43.768843             0\n",
              "4     BEAM1000  226260800100000401  113.592688 -43.755102             0\n",
              "...        ...                 ...         ...        ...           ...\n",
              "1059  BEAM1000  226260800100105901  155.480450  -4.202643             0\n",
              "1060  BEAM1000  226260800100106001  155.493912  -4.184152             0\n",
              "1061  BEAM1000  226260800100106101  155.510008  -4.161068             0\n",
              "1062  BEAM1000  226260800100106201  155.524909  -4.140045             0\n",
              "1063  BEAM1000  226260800100106301  155.539451  -4.119809             0\n",
              "\n",
              "[1064 rows x 5 columns]"
            ],
            "text/html": [
              "\n",
              "  <div id=\"df-ed158df0-02d3-424a-b7dc-acb3d7fc9c60\" class=\"colab-df-container\">\n",
              "    <div>\n",
              "<style scoped>\n",
              "    .dataframe tbody tr th:only-of-type {\n",
              "        vertical-align: middle;\n",
              "    }\n",
              "\n",
              "    .dataframe tbody tr th {\n",
              "        vertical-align: top;\n",
              "    }\n",
              "\n",
              "    .dataframe thead th {\n",
              "        text-align: right;\n",
              "    }\n",
              "</style>\n",
              "<table border=\"1\" class=\"dataframe\">\n",
              "  <thead>\n",
              "    <tr style=\"text-align: right;\">\n",
              "      <th></th>\n",
              "      <th>Beam</th>\n",
              "      <th>Shot Number</th>\n",
              "      <th>Longitude</th>\n",
              "      <th>Latitude</th>\n",
              "      <th>Quality Flag</th>\n",
              "    </tr>\n",
              "  </thead>\n",
              "  <tbody>\n",
              "    <tr>\n",
              "      <th>0</th>\n",
              "      <td>BEAM1000</td>\n",
              "      <td>226260800100000001</td>\n",
              "      <td>113.471193</td>\n",
              "      <td>-43.811102</td>\n",
              "      <td>0</td>\n",
              "    </tr>\n",
              "    <tr>\n",
              "      <th>1</th>\n",
              "      <td>BEAM1000</td>\n",
              "      <td>226260800100000101</td>\n",
              "      <td>113.502161</td>\n",
              "      <td>-43.796849</td>\n",
              "      <td>0</td>\n",
              "    </tr>\n",
              "    <tr>\n",
              "      <th>2</th>\n",
              "      <td>BEAM1000</td>\n",
              "      <td>226260800100000201</td>\n",
              "      <td>113.533147</td>\n",
              "      <td>-43.782566</td>\n",
              "      <td>0</td>\n",
              "    </tr>\n",
              "    <tr>\n",
              "      <th>3</th>\n",
              "      <td>BEAM1000</td>\n",
              "      <td>226260800100000301</td>\n",
              "      <td>113.562902</td>\n",
              "      <td>-43.768843</td>\n",
              "      <td>0</td>\n",
              "    </tr>\n",
              "    <tr>\n",
              "      <th>4</th>\n",
              "      <td>BEAM1000</td>\n",
              "      <td>226260800100000401</td>\n",
              "      <td>113.592688</td>\n",
              "      <td>-43.755102</td>\n",
              "      <td>0</td>\n",
              "    </tr>\n",
              "    <tr>\n",
              "      <th>...</th>\n",
              "      <td>...</td>\n",
              "      <td>...</td>\n",
              "      <td>...</td>\n",
              "      <td>...</td>\n",
              "      <td>...</td>\n",
              "    </tr>\n",
              "    <tr>\n",
              "      <th>1059</th>\n",
              "      <td>BEAM1000</td>\n",
              "      <td>226260800100105901</td>\n",
              "      <td>155.480450</td>\n",
              "      <td>-4.202643</td>\n",
              "      <td>0</td>\n",
              "    </tr>\n",
              "    <tr>\n",
              "      <th>1060</th>\n",
              "      <td>BEAM1000</td>\n",
              "      <td>226260800100106001</td>\n",
              "      <td>155.493912</td>\n",
              "      <td>-4.184152</td>\n",
              "      <td>0</td>\n",
              "    </tr>\n",
              "    <tr>\n",
              "      <th>1061</th>\n",
              "      <td>BEAM1000</td>\n",
              "      <td>226260800100106101</td>\n",
              "      <td>155.510008</td>\n",
              "      <td>-4.161068</td>\n",
              "      <td>0</td>\n",
              "    </tr>\n",
              "    <tr>\n",
              "      <th>1062</th>\n",
              "      <td>BEAM1000</td>\n",
              "      <td>226260800100106201</td>\n",
              "      <td>155.524909</td>\n",
              "      <td>-4.140045</td>\n",
              "      <td>0</td>\n",
              "    </tr>\n",
              "    <tr>\n",
              "      <th>1063</th>\n",
              "      <td>BEAM1000</td>\n",
              "      <td>226260800100106301</td>\n",
              "      <td>155.539451</td>\n",
              "      <td>-4.119809</td>\n",
              "      <td>0</td>\n",
              "    </tr>\n",
              "  </tbody>\n",
              "</table>\n",
              "<p>1064 rows × 5 columns</p>\n",
              "</div>\n",
              "    <div class=\"colab-df-buttons\">\n",
              "\n",
              "  <div class=\"colab-df-container\">\n",
              "    <button class=\"colab-df-convert\" onclick=\"convertToInteractive('df-ed158df0-02d3-424a-b7dc-acb3d7fc9c60')\"\n",
              "            title=\"Convert this dataframe to an interactive table.\"\n",
              "            style=\"display:none;\">\n",
              "\n",
              "  <svg xmlns=\"http://www.w3.org/2000/svg\" height=\"24px\" viewBox=\"0 -960 960 960\">\n",
              "    <path d=\"M120-120v-720h720v720H120Zm60-500h600v-160H180v160Zm220 220h160v-160H400v160Zm0 220h160v-160H400v160ZM180-400h160v-160H180v160Zm440 0h160v-160H620v160ZM180-180h160v-160H180v160Zm440 0h160v-160H620v160Z\"/>\n",
              "  </svg>\n",
              "    </button>\n",
              "\n",
              "  <style>\n",
              "    .colab-df-container {\n",
              "      display:flex;\n",
              "      gap: 12px;\n",
              "    }\n",
              "\n",
              "    .colab-df-convert {\n",
              "      background-color: #E8F0FE;\n",
              "      border: none;\n",
              "      border-radius: 50%;\n",
              "      cursor: pointer;\n",
              "      display: none;\n",
              "      fill: #1967D2;\n",
              "      height: 32px;\n",
              "      padding: 0 0 0 0;\n",
              "      width: 32px;\n",
              "    }\n",
              "\n",
              "    .colab-df-convert:hover {\n",
              "      background-color: #E2EBFA;\n",
              "      box-shadow: 0px 1px 2px rgba(60, 64, 67, 0.3), 0px 1px 3px 1px rgba(60, 64, 67, 0.15);\n",
              "      fill: #174EA6;\n",
              "    }\n",
              "\n",
              "    .colab-df-buttons div {\n",
              "      margin-bottom: 4px;\n",
              "    }\n",
              "\n",
              "    [theme=dark] .colab-df-convert {\n",
              "      background-color: #3B4455;\n",
              "      fill: #D2E3FC;\n",
              "    }\n",
              "\n",
              "    [theme=dark] .colab-df-convert:hover {\n",
              "      background-color: #434B5C;\n",
              "      box-shadow: 0px 1px 3px 1px rgba(0, 0, 0, 0.15);\n",
              "      filter: drop-shadow(0px 1px 2px rgba(0, 0, 0, 0.3));\n",
              "      fill: #FFFFFF;\n",
              "    }\n",
              "  </style>\n",
              "\n",
              "    <script>\n",
              "      const buttonEl =\n",
              "        document.querySelector('#df-ed158df0-02d3-424a-b7dc-acb3d7fc9c60 button.colab-df-convert');\n",
              "      buttonEl.style.display =\n",
              "        google.colab.kernel.accessAllowed ? 'block' : 'none';\n",
              "\n",
              "      async function convertToInteractive(key) {\n",
              "        const element = document.querySelector('#df-ed158df0-02d3-424a-b7dc-acb3d7fc9c60');\n",
              "        const dataTable =\n",
              "          await google.colab.kernel.invokeFunction('convertToInteractive',\n",
              "                                                    [key], {});\n",
              "        if (!dataTable) return;\n",
              "\n",
              "        const docLinkHtml = 'Like what you see? Visit the ' +\n",
              "          '<a target=\"_blank\" href=https://colab.research.google.com/notebooks/data_table.ipynb>data table notebook</a>'\n",
              "          + ' to learn more about interactive tables.';\n",
              "        element.innerHTML = '';\n",
              "        dataTable['output_type'] = 'display_data';\n",
              "        await google.colab.output.renderOutput(dataTable, element);\n",
              "        const docLink = document.createElement('div');\n",
              "        docLink.innerHTML = docLinkHtml;\n",
              "        element.appendChild(docLink);\n",
              "      }\n",
              "    </script>\n",
              "  </div>\n",
              "\n",
              "\n",
              "<div id=\"df-e64e53f0-fd77-4aa2-89e5-c9f1285cb821\">\n",
              "  <button class=\"colab-df-quickchart\" onclick=\"quickchart('df-e64e53f0-fd77-4aa2-89e5-c9f1285cb821')\"\n",
              "            title=\"Suggest charts\"\n",
              "            style=\"display:none;\">\n",
              "\n",
              "<svg xmlns=\"http://www.w3.org/2000/svg\" height=\"24px\"viewBox=\"0 0 24 24\"\n",
              "     width=\"24px\">\n",
              "    <g>\n",
              "        <path d=\"M19 3H5c-1.1 0-2 .9-2 2v14c0 1.1.9 2 2 2h14c1.1 0 2-.9 2-2V5c0-1.1-.9-2-2-2zM9 17H7v-7h2v7zm4 0h-2V7h2v10zm4 0h-2v-4h2v4z\"/>\n",
              "    </g>\n",
              "</svg>\n",
              "  </button>\n",
              "\n",
              "<style>\n",
              "  .colab-df-quickchart {\n",
              "      --bg-color: #E8F0FE;\n",
              "      --fill-color: #1967D2;\n",
              "      --hover-bg-color: #E2EBFA;\n",
              "      --hover-fill-color: #174EA6;\n",
              "      --disabled-fill-color: #AAA;\n",
              "      --disabled-bg-color: #DDD;\n",
              "  }\n",
              "\n",
              "  [theme=dark] .colab-df-quickchart {\n",
              "      --bg-color: #3B4455;\n",
              "      --fill-color: #D2E3FC;\n",
              "      --hover-bg-color: #434B5C;\n",
              "      --hover-fill-color: #FFFFFF;\n",
              "      --disabled-bg-color: #3B4455;\n",
              "      --disabled-fill-color: #666;\n",
              "  }\n",
              "\n",
              "  .colab-df-quickchart {\n",
              "    background-color: var(--bg-color);\n",
              "    border: none;\n",
              "    border-radius: 50%;\n",
              "    cursor: pointer;\n",
              "    display: none;\n",
              "    fill: var(--fill-color);\n",
              "    height: 32px;\n",
              "    padding: 0;\n",
              "    width: 32px;\n",
              "  }\n",
              "\n",
              "  .colab-df-quickchart:hover {\n",
              "    background-color: var(--hover-bg-color);\n",
              "    box-shadow: 0 1px 2px rgba(60, 64, 67, 0.3), 0 1px 3px 1px rgba(60, 64, 67, 0.15);\n",
              "    fill: var(--button-hover-fill-color);\n",
              "  }\n",
              "\n",
              "  .colab-df-quickchart-complete:disabled,\n",
              "  .colab-df-quickchart-complete:disabled:hover {\n",
              "    background-color: var(--disabled-bg-color);\n",
              "    fill: var(--disabled-fill-color);\n",
              "    box-shadow: none;\n",
              "  }\n",
              "\n",
              "  .colab-df-spinner {\n",
              "    border: 2px solid var(--fill-color);\n",
              "    border-color: transparent;\n",
              "    border-bottom-color: var(--fill-color);\n",
              "    animation:\n",
              "      spin 1s steps(1) infinite;\n",
              "  }\n",
              "\n",
              "  @keyframes spin {\n",
              "    0% {\n",
              "      border-color: transparent;\n",
              "      border-bottom-color: var(--fill-color);\n",
              "      border-left-color: var(--fill-color);\n",
              "    }\n",
              "    20% {\n",
              "      border-color: transparent;\n",
              "      border-left-color: var(--fill-color);\n",
              "      border-top-color: var(--fill-color);\n",
              "    }\n",
              "    30% {\n",
              "      border-color: transparent;\n",
              "      border-left-color: var(--fill-color);\n",
              "      border-top-color: var(--fill-color);\n",
              "      border-right-color: var(--fill-color);\n",
              "    }\n",
              "    40% {\n",
              "      border-color: transparent;\n",
              "      border-right-color: var(--fill-color);\n",
              "      border-top-color: var(--fill-color);\n",
              "    }\n",
              "    60% {\n",
              "      border-color: transparent;\n",
              "      border-right-color: var(--fill-color);\n",
              "    }\n",
              "    80% {\n",
              "      border-color: transparent;\n",
              "      border-right-color: var(--fill-color);\n",
              "      border-bottom-color: var(--fill-color);\n",
              "    }\n",
              "    90% {\n",
              "      border-color: transparent;\n",
              "      border-bottom-color: var(--fill-color);\n",
              "    }\n",
              "  }\n",
              "</style>\n",
              "\n",
              "  <script>\n",
              "    async function quickchart(key) {\n",
              "      const quickchartButtonEl =\n",
              "        document.querySelector('#' + key + ' button');\n",
              "      quickchartButtonEl.disabled = true;  // To prevent multiple clicks.\n",
              "      quickchartButtonEl.classList.add('colab-df-spinner');\n",
              "      try {\n",
              "        const charts = await google.colab.kernel.invokeFunction(\n",
              "            'suggestCharts', [key], {});\n",
              "      } catch (error) {\n",
              "        console.error('Error during call to suggestCharts:', error);\n",
              "      }\n",
              "      quickchartButtonEl.classList.remove('colab-df-spinner');\n",
              "      quickchartButtonEl.classList.add('colab-df-quickchart-complete');\n",
              "    }\n",
              "    (() => {\n",
              "      let quickchartButtonEl =\n",
              "        document.querySelector('#df-e64e53f0-fd77-4aa2-89e5-c9f1285cb821 button');\n",
              "      quickchartButtonEl.style.display =\n",
              "        google.colab.kernel.accessAllowed ? 'block' : 'none';\n",
              "    })();\n",
              "  </script>\n",
              "</div>\n",
              "\n",
              "  <div id=\"id_d84d96a6-1167-4fb2-a68e-dde01fb8a30a\">\n",
              "    <style>\n",
              "      .colab-df-generate {\n",
              "        background-color: #E8F0FE;\n",
              "        border: none;\n",
              "        border-radius: 50%;\n",
              "        cursor: pointer;\n",
              "        display: none;\n",
              "        fill: #1967D2;\n",
              "        height: 32px;\n",
              "        padding: 0 0 0 0;\n",
              "        width: 32px;\n",
              "      }\n",
              "\n",
              "      .colab-df-generate:hover {\n",
              "        background-color: #E2EBFA;\n",
              "        box-shadow: 0px 1px 2px rgba(60, 64, 67, 0.3), 0px 1px 3px 1px rgba(60, 64, 67, 0.15);\n",
              "        fill: #174EA6;\n",
              "      }\n",
              "\n",
              "      [theme=dark] .colab-df-generate {\n",
              "        background-color: #3B4455;\n",
              "        fill: #D2E3FC;\n",
              "      }\n",
              "\n",
              "      [theme=dark] .colab-df-generate:hover {\n",
              "        background-color: #434B5C;\n",
              "        box-shadow: 0px 1px 3px 1px rgba(0, 0, 0, 0.15);\n",
              "        filter: drop-shadow(0px 1px 2px rgba(0, 0, 0, 0.3));\n",
              "        fill: #FFFFFF;\n",
              "      }\n",
              "    </style>\n",
              "    <button class=\"colab-df-generate\" onclick=\"generateWithVariable('latslons')\"\n",
              "            title=\"Generate code using this dataframe.\"\n",
              "            style=\"display:none;\">\n",
              "\n",
              "  <svg xmlns=\"http://www.w3.org/2000/svg\" height=\"24px\"viewBox=\"0 0 24 24\"\n",
              "       width=\"24px\">\n",
              "    <path d=\"M7,19H8.4L18.45,9,17,7.55,7,17.6ZM5,21V16.75L18.45,3.32a2,2,0,0,1,2.83,0l1.4,1.43a1.91,1.91,0,0,1,.58,1.4,1.91,1.91,0,0,1-.58,1.4L9.25,21ZM18.45,9,17,7.55Zm-12,3A5.31,5.31,0,0,0,4.9,8.1,5.31,5.31,0,0,0,1,6.5,5.31,5.31,0,0,0,4.9,4.9,5.31,5.31,0,0,0,6.5,1,5.31,5.31,0,0,0,8.1,4.9,5.31,5.31,0,0,0,12,6.5,5.46,5.46,0,0,0,6.5,12Z\"/>\n",
              "  </svg>\n",
              "    </button>\n",
              "    <script>\n",
              "      (() => {\n",
              "      const buttonEl =\n",
              "        document.querySelector('#id_d84d96a6-1167-4fb2-a68e-dde01fb8a30a button.colab-df-generate');\n",
              "      buttonEl.style.display =\n",
              "        google.colab.kernel.accessAllowed ? 'block' : 'none';\n",
              "\n",
              "      buttonEl.onclick = () => {\n",
              "        google.colab.notebook.generateWithVariable('latslons');\n",
              "      }\n",
              "      })();\n",
              "    </script>\n",
              "  </div>\n",
              "\n",
              "    </div>\n",
              "  </div>\n"
            ],
            "application/vnd.google.colaboratory.intrinsic+json": {
              "type": "dataframe",
              "variable_name": "latslons",
              "summary": "{\n  \"name\": \"latslons\",\n  \"rows\": 1064,\n  \"fields\": [\n    {\n      \"column\": \"Beam\",\n      \"properties\": {\n        \"dtype\": \"category\",\n        \"num_unique_values\": 1,\n        \"samples\": [\n          \"BEAM1000\"\n        ],\n        \"semantic_type\": \"\",\n        \"description\": \"\"\n      }\n    },\n    {\n      \"column\": \"Shot Number\",\n      \"properties\": {\n        \"dtype\": \"string\",\n        \"num_unique_values\": 1064,\n        \"samples\": [\n          \"226260800100003101\"\n        ],\n        \"semantic_type\": \"\",\n        \"description\": \"\"\n      }\n    },\n    {\n      \"column\": \"Longitude\",\n      \"properties\": {\n        \"dtype\": \"number\",\n        \"std\": 12.073026539878132,\n        \"min\": 113.47119252332631,\n        \"max\": 155.5394508262037,\n        \"num_unique_values\": 1064,\n        \"samples\": [\n          114.88604900063332\n        ],\n        \"semantic_type\": \"\",\n        \"description\": \"\"\n      }\n    },\n    {\n      \"column\": \"Latitude\",\n      \"properties\": {\n        \"dtype\": \"number\",\n        \"std\": 11.7858003248076,\n        \"min\": -43.81110228239022,\n        \"max\": -4.119809388827878,\n        \"num_unique_values\": 1064,\n        \"samples\": [\n          -43.143575693462765\n        ],\n        \"semantic_type\": \"\",\n        \"description\": \"\"\n      }\n    },\n    {\n      \"column\": \"Quality Flag\",\n      \"properties\": {\n        \"dtype\": \"uint8\",\n        \"num_unique_values\": 2,\n        \"samples\": [\n          1\n        ],\n        \"semantic_type\": \"\",\n        \"description\": \"\"\n      }\n    }\n  ]\n}"
            }
          },
          "metadata": {},
          "execution_count": 17
        }
      ],
      "source": [
        "lonSample, latSample, shotSample, qualitySample, beamSample = [], [], [], [], []  # Set up lists to store data\n",
        "\n",
        "# Open the SDS\n",
        "lats = gediL2B[f'{beamNames[0]}/geolocation/lat_lowestmode'][()]\n",
        "lons = gediL2B[f'{beamNames[0]}/geolocation/lon_lowestmode'][()]\n",
        "shots = gediL2B[f'{beamNames[0]}/geolocation/shot_number'][()]\n",
        "quality = gediL2B[f'{beamNames[0]}/l2b_quality_flag'][()]\n",
        "\n",
        "# Take every 100th shot and append to list\n",
        "for i in range(len(shots)):\n",
        "    if i % 100 == 0:\n",
        "        shotSample.append(str(shots[i]))\n",
        "        lonSample.append(lons[i])\n",
        "        latSample.append(lats[i])\n",
        "        qualitySample.append(quality[i])\n",
        "        beamSample.append(beamNames[0])\n",
        "\n",
        "# Write all of the sample shots to a dataframe\n",
        "latslons = pd.DataFrame({'Beam': beamSample, 'Shot Number': shotSample, 'Longitude': lonSample, 'Latitude': latSample,\n",
        "                         'Quality Flag': qualitySample})\n",
        "latslons"
      ]
    },
    {
      "cell_type": "markdown",
      "metadata": {
        "id": "gtNOw8DzTah8"
      },
      "source": [
        "#### Above is a dataframe containing columns describing the beam, shot number, lat/lon location, and quality information about each shot."
      ]
    },
    {
      "cell_type": "markdown",
      "metadata": {
        "id": "oljlWyAqTah8"
      },
      "source": [
        "#### Below, create an additional column called 'geometry' that contains a `shapely` point generated from each lat/lon location from the shot."
      ]
    },
    {
      "cell_type": "code",
      "execution_count": null,
      "metadata": {
        "id": "beIyZ1IfTaiC"
      },
      "outputs": [],
      "source": [
        "# Take the lat/lon dataframe and convert each lat/lon to a shapely point\n",
        "latslons['geometry'] = latslons.apply(lambda row: Point(row.Longitude, row.Latitude), axis=1)"
      ]
    },
    {
      "cell_type": "markdown",
      "metadata": {
        "id": "eip-OdiXTaiC"
      },
      "source": [
        "#### Next, convert to a `Geopandas` GeoDataFrame."
      ]
    },
    {
      "cell_type": "code",
      "execution_count": null,
      "metadata": {
        "id": "kPJdIVDwTaiC",
        "outputId": "e025fcdd-2e28-4900-c750-1d54ae35aa99",
        "colab": {
          "base_uri": "https://localhost:8080/",
          "height": 458
        }
      },
      "outputs": [
        {
          "output_type": "execute_result",
          "data": {
            "text/plain": [
              "0        POINT (113.47119 -43.8111)\n",
              "1       POINT (113.50216 -43.79685)\n",
              "2       POINT (113.53315 -43.78257)\n",
              "3        POINT (113.5629 -43.76884)\n",
              "4        POINT (113.59269 -43.7551)\n",
              "                   ...             \n",
              "1059     POINT (155.48045 -4.20264)\n",
              "1060     POINT (155.49391 -4.18415)\n",
              "1061     POINT (155.51001 -4.16107)\n",
              "1062     POINT (155.52491 -4.14005)\n",
              "1063     POINT (155.53945 -4.11981)\n",
              "Name: geometry, Length: 1064, dtype: geometry"
            ],
            "text/html": [
              "<div>\n",
              "<style scoped>\n",
              "    .dataframe tbody tr th:only-of-type {\n",
              "        vertical-align: middle;\n",
              "    }\n",
              "\n",
              "    .dataframe tbody tr th {\n",
              "        vertical-align: top;\n",
              "    }\n",
              "\n",
              "    .dataframe thead th {\n",
              "        text-align: right;\n",
              "    }\n",
              "</style>\n",
              "<table border=\"1\" class=\"dataframe\">\n",
              "  <thead>\n",
              "    <tr style=\"text-align: right;\">\n",
              "      <th></th>\n",
              "      <th>geometry</th>\n",
              "    </tr>\n",
              "  </thead>\n",
              "  <tbody>\n",
              "    <tr>\n",
              "      <th>0</th>\n",
              "      <td>POINT (113.47119 -43.8111)</td>\n",
              "    </tr>\n",
              "    <tr>\n",
              "      <th>1</th>\n",
              "      <td>POINT (113.50216 -43.79685)</td>\n",
              "    </tr>\n",
              "    <tr>\n",
              "      <th>2</th>\n",
              "      <td>POINT (113.53315 -43.78257)</td>\n",
              "    </tr>\n",
              "    <tr>\n",
              "      <th>3</th>\n",
              "      <td>POINT (113.5629 -43.76884)</td>\n",
              "    </tr>\n",
              "    <tr>\n",
              "      <th>4</th>\n",
              "      <td>POINT (113.59269 -43.7551)</td>\n",
              "    </tr>\n",
              "    <tr>\n",
              "      <th>...</th>\n",
              "      <td>...</td>\n",
              "    </tr>\n",
              "    <tr>\n",
              "      <th>1059</th>\n",
              "      <td>POINT (155.48045 -4.20264)</td>\n",
              "    </tr>\n",
              "    <tr>\n",
              "      <th>1060</th>\n",
              "      <td>POINT (155.49391 -4.18415)</td>\n",
              "    </tr>\n",
              "    <tr>\n",
              "      <th>1061</th>\n",
              "      <td>POINT (155.51001 -4.16107)</td>\n",
              "    </tr>\n",
              "    <tr>\n",
              "      <th>1062</th>\n",
              "      <td>POINT (155.52491 -4.14005)</td>\n",
              "    </tr>\n",
              "    <tr>\n",
              "      <th>1063</th>\n",
              "      <td>POINT (155.53945 -4.11981)</td>\n",
              "    </tr>\n",
              "  </tbody>\n",
              "</table>\n",
              "<p>1064 rows × 1 columns</p>\n",
              "</div><br><label><b>dtype:</b> geometry</label>"
            ]
          },
          "metadata": {},
          "execution_count": 19
        }
      ],
      "source": [
        "# Convert to a Geodataframe\n",
        "latslons = gp.GeoDataFrame(latslons)\n",
        "latslons = latslons.drop(columns=['Latitude','Longitude'])\n",
        "latslons['geometry']"
      ]
    },
    {
      "cell_type": "markdown",
      "metadata": {
        "id": "kWLWO7o3TaiC"
      },
      "source": [
        "#### Pull out and plot an example `shapely` point below."
      ]
    },
    {
      "cell_type": "code",
      "execution_count": null,
      "metadata": {
        "scrolled": true,
        "id": "HrEpkVErTaiC",
        "outputId": "c963776e-a997-4168-de88-374c9c2dc304",
        "colab": {
          "base_uri": "https://localhost:8080/",
          "height": 121
        }
      },
      "outputs": [
        {
          "output_type": "execute_result",
          "data": {
            "text/plain": [
              "<POINT (113.471 -43.811)>"
            ],
            "image/svg+xml": "<svg xmlns=\"http://www.w3.org/2000/svg\" xmlns:xlink=\"http://www.w3.org/1999/xlink\" width=\"100.0\" height=\"100.0\" viewBox=\"112.47119252332631 -44.81110228239022 2.0 2.0\" preserveAspectRatio=\"xMinYMin meet\"><g transform=\"matrix(1,0,0,-1,0,-87.62220456478045)\"><circle cx=\"113.47119252332631\" cy=\"-43.81110228239022\" r=\"0.06\" stroke=\"#555555\" stroke-width=\"0.02\" fill=\"#66cc99\" opacity=\"0.6\" /></g></svg>"
          },
          "metadata": {},
          "execution_count": 20
        }
      ],
      "source": [
        "latslons['geometry'][0]"
      ]
    },
    {
      "cell_type": "markdown",
      "metadata": {
        "id": "6OMbsS-cTaiC"
      },
      "source": [
        "## 3.2 Visualize a GeoDataFrame <a id=\"3.2\"></a>\n",
        "#### In this section, use the GeoDataFrame and the `geoviews` python package to spatially visualize the location of the GEDI shots on a basemap and import a GeoJSON file of the spatial region of interest for the use case example: Redwood National Park."
      ]
    },
    {
      "cell_type": "code",
      "execution_count": null,
      "metadata": {
        "id": "mps1zykBTaiC"
      },
      "outputs": [],
      "source": [
        "# Define a function for visualizing GEDI points\n",
        "def pointVisual(features, vdims):\n",
        "    return (gvts.EsriImagery * gv.Points(features, vdims=vdims).options(tools=['hover'], height=500, width=900, size=5,\n",
        "                                                                        color='yellow', fontsize={'xticks': 10, 'yticks': 10,\n",
        "                                                                                                  'xlabel':16, 'ylabel': 16}))"
      ]
    },
    {
      "cell_type": "markdown",
      "metadata": {
        "id": "8VyTcJABTaiC"
      },
      "source": [
        "#### Import a GeoJSON of Redwood National Park as an additional GeoDataFrame. Note that you will need to have downloaded the [GeoJSON](https://git.earthdata.nasa.gov/projects/LPDUR/repos/gedi-v2-tutorials/browse/RedwoodNP.geojson) from the bitbucket repo containing this tutorial and have it saved in the same directory as this Jupyter Notebook."
      ]
    },
    {
      "cell_type": "code",
      "execution_count": null,
      "metadata": {
        "id": "lcWqZ2GGTaiC",
        "outputId": "e86b9048-a061-4655-c835-8313bc1f3dd6",
        "colab": {
          "base_uri": "https://localhost:8080/"
        }
      },
      "outputs": [
        {
          "output_type": "stream",
          "name": "stdout",
          "text": [
            "        lat       long     plot_name  alt_masl  area_ha mean_temp precip  \\\n",
            "0 -16.13658  145.44139  Oliver Creek        15   0.5050      25.3   3470   \n",
            "1 -16.21794  145.08522    Fantail LA       910   0.5240      20.2   2365   \n",
            "2 -16.27767  145.07139   Agapetes LA      1060   0.5081      19.5   2597   \n",
            "3 -16.28017  145.10231   Agapetes SA       800   0.5236      20.7   2097   \n",
            "4 -16.35542  145.33667     Whyanbeel       230   0.5401      24.4   2411   \n",
            "\n",
            "   AGB_estim  first_cens  last_censu  ...  stems_firs  stems_last  disturb_ev  \\\n",
            "0      589.0      1977.0      2012.0  ...       790.0       630.0               \n",
            "1      708.0      1980.0      2013.0  ...       878.0       778.0        None   \n",
            "2      674.0      1976.0      2013.0  ...      1104.0      1134.0               \n",
            "3      627.0      1978.0      2013.0  ...       992.0       848.0    D (2006)   \n",
            "4      551.0      1977.0      2012.0  ...      1002.0       818.0     c(1986)   \n",
            "\n",
            "  plot_num travel_day                base_acces  \\\n",
            "0     ep41          1        Cairns (1.5 hours)   \n",
            "1     ep44      1.5**  Atherton/Cairns (2 hour)   \n",
            "2     ep30      1.5**  Atherton/Cairns (2 hour)   \n",
            "3     ep40      1.5**  Atherton/Cairns (2 hour)   \n",
            "4     ep35       1.5*  Cairns/Atherton (1 hour)   \n",
            "\n",
            "                                               Notes access multitemp  \\\n",
            "0                      Short walk to plot (1/2 hour)      Y         Y   \n",
            "1  This is the walk - ~10 hours in due to having ...      N         N   \n",
            "2  Would do with Agapates SA and Fantail.  Short ...      /         N   \n",
            "3                              1 hour walk from road      /         N   \n",
            "4                  Long walk to plot (several hours)      N         N   \n",
            "\n",
            "                      geometry  \n",
            "0  POINT (145.44139 -16.13658)  \n",
            "1  POINT (145.08522 -16.21794)  \n",
            "2  POINT (145.07139 -16.27767)  \n",
            "3  POINT (145.10231 -16.28017)  \n",
            "4  POINT (145.33667 -16.35542)  \n",
            "\n",
            "[5 rows x 21 columns]\n"
          ]
        }
      ],
      "source": [
        "import geopandas as gpd\n",
        "plots = '/content/drive/MyDrive/Colab Notebooks/GEDI_course/DATA/plots.shp'\n",
        "gdf = gpd.read_file(plots, encoding='ISO-8859-1')\n",
        "print(gdf.head())"
      ]
    },
    {
      "cell_type": "code",
      "execution_count": null,
      "metadata": {
        "colab": {
          "referenced_widgets": [
            "9adc10ac8ade41a7bd462b03d5d41454",
            "11850d8be0f041f1beeeb61db3b5223e",
            "ec0b65fd11074168a71390ac0d5b2da8",
            "99b32bd1edc844fa86cf645de9364fc8",
            "0d2bfbe36279441fb03a4f8e469adc01",
            "6eef7d85f71a4713b9ae7461cf1f5ba8",
            "bcd04a0dd0ad4393818f7c669785640b",
            "9602cb5b4b874046b7b6688d343f8bb9",
            "8ac4207784fd415f8b252aacd0e8c56b",
            "a9ba411fa65f4b0da6d15f7c177b6e8d",
            "0b1c19f1038e4027bd254bbdfbca294e",
            "c276dc396d564c3eafada0786e5cbbf2",
            "62bc8f8e4a2d4747b08acfa975f452ea",
            "41d415be139a471b8a8f1cd6b1593e1e",
            "7fade1f3d2134d04a60be2cc92298715",
            "179472626e1249b0bf4d6a6f1f9492cf",
            "38f354c7e74e4652b7253ea8a8022303",
            "2e65f9c12c074642a332a35790101170",
            "3f5f103286664bb0abd1dd58d21daa2a",
            "fa1ac8916329421e8ee8d740af44dd4b",
            "5acd2b0be569433e9bab6bd84d6339b2",
            "791ceb6f42e54dc782a221dde1093516",
            "fb2af16a864d4ccc9e0ee0d85d7e5cba",
            "f76eb9c49f2c4232844c5e8c1d68767e",
            "d68cb7f3d5394ef8a5332d637244ea44",
            "2bf96751cd414c279579129d49e77292",
            "3ecfe426086b4a7989ef7bd9ba20f034",
            "0fdef225fff14c4cb3524639a82f4e98",
            "4d7d50b12ba740d7903f8665ac7b5cda",
            "2b860256902b418c89293b65aef00a0e",
            "804bc8f4e64c4f1eb59734d834d3a274",
            "220ca28f6df94662a2b2b000b5ab134d",
            "a9b8581b70cd4642b4228da352098daf",
            "0bd12d10a6124312a84ab3d901ae846e",
            "b5ec80ad2410471884b049cf7caad06c",
            "5af5b68c26b343af81b72ac32d3164d3",
            "eb89c6a7c6454082b714460a96ed4637",
            "5ec5579c8b1642aaabe7afa42cc8b00f",
            "28dab910aedb43f2ad247caac14611ff",
            "64c67aec06254626963ea72f3d55472a",
            "37a3e4a02bd049dd92275fe0e83a4e42",
            "688b2f68de9b49ed90ddc144f960e45f",
            "edcba03eb2d6489fa5d5f3e44f9a2096",
            "cbcefad099f94d1790e4cab1c0d073dc",
            "d595ff69f67045fd9f8f42c5b2fcf378",
            "1e887fdde4694c5fb5ad2039b5fdf345",
            "dba8320895d547cea0609aa53a47c23d",
            "9bd1a2aafb304c35850641d6762fde09",
            "0e9261dfaccb4e63b1d5ccf56501fc01",
            "26a38b9a7d1f4b478bb8149d0675806c",
            "8285e105dae14921aa457ccfdc37aca8",
            "1802764f4fa443758934a818ca6ef284",
            "2abf3d88054843bb9e1a263536d59edc"
          ],
          "base_uri": "https://localhost:8080/",
          "height": 621
        },
        "id": "KBdwtw17TaiD",
        "outputId": "e6dc8059-7907-41ef-a1be-83dd35f0e627"
      },
      "outputs": [
        {
          "output_type": "display_data",
          "data": {
            "text/plain": [
              "Map(center=[20, 0], controls=(ZoomControl(options=['position', 'zoom_in_text', 'zoom_in_title', 'zoom_out_text…"
            ],
            "application/vnd.jupyter.widget-view+json": {
              "version_major": 2,
              "version_minor": 0,
              "model_id": "2e65f9c12c074642a332a35790101170"
            }
          },
          "metadata": {
            "application/vnd.jupyter.widget-view+json": {
              "colab": {
                "custom_widget_manager": {
                  "url": "https://ssl.gstatic.com/colaboratory-static/widgets/colab-cdn-widget-manager/2b70e893a8ba7c0f/manager.min.js"
                }
              }
            }
          }
        }
      ],
      "source": [
        "import leafmap\n",
        "m = leafmap.Map()\n",
        "m.add_gdf(gdf, layer_name=\"Plots\")\n",
        "m"
      ]
    },
    {
      "cell_type": "code",
      "execution_count": null,
      "metadata": {
        "id": "dXcawkiNTaiD"
      },
      "outputs": [],
      "source": [
        "#define bounds of shape on map\n",
        "shape = m.user_roi\n",
        "shape"
      ]
    },
    {
      "cell_type": "code",
      "execution_count": null,
      "metadata": {
        "id": "eIiCRNiFTaiD",
        "outputId": "bd1ecf05-91a7-41bb-93a5-04c729e3bb33",
        "colab": {
          "base_uri": "https://localhost:8080/"
        }
      },
      "outputs": [
        {
          "output_type": "stream",
          "name": "stdout",
          "text": [
            "GeoJSON file saved as DATA/drawn_shape.geojson\n"
          ]
        }
      ],
      "source": [
        "import json\n",
        "# Define the output file name\n",
        "output_file = \"DATA/drawn_shape.geojson\"\n",
        "\n",
        "# Convert the shape to GeoJSON format\n",
        "geojson_data = {\n",
        "    \"type\": \"FeatureCollection\",\n",
        "    \"features\": [shape]\n",
        "}\n",
        "\n",
        "# Save as a GeoJSON file\n",
        "with open(output_file, 'w') as f:\n",
        "    json.dump(geojson_data, f, indent=4)\n",
        "\n",
        "print(f\"GeoJSON file saved as {output_file}\")"
      ]
    },
    {
      "cell_type": "code",
      "execution_count": null,
      "metadata": {
        "id": "HJA_lnt1TaiD"
      },
      "outputs": [],
      "source": [
        "QLD = gp.GeoDataFrame.from_file('DATA/drawn_shape.geojson')  # Import GeoJSON as GeoDataFrame"
      ]
    },
    {
      "cell_type": "markdown",
      "metadata": {
        "id": "ruXO1YyfTaiD"
      },
      "source": [
        "#### Defining the vdims below will allow you to hover over specific shots and view information about them."
      ]
    },
    {
      "cell_type": "code",
      "execution_count": null,
      "metadata": {
        "id": "dXhPr3EeTaiD",
        "outputId": "a7862744-71cc-4f6f-e6d4-04be23bdf66a",
        "colab": {
          "base_uri": "https://localhost:8080/"
        }
      },
      "outputs": [
        {
          "output_type": "execute_result",
          "data": {
            "text/plain": [
              "['Beam', 'Shot Number', 'Quality Flag']"
            ]
          },
          "metadata": {},
          "execution_count": 27
        }
      ],
      "source": [
        "# Create a list of geodataframe columns to be included as attributes in the output map\n",
        "vdims = []\n",
        "for f in latslons:\n",
        "    if f not in ['geometry']:\n",
        "        vdims.append(f)\n",
        "vdims"
      ]
    },
    {
      "cell_type": "markdown",
      "metadata": {
        "id": "OV_STeHLTaiD"
      },
      "source": [
        "#### Below, combine a plot of the Redwood National Park Boundary (combine two `geoviews` plots using `*`) with the point visual mapping function defined above in order to plot (1) the representative GEDI shots, (2) the region of interest, and (3) a basemap layer."
      ]
    },
    {
      "cell_type": "code",
      "execution_count": null,
      "metadata": {
        "id": "gFZX5a65TaiD",
        "outputId": "a429fc90-336c-4cb5-d9f1-de96696ba51b",
        "colab": {
          "base_uri": "https://localhost:8080/",
          "height": 547
        }
      },
      "outputs": [
        {
          "output_type": "display_data",
          "data": {
            "text/html": [
              "<script type=\"esms-options\">{\"shimMode\": true}</script><style>*[data-root-id],\n",
              "*[data-root-id] > * {\n",
              "  box-sizing: border-box;\n",
              "  font-family: var(--jp-ui-font-family);\n",
              "  font-size: var(--jp-ui-font-size1);\n",
              "  color: var(--vscode-editor-foreground, var(--jp-ui-font-color1));\n",
              "}\n",
              "\n",
              "/* Override VSCode background color */\n",
              ".cell-output-ipywidget-background:has(\n",
              "    > .cell-output-ipywidget-background > .lm-Widget > *[data-root-id]\n",
              "  ),\n",
              ".cell-output-ipywidget-background:has(> .lm-Widget > *[data-root-id]) {\n",
              "  background-color: transparent !important;\n",
              "}\n",
              "</style>"
            ]
          },
          "metadata": {}
        },
        {
          "output_type": "display_data",
          "data": {
            "application/javascript": [
              "(function(root) {\n",
              "  function now() {\n",
              "    return new Date();\n",
              "  }\n",
              "\n",
              "  const force = true;\n",
              "  const py_version = '3.6.2'.replace('rc', '-rc.').replace('.dev', '-dev.');\n",
              "  const reloading = false;\n",
              "  const Bokeh = root.Bokeh;\n",
              "\n",
              "  // Set a timeout for this load but only if we are not already initializing\n",
              "  if (typeof (root._bokeh_timeout) === \"undefined\" || (force || !root._bokeh_is_initializing)) {\n",
              "    root._bokeh_timeout = Date.now() + 5000;\n",
              "    root._bokeh_failed_load = false;\n",
              "  }\n",
              "\n",
              "  function run_callbacks() {\n",
              "    try {\n",
              "      root._bokeh_onload_callbacks.forEach(function(callback) {\n",
              "        if (callback != null)\n",
              "          callback();\n",
              "      });\n",
              "    } finally {\n",
              "      delete root._bokeh_onload_callbacks;\n",
              "    }\n",
              "    console.debug(\"Bokeh: all callbacks have finished\");\n",
              "  }\n",
              "\n",
              "  function load_libs(css_urls, js_urls, js_modules, js_exports, callback) {\n",
              "    if (css_urls == null) css_urls = [];\n",
              "    if (js_urls == null) js_urls = [];\n",
              "    if (js_modules == null) js_modules = [];\n",
              "    if (js_exports == null) js_exports = {};\n",
              "\n",
              "    root._bokeh_onload_callbacks.push(callback);\n",
              "\n",
              "    if (root._bokeh_is_loading > 0) {\n",
              "      // Don't load bokeh if it is still initializing\n",
              "      console.debug(\"Bokeh: BokehJS is being loaded, scheduling callback at\", now());\n",
              "      return null;\n",
              "    } else if (js_urls.length === 0 && js_modules.length === 0 && Object.keys(js_exports).length === 0) {\n",
              "      // There is nothing to load\n",
              "      run_callbacks();\n",
              "      return null;\n",
              "    }\n",
              "\n",
              "    function on_load() {\n",
              "      root._bokeh_is_loading--;\n",
              "      if (root._bokeh_is_loading === 0) {\n",
              "        console.debug(\"Bokeh: all BokehJS libraries/stylesheets loaded\");\n",
              "        run_callbacks()\n",
              "      }\n",
              "    }\n",
              "    window._bokeh_on_load = on_load\n",
              "\n",
              "    function on_error(e) {\n",
              "      const src_el = e.srcElement\n",
              "      console.error(\"failed to load \" + (src_el.href || src_el.src));\n",
              "    }\n",
              "\n",
              "    const skip = [];\n",
              "    if (window.requirejs) {\n",
              "      window.requirejs.config({'packages': {}, 'paths': {}, 'shim': {}});\n",
              "      root._bokeh_is_loading = css_urls.length + 0;\n",
              "    } else {\n",
              "      root._bokeh_is_loading = css_urls.length + js_urls.length + js_modules.length + Object.keys(js_exports).length;\n",
              "    }\n",
              "\n",
              "    const existing_stylesheets = []\n",
              "    const links = document.getElementsByTagName('link')\n",
              "    for (let i = 0; i < links.length; i++) {\n",
              "      const link = links[i]\n",
              "      if (link.href != null) {\n",
              "        existing_stylesheets.push(link.href)\n",
              "      }\n",
              "    }\n",
              "    for (let i = 0; i < css_urls.length; i++) {\n",
              "      const url = css_urls[i];\n",
              "      const escaped = encodeURI(url)\n",
              "      if (existing_stylesheets.indexOf(escaped) !== -1) {\n",
              "        on_load()\n",
              "        continue;\n",
              "      }\n",
              "      const element = document.createElement(\"link\");\n",
              "      element.onload = on_load;\n",
              "      element.onerror = on_error;\n",
              "      element.rel = \"stylesheet\";\n",
              "      element.type = \"text/css\";\n",
              "      element.href = url;\n",
              "      console.debug(\"Bokeh: injecting link tag for BokehJS stylesheet: \", url);\n",
              "      document.body.appendChild(element);\n",
              "    }    var existing_scripts = []\n",
              "    const scripts = document.getElementsByTagName('script')\n",
              "    for (let i = 0; i < scripts.length; i++) {\n",
              "      var script = scripts[i]\n",
              "      if (script.src != null) {\n",
              "        existing_scripts.push(script.src)\n",
              "      }\n",
              "    }\n",
              "    for (let i = 0; i < js_urls.length; i++) {\n",
              "      const url = js_urls[i];\n",
              "      const escaped = encodeURI(url)\n",
              "      if (skip.indexOf(escaped) !== -1 || existing_scripts.indexOf(escaped) !== -1) {\n",
              "        if (!window.requirejs) {\n",
              "          on_load();\n",
              "        }\n",
              "        continue;\n",
              "      }\n",
              "      const element = document.createElement('script');\n",
              "      element.onload = on_load;\n",
              "      element.onerror = on_error;\n",
              "      element.async = false;\n",
              "      element.src = url;\n",
              "      console.debug(\"Bokeh: injecting script tag for BokehJS library: \", url);\n",
              "      document.head.appendChild(element);\n",
              "    }\n",
              "    for (let i = 0; i < js_modules.length; i++) {\n",
              "      const url = js_modules[i];\n",
              "      const escaped = encodeURI(url)\n",
              "      if (skip.indexOf(escaped) !== -1 || existing_scripts.indexOf(escaped) !== -1) {\n",
              "        if (!window.requirejs) {\n",
              "          on_load();\n",
              "        }\n",
              "        continue;\n",
              "      }\n",
              "      var element = document.createElement('script');\n",
              "      element.onload = on_load;\n",
              "      element.onerror = on_error;\n",
              "      element.async = false;\n",
              "      element.src = url;\n",
              "      element.type = \"module\";\n",
              "      console.debug(\"Bokeh: injecting script tag for BokehJS library: \", url);\n",
              "      document.head.appendChild(element);\n",
              "    }\n",
              "    for (const name in js_exports) {\n",
              "      const url = js_exports[name];\n",
              "      const escaped = encodeURI(url)\n",
              "      if (skip.indexOf(escaped) >= 0 || root[name] != null) {\n",
              "        if (!window.requirejs) {\n",
              "          on_load();\n",
              "        }\n",
              "        continue;\n",
              "      }\n",
              "      var element = document.createElement('script');\n",
              "      element.onerror = on_error;\n",
              "      element.async = false;\n",
              "      element.type = \"module\";\n",
              "      console.debug(\"Bokeh: injecting script tag for BokehJS library: \", url);\n",
              "      element.textContent = `\n",
              "      import ${name} from \"${url}\"\n",
              "      window.${name} = ${name}\n",
              "      window._bokeh_on_load()\n",
              "      `\n",
              "      document.head.appendChild(element);\n",
              "    }\n",
              "    if (!js_urls.length && !js_modules.length) {\n",
              "      on_load()\n",
              "    }\n",
              "  };\n",
              "\n",
              "  function inject_raw_css(css) {\n",
              "    const element = document.createElement(\"style\");\n",
              "    element.appendChild(document.createTextNode(css));\n",
              "    document.body.appendChild(element);\n",
              "  }\n",
              "\n",
              "  const js_urls = [\"https://cdn.holoviz.org/panel/1.6.0/dist/bundled/reactiveesm/es-module-shims@^1.10.0/dist/es-module-shims.min.js\", \"https://cdn.bokeh.org/bokeh/release/bokeh-3.6.2.min.js\", \"https://cdn.bokeh.org/bokeh/release/bokeh-gl-3.6.2.min.js\", \"https://cdn.bokeh.org/bokeh/release/bokeh-widgets-3.6.2.min.js\", \"https://cdn.bokeh.org/bokeh/release/bokeh-tables-3.6.2.min.js\", \"https://cdn.holoviz.org/panel/1.6.0/dist/panel.min.js\", \"https://cdn.jsdelivr.net/npm/@holoviz/geoviews@1.14.0/dist/geoviews.min.js\"];\n",
              "  const js_modules = [];\n",
              "  const js_exports = {};\n",
              "  const css_urls = [];\n",
              "  const inline_js = [    function(Bokeh) {\n",
              "      Bokeh.set_log_level(\"info\");\n",
              "    },\n",
              "function(Bokeh) {} // ensure no trailing comma for IE\n",
              "  ];\n",
              "\n",
              "  function run_inline_js() {\n",
              "    if ((root.Bokeh !== undefined) || (force === true)) {\n",
              "      for (let i = 0; i < inline_js.length; i++) {\n",
              "        try {\n",
              "          inline_js[i].call(root, root.Bokeh);\n",
              "        } catch(e) {\n",
              "          if (!reloading) {\n",
              "            throw e;\n",
              "          }\n",
              "        }\n",
              "      }\n",
              "      // Cache old bokeh versions\n",
              "      if (Bokeh != undefined && !reloading) {\n",
              "        var NewBokeh = root.Bokeh;\n",
              "        if (Bokeh.versions === undefined) {\n",
              "          Bokeh.versions = new Map();\n",
              "        }\n",
              "        if (NewBokeh.version !== Bokeh.version) {\n",
              "          Bokeh.versions.set(NewBokeh.version, NewBokeh)\n",
              "        }\n",
              "        root.Bokeh = Bokeh;\n",
              "      }\n",
              "    } else if (Date.now() < root._bokeh_timeout) {\n",
              "      setTimeout(run_inline_js, 100);\n",
              "    } else if (!root._bokeh_failed_load) {\n",
              "      console.log(\"Bokeh: BokehJS failed to load within specified timeout.\");\n",
              "      root._bokeh_failed_load = true;\n",
              "    }\n",
              "    root._bokeh_is_initializing = false\n",
              "  }\n",
              "\n",
              "  function load_or_wait() {\n",
              "    // Implement a backoff loop that tries to ensure we do not load multiple\n",
              "    // versions of Bokeh and its dependencies at the same time.\n",
              "    // In recent versions we use the root._bokeh_is_initializing flag\n",
              "    // to determine whether there is an ongoing attempt to initialize\n",
              "    // bokeh, however for backward compatibility we also try to ensure\n",
              "    // that we do not start loading a newer (Panel>=1.0 and Bokeh>3) version\n",
              "    // before older versions are fully initialized.\n",
              "    if (root._bokeh_is_initializing && Date.now() > root._bokeh_timeout) {\n",
              "      // If the timeout and bokeh was not successfully loaded we reset\n",
              "      // everything and try loading again\n",
              "      root._bokeh_timeout = Date.now() + 5000;\n",
              "      root._bokeh_is_initializing = false;\n",
              "      root._bokeh_onload_callbacks = undefined;\n",
              "      root._bokeh_is_loading = 0\n",
              "      console.log(\"Bokeh: BokehJS was loaded multiple times but one version failed to initialize.\");\n",
              "      load_or_wait();\n",
              "    } else if (root._bokeh_is_initializing || (typeof root._bokeh_is_initializing === \"undefined\" && root._bokeh_onload_callbacks !== undefined)) {\n",
              "      setTimeout(load_or_wait, 100);\n",
              "    } else {\n",
              "      root._bokeh_is_initializing = true\n",
              "      root._bokeh_onload_callbacks = []\n",
              "      const bokeh_loaded = root.Bokeh != null && (root.Bokeh.version === py_version || (root.Bokeh.versions !== undefined && root.Bokeh.versions.has(py_version)));\n",
              "      if (!reloading && !bokeh_loaded) {\n",
              "        if (root.Bokeh) {\n",
              "          root.Bokeh = undefined;\n",
              "        }\n",
              "        console.debug(\"Bokeh: BokehJS not loaded, scheduling load and callback at\", now());\n",
              "      }\n",
              "      load_libs(css_urls, js_urls, js_modules, js_exports, function() {\n",
              "        console.debug(\"Bokeh: BokehJS plotting callback run at\", now());\n",
              "        run_inline_js();\n",
              "      });\n",
              "    }\n",
              "  }\n",
              "  // Give older versions of the autoload script a head-start to ensure\n",
              "  // they initialize before we start loading newer version.\n",
              "  setTimeout(load_or_wait, 100)\n",
              "}(window));"
            ],
            "application/vnd.holoviews_load.v0+json": "(function(root) {\n  function now() {\n    return new Date();\n  }\n\n  const force = true;\n  const py_version = '3.6.2'.replace('rc', '-rc.').replace('.dev', '-dev.');\n  const reloading = false;\n  const Bokeh = root.Bokeh;\n\n  // Set a timeout for this load but only if we are not already initializing\n  if (typeof (root._bokeh_timeout) === \"undefined\" || (force || !root._bokeh_is_initializing)) {\n    root._bokeh_timeout = Date.now() + 5000;\n    root._bokeh_failed_load = false;\n  }\n\n  function run_callbacks() {\n    try {\n      root._bokeh_onload_callbacks.forEach(function(callback) {\n        if (callback != null)\n          callback();\n      });\n    } finally {\n      delete root._bokeh_onload_callbacks;\n    }\n    console.debug(\"Bokeh: all callbacks have finished\");\n  }\n\n  function load_libs(css_urls, js_urls, js_modules, js_exports, callback) {\n    if (css_urls == null) css_urls = [];\n    if (js_urls == null) js_urls = [];\n    if (js_modules == null) js_modules = [];\n    if (js_exports == null) js_exports = {};\n\n    root._bokeh_onload_callbacks.push(callback);\n\n    if (root._bokeh_is_loading > 0) {\n      // Don't load bokeh if it is still initializing\n      console.debug(\"Bokeh: BokehJS is being loaded, scheduling callback at\", now());\n      return null;\n    } else if (js_urls.length === 0 && js_modules.length === 0 && Object.keys(js_exports).length === 0) {\n      // There is nothing to load\n      run_callbacks();\n      return null;\n    }\n\n    function on_load() {\n      root._bokeh_is_loading--;\n      if (root._bokeh_is_loading === 0) {\n        console.debug(\"Bokeh: all BokehJS libraries/stylesheets loaded\");\n        run_callbacks()\n      }\n    }\n    window._bokeh_on_load = on_load\n\n    function on_error(e) {\n      const src_el = e.srcElement\n      console.error(\"failed to load \" + (src_el.href || src_el.src));\n    }\n\n    const skip = [];\n    if (window.requirejs) {\n      window.requirejs.config({'packages': {}, 'paths': {}, 'shim': {}});\n      root._bokeh_is_loading = css_urls.length + 0;\n    } else {\n      root._bokeh_is_loading = css_urls.length + js_urls.length + js_modules.length + Object.keys(js_exports).length;\n    }\n\n    const existing_stylesheets = []\n    const links = document.getElementsByTagName('link')\n    for (let i = 0; i < links.length; i++) {\n      const link = links[i]\n      if (link.href != null) {\n        existing_stylesheets.push(link.href)\n      }\n    }\n    for (let i = 0; i < css_urls.length; i++) {\n      const url = css_urls[i];\n      const escaped = encodeURI(url)\n      if (existing_stylesheets.indexOf(escaped) !== -1) {\n        on_load()\n        continue;\n      }\n      const element = document.createElement(\"link\");\n      element.onload = on_load;\n      element.onerror = on_error;\n      element.rel = \"stylesheet\";\n      element.type = \"text/css\";\n      element.href = url;\n      console.debug(\"Bokeh: injecting link tag for BokehJS stylesheet: \", url);\n      document.body.appendChild(element);\n    }    var existing_scripts = []\n    const scripts = document.getElementsByTagName('script')\n    for (let i = 0; i < scripts.length; i++) {\n      var script = scripts[i]\n      if (script.src != null) {\n        existing_scripts.push(script.src)\n      }\n    }\n    for (let i = 0; i < js_urls.length; i++) {\n      const url = js_urls[i];\n      const escaped = encodeURI(url)\n      if (skip.indexOf(escaped) !== -1 || existing_scripts.indexOf(escaped) !== -1) {\n        if (!window.requirejs) {\n          on_load();\n        }\n        continue;\n      }\n      const element = document.createElement('script');\n      element.onload = on_load;\n      element.onerror = on_error;\n      element.async = false;\n      element.src = url;\n      console.debug(\"Bokeh: injecting script tag for BokehJS library: \", url);\n      document.head.appendChild(element);\n    }\n    for (let i = 0; i < js_modules.length; i++) {\n      const url = js_modules[i];\n      const escaped = encodeURI(url)\n      if (skip.indexOf(escaped) !== -1 || existing_scripts.indexOf(escaped) !== -1) {\n        if (!window.requirejs) {\n          on_load();\n        }\n        continue;\n      }\n      var element = document.createElement('script');\n      element.onload = on_load;\n      element.onerror = on_error;\n      element.async = false;\n      element.src = url;\n      element.type = \"module\";\n      console.debug(\"Bokeh: injecting script tag for BokehJS library: \", url);\n      document.head.appendChild(element);\n    }\n    for (const name in js_exports) {\n      const url = js_exports[name];\n      const escaped = encodeURI(url)\n      if (skip.indexOf(escaped) >= 0 || root[name] != null) {\n        if (!window.requirejs) {\n          on_load();\n        }\n        continue;\n      }\n      var element = document.createElement('script');\n      element.onerror = on_error;\n      element.async = false;\n      element.type = \"module\";\n      console.debug(\"Bokeh: injecting script tag for BokehJS library: \", url);\n      element.textContent = `\n      import ${name} from \"${url}\"\n      window.${name} = ${name}\n      window._bokeh_on_load()\n      `\n      document.head.appendChild(element);\n    }\n    if (!js_urls.length && !js_modules.length) {\n      on_load()\n    }\n  };\n\n  function inject_raw_css(css) {\n    const element = document.createElement(\"style\");\n    element.appendChild(document.createTextNode(css));\n    document.body.appendChild(element);\n  }\n\n  const js_urls = [\"https://cdn.holoviz.org/panel/1.6.0/dist/bundled/reactiveesm/es-module-shims@^1.10.0/dist/es-module-shims.min.js\", \"https://cdn.bokeh.org/bokeh/release/bokeh-3.6.2.min.js\", \"https://cdn.bokeh.org/bokeh/release/bokeh-gl-3.6.2.min.js\", \"https://cdn.bokeh.org/bokeh/release/bokeh-widgets-3.6.2.min.js\", \"https://cdn.bokeh.org/bokeh/release/bokeh-tables-3.6.2.min.js\", \"https://cdn.holoviz.org/panel/1.6.0/dist/panel.min.js\", \"https://cdn.jsdelivr.net/npm/@holoviz/geoviews@1.14.0/dist/geoviews.min.js\"];\n  const js_modules = [];\n  const js_exports = {};\n  const css_urls = [];\n  const inline_js = [    function(Bokeh) {\n      Bokeh.set_log_level(\"info\");\n    },\nfunction(Bokeh) {} // ensure no trailing comma for IE\n  ];\n\n  function run_inline_js() {\n    if ((root.Bokeh !== undefined) || (force === true)) {\n      for (let i = 0; i < inline_js.length; i++) {\n        try {\n          inline_js[i].call(root, root.Bokeh);\n        } catch(e) {\n          if (!reloading) {\n            throw e;\n          }\n        }\n      }\n      // Cache old bokeh versions\n      if (Bokeh != undefined && !reloading) {\n        var NewBokeh = root.Bokeh;\n        if (Bokeh.versions === undefined) {\n          Bokeh.versions = new Map();\n        }\n        if (NewBokeh.version !== Bokeh.version) {\n          Bokeh.versions.set(NewBokeh.version, NewBokeh)\n        }\n        root.Bokeh = Bokeh;\n      }\n    } else if (Date.now() < root._bokeh_timeout) {\n      setTimeout(run_inline_js, 100);\n    } else if (!root._bokeh_failed_load) {\n      console.log(\"Bokeh: BokehJS failed to load within specified timeout.\");\n      root._bokeh_failed_load = true;\n    }\n    root._bokeh_is_initializing = false\n  }\n\n  function load_or_wait() {\n    // Implement a backoff loop that tries to ensure we do not load multiple\n    // versions of Bokeh and its dependencies at the same time.\n    // In recent versions we use the root._bokeh_is_initializing flag\n    // to determine whether there is an ongoing attempt to initialize\n    // bokeh, however for backward compatibility we also try to ensure\n    // that we do not start loading a newer (Panel>=1.0 and Bokeh>3) version\n    // before older versions are fully initialized.\n    if (root._bokeh_is_initializing && Date.now() > root._bokeh_timeout) {\n      // If the timeout and bokeh was not successfully loaded we reset\n      // everything and try loading again\n      root._bokeh_timeout = Date.now() + 5000;\n      root._bokeh_is_initializing = false;\n      root._bokeh_onload_callbacks = undefined;\n      root._bokeh_is_loading = 0\n      console.log(\"Bokeh: BokehJS was loaded multiple times but one version failed to initialize.\");\n      load_or_wait();\n    } else if (root._bokeh_is_initializing || (typeof root._bokeh_is_initializing === \"undefined\" && root._bokeh_onload_callbacks !== undefined)) {\n      setTimeout(load_or_wait, 100);\n    } else {\n      root._bokeh_is_initializing = true\n      root._bokeh_onload_callbacks = []\n      const bokeh_loaded = root.Bokeh != null && (root.Bokeh.version === py_version || (root.Bokeh.versions !== undefined && root.Bokeh.versions.has(py_version)));\n      if (!reloading && !bokeh_loaded) {\n        if (root.Bokeh) {\n          root.Bokeh = undefined;\n        }\n        console.debug(\"Bokeh: BokehJS not loaded, scheduling load and callback at\", now());\n      }\n      load_libs(css_urls, js_urls, js_modules, js_exports, function() {\n        console.debug(\"Bokeh: BokehJS plotting callback run at\", now());\n        run_inline_js();\n      });\n    }\n  }\n  // Give older versions of the autoload script a head-start to ensure\n  // they initialize before we start loading newer version.\n  setTimeout(load_or_wait, 100)\n}(window));"
          },
          "metadata": {}
        },
        {
          "output_type": "display_data",
          "data": {
            "application/vnd.holoviews_load.v0+json": "\nif ((window.PyViz === undefined) || (window.PyViz instanceof HTMLElement)) {\n  window.PyViz = {comms: {}, comm_status:{}, kernels:{}, receivers: {}, plot_index: []}\n}\n\n\n    function JupyterCommManager() {\n    }\n\n    JupyterCommManager.prototype.register_target = function(plot_id, comm_id, msg_handler) {\n      if (window.comm_manager || ((window.Jupyter !== undefined) && (Jupyter.notebook.kernel != null))) {\n        var comm_manager = window.comm_manager || Jupyter.notebook.kernel.comm_manager;\n        comm_manager.register_target(comm_id, function(comm) {\n          comm.on_msg(msg_handler);\n        });\n      } else if ((plot_id in window.PyViz.kernels) && (window.PyViz.kernels[plot_id])) {\n        window.PyViz.kernels[plot_id].registerCommTarget(comm_id, function(comm) {\n          comm.onMsg = msg_handler;\n        });\n      } else if (typeof google != 'undefined' && google.colab.kernel != null) {\n        google.colab.kernel.comms.registerTarget(comm_id, (comm) => {\n          var messages = comm.messages[Symbol.asyncIterator]();\n          function processIteratorResult(result) {\n            var message = result.value;\n            console.log(message)\n            var content = {data: message.data, comm_id};\n            var buffers = []\n            for (var buffer of message.buffers || []) {\n              buffers.push(new DataView(buffer))\n            }\n            var metadata = message.metadata || {};\n            var msg = {content, buffers, metadata}\n            msg_handler(msg);\n            return messages.next().then(processIteratorResult);\n          }\n          return messages.next().then(processIteratorResult);\n        })\n      }\n    }\n\n    JupyterCommManager.prototype.get_client_comm = function(plot_id, comm_id, msg_handler) {\n      if (comm_id in window.PyViz.comms) {\n        return window.PyViz.comms[comm_id];\n      } else if (window.comm_manager || ((window.Jupyter !== undefined) && (Jupyter.notebook.kernel != null))) {\n        var comm_manager = window.comm_manager || Jupyter.notebook.kernel.comm_manager;\n        var comm = comm_manager.new_comm(comm_id, {}, {}, {}, comm_id);\n        if (msg_handler) {\n          comm.on_msg(msg_handler);\n        }\n      } else if ((plot_id in window.PyViz.kernels) && (window.PyViz.kernels[plot_id])) {\n        var comm = window.PyViz.kernels[plot_id].connectToComm(comm_id);\n        comm.open();\n        if (msg_handler) {\n          comm.onMsg = msg_handler;\n        }\n      } else if (typeof google != 'undefined' && google.colab.kernel != null) {\n        var comm_promise = google.colab.kernel.comms.open(comm_id)\n        comm_promise.then((comm) => {\n          window.PyViz.comms[comm_id] = comm;\n          if (msg_handler) {\n            var messages = comm.messages[Symbol.asyncIterator]();\n            function processIteratorResult(result) {\n              var message = result.value;\n              var content = {data: message.data};\n              var metadata = message.metadata || {comm_id};\n              var msg = {content, metadata}\n              msg_handler(msg);\n              return messages.next().then(processIteratorResult);\n            }\n            return messages.next().then(processIteratorResult);\n          }\n        })\n        var sendClosure = (data, metadata, buffers, disposeOnDone) => {\n          return comm_promise.then((comm) => {\n            comm.send(data, metadata, buffers, disposeOnDone);\n          });\n        };\n        var comm = {\n          send: sendClosure\n        };\n      }\n      window.PyViz.comms[comm_id] = comm;\n      return comm;\n    }\n    window.PyViz.comm_manager = new JupyterCommManager();\n    \n\n\nvar JS_MIME_TYPE = 'application/javascript';\nvar HTML_MIME_TYPE = 'text/html';\nvar EXEC_MIME_TYPE = 'application/vnd.holoviews_exec.v0+json';\nvar CLASS_NAME = 'output';\n\n/**\n * Render data to the DOM node\n */\nfunction render(props, node) {\n  var div = document.createElement(\"div\");\n  var script = document.createElement(\"script\");\n  node.appendChild(div);\n  node.appendChild(script);\n}\n\n/**\n * Handle when a new output is added\n */\nfunction handle_add_output(event, handle) {\n  var output_area = handle.output_area;\n  var output = handle.output;\n  if ((output.data == undefined) || (!output.data.hasOwnProperty(EXEC_MIME_TYPE))) {\n    return\n  }\n  var id = output.metadata[EXEC_MIME_TYPE][\"id\"];\n  var toinsert = output_area.element.find(\".\" + CLASS_NAME.split(' ')[0]);\n  if (id !== undefined) {\n    var nchildren = toinsert.length;\n    var html_node = toinsert[nchildren-1].children[0];\n    html_node.innerHTML = output.data[HTML_MIME_TYPE];\n    var scripts = [];\n    var nodelist = html_node.querySelectorAll(\"script\");\n    for (var i in nodelist) {\n      if (nodelist.hasOwnProperty(i)) {\n        scripts.push(nodelist[i])\n      }\n    }\n\n    scripts.forEach( function (oldScript) {\n      var newScript = document.createElement(\"script\");\n      var attrs = [];\n      var nodemap = oldScript.attributes;\n      for (var j in nodemap) {\n        if (nodemap.hasOwnProperty(j)) {\n          attrs.push(nodemap[j])\n        }\n      }\n      attrs.forEach(function(attr) { newScript.setAttribute(attr.name, attr.value) });\n      newScript.appendChild(document.createTextNode(oldScript.innerHTML));\n      oldScript.parentNode.replaceChild(newScript, oldScript);\n    });\n    if (JS_MIME_TYPE in output.data) {\n      toinsert[nchildren-1].children[1].textContent = output.data[JS_MIME_TYPE];\n    }\n    output_area._hv_plot_id = id;\n    if ((window.Bokeh !== undefined) && (id in Bokeh.index)) {\n      window.PyViz.plot_index[id] = Bokeh.index[id];\n    } else {\n      window.PyViz.plot_index[id] = null;\n    }\n  } else if (output.metadata[EXEC_MIME_TYPE][\"server_id\"] !== undefined) {\n    var bk_div = document.createElement(\"div\");\n    bk_div.innerHTML = output.data[HTML_MIME_TYPE];\n    var script_attrs = bk_div.children[0].attributes;\n    for (var i = 0; i < script_attrs.length; i++) {\n      toinsert[toinsert.length - 1].childNodes[1].setAttribute(script_attrs[i].name, script_attrs[i].value);\n    }\n    // store reference to server id on output_area\n    output_area._bokeh_server_id = output.metadata[EXEC_MIME_TYPE][\"server_id\"];\n  }\n}\n\n/**\n * Handle when an output is cleared or removed\n */\nfunction handle_clear_output(event, handle) {\n  var id = handle.cell.output_area._hv_plot_id;\n  var server_id = handle.cell.output_area._bokeh_server_id;\n  if (((id === undefined) || !(id in PyViz.plot_index)) && (server_id !== undefined)) { return; }\n  var comm = window.PyViz.comm_manager.get_client_comm(\"hv-extension-comm\", \"hv-extension-comm\", function () {});\n  if (server_id !== null) {\n    comm.send({event_type: 'server_delete', 'id': server_id});\n    return;\n  } else if (comm !== null) {\n    comm.send({event_type: 'delete', 'id': id});\n  }\n  delete PyViz.plot_index[id];\n  if ((window.Bokeh !== undefined) & (id in window.Bokeh.index)) {\n    var doc = window.Bokeh.index[id].model.document\n    doc.clear();\n    const i = window.Bokeh.documents.indexOf(doc);\n    if (i > -1) {\n      window.Bokeh.documents.splice(i, 1);\n    }\n  }\n}\n\n/**\n * Handle kernel restart event\n */\nfunction handle_kernel_cleanup(event, handle) {\n  delete PyViz.comms[\"hv-extension-comm\"];\n  window.PyViz.plot_index = {}\n}\n\n/**\n * Handle update_display_data messages\n */\nfunction handle_update_output(event, handle) {\n  handle_clear_output(event, {cell: {output_area: handle.output_area}})\n  handle_add_output(event, handle)\n}\n\nfunction register_renderer(events, OutputArea) {\n  function append_mime(data, metadata, element) {\n    // create a DOM node to render to\n    var toinsert = this.create_output_subarea(\n    metadata,\n    CLASS_NAME,\n    EXEC_MIME_TYPE\n    );\n    this.keyboard_manager.register_events(toinsert);\n    // Render to node\n    var props = {data: data, metadata: metadata[EXEC_MIME_TYPE]};\n    render(props, toinsert[0]);\n    element.append(toinsert);\n    return toinsert\n  }\n\n  events.on('output_added.OutputArea', handle_add_output);\n  events.on('output_updated.OutputArea', handle_update_output);\n  events.on('clear_output.CodeCell', handle_clear_output);\n  events.on('delete.Cell', handle_clear_output);\n  events.on('kernel_ready.Kernel', handle_kernel_cleanup);\n\n  OutputArea.prototype.register_mime_type(EXEC_MIME_TYPE, append_mime, {\n    safe: true,\n    index: 0\n  });\n}\n\nif (window.Jupyter !== undefined) {\n  try {\n    var events = require('base/js/events');\n    var OutputArea = require('notebook/js/outputarea').OutputArea;\n    if (OutputArea.prototype.mime_types().indexOf(EXEC_MIME_TYPE) == -1) {\n      register_renderer(events, OutputArea);\n    }\n  } catch(err) {\n  }\n}\n",
            "application/javascript": [
              "\n",
              "if ((window.PyViz === undefined) || (window.PyViz instanceof HTMLElement)) {\n",
              "  window.PyViz = {comms: {}, comm_status:{}, kernels:{}, receivers: {}, plot_index: []}\n",
              "}\n",
              "\n",
              "\n",
              "    function JupyterCommManager() {\n",
              "    }\n",
              "\n",
              "    JupyterCommManager.prototype.register_target = function(plot_id, comm_id, msg_handler) {\n",
              "      if (window.comm_manager || ((window.Jupyter !== undefined) && (Jupyter.notebook.kernel != null))) {\n",
              "        var comm_manager = window.comm_manager || Jupyter.notebook.kernel.comm_manager;\n",
              "        comm_manager.register_target(comm_id, function(comm) {\n",
              "          comm.on_msg(msg_handler);\n",
              "        });\n",
              "      } else if ((plot_id in window.PyViz.kernels) && (window.PyViz.kernels[plot_id])) {\n",
              "        window.PyViz.kernels[plot_id].registerCommTarget(comm_id, function(comm) {\n",
              "          comm.onMsg = msg_handler;\n",
              "        });\n",
              "      } else if (typeof google != 'undefined' && google.colab.kernel != null) {\n",
              "        google.colab.kernel.comms.registerTarget(comm_id, (comm) => {\n",
              "          var messages = comm.messages[Symbol.asyncIterator]();\n",
              "          function processIteratorResult(result) {\n",
              "            var message = result.value;\n",
              "            console.log(message)\n",
              "            var content = {data: message.data, comm_id};\n",
              "            var buffers = []\n",
              "            for (var buffer of message.buffers || []) {\n",
              "              buffers.push(new DataView(buffer))\n",
              "            }\n",
              "            var metadata = message.metadata || {};\n",
              "            var msg = {content, buffers, metadata}\n",
              "            msg_handler(msg);\n",
              "            return messages.next().then(processIteratorResult);\n",
              "          }\n",
              "          return messages.next().then(processIteratorResult);\n",
              "        })\n",
              "      }\n",
              "    }\n",
              "\n",
              "    JupyterCommManager.prototype.get_client_comm = function(plot_id, comm_id, msg_handler) {\n",
              "      if (comm_id in window.PyViz.comms) {\n",
              "        return window.PyViz.comms[comm_id];\n",
              "      } else if (window.comm_manager || ((window.Jupyter !== undefined) && (Jupyter.notebook.kernel != null))) {\n",
              "        var comm_manager = window.comm_manager || Jupyter.notebook.kernel.comm_manager;\n",
              "        var comm = comm_manager.new_comm(comm_id, {}, {}, {}, comm_id);\n",
              "        if (msg_handler) {\n",
              "          comm.on_msg(msg_handler);\n",
              "        }\n",
              "      } else if ((plot_id in window.PyViz.kernels) && (window.PyViz.kernels[plot_id])) {\n",
              "        var comm = window.PyViz.kernels[plot_id].connectToComm(comm_id);\n",
              "        comm.open();\n",
              "        if (msg_handler) {\n",
              "          comm.onMsg = msg_handler;\n",
              "        }\n",
              "      } else if (typeof google != 'undefined' && google.colab.kernel != null) {\n",
              "        var comm_promise = google.colab.kernel.comms.open(comm_id)\n",
              "        comm_promise.then((comm) => {\n",
              "          window.PyViz.comms[comm_id] = comm;\n",
              "          if (msg_handler) {\n",
              "            var messages = comm.messages[Symbol.asyncIterator]();\n",
              "            function processIteratorResult(result) {\n",
              "              var message = result.value;\n",
              "              var content = {data: message.data};\n",
              "              var metadata = message.metadata || {comm_id};\n",
              "              var msg = {content, metadata}\n",
              "              msg_handler(msg);\n",
              "              return messages.next().then(processIteratorResult);\n",
              "            }\n",
              "            return messages.next().then(processIteratorResult);\n",
              "          }\n",
              "        })\n",
              "        var sendClosure = (data, metadata, buffers, disposeOnDone) => {\n",
              "          return comm_promise.then((comm) => {\n",
              "            comm.send(data, metadata, buffers, disposeOnDone);\n",
              "          });\n",
              "        };\n",
              "        var comm = {\n",
              "          send: sendClosure\n",
              "        };\n",
              "      }\n",
              "      window.PyViz.comms[comm_id] = comm;\n",
              "      return comm;\n",
              "    }\n",
              "    window.PyViz.comm_manager = new JupyterCommManager();\n",
              "    \n",
              "\n",
              "\n",
              "var JS_MIME_TYPE = 'application/javascript';\n",
              "var HTML_MIME_TYPE = 'text/html';\n",
              "var EXEC_MIME_TYPE = 'application/vnd.holoviews_exec.v0+json';\n",
              "var CLASS_NAME = 'output';\n",
              "\n",
              "/**\n",
              " * Render data to the DOM node\n",
              " */\n",
              "function render(props, node) {\n",
              "  var div = document.createElement(\"div\");\n",
              "  var script = document.createElement(\"script\");\n",
              "  node.appendChild(div);\n",
              "  node.appendChild(script);\n",
              "}\n",
              "\n",
              "/**\n",
              " * Handle when a new output is added\n",
              " */\n",
              "function handle_add_output(event, handle) {\n",
              "  var output_area = handle.output_area;\n",
              "  var output = handle.output;\n",
              "  if ((output.data == undefined) || (!output.data.hasOwnProperty(EXEC_MIME_TYPE))) {\n",
              "    return\n",
              "  }\n",
              "  var id = output.metadata[EXEC_MIME_TYPE][\"id\"];\n",
              "  var toinsert = output_area.element.find(\".\" + CLASS_NAME.split(' ')[0]);\n",
              "  if (id !== undefined) {\n",
              "    var nchildren = toinsert.length;\n",
              "    var html_node = toinsert[nchildren-1].children[0];\n",
              "    html_node.innerHTML = output.data[HTML_MIME_TYPE];\n",
              "    var scripts = [];\n",
              "    var nodelist = html_node.querySelectorAll(\"script\");\n",
              "    for (var i in nodelist) {\n",
              "      if (nodelist.hasOwnProperty(i)) {\n",
              "        scripts.push(nodelist[i])\n",
              "      }\n",
              "    }\n",
              "\n",
              "    scripts.forEach( function (oldScript) {\n",
              "      var newScript = document.createElement(\"script\");\n",
              "      var attrs = [];\n",
              "      var nodemap = oldScript.attributes;\n",
              "      for (var j in nodemap) {\n",
              "        if (nodemap.hasOwnProperty(j)) {\n",
              "          attrs.push(nodemap[j])\n",
              "        }\n",
              "      }\n",
              "      attrs.forEach(function(attr) { newScript.setAttribute(attr.name, attr.value) });\n",
              "      newScript.appendChild(document.createTextNode(oldScript.innerHTML));\n",
              "      oldScript.parentNode.replaceChild(newScript, oldScript);\n",
              "    });\n",
              "    if (JS_MIME_TYPE in output.data) {\n",
              "      toinsert[nchildren-1].children[1].textContent = output.data[JS_MIME_TYPE];\n",
              "    }\n",
              "    output_area._hv_plot_id = id;\n",
              "    if ((window.Bokeh !== undefined) && (id in Bokeh.index)) {\n",
              "      window.PyViz.plot_index[id] = Bokeh.index[id];\n",
              "    } else {\n",
              "      window.PyViz.plot_index[id] = null;\n",
              "    }\n",
              "  } else if (output.metadata[EXEC_MIME_TYPE][\"server_id\"] !== undefined) {\n",
              "    var bk_div = document.createElement(\"div\");\n",
              "    bk_div.innerHTML = output.data[HTML_MIME_TYPE];\n",
              "    var script_attrs = bk_div.children[0].attributes;\n",
              "    for (var i = 0; i < script_attrs.length; i++) {\n",
              "      toinsert[toinsert.length - 1].childNodes[1].setAttribute(script_attrs[i].name, script_attrs[i].value);\n",
              "    }\n",
              "    // store reference to server id on output_area\n",
              "    output_area._bokeh_server_id = output.metadata[EXEC_MIME_TYPE][\"server_id\"];\n",
              "  }\n",
              "}\n",
              "\n",
              "/**\n",
              " * Handle when an output is cleared or removed\n",
              " */\n",
              "function handle_clear_output(event, handle) {\n",
              "  var id = handle.cell.output_area._hv_plot_id;\n",
              "  var server_id = handle.cell.output_area._bokeh_server_id;\n",
              "  if (((id === undefined) || !(id in PyViz.plot_index)) && (server_id !== undefined)) { return; }\n",
              "  var comm = window.PyViz.comm_manager.get_client_comm(\"hv-extension-comm\", \"hv-extension-comm\", function () {});\n",
              "  if (server_id !== null) {\n",
              "    comm.send({event_type: 'server_delete', 'id': server_id});\n",
              "    return;\n",
              "  } else if (comm !== null) {\n",
              "    comm.send({event_type: 'delete', 'id': id});\n",
              "  }\n",
              "  delete PyViz.plot_index[id];\n",
              "  if ((window.Bokeh !== undefined) & (id in window.Bokeh.index)) {\n",
              "    var doc = window.Bokeh.index[id].model.document\n",
              "    doc.clear();\n",
              "    const i = window.Bokeh.documents.indexOf(doc);\n",
              "    if (i > -1) {\n",
              "      window.Bokeh.documents.splice(i, 1);\n",
              "    }\n",
              "  }\n",
              "}\n",
              "\n",
              "/**\n",
              " * Handle kernel restart event\n",
              " */\n",
              "function handle_kernel_cleanup(event, handle) {\n",
              "  delete PyViz.comms[\"hv-extension-comm\"];\n",
              "  window.PyViz.plot_index = {}\n",
              "}\n",
              "\n",
              "/**\n",
              " * Handle update_display_data messages\n",
              " */\n",
              "function handle_update_output(event, handle) {\n",
              "  handle_clear_output(event, {cell: {output_area: handle.output_area}})\n",
              "  handle_add_output(event, handle)\n",
              "}\n",
              "\n",
              "function register_renderer(events, OutputArea) {\n",
              "  function append_mime(data, metadata, element) {\n",
              "    // create a DOM node to render to\n",
              "    var toinsert = this.create_output_subarea(\n",
              "    metadata,\n",
              "    CLASS_NAME,\n",
              "    EXEC_MIME_TYPE\n",
              "    );\n",
              "    this.keyboard_manager.register_events(toinsert);\n",
              "    // Render to node\n",
              "    var props = {data: data, metadata: metadata[EXEC_MIME_TYPE]};\n",
              "    render(props, toinsert[0]);\n",
              "    element.append(toinsert);\n",
              "    return toinsert\n",
              "  }\n",
              "\n",
              "  events.on('output_added.OutputArea', handle_add_output);\n",
              "  events.on('output_updated.OutputArea', handle_update_output);\n",
              "  events.on('clear_output.CodeCell', handle_clear_output);\n",
              "  events.on('delete.Cell', handle_clear_output);\n",
              "  events.on('kernel_ready.Kernel', handle_kernel_cleanup);\n",
              "\n",
              "  OutputArea.prototype.register_mime_type(EXEC_MIME_TYPE, append_mime, {\n",
              "    safe: true,\n",
              "    index: 0\n",
              "  });\n",
              "}\n",
              "\n",
              "if (window.Jupyter !== undefined) {\n",
              "  try {\n",
              "    var events = require('base/js/events');\n",
              "    var OutputArea = require('notebook/js/outputarea').OutputArea;\n",
              "    if (OutputArea.prototype.mime_types().indexOf(EXEC_MIME_TYPE) == -1) {\n",
              "      register_renderer(events, OutputArea);\n",
              "    }\n",
              "  } catch(err) {\n",
              "  }\n",
              "}\n"
            ]
          },
          "metadata": {}
        },
        {
          "output_type": "display_data",
          "data": {},
          "metadata": {}
        },
        {
          "output_type": "execute_result",
          "data": {
            "text/html": [
              "<div id='694287c9-f9d8-4c8b-bb8e-67c49e71f382'>\n",
              "  <div id=\"f3115aa8-f344-4963-9d82-956f6a7b62ca\" data-root-id=\"694287c9-f9d8-4c8b-bb8e-67c49e71f382\" style=\"display: contents;\"></div>\n",
              "</div>\n",
              "<script type=\"application/javascript\">(function(root) {\n",
              "  var docs_json = {\"10275e8a-de1c-4293-8de2-0c66d532aedb\":{\"version\":\"3.6.2\",\"title\":\"Bokeh Application\",\"roots\":[{\"type\":\"object\",\"name\":\"Row\",\"id\":\"694287c9-f9d8-4c8b-bb8e-67c49e71f382\",\"attributes\":{\"name\":\"Row00415\",\"tags\":[\"embedded\"],\"stylesheets\":[\"\\n:host(.pn-loading):before, .pn-loading:before {\\n  background-color: #c3c3c3;\\n  mask-size: auto calc(min(50%, 400px));\\n  -webkit-mask-size: auto calc(min(50%, 400px));\\n}\",{\"type\":\"object\",\"name\":\"ImportedStyleSheet\",\"id\":\"7629185e-9f35-4b71-ae98-0869ce3e8ba4\",\"attributes\":{\"url\":\"https://cdn.holoviz.org/panel/1.6.0/dist/css/loading.css\"}},{\"type\":\"object\",\"name\":\"ImportedStyleSheet\",\"id\":\"f35246d4-8208-4aec-9501-147ef1dfebb9\",\"attributes\":{\"url\":\"https://cdn.holoviz.org/panel/1.6.0/dist/css/listpanel.css\"}},{\"type\":\"object\",\"name\":\"ImportedStyleSheet\",\"id\":\"414d46f0-919a-4753-8def-a07244d91bf7\",\"attributes\":{\"url\":\"https://cdn.holoviz.org/panel/1.6.0/dist/bundled/theme/default.css\"}},{\"type\":\"object\",\"name\":\"ImportedStyleSheet\",\"id\":\"e836e311-e442-4e8d-84d4-ecd769dcd350\",\"attributes\":{\"url\":\"https://cdn.holoviz.org/panel/1.6.0/dist/bundled/theme/native.css\"}}],\"min_width\":900,\"margin\":0,\"sizing_mode\":\"stretch_width\",\"align\":\"start\",\"children\":[{\"type\":\"object\",\"name\":\"Spacer\",\"id\":\"9323a656-f8b1-4a75-88a0-004650cae8bc\",\"attributes\":{\"name\":\"HSpacer00419\",\"stylesheets\":[\"\\n:host(.pn-loading):before, .pn-loading:before {\\n  background-color: #c3c3c3;\\n  mask-size: auto calc(min(50%, 400px));\\n  -webkit-mask-size: auto calc(min(50%, 400px));\\n}\",{\"id\":\"7629185e-9f35-4b71-ae98-0869ce3e8ba4\"},{\"id\":\"414d46f0-919a-4753-8def-a07244d91bf7\"},{\"id\":\"e836e311-e442-4e8d-84d4-ecd769dcd350\"}],\"margin\":0,\"sizing_mode\":\"stretch_width\",\"align\":\"start\"}},{\"type\":\"object\",\"name\":\"Figure\",\"id\":\"fa07b09d-2b35-43f4-a1db-1a2d49aa3ee3\",\"attributes\":{\"width\":900,\"height\":500,\"margin\":[5,10],\"sizing_mode\":\"fixed\",\"align\":\"start\",\"x_range\":{\"type\":\"object\",\"name\":\"Range1d\",\"id\":\"37993234-5c3e-4c79-ae45-f9f8ae665855\",\"attributes\":{\"name\":\"Longitude\",\"tags\":[[[\"Longitude\",null]],[]],\"start\":12371387.878821885,\"end\":17574739.956818838,\"reset_start\":12371387.878821885,\"reset_end\":17574739.956818838,\"min_interval\":5}},\"y_range\":{\"type\":\"object\",\"name\":\"Range1d\",\"id\":\"f3d7d709-8741-449f-8f59-cc9299d84c01\",\"attributes\":{\"name\":\"Latitude\",\"tags\":[[[\"Latitude\",null]],{\"type\":\"map\",\"entries\":[[\"invert_yaxis\",false],[\"autorange\",false]]}],\"start\":-5933980.571321059,\"end\":38713.619263520115,\"reset_start\":-5933980.571321059,\"reset_end\":38713.619263520115,\"min_interval\":5}},\"x_scale\":{\"type\":\"object\",\"name\":\"LinearScale\",\"id\":\"5a4f809a-94b0-43de-aee1-1257fc7db72d\"},\"y_scale\":{\"type\":\"object\",\"name\":\"LinearScale\",\"id\":\"9be0bb1d-5976-4700-9b74-be6cf116f537\"},\"title\":{\"type\":\"object\",\"name\":\"Title\",\"id\":\"e11a31d1-c112-4714-bf4d-49dfa2c1ab56\",\"attributes\":{\"text_color\":\"black\",\"text_font_size\":\"12pt\"}},\"renderers\":[{\"type\":\"object\",\"name\":\"GlyphRenderer\",\"id\":\"53367a5e-2134-4cbf-a7eb-4315967f506b\",\"attributes\":{\"data_source\":{\"type\":\"object\",\"name\":\"ColumnDataSource\",\"id\":\"cead871a-7440-48af-8b14-17605b29e61d\",\"attributes\":{\"selected\":{\"type\":\"object\",\"name\":\"Selection\",\"id\":\"08fc32c3-5c8f-423e-9d7b-63f720c02771\",\"attributes\":{\"indices\":[],\"line_indices\":[]}},\"selection_policy\":{\"type\":\"object\",\"name\":\"UnionRenderers\",\"id\":\"088206d3-868b-488f-9837-3ca308a86524\"},\"data\":{\"type\":\"map\",\"entries\":[[\"xs\",[]],[\"ys\",[]]]}}},\"view\":{\"type\":\"object\",\"name\":\"CDSView\",\"id\":\"ce82f2bc-636e-4996-96f3-a5a3a216c272\",\"attributes\":{\"filter\":{\"type\":\"object\",\"name\":\"AllIndices\",\"id\":\"ac4f8374-01d3-4734-8d34-f53556005b8a\"}}},\"glyph\":{\"type\":\"object\",\"name\":\"MultiPolygons\",\"id\":\"3caa17a1-8052-4223-87b3-e61c9287b0de\",\"attributes\":{\"xs\":{\"type\":\"field\",\"field\":\"xs\"},\"ys\":{\"type\":\"field\",\"field\":\"ys\"},\"line_color\":{\"type\":\"value\",\"value\":\"red\"},\"fill_color\":{\"type\":\"value\",\"value\":null},\"hatch_color\":{\"type\":\"value\",\"value\":null}}},\"selection_glyph\":{\"type\":\"object\",\"name\":\"MultiPolygons\",\"id\":\"af5b4f3c-e2e1-46d2-a6ae-203157b635eb\",\"attributes\":{\"xs\":{\"type\":\"field\",\"field\":\"xs\"},\"ys\":{\"type\":\"field\",\"field\":\"ys\"},\"line_color\":{\"type\":\"value\",\"value\":\"red\"},\"line_alpha\":{\"type\":\"value\",\"value\":1.0},\"line_width\":{\"type\":\"value\",\"value\":1},\"line_join\":{\"type\":\"value\",\"value\":\"bevel\"},\"line_cap\":{\"type\":\"value\",\"value\":\"butt\"},\"line_dash\":{\"type\":\"value\",\"value\":[]},\"line_dash_offset\":{\"type\":\"value\",\"value\":0},\"fill_color\":{\"type\":\"value\",\"value\":null},\"fill_alpha\":{\"type\":\"value\",\"value\":1.0},\"hatch_color\":{\"type\":\"value\",\"value\":null},\"hatch_alpha\":{\"type\":\"value\",\"value\":1.0},\"hatch_scale\":{\"type\":\"value\",\"value\":12.0},\"hatch_pattern\":{\"type\":\"value\",\"value\":null},\"hatch_weight\":{\"type\":\"value\",\"value\":1.0}}},\"nonselection_glyph\":{\"type\":\"object\",\"name\":\"MultiPolygons\",\"id\":\"5f6c4535-16db-4aec-a0b3-8a2a564eee12\",\"attributes\":{\"xs\":{\"type\":\"field\",\"field\":\"xs\"},\"ys\":{\"type\":\"field\",\"field\":\"ys\"},\"line_color\":{\"type\":\"value\",\"value\":\"red\"},\"line_alpha\":{\"type\":\"value\",\"value\":0.1},\"fill_color\":{\"type\":\"value\",\"value\":null},\"fill_alpha\":{\"type\":\"value\",\"value\":0.1},\"hatch_color\":{\"type\":\"value\",\"value\":null},\"hatch_alpha\":{\"type\":\"value\",\"value\":0.1}}},\"muted_glyph\":{\"type\":\"object\",\"name\":\"MultiPolygons\",\"id\":\"91216757-7af8-4840-a973-0186666e6ccb\",\"attributes\":{\"xs\":{\"type\":\"field\",\"field\":\"xs\"},\"ys\":{\"type\":\"field\",\"field\":\"ys\"},\"line_color\":{\"type\":\"value\",\"value\":\"red\"},\"line_alpha\":{\"type\":\"value\",\"value\":0.2},\"fill_color\":{\"type\":\"value\",\"value\":null},\"fill_alpha\":{\"type\":\"value\",\"value\":0.2},\"hatch_color\":{\"type\":\"value\",\"value\":null},\"hatch_alpha\":{\"type\":\"value\",\"value\":0.2}}}}},{\"type\":\"object\",\"name\":\"TileRenderer\",\"id\":\"18a4eee7-be43-49e5-beb5-2172954f65a9\",\"attributes\":{\"level\":\"underlay\",\"tile_source\":{\"type\":\"object\",\"name\":\"WMTSTileSource\",\"id\":\"4c00a5e2-af66-459e-9f19-02ad23f741a9\",\"attributes\":{\"url\":\"https://server.arcgisonline.com/ArcGIS/rest/services/World_Imagery/MapServer/tile/{Z}/{Y}/{X}.jpg\",\"max_zoom\":19,\"attribution\":\"&copy; <a href=\\\"http://downloads.esri.com/ArcGISOnline/docs/tou_summary.pdf\\\">Esri</a>, Earthstar Geographics\"}}}},{\"type\":\"object\",\"name\":\"GlyphRenderer\",\"id\":\"4e83708f-ad37-4e37-984d-2b12f61a0717\",\"attributes\":{\"data_source\":{\"type\":\"object\",\"name\":\"ColumnDataSource\",\"id\":\"ae2004c8-dc12-4e18-8221-dc8dd1196229\",\"attributes\":{\"selected\":{\"type\":\"object\",\"name\":\"Selection\",\"id\":\"d9a7df4b-17e9-440b-ba0e-fbf31eec54a0\",\"attributes\":{\"indices\":[],\"line_indices\":[]}},\"selection_policy\":{\"type\":\"object\",\"name\":\"UnionRenderers\",\"id\":\"6e14d1b0-e2aa-4030-b653-281c3b743e61\"},\"data\":{\"type\":\"map\",\"entries\":[[\"Longitude\",{\"type\":\"ndarray\",\"array\":{\"type\":\"bytes\",\"data\":\"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\"},\"shape\":[1064],\"dtype\":\"float64\",\"order\":\"little\"}],[\"Latitude\",{\"type\":\"ndarray\",\"array\":{\"type\":\"bytes\",\"data\":\"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\"},\"shape\":[1064],\"dtype\":\"float64\",\"order\":\"little\"}],[\"Beam\",[\"BEAM1000\",\"BEAM1000\",\"BEAM1000\",\"BEAM1000\",\"BEAM1000\",\"BEAM1000\",\"BEAM1000\",\"BEAM1000\",\"BEAM1000\",\"BEAM1000\",\"BEAM1000\",\"BEAM1000\",\"BEAM1000\",\"BEAM1000\",\"BEAM1000\",\"BEAM1000\",\"BEAM1000\",\"BEAM1000\",\"BEAM1000\",\"BEAM1000\",\"BEAM1000\",\"BEAM1000\",\"BEAM1000\",\"BEAM1000\",\"BEAM1000\",\"BEAM1000\",\"BEAM1000\",\"BEAM1000\",\"BEAM1000\",\"BEAM1000\",\"BEAM1000\",\"BEAM1000\",\"BEAM1000\",\"BEAM1000\",\"BEAM1000\",\"BEAM1000\",\"BEAM1000\",\"BEAM1000\",\"BEAM1000\",\"BEAM1000\",\"BEAM1000\",\"BEAM1000\",\"BEAM1000\",\"BEAM1000\",\"BEAM1000\",\"BEAM1000\",\"BEAM1000\",\"BEAM1000\",\"BEAM1000\",\"BEAM1000\",\"BEAM1000\",\"BEAM1000\",\"BEAM1000\",\"BEAM1000\",\"BEAM1000\",\"BEAM1000\",\"BEAM1000\",\"BEAM1000\",\"BEAM1000\",\"BEAM1000\",\"BEAM1000\",\"BEAM1000\",\"BEAM1000\",\"BEAM1000\",\"BEAM1000\",\"BEAM1000\",\"BEAM1000\",\"BEAM1000\",\"BEAM1000\",\"BEAM1000\",\"BEAM1000\",\"BEAM1000\",\"BEAM1000\",\"BEAM1000\",\"BEAM1000\",\"BEAM1000\",\"BEAM1000\",\"BEAM1000\",\"BEAM1000\",\"BEAM1000\",\"BEAM1000\",\"BEAM1000\",\"BEAM1000\",\"BEAM1000\",\"BEAM1000\",\"BEAM1000\",\"BEAM1000\",\"BEAM1000\",\"BEAM1000\",\"BEAM1000\",\"BEAM1000\",\"BEAM1000\",\"BEAM1000\",\"BEAM1000\",\"BEAM1000\",\"BEAM1000\",\"BEAM1000\",\"BEAM1000\",\"BEAM1000\",\"BEAM1000\",\"BEAM1000\",\"BEAM1000\",\"BEAM1000\",\"BEAM1000\",\"BEAM1000\",\"BEAM1000\",\"BEAM1000\",\"BEAM1000\",\"BEAM1000\",\"BEAM1000\",\"BEAM1000\",\"BEAM1000\",\"BEAM1000\",\"BEAM1000\",\"BEAM1000\",\"BEAM1000\",\"BEAM1000\",\"BEAM1000\",\"BEAM1000\",\"BEAM1000\",\"BEAM1000\",\"BEAM1000\",\"BEAM1000\",\"BEAM1000\",\"BEAM1000\",\"BEAM1000\",\"BEAM1000\",\"BEAM1000\",\"BEAM1000\",\"BEAM1000\",\"BEAM1000\",\"BEAM1000\",\"BEAM1000\",\"BEAM1000\",\"BEAM1000\",\"BEAM1000\",\"BEAM1000\",\"BEAM1000\",\"BEAM1000\",\"BEAM1000\",\"BEAM1000\",\"BEAM1000\",\"BEAM1000\",\"BEAM1000\",\"BEAM1000\",\"BEAM1000\",\"BEAM1000\",\"BEAM1000\",\"BEAM1000\",\"BEAM1000\",\"BEAM1000\",\"BEAM1000\",\"BEAM1000\",\"BEAM1000\",\"BEAM1000\",\"BEAM1000\",\"BEAM1000\",\"BEAM1000\",\"BEAM1000\",\"BEAM1000\",\"BEAM1000\",\"BEAM1000\",\"BEAM1000\",\"BEAM1000\",\"BEAM1000\",\"BEAM1000\",\"BEAM1000\",\"BEAM1000\",\"BEAM1000\",\"BEAM1000\",\"BEAM1000\",\"BEAM1000\",\"BEAM1000\",\"BEAM1000\",\"BEAM1000\",\"BEAM1000\",\"BEAM1000\",\"BEAM1000\",\"BEAM1000\",\"BEAM1000\",\"BEAM1000\",\"BEAM1000\",\"BEAM1000\",\"BEAM1000\",\"BEAM1000\",\"BEAM1000\",\"BEAM1000\",\"BEAM1000\",\"BEAM1000\",\"BEAM1000\",\"BEAM1000\",\"BEAM1000\",\"BEAM1000\",\"BEAM1000\",\"BEAM1000\",\"BEAM1000\",\"BEAM1000\",\"BEAM1000\",\"BEAM1000\",\"BEAM1000\",\"BEAM1000\",\"BEAM1000\",\"BEAM1000\",\"BEAM1000\",\"BEAM1000\",\"BEAM1000\",\"BEAM1000\",\"BEAM1000\",\"BEAM1000\",\"BEAM1000\",\"BEAM1000\",\"BEAM1000\",\"BEAM1000\",\"BEAM1000\",\"BEAM1000\",\"BEAM1000\",\"BEAM1000\",\"BEAM1000\",\"BEAM1000\",\"BEAM1000\",\"BEAM1000\",\"BEAM1000\",\"BEAM1000\",\"BEAM1000\",\"BEAM1000\",\"BEAM1000\",\"BEAM1000\",\"BEAM1000\",\"BEAM1000\",\"BEAM1000\",\"BEAM1000\",\"BEAM1000\",\"BEAM1000\",\"BEAM1000\",\"BEAM1000\",\"BEAM1000\",\"BEAM1000\",\"BEAM1000\",\"BEAM1000\",\"BEAM1000\",\"BEAM1000\",\"BEAM1000\",\"BEAM1000\",\"BEAM1000\",\"BEAM1000\",\"BEAM1000\",\"BEAM1000\",\"BEAM1000\",\"BEAM1000\",\"BEAM1000\",\"BEAM1000\",\"BEAM1000\",\"BEAM1000\",\"BEAM1000\",\"BEAM1000\",\"BEAM1000\",\"BEAM1000\",\"BEAM1000\",\"BEAM1000\",\"BEAM1000\",\"BEAM1000\",\"BEAM1000\",\"BEAM1000\",\"BEAM1000\",\"BEAM1000\",\"BEAM1000\",\"BEAM1000\",\"BEAM1000\",\"BEAM1000\",\"BEAM1000\",\"BEAM1000\",\"BEAM1000\",\"BEAM1000\",\"BEAM1000\",\"BEAM1000\",\"BEAM1000\",\"BEAM1000\",\"BEAM1000\",\"BEAM1000\",\"BEAM1000\",\"BEAM1000\",\"BEAM1000\",\"BEAM1000\",\"BEAM1000\",\"BEAM1000\",\"BEAM1000\",\"BEAM1000\",\"BEAM1000\",\"BEAM1000\",\"BEAM1000\",\"BEAM1000\",\"BEAM1000\",\"BEAM1000\",\"BEAM1000\",\"BEAM1000\",\"BEAM1000\",\"BEAM1000\",\"BEAM1000\",\"BEAM1000\",\"BEAM1000\",\"BEAM1000\",\"BEAM1000\",\"BEAM1000\",\"BEAM1000\",\"BEAM1000\",\"BEAM1000\",\"BEAM1000\",\"BEAM1000\",\"BEAM1000\",\"BEAM1000\",\"BEAM1000\",\"BEAM1000\",\"BEAM1000\",\"BEAM1000\",\"BEAM1000\",\"BEAM1000\",\"BEAM1000\",\"BEAM1000\",\"BEAM1000\",\"BEAM1000\",\"BEAM1000\",\"BEAM1000\",\"BEAM1000\",\"BEAM1000\",\"BEAM1000\",\"BEAM1000\",\"BEAM1000\",\"BEAM1000\",\"BEAM1000\",\"BEAM1000\",\"BEAM1000\",\"BEAM1000\",\"BEAM1000\",\"BEAM1000\",\"BEAM1000\",\"BEAM1000\",\"BEAM1000\",\"BEAM1000\",\"BEAM1000\",\"BEAM1000\",\"BEAM1000\",\"BEAM1000\",\"BEAM1000\",\"BEAM1000\",\"BEAM1000\",\"BEAM1000\",\"BEAM1000\",\"BEAM1000\",\"BEAM1000\",\"BEAM1000\",\"BEAM1000\",\"BEAM1000\",\"BEAM1000\",\"BEAM1000\",\"BEAM1000\",\"BEAM1000\",\"BEAM1000\",\"BEAM1000\",\"BEAM1000\",\"BEAM1000\",\"BEAM1000\",\"BEAM1000\",\"BEAM1000\",\"BEAM1000\",\"BEAM1000\",\"BEAM1000\",\"BEAM1000\",\"BEAM1000\",\"BEAM1000\",\"BEAM1000\",\"BEAM1000\",\"BEAM1000\",\"BEAM1000\",\"BEAM1000\",\"BEAM1000\",\"BEAM1000\",\"BEAM1000\",\"BEAM1000\",\"BEAM1000\",\"BEAM1000\",\"BEAM1000\",\"BEAM1000\",\"BEAM1000\",\"BEAM1000\",\"BEAM1000\",\"BEAM1000\",\"BEAM1000\",\"BEAM1000\",\"BEAM1000\",\"BEAM1000\",\"BEAM1000\",\"BEAM1000\",\"BEAM1000\",\"BEAM1000\",\"BEAM1000\",\"BEAM1000\",\"BEAM1000\",\"BEAM1000\",\"BEAM1000\",\"BEAM1000\",\"BEAM1000\",\"BEAM1000\",\"BEAM1000\",\"BEAM1000\",\"BEAM1000\",\"BEAM1000\",\"BEAM1000\",\"BEAM1000\",\"BEAM1000\",\"BEAM1000\",\"BEAM1000\",\"BEAM1000\",\"BEAM1000\",\"BEAM1000\",\"BEAM1000\",\"BEAM1000\",\"BEAM1000\",\"BEAM1000\",\"BEAM1000\",\"BEAM1000\",\"BEAM1000\",\"BEAM1000\",\"BEAM1000\",\"BEAM1000\",\"BEAM1000\",\"BEAM1000\",\"BEAM1000\",\"BEAM1000\",\"BEAM1000\",\"BEAM1000\",\"BEAM1000\",\"BEAM1000\",\"BEAM1000\",\"BEAM1000\",\"BEAM1000\",\"BEAM1000\",\"BEAM1000\",\"BEAM1000\",\"BEAM1000\",\"BEAM1000\",\"BEAM1000\",\"BEAM1000\",\"BEAM1000\",\"BEAM1000\",\"BEAM1000\",\"BEAM1000\",\"BEAM1000\",\"BEAM1000\",\"BEAM1000\",\"BEAM1000\",\"BEAM1000\",\"BEAM1000\",\"BEAM1000\",\"BEAM1000\",\"BEAM1000\",\"BEAM1000\",\"BEAM1000\",\"BEAM1000\",\"BEAM1000\",\"BEAM1000\",\"BEAM1000\",\"BEAM1000\",\"BEAM1000\",\"BEAM1000\",\"BEAM1000\",\"BEAM1000\",\"BEAM1000\",\"BEAM1000\",\"BEAM1000\",\"BEAM1000\",\"BEAM1000\",\"BEAM1000\",\"BEAM1000\",\"BEAM1000\",\"BEAM1000\",\"BEAM1000\",\"BEAM1000\",\"BEAM1000\",\"BEAM1000\",\"BEAM1000\",\"BEAM1000\",\"BEAM1000\",\"BEAM1000\",\"BEAM1000\",\"BEAM1000\",\"BEAM1000\",\"BEAM1000\",\"BEAM1000\",\"BEAM1000\",\"BEAM1000\",\"BEAM1000\",\"BEAM1000\",\"BEAM1000\",\"BEAM1000\",\"BEAM1000\",\"BEAM1000\",\"BEAM1000\",\"BEAM1000\",\"BEAM1000\",\"BEAM1000\",\"BEAM1000\",\"BEAM1000\",\"BEAM1000\",\"BEAM1000\",\"BEAM1000\",\"BEAM1000\",\"BEAM1000\",\"BEAM1000\",\"BEAM1000\",\"BEAM1000\",\"BEAM1000\",\"BEAM1000\",\"BEAM1000\",\"BEAM1000\",\"BEAM1000\",\"BEAM1000\",\"BEAM1000\",\"BEAM1000\",\"BEAM1000\",\"BEAM1000\",\"BEAM1000\",\"BEAM1000\",\"BEAM1000\",\"BEAM1000\",\"BEAM1000\",\"BEAM1000\",\"BEAM1000\",\"BEAM1000\",\"BEAM1000\",\"BEAM1000\",\"BEAM1000\",\"BEAM1000\",\"BEAM1000\",\"BEAM1000\",\"BEAM1000\",\"BEAM1000\",\"BEAM1000\",\"BEAM1000\",\"BEAM1000\",\"BEAM1000\",\"BEAM1000\",\"BEAM1000\",\"BEAM1000\",\"BEAM1000\",\"BEAM1000\",\"BEAM1000\",\"BEAM1000\",\"BEAM1000\",\"BEAM1000\",\"BEAM1000\",\"BEAM1000\",\"BEAM1000\",\"BEAM1000\",\"BEAM1000\",\"BEAM1000\",\"BEAM1000\",\"BEAM1000\",\"BEAM1000\",\"BEAM1000\",\"BEAM1000\",\"BEAM1000\",\"BEAM1000\",\"BEAM1000\",\"BEAM1000\",\"BEAM1000\",\"BEAM1000\",\"BEAM1000\",\"BEAM1000\",\"BEAM1000\",\"BEAM1000\",\"BEAM1000\",\"BEAM1000\",\"BEAM1000\",\"BEAM1000\",\"BEAM1000\",\"BEAM1000\",\"BEAM1000\",\"BEAM1000\",\"BEAM1000\",\"BEAM1000\",\"BEAM1000\",\"BEAM1000\",\"BEAM1000\",\"BEAM1000\",\"BEAM1000\",\"BEAM1000\",\"BEAM1000\",\"BEAM1000\",\"BEAM1000\",\"BEAM1000\",\"BEAM1000\",\"BEAM1000\",\"BEAM1000\",\"BEAM1000\",\"BEAM1000\",\"BEAM1000\",\"BEAM1000\",\"BEAM1000\",\"BEAM1000\",\"BEAM1000\",\"BEAM1000\",\"BEAM1000\",\"BEAM1000\",\"BEAM1000\",\"BEAM1000\",\"BEAM1000\",\"BEAM1000\",\"BEAM1000\",\"BEAM1000\",\"BEAM1000\",\"BEAM1000\",\"BEAM1000\",\"BEAM1000\",\"BEAM1000\",\"BEAM1000\",\"BEAM1000\",\"BEAM1000\",\"BEAM1000\",\"BEAM1000\",\"BEAM1000\",\"BEAM1000\",\"BEAM1000\",\"BEAM1000\",\"BEAM1000\",\"BEAM1000\",\"BEAM1000\",\"BEAM1000\",\"BEAM1000\",\"BEAM1000\",\"BEAM1000\",\"BEAM1000\",\"BEAM1000\",\"BEAM1000\",\"BEAM1000\",\"BEAM1000\",\"BEAM1000\",\"BEAM1000\",\"BEAM1000\",\"BEAM1000\",\"BEAM1000\",\"BEAM1000\",\"BEAM1000\",\"BEAM1000\",\"BEAM1000\",\"BEAM1000\",\"BEAM1000\",\"BEAM1000\",\"BEAM1000\",\"BEAM1000\",\"BEAM1000\",\"BEAM1000\",\"BEAM1000\",\"BEAM1000\",\"BEAM1000\",\"BEAM1000\",\"BEAM1000\",\"BEAM1000\",\"BEAM1000\",\"BEAM1000\",\"BEAM1000\",\"BEAM1000\",\"BEAM1000\",\"BEAM1000\",\"BEAM1000\",\"BEAM1000\",\"BEAM1000\",\"BEAM1000\",\"BEAM1000\",\"BEAM1000\",\"BEAM1000\",\"BEAM1000\",\"BEAM1000\",\"BEAM1000\",\"BEAM1000\",\"BEAM1000\",\"BEAM1000\",\"BEAM1000\",\"BEAM1000\",\"BEAM1000\",\"BEAM1000\",\"BEAM1000\",\"BEAM1000\",\"BEAM1000\",\"BEAM1000\",\"BEAM1000\",\"BEAM1000\",\"BEAM1000\",\"BEAM1000\",\"BEAM1000\",\"BEAM1000\",\"BEAM1000\",\"BEAM1000\",\"BEAM1000\",\"BEAM1000\",\"BEAM1000\",\"BEAM1000\",\"BEAM1000\",\"BEAM1000\",\"BEAM1000\",\"BEAM1000\",\"BEAM1000\",\"BEAM1000\",\"BEAM1000\",\"BEAM1000\",\"BEAM1000\",\"BEAM1000\",\"BEAM1000\",\"BEAM1000\",\"BEAM1000\",\"BEAM1000\",\"BEAM1000\",\"BEAM1000\",\"BEAM1000\",\"BEAM1000\",\"BEAM1000\",\"BEAM1000\",\"BEAM1000\",\"BEAM1000\",\"BEAM1000\",\"BEAM1000\",\"BEAM1000\",\"BEAM1000\",\"BEAM1000\",\"BEAM1000\",\"BEAM1000\",\"BEAM1000\",\"BEAM1000\",\"BEAM1000\",\"BEAM1000\",\"BEAM1000\",\"BEAM1000\",\"BEAM1000\",\"BEAM1000\",\"BEAM1000\",\"BEAM1000\",\"BEAM1000\",\"BEAM1000\",\"BEAM1000\",\"BEAM1000\",\"BEAM1000\",\"BEAM1000\",\"BEAM1000\",\"BEAM1000\",\"BEAM1000\",\"BEAM1000\",\"BEAM1000\",\"BEAM1000\",\"BEAM1000\",\"BEAM1000\",\"BEAM1000\",\"BEAM1000\",\"BEAM1000\",\"BEAM1000\",\"BEAM1000\",\"BEAM1000\",\"BEAM1000\",\"BEAM1000\",\"BEAM1000\",\"BEAM1000\",\"BEAM1000\",\"BEAM1000\",\"BEAM1000\",\"BEAM1000\",\"BEAM1000\",\"BEAM1000\",\"BEAM1000\",\"BEAM1000\",\"BEAM1000\",\"BEAM1000\",\"BEAM1000\",\"BEAM1000\",\"BEAM1000\",\"BEAM1000\",\"BEAM1000\",\"BEAM1000\",\"BEAM1000\",\"BEAM1000\",\"BEAM1000\",\"BEAM1000\",\"BEAM1000\",\"BEAM1000\",\"BEAM1000\",\"BEAM1000\",\"BEAM1000\",\"BEAM1000\",\"BEAM1000\",\"BEAM1000\",\"BEAM1000\",\"BEAM1000\",\"BEAM1000\",\"BEAM1000\",\"BEAM1000\",\"BEAM1000\",\"BEAM1000\",\"BEAM1000\",\"BEAM1000\",\"BEAM1000\",\"BEAM1000\",\"BEAM1000\",\"BEAM1000\",\"BEAM1000\",\"BEAM1000\",\"BEAM1000\",\"BEAM1000\",\"BEAM1000\",\"BEAM1000\",\"BEAM1000\",\"BEAM1000\",\"BEAM1000\",\"BEAM1000\",\"BEAM1000\",\"BEAM1000\",\"BEAM1000\",\"BEAM1000\",\"BEAM1000\",\"BEAM1000\",\"BEAM1000\",\"BEAM1000\",\"BEAM1000\",\"BEAM1000\",\"BEAM1000\",\"BEAM1000\",\"BEAM1000\",\"BEAM1000\",\"BEAM1000\",\"BEAM1000\",\"BEAM1000\",\"BEAM1000\",\"BEAM1000\",\"BEAM1000\",\"BEAM1000\",\"BEAM1000\",\"BEAM1000\",\"BEAM1000\",\"BEAM1000\",\"BEAM1000\",\"BEAM1000\",\"BEAM1000\",\"BEAM1000\",\"BEAM1000\",\"BEAM1000\",\"BEAM1000\",\"BEAM1000\",\"BEAM1000\",\"BEAM1000\",\"BEAM1000\",\"BEAM1000\",\"BEAM1000\",\"BEAM1000\",\"BEAM1000\",\"BEAM1000\",\"BEAM1000\",\"BEAM1000\",\"BEAM1000\",\"BEAM1000\",\"BEAM1000\",\"BEAM1000\",\"BEAM1000\",\"BEAM1000\",\"BEAM1000\",\"BEAM1000\",\"BEAM1000\",\"BEAM1000\",\"BEAM1000\",\"BEAM1000\",\"BEAM1000\",\"BEAM1000\",\"BEAM1000\",\"BEAM1000\",\"BEAM1000\",\"BEAM1000\",\"BEAM1000\",\"BEAM1000\",\"BEAM1000\",\"BEAM1000\",\"BEAM1000\",\"BEAM1000\",\"BEAM1000\",\"BEAM1000\",\"BEAM1000\",\"BEAM1000\",\"BEAM1000\",\"BEAM1000\",\"BEAM1000\",\"BEAM1000\",\"BEAM1000\",\"BEAM1000\",\"BEAM1000\",\"BEAM1000\",\"BEAM1000\",\"BEAM1000\",\"BEAM1000\",\"BEAM1000\",\"BEAM1000\",\"BEAM1000\",\"BEAM1000\",\"BEAM1000\",\"BEAM1000\",\"BEAM1000\",\"BEAM1000\",\"BEAM1000\",\"BEAM1000\",\"BEAM1000\",\"BEAM1000\",\"BEAM1000\",\"BEAM1000\",\"BEAM1000\",\"BEAM1000\",\"BEAM1000\",\"BEAM1000\",\"BEAM1000\",\"BEAM1000\",\"BEAM1000\",\"BEAM1000\",\"BEAM1000\",\"BEAM1000\",\"BEAM1000\",\"BEAM1000\",\"BEAM1000\",\"BEAM1000\",\"BEAM1000\",\"BEAM1000\",\"BEAM1000\",\"BEAM1000\",\"BEAM1000\",\"BEAM1000\",\"BEAM1000\",\"BEAM1000\",\"BEAM1000\",\"BEAM1000\",\"BEAM1000\",\"BEAM1000\",\"BEAM1000\",\"BEAM1000\",\"BEAM1000\",\"BEAM1000\",\"BEAM1000\",\"BEAM1000\",\"BEAM1000\",\"BEAM1000\",\"BEAM1000\",\"BEAM1000\",\"BEAM1000\",\"BEAM1000\",\"BEAM1000\",\"BEAM1000\",\"BEAM1000\",\"BEAM1000\",\"BEAM1000\",\"BEAM1000\",\"BEAM1000\",\"BEAM1000\",\"BEAM1000\",\"BEAM1000\",\"BEAM1000\",\"BEAM1000\",\"BEAM1000\",\"BEAM1000\",\"BEAM1000\",\"BEAM1000\",\"BEAM1000\",\"BEAM1000\",\"BEAM1000\",\"BEAM1000\",\"BEAM1000\",\"BEAM1000\",\"BEAM1000\",\"BEAM1000\",\"BEAM1000\",\"BEAM1000\",\"BEAM1000\",\"BEAM1000\",\"BEAM1000\",\"BEAM1000\",\"BEAM1000\",\"BEAM1000\",\"BEAM1000\",\"BEAM1000\",\"BEAM1000\",\"BEAM1000\",\"BEAM1000\",\"BEAM1000\",\"BEAM1000\",\"BEAM1000\",\"BEAM1000\",\"BEAM1000\",\"BEAM1000\",\"BEAM1000\",\"BEAM1000\",\"BEAM1000\",\"BEAM1000\",\"BEAM1000\",\"BEAM1000\",\"BEAM1000\",\"BEAM1000\",\"BEAM1000\",\"BEAM1000\",\"BEAM1000\",\"BEAM1000\",\"BEAM1000\",\"BEAM1000\",\"BEAM1000\",\"BEAM1000\",\"BEAM1000\",\"BEAM1000\",\"BEAM1000\",\"BEAM1000\",\"BEAM1000\",\"BEAM1000\",\"BEAM1000\",\"BEAM1000\",\"BEAM1000\",\"BEAM1000\",\"BEAM1000\",\"BEAM1000\",\"BEAM1000\",\"BEAM1000\",\"BEAM1000\",\"BEAM1000\",\"BEAM1000\",\"BEAM1000\",\"BEAM1000\",\"BEAM1000\",\"BEAM1000\",\"BEAM1000\",\"BEAM1000\",\"BEAM1000\",\"BEAM1000\",\"BEAM1000\",\"BEAM1000\",\"BEAM1000\",\"BEAM1000\",\"BEAM1000\",\"BEAM1000\",\"BEAM1000\",\"BEAM1000\",\"BEAM1000\",\"BEAM1000\",\"BEAM1000\",\"BEAM1000\",\"BEAM1000\",\"BEAM1000\",\"BEAM1000\",\"BEAM1000\",\"BEAM1000\",\"BEAM1000\",\"BEAM1000\",\"BEAM1000\",\"BEAM1000\",\"BEAM1000\",\"BEAM1000\",\"BEAM1000\",\"BEAM1000\",\"BEAM1000\",\"BEAM1000\",\"BEAM1000\",\"BEAM1000\",\"BEAM1000\",\"BEAM1000\",\"BEAM1000\",\"BEAM1000\",\"BEAM1000\",\"BEAM1000\",\"BEAM1000\"]],[\"Shot_Number\",[\"226260800100000001\",\"226260800100000101\",\"226260800100000201\",\"226260800100000301\",\"226260800100000401\",\"226260800100000501\",\"226260800100000601\",\"226260800100000701\",\"226260800100000801\",\"226260800100000901\",\"226260800100001001\",\"226260800100001101\",\"226260800100001201\",\"226260800100001301\",\"226260800100001401\",\"226260800100001501\",\"226260800100001601\",\"226260800100001701\",\"226260800100001801\",\"226260800100001901\",\"226260800100002001\",\"226260800100002101\",\"226260800100002201\",\"226260800100002301\",\"226260800100002401\",\"226260800100002501\",\"226260800100002601\",\"226260800100002701\",\"226260800100002801\",\"226260800100002901\",\"226260800100003001\",\"226260800100003101\",\"226260800100003201\",\"226260800100003301\",\"226260800100003401\",\"226260800100003501\",\"226260800100003601\",\"226260800100003701\",\"226260800100003801\",\"226260800100003901\",\"226260800100004001\",\"226260800100004101\",\"226260800100004201\",\"226260800100004301\",\"226260800100004401\",\"226260800100004501\",\"226260800100004601\",\"226260800100004701\",\"226260800100004801\",\"226260800100004901\",\"226260800100005001\",\"226260800100005101\",\"226260800100005201\",\"226260800100005301\",\"226260800100005401\",\"226260800100005501\",\"226260800100005601\",\"226260800100005701\",\"226260800100005801\",\"226260800100005901\",\"226260800100006001\",\"226260800100006101\",\"226260800100006201\",\"226260800100006301\",\"226260800100006401\",\"226260800100006501\",\"226260800100006601\",\"226260800100006701\",\"226260800100006801\",\"226260800100006901\",\"226260800100007001\",\"226260800100007101\",\"226260800100007201\",\"226260800100007301\",\"226260800100007401\",\"226260800100007501\",\"226260800100007601\",\"226260800100007701\",\"226260800100007801\",\"226260800100007901\",\"226260800100008001\",\"226260800100008101\",\"226260800100008201\",\"226260800100008301\",\"226260800100008401\",\"226260800100008501\",\"226260800100008601\",\"226260800100008701\",\"226260800100008801\",\"226260800100008901\",\"226260800100009001\",\"226260800100009101\",\"226260800100009201\",\"226260800100009301\",\"226260800100009401\",\"226260800100009501\",\"226260800100009601\",\"226260800100009701\",\"226260800100009801\",\"226260800100009901\",\"226260800100010001\",\"226260800100010101\",\"226260800100010201\",\"226260800100010301\",\"226260800100010401\",\"226260800100010501\",\"226260800100010601\",\"226260800100010701\",\"226260800100010801\",\"226260800100010901\",\"226260800100011001\",\"226260800100011101\",\"226260800100011201\",\"226260800100011301\",\"226260800100011401\",\"226260800100011501\",\"226260800100011601\",\"226260800100011701\",\"226260800100011801\",\"226260800100011901\",\"226260800100012001\",\"226260800100012101\",\"226260800100012201\",\"226260800100012301\",\"226260800100012401\",\"226260800100012501\",\"226260800100012601\",\"226260800100012701\",\"226260800100012801\",\"226260800100012901\",\"226260800100013001\",\"226260800100013101\",\"226260800100013201\",\"226260800100013301\",\"226260800100013401\",\"226260800100013501\",\"226260800100013601\",\"226260800100013701\",\"226260800100013801\",\"226260800100013901\",\"226260800100014001\",\"226260800100014101\",\"226260800100014201\",\"226260800100014301\",\"226260800100014401\",\"226260800100014501\",\"226260800100014601\",\"226260800100014701\",\"226260800100014801\",\"226260800100014901\",\"226260800100015001\",\"226260800100015101\",\"226260800100015201\",\"226260800100015301\",\"226260800100015401\",\"226260800100015501\",\"226260800100015601\",\"226260800100015701\",\"226260800100015801\",\"226260800100015901\",\"226260800100016001\",\"226260800100016101\",\"226260800100016201\",\"226260800100016301\",\"226260800100016401\",\"226260800100016501\",\"226260800100016601\",\"226260800100016701\",\"226260800100016801\",\"226260800100016901\",\"226260800100017001\",\"226260800100017101\",\"226260800100017201\",\"226260800100017301\",\"226260800100017401\",\"226260800100017501\",\"226260800100017601\",\"226260800100017701\",\"226260800100017801\",\"226260800100017901\",\"226260800100018001\",\"226260800100018101\",\"226260800100018201\",\"226260800100018301\",\"226260800100018401\",\"226260800100018501\",\"226260800100018601\",\"226260800100018701\",\"226260800100018801\",\"226260800100018901\",\"226260800100019001\",\"226260800100019101\",\"226260800100019201\",\"226260800100019301\",\"226260800100019401\",\"226260800100019501\",\"226260800100019601\",\"226260800100019701\",\"226260800100019801\",\"226260800100019901\",\"226260800100020001\",\"226260800100020101\",\"226260800100020201\",\"226260800100020301\",\"226260800100020401\",\"226260800100020501\",\"226260800100020601\",\"226260800100020701\",\"226260800100020801\",\"226260800100020901\",\"226260800100021001\",\"226260800100021101\",\"226260800100021201\",\"226260800100021301\",\"226260800100021401\",\"226260800100021501\",\"226260800100021601\",\"226260800100021701\",\"226260800100021801\",\"226260800100021901\",\"226260800100022001\",\"226260800100022101\",\"226260800100022201\",\"226260800100022301\",\"226260800100022401\",\"226260800100022501\",\"226260800100022601\",\"226260800100022701\",\"226260800100022801\",\"226260800100022901\",\"226260800100023001\",\"226260800100023101\",\"226260800100023201\",\"226260800100023301\",\"226260800100023401\",\"226260800100023501\",\"226260800100023601\",\"226260800100023701\",\"226260800100023801\",\"226260800100023901\",\"226260800100024001\",\"226260800100024101\",\"226260800100024201\",\"226260800100024301\",\"226260800100024401\",\"226260800100024501\",\"226260800100024601\",\"226260800100024701\",\"226260800100024801\",\"226260800100024901\",\"226260800100025001\",\"226260800100025101\",\"226260800100025201\",\"226260800100025301\",\"226260800100025401\",\"226260800100025501\",\"226260800100025601\",\"226260800100025701\",\"226260800100025801\",\"226260800100025901\",\"226260800100026001\",\"226260800100026101\",\"226260800100026201\",\"226260800100026301\",\"226260800100026401\",\"226260800100026501\",\"226260800100026601\",\"226260800100026701\",\"226260800100026801\",\"226260800100026901\",\"226260800100027001\",\"226260800100027101\",\"226260800100027201\",\"226260800100027301\",\"226260800100027401\",\"226260800100027501\",\"226260800100027601\",\"226260800100027701\",\"226260800100027801\",\"226260800100027901\",\"226260800100028001\",\"226260800100028101\",\"226260800100028201\",\"226260800100028301\",\"226260800100028401\",\"226260800100028501\",\"226260800100028601\",\"226260800100028701\",\"226260800100028801\",\"226260800100028901\",\"226260800100029001\",\"226260800100029101\",\"226260800100029201\",\"226260800100029301\",\"226260800100029401\",\"226260800100029501\",\"226260800100029601\",\"226260800100029701\",\"226260800100029801\",\"226260800100029901\",\"226260800100030001\",\"226260800100030101\",\"226260800100030201\",\"226260800100030301\",\"226260800100030401\",\"226260800100030501\",\"226260800100030601\",\"226260800100030701\",\"226260800100030801\",\"226260800100030901\",\"226260800100031001\",\"226260800100031101\",\"226260800100031201\",\"226260800100031301\",\"226260800100031401\",\"226260800100031501\",\"226260800100031601\",\"226260800100031701\",\"226260800100031801\",\"226260800100031901\",\"226260800100032001\",\"226260800100032101\",\"226260800100032201\",\"226260800100032301\",\"226260800100032401\",\"226260800100032501\",\"226260800100032601\",\"226260800100032701\",\"226260800100032801\",\"226260800100032901\",\"226260800100033001\",\"226260800100033101\",\"226260800100033201\",\"226260800100033301\",\"226260800100033401\",\"226260800100033501\",\"226260800100033601\",\"226260800100033701\",\"226260800100033801\",\"226260800100033901\",\"226260800100034001\",\"226260800100034101\",\"226260800100034201\",\"226260800100034301\",\"226260800100034401\",\"226260800100034501\",\"226260800100034601\",\"226260800100034701\",\"226260800100034801\",\"226260800100034901\",\"226260800100035001\",\"226260800100035101\",\"226260800100035201\",\"226260800100035301\",\"226260800100035401\",\"226260800100035501\",\"226260800100035601\",\"226260800100035701\",\"226260800100035801\",\"226260800100035901\",\"226260800100036001\",\"226260800100036101\",\"226260800100036201\",\"226260800100036301\",\"226260800100036401\",\"226260800100036501\",\"226260800100036601\",\"226260800100036701\",\"226260800100036801\",\"226260800100036901\",\"226260800100037001\",\"226260800100037101\",\"226260800100037201\",\"226260800100037301\",\"226260800100037401\",\"226260800100037501\",\"226260800100037601\",\"226260800100037701\",\"226260800100037801\",\"226260800100037901\",\"226260800100038001\",\"226260800100038101\",\"226260800100038201\",\"226260800100038301\",\"226260800100038401\",\"226260800100038501\",\"226260800100038601\",\"226260800100038701\",\"226260800100038801\",\"226260800100038901\",\"226260800100039001\",\"226260800100039101\",\"226260800100039201\",\"226260800100039301\",\"226260800100039401\",\"226260800100039501\",\"226260800100039601\",\"226260800100039701\",\"226260800100039801\",\"226260800100039901\",\"226260800100040001\",\"226260800100040101\",\"226260800100040201\",\"226260800100040301\",\"226260800100040401\",\"226260800100040501\",\"226260800100040601\",\"226260800100040701\",\"226260800100040801\",\"226260800100040901\",\"226260800100041001\",\"226260800100041101\",\"226260800100041201\",\"226260800100041301\",\"226260800100041401\",\"226260800100041501\",\"226260800100041601\",\"226260800100041701\",\"226260800100041801\",\"226260800100041901\",\"226260800100042001\",\"226260800100042101\",\"226260800100042201\",\"226260800100042301\",\"226260800100042401\",\"226260800100042501\",\"226260800100042601\",\"226260800100042701\",\"226260800100042801\",\"226260800100042901\",\"226260800100043001\",\"226260800100043101\",\"226260800100043201\",\"226260800100043301\",\"226260800100043401\",\"226260800100043501\",\"226260800100043601\",\"226260800100043701\",\"226260800100043801\",\"226260800100043901\",\"226260800100044001\",\"226260800100044101\",\"226260800100044201\",\"226260800100044301\",\"226260800100044401\",\"226260800100044501\",\"226260800100044601\",\"226260800100044701\",\"226260800100044801\",\"226260800100044901\",\"226260800100045001\",\"226260800100045101\",\"226260800100045201\",\"226260800100045301\",\"226260800100045401\",\"226260800100045501\",\"226260800100045601\",\"226260800100045701\",\"226260800100045801\",\"226260800100045901\",\"226260800100046001\",\"226260800100046101\",\"226260800100046201\",\"226260800100046301\",\"226260800100046401\",\"226260800100046501\",\"226260800100046601\",\"226260800100046701\",\"226260800100046801\",\"226260800100046901\",\"226260800100047001\",\"226260800100047101\",\"226260800100047201\",\"226260800100047301\",\"226260800100047401\",\"226260800100047501\",\"226260800100047601\",\"226260800100047701\",\"226260800100047801\",\"226260800100047901\",\"226260800100048001\",\"226260800100048101\",\"226260800100048201\",\"226260800100048301\",\"226260800100048401\",\"226260800100048501\",\"226260800100048601\",\"226260800100048701\",\"226260800100048801\",\"226260800100048901\",\"226260800100049001\",\"226260800100049101\",\"226260800100049201\",\"226260800100049301\",\"226260800100049401\",\"226260800100049501\",\"226260800100049601\",\"226260800100049701\",\"226260800100049801\",\"226260800100049901\",\"226260800100050001\",\"226260800100050101\",\"226260800100050201\",\"226260800100050301\",\"226260800100050401\",\"226260800100050501\",\"226260800100050601\",\"226260800100050701\",\"226260800100050801\",\"226260800100050901\",\"226260800100051001\",\"226260800100051101\",\"226260800100051201\",\"226260800100051301\",\"226260800100051401\",\"226260800100051501\",\"226260800100051601\",\"226260800100051701\",\"226260800100051801\",\"226260800100051901\",\"226260800100052001\",\"226260800100052101\",\"226260800100052201\",\"226260800100052301\",\"226260800100052401\",\"226260800100052501\",\"226260800100052601\",\"226260800100052701\",\"226260800100052801\",\"226260800100052901\",\"226260800100053001\",\"226260800100053101\",\"226260800100053201\",\"226260800100053301\",\"226260800100053401\",\"226260800100053501\",\"226260800100053601\",\"226260800100053701\",\"226260800100053801\",\"226260800100053901\",\"226260800100054001\",\"226260800100054101\",\"226260800100054201\",\"226260800100054301\",\"226260800100054401\",\"226260800100054501\",\"226260800100054601\",\"226260800100054701\",\"226260800100054801\",\"226260800100054901\",\"226260800100055001\",\"226260800100055101\",\"226260800100055201\",\"226260800100055301\",\"226260800100055401\",\"226260800100055501\",\"226260800100055601\",\"226260800100055701\",\"226260800100055801\",\"226260800100055901\",\"226260800100056001\",\"226260800100056101\",\"226260800100056201\",\"226260800100056301\",\"226260800100056401\",\"226260800100056501\",\"226260800100056601\",\"226260800100056701\",\"226260800100056801\",\"226260800100056901\",\"226260800100057001\",\"226260800100057101\",\"226260800100057201\",\"226260800100057301\",\"226260800100057401\",\"226260800100057501\",\"226260800100057601\",\"226260800100057701\",\"226260800100057801\",\"226260800100057901\",\"226260800100058001\",\"226260800100058101\",\"226260800100058201\",\"226260800100058301\",\"226260800100058401\",\"226260800100058501\",\"226260800100058601\",\"226260800100058701\",\"226260800100058801\",\"226260800100058901\",\"226260800100059001\",\"226260800100059101\",\"226260800100059201\",\"226260800100059301\",\"226260800100059401\",\"226260800100059501\",\"226260800100059601\",\"226260800100059701\",\"226260800100059801\",\"226260800100059901\",\"226260800100060001\",\"226260800100060101\",\"226260800100060201\",\"226260800100060301\",\"226260800100060401\",\"226260800100060501\",\"226260800100060601\",\"226260800100060701\",\"226260800100060801\",\"226260800100060901\",\"226260800100061001\",\"226260800100061101\",\"226260800100061201\",\"226260800100061301\",\"226260800100061401\",\"226260800100061501\",\"226260800100061601\",\"226260800100061701\",\"226260800100061801\",\"226260800100061901\",\"226260800100062001\",\"226260800100062101\",\"226260800100062201\",\"226260800100062301\",\"226260800100062401\",\"226260800100062501\",\"226260800100062601\",\"226260800100062701\",\"226260800100062801\",\"226260800100062901\",\"226260800100063001\",\"226260800100063101\",\"226260800100063201\",\"226260800100063301\",\"226260800100063401\",\"226260800100063501\",\"226260800100063601\",\"226260800100063701\",\"226260800100063801\",\"226260800100063901\",\"226260800100064001\",\"226260800100064101\",\"226260800100064201\",\"226260800100064301\",\"226260800100064401\",\"226260800100064501\",\"226260800100064601\",\"226260800100064701\",\"226260800100064801\",\"226260800100064901\",\"226260800100065001\",\"226260800100065101\",\"226260800100065201\",\"226260800100065301\",\"226260800100065401\",\"226260800100065501\",\"226260800100065601\",\"226260800100065701\",\"226260800100065801\",\"226260800100065901\",\"226260800100066001\",\"226260800100066101\",\"226260800100066201\",\"226260800100066301\",\"226260800100066401\",\"226260800100066501\",\"226260800100066601\",\"226260800100066701\",\"226260800100066801\",\"226260800100066901\",\"226260800100067001\",\"226260800100067101\",\"226260800100067201\",\"226260800100067301\",\"226260800100067401\",\"226260800100067501\",\"226260800100067601\",\"226260800100067701\",\"226260800100067801\",\"226260800100067901\",\"226260800100068001\",\"226260800100068101\",\"226260800100068201\",\"226260800100068301\",\"226260800100068401\",\"226260800100068501\",\"226260800100068601\",\"226260800100068701\",\"226260800100068801\",\"226260800100068901\",\"226260800100069001\",\"226260800100069101\",\"226260800100069201\",\"226260800100069301\",\"226260800100069401\",\"226260800100069501\",\"226260800100069601\",\"226260800100069701\",\"226260800100069801\",\"226260800100069901\",\"226260800100070001\",\"226260800100070101\",\"226260800100070201\",\"226260800100070301\",\"226260800100070401\",\"226260800100070501\",\"226260800100070601\",\"226260800100070701\",\"226260800100070801\",\"226260800100070901\",\"226260800100071001\",\"226260800100071101\",\"226260800100071201\",\"226260800100071301\",\"226260800100071401\",\"226260800100071501\",\"226260800100071601\",\"226260800100071701\",\"226260800100071801\",\"226260800100071901\",\"226260800100072001\",\"226260800100072101\",\"226260800100072201\",\"226260800100072301\",\"226260800100072401\",\"226260800100072501\",\"226260800100072601\",\"226260800100072701\",\"226260800100072801\",\"226260800100072901\",\"226260800100073001\",\"226260800100073101\",\"226260800100073201\",\"226260800100073301\",\"226260800100073401\",\"226260800100073501\",\"226260800100073601\",\"226260800100073701\",\"226260800100073801\",\"226260800100073901\",\"226260800100074001\",\"226260800100074101\",\"226260800100074201\",\"226260800100074301\",\"226260800100074401\",\"226260800100074501\",\"226260800100074601\",\"226260800100074701\",\"226260800100074801\",\"226260800100074901\",\"226260800100075001\",\"226260800100075101\",\"226260800100075201\",\"226260800100075301\",\"226260800100075401\",\"226260800100075501\",\"226260800100075601\",\"226260800100075701\",\"226260800100075801\",\"226260800100075901\",\"226260800100076001\",\"226260800100076101\",\"226260800100076201\",\"226260800100076301\",\"226260800100076401\",\"226260800100076501\",\"226260800100076601\",\"226260800100076701\",\"226260800100076801\",\"226260800100076901\",\"226260800100077001\",\"226260800100077101\",\"226260800100077201\",\"226260800100077301\",\"226260800100077401\",\"226260800100077501\",\"226260800100077601\",\"226260800100077701\",\"226260800100077801\",\"226260800100077901\",\"226260800100078001\",\"226260800100078101\",\"226260800100078201\",\"226260800100078301\",\"226260800100078401\",\"226260800100078501\",\"226260800100078601\",\"226260800100078701\",\"226260800100078801\",\"226260800100078901\",\"226260800100079001\",\"226260800100079101\",\"226260800100079201\",\"226260800100079301\",\"226260800100079401\",\"226260800100079501\",\"226260800100079601\",\"226260800100079701\",\"226260800100079801\",\"226260800100079901\",\"226260800100080001\",\"226260800100080101\",\"226260800100080201\",\"226260800100080301\",\"226260800100080401\",\"226260800100080501\",\"226260800100080601\",\"226260800100080701\",\"226260800100080801\",\"226260800100080901\",\"226260800100081001\",\"226260800100081101\",\"226260800100081201\",\"226260800100081301\",\"226260800100081401\",\"226260800100081501\",\"226260800100081601\",\"226260800100081701\",\"226260800100081801\",\"226260800100081901\",\"226260800100082001\",\"226260800100082101\",\"226260800100082201\",\"226260800100082301\",\"226260800100082401\",\"226260800100082501\",\"226260800100082601\",\"226260800100082701\",\"226260800100082801\",\"226260800100082901\",\"226260800100083001\",\"226260800100083101\",\"226260800100083201\",\"226260800100083301\",\"226260800100083401\",\"226260800100083501\",\"226260800100083601\",\"226260800100083701\",\"226260800100083801\",\"226260800100083901\",\"226260800100084001\",\"226260800100084101\",\"226260800100084201\",\"226260800100084301\",\"226260800100084401\",\"226260800100084501\",\"226260800100084601\",\"226260800100084701\",\"226260800100084801\",\"226260800100084901\",\"226260800100085001\",\"226260800100085101\",\"226260800100085201\",\"226260800100085301\",\"226260800100085401\",\"226260800100085501\",\"226260800100085601\",\"226260800100085701\",\"226260800100085801\",\"226260800100085901\",\"226260800100086001\",\"226260800100086101\",\"226260800100086201\",\"226260800100086301\",\"226260800100086401\",\"226260800100086501\",\"226260800100086601\",\"226260800100086701\",\"226260800100086801\",\"226260800100086901\",\"226260800100087001\",\"226260800100087101\",\"226260800100087201\",\"226260800100087301\",\"226260800100087401\",\"226260800100087501\",\"226260800100087601\",\"226260800100087701\",\"226260800100087801\",\"226260800100087901\",\"226260800100088001\",\"226260800100088101\",\"226260800100088201\",\"226260800100088301\",\"226260800100088401\",\"226260800100088501\",\"226260800100088601\",\"226260800100088701\",\"226260800100088801\",\"226260800100088901\",\"226260800100089001\",\"226260800100089101\",\"226260800100089201\",\"226260800100089301\",\"226260800100089401\",\"226260800100089501\",\"226260800100089601\",\"226260800100089701\",\"226260800100089801\",\"226260800100089901\",\"226260800100090001\",\"226260800100090101\",\"226260800100090201\",\"226260800100090301\",\"226260800100090401\",\"226260800100090501\",\"226260800100090601\",\"226260800100090701\",\"226260800100090801\",\"226260800100090901\",\"226260800100091001\",\"226260800100091101\",\"226260800100091201\",\"226260800100091301\",\"226260800100091401\",\"226260800100091501\",\"226260800100091601\",\"226260800100091701\",\"226260800100091801\",\"226260800100091901\",\"226260800100092001\",\"226260800100092101\",\"226260800100092201\",\"226260800100092301\",\"226260800100092401\",\"226260800100092501\",\"226260800100092601\",\"226260800100092701\",\"226260800100092801\",\"226260800100092901\",\"226260800100093001\",\"226260800100093101\",\"226260800100093201\",\"226260800100093301\",\"226260800100093401\",\"226260800100093501\",\"226260800100093601\",\"226260800100093701\",\"226260800100093801\",\"226260800100093901\",\"226260800100094001\",\"226260800100094101\",\"226260800100094201\",\"226260800100094301\",\"226260800100094401\",\"226260800100094501\",\"226260800100094601\",\"226260800100094701\",\"226260800100094801\",\"226260800100094901\",\"226260800100095001\",\"226260800100095101\",\"226260800100095201\",\"226260800100095301\",\"226260800100095401\",\"226260800100095501\",\"226260800100095601\",\"226260800100095701\",\"226260800100095801\",\"226260800100095901\",\"226260800100096001\",\"226260800100096101\",\"226260800100096201\",\"226260800100096301\",\"226260800100096401\",\"226260800100096501\",\"226260800100096601\",\"226260800100096701\",\"226260800100096801\",\"226260800100096901\",\"226260800100097001\",\"226260800100097101\",\"226260800100097201\",\"226260800100097301\",\"226260800100097401\",\"226260800100097501\",\"226260800100097601\",\"226260800100097701\",\"226260800100097801\",\"226260800100097901\",\"226260800100098001\",\"226260800100098101\",\"226260800100098201\",\"226260800100098301\",\"226260800100098401\",\"226260800100098501\",\"226260800100098601\",\"226260800100098701\",\"226260800100098801\",\"226260800100098901\",\"226260800100099001\",\"226260800100099101\",\"226260800100099201\",\"226260800100099301\",\"226260800100099401\",\"226260800100099501\",\"226260800100099601\",\"226260800100099701\",\"226260800100099801\",\"226260800100099901\",\"226260800100100001\",\"226260800100100101\",\"226260800100100201\",\"226260800100100301\",\"226260800100100401\",\"226260800100100501\",\"226260800100100601\",\"226260800100100701\",\"226260800100100801\",\"226260800100100901\",\"226260800100101001\",\"226260800100101101\",\"226260800100101201\",\"226260800100101301\",\"226260800100101401\",\"226260800100101501\",\"226260800100101601\",\"226260800100101701\",\"226260800100101801\",\"226260800100101901\",\"226260800100102001\",\"226260800100102101\",\"226260800100102201\",\"226260800100102301\",\"226260800100102401\",\"226260800100102501\",\"226260800100102601\",\"226260800100102701\",\"226260800100102801\",\"226260800100102901\",\"226260800100103001\",\"226260800100103101\",\"226260800100103201\",\"226260800100103301\",\"226260800100103401\",\"226260800100103501\",\"226260800100103601\",\"226260800100103701\",\"226260800100103801\",\"226260800100103901\",\"226260800100104001\",\"226260800100104101\",\"226260800100104201\",\"226260800100104301\",\"226260800100104401\",\"226260800100104501\",\"226260800100104601\",\"226260800100104701\",\"226260800100104801\",\"226260800100104901\",\"226260800100105001\",\"226260800100105101\",\"226260800100105201\",\"226260800100105301\",\"226260800100105401\",\"226260800100105501\",\"226260800100105601\",\"226260800100105701\",\"226260800100105801\",\"226260800100105901\",\"226260800100106001\",\"226260800100106101\",\"226260800100106201\",\"226260800100106301\"]],[\"Quality_Flag\",{\"type\":\"ndarray\",\"array\":{\"type\":\"bytes\",\"data\":\"AAAAAAAAAAAAAAAAAAEBAQAAAQAAAAAAAQEAAAEBAQEBAAABAQAAAAAAAAABAQABAAAAAQABAAABAQEAAQEBAAEBAQEBAAEBAQEBAAAAAAABAAAAAAAAAAAAAAAAAAAAAAEAAQEAAQAAAAAAAQEBAQEAAAEAAAABAAEBAAEBAQEAAAEBAQABAAEAAAAAAAAAAAAAAAAAAAAAAAAAAQEAAAEBAQEBAQEAAQEBAQEBAQEBAQEBAQEBAAAAAAEBAQEBAQAAAQAAAAAAAAAAAQABAAABAAEAAAAAAAEAAQABAQEBAAAAAAEBAQEBAQEAAAEBAQEBAQEBAAEBAAAAAAAAAAAAAAAAAAAAAAAAAAEAAAAAAAEBAAAAAAAAAAAAAAAAAAAAAAEBAQEBAAABAQEBAQEBAAEBAQEAAAABAQEBAQEBAQABAQEBAQEAAQEBAQEAAAABAAEBAQAAAQEBAQEAAAABAQEBAQEBAQEAAQEBAAAAAAAAAAAAAAAAAAAAAAAAAAAAAAAAAAAAAAABAAAAAAEAAAAAAAEAAQEBAQEBAQEBAQEBAQEBAQEAAQEBAQEBAQEBAQEBAQEBAQEBAQEBAQEBAQEBAQEBAQAAAQEBAQEAAAAAAAAAAAAAAAAAAAAAAQAAAAAAAAEAAQEBAQABAQEBAQABAAEBAAAAAQEAAAAAAAAAAAAAAAAAAAAAAAAAAAAAAAAAAAAAAAAAAAAAAAAAAAAAAAAAAAAAAQEBAQEBAQEBAAEBAQEBAQEBAQEBAQEBAQEBAQEBAQEBAQEBAQEBAQEBAQEBAQEBAQEBAQEBAQEBAQEBAQEBAQEBAQEBAQEBAQEBAQEBAQEBAQEBAQEBAQEBAQEBAQEBAQEBAQEBAQEBAQEBAQEBAQEBAQEBAQEBAQEBAQEBAQEBAQEBAQEBAQEBAQAAAAEAAQAAAAEBAAAAAAEBAQEBAQAAAAAAAAAAAAEBAQEAAAEBAQEBAQEBAAEBAQEBAAEBAAAAAAAAAAAAAAAAAAAAAAABAQEBAQEAAAAAAAAAAQEBAQEBAAEBAQEBAQEAAQEBAQEBAQEBAQEBAQEBAQEBAQEBAQEBAQEBAQEBAQEBAQEBAQEBAQEBAQEBAQEBAQEBAQEBAQEBAQABAQAAAQAAAAABAQEBAQEBAQAAAQEBAQEBAQEBAQEBAQEBAQEBAQEBAQEBAQAAAAAAAAAAAAEAAAAAAAAAAAAAAAAAAAAAAAAAAAAAAAAAAAAAAAAAAAAAAAAAAAAAAAAAAAAAAAAAAAAAAAAAAAAAAAAAAQEBAQEBAQEBAQEBAQEAAAAAAAAAAAEBAQAAAAAAAAAAAAAAAAAAAAAAAAAAAAEAAAAAAAAAAAAAAAAAAAAAAQAAAAAAAAAAAAAAAAAAAAAAAAAAAAAAAAAAAAAAAAAAAAA=\"},\"shape\":[1064],\"dtype\":\"uint8\",\"order\":\"little\"}]]}}},\"view\":{\"type\":\"object\",\"name\":\"CDSView\",\"id\":\"640168db-f8e8-476a-9ccc-2218ed14c5af\",\"attributes\":{\"filter\":{\"type\":\"object\",\"name\":\"AllIndices\",\"id\":\"e1a46002-01d6-45ec-b819-7fb7244d4092\"}}},\"glyph\":{\"type\":\"object\",\"name\":\"Scatter\",\"id\":\"c85a62b7-54b1-4aa4-bd97-6b1c8c236837\",\"attributes\":{\"tags\":[\"apply_ranges\"],\"x\":{\"type\":\"field\",\"field\":\"Longitude\"},\"y\":{\"type\":\"field\",\"field\":\"Latitude\"},\"size\":{\"type\":\"value\",\"value\":5},\"line_color\":{\"type\":\"value\",\"value\":\"yellow\"},\"fill_color\":{\"type\":\"value\",\"value\":\"yellow\"},\"hatch_color\":{\"type\":\"value\",\"value\":\"yellow\"}}},\"selection_glyph\":{\"type\":\"object\",\"name\":\"Scatter\",\"id\":\"397863d4-21bd-4f07-9b7f-a5517e9c316d\",\"attributes\":{\"tags\":[\"apply_ranges\"],\"x\":{\"type\":\"field\",\"field\":\"Longitude\"},\"y\":{\"type\":\"field\",\"field\":\"Latitude\"},\"size\":{\"type\":\"value\",\"value\":5},\"angle\":{\"type\":\"value\",\"value\":0.0},\"line_color\":{\"type\":\"value\",\"value\":\"yellow\"},\"line_alpha\":{\"type\":\"value\",\"value\":1.0},\"line_width\":{\"type\":\"value\",\"value\":1},\"line_join\":{\"type\":\"value\",\"value\":\"bevel\"},\"line_cap\":{\"type\":\"value\",\"value\":\"butt\"},\"line_dash\":{\"type\":\"value\",\"value\":[]},\"line_dash_offset\":{\"type\":\"value\",\"value\":0},\"fill_color\":{\"type\":\"value\",\"value\":\"yellow\"},\"fill_alpha\":{\"type\":\"value\",\"value\":1.0},\"hatch_color\":{\"type\":\"value\",\"value\":\"yellow\"},\"hatch_alpha\":{\"type\":\"value\",\"value\":1.0},\"hatch_scale\":{\"type\":\"value\",\"value\":12.0},\"hatch_pattern\":{\"type\":\"value\",\"value\":null},\"hatch_weight\":{\"type\":\"value\",\"value\":1.0},\"marker\":{\"type\":\"value\",\"value\":\"circle\"}}},\"nonselection_glyph\":{\"type\":\"object\",\"name\":\"Scatter\",\"id\":\"7a292c07-fd68-41ad-88e0-4de97b231744\",\"attributes\":{\"tags\":[\"apply_ranges\"],\"x\":{\"type\":\"field\",\"field\":\"Longitude\"},\"y\":{\"type\":\"field\",\"field\":\"Latitude\"},\"size\":{\"type\":\"value\",\"value\":5},\"line_color\":{\"type\":\"value\",\"value\":\"yellow\"},\"line_alpha\":{\"type\":\"value\",\"value\":0.1},\"fill_color\":{\"type\":\"value\",\"value\":\"yellow\"},\"fill_alpha\":{\"type\":\"value\",\"value\":0.1},\"hatch_color\":{\"type\":\"value\",\"value\":\"yellow\"},\"hatch_alpha\":{\"type\":\"value\",\"value\":0.1}}},\"muted_glyph\":{\"type\":\"object\",\"name\":\"Scatter\",\"id\":\"4afe4bb1-7962-4055-a8be-e67a35a09828\",\"attributes\":{\"tags\":[\"apply_ranges\"],\"x\":{\"type\":\"field\",\"field\":\"Longitude\"},\"y\":{\"type\":\"field\",\"field\":\"Latitude\"},\"size\":{\"type\":\"value\",\"value\":5},\"line_color\":{\"type\":\"value\",\"value\":\"yellow\"},\"line_alpha\":{\"type\":\"value\",\"value\":0.2},\"fill_color\":{\"type\":\"value\",\"value\":\"yellow\"},\"fill_alpha\":{\"type\":\"value\",\"value\":0.2},\"hatch_color\":{\"type\":\"value\",\"value\":\"yellow\"},\"hatch_alpha\":{\"type\":\"value\",\"value\":0.2}}}}},{\"type\":\"object\",\"name\":\"TileRenderer\",\"id\":\"699c46f7-8e71-4113-9bae-a8c87d30dd95\",\"attributes\":{\"level\":\"underlay\",\"tile_source\":{\"type\":\"object\",\"name\":\"WMTSTileSource\",\"id\":\"d9448bd1-59f6-4eaf-a6f5-28641be27ba6\",\"attributes\":{\"url\":\"https://server.arcgisonline.com/ArcGIS/rest/services/World_Imagery/MapServer/tile/{Z}/{Y}/{X}.jpg\",\"max_zoom\":19,\"attribution\":\"&copy; <a href=\\\"http://downloads.esri.com/ArcGISOnline/docs/tou_summary.pdf\\\">Esri</a>, Earthstar Geographics\"}}}},{\"type\":\"object\",\"name\":\"GlyphRenderer\",\"id\":\"6b139c28-e0c8-4f73-91aa-71a092ba99ed\",\"attributes\":{\"data_source\":{\"type\":\"object\",\"name\":\"ColumnDataSource\",\"id\":\"91710385-9426-480d-a207-339578a0bd61\",\"attributes\":{\"selected\":{\"type\":\"object\",\"name\":\"Selection\",\"id\":\"9239c35b-a377-4f87-89d3-8b40c62a8955\",\"attributes\":{\"indices\":[],\"line_indices\":[]}},\"selection_policy\":{\"type\":\"object\",\"name\":\"UnionRenderers\",\"id\":\"2cfeee87-0f81-4433-908f-dd3eed23c60b\"},\"data\":{\"type\":\"map\",\"entries\":[[\"Longitude\",{\"type\":\"ndarray\",\"array\":{\"type\":\"bytes\",\"data\":\"j70zr3/hbkGdJvyZI85uQc1dbihjzW5B0FljaBHPbkEivCKDzttuQQG3oe/+125BqoLeJLD2bkFhd3L8qeluQZSydgfm625BpAYhK2jpbkGqiKm/luhuQYyRmBNG4W5BuxdCq43jbkF8hBEgZ/NuQV8YjuWT9m5BfUi3r0znbkGFH9NbnfJuQdi8jbL04W5B/3C1XALpbkE=\"},\"shape\":[19],\"dtype\":\"float64\",\"order\":\"little\"}],[\"Latitude\",{\"type\":\"ndarray\",\"array\":{\"type\":\"bytes\",\"data\":\"pcQu64DHO8FmHEdGV+w7wS57Wf9kBzzBSBtr64YIPMFvhetOnyo8wfMQ1opvdjzBAI7uuOJMPcGbn2peK3c9wadNhBW7gz3BpLNYlLWRPcHRU2+nj9E9wZcKpiu02z3BDlFfmaLuPcEYOmB6Ngk+wfHUFAgOPz7ByOrFL7hHPsH2mDHDnfs/wfB/wVhkuDvB5pnZujFSPcE=\"},\"shape\":[19],\"dtype\":\"float64\",\"order\":\"little\"}],[\"plot_name\",[\"Oliver Creek\",\"Fantail LA\",\"Agapetes LA\",\"Agapetes SA\",\"Whyanbeel\",\"Mount Lewis\",\"Pine Creek\",\"Mount Haig\",\"Robson Creek\",\"Downfall Creek\",\"Curtain Fig\",\"Mount Baldy\",\"The Crater\",\"Russell River\",\"Woopen Creek\",\"Mount Fisher\",\"Garrawalt\",\"Daintree Rainforest Observatory\",\"Davies Creek\"]]]}}},\"view\":{\"type\":\"object\",\"name\":\"CDSView\",\"id\":\"608ada8c-dcca-4bdf-b89a-41f12f28a126\",\"attributes\":{\"filter\":{\"type\":\"object\",\"name\":\"AllIndices\",\"id\":\"e2a652fa-1fa6-4923-9277-aad9240c345c\"}}},\"glyph\":{\"type\":\"object\",\"name\":\"Scatter\",\"id\":\"14414e22-9651-47b8-92fd-e95f02ddffe4\",\"attributes\":{\"tags\":[\"apply_ranges\"],\"x\":{\"type\":\"field\",\"field\":\"Longitude\"},\"y\":{\"type\":\"field\",\"field\":\"Latitude\"},\"size\":{\"type\":\"value\",\"value\":5},\"line_color\":{\"type\":\"value\",\"value\":\"yellow\"},\"fill_color\":{\"type\":\"value\",\"value\":\"yellow\"},\"hatch_color\":{\"type\":\"value\",\"value\":\"yellow\"}}},\"selection_glyph\":{\"type\":\"object\",\"name\":\"Scatter\",\"id\":\"58cecf31-adaa-4ca2-881b-72dca34de1ed\",\"attributes\":{\"tags\":[\"apply_ranges\"],\"x\":{\"type\":\"field\",\"field\":\"Longitude\"},\"y\":{\"type\":\"field\",\"field\":\"Latitude\"},\"size\":{\"type\":\"value\",\"value\":5},\"angle\":{\"type\":\"value\",\"value\":0.0},\"line_color\":{\"type\":\"value\",\"value\":\"yellow\"},\"line_alpha\":{\"type\":\"value\",\"value\":1.0},\"line_width\":{\"type\":\"value\",\"value\":1},\"line_join\":{\"type\":\"value\",\"value\":\"bevel\"},\"line_cap\":{\"type\":\"value\",\"value\":\"butt\"},\"line_dash\":{\"type\":\"value\",\"value\":[]},\"line_dash_offset\":{\"type\":\"value\",\"value\":0},\"fill_color\":{\"type\":\"value\",\"value\":\"yellow\"},\"fill_alpha\":{\"type\":\"value\",\"value\":1.0},\"hatch_color\":{\"type\":\"value\",\"value\":\"yellow\"},\"hatch_alpha\":{\"type\":\"value\",\"value\":1.0},\"hatch_scale\":{\"type\":\"value\",\"value\":12.0},\"hatch_pattern\":{\"type\":\"value\",\"value\":null},\"hatch_weight\":{\"type\":\"value\",\"value\":1.0},\"marker\":{\"type\":\"value\",\"value\":\"circle\"}}},\"nonselection_glyph\":{\"type\":\"object\",\"name\":\"Scatter\",\"id\":\"22ace91d-2df1-4615-ae34-60ce7c10ba3e\",\"attributes\":{\"tags\":[\"apply_ranges\"],\"x\":{\"type\":\"field\",\"field\":\"Longitude\"},\"y\":{\"type\":\"field\",\"field\":\"Latitude\"},\"size\":{\"type\":\"value\",\"value\":5},\"line_color\":{\"type\":\"value\",\"value\":\"yellow\"},\"line_alpha\":{\"type\":\"value\",\"value\":0.1},\"fill_color\":{\"type\":\"value\",\"value\":\"yellow\"},\"fill_alpha\":{\"type\":\"value\",\"value\":0.1},\"hatch_color\":{\"type\":\"value\",\"value\":\"yellow\"},\"hatch_alpha\":{\"type\":\"value\",\"value\":0.1}}},\"muted_glyph\":{\"type\":\"object\",\"name\":\"Scatter\",\"id\":\"d7919599-1c1b-44cd-a6b3-30bb97ba6b32\",\"attributes\":{\"tags\":[\"apply_ranges\"],\"x\":{\"type\":\"field\",\"field\":\"Longitude\"},\"y\":{\"type\":\"field\",\"field\":\"Latitude\"},\"size\":{\"type\":\"value\",\"value\":5},\"line_color\":{\"type\":\"value\",\"value\":\"yellow\"},\"line_alpha\":{\"type\":\"value\",\"value\":0.2},\"fill_color\":{\"type\":\"value\",\"value\":\"yellow\"},\"fill_alpha\":{\"type\":\"value\",\"value\":0.2},\"hatch_color\":{\"type\":\"value\",\"value\":\"yellow\"},\"hatch_alpha\":{\"type\":\"value\",\"value\":0.2}}}}}],\"toolbar\":{\"type\":\"object\",\"name\":\"Toolbar\",\"id\":\"f29762f3-187d-4f87-8f72-576c9faba0f8\",\"attributes\":{\"tools\":[{\"type\":\"object\",\"name\":\"WheelZoomTool\",\"id\":\"84c33e43-8d90-4763-aa15-df7360deeae7\",\"attributes\":{\"renderers\":\"auto\",\"zoom_on_axis\":false}},{\"type\":\"object\",\"name\":\"BoxZoomTool\",\"id\":\"a61b8308-c128-4e59-83f3-901423971ed5\",\"attributes\":{\"overlay\":{\"type\":\"object\",\"name\":\"BoxAnnotation\",\"id\":\"b2344080-2045-44b4-97ab-7da5648a9db1\",\"attributes\":{\"syncable\":false,\"line_color\":\"black\",\"line_alpha\":1.0,\"line_width\":2,\"line_dash\":[4,4],\"fill_color\":\"lightgrey\",\"fill_alpha\":0.5,\"level\":\"overlay\",\"visible\":false,\"left\":{\"type\":\"number\",\"value\":\"nan\"},\"right\":{\"type\":\"number\",\"value\":\"nan\"},\"top\":{\"type\":\"number\",\"value\":\"nan\"},\"bottom\":{\"type\":\"number\",\"value\":\"nan\"},\"left_units\":\"canvas\",\"right_units\":\"canvas\",\"top_units\":\"canvas\",\"bottom_units\":\"canvas\",\"handles\":{\"type\":\"object\",\"name\":\"BoxInteractionHandles\",\"id\":\"p1010\",\"attributes\":{\"all\":{\"type\":\"object\",\"name\":\"AreaVisuals\",\"id\":\"p1009\",\"attributes\":{\"fill_color\":\"white\",\"hover_fill_color\":\"lightgray\"}}}}}},\"match_aspect\":true}},{\"type\":\"object\",\"name\":\"HoverTool\",\"id\":\"087b2397-7f4a-491f-9f85-ff42d78fd818\",\"attributes\":{\"tags\":[\"hv_created\"],\"renderers\":[{\"id\":\"4e83708f-ad37-4e37-984d-2b12f61a0717\"}],\"tooltips\":[[\"Longitude\",\"$x{custom}\"],[\"Latitude\",\"$y{custom}\"],[\"Beam\",\"@{Beam}\"],[\"Shot Number\",\"@{Shot_Number}\"],[\"Quality Flag\",\"@{Quality_Flag}\"]],\"formatters\":{\"type\":\"map\",\"entries\":[[\"$x\",{\"type\":\"object\",\"name\":\"CustomJSHover\",\"id\":\"7a2e9744-97ea-4ea9-bba1-dfe94096090c\",\"attributes\":{\"code\":\"\\n        const projections = Bokeh.require(\\\"core/util/projections\\\");\\n        const {snap_x, snap_y} = special_vars\\n        const coords = projections.wgs84_mercator.invert(snap_x, snap_y)\\n        return \\\"\\\" + (coords[0]).toFixed(4)\\n    \"}}],[\"$y\",{\"type\":\"object\",\"name\":\"CustomJSHover\",\"id\":\"74ccd3d3-c3ba-4ae7-9d97-420d8260196b\",\"attributes\":{\"code\":\"\\n        const projections = Bokeh.require(\\\"core/util/projections\\\");\\n        const {snap_x, snap_y} = special_vars\\n        const coords = projections.wgs84_mercator.invert(snap_x, snap_y)\\n        return \\\"\\\" + (coords[1]).toFixed(4)\\n    \"}}]]}}},{\"type\":\"object\",\"name\":\"HoverTool\",\"id\":\"e3d76a2a-c6da-404d-84aa-d935c71526db\",\"attributes\":{\"tags\":[\"hv_created\"],\"renderers\":[{\"id\":\"6b139c28-e0c8-4f73-91aa-71a092ba99ed\"}],\"tooltips\":[[\"Longitude\",\"@{Longitude}\"],[\"Latitude\",\"@{Latitude}\"],[\"plot_name\",\"@{plot_name}\"]]}},{\"type\":\"object\",\"name\":\"PanTool\",\"id\":\"4a2fef72-9f7f-4b1f-b2b6-f7afb9865abf\"},{\"type\":\"object\",\"name\":\"ResetTool\",\"id\":\"ad27be7f-11f1-47c8-8ce1-e631b0432126\"}],\"active_drag\":{\"id\":\"4a2fef72-9f7f-4b1f-b2b6-f7afb9865abf\"}}},\"left\":[{\"type\":\"object\",\"name\":\"LinearAxis\",\"id\":\"94f4bec2-1eca-4d9b-92ac-7d4c10468978\",\"attributes\":{\"ticker\":{\"type\":\"object\",\"name\":\"MercatorTicker\",\"id\":\"9f0147e0-2b16-4f5b-b8c8-e9c07fe2f7ab\",\"attributes\":{\"mantissas\":[1,2,5],\"dimension\":\"lat\"}},\"formatter\":{\"type\":\"object\",\"name\":\"MercatorTickFormatter\",\"id\":\"0571c010-e18e-4017-908f-2a601a440a81\",\"attributes\":{\"dimension\":\"lat\"}},\"axis_label\":\"Latitude\",\"axis_label_text_font_size\":\"16pt\",\"major_label_policy\":{\"type\":\"object\",\"name\":\"AllLabels\",\"id\":\"86058018-ee83-4cd4-94a6-1bd4d90cedf6\"},\"major_label_text_font_size\":\"10pt\"}}],\"below\":[{\"type\":\"object\",\"name\":\"LinearAxis\",\"id\":\"5b429735-0905-4afa-ac0e-574c00620c04\",\"attributes\":{\"ticker\":{\"type\":\"object\",\"name\":\"MercatorTicker\",\"id\":\"f79fc734-5606-494f-82c3-9706f7de3da0\",\"attributes\":{\"mantissas\":[1,2,5],\"dimension\":\"lon\"}},\"formatter\":{\"type\":\"object\",\"name\":\"MercatorTickFormatter\",\"id\":\"3483bec3-44c6-4b86-bf39-3d13b29dfac2\",\"attributes\":{\"dimension\":\"lon\"}},\"axis_label\":\"Longitude\",\"axis_label_text_font_size\":\"16pt\",\"major_label_policy\":{\"type\":\"object\",\"name\":\"AllLabels\",\"id\":\"c7d54ac2-c6b8-4140-a532-9336bc4f60a0\"},\"major_label_text_font_size\":\"10pt\"}}],\"center\":[{\"type\":\"object\",\"name\":\"Grid\",\"id\":\"dd7d1d68-4f2d-486c-8203-2072a8a5b004\",\"attributes\":{\"axis\":{\"id\":\"5b429735-0905-4afa-ac0e-574c00620c04\"},\"grid_line_color\":null}},{\"type\":\"object\",\"name\":\"Grid\",\"id\":\"5a089c21-9913-4ad6-a867-6f4440ffdedf\",\"attributes\":{\"dimension\":1,\"axis\":{\"id\":\"94f4bec2-1eca-4d9b-92ac-7d4c10468978\"},\"grid_line_color\":null}}],\"min_border_top\":10,\"min_border_bottom\":10,\"min_border_left\":10,\"min_border_right\":10,\"output_backend\":\"webgl\"}},{\"type\":\"object\",\"name\":\"Spacer\",\"id\":\"323014e7-5eaf-4b3a-a9fb-887125a54f7d\",\"attributes\":{\"name\":\"HSpacer00420\",\"stylesheets\":[\"\\n:host(.pn-loading):before, .pn-loading:before {\\n  background-color: #c3c3c3;\\n  mask-size: auto calc(min(50%, 400px));\\n  -webkit-mask-size: auto calc(min(50%, 400px));\\n}\",{\"id\":\"7629185e-9f35-4b71-ae98-0869ce3e8ba4\"},{\"id\":\"414d46f0-919a-4753-8def-a07244d91bf7\"},{\"id\":\"e836e311-e442-4e8d-84d4-ecd769dcd350\"}],\"margin\":0,\"sizing_mode\":\"stretch_width\",\"align\":\"start\"}}]}}],\"defs\":[{\"type\":\"model\",\"name\":\"ReactiveHTML1\"},{\"type\":\"model\",\"name\":\"FlexBox1\",\"properties\":[{\"name\":\"align_content\",\"kind\":\"Any\",\"default\":\"flex-start\"},{\"name\":\"align_items\",\"kind\":\"Any\",\"default\":\"flex-start\"},{\"name\":\"flex_direction\",\"kind\":\"Any\",\"default\":\"row\"},{\"name\":\"flex_wrap\",\"kind\":\"Any\",\"default\":\"wrap\"},{\"name\":\"gap\",\"kind\":\"Any\",\"default\":\"\"},{\"name\":\"justify_content\",\"kind\":\"Any\",\"default\":\"flex-start\"}]},{\"type\":\"model\",\"name\":\"FloatPanel1\",\"properties\":[{\"name\":\"config\",\"kind\":\"Any\",\"default\":{\"type\":\"map\"}},{\"name\":\"contained\",\"kind\":\"Any\",\"default\":true},{\"name\":\"position\",\"kind\":\"Any\",\"default\":\"right-top\"},{\"name\":\"offsetx\",\"kind\":\"Any\",\"default\":null},{\"name\":\"offsety\",\"kind\":\"Any\",\"default\":null},{\"name\":\"theme\",\"kind\":\"Any\",\"default\":\"primary\"},{\"name\":\"status\",\"kind\":\"Any\",\"default\":\"normalized\"}]},{\"type\":\"model\",\"name\":\"GridStack1\",\"properties\":[{\"name\":\"mode\",\"kind\":\"Any\",\"default\":\"warn\"},{\"name\":\"ncols\",\"kind\":\"Any\",\"default\":null},{\"name\":\"nrows\",\"kind\":\"Any\",\"default\":null},{\"name\":\"allow_resize\",\"kind\":\"Any\",\"default\":true},{\"name\":\"allow_drag\",\"kind\":\"Any\",\"default\":true},{\"name\":\"state\",\"kind\":\"Any\",\"default\":[]}]},{\"type\":\"model\",\"name\":\"drag1\",\"properties\":[{\"name\":\"slider_width\",\"kind\":\"Any\",\"default\":5},{\"name\":\"slider_color\",\"kind\":\"Any\",\"default\":\"black\"},{\"name\":\"value\",\"kind\":\"Any\",\"default\":50}]},{\"type\":\"model\",\"name\":\"click1\",\"properties\":[{\"name\":\"terminal_output\",\"kind\":\"Any\",\"default\":\"\"},{\"name\":\"debug_name\",\"kind\":\"Any\",\"default\":\"\"},{\"name\":\"clears\",\"kind\":\"Any\",\"default\":0}]},{\"type\":\"model\",\"name\":\"FastWrapper1\",\"properties\":[{\"name\":\"object\",\"kind\":\"Any\",\"default\":null},{\"name\":\"style\",\"kind\":\"Any\",\"default\":null}]},{\"type\":\"model\",\"name\":\"NotificationAreaBase1\",\"properties\":[{\"name\":\"js_events\",\"kind\":\"Any\",\"default\":{\"type\":\"map\"}},{\"name\":\"position\",\"kind\":\"Any\",\"default\":\"bottom-right\"},{\"name\":\"_clear\",\"kind\":\"Any\",\"default\":0}]},{\"type\":\"model\",\"name\":\"NotificationArea1\",\"properties\":[{\"name\":\"js_events\",\"kind\":\"Any\",\"default\":{\"type\":\"map\"}},{\"name\":\"notifications\",\"kind\":\"Any\",\"default\":[]},{\"name\":\"position\",\"kind\":\"Any\",\"default\":\"bottom-right\"},{\"name\":\"_clear\",\"kind\":\"Any\",\"default\":0},{\"name\":\"types\",\"kind\":\"Any\",\"default\":[{\"type\":\"map\",\"entries\":[[\"type\",\"warning\"],[\"background\",\"#ffc107\"],[\"icon\",{\"type\":\"map\",\"entries\":[[\"className\",\"fas fa-exclamation-triangle\"],[\"tagName\",\"i\"],[\"color\",\"white\"]]}]]},{\"type\":\"map\",\"entries\":[[\"type\",\"info\"],[\"background\",\"#007bff\"],[\"icon\",{\"type\":\"map\",\"entries\":[[\"className\",\"fas fa-info-circle\"],[\"tagName\",\"i\"],[\"color\",\"white\"]]}]]}]}]},{\"type\":\"model\",\"name\":\"Notification\",\"properties\":[{\"name\":\"background\",\"kind\":\"Any\",\"default\":null},{\"name\":\"duration\",\"kind\":\"Any\",\"default\":3000},{\"name\":\"icon\",\"kind\":\"Any\",\"default\":null},{\"name\":\"message\",\"kind\":\"Any\",\"default\":\"\"},{\"name\":\"notification_type\",\"kind\":\"Any\",\"default\":null},{\"name\":\"_rendered\",\"kind\":\"Any\",\"default\":false},{\"name\":\"_destroyed\",\"kind\":\"Any\",\"default\":false}]},{\"type\":\"model\",\"name\":\"TemplateActions1\",\"properties\":[{\"name\":\"open_modal\",\"kind\":\"Any\",\"default\":0},{\"name\":\"close_modal\",\"kind\":\"Any\",\"default\":0}]},{\"type\":\"model\",\"name\":\"BootstrapTemplateActions1\",\"properties\":[{\"name\":\"open_modal\",\"kind\":\"Any\",\"default\":0},{\"name\":\"close_modal\",\"kind\":\"Any\",\"default\":0}]},{\"type\":\"model\",\"name\":\"TemplateEditor1\",\"properties\":[{\"name\":\"layout\",\"kind\":\"Any\",\"default\":[]}]},{\"type\":\"model\",\"name\":\"MaterialTemplateActions1\",\"properties\":[{\"name\":\"open_modal\",\"kind\":\"Any\",\"default\":0},{\"name\":\"close_modal\",\"kind\":\"Any\",\"default\":0}]},{\"type\":\"model\",\"name\":\"ReactiveESM1\",\"properties\":[{\"name\":\"esm_constants\",\"kind\":\"Any\",\"default\":{\"type\":\"map\"}}]},{\"type\":\"model\",\"name\":\"JSComponent1\",\"properties\":[{\"name\":\"esm_constants\",\"kind\":\"Any\",\"default\":{\"type\":\"map\"}}]},{\"type\":\"model\",\"name\":\"ReactComponent1\",\"properties\":[{\"name\":\"esm_constants\",\"kind\":\"Any\",\"default\":{\"type\":\"map\"}}]},{\"type\":\"model\",\"name\":\"AnyWidgetComponent1\",\"properties\":[{\"name\":\"esm_constants\",\"kind\":\"Any\",\"default\":{\"type\":\"map\"}}]},{\"type\":\"model\",\"name\":\"request_value1\",\"properties\":[{\"name\":\"fill\",\"kind\":\"Any\",\"default\":\"none\"},{\"name\":\"_synced\",\"kind\":\"Any\",\"default\":null},{\"name\":\"_request_sync\",\"kind\":\"Any\",\"default\":0}]}]}};\n",
              "  var render_items = [{\"docid\":\"10275e8a-de1c-4293-8de2-0c66d532aedb\",\"roots\":{\"694287c9-f9d8-4c8b-bb8e-67c49e71f382\":\"f3115aa8-f344-4963-9d82-956f6a7b62ca\"},\"root_ids\":[\"694287c9-f9d8-4c8b-bb8e-67c49e71f382\"]}];\n",
              "  var docs = Object.values(docs_json)\n",
              "  if (!docs) {\n",
              "    return\n",
              "  }\n",
              "  const py_version = docs[0].version.replace('rc', '-rc.').replace('.dev', '-dev.')\n",
              "  async function embed_document(root) {\n",
              "    var Bokeh = get_bokeh(root)\n",
              "    await Bokeh.embed.embed_items_notebook(docs_json, render_items);\n",
              "    for (const render_item of render_items) {\n",
              "      for (const root_id of render_item.root_ids) {\n",
              "\tconst id_el = document.getElementById(root_id)\n",
              "\tif (id_el.children.length && id_el.children[0].hasAttribute('data-root-id')) {\n",
              "\t  const root_el = id_el.children[0]\n",
              "\t  root_el.id = root_el.id + '-rendered'\n",
              "\t  for (const child of root_el.children) {\n",
              "            // Ensure JupyterLab does not capture keyboard shortcuts\n",
              "            // see: https://jupyterlab.readthedocs.io/en/4.1.x/extension/notebook.html#keyboard-interaction-model\n",
              "\t    child.setAttribute('data-lm-suppress-shortcuts', 'true')\n",
              "\t  }\n",
              "\t}\n",
              "      }\n",
              "    }\n",
              "  }\n",
              "  function get_bokeh(root) {\n",
              "    if (root.Bokeh === undefined) {\n",
              "      return null\n",
              "    } else if (root.Bokeh.version !== py_version) {\n",
              "      if (root.Bokeh.versions === undefined || !root.Bokeh.versions.has(py_version)) {\n",
              "\treturn null\n",
              "      }\n",
              "      return root.Bokeh.versions.get(py_version);\n",
              "    } else if (root.Bokeh.version === py_version) {\n",
              "      return root.Bokeh\n",
              "    }\n",
              "    return null\n",
              "  }\n",
              "  function is_loaded(root) {\n",
              "    var Bokeh = get_bokeh(root)\n",
              "    return (Bokeh != null && Bokeh.Panel !== undefined)\n",
              "  }\n",
              "  if (is_loaded(root)) {\n",
              "    embed_document(root);\n",
              "  } else {\n",
              "    var attempts = 0;\n",
              "    var timer = setInterval(function(root) {\n",
              "      if (is_loaded(root)) {\n",
              "        clearInterval(timer);\n",
              "        embed_document(root);\n",
              "      } else if (document.readyState == \"complete\") {\n",
              "        attempts++;\n",
              "        if (attempts > 200) {\n",
              "          clearInterval(timer);\n",
              "\t  var Bokeh = get_bokeh(root)\n",
              "\t  if (Bokeh == null || Bokeh.Panel == null) {\n",
              "            console.warn(\"Panel: ERROR: Unable to run Panel code because Bokeh or Panel library is missing\");\n",
              "\t  } else {\n",
              "\t    console.warn(\"Panel: WARNING: Attempting to render but not all required libraries could be resolved.\")\n",
              "\t    embed_document(root)\n",
              "\t  }\n",
              "        }\n",
              "      }\n",
              "    }, 25, root)\n",
              "  }\n",
              "})(window);</script>"
            ],
            "application/vnd.holoviews_exec.v0+json": "",
            "text/plain": [
              ":Overlay\n",
              "   .Polygons.I :Polygons   [Longitude,Latitude]\n",
              "   .WMTS.I     :WMTS   [Longitude,Latitude]\n",
              "   .Points.I   :Points   [Longitude,Latitude]   (Beam,Shot Number,Quality Flag)\n",
              "   .WMTS.II    :WMTS   [Longitude,Latitude]\n",
              "   .Points.II  :Points   [Longitude,Latitude]   (plot_name)"
            ]
          },
          "metadata": {
            "application/vnd.holoviews_exec.v0+json": {
              "id": "694287c9-f9d8-4c8b-bb8e-67c49e71f382"
            }
          },
          "execution_count": 28
        }
      ],
      "source": [
        "# Call the function for plotting the GEDI points\n",
        "gv.Polygons(QLD['geometry']).opts(line_color='red', color=None) * pointVisual(latslons, vdims = vdims) * pointVisual(gdf, vdims = ['plot_name'])"
      ]
    },
    {
      "cell_type": "code",
      "execution_count": null,
      "metadata": {
        "id": "nBcjViPuTaiD",
        "outputId": "7ae43d1f-3868-4395-8b0d-baa2f21cf778",
        "colab": {
          "base_uri": "https://localhost:8080/"
        }
      },
      "outputs": [
        {
          "output_type": "execute_result",
          "data": {
            "text/plain": [
              "array([nan, nan, nan, nan])"
            ]
          },
          "metadata": {},
          "execution_count": 29
        }
      ],
      "source": [
        "#make a bbox to zoom center on\n",
        "bbox = QLD.total_bounds\n",
        "bbox"
      ]
    },
    {
      "cell_type": "code",
      "execution_count": null,
      "metadata": {
        "colab": {
          "referenced_widgets": [
            "cadc8a8fe97e4a92a8837450c7005461",
            "08229369f52448178dfd6b542a51f9cb",
            "144e1aaedd754e03b54b0d1b4ba7ecfd",
            "411979b03a3f4078bc6efca2f534087e",
            "b67398bbfb574b44b908ba417e0521c5",
            "a1a97892427049c88f5c4ec058b60d11",
            "8dd095e2e77141409dd6da2671ddc378",
            "57f826ff1d394dccb206426876a87574",
            "6f794fbb5aa64fdb9a47ef93aecb8334",
            "1d5c6ed59b1c42cb98ebd4a748a4473e",
            "8ab67e376c85484f949c6073c9797e39",
            "3a383514f8c04a7a8309c1f0e1823c2e",
            "c4ad2609bdd44210b36647d1f34a530c",
            "f33fa56056f842dab938bd68ddbb5332",
            "69917da2adfe409483eb22e82068ff80",
            "1622619b517040dd9282317fd425976c",
            "d0373f8b0f4d49b194d091dcdc09fa99",
            "3c618d0cfd6d464f86f9188c262f0b87",
            "4fe7fbdbf2534629bece5711486e8724",
            "359ac21f615346ba9cd351bdaeb6bbda"
          ],
          "base_uri": "https://localhost:8080/",
          "height": 478
        },
        "id": "ZGgu7oaCTaiD",
        "outputId": "9d8608a4-d509-456d-c5c5-33d19731af88"
      },
      "outputs": [
        {
          "output_type": "stream",
          "name": "stdout",
          "text": [
            "list index out of range\n"
          ]
        },
        {
          "output_type": "error",
          "ename": "KeyError",
          "evalue": "0",
          "traceback": [
            "\u001b[0;31m---------------------------------------------------------------------------\u001b[0m",
            "\u001b[0;31mValueError\u001b[0m                                Traceback (most recent call last)",
            "\u001b[0;32m/usr/local/lib/python3.11/dist-packages/pandas/core/indexes/range.py\u001b[0m in \u001b[0;36mget_loc\u001b[0;34m(self, key)\u001b[0m\n\u001b[1;32m    412\u001b[0m             \u001b[0;32mtry\u001b[0m\u001b[0;34m:\u001b[0m\u001b[0;34m\u001b[0m\u001b[0;34m\u001b[0m\u001b[0m\n\u001b[0;32m--> 413\u001b[0;31m                 \u001b[0;32mreturn\u001b[0m \u001b[0mself\u001b[0m\u001b[0;34m.\u001b[0m\u001b[0m_range\u001b[0m\u001b[0;34m.\u001b[0m\u001b[0mindex\u001b[0m\u001b[0;34m(\u001b[0m\u001b[0mnew_key\u001b[0m\u001b[0;34m)\u001b[0m\u001b[0;34m\u001b[0m\u001b[0;34m\u001b[0m\u001b[0m\n\u001b[0m\u001b[1;32m    414\u001b[0m             \u001b[0;32mexcept\u001b[0m \u001b[0mValueError\u001b[0m \u001b[0;32mas\u001b[0m \u001b[0merr\u001b[0m\u001b[0;34m:\u001b[0m\u001b[0;34m\u001b[0m\u001b[0;34m\u001b[0m\u001b[0m\n",
            "\u001b[0;31mValueError\u001b[0m: 0 is not in range",
            "\nThe above exception was the direct cause of the following exception:\n",
            "\u001b[0;31mKeyError\u001b[0m                                  Traceback (most recent call last)",
            "\u001b[0;32m/tmp/ipykernel_23217/2668968762.py\u001b[0m in \u001b[0;36m<cell line: 0>\u001b[0;34m()\u001b[0m\n\u001b[1;32m      2\u001b[0m \u001b[0mm\u001b[0m\u001b[0;34m.\u001b[0m\u001b[0mzoom_to_bounds\u001b[0m\u001b[0;34m(\u001b[0m\u001b[0mbbox\u001b[0m\u001b[0;34m)\u001b[0m\u001b[0;34m\u001b[0m\u001b[0;34m\u001b[0m\u001b[0m\n\u001b[1;32m      3\u001b[0m \u001b[0mm\u001b[0m\u001b[0;34m.\u001b[0m\u001b[0madd_basemap\u001b[0m\u001b[0;34m(\u001b[0m\u001b[0;34m'HYBRID'\u001b[0m\u001b[0;34m)\u001b[0m\u001b[0;34m\u001b[0m\u001b[0;34m\u001b[0m\u001b[0m\n\u001b[0;32m----> 4\u001b[0;31m \u001b[0mm\u001b[0m\u001b[0;34m.\u001b[0m\u001b[0madd_gdf\u001b[0m\u001b[0;34m(\u001b[0m\u001b[0mQLD\u001b[0m\u001b[0;34m,\u001b[0m \u001b[0mlayer_name\u001b[0m\u001b[0;34m=\u001b[0m\u001b[0;34m\"QPRP-CSIRO\"\u001b[0m\u001b[0;34m,\u001b[0m \u001b[0mstyle\u001b[0m\u001b[0;34m=\u001b[0m\u001b[0;34m{\u001b[0m\u001b[0;34m'fillColor'\u001b[0m\u001b[0;34m:\u001b[0m \u001b[0;34m'yellow'\u001b[0m\u001b[0;34m,\u001b[0m \u001b[0;34m'color'\u001b[0m\u001b[0;34m:\u001b[0m \u001b[0;34m'yellow'\u001b[0m\u001b[0;34m,\u001b[0m \u001b[0;34m'fillOpacity'\u001b[0m\u001b[0;34m:\u001b[0m \u001b[0;36m0.5\u001b[0m\u001b[0;34m}\u001b[0m\u001b[0;34m)\u001b[0m\u001b[0;34m\u001b[0m\u001b[0;34m\u001b[0m\u001b[0m\n\u001b[0m\u001b[1;32m      5\u001b[0m \u001b[0mm\u001b[0m\u001b[0;34m.\u001b[0m\u001b[0madd_markers\u001b[0m\u001b[0;34m(\u001b[0m\u001b[0mlatslons\u001b[0m\u001b[0;34m,\u001b[0m \u001b[0mshape\u001b[0m\u001b[0;34m=\u001b[0m\u001b[0;34m\"circle\"\u001b[0m\u001b[0;34m,\u001b[0m \u001b[0mradius\u001b[0m\u001b[0;34m=\u001b[0m\u001b[0;36m2\u001b[0m\u001b[0;34m,\u001b[0m \u001b[0mcolor\u001b[0m\u001b[0;34m=\u001b[0m\u001b[0;34m\"red\"\u001b[0m\u001b[0;34m,\u001b[0m \u001b[0mfill_color\u001b[0m\u001b[0;34m=\u001b[0m\u001b[0;34m\"red\"\u001b[0m\u001b[0;34m,\u001b[0m \u001b[0mpopup\u001b[0m\u001b[0;34m=\u001b[0m\u001b[0;34m[\u001b[0m\u001b[0;34m\"geometry\"\u001b[0m\u001b[0;34m,\u001b[0m \u001b[0;34m\"Beam\"\u001b[0m\u001b[0;34m,\u001b[0m \u001b[0;34m\"Shot Number\"\u001b[0m\u001b[0;34m,\u001b[0m \u001b[0;34m\"Quality Flag\"\u001b[0m\u001b[0;34m]\u001b[0m\u001b[0;34m)\u001b[0m\u001b[0;34m\u001b[0m\u001b[0;34m\u001b[0m\u001b[0m\n\u001b[1;32m      6\u001b[0m \u001b[0mm\u001b[0m\u001b[0;34m.\u001b[0m\u001b[0madd_markers\u001b[0m\u001b[0;34m(\u001b[0m\u001b[0mgdf\u001b[0m\u001b[0;34m,\u001b[0m \u001b[0mshape\u001b[0m\u001b[0;34m=\u001b[0m\u001b[0;34m\"circle\"\u001b[0m\u001b[0;34m,\u001b[0m \u001b[0mradius\u001b[0m\u001b[0;34m=\u001b[0m\u001b[0;36m4\u001b[0m\u001b[0;34m,\u001b[0m \u001b[0mcolor\u001b[0m\u001b[0;34m=\u001b[0m\u001b[0;34m\"blue\"\u001b[0m\u001b[0;34m,\u001b[0m \u001b[0mfill_color\u001b[0m\u001b[0;34m=\u001b[0m\u001b[0;34m\"blue\"\u001b[0m\u001b[0;34m,\u001b[0m \u001b[0mpopup\u001b[0m\u001b[0;34m=\u001b[0m\u001b[0;34m[\u001b[0m\u001b[0;34m\"plot_name\"\u001b[0m\u001b[0;34m]\u001b[0m\u001b[0;34m)\u001b[0m\u001b[0;34m\u001b[0m\u001b[0;34m\u001b[0m\u001b[0m\n",
            "\u001b[0;32m/usr/local/lib/python3.11/dist-packages/leafmap/leafmap.py\u001b[0m in \u001b[0;36madd_gdf\u001b[0;34m(self, gdf, layer_name, style, hover_style, style_callback, fill_colors, info_mode, zoom_to_layer, encoding, **kwargs)\u001b[0m\n\u001b[1;32m   2920\u001b[0m                 \u001b[0;32mpass\u001b[0m\u001b[0;34m\u001b[0m\u001b[0;34m\u001b[0m\u001b[0m\n\u001b[1;32m   2921\u001b[0m \u001b[0;34m\u001b[0m\u001b[0m\n\u001b[0;32m-> 2922\u001b[0;31m         self.add_geojson(\n\u001b[0m\u001b[1;32m   2923\u001b[0m             \u001b[0mgdf\u001b[0m\u001b[0;34m,\u001b[0m\u001b[0;34m\u001b[0m\u001b[0;34m\u001b[0m\u001b[0m\n\u001b[1;32m   2924\u001b[0m             \u001b[0mlayer_name\u001b[0m\u001b[0;34m,\u001b[0m\u001b[0;34m\u001b[0m\u001b[0;34m\u001b[0m\u001b[0m\n",
            "\u001b[0;32m/usr/local/lib/python3.11/dist-packages/leafmap/leafmap.py\u001b[0m in \u001b[0;36madd_geojson\u001b[0;34m(self, in_geojson, layer_name, style, hover_style, style_callback, fill_colors, info_mode, zoom_to_layer, encoding, **kwargs)\u001b[0m\n\u001b[1;32m   2696\u001b[0m             \u001b[0;32mpass\u001b[0m\u001b[0;34m\u001b[0m\u001b[0;34m\u001b[0m\u001b[0m\n\u001b[1;32m   2697\u001b[0m \u001b[0;34m\u001b[0m\u001b[0m\n\u001b[0;32m-> 2698\u001b[0;31m         \u001b[0mgeom_type\u001b[0m \u001b[0;34m=\u001b[0m \u001b[0mgdf\u001b[0m\u001b[0;34m.\u001b[0m\u001b[0mreset_index\u001b[0m\u001b[0;34m(\u001b[0m\u001b[0;34m)\u001b[0m\u001b[0;34m.\u001b[0m\u001b[0mgeom_type\u001b[0m\u001b[0;34m[\u001b[0m\u001b[0;36m0\u001b[0m\u001b[0;34m]\u001b[0m\u001b[0;34m\u001b[0m\u001b[0;34m\u001b[0m\u001b[0m\n\u001b[0m\u001b[1;32m   2699\u001b[0m \u001b[0;34m\u001b[0m\u001b[0m\n\u001b[1;32m   2700\u001b[0m         \u001b[0;32mif\u001b[0m \u001b[0mstyle\u001b[0m \u001b[0;32mis\u001b[0m \u001b[0;32mNone\u001b[0m \u001b[0;32mand\u001b[0m \u001b[0;34m(\u001b[0m\u001b[0mstyle_callback\u001b[0m \u001b[0;32mis\u001b[0m \u001b[0;32mNone\u001b[0m\u001b[0;34m)\u001b[0m\u001b[0;34m:\u001b[0m\u001b[0;34m\u001b[0m\u001b[0;34m\u001b[0m\u001b[0m\n",
            "\u001b[0;32m/usr/local/lib/python3.11/dist-packages/pandas/core/series.py\u001b[0m in \u001b[0;36m__getitem__\u001b[0;34m(self, key)\u001b[0m\n\u001b[1;32m   1119\u001b[0m \u001b[0;34m\u001b[0m\u001b[0m\n\u001b[1;32m   1120\u001b[0m         \u001b[0;32melif\u001b[0m \u001b[0mkey_is_scalar\u001b[0m\u001b[0;34m:\u001b[0m\u001b[0;34m\u001b[0m\u001b[0;34m\u001b[0m\u001b[0m\n\u001b[0;32m-> 1121\u001b[0;31m             \u001b[0;32mreturn\u001b[0m \u001b[0mself\u001b[0m\u001b[0;34m.\u001b[0m\u001b[0m_get_value\u001b[0m\u001b[0;34m(\u001b[0m\u001b[0mkey\u001b[0m\u001b[0;34m)\u001b[0m\u001b[0;34m\u001b[0m\u001b[0;34m\u001b[0m\u001b[0m\n\u001b[0m\u001b[1;32m   1122\u001b[0m \u001b[0;34m\u001b[0m\u001b[0m\n\u001b[1;32m   1123\u001b[0m         \u001b[0;31m# Convert generator to list before going through hashable part\u001b[0m\u001b[0;34m\u001b[0m\u001b[0;34m\u001b[0m\u001b[0m\n",
            "\u001b[0;32m/usr/local/lib/python3.11/dist-packages/pandas/core/series.py\u001b[0m in \u001b[0;36m_get_value\u001b[0;34m(self, label, takeable)\u001b[0m\n\u001b[1;32m   1235\u001b[0m \u001b[0;34m\u001b[0m\u001b[0m\n\u001b[1;32m   1236\u001b[0m         \u001b[0;31m# Similar to Index.get_value, but we do not fall back to positional\u001b[0m\u001b[0;34m\u001b[0m\u001b[0;34m\u001b[0m\u001b[0m\n\u001b[0;32m-> 1237\u001b[0;31m         \u001b[0mloc\u001b[0m \u001b[0;34m=\u001b[0m \u001b[0mself\u001b[0m\u001b[0;34m.\u001b[0m\u001b[0mindex\u001b[0m\u001b[0;34m.\u001b[0m\u001b[0mget_loc\u001b[0m\u001b[0;34m(\u001b[0m\u001b[0mlabel\u001b[0m\u001b[0;34m)\u001b[0m\u001b[0;34m\u001b[0m\u001b[0;34m\u001b[0m\u001b[0m\n\u001b[0m\u001b[1;32m   1238\u001b[0m \u001b[0;34m\u001b[0m\u001b[0m\n\u001b[1;32m   1239\u001b[0m         \u001b[0;32mif\u001b[0m \u001b[0mis_integer\u001b[0m\u001b[0;34m(\u001b[0m\u001b[0mloc\u001b[0m\u001b[0;34m)\u001b[0m\u001b[0;34m:\u001b[0m\u001b[0;34m\u001b[0m\u001b[0;34m\u001b[0m\u001b[0m\n",
            "\u001b[0;32m/usr/local/lib/python3.11/dist-packages/pandas/core/indexes/range.py\u001b[0m in \u001b[0;36mget_loc\u001b[0;34m(self, key)\u001b[0m\n\u001b[1;32m    413\u001b[0m                 \u001b[0;32mreturn\u001b[0m \u001b[0mself\u001b[0m\u001b[0;34m.\u001b[0m\u001b[0m_range\u001b[0m\u001b[0;34m.\u001b[0m\u001b[0mindex\u001b[0m\u001b[0;34m(\u001b[0m\u001b[0mnew_key\u001b[0m\u001b[0;34m)\u001b[0m\u001b[0;34m\u001b[0m\u001b[0;34m\u001b[0m\u001b[0m\n\u001b[1;32m    414\u001b[0m             \u001b[0;32mexcept\u001b[0m \u001b[0mValueError\u001b[0m \u001b[0;32mas\u001b[0m \u001b[0merr\u001b[0m\u001b[0;34m:\u001b[0m\u001b[0;34m\u001b[0m\u001b[0;34m\u001b[0m\u001b[0m\n\u001b[0;32m--> 415\u001b[0;31m                 \u001b[0;32mraise\u001b[0m \u001b[0mKeyError\u001b[0m\u001b[0;34m(\u001b[0m\u001b[0mkey\u001b[0m\u001b[0;34m)\u001b[0m \u001b[0;32mfrom\u001b[0m \u001b[0merr\u001b[0m\u001b[0;34m\u001b[0m\u001b[0;34m\u001b[0m\u001b[0m\n\u001b[0m\u001b[1;32m    416\u001b[0m         \u001b[0;32mif\u001b[0m \u001b[0misinstance\u001b[0m\u001b[0;34m(\u001b[0m\u001b[0mkey\u001b[0m\u001b[0;34m,\u001b[0m \u001b[0mHashable\u001b[0m\u001b[0;34m)\u001b[0m\u001b[0;34m:\u001b[0m\u001b[0;34m\u001b[0m\u001b[0;34m\u001b[0m\u001b[0m\n\u001b[1;32m    417\u001b[0m             \u001b[0;32mraise\u001b[0m \u001b[0mKeyError\u001b[0m\u001b[0;34m(\u001b[0m\u001b[0mkey\u001b[0m\u001b[0;34m)\u001b[0m\u001b[0;34m\u001b[0m\u001b[0;34m\u001b[0m\u001b[0m\n",
            "\u001b[0;31mKeyError\u001b[0m: 0"
          ]
        }
      ],
      "source": [
        "m = leafmap.Map()\n",
        "m.zoom_to_bounds(bbox)\n",
        "m.add_basemap('HYBRID')\n",
        "m.add_gdf(QLD, layer_name=\"QPRP-CSIRO\", style={'fillColor': 'yellow', 'color': 'yellow', 'fillOpacity': 0.5})\n",
        "m.add_markers(latslons, shape=\"circle\", radius=2, color=\"red\", fill_color=\"red\", popup=[\"geometry\", \"Beam\", \"Shot Number\", \"Quality Flag\"])\n",
        "m.add_markers(gdf, shape=\"circle\", radius=4, color=\"blue\", fill_color=\"blue\", popup=[\"plot_name\"])\n",
        "m"
      ]
    },
    {
      "cell_type": "markdown",
      "metadata": {
        "id": "WWjh88Y5TaiD"
      },
      "source": [
        "#### Above is a good illustration of the new GEDI _Version 2_ sub-orbit granules (remember that GEDI _Version 1_  files are stored as one ISS orbit). One of the benefits of using geoviews is the interactive nature of the output plots. Use the tools to the right of the map above to zoom in and find the shots intersecting Redwood National Park.\n",
        "> (**HINT**: find where the orbit intersects the west coast of the United States)"
      ]
    },
    {
      "cell_type": "markdown",
      "metadata": {
        "id": "ZLtzPYsoTaiD"
      },
      "source": [
        "#### Side Note: Wondering what the 0's and 1's for `l2b_quality_flag` mean?"
      ]
    },
    {
      "cell_type": "code",
      "execution_count": null,
      "metadata": {
        "id": "QMswBC9PTaiD"
      },
      "outputs": [],
      "source": [
        "print(f\"Quality Flag: {gediL2B[b]['l2b_quality_flag'].attrs['description']}\")"
      ]
    },
    {
      "cell_type": "markdown",
      "metadata": {
        "id": "000Nn5pKTaiD"
      },
      "source": [
        "#### Above, 0 is poor quality and a quality_flag value of 1 indicates the laser shot meets criteria based on energy, sensitivity, amplitude, and real-time surface tracking quality. We will show an example of how to quality filter GEDI data in section 5.1.\n",
        "#### After finding one of the shots within Redwood NP, find the index for that shot number so that we can find the correct shot to visualize in Section 4."
      ]
    },
    {
      "cell_type": "markdown",
      "metadata": {
        "id": "Xpr1upiPTaiD"
      },
      "source": [
        "#### Each GEDI shot has a unique shot identifier (shot number) that is available within each data group of the product. The shot number is important to retain in any data subsetting as it will allow the user to link any shot record back to the original orbit data, and to link any shot and its data between the L1 and L2 products. The standard format  for GEDI Shots is as follows:"
      ]
    },
    {
      "cell_type": "markdown",
      "metadata": {
        "id": "8xi5b4YTTaiE"
      },
      "source": [
        "### Shot: 29320600200465601\n",
        "> **2932**: Orbit Number      \n",
        "**06**: Beam Number    \n",
        "**0**: Reserved for future use     \n",
        "**02**: Sub-orbit Granule Number    \n",
        "**004**: Minor frame number   \n",
        "**65601**: Shot index  "
      ]
    },
    {
      "cell_type": "markdown",
      "metadata": {
        "id": "KQdmQKBPTaiE"
      },
      "source": [
        "---\n",
        "# 4. Work with GEDI L2B Data <a id=\"L2B\"></a>\n",
        "#### The L2B product contains biophysical information derived from the geolocated GEDI return waveforms including total and vertical profiles of canopy cover and Plant Area Index (PAI), the vertical Plant Area Volume Density (PAVD) profile, and Foliage Height Diversity (FHD).\n",
        "Detailed product information can be found on the [GEDI L2B Product Page](https://doi.org/10.5067/GEDI/GEDI02_B.002)."
      ]
    },
    {
      "cell_type": "markdown",
      "metadata": {
        "id": "mEJsLNzTTaiE"
      },
      "source": [
        "## 4.1 Import and Extract Specific Shots\n",
        "#### Notice that there are over a thousand datasets available in the GEDI L2B product. In the code blocks below, you will subset to just a few of the datasets available.\n",
        "#### In this section, learn how to extract and subset specific shots and plot Plant Area Volume Density (PAVD) using `holoviews`."
      ]
    },
    {
      "cell_type": "code",
      "execution_count": null,
      "metadata": {
        "id": "BxqWL3HsTaiE"
      },
      "outputs": [],
      "source": [
        "len(gediSDS)"
      ]
    },
    {
      "cell_type": "code",
      "execution_count": null,
      "metadata": {
        "id": "x1_8dakJTaiE"
      },
      "outputs": [],
      "source": [
        "beamNames"
      ]
    },
    {
      "cell_type": "code",
      "execution_count": null,
      "metadata": {
        "id": "ltAZaEk9TaiE"
      },
      "outputs": [],
      "source": [
        "beamSDS = [g for g in gediSDS if beamNames[0] in g]  # Subset to a single beam\n",
        "len(beamSDS)"
      ]
    },
    {
      "cell_type": "markdown",
      "metadata": {
        "id": "J4AUUlpRTaiE"
      },
      "source": [
        "### We will set the shot index used as an example from the [GEDI L1B Tutorial](https://git.earthdata.nasa.gov/projects/LPDUR/repos/gedi-v2-tutorials/browse/GEDI_L1B_V2_Tutorial.ipynb) and [GEDI L2A Tutorial](https://git.earthdata.nasa.gov/projects/LPDUR/repos/gedi-v2-tutorials/browse/GEDI_L2A_V2_Tutorial.ipynb) to show how to subset a single shot of GEDI L2B data."
      ]
    },
    {
      "cell_type": "code",
      "execution_count": null,
      "metadata": {
        "id": "LCy4koHcTaiE"
      },
      "outputs": [],
      "source": [
        "shot = 226260800100074501"
      ]
    },
    {
      "cell_type": "code",
      "execution_count": null,
      "metadata": {
        "id": "5G-VOW3QTaiE"
      },
      "outputs": [],
      "source": [
        "index = np.where(gediL2B[f'{beamNames[0]}/shot_number'][()]==shot)[0][0]  # Set the index for the shot identified above\n",
        "index"
      ]
    },
    {
      "cell_type": "markdown",
      "metadata": {
        "id": "lb8lhUoLTaiE"
      },
      "source": [
        "## 4.2 Visualize PAVD\n",
        "#### In section 4.2, import the PAVD metrics (`pavd_z`) and begin exploring how to plot them."
      ]
    },
    {
      "cell_type": "code",
      "execution_count": null,
      "metadata": {
        "id": "e3RTT5xvTaiE"
      },
      "outputs": [],
      "source": [
        "pavd = gediL2B[[g for g in beamSDS if g.endswith('/pavd_z')][0]]  # PAVD"
      ]
    },
    {
      "cell_type": "markdown",
      "metadata": {
        "id": "Y6oVcCoETaiE"
      },
      "source": [
        "#### Print the description for the PAVD dataset."
      ]
    },
    {
      "cell_type": "code",
      "execution_count": null,
      "metadata": {
        "id": "_Zza41NbTaiE"
      },
      "outputs": [],
      "source": [
        "print(f\"Plant Area Volume Density is {pavd.attrs['description']}\")"
      ]
    },
    {
      "cell_type": "markdown",
      "metadata": {
        "id": "4Pre6EdsTaiE"
      },
      "source": [
        "#### Below, open the `dz` layer in order to define the correct vertical step size."
      ]
    },
    {
      "cell_type": "code",
      "execution_count": null,
      "metadata": {
        "id": "I0SUFyKvTaiE"
      },
      "outputs": [],
      "source": [
        "# Grab vertical step size\n",
        "dz = gediL2B[f'{beamNames[0]}/ancillary/dz'][0]\n",
        "dz"
      ]
    },
    {
      "cell_type": "markdown",
      "metadata": {
        "id": "Z58MwaniTaiE"
      },
      "source": [
        "#### So the vertical step size is 5.0 meters."
      ]
    },
    {
      "cell_type": "code",
      "execution_count": null,
      "metadata": {
        "id": "1SYiISikTaiE"
      },
      "outputs": [],
      "source": [
        "print(f\"The shape of PAVD is {pavd.shape}.\")"
      ]
    },
    {
      "cell_type": "markdown",
      "metadata": {
        "id": "4F03BIpQTaiE"
      },
      "source": [
        "#### And it looks like PAVD includes 30 \"steps\" in each shot, describing the PAVD at height = step # * `dz`.\n",
        "#### Now, bring in other useful L2B datasets such as `elev_lowestmode`, `lat_lowestmode` and `lon_lowestmode`."
      ]
    },
    {
      "cell_type": "code",
      "execution_count": null,
      "metadata": {
        "id": "1fMmFBM8TaiF"
      },
      "outputs": [],
      "source": [
        "# Bring in the desired SDS\n",
        "elev = gediL2B[f'{beamNames[0]}/geolocation/elev_lowestmode'][()]  # Latitude\n",
        "lats = gediL2B[f'{beamNames[0]}/geolocation/lat_lowestmode'][()]  # Latitude\n",
        "lons = gediL2B[f'{beamNames[0]}/geolocation/lon_lowestmode'][()]  # Longitude"
      ]
    },
    {
      "cell_type": "markdown",
      "metadata": {
        "id": "3v54dLOVTaiF"
      },
      "source": [
        "#### Grab the location, elevation, and PAVD metrics for the shot defined above:"
      ]
    },
    {
      "cell_type": "code",
      "execution_count": null,
      "metadata": {
        "id": "gHL9KydETaiF"
      },
      "outputs": [],
      "source": [
        "shotElev = elev[index]\n",
        "shotLat = lats[index]\n",
        "shotLon = lons[index]\n",
        "shotPAVD = pavd[index]"
      ]
    },
    {
      "cell_type": "markdown",
      "metadata": {
        "id": "TI9nM34yTaiF"
      },
      "source": [
        "#### Put everything together to identify the shot that we want to extract:"
      ]
    },
    {
      "cell_type": "code",
      "execution_count": null,
      "metadata": {
        "id": "yiXP5KH7TaiF"
      },
      "outputs": [],
      "source": [
        "print(f\"The shot is located at: {str(shotLat)}, {str(shotLon)} (shot ID: {shot}, index {index}) and is from {beamNames[0]}.\")"
      ]
    },
    {
      "cell_type": "markdown",
      "metadata": {
        "id": "eD_G0LEgTaiF"
      },
      "source": [
        "#### Next, reformat PAVD into a list of tuples containing each PAVD value and height."
      ]
    },
    {
      "cell_type": "code",
      "execution_count": null,
      "metadata": {
        "id": "azaawJRHTaiF"
      },
      "outputs": [],
      "source": [
        "pavdAll = []\n",
        "pavdElev = []\n",
        "\n",
        "for i, e in enumerate(range(len(shotPAVD))):\n",
        "    if shotPAVD[i] > 0:\n",
        "        pavdElev.append((shot, shotElev + dz * i, shotPAVD[i]))  # Append tuple of shot number, elevation, and PAVD\n",
        "pavdAll.append(pavdElev)                                         # Append to final list"
      ]
    },
    {
      "cell_type": "markdown",
      "metadata": {
        "id": "Vwd-BAhYTaiF"
      },
      "source": [
        "#### Below, plot each shot by using `holoviews` Path() function, with the PAVD plotted in the third dimension in shades of green."
      ]
    },
    {
      "cell_type": "code",
      "execution_count": null,
      "metadata": {
        "id": "Y8elaJ2aTaiF"
      },
      "outputs": [],
      "source": [
        "pavdAll"
      ]
    },
    {
      "cell_type": "code",
      "execution_count": null,
      "metadata": {
        "id": "5bT6PW4tTaiF"
      },
      "outputs": [],
      "source": [
        "path1 = hv.Path(pavdAll, vdims='PAVD').options(color='PAVD', clim=(0,0.1), cmap='Greens', line_width=20, colorbar=True,\n",
        "                                               width=700, height=550, clabel='PAVD', xlabel='Shot Number',\n",
        "                                               ylabel='Elevation (m)', fontsize={'title':16, 'xlabel':16, 'ylabel': 16,\n",
        "                                                                                 'xticks':12, 'yticks':12,\n",
        "                                                                                 'clabel':12, 'cticks':10})\n",
        "path1"
      ]
    },
    {
      "cell_type": "markdown",
      "metadata": {
        "id": "xuV6eU-CTaiF"
      },
      "source": [
        "### Congratulations! You have plotted your first PAVD profile."
      ]
    },
    {
      "cell_type": "markdown",
      "metadata": {
        "id": "zJiSeFV1TaiF"
      },
      "source": [
        "---\n",
        "# 5. Work with GEDI L2B Beam Transects<a id=\"beamtransects\"></a>\n",
        "#### Next, import a number of desired SDS layers for BEAM0110 (for the entire orbit) and create a `pandas` Dataframe to store the arrays."
      ]
    },
    {
      "cell_type": "code",
      "execution_count": null,
      "metadata": {
        "id": "sYW-FsJFTaiF"
      },
      "outputs": [],
      "source": [
        "# Open all of the desired SDS\n",
        "dem = gediL2B[[g for g in beamSDS if g.endswith('/digital_elevation_model')][0]][()]\n",
        "zElevation = gediL2B[[g for g in beamSDS if g.endswith('/elev_lowestmode')][0]][()]\n",
        "zHigh = gediL2B[[g for g in beamSDS if g.endswith('/elev_highestreturn')][0]][()]\n",
        "zLat = gediL2B[[g for g in beamSDS if g.endswith('/lat_lowestmode')][0]][()]\n",
        "zLon = gediL2B[[g for g in beamSDS if g.endswith('/lon_lowestmode')][0]][()]\n",
        "canopyHeight = gediL2B[[g for g in beamSDS if g.endswith('/rh100')][0]][()]\n",
        "quality = gediL2B[[g for g in beamSDS if g.endswith('/l2b_quality_flag')][0]][()]\n",
        "degrade = gediL2B[[g for g in beamSDS if g.endswith('/degrade_flag')][0]][()]\n",
        "sensitivity = gediL2B[[g for g in beamSDS if g.endswith('/sensitivity')][0]][()]\n",
        "pavd = gediL2B[f'{beamNames[0]}/pavd_z'][()]\n",
        "shotNums = gediL2B[f'{beamNames[0]}/shot_number'][()]\n",
        "selectedAlgorithmL2A = gediL2B[[g for g in beamSDS if g.endswith('/selected_l2a_algorithm')][0]][()]\n",
        "\n",
        "# Create a shot index\n",
        "shotIndex = np.arange(shotNums.size)"
      ]
    },
    {
      "cell_type": "markdown",
      "metadata": {
        "id": "Bpd3Q_SfTaiF"
      },
      "source": [
        "#### In the GEDI L2B product, Canopy Height is stored in units (cm), so below convert to meters."
      ]
    },
    {
      "cell_type": "code",
      "execution_count": null,
      "metadata": {
        "id": "RM6ezhGHTaiF"
      },
      "outputs": [],
      "source": [
        "canopyHeight = canopyHeight / 100  # Convert RH100 from cm to m"
      ]
    },
    {
      "cell_type": "markdown",
      "metadata": {
        "id": "BgF-8ve1TaiF"
      },
      "source": [
        "#### As mentioned in the sections above, Plant Area Volume Density (pavd) is defined as the _Vertical Plant Area Volume Density profile with a vertical step size of dZ_. Below, reformat the shape of the PAVD layer in order to add it to the dataframe below."
      ]
    },
    {
      "cell_type": "code",
      "execution_count": null,
      "metadata": {
        "id": "T89hwDB3TaiF"
      },
      "outputs": [],
      "source": [
        "print(f\"The shape of Canopy Height is {canopyHeight.shape} vs. the shape of PAVD, which is {pavd.shape}.\")"
      ]
    },
    {
      "cell_type": "markdown",
      "metadata": {
        "id": "0p0x6_h6TaiF"
      },
      "source": [
        "#### Above, notice that unlike a SDS layer like Canopy Height, which has a single value for each shot, PAVD has 30 values (representing different vertical heights) for each shot.\n",
        "#### Below, reformat the data into a list of values for each shot."
      ]
    },
    {
      "cell_type": "code",
      "execution_count": null,
      "metadata": {
        "id": "yY0sieWATaiG"
      },
      "outputs": [],
      "source": [
        "# Set up an empty list to append to\n",
        "pavdA = []\n",
        "for i in range(len(pavd)):\n",
        "\n",
        "    # If any of the values are fill value, set to nan\n",
        "    pavdF = [np.nan]\n",
        "    for p in range(len(pavd[i])):\n",
        "        if pavd[i][p]!= -9999:\n",
        "            pavdF.append(pavd[i][p])  # If the value is not fill value, append to list\n",
        "    pavdA.append(pavdF)               # Append back to master list"
      ]
    },
    {
      "cell_type": "markdown",
      "metadata": {
        "id": "aCeQXUN9TaiG"
      },
      "source": [
        "#### Note: The cell above may take up to a minute to process."
      ]
    },
    {
      "cell_type": "markdown",
      "metadata": {
        "id": "PtJ0kR5qTaiG"
      },
      "source": [
        "#### Below, notice the reformatted PAVD layer, which should now fit into the dataframe created below."
      ]
    },
    {
      "cell_type": "code",
      "execution_count": null,
      "metadata": {
        "scrolled": true,
        "id": "iOYqEeTFTaiG"
      },
      "outputs": [],
      "source": [
        "len(pavdA)"
      ]
    },
    {
      "cell_type": "code",
      "execution_count": null,
      "metadata": {
        "id": "q1QM-GE4TaiG"
      },
      "outputs": [],
      "source": [
        "# Take the DEM, GEDI-produced Elevation, and Canopy height and add to a Pandas dataframe\n",
        "transectDF = pd.DataFrame({\n",
        "    'Shot Index': shotIndex,\n",
        "    'Shot Number': shotNums,\n",
        "    'Latitude': zLat,\n",
        "    'Longitude': zLon,\n",
        "    'Tandem-X DEM': dem,\n",
        "    'Elevation (m)': zElevation,\n",
        "    'Canopy Elevation (m)': zHigh,\n",
        "    'Canopy Height (rh100)': canopyHeight,\n",
        "    'Quality Flag': quality,\n",
        "    'Degrade Flag': degrade,\n",
        "    'Plant Area Volume Density': pavdA,\n",
        "    'Sensitivity': sensitivity,\n",
        "    'Selected L2A Algorithm': selectedAlgorithmL2A\n",
        "    })"
      ]
    },
    {
      "cell_type": "code",
      "execution_count": null,
      "metadata": {
        "id": "l68eCYUwTaiG"
      },
      "outputs": [],
      "source": [
        "transectDF"
      ]
    },
    {
      "cell_type": "code",
      "execution_count": null,
      "metadata": {
        "id": "kdmndZkoTaiG"
      },
      "outputs": [],
      "source": [
        "index"
      ]
    },
    {
      "cell_type": "markdown",
      "metadata": {
        "id": "bLhaJWDaTaiG"
      },
      "source": [
        "#### Notice the unusual values listed above--those shots are flagged as poor quality and will be removed in Section 5.1.\n",
        "#### Now that you have the desired SDS into a `pandas` dataframe, begin plotting the entire beam transect:"
      ]
    },
    {
      "cell_type": "code",
      "execution_count": null,
      "metadata": {
        "id": "loOrusLnTaiG"
      },
      "outputs": [],
      "source": [
        "# Plot Canopy Height\n",
        "canopyVis = hv.Scatter((transectDF['Shot Index'], transectDF['Canopy Height (rh100)']))\n",
        "canopyVis.opts(color='darkgreen', height=500, width=900, title=f'GEDI L2B Full Transect {beamNames[0]}',\n",
        "               fontsize={'title':16, 'xlabel':16, 'ylabel': 16}, size=0.1, xlabel='Shot Index', ylabel='Canopy Height (m)')"
      ]
    },
    {
      "cell_type": "markdown",
      "metadata": {
        "id": "2F6CYcnGTaiG"
      },
      "source": [
        "#### Congratulations! You have plotted your first GEDI sub-orbit beam transect. Notice above that things look a little messy--before we dive deeper into plotting full transects, let's quality filter the shots in the section below."
      ]
    },
    {
      "cell_type": "markdown",
      "metadata": {
        "id": "dN-Dij3LTaiG"
      },
      "source": [
        "## 5.1 Quality Filtering\n",
        "#### Now that you have the desired layers imported as a dataframe for the entire beam transect, let's perform quality filtering.\n",
        "#### Below, remove any shots where the `l2b_quality_flag` is set to 0 by defining those shots as `nan`.\n",
        "#### The syntax of the line below can be read as: in the dataframe, find the rows \"where\" the quality flag is not equal (ne) to 0. If a row (shot) does not meet the condition, set all values equal to `nan` for that row."
      ]
    },
    {
      "cell_type": "code",
      "execution_count": null,
      "metadata": {
        "id": "s_hoGijxTaiG"
      },
      "outputs": [],
      "source": [
        "transectDF = transectDF.where(transectDF['Quality Flag'].ne(0))  # Set any poor quality returns to NaN"
      ]
    },
    {
      "cell_type": "code",
      "execution_count": null,
      "metadata": {
        "id": "CWAGR5yYTaiG"
      },
      "outputs": [],
      "source": [
        "transectDF"
      ]
    },
    {
      "cell_type": "markdown",
      "metadata": {
        "id": "wdWsGcrLTaiG"
      },
      "source": [
        "#### Below, quality filter even further by using the `degrade_flag` (Greater than zero if the shot occurs during a degrade period, zero otherwise) and the `Sensitivity` layer, using a threshold of 0.95."
      ]
    },
    {
      "cell_type": "code",
      "execution_count": null,
      "metadata": {
        "id": "BdcYe5GKTaiG"
      },
      "outputs": [],
      "source": [
        "transectDF = transectDF.where(transectDF['Degrade Flag'] < 1)\n",
        "transectDF = transectDF.where(transectDF['Sensitivity'] > 0.95)"
      ]
    },
    {
      "cell_type": "markdown",
      "metadata": {
        "id": "Xg_4a2bVTaiG"
      },
      "source": [
        "#### Below, drop all of the shots that did not pass the quality filtering standards outlined above from the `transectDF`."
      ]
    },
    {
      "cell_type": "code",
      "execution_count": null,
      "metadata": {
        "id": "EcmWbAKRTaiH"
      },
      "outputs": [],
      "source": [
        "transectDF = transectDF.dropna()  # Drop all of the rows (shots) that did not pass the quality filtering above"
      ]
    },
    {
      "cell_type": "code",
      "execution_count": null,
      "metadata": {
        "id": "3DjBKRQsTaiH"
      },
      "outputs": [],
      "source": [
        "print(f\"Quality filtering complete, {len(transectDF)} high quality shots remaining.\")"
      ]
    },
    {
      "cell_type": "markdown",
      "metadata": {
        "id": "GBxu5yU7TaiH"
      },
      "source": [
        "## 5.2 Plot Beam Transects\n",
        "#### Next, plot the full remaining transect of high quality values using `holoviews` Scatter(). Combine the Tandem-X derived elevation, the GEDI-derived elevation, and the Canopy Top Elevation in a combined holoviews plot."
      ]
    },
    {
      "cell_type": "code",
      "execution_count": null,
      "metadata": {
        "id": "Q3Gun1xfTaiH"
      },
      "outputs": [],
      "source": [
        "# Plot Digital Elevation Model\n",
        "demVis = hv.Scatter((transectDF['Shot Index'], transectDF['Tandem-X DEM']), label='Tandem-X DEM')\n",
        "demVis = demVis.opts(color='black', height=500, width=900, fontsize={'xlabel':16, 'ylabel': 16}, size=1.5)"
      ]
    },
    {
      "cell_type": "code",
      "execution_count": null,
      "metadata": {
        "id": "TrVS-uROTaiH"
      },
      "outputs": [],
      "source": [
        "# Plot GEDI-Retrieved Elevation\n",
        "zVis = hv.Scatter((transectDF['Shot Index'], transectDF['Elevation (m)']), label='GEDI-derived Elevation')\n",
        "zVis = zVis.opts(color='saddlebrown', height=500, width=900, fontsize={'xlabel':16, 'ylabel': 16}, size=1.5)"
      ]
    },
    {
      "cell_type": "code",
      "execution_count": null,
      "metadata": {
        "id": "yZiZRw7VTaiH"
      },
      "outputs": [],
      "source": [
        "# Plot Canopy Top Elevation\n",
        "rhVis = hv.Scatter((transectDF['Shot Index'], transectDF['Canopy Elevation (m)']), label='Canopy Top Elevation')\n",
        "rhVis = rhVis.opts(color='darkgreen', height=500, width=900, fontsize={'xlabel':16, 'ylabel': 16}, size=1.5,\n",
        "                   tools=['hover'], xlabel='Shot Index', ylabel='Elevation (m)')"
      ]
    },
    {
      "cell_type": "code",
      "execution_count": null,
      "metadata": {
        "id": "6e3_VO44TaiH"
      },
      "outputs": [],
      "source": [
        "# Combine all three scatterplots\n",
        "(demVis * zVis * rhVis).opts(show_legend=True, legend_position='top_left',fontsize={'title':14, 'xlabel':16, 'ylabel': 16},\n",
        "                             title=f'{beamNames[0]} Full Transect: {L2B.split(\".\")[0]}')"
      ]
    },
    {
      "cell_type": "markdown",
      "metadata": {
        "id": "qx6uXF7HTaiH"
      },
      "source": [
        "#### The plot still looks a bit messy this far zoomed out--feel free to pan, zoom, and explore different areas of the plot. The waveforms plotted in section 4 were 46597-46600. If you zoom into the high-quality shots between 4.000e+5 and 5.000e+5, you will find the portion of the transect intersecting Redwood National Park, seen below:\n",
        "![GEDI_L2B_V2_Tutorial_2.png](../../img/GEDI_L2B_V2_Tutorial_2.png \"BEAM0110 Transect Plot of Tandem-X Elevation, GEDI-derived Elevation, and Canopy Top Elevation over Redwood National Park, USA.\")"
      ]
    },
    {
      "cell_type": "markdown",
      "metadata": {
        "id": "8SE8sBXoTaiH"
      },
      "source": [
        "## 5.3 Subset Beam Transects"
      ]
    },
    {
      "cell_type": "markdown",
      "metadata": {
        "id": "GNaYT6-zTaiH"
      },
      "source": [
        "#### Now, subset down to a smaller transect centered on the shot analyzed in the sections above."
      ]
    },
    {
      "cell_type": "code",
      "execution_count": null,
      "metadata": {
        "id": "vkiNtzJLTaiH"
      },
      "outputs": [],
      "source": [
        "index"
      ]
    },
    {
      "cell_type": "code",
      "source": [
        "transectDF"
      ],
      "metadata": {
        "id": "FYrPzMUOd3tU"
      },
      "execution_count": null,
      "outputs": []
    },
    {
      "cell_type": "code",
      "execution_count": null,
      "metadata": {
        "id": "7oz5DcNFTaiH"
      },
      "outputs": [],
      "source": [
        "# Grab 50 points before and after the shot visualized above\n",
        "start = index - 50\n",
        "end = index + 50"
      ]
    },
    {
      "cell_type": "code",
      "execution_count": null,
      "metadata": {
        "id": "PnRLClHNTaiI"
      },
      "outputs": [],
      "source": [
        "start"
      ]
    },
    {
      "cell_type": "code",
      "execution_count": null,
      "metadata": {
        "id": "vL-_R3-FTaiI"
      },
      "outputs": [],
      "source": [
        "transectDF['Latitude']"
      ]
    },
    {
      "cell_type": "markdown",
      "metadata": {
        "id": "62hsJDCJTaiI"
      },
      "source": [
        "#### Below, subset the transect using `.loc`."
      ]
    },
    {
      "cell_type": "code",
      "execution_count": null,
      "metadata": {
        "id": "yUOtI_buTaiI"
      },
      "outputs": [],
      "source": [
        "transectDF = transectDF.loc[start:end]  # Subset the Dataframe to only the selected region of interest over Redwood NP"
      ]
    },
    {
      "cell_type": "markdown",
      "metadata": {
        "id": "FjVqJktQTaiI"
      },
      "source": [
        "---\n",
        "# 6. Plot Profile Transects <a id=\"plottransects\"></a>\n",
        "#### In this section, plot the transect subset using elevation, canopy height, and plant area volume density (PAVD) metrics."
      ]
    },
    {
      "cell_type": "markdown",
      "metadata": {
        "id": "FR8ps_Y4TaiI"
      },
      "source": [
        "#### In order to get an idea of the length of the beam transect that you are plotting, you can plot the x-axis as distance, which is calculated below."
      ]
    },
    {
      "cell_type": "code",
      "execution_count": null,
      "metadata": {
        "id": "jjQOr1L2TaiI"
      },
      "outputs": [],
      "source": [
        "# Calculate along-track distance\n",
        "distance = np.arange(0.0, len(transectDF.index) * 60, 60)  # GEDI Shots are spaced 60 m apart\n",
        "transectDF['Distance'] = distance                          # Add Distance as a new column in the dataframe"
      ]
    },
    {
      "cell_type": "markdown",
      "metadata": {
        "id": "jXfa86meTaiI"
      },
      "source": [
        "## 6.1 Plot PAVD Transects"
      ]
    },
    {
      "cell_type": "markdown",
      "metadata": {
        "id": "Ac-SA_IvTaiI"
      },
      "source": [
        "#### Similar to what was done with PAVD in the sections above, reformat PAVD into a list of tuples containing each PAVD value and height by shot."
      ]
    },
    {
      "cell_type": "code",
      "execution_count": null,
      "metadata": {
        "id": "4o7uelEZTaiI"
      },
      "outputs": [],
      "source": [
        "pavdAll = []\n",
        "for j, s in enumerate(transectDF.index):\n",
        "    pavdShot = transectDF['Plant Area Volume Density'][s]\n",
        "    elevShot = transectDF['Elevation (m)'][s]\n",
        "    pavdElev = []\n",
        "\n",
        "    # Remove fill values\n",
        "    if np.isnan(pavdShot).all():\n",
        "        continue\n",
        "    else:\n",
        "        del pavdShot[0]\n",
        "    for i, e in enumerate(range(len(pavdShot))):\n",
        "        if pavdShot[i] > 0:\n",
        "            pavdElev.append((distance[j], elevShot + dz * i, pavdShot[i]))  # Append tuple of distance, elevation, and PAVD\n",
        "    pavdAll.append(pavdElev)                                                # Append to final list"
      ]
    },
    {
      "cell_type": "code",
      "execution_count": null,
      "metadata": {
        "scrolled": true,
        "id": "8HspU6h3TaiI"
      },
      "outputs": [],
      "source": [
        "canopyElevation = [p[-1][1] for p in pavdAll]  # Grab the canopy elevation by selecting the last value in each PAVD"
      ]
    },
    {
      "cell_type": "markdown",
      "metadata": {
        "id": "weBovIY4TaiI"
      },
      "source": [
        "#### Below, plot each shot by using `holoviews` Path() function, with the PAVD plotted in the third dimension in shades of green."
      ]
    },
    {
      "cell_type": "code",
      "execution_count": null,
      "metadata": {
        "id": "bGCnzW5VTaiI"
      },
      "outputs": [],
      "source": [
        "path1 = hv.Path(pavdAll, vdims='PAVD').options(color='PAVD', clim=(0,0.3), cmap='Greens', line_width=8, colorbar=True,\n",
        "                                               width=950, height=500, clabel='PAVD', xlabel='Distance Along Transect (m)',\n",
        "                                               ylabel='Elevation (m)', fontsize={'title':16, 'xlabel':16, 'ylabel': 16,\n",
        "                                                                                 'xticks':12, 'yticks':12,\n",
        "                                                                                 'clabel':12, 'cticks':10})\n",
        "path1"
      ]
    },
    {
      "cell_type": "markdown",
      "metadata": {
        "id": "032NUuc1TaiI"
      },
      "source": [
        "#### Add in the ground elevation and canopy top elevation for better context as to where in the canopy the highest PAVD exists."
      ]
    },
    {
      "cell_type": "code",
      "execution_count": null,
      "metadata": {
        "id": "AqsFtjrXTaiI"
      },
      "outputs": [],
      "source": [
        "path2 = hv.Curve((distance, transectDF['Elevation (m)']), label='Ground Elevation').options(color='black', line_width=2)\n",
        "path3 = hv.Curve((distance, canopyElevation), label='Canopy Top Elevation').options(color='grey', line_width=1.5)"
      ]
    },
    {
      "cell_type": "code",
      "execution_count": null,
      "metadata": {
        "id": "W_WMGxQQTaiJ"
      },
      "outputs": [],
      "source": [
        "# Plot all three together\n",
        "path = path1 * path2 * path3\n",
        "path.opts(height=500,width=980, ylim=(min(transectDF['Elevation (m)']) - 5, max(canopyElevation) + 5),\n",
        "          xlabel='Distance Along Transect (m)', ylabel='Elevation (m)', legend_position='bottom_right',\n",
        "          fontsize={'title':15, 'xlabel':15, 'ylabel': 15, 'xticks': 14, 'yticks': 14, 'legend': 14},\n",
        "          title=f'GEDI L2B {beamNames[0]} PAVD over Dinden National Park, Queensland, Australia in 2022')"
      ]
    },
    {
      "cell_type": "code",
      "execution_count": null,
      "metadata": {
        "id": "92wT99F-TaiJ"
      },
      "outputs": [],
      "source": [
        "#save graph\n",
        "hv.save(path, 'DATA/GEDI_L2B_PAVD.html')"
      ]
    },
    {
      "cell_type": "markdown",
      "metadata": {
        "id": "blkFiyQmTaiJ"
      },
      "source": [
        "#### Above, you can get an idea about the terrain over the region of interest, particularly the classic \"V\" representing the river valley that is bisected by the transect. In terms of vegetation structure, this plot does a good job of showing not only which portions of the canopy are taller, but also where they are denser (darker shades of green)."
      ]
    },
    {
      "cell_type": "code",
      "execution_count": null,
      "metadata": {
        "id": "zzP9hBoZTaiJ"
      },
      "outputs": [],
      "source": [
        "del distance, canopyElevation, pavdAll, pavdElev, pavdShot, transectDF"
      ]
    },
    {
      "cell_type": "markdown",
      "metadata": {
        "id": "PxqhIXKvTaiJ"
      },
      "source": [
        "### At this point you have visualized the elevation, canopy, and vertical structure of specific footprints over Redwood national park, and for a transect cutting through the national park. In section 7 you will look at mapping all of the high-quality shots from all eight GEDI beams for a given region of interest in order to gain knowledge on the spatial distribution of and characteristics of the canopy over Redwood National Park."
      ]
    },
    {
      "cell_type": "markdown",
      "metadata": {
        "id": "eg9vNsgFTaiJ"
      },
      "source": [
        "---\n",
        "# 7. Spatial Visualization<a id=\"spatialvisualization\"></a>\n",
        "#### Section 7 combines many of the techniques learned above including how to import GEDI datasets, perform quality filtering, spatial subsetting, and visualization."
      ]
    },
    {
      "cell_type": "markdown",
      "metadata": {
        "id": "UIlUu7DSTaiJ"
      },
      "source": [
        "## 7.1 Import, Subset, and Quality Filter All Beams"
      ]
    },
    {
      "cell_type": "markdown",
      "metadata": {
        "id": "NzEVQprUTaiJ"
      },
      "source": [
        "#### Below, re-open the GEDI L2B observation--but this time, loop through and import data for all 8 of the GEDI beams."
      ]
    },
    {
      "cell_type": "code",
      "execution_count": null,
      "metadata": {
        "id": "boDoafC4TaiJ"
      },
      "outputs": [],
      "source": [
        "beamNames = [g for g in gediL2B.keys() if g.startswith('BEAM')]"
      ]
    },
    {
      "cell_type": "code",
      "execution_count": null,
      "metadata": {
        "id": "vmKkhCsjTaiJ"
      },
      "outputs": [],
      "source": [
        "beamNames"
      ]
    },
    {
      "cell_type": "markdown",
      "metadata": {
        "id": "_Vg8LpMETaiJ"
      },
      "source": [
        "#### Loop through each of the desired datasets (SDS) for each beam, append to lists, and transform into a `pandas` DataFrame."
      ]
    },
    {
      "cell_type": "code",
      "execution_count": null,
      "metadata": {
        "id": "OiUK7syZTaiJ"
      },
      "outputs": [],
      "source": [
        "# Set up lists to store data\n",
        "shotNum, dem, zElevation, zHigh, zLat, zLon, canopyHeight, quality, degrade, sensitivity, pai, beamI, selectedAlgorithmL2A = ([] for i in range(13))"
      ]
    },
    {
      "cell_type": "code",
      "execution_count": null,
      "metadata": {
        "id": "ozrQkGFuTaiJ"
      },
      "outputs": [],
      "source": [
        "# Loop through each beam and open the SDS needed\n",
        "for b in beamNames:\n",
        "    [shotNum.append(h) for h in gediL2B[[g for g in gediSDS if g.endswith('/shot_number') and b in g][0]][()]]\n",
        "    [dem.append(h) for h in gediL2B[[g for g in gediSDS if g.endswith('/digital_elevation_model') and b in g][0]][()]]\n",
        "    [zElevation.append(h) for h in gediL2B[[g for g in gediSDS if g.endswith('/elev_lowestmode') and b in g][0]][()]]\n",
        "    [zHigh.append(h) for h in gediL2B[[g for g in gediSDS if g.endswith('/elev_highestreturn') and b in g][0]][()]]\n",
        "    [zLat.append(h) for h in gediL2B[[g for g in gediSDS if g.endswith('/lat_lowestmode') and b in g][0]][()]]\n",
        "    [zLon.append(h) for h in gediL2B[[g for g in gediSDS if g.endswith('/lon_lowestmode') and b in g][0]][()]]\n",
        "    [canopyHeight.append(h) for h in gediL2B[[g for g in gediSDS if g.endswith('/rh100') and b in g][0]][()]]\n",
        "    [quality.append(h) for h in gediL2B[[g for g in gediSDS if g.endswith('/l2b_quality_flag') and b in g][0]][()]]\n",
        "    [degrade.append(h) for h in gediL2B[[g for g in gediSDS if g.endswith('/degrade_flag') and b in g][0]][()]]\n",
        "    [sensitivity.append(h) for h in gediL2B[[g for g in gediSDS if g.endswith('/sensitivity') and b in g][0]][()]]\n",
        "    [beamI.append(h) for h in [b] * len(gediL2B[[g for g in gediSDS if g.endswith('/shot_number') and b in g][0]][()])]\n",
        "    [selectedAlgorithmL2A.append(h) for h in gediL2B[[g for g in gediSDS if g.endswith('/selected_l2a_algorithm') and b in g][0]][()]]\n",
        "    [pai.append(h) for h in gediL2B[f'{b}/pai'][()]]"
      ]
    },
    {
      "cell_type": "code",
      "execution_count": null,
      "metadata": {
        "id": "JFHy9NCeTaiJ"
      },
      "outputs": [],
      "source": [
        "# Convert lists to Pandas dataframe\n",
        "allDF = pd.DataFrame({\n",
        "    'Shot Number': shotNum,\n",
        "    'Beam': beamI,\n",
        "    'Latitude': zLat,\n",
        "    'Longitude': zLon,\n",
        "    'Tandem-X DEM': dem,\n",
        "    'Elevation (m)': zElevation,\n",
        "    'Canopy Elevation (m)': zHigh,\n",
        "    'Canopy Height (rh100)': canopyHeight,\n",
        "    'Quality Flag': quality,\n",
        "    'Plant Area Index': pai,\n",
        "    'Degrade Flag': degrade,\n",
        "    'Sensitivity': sensitivity,\n",
        "    'Selected L2A Algorithm': selectedAlgorithmL2A\n",
        "    })"
      ]
    },
    {
      "cell_type": "code",
      "execution_count": null,
      "metadata": {
        "id": "1dqdzJDmTaiJ"
      },
      "outputs": [],
      "source": [
        "del beamI, canopyHeight, degrade, dem, gediSDS, pai, quality, sensitivity, zElevation, zHigh, zLat, zLon, shotNum, selectedAlgorithmL2A"
      ]
    },
    {
      "cell_type": "markdown",
      "metadata": {
        "id": "Q-_oeDXeTaiJ"
      },
      "source": [
        "## 7.2 Spatial Subsetting\n",
        "#### Below, subset the pandas dataframe using a simple bounding box region of interest. If you are interested in spatially clipping GEDI shots to a GeoJSON region of interest, be sure to check out the GEDI-Subsetter python script available at: https://git.earthdata.nasa.gov/projects/LPDUR/repos/gedi-subsetter/browse."
      ]
    },
    {
      "cell_type": "code",
      "execution_count": null,
      "metadata": {
        "id": "UkbGUJxVTaiJ"
      },
      "outputs": [],
      "source": [
        "len(allDF)"
      ]
    },
    {
      "cell_type": "markdown",
      "metadata": {
        "id": "fcvLKinGTaiK"
      },
      "source": [
        "#### Almost 800,000 shots are contained in this single GEDI sub-orbit granule! Below subset down to only the shots falling within this small bounding box encompassing Redwood National Park. `RedwoodNP` our `geopandas` geodataframe can be called for the \"envelope\" or smallest bounding box encompassing the entire region of interest. Here, use that as the bounding box for subsetting the GEDI shots."
      ]
    },
    {
      "cell_type": "code",
      "execution_count": null,
      "metadata": {
        "id": "_3zaQhXvTaiK"
      },
      "outputs": [],
      "source": [
        "QLD.envelope[0].bounds"
      ]
    },
    {
      "cell_type": "code",
      "execution_count": null,
      "metadata": {
        "id": "hAL7gQj5TaiK"
      },
      "outputs": [],
      "source": [
        "minLon, minLat, maxLon, maxLat = QLD.envelope[0].bounds  # Define the min/max lat/lon from the bounds of Redwood NP"
      ]
    },
    {
      "cell_type": "markdown",
      "metadata": {
        "id": "irtOVzgSTaiK"
      },
      "source": [
        "#### Filter by the bounding box, which is done similarly to filtering by quality in section 6.1 above."
      ]
    },
    {
      "cell_type": "code",
      "execution_count": null,
      "metadata": {
        "id": "ZVdCGWrzTaiK"
      },
      "outputs": [],
      "source": [
        "allDF = allDF.where(allDF['Latitude'] > minLat)\n",
        "allDF = allDF.where(allDF['Latitude'] < maxLat)\n",
        "allDF = allDF.where(allDF['Longitude'] > minLon)\n",
        "allDF = allDF.where(allDF['Longitude'] < maxLon)"
      ]
    },
    {
      "cell_type": "code",
      "execution_count": null,
      "metadata": {
        "id": "luLMKzI9TaiK"
      },
      "outputs": [],
      "source": [
        "allDF = allDF.dropna()  # Drop shots outside of the ROI"
      ]
    },
    {
      "cell_type": "code",
      "execution_count": null,
      "metadata": {
        "id": "BAZvJWb-TaiK"
      },
      "outputs": [],
      "source": [
        "len(allDF)"
      ]
    },
    {
      "cell_type": "markdown",
      "metadata": {
        "id": "kGGJhpF2TaiK"
      },
      "source": [
        "#### Notice you have drastically reduced the number of shots you are working with (which will greatly enhance your experience in plotting them below). But first, remove any poor quality shots that exist within the ROI."
      ]
    },
    {
      "cell_type": "code",
      "execution_count": null,
      "metadata": {
        "id": "B6GAEoZETaiK"
      },
      "outputs": [],
      "source": [
        "# Set any poor quality returns to NaN\n",
        "allDF = allDF.where(allDF['Quality Flag'].ne(0))\n",
        "allDF = allDF.where(allDF['Degrade Flag'] < 1)\n",
        "allDF = allDF.where(allDF['Sensitivity'] > 0.95)\n",
        "allDF = allDF.dropna()\n",
        "len(allDF)"
      ]
    },
    {
      "cell_type": "markdown",
      "metadata": {
        "id": "Op50DZoDTaiK"
      },
      "source": [
        "#### Down to roughly 2000 shots, next create a `Shapely` Point out of each shot and insert it as the geometry column in the [soon to be geo]dataframe."
      ]
    },
    {
      "cell_type": "code",
      "execution_count": null,
      "metadata": {
        "id": "c0hQLPxZTaiK"
      },
      "outputs": [],
      "source": [
        "# Take the lat/lon dataframe and convert each lat/lon to a shapely point\n",
        "allDF['geometry'] = allDF.apply(lambda row: Point(row.Longitude, row.Latitude), axis=1)"
      ]
    },
    {
      "cell_type": "code",
      "execution_count": null,
      "metadata": {
        "id": "tSpWCFvsTaiK"
      },
      "outputs": [],
      "source": [
        "# Convert to geodataframe\n",
        "allDF = gp.GeoDataFrame(allDF)\n",
        "allDF = allDF.drop(columns=['Latitude','Longitude'])"
      ]
    },
    {
      "cell_type": "markdown",
      "metadata": {
        "id": "kMy3TzIvTaiK"
      },
      "source": [
        "## 7.3 Visualize All Beams: Canopy Height, Elevation, and PAI"
      ]
    },
    {
      "cell_type": "markdown",
      "metadata": {
        "id": "GmSoj2X9TaiL"
      },
      "source": [
        "#### Now, using the `pointVisual` function defined in section 3.2, plot the `geopandas` GeoDataFrame using `geoviews`."
      ]
    },
    {
      "cell_type": "code",
      "execution_count": null,
      "metadata": {
        "id": "00Va_W7wTaiL"
      },
      "outputs": [],
      "source": [
        "m = leafmap.Map()\n",
        "m.zoom_to_bounds(bbox)\n",
        "m.add_basemap('HYBRID')\n",
        "m.add_gdf(QLD, layer_name=\"QPRP-CSIRO\", style={'fillColor': 'yellow', 'color': 'yellow', 'fillOpacity': 0.5})\n",
        "m.add_markers(allDF, shape=\"circle\", radius=2, color=\"red\", fill_color=\"red\", popup=[\"geometry\", \"Beam\", \"Shot Number\", \"Quality Flag\"])\n",
        "m.add_markers(gdf, shape=\"circle\", radius=4, color=\"blue\", fill_color=\"blue\", popup=[\"plot_name\"])\n",
        "m"
      ]
    },
    {
      "cell_type": "code",
      "execution_count": null,
      "metadata": {
        "id": "IgxKlSFKTaiL"
      },
      "outputs": [],
      "source": [
        "allDF['Shot Number'] = allDF['Shot Number'].astype(str)  # Convert shot number to string\n",
        "\n",
        "vdims = []\n",
        "for f in allDF:\n",
        "    if f not in ['geometry']:\n",
        "        vdims.append(f)\n",
        "\n",
        "visual = pointVisual(allDF, vdims = vdims)\n",
        "visual * gv.Polygons(QLD['geometry']).opts(line_color='red', color=None)"
      ]
    },
    {
      "cell_type": "markdown",
      "metadata": {
        "id": "zts6JIliTaiL"
      },
      "source": [
        "#### Feel free to pan and zoom in to the GEDI shots in yellow."
      ]
    },
    {
      "cell_type": "markdown",
      "metadata": {
        "id": "mgYtMfnaTaiL"
      },
      "source": [
        "### Now let's not only plot the points in the geodataframe but also add a colormap for Canopy Height (m), Elevation (m), and Plant Area Index (PAI)."
      ]
    },
    {
      "cell_type": "code",
      "execution_count": null,
      "metadata": {
        "scrolled": true,
        "id": "V7R23cSCTaiL"
      },
      "outputs": [],
      "source": [
        "allDF['Canopy Height (rh100)'] = allDF['Canopy Height (rh100)'] / 100 # Convert canopy height from cm to m\n",
        "#Watch out: do not run this cell twice! As the allDF['Canopy Height (rh100)'] will be divided by 100 again."
      ]
    },
    {
      "cell_type": "code",
      "execution_count": null,
      "metadata": {
        "id": "JD7vIzbsTaiL"
      },
      "outputs": [],
      "source": [
        "# Plot the basemap and geoviews Points, defining the color as the Canopy Height for each shot\n",
        "(gvts.EsriImagery * gv.Points(allDF, vdims=vdims).options(color='Canopy Height (rh100)',cmap='plasma', size=3, tools=['hover'],\n",
        "                                                          clim=(0,70), colorbar=True, clabel='Meters',\n",
        "                                                          title='GEDI Canopy Height over Redwood National Park: June 19, 2019',\n",
        "                                                          fontsize={'xticks': 10, 'yticks': 10, 'xlabel':16, 'clabel':12,\n",
        "                                                                    'cticks':10,'title':16,'ylabel':16})).options(height=500,\n",
        "                                                                                                                  width=900)"
      ]
    },
    {
      "cell_type": "code",
      "execution_count": null,
      "metadata": {
        "id": "HGDXynMKTaiL"
      },
      "outputs": [],
      "source": [
        "m.zoom_to_bounds(bbox)\n",
        "m.add_basemap('HYBRID')\n",
        "m.add_gdf(QLD, layer_name=\"QPRP-CSIRO\", style={'fillColor': 'yellow', 'color': 'yellow', 'fillOpacity': 0.2})\n",
        "m.add_markers(gdf, shape=\"circle\", radius=4, color=\"blue\", fill_color=\"blue\", popup=[\"plot_name\"])\n",
        "m.add_data(allDF, column=\"Canopy Height (rh100)\", cmap=\"plasma\", marker_radius=2, layer_name=\"Canopy Height (rh100)\")\n",
        "m"
      ]
    },
    {
      "cell_type": "markdown",
      "metadata": {
        "id": "-i_xKAwTTaiL"
      },
      "source": [
        "#### Next, take a look at the GEDI-derived elevation over the shots. Notice below that the colormap is changed to 'terrain'."
      ]
    },
    {
      "cell_type": "code",
      "execution_count": null,
      "metadata": {
        "id": "G1qANDJMTaiL"
      },
      "outputs": [],
      "source": [
        "(gvts.EsriImagery * gv.Points(allDF, vdims=vdims).options(color='Elevation (m)',cmap='terrain', size=3, tools=['hover'],\n",
        "                                                          clim=(min(allDF['Elevation (m)']), max(allDF['Elevation (m)'])),\n",
        "                                                          colorbar=True, clabel='Meters',\n",
        "                                                          title='GEDI Elevation over Redwood National Park: June 19, 2019',\n",
        "                                                          fontsize={'xticks': 10, 'yticks': 10, 'xlabel':16, 'clabel':12,\n",
        "                                                                    'cticks':10,'title':16,'ylabel':16})).options(height=500,\n",
        "                                                                                                                  width=900)"
      ]
    },
    {
      "cell_type": "code",
      "execution_count": null,
      "metadata": {
        "id": "s5S5170sTaiL"
      },
      "outputs": [],
      "source": [
        "m = leafmap.Map()\n",
        "m.zoom_to_bounds(bbox)\n",
        "m.add_basemap('HYBRID')\n",
        "m.add_gdf(QLD, layer_name=\"QPRP-CSIRO\", style={'fillColor': 'yellow', 'color': 'yellow', 'fillOpacity': 0.2})\n",
        "m.add_markers(gdf, shape=\"circle\", radius=4, color=\"blue\", fill_color=\"blue\", popup=[\"plot_name\"])\n",
        "m.add_data(allDF, column=\"Elevation (m)\", cmap=\"terrain\", marker_radius=2, layer_name=\"GEDI Elevation\")\n",
        "m"
      ]
    },
    {
      "cell_type": "markdown",
      "metadata": {
        "id": "mwI3TTHVTaiL"
      },
      "source": [
        "#### Last but certainly not least, `Plant Area Index`:"
      ]
    },
    {
      "cell_type": "code",
      "execution_count": null,
      "metadata": {
        "id": "qMMVPSfUTaiL"
      },
      "outputs": [],
      "source": [
        "(gvts.EsriImagery * gv.Points(allDF, vdims=vdims).options(color='Plant Area Index',cmap='Greens', size=3, tools=['hover'],\n",
        "                                                          clim=(0,1), colorbar=True, clabel='m2/m2',\n",
        "                                                          title='GEDI PAI over Redwood National Park: June 19, 2019',\n",
        "                                                          fontsize={'xticks': 10, 'yticks': 10, 'xlabel':16, 'clabel':12,\n",
        "                                                                    'cticks':10,'title':16,'ylabel':16})).options(height=500,\n",
        "                                                                                                                  width=900)"
      ]
    },
    {
      "cell_type": "code",
      "execution_count": null,
      "metadata": {
        "id": "PNK07iWhTaiL"
      },
      "outputs": [],
      "source": [
        "m = leafmap.Map()\n",
        "m.zoom_to_bounds(bbox)\n",
        "m.add_basemap('HYBRID')\n",
        "m.add_gdf(QLD, layer_name=\"QPRP-CSIRO\", style={'fillColor': 'yellow', 'color': 'yellow', 'fillOpacity': 0.2})\n",
        "m.add_markers(gdf, shape=\"circle\", radius=4, color=\"blue\", fill_color=\"blue\", popup=[\"plot_name\"])\n",
        "m.add_data(allDF, column=\"Plant Area Index\", cmap=\"Greens\", marker_radius=2, layer_name=\"GEDI PAI over Queensland\")\n",
        "m"
      ]
    },
    {
      "cell_type": "markdown",
      "metadata": {
        "id": "ffPr_xgdTaiL"
      },
      "source": [
        "### Success! You have now learned how to start working with GEDI L2B files in Python as well as some interesting strategies for visualizing those data in order to better understand your specific region of interest. Using this Jupyter Notebook as a workflow, you should now be able to switch to GEDI files over your specific region of interest and re-run the notebook. Good Luck!"
      ]
    },
    {
      "cell_type": "markdown",
      "metadata": {
        "id": "eYG-RZ1qTaiL"
      },
      "source": [
        "\n",
        "# 8. Export Subsets as GeoJSON Files<a id=\"exportgeojson\"></a>\n",
        "#### In this section, export the GeoDataFrame as a `.geojson` file that can be easily opened in your favorite remote sensing and/or GIS software and will include an attribute table with all of the shots/values for each of the SDS layers in the dataframe."
      ]
    },
    {
      "cell_type": "code",
      "execution_count": null,
      "metadata": {
        "id": "m0EjJcd-TaiM"
      },
      "outputs": [],
      "source": [
        "gediL2B.filename  # L2B Filename"
      ]
    },
    {
      "cell_type": "code",
      "execution_count": null,
      "metadata": {
        "id": "MwzYXo0QTaiM"
      },
      "outputs": [],
      "source": [
        "outName = gediL2B.filename.replace('.h5', '.json')  # Create an output file name using the input file name\n",
        "outName"
      ]
    },
    {
      "cell_type": "code",
      "execution_count": null,
      "metadata": {
        "id": "XrS3rDxfTaiM"
      },
      "outputs": [],
      "source": [
        "allDF.to_file(outName, driver='GeoJSON')  # Export to GeoJSON"
      ]
    },
    {
      "cell_type": "code",
      "execution_count": null,
      "metadata": {
        "id": "Cgl-1nIUTaiM"
      },
      "outputs": [],
      "source": [
        "del allDF"
      ]
    },
    {
      "cell_type": "markdown",
      "metadata": {
        "id": "xfTDrkBPTaiM"
      },
      "source": [
        "\n",
        "## Contact Info:  \n",
        "\n",
        "Email: LPDAAC@usgs.gov  \n",
        "Voice: +1-866-573-3222  \n",
        "Organization: Land Processes Distributed Active Archive Center (LP DAAC)¹  \n",
        "Website: <https://lpdaac.usgs.gov/>  \n",
        "Date last modified: 02-20-2024  \n",
        "\n",
        "¹Work performed under USGS contract G15PD00467 for NASA contract NNG14HH33I.  "
      ]
    }
  ],
  "metadata": {
    "kernelspec": {
      "display_name": ".venv",
      "language": "python",
      "name": "python3"
    },
    "language_info": {
      "codemirror_mode": {
        "name": "ipython",
        "version": 3
      },
      "file_extension": ".py",
      "mimetype": "text/x-python",
      "name": "python",
      "nbconvert_exporter": "python",
      "pygments_lexer": "ipython3",
      "version": "3.11.4"
    },
    "colab": {
      "provenance": [],
      "include_colab_link": true
    },
    "widgets": {
      "application/vnd.jupyter.widget-state+json": {
        "a1eb71fa6a674b72bbd197014d808721": {
          "model_module": "@jupyter-widgets/controls",
          "model_name": "HBoxModel",
          "model_module_version": "1.5.0",
          "state": {
            "_dom_classes": [],
            "_model_module": "@jupyter-widgets/controls",
            "_model_module_version": "1.5.0",
            "_model_name": "HBoxModel",
            "_view_count": null,
            "_view_module": "@jupyter-widgets/controls",
            "_view_module_version": "1.5.0",
            "_view_name": "HBoxView",
            "box_style": "",
            "children": [
              "IPY_MODEL_8bfd8d9974be4ad5850feb8a9b2ce9f0",
              "IPY_MODEL_a2fa4ffae9f84cae85be7673d6056103",
              "IPY_MODEL_78ec3d9fad9341e3b7d9c275b01ab8c9"
            ],
            "layout": "IPY_MODEL_60b2a5f3f7e94e46ab3aa4cf58e271d1"
          }
        },
        "8bfd8d9974be4ad5850feb8a9b2ce9f0": {
          "model_module": "@jupyter-widgets/controls",
          "model_name": "HTMLModel",
          "model_module_version": "1.5.0",
          "state": {
            "_dom_classes": [],
            "_model_module": "@jupyter-widgets/controls",
            "_model_module_version": "1.5.0",
            "_model_name": "HTMLModel",
            "_view_count": null,
            "_view_module": "@jupyter-widgets/controls",
            "_view_module_version": "1.5.0",
            "_view_name": "HTMLView",
            "description": "",
            "description_tooltip": null,
            "layout": "IPY_MODEL_d349013a8452404c9167b7c233a079de",
            "placeholder": "​",
            "style": "IPY_MODEL_9e636a7f0ad14187b5297ea3382a7d30",
            "value": "QUEUEING TASKS | : 100%"
          }
        },
        "a2fa4ffae9f84cae85be7673d6056103": {
          "model_module": "@jupyter-widgets/controls",
          "model_name": "FloatProgressModel",
          "model_module_version": "1.5.0",
          "state": {
            "_dom_classes": [],
            "_model_module": "@jupyter-widgets/controls",
            "_model_module_version": "1.5.0",
            "_model_name": "FloatProgressModel",
            "_view_count": null,
            "_view_module": "@jupyter-widgets/controls",
            "_view_module_version": "1.5.0",
            "_view_name": "ProgressView",
            "bar_style": "success",
            "description": "",
            "description_tooltip": null,
            "layout": "IPY_MODEL_317fdd3868d24fa2a93ab2a7db4eed97",
            "max": 1,
            "min": 0,
            "orientation": "horizontal",
            "style": "IPY_MODEL_71a73ff116184257981be20b4eab99e0",
            "value": 1
          }
        },
        "78ec3d9fad9341e3b7d9c275b01ab8c9": {
          "model_module": "@jupyter-widgets/controls",
          "model_name": "HTMLModel",
          "model_module_version": "1.5.0",
          "state": {
            "_dom_classes": [],
            "_model_module": "@jupyter-widgets/controls",
            "_model_module_version": "1.5.0",
            "_model_name": "HTMLModel",
            "_view_count": null,
            "_view_module": "@jupyter-widgets/controls",
            "_view_module_version": "1.5.0",
            "_view_name": "HTMLView",
            "description": "",
            "description_tooltip": null,
            "layout": "IPY_MODEL_fbbb1c605d2b42f485af3e31b06457d8",
            "placeholder": "​",
            "style": "IPY_MODEL_bada98e3f54c4dfe9385006df65711c8",
            "value": " 1/1 [00:00&lt;00:00, 14.68it/s]"
          }
        },
        "60b2a5f3f7e94e46ab3aa4cf58e271d1": {
          "model_module": "@jupyter-widgets/base",
          "model_name": "LayoutModel",
          "model_module_version": "1.2.0",
          "state": {
            "_model_module": "@jupyter-widgets/base",
            "_model_module_version": "1.2.0",
            "_model_name": "LayoutModel",
            "_view_count": null,
            "_view_module": "@jupyter-widgets/base",
            "_view_module_version": "1.2.0",
            "_view_name": "LayoutView",
            "align_content": null,
            "align_items": null,
            "align_self": null,
            "border": null,
            "bottom": null,
            "display": null,
            "flex": null,
            "flex_flow": null,
            "grid_area": null,
            "grid_auto_columns": null,
            "grid_auto_flow": null,
            "grid_auto_rows": null,
            "grid_column": null,
            "grid_gap": null,
            "grid_row": null,
            "grid_template_areas": null,
            "grid_template_columns": null,
            "grid_template_rows": null,
            "height": null,
            "justify_content": null,
            "justify_items": null,
            "left": null,
            "margin": null,
            "max_height": null,
            "max_width": null,
            "min_height": null,
            "min_width": null,
            "object_fit": null,
            "object_position": null,
            "order": null,
            "overflow": null,
            "overflow_x": null,
            "overflow_y": null,
            "padding": null,
            "right": null,
            "top": null,
            "visibility": null,
            "width": null
          }
        },
        "d349013a8452404c9167b7c233a079de": {
          "model_module": "@jupyter-widgets/base",
          "model_name": "LayoutModel",
          "model_module_version": "1.2.0",
          "state": {
            "_model_module": "@jupyter-widgets/base",
            "_model_module_version": "1.2.0",
            "_model_name": "LayoutModel",
            "_view_count": null,
            "_view_module": "@jupyter-widgets/base",
            "_view_module_version": "1.2.0",
            "_view_name": "LayoutView",
            "align_content": null,
            "align_items": null,
            "align_self": null,
            "border": null,
            "bottom": null,
            "display": null,
            "flex": null,
            "flex_flow": null,
            "grid_area": null,
            "grid_auto_columns": null,
            "grid_auto_flow": null,
            "grid_auto_rows": null,
            "grid_column": null,
            "grid_gap": null,
            "grid_row": null,
            "grid_template_areas": null,
            "grid_template_columns": null,
            "grid_template_rows": null,
            "height": null,
            "justify_content": null,
            "justify_items": null,
            "left": null,
            "margin": null,
            "max_height": null,
            "max_width": null,
            "min_height": null,
            "min_width": null,
            "object_fit": null,
            "object_position": null,
            "order": null,
            "overflow": null,
            "overflow_x": null,
            "overflow_y": null,
            "padding": null,
            "right": null,
            "top": null,
            "visibility": null,
            "width": null
          }
        },
        "9e636a7f0ad14187b5297ea3382a7d30": {
          "model_module": "@jupyter-widgets/controls",
          "model_name": "DescriptionStyleModel",
          "model_module_version": "1.5.0",
          "state": {
            "_model_module": "@jupyter-widgets/controls",
            "_model_module_version": "1.5.0",
            "_model_name": "DescriptionStyleModel",
            "_view_count": null,
            "_view_module": "@jupyter-widgets/base",
            "_view_module_version": "1.2.0",
            "_view_name": "StyleView",
            "description_width": ""
          }
        },
        "317fdd3868d24fa2a93ab2a7db4eed97": {
          "model_module": "@jupyter-widgets/base",
          "model_name": "LayoutModel",
          "model_module_version": "1.2.0",
          "state": {
            "_model_module": "@jupyter-widgets/base",
            "_model_module_version": "1.2.0",
            "_model_name": "LayoutModel",
            "_view_count": null,
            "_view_module": "@jupyter-widgets/base",
            "_view_module_version": "1.2.0",
            "_view_name": "LayoutView",
            "align_content": null,
            "align_items": null,
            "align_self": null,
            "border": null,
            "bottom": null,
            "display": null,
            "flex": null,
            "flex_flow": null,
            "grid_area": null,
            "grid_auto_columns": null,
            "grid_auto_flow": null,
            "grid_auto_rows": null,
            "grid_column": null,
            "grid_gap": null,
            "grid_row": null,
            "grid_template_areas": null,
            "grid_template_columns": null,
            "grid_template_rows": null,
            "height": null,
            "justify_content": null,
            "justify_items": null,
            "left": null,
            "margin": null,
            "max_height": null,
            "max_width": null,
            "min_height": null,
            "min_width": null,
            "object_fit": null,
            "object_position": null,
            "order": null,
            "overflow": null,
            "overflow_x": null,
            "overflow_y": null,
            "padding": null,
            "right": null,
            "top": null,
            "visibility": null,
            "width": null
          }
        },
        "71a73ff116184257981be20b4eab99e0": {
          "model_module": "@jupyter-widgets/controls",
          "model_name": "ProgressStyleModel",
          "model_module_version": "1.5.0",
          "state": {
            "_model_module": "@jupyter-widgets/controls",
            "_model_module_version": "1.5.0",
            "_model_name": "ProgressStyleModel",
            "_view_count": null,
            "_view_module": "@jupyter-widgets/base",
            "_view_module_version": "1.2.0",
            "_view_name": "StyleView",
            "bar_color": null,
            "description_width": ""
          }
        },
        "fbbb1c605d2b42f485af3e31b06457d8": {
          "model_module": "@jupyter-widgets/base",
          "model_name": "LayoutModel",
          "model_module_version": "1.2.0",
          "state": {
            "_model_module": "@jupyter-widgets/base",
            "_model_module_version": "1.2.0",
            "_model_name": "LayoutModel",
            "_view_count": null,
            "_view_module": "@jupyter-widgets/base",
            "_view_module_version": "1.2.0",
            "_view_name": "LayoutView",
            "align_content": null,
            "align_items": null,
            "align_self": null,
            "border": null,
            "bottom": null,
            "display": null,
            "flex": null,
            "flex_flow": null,
            "grid_area": null,
            "grid_auto_columns": null,
            "grid_auto_flow": null,
            "grid_auto_rows": null,
            "grid_column": null,
            "grid_gap": null,
            "grid_row": null,
            "grid_template_areas": null,
            "grid_template_columns": null,
            "grid_template_rows": null,
            "height": null,
            "justify_content": null,
            "justify_items": null,
            "left": null,
            "margin": null,
            "max_height": null,
            "max_width": null,
            "min_height": null,
            "min_width": null,
            "object_fit": null,
            "object_position": null,
            "order": null,
            "overflow": null,
            "overflow_x": null,
            "overflow_y": null,
            "padding": null,
            "right": null,
            "top": null,
            "visibility": null,
            "width": null
          }
        },
        "bada98e3f54c4dfe9385006df65711c8": {
          "model_module": "@jupyter-widgets/controls",
          "model_name": "DescriptionStyleModel",
          "model_module_version": "1.5.0",
          "state": {
            "_model_module": "@jupyter-widgets/controls",
            "_model_module_version": "1.5.0",
            "_model_name": "DescriptionStyleModel",
            "_view_count": null,
            "_view_module": "@jupyter-widgets/base",
            "_view_module_version": "1.2.0",
            "_view_name": "StyleView",
            "description_width": ""
          }
        },
        "6e09a66c4b6b4c9395f8ccb66cbd298e": {
          "model_module": "@jupyter-widgets/controls",
          "model_name": "HBoxModel",
          "model_module_version": "1.5.0",
          "state": {
            "_dom_classes": [],
            "_model_module": "@jupyter-widgets/controls",
            "_model_module_version": "1.5.0",
            "_model_name": "HBoxModel",
            "_view_count": null,
            "_view_module": "@jupyter-widgets/controls",
            "_view_module_version": "1.5.0",
            "_view_name": "HBoxView",
            "box_style": "",
            "children": [
              "IPY_MODEL_80e12bd7734543bcbc6eb1539fbf1c0a",
              "IPY_MODEL_65bcedc1e421475ba8241cad3bc23c42",
              "IPY_MODEL_778d7d5a9cac4abe9e8787e2bc0e5460"
            ],
            "layout": "IPY_MODEL_ff6ca8d019974fb7af0be610378f9a55"
          }
        },
        "80e12bd7734543bcbc6eb1539fbf1c0a": {
          "model_module": "@jupyter-widgets/controls",
          "model_name": "HTMLModel",
          "model_module_version": "1.5.0",
          "state": {
            "_dom_classes": [],
            "_model_module": "@jupyter-widgets/controls",
            "_model_module_version": "1.5.0",
            "_model_name": "HTMLModel",
            "_view_count": null,
            "_view_module": "@jupyter-widgets/controls",
            "_view_module_version": "1.5.0",
            "_view_name": "HTMLView",
            "description": "",
            "description_tooltip": null,
            "layout": "IPY_MODEL_7a91ad9b8019412bac5d1b62a221508f",
            "placeholder": "​",
            "style": "IPY_MODEL_45d2b6b725ef4d17bd6a81c6c0f243d2",
            "value": "PROCESSING TASKS | : 100%"
          }
        },
        "65bcedc1e421475ba8241cad3bc23c42": {
          "model_module": "@jupyter-widgets/controls",
          "model_name": "FloatProgressModel",
          "model_module_version": "1.5.0",
          "state": {
            "_dom_classes": [],
            "_model_module": "@jupyter-widgets/controls",
            "_model_module_version": "1.5.0",
            "_model_name": "FloatProgressModel",
            "_view_count": null,
            "_view_module": "@jupyter-widgets/controls",
            "_view_module_version": "1.5.0",
            "_view_name": "ProgressView",
            "bar_style": "success",
            "description": "",
            "description_tooltip": null,
            "layout": "IPY_MODEL_d72b3a10596b4196b707bdc7396ed358",
            "max": 1,
            "min": 0,
            "orientation": "horizontal",
            "style": "IPY_MODEL_0cf6b249ee5f4d6c9a46ef1fe2e54a03",
            "value": 1
          }
        },
        "778d7d5a9cac4abe9e8787e2bc0e5460": {
          "model_module": "@jupyter-widgets/controls",
          "model_name": "HTMLModel",
          "model_module_version": "1.5.0",
          "state": {
            "_dom_classes": [],
            "_model_module": "@jupyter-widgets/controls",
            "_model_module_version": "1.5.0",
            "_model_name": "HTMLModel",
            "_view_count": null,
            "_view_module": "@jupyter-widgets/controls",
            "_view_module_version": "1.5.0",
            "_view_name": "HTMLView",
            "description": "",
            "description_tooltip": null,
            "layout": "IPY_MODEL_4c01195d1335454886b0ed4af0c97f5e",
            "placeholder": "​",
            "style": "IPY_MODEL_9f9e0fe4b815475994baec35e470b005",
            "value": " 1/1 [00:00&lt;00:00, 45.56it/s]"
          }
        },
        "ff6ca8d019974fb7af0be610378f9a55": {
          "model_module": "@jupyter-widgets/base",
          "model_name": "LayoutModel",
          "model_module_version": "1.2.0",
          "state": {
            "_model_module": "@jupyter-widgets/base",
            "_model_module_version": "1.2.0",
            "_model_name": "LayoutModel",
            "_view_count": null,
            "_view_module": "@jupyter-widgets/base",
            "_view_module_version": "1.2.0",
            "_view_name": "LayoutView",
            "align_content": null,
            "align_items": null,
            "align_self": null,
            "border": null,
            "bottom": null,
            "display": null,
            "flex": null,
            "flex_flow": null,
            "grid_area": null,
            "grid_auto_columns": null,
            "grid_auto_flow": null,
            "grid_auto_rows": null,
            "grid_column": null,
            "grid_gap": null,
            "grid_row": null,
            "grid_template_areas": null,
            "grid_template_columns": null,
            "grid_template_rows": null,
            "height": null,
            "justify_content": null,
            "justify_items": null,
            "left": null,
            "margin": null,
            "max_height": null,
            "max_width": null,
            "min_height": null,
            "min_width": null,
            "object_fit": null,
            "object_position": null,
            "order": null,
            "overflow": null,
            "overflow_x": null,
            "overflow_y": null,
            "padding": null,
            "right": null,
            "top": null,
            "visibility": null,
            "width": null
          }
        },
        "7a91ad9b8019412bac5d1b62a221508f": {
          "model_module": "@jupyter-widgets/base",
          "model_name": "LayoutModel",
          "model_module_version": "1.2.0",
          "state": {
            "_model_module": "@jupyter-widgets/base",
            "_model_module_version": "1.2.0",
            "_model_name": "LayoutModel",
            "_view_count": null,
            "_view_module": "@jupyter-widgets/base",
            "_view_module_version": "1.2.0",
            "_view_name": "LayoutView",
            "align_content": null,
            "align_items": null,
            "align_self": null,
            "border": null,
            "bottom": null,
            "display": null,
            "flex": null,
            "flex_flow": null,
            "grid_area": null,
            "grid_auto_columns": null,
            "grid_auto_flow": null,
            "grid_auto_rows": null,
            "grid_column": null,
            "grid_gap": null,
            "grid_row": null,
            "grid_template_areas": null,
            "grid_template_columns": null,
            "grid_template_rows": null,
            "height": null,
            "justify_content": null,
            "justify_items": null,
            "left": null,
            "margin": null,
            "max_height": null,
            "max_width": null,
            "min_height": null,
            "min_width": null,
            "object_fit": null,
            "object_position": null,
            "order": null,
            "overflow": null,
            "overflow_x": null,
            "overflow_y": null,
            "padding": null,
            "right": null,
            "top": null,
            "visibility": null,
            "width": null
          }
        },
        "45d2b6b725ef4d17bd6a81c6c0f243d2": {
          "model_module": "@jupyter-widgets/controls",
          "model_name": "DescriptionStyleModel",
          "model_module_version": "1.5.0",
          "state": {
            "_model_module": "@jupyter-widgets/controls",
            "_model_module_version": "1.5.0",
            "_model_name": "DescriptionStyleModel",
            "_view_count": null,
            "_view_module": "@jupyter-widgets/base",
            "_view_module_version": "1.2.0",
            "_view_name": "StyleView",
            "description_width": ""
          }
        },
        "d72b3a10596b4196b707bdc7396ed358": {
          "model_module": "@jupyter-widgets/base",
          "model_name": "LayoutModel",
          "model_module_version": "1.2.0",
          "state": {
            "_model_module": "@jupyter-widgets/base",
            "_model_module_version": "1.2.0",
            "_model_name": "LayoutModel",
            "_view_count": null,
            "_view_module": "@jupyter-widgets/base",
            "_view_module_version": "1.2.0",
            "_view_name": "LayoutView",
            "align_content": null,
            "align_items": null,
            "align_self": null,
            "border": null,
            "bottom": null,
            "display": null,
            "flex": null,
            "flex_flow": null,
            "grid_area": null,
            "grid_auto_columns": null,
            "grid_auto_flow": null,
            "grid_auto_rows": null,
            "grid_column": null,
            "grid_gap": null,
            "grid_row": null,
            "grid_template_areas": null,
            "grid_template_columns": null,
            "grid_template_rows": null,
            "height": null,
            "justify_content": null,
            "justify_items": null,
            "left": null,
            "margin": null,
            "max_height": null,
            "max_width": null,
            "min_height": null,
            "min_width": null,
            "object_fit": null,
            "object_position": null,
            "order": null,
            "overflow": null,
            "overflow_x": null,
            "overflow_y": null,
            "padding": null,
            "right": null,
            "top": null,
            "visibility": null,
            "width": null
          }
        },
        "0cf6b249ee5f4d6c9a46ef1fe2e54a03": {
          "model_module": "@jupyter-widgets/controls",
          "model_name": "ProgressStyleModel",
          "model_module_version": "1.5.0",
          "state": {
            "_model_module": "@jupyter-widgets/controls",
            "_model_module_version": "1.5.0",
            "_model_name": "ProgressStyleModel",
            "_view_count": null,
            "_view_module": "@jupyter-widgets/base",
            "_view_module_version": "1.2.0",
            "_view_name": "StyleView",
            "bar_color": null,
            "description_width": ""
          }
        },
        "4c01195d1335454886b0ed4af0c97f5e": {
          "model_module": "@jupyter-widgets/base",
          "model_name": "LayoutModel",
          "model_module_version": "1.2.0",
          "state": {
            "_model_module": "@jupyter-widgets/base",
            "_model_module_version": "1.2.0",
            "_model_name": "LayoutModel",
            "_view_count": null,
            "_view_module": "@jupyter-widgets/base",
            "_view_module_version": "1.2.0",
            "_view_name": "LayoutView",
            "align_content": null,
            "align_items": null,
            "align_self": null,
            "border": null,
            "bottom": null,
            "display": null,
            "flex": null,
            "flex_flow": null,
            "grid_area": null,
            "grid_auto_columns": null,
            "grid_auto_flow": null,
            "grid_auto_rows": null,
            "grid_column": null,
            "grid_gap": null,
            "grid_row": null,
            "grid_template_areas": null,
            "grid_template_columns": null,
            "grid_template_rows": null,
            "height": null,
            "justify_content": null,
            "justify_items": null,
            "left": null,
            "margin": null,
            "max_height": null,
            "max_width": null,
            "min_height": null,
            "min_width": null,
            "object_fit": null,
            "object_position": null,
            "order": null,
            "overflow": null,
            "overflow_x": null,
            "overflow_y": null,
            "padding": null,
            "right": null,
            "top": null,
            "visibility": null,
            "width": null
          }
        },
        "9f9e0fe4b815475994baec35e470b005": {
          "model_module": "@jupyter-widgets/controls",
          "model_name": "DescriptionStyleModel",
          "model_module_version": "1.5.0",
          "state": {
            "_model_module": "@jupyter-widgets/controls",
            "_model_module_version": "1.5.0",
            "_model_name": "DescriptionStyleModel",
            "_view_count": null,
            "_view_module": "@jupyter-widgets/base",
            "_view_module_version": "1.2.0",
            "_view_name": "StyleView",
            "description_width": ""
          }
        },
        "9bf4ef7f44f949a39c1a51ef7847df43": {
          "model_module": "@jupyter-widgets/controls",
          "model_name": "HBoxModel",
          "model_module_version": "1.5.0",
          "state": {
            "_dom_classes": [],
            "_model_module": "@jupyter-widgets/controls",
            "_model_module_version": "1.5.0",
            "_model_name": "HBoxModel",
            "_view_count": null,
            "_view_module": "@jupyter-widgets/controls",
            "_view_module_version": "1.5.0",
            "_view_name": "HBoxView",
            "box_style": "",
            "children": [
              "IPY_MODEL_79fe4ed4a6924eab8f06feaede94453e",
              "IPY_MODEL_187e9908627e4c8c8ed679fac6cc3d2c",
              "IPY_MODEL_d9da46b658a04a178f2bb308e34c8701"
            ],
            "layout": "IPY_MODEL_3783bd9906c44a70872027698f8e7000"
          }
        },
        "79fe4ed4a6924eab8f06feaede94453e": {
          "model_module": "@jupyter-widgets/controls",
          "model_name": "HTMLModel",
          "model_module_version": "1.5.0",
          "state": {
            "_dom_classes": [],
            "_model_module": "@jupyter-widgets/controls",
            "_model_module_version": "1.5.0",
            "_model_name": "HTMLModel",
            "_view_count": null,
            "_view_module": "@jupyter-widgets/controls",
            "_view_module_version": "1.5.0",
            "_view_name": "HTMLView",
            "description": "",
            "description_tooltip": null,
            "layout": "IPY_MODEL_9d158dbe205d414fa800152d683392b5",
            "placeholder": "​",
            "style": "IPY_MODEL_ac8a2b09d9a34e2586f168251bf79607",
            "value": "COLLECTING RESULTS | : 100%"
          }
        },
        "187e9908627e4c8c8ed679fac6cc3d2c": {
          "model_module": "@jupyter-widgets/controls",
          "model_name": "FloatProgressModel",
          "model_module_version": "1.5.0",
          "state": {
            "_dom_classes": [],
            "_model_module": "@jupyter-widgets/controls",
            "_model_module_version": "1.5.0",
            "_model_name": "FloatProgressModel",
            "_view_count": null,
            "_view_module": "@jupyter-widgets/controls",
            "_view_module_version": "1.5.0",
            "_view_name": "ProgressView",
            "bar_style": "success",
            "description": "",
            "description_tooltip": null,
            "layout": "IPY_MODEL_0071f7da2df944659c4c819ee2d80aee",
            "max": 1,
            "min": 0,
            "orientation": "horizontal",
            "style": "IPY_MODEL_7f1b53f4bb674e36bdc967860efc9dee",
            "value": 1
          }
        },
        "d9da46b658a04a178f2bb308e34c8701": {
          "model_module": "@jupyter-widgets/controls",
          "model_name": "HTMLModel",
          "model_module_version": "1.5.0",
          "state": {
            "_dom_classes": [],
            "_model_module": "@jupyter-widgets/controls",
            "_model_module_version": "1.5.0",
            "_model_name": "HTMLModel",
            "_view_count": null,
            "_view_module": "@jupyter-widgets/controls",
            "_view_module_version": "1.5.0",
            "_view_name": "HTMLView",
            "description": "",
            "description_tooltip": null,
            "layout": "IPY_MODEL_c35c6abfa4524d28b741a2121ab31c6a",
            "placeholder": "​",
            "style": "IPY_MODEL_6fbeebbd1ddf465a80d1d3ff3e71cfcc",
            "value": " 1/1 [00:00&lt;00:00, 45.44it/s]"
          }
        },
        "3783bd9906c44a70872027698f8e7000": {
          "model_module": "@jupyter-widgets/base",
          "model_name": "LayoutModel",
          "model_module_version": "1.2.0",
          "state": {
            "_model_module": "@jupyter-widgets/base",
            "_model_module_version": "1.2.0",
            "_model_name": "LayoutModel",
            "_view_count": null,
            "_view_module": "@jupyter-widgets/base",
            "_view_module_version": "1.2.0",
            "_view_name": "LayoutView",
            "align_content": null,
            "align_items": null,
            "align_self": null,
            "border": null,
            "bottom": null,
            "display": null,
            "flex": null,
            "flex_flow": null,
            "grid_area": null,
            "grid_auto_columns": null,
            "grid_auto_flow": null,
            "grid_auto_rows": null,
            "grid_column": null,
            "grid_gap": null,
            "grid_row": null,
            "grid_template_areas": null,
            "grid_template_columns": null,
            "grid_template_rows": null,
            "height": null,
            "justify_content": null,
            "justify_items": null,
            "left": null,
            "margin": null,
            "max_height": null,
            "max_width": null,
            "min_height": null,
            "min_width": null,
            "object_fit": null,
            "object_position": null,
            "order": null,
            "overflow": null,
            "overflow_x": null,
            "overflow_y": null,
            "padding": null,
            "right": null,
            "top": null,
            "visibility": null,
            "width": null
          }
        },
        "9d158dbe205d414fa800152d683392b5": {
          "model_module": "@jupyter-widgets/base",
          "model_name": "LayoutModel",
          "model_module_version": "1.2.0",
          "state": {
            "_model_module": "@jupyter-widgets/base",
            "_model_module_version": "1.2.0",
            "_model_name": "LayoutModel",
            "_view_count": null,
            "_view_module": "@jupyter-widgets/base",
            "_view_module_version": "1.2.0",
            "_view_name": "LayoutView",
            "align_content": null,
            "align_items": null,
            "align_self": null,
            "border": null,
            "bottom": null,
            "display": null,
            "flex": null,
            "flex_flow": null,
            "grid_area": null,
            "grid_auto_columns": null,
            "grid_auto_flow": null,
            "grid_auto_rows": null,
            "grid_column": null,
            "grid_gap": null,
            "grid_row": null,
            "grid_template_areas": null,
            "grid_template_columns": null,
            "grid_template_rows": null,
            "height": null,
            "justify_content": null,
            "justify_items": null,
            "left": null,
            "margin": null,
            "max_height": null,
            "max_width": null,
            "min_height": null,
            "min_width": null,
            "object_fit": null,
            "object_position": null,
            "order": null,
            "overflow": null,
            "overflow_x": null,
            "overflow_y": null,
            "padding": null,
            "right": null,
            "top": null,
            "visibility": null,
            "width": null
          }
        },
        "ac8a2b09d9a34e2586f168251bf79607": {
          "model_module": "@jupyter-widgets/controls",
          "model_name": "DescriptionStyleModel",
          "model_module_version": "1.5.0",
          "state": {
            "_model_module": "@jupyter-widgets/controls",
            "_model_module_version": "1.5.0",
            "_model_name": "DescriptionStyleModel",
            "_view_count": null,
            "_view_module": "@jupyter-widgets/base",
            "_view_module_version": "1.2.0",
            "_view_name": "StyleView",
            "description_width": ""
          }
        },
        "0071f7da2df944659c4c819ee2d80aee": {
          "model_module": "@jupyter-widgets/base",
          "model_name": "LayoutModel",
          "model_module_version": "1.2.0",
          "state": {
            "_model_module": "@jupyter-widgets/base",
            "_model_module_version": "1.2.0",
            "_model_name": "LayoutModel",
            "_view_count": null,
            "_view_module": "@jupyter-widgets/base",
            "_view_module_version": "1.2.0",
            "_view_name": "LayoutView",
            "align_content": null,
            "align_items": null,
            "align_self": null,
            "border": null,
            "bottom": null,
            "display": null,
            "flex": null,
            "flex_flow": null,
            "grid_area": null,
            "grid_auto_columns": null,
            "grid_auto_flow": null,
            "grid_auto_rows": null,
            "grid_column": null,
            "grid_gap": null,
            "grid_row": null,
            "grid_template_areas": null,
            "grid_template_columns": null,
            "grid_template_rows": null,
            "height": null,
            "justify_content": null,
            "justify_items": null,
            "left": null,
            "margin": null,
            "max_height": null,
            "max_width": null,
            "min_height": null,
            "min_width": null,
            "object_fit": null,
            "object_position": null,
            "order": null,
            "overflow": null,
            "overflow_x": null,
            "overflow_y": null,
            "padding": null,
            "right": null,
            "top": null,
            "visibility": null,
            "width": null
          }
        },
        "7f1b53f4bb674e36bdc967860efc9dee": {
          "model_module": "@jupyter-widgets/controls",
          "model_name": "ProgressStyleModel",
          "model_module_version": "1.5.0",
          "state": {
            "_model_module": "@jupyter-widgets/controls",
            "_model_module_version": "1.5.0",
            "_model_name": "ProgressStyleModel",
            "_view_count": null,
            "_view_module": "@jupyter-widgets/base",
            "_view_module_version": "1.2.0",
            "_view_name": "StyleView",
            "bar_color": null,
            "description_width": ""
          }
        },
        "c35c6abfa4524d28b741a2121ab31c6a": {
          "model_module": "@jupyter-widgets/base",
          "model_name": "LayoutModel",
          "model_module_version": "1.2.0",
          "state": {
            "_model_module": "@jupyter-widgets/base",
            "_model_module_version": "1.2.0",
            "_model_name": "LayoutModel",
            "_view_count": null,
            "_view_module": "@jupyter-widgets/base",
            "_view_module_version": "1.2.0",
            "_view_name": "LayoutView",
            "align_content": null,
            "align_items": null,
            "align_self": null,
            "border": null,
            "bottom": null,
            "display": null,
            "flex": null,
            "flex_flow": null,
            "grid_area": null,
            "grid_auto_columns": null,
            "grid_auto_flow": null,
            "grid_auto_rows": null,
            "grid_column": null,
            "grid_gap": null,
            "grid_row": null,
            "grid_template_areas": null,
            "grid_template_columns": null,
            "grid_template_rows": null,
            "height": null,
            "justify_content": null,
            "justify_items": null,
            "left": null,
            "margin": null,
            "max_height": null,
            "max_width": null,
            "min_height": null,
            "min_width": null,
            "object_fit": null,
            "object_position": null,
            "order": null,
            "overflow": null,
            "overflow_x": null,
            "overflow_y": null,
            "padding": null,
            "right": null,
            "top": null,
            "visibility": null,
            "width": null
          }
        },
        "6fbeebbd1ddf465a80d1d3ff3e71cfcc": {
          "model_module": "@jupyter-widgets/controls",
          "model_name": "DescriptionStyleModel",
          "model_module_version": "1.5.0",
          "state": {
            "_model_module": "@jupyter-widgets/controls",
            "_model_module_version": "1.5.0",
            "_model_name": "DescriptionStyleModel",
            "_view_count": null,
            "_view_module": "@jupyter-widgets/base",
            "_view_module_version": "1.2.0",
            "_view_name": "StyleView",
            "description_width": ""
          }
        },
        "9adc10ac8ade41a7bd462b03d5d41454": {
          "model_module": "@jupyter-widgets/controls",
          "model_name": "CheckboxModel",
          "model_module_version": "1.5.0",
          "state": {
            "_dom_classes": [],
            "_model_module": "@jupyter-widgets/controls",
            "_model_module_version": "1.5.0",
            "_model_name": "CheckboxModel",
            "_view_count": null,
            "_view_module": "@jupyter-widgets/controls",
            "_view_module_version": "1.5.0",
            "_view_name": "CheckboxView",
            "description": "OpenStreetMap.Mapnik",
            "description_tooltip": null,
            "disabled": false,
            "indent": false,
            "layout": "IPY_MODEL_99b32bd1edc844fa86cf645de9364fc8",
            "style": "IPY_MODEL_0d2bfbe36279441fb03a4f8e469adc01",
            "value": true
          }
        },
        "11850d8be0f041f1beeeb61db3b5223e": {
          "model_module": "jupyter-leaflet",
          "model_name": "LeafletTileLayerModel",
          "model_module_version": "^0.19",
          "state": {
            "_model_module": "jupyter-leaflet",
            "_model_module_version": "^0.19",
            "_model_name": "LeafletTileLayerModel",
            "_view_count": null,
            "_view_module": "jupyter-leaflet",
            "_view_module_version": "^0.19",
            "_view_name": "LeafletTileLayerView",
            "attribution": "&copy; <a href=\"https://www.openstreetmap.org/copyright\">OpenStreetMap</a> contributors",
            "base": true,
            "bottom": true,
            "bounds": null,
            "detect_retina": false,
            "loading": false,
            "max_native_zoom": null,
            "max_zoom": 19,
            "min_native_zoom": null,
            "min_zoom": 1,
            "name": "OpenStreetMap",
            "no_wrap": false,
            "opacity": 1,
            "options": [
              "attribution",
              "bounds",
              "detect_retina",
              "max_native_zoom",
              "max_zoom",
              "min_native_zoom",
              "min_zoom",
              "no_wrap",
              "tile_size",
              "tms",
              "zoom_offset"
            ],
            "pane": "",
            "popup": null,
            "popup_max_height": null,
            "popup_max_width": 300,
            "popup_min_width": 50,
            "show_loading": false,
            "subitems": [],
            "tile_size": 256,
            "tms": false,
            "url": "https://tile.openstreetmap.org/{z}/{x}/{y}.png",
            "visible": true,
            "zoom_offset": 0
          }
        },
        "ec0b65fd11074168a71390ac0d5b2da8": {
          "model_module": "@jupyter-widgets/controls",
          "model_name": "CheckboxModel",
          "model_module_version": "1.5.0",
          "state": {
            "_dom_classes": [],
            "_model_module": "@jupyter-widgets/controls",
            "_model_module_version": "1.5.0",
            "_model_name": "CheckboxModel",
            "_view_count": null,
            "_view_module": "@jupyter-widgets/controls",
            "_view_module_version": "1.5.0",
            "_view_name": "CheckboxView",
            "description": "OpenStreetMap.Mapnik",
            "description_tooltip": null,
            "disabled": false,
            "indent": false,
            "layout": "IPY_MODEL_6eef7d85f71a4713b9ae7461cf1f5ba8",
            "style": "IPY_MODEL_bcd04a0dd0ad4393818f7c669785640b",
            "value": true
          }
        },
        "99b32bd1edc844fa86cf645de9364fc8": {
          "model_module": "@jupyter-widgets/base",
          "model_name": "LayoutModel",
          "model_module_version": "1.2.0",
          "state": {
            "_model_module": "@jupyter-widgets/base",
            "_model_module_version": "1.2.0",
            "_model_name": "LayoutModel",
            "_view_count": null,
            "_view_module": "@jupyter-widgets/base",
            "_view_module_version": "1.2.0",
            "_view_name": "LayoutView",
            "align_content": null,
            "align_items": null,
            "align_self": null,
            "border": null,
            "bottom": null,
            "display": null,
            "flex": null,
            "flex_flow": null,
            "grid_area": null,
            "grid_auto_columns": null,
            "grid_auto_flow": null,
            "grid_auto_rows": null,
            "grid_column": null,
            "grid_gap": null,
            "grid_row": null,
            "grid_template_areas": null,
            "grid_template_columns": null,
            "grid_template_rows": null,
            "height": "18px",
            "justify_content": null,
            "justify_items": null,
            "left": null,
            "margin": null,
            "max_height": null,
            "max_width": null,
            "min_height": null,
            "min_width": null,
            "object_fit": null,
            "object_position": null,
            "order": null,
            "overflow": null,
            "overflow_x": null,
            "overflow_y": null,
            "padding": null,
            "right": null,
            "top": null,
            "visibility": null,
            "width": "25ex"
          }
        },
        "0d2bfbe36279441fb03a4f8e469adc01": {
          "model_module": "@jupyter-widgets/controls",
          "model_name": "DescriptionStyleModel",
          "model_module_version": "1.5.0",
          "state": {
            "_model_module": "@jupyter-widgets/controls",
            "_model_module_version": "1.5.0",
            "_model_name": "DescriptionStyleModel",
            "_view_count": null,
            "_view_module": "@jupyter-widgets/base",
            "_view_module_version": "1.2.0",
            "_view_name": "StyleView",
            "description_width": ""
          }
        },
        "6eef7d85f71a4713b9ae7461cf1f5ba8": {
          "model_module": "@jupyter-widgets/base",
          "model_name": "LayoutModel",
          "model_module_version": "1.2.0",
          "state": {
            "_model_module": "@jupyter-widgets/base",
            "_model_module_version": "1.2.0",
            "_model_name": "LayoutModel",
            "_view_count": null,
            "_view_module": "@jupyter-widgets/base",
            "_view_module_version": "1.2.0",
            "_view_name": "LayoutView",
            "align_content": null,
            "align_items": null,
            "align_self": null,
            "border": null,
            "bottom": null,
            "display": null,
            "flex": null,
            "flex_flow": null,
            "grid_area": null,
            "grid_auto_columns": null,
            "grid_auto_flow": null,
            "grid_auto_rows": null,
            "grid_column": null,
            "grid_gap": null,
            "grid_row": null,
            "grid_template_areas": null,
            "grid_template_columns": null,
            "grid_template_rows": null,
            "height": "18px",
            "justify_content": null,
            "justify_items": null,
            "left": null,
            "margin": null,
            "max_height": null,
            "max_width": null,
            "min_height": null,
            "min_width": null,
            "object_fit": null,
            "object_position": null,
            "order": null,
            "overflow": null,
            "overflow_x": null,
            "overflow_y": null,
            "padding": null,
            "right": null,
            "top": null,
            "visibility": null,
            "width": "25ex"
          }
        },
        "bcd04a0dd0ad4393818f7c669785640b": {
          "model_module": "@jupyter-widgets/controls",
          "model_name": "DescriptionStyleModel",
          "model_module_version": "1.5.0",
          "state": {
            "_model_module": "@jupyter-widgets/controls",
            "_model_module_version": "1.5.0",
            "_model_name": "DescriptionStyleModel",
            "_view_count": null,
            "_view_module": "@jupyter-widgets/base",
            "_view_module_version": "1.2.0",
            "_view_name": "StyleView",
            "description_width": ""
          }
        },
        "9602cb5b4b874046b7b6688d343f8bb9": {
          "model_module": "@jupyter-widgets/controls",
          "model_name": "CheckboxModel",
          "model_module_version": "1.5.0",
          "state": {
            "_dom_classes": [],
            "_model_module": "@jupyter-widgets/controls",
            "_model_module_version": "1.5.0",
            "_model_name": "CheckboxModel",
            "_view_count": null,
            "_view_module": "@jupyter-widgets/controls",
            "_view_module_version": "1.5.0",
            "_view_name": "CheckboxView",
            "description": "OpenStreetMap.Mapnik",
            "description_tooltip": null,
            "disabled": false,
            "indent": false,
            "layout": "IPY_MODEL_8ac4207784fd415f8b252aacd0e8c56b",
            "style": "IPY_MODEL_a9ba411fa65f4b0da6d15f7c177b6e8d",
            "value": true
          }
        },
        "8ac4207784fd415f8b252aacd0e8c56b": {
          "model_module": "@jupyter-widgets/base",
          "model_name": "LayoutModel",
          "model_module_version": "1.2.0",
          "state": {
            "_model_module": "@jupyter-widgets/base",
            "_model_module_version": "1.2.0",
            "_model_name": "LayoutModel",
            "_view_count": null,
            "_view_module": "@jupyter-widgets/base",
            "_view_module_version": "1.2.0",
            "_view_name": "LayoutView",
            "align_content": null,
            "align_items": null,
            "align_self": null,
            "border": null,
            "bottom": null,
            "display": null,
            "flex": null,
            "flex_flow": null,
            "grid_area": null,
            "grid_auto_columns": null,
            "grid_auto_flow": null,
            "grid_auto_rows": null,
            "grid_column": null,
            "grid_gap": null,
            "grid_row": null,
            "grid_template_areas": null,
            "grid_template_columns": null,
            "grid_template_rows": null,
            "height": "18px",
            "justify_content": null,
            "justify_items": null,
            "left": null,
            "margin": null,
            "max_height": null,
            "max_width": null,
            "min_height": null,
            "min_width": null,
            "object_fit": null,
            "object_position": null,
            "order": null,
            "overflow": null,
            "overflow_x": null,
            "overflow_y": null,
            "padding": null,
            "right": null,
            "top": null,
            "visibility": null,
            "width": "25ex"
          }
        },
        "a9ba411fa65f4b0da6d15f7c177b6e8d": {
          "model_module": "@jupyter-widgets/controls",
          "model_name": "DescriptionStyleModel",
          "model_module_version": "1.5.0",
          "state": {
            "_model_module": "@jupyter-widgets/controls",
            "_model_module_version": "1.5.0",
            "_model_name": "DescriptionStyleModel",
            "_view_count": null,
            "_view_module": "@jupyter-widgets/base",
            "_view_module_version": "1.2.0",
            "_view_name": "StyleView",
            "description_width": ""
          }
        },
        "0b1c19f1038e4027bd254bbdfbca294e": {
          "model_module": "@jupyter-widgets/controls",
          "model_name": "CheckboxModel",
          "model_module_version": "1.5.0",
          "state": {
            "_dom_classes": [],
            "_model_module": "@jupyter-widgets/controls",
            "_model_module_version": "1.5.0",
            "_model_name": "CheckboxModel",
            "_view_count": null,
            "_view_module": "@jupyter-widgets/controls",
            "_view_module_version": "1.5.0",
            "_view_name": "CheckboxView",
            "description": "OpenStreetMap",
            "description_tooltip": null,
            "disabled": false,
            "indent": false,
            "layout": "IPY_MODEL_179472626e1249b0bf4d6a6f1f9492cf",
            "style": "IPY_MODEL_38f354c7e74e4652b7253ea8a8022303",
            "value": true
          }
        },
        "c276dc396d564c3eafada0786e5cbbf2": {
          "model_module": "@jupyter-widgets/controls",
          "model_name": "CheckboxModel",
          "model_module_version": "1.5.0",
          "state": {
            "_dom_classes": [],
            "_model_module": "@jupyter-widgets/controls",
            "_model_module_version": "1.5.0",
            "_model_name": "CheckboxModel",
            "_view_count": null,
            "_view_module": "@jupyter-widgets/controls",
            "_view_module_version": "1.5.0",
            "_view_name": "CheckboxView",
            "description": "OpenStreetMap",
            "description_tooltip": null,
            "disabled": false,
            "indent": false,
            "layout": "IPY_MODEL_3f5f103286664bb0abd1dd58d21daa2a",
            "style": "IPY_MODEL_fa1ac8916329421e8ee8d740af44dd4b",
            "value": true
          }
        },
        "62bc8f8e4a2d4747b08acfa975f452ea": {
          "model_module": "@jupyter-widgets/controls",
          "model_name": "CheckboxModel",
          "model_module_version": "1.5.0",
          "state": {
            "_dom_classes": [],
            "_model_module": "@jupyter-widgets/controls",
            "_model_module_version": "1.5.0",
            "_model_name": "CheckboxModel",
            "_view_count": null,
            "_view_module": "@jupyter-widgets/controls",
            "_view_module_version": "1.5.0",
            "_view_name": "CheckboxView",
            "description": "OpenStreetMap",
            "description_tooltip": null,
            "disabled": false,
            "indent": false,
            "layout": "IPY_MODEL_5acd2b0be569433e9bab6bd84d6339b2",
            "style": "IPY_MODEL_791ceb6f42e54dc782a221dde1093516",
            "value": true
          }
        },
        "41d415be139a471b8a8f1cd6b1593e1e": {
          "model_module": "@jupyter-widgets/controls",
          "model_name": "CheckboxModel",
          "model_module_version": "1.5.0",
          "state": {
            "_dom_classes": [],
            "_model_module": "@jupyter-widgets/controls",
            "_model_module_version": "1.5.0",
            "_model_name": "CheckboxModel",
            "_view_count": null,
            "_view_module": "@jupyter-widgets/controls",
            "_view_module_version": "1.5.0",
            "_view_name": "CheckboxView",
            "description": "Plots",
            "description_tooltip": null,
            "disabled": false,
            "indent": false,
            "layout": "IPY_MODEL_fb2af16a864d4ccc9e0ee0d85d7e5cba",
            "style": "IPY_MODEL_f76eb9c49f2c4232844c5e8c1d68767e",
            "value": true
          }
        },
        "7fade1f3d2134d04a60be2cc92298715": {
          "model_module": "jupyter-leaflet",
          "model_name": "LeafletGeoJSONModel",
          "model_module_version": "^0.19",
          "state": {
            "_model_module": "jupyter-leaflet",
            "_model_module_version": "^0.19",
            "_model_name": "LeafletGeoJSONModel",
            "_view_count": null,
            "_view_module": "jupyter-leaflet",
            "_view_module_version": "^0.19",
            "_view_name": "LeafletGeoJSONView",
            "base": false,
            "bottom": false,
            "data": {
              "type": "FeatureCollection",
              "features": [
                {
                  "id": "0",
                  "type": "Feature",
                  "properties": {
                    "lat": -16.13658,
                    "long": 145.44139,
                    "plot_name": "Oliver Creek",
                    "alt_masl": 15,
                    "area_ha": 0.505,
                    "mean_temp": "25.3",
                    "precip": "3470",
                    "AGB_estim": 589,
                    "first_cens": 1977,
                    "last_censu": 2012,
                    "#census": 13,
                    "stems_firs": 790,
                    "stems_last": 630,
                    "disturb_ev": " ",
                    "plot_num": "ep41",
                    "travel_day": "1",
                    "base_acces": "Cairns (1.5 hours)",
                    "Notes": "Short walk to plot (1/2 hour)",
                    "access": "Y",
                    "multitemp": "Y",
                    "style": {
                      "weight": 1
                    }
                  },
                  "geometry": {
                    "type": "Point",
                    "coordinates": [
                      145.44139,
                      -16.13658
                    ]
                  },
                  "bbox": [
                    145.44139,
                    -16.13658,
                    145.44139,
                    -16.13658
                  ]
                },
                {
                  "id": "1",
                  "type": "Feature",
                  "properties": {
                    "lat": -16.21794,
                    "long": 145.08522,
                    "plot_name": "Fantail LA",
                    "alt_masl": 910,
                    "area_ha": 0.524,
                    "mean_temp": "20.2",
                    "precip": "2365",
                    "AGB_estim": 708,
                    "first_cens": 1980,
                    "last_censu": 2013,
                    "#census": 10,
                    "stems_firs": 878,
                    "stems_last": 778,
                    "disturb_ev": null,
                    "plot_num": "ep44",
                    "travel_day": "1.5**",
                    "base_acces": "Atherton/Cairns (2 hour)",
                    "Notes": "This is the walk - ~10 hours in due to having to cut your way along an old track - faster to come out.",
                    "access": "N",
                    "multitemp": "N",
                    "style": {
                      "weight": 1
                    }
                  },
                  "geometry": {
                    "type": "Point",
                    "coordinates": [
                      145.08522,
                      -16.21794
                    ]
                  },
                  "bbox": [
                    145.08522,
                    -16.21794,
                    145.08522,
                    -16.21794
                  ]
                },
                {
                  "id": "2",
                  "type": "Feature",
                  "properties": {
                    "lat": -16.27767,
                    "long": 145.07139,
                    "plot_name": "Agapetes LA",
                    "alt_masl": 1060,
                    "area_ha": 0.5081,
                    "mean_temp": "19.5",
                    "precip": "2597",
                    "AGB_estim": 674,
                    "first_cens": 1976,
                    "last_censu": 2013,
                    "#census": 12,
                    "stems_firs": 1104,
                    "stems_last": 1134,
                    "disturb_ev": " ",
                    "plot_num": "ep30",
                    "travel_day": "1.5**",
                    "base_acces": "Atherton/Cairns (2 hour)",
                    "Notes": "Would do with Agapates SA and Fantail.  Short walk to this one from road.",
                    "access": "/",
                    "multitemp": "N",
                    "style": {
                      "weight": 1
                    }
                  },
                  "geometry": {
                    "type": "Point",
                    "coordinates": [
                      145.07139,
                      -16.27767
                    ]
                  },
                  "bbox": [
                    145.07139,
                    -16.27767,
                    145.07139,
                    -16.27767
                  ]
                },
                {
                  "id": "3",
                  "type": "Feature",
                  "properties": {
                    "lat": -16.28017,
                    "long": 145.10231,
                    "plot_name": "Agapetes SA",
                    "alt_masl": 800,
                    "area_ha": 0.5236,
                    "mean_temp": "20.7",
                    "precip": "2097",
                    "AGB_estim": 627,
                    "first_cens": 1978,
                    "last_censu": 2013,
                    "#census": 11,
                    "stems_firs": 992,
                    "stems_last": 848,
                    "disturb_ev": "D (2006)",
                    "plot_num": "ep40",
                    "travel_day": "1.5**",
                    "base_acces": "Atherton/Cairns (2 hour)",
                    "Notes": "1 hour walk from road",
                    "access": "/",
                    "multitemp": "N",
                    "style": {
                      "weight": 1
                    }
                  },
                  "geometry": {
                    "type": "Point",
                    "coordinates": [
                      145.10231,
                      -16.28017
                    ]
                  },
                  "bbox": [
                    145.10231,
                    -16.28017,
                    145.10231,
                    -16.28017
                  ]
                },
                {
                  "id": "4",
                  "type": "Feature",
                  "properties": {
                    "lat": -16.35542,
                    "long": 145.33667,
                    "plot_name": "Whyanbeel",
                    "alt_masl": 230,
                    "area_ha": 0.5401,
                    "mean_temp": "24.4",
                    "precip": "2411",
                    "AGB_estim": 551,
                    "first_cens": 1977,
                    "last_censu": 2012,
                    "#census": 13,
                    "stems_firs": 1002,
                    "stems_last": 818,
                    "disturb_ev": "c(1986)",
                    "plot_num": "ep35",
                    "travel_day": "1.5*",
                    "base_acces": "Cairns/Atherton (1 hour)",
                    "Notes": "Long walk to plot (several hours)",
                    "access": "N",
                    "multitemp": "N",
                    "style": {
                      "weight": 1
                    }
                  },
                  "geometry": {
                    "type": "Point",
                    "coordinates": [
                      145.33667,
                      -16.35542
                    ]
                  },
                  "bbox": [
                    145.33667,
                    -16.35542,
                    145.33667,
                    -16.35542
                  ]
                },
                {
                  "id": "5",
                  "type": "Feature",
                  "properties": {
                    "lat": -16.52264,
                    "long": 145.26656,
                    "plot_name": "Mount Lewis",
                    "alt_masl": 1100,
                    "area_ha": 0.5098,
                    "mean_temp": "19.2",
                    "precip": "2676",
                    "AGB_estim": 838,
                    "first_cens": 1973,
                    "last_censu": 2012,
                    "#census": 15,
                    "stems_firs": 908,
                    "stems_last": 838,
                    "disturb_ev": "P(1987-1996)",
                    "plot_num": "ep18",
                    "travel_day": "1",
                    "base_acces": "Cairns/Atherton (2 hour)",
                    "Notes": "Through locked gate (National Parks) to top of Mt Lewis Road.  Short walk to plot",
                    "access": "/",
                    "multitemp": "N",
                    "style": {
                      "weight": 1
                    }
                  },
                  "geometry": {
                    "type": "Point",
                    "coordinates": [
                      145.26656,
                      -16.52264
                    ]
                  },
                  "bbox": [
                    145.26656,
                    -16.52264,
                    145.26656,
                    -16.52264
                  ]
                },
                {
                  "id": "6",
                  "type": "Feature",
                  "properties": {
                    "lat": -16.99486,
                    "long": 145.83122,
                    "plot_name": "Pine Creek",
                    "alt_masl": 110,
                    "area_ha": 0.5096,
                    "mean_temp": "24.9",
                    "precip": "2453",
                    "AGB_estim": 456,
                    "first_cens": 1972,
                    "last_censu": 2012,
                    "#census": 14,
                    "stems_firs": 972,
                    "stems_last": 916,
                    "disturb_ev": "C (1990)",
                    "plot_num": "ep4",
                    "travel_day": "1",
                    "base_acces": "Cairns (1/2 hour)",
                    "Notes": "Short walk to plot (1 hour)",
                    "access": "Y",
                    "multitemp": "N",
                    "style": {
                      "weight": 1
                    }
                  },
                  "geometry": {
                    "type": "Point",
                    "coordinates": [
                      145.83122,
                      -16.99486
                    ]
                  },
                  "bbox": [
                    145.83122,
                    -16.99486,
                    145.83122,
                    -16.99486
                  ]
                },
                {
                  "id": "7",
                  "type": "Feature",
                  "properties": {
                    "lat": -17.08783,
                    "long": 145.59161,
                    "plot_name": "Mount Haig",
                    "alt_masl": 1120,
                    "area_ha": 0.5434,
                    "mean_temp": "18.7",
                    "precip": "2884",
                    "AGB_estim": 814,
                    "first_cens": 1971,
                    "last_censu": 2011,
                    "#census": 16,
                    "stems_firs": 1004,
                    "stems_last": 966,
                    "disturb_ev": "c (2006)",
                    "plot_num": "ep3",
                    "travel_day": "1",
                    "base_acces": "Atherton (1/2 hour)",
                    "Notes": "Short walk to plot (1 hour)",
                    "access": "N",
                    "multitemp": "Y",
                    "style": {
                      "weight": 1
                    }
                  },
                  "geometry": {
                    "type": "Point",
                    "coordinates": [
                      145.59161,
                      -17.08783
                    ]
                  },
                  "bbox": [
                    145.59161,
                    -17.08783,
                    145.59161,
                    -17.08783
                  ]
                },
                {
                  "id": "8",
                  "type": "Feature",
                  "properties": {
                    "lat": -17.11544,
                    "long": 145.63272,
                    "plot_name": "Robson Creek",
                    "alt_masl": 800,
                    "area_ha": 0.5593,
                    "mean_temp": "20.399999999999999",
                    "precip": "1769",
                    "AGB_estim": 679,
                    "first_cens": 1972,
                    "last_censu": 2011,
                    "#census": 15,
                    "stems_firs": 882,
                    "stems_last": 856,
                    "disturb_ev": "C (2006)",
                    "plot_num": "ep9",
                    "travel_day": "1",
                    "base_acces": "Atherton (1/2 hour)",
                    "Notes": "Short walk to plot (1/2 hour)",
                    "access": "Y",
                    "multitemp": "Y",
                    "style": {
                      "weight": 1
                    }
                  },
                  "geometry": {
                    "type": "Point",
                    "coordinates": [
                      145.63272,
                      -17.11544
                    ]
                  },
                  "bbox": [
                    145.63272,
                    -17.11544,
                    145.63272,
                    -17.11544
                  ]
                },
                {
                  "id": "9",
                  "type": "Feature",
                  "properties": {
                    "lat": -17.14616,
                    "long": 145.58688,
                    "plot_name": "Downfall Creek",
                    "alt_masl": 720,
                    "area_ha": 0.5128,
                    "mean_temp": "20.7",
                    "precip": "1403",
                    "AGB_estim": 343,
                    "first_cens": 1971,
                    "last_censu": 2011,
                    "#census": 16,
                    "stems_firs": 924,
                    "stems_last": 1012,
                    "disturb_ev": "C (2006)",
                    "plot_num": "ep2",
                    "travel_day": "1",
                    "base_acces": "Atherton (1/2 hour)",
                    "Notes": "Short walk to plot (1/2 hour)",
                    "access": "Y",
                    "multitemp": "N",
                    "style": {
                      "weight": 1
                    }
                  },
                  "geometry": {
                    "type": "Point",
                    "coordinates": [
                      145.58688,
                      -17.14616
                    ]
                  },
                  "bbox": [
                    145.58688,
                    -17.14616,
                    145.58688,
                    -17.14616
                  ]
                },
                {
                  "id": "10",
                  "type": "Feature",
                  "properties": {
                    "lat": -17.28642,
                    "long": 145.57183,
                    "plot_name": "Curtain Fig",
                    "alt_masl": 720,
                    "area_ha": 0.5063,
                    "mean_temp": "20.6",
                    "precip": "1424",
                    "AGB_estim": 806,
                    "first_cens": 1976,
                    "last_censu": 2011,
                    "#census": 13,
                    "stems_firs": 630,
                    "stems_last": 514,
                    "disturb_ev": "c (2006), D (1995)",
                    "plot_num": "ep33",
                    "travel_day": "1",
                    "base_acces": "Atherton (1/2 hour)",
                    "Notes": "Short walk to plot (1/2 hour)",
                    "access": "Y",
                    "multitemp": "Y",
                    "style": {
                      "weight": 1
                    }
                  },
                  "geometry": {
                    "type": "Point",
                    "coordinates": [
                      145.57183,
                      -17.28642
                    ]
                  },
                  "bbox": [
                    145.57183,
                    -17.28642,
                    145.57183,
                    -17.28642
                  ]
                },
                {
                  "id": "11",
                  "type": "Feature",
                  "properties": {
                    "lat": -17.30869,
                    "long": 145.43725,
                    "plot_name": "Mount Baldy",
                    "alt_masl": 1120,
                    "area_ha": 0.5716,
                    "mean_temp": "19.100000000000001",
                    "precip": "1655",
                    "AGB_estim": 635,
                    "first_cens": 1978,
                    "last_censu": 2012,
                    "#census": 12,
                    "stems_firs": 778,
                    "stems_last": 678,
                    "disturb_ev": "C (2006)",
                    "plot_num": "ep43",
                    "travel_day": "1",
                    "base_acces": "Atherton (1/2 hour)",
                    "Notes": "Short walk to plot (1/2 hour)",
                    "access": "Y",
                    "multitemp": "N",
                    "style": {
                      "weight": 1
                    }
                  },
                  "geometry": {
                    "type": "Point",
                    "coordinates": [
                      145.43725,
                      -17.30869
                    ]
                  },
                  "bbox": [
                    145.43725,
                    -17.30869,
                    145.43725,
                    -17.30869
                  ]
                },
                {
                  "id": "12",
                  "type": "Feature",
                  "properties": {
                    "lat": -17.35025,
                    "long": 145.47919,
                    "plot_name": "The Crater",
                    "alt_masl": 1000,
                    "area_ha": 0.518,
                    "mean_temp": "19.2",
                    "precip": "1797",
                    "AGB_estim": 505,
                    "first_cens": 1977,
                    "last_censu": 2011,
                    "#census": 13,
                    "stems_firs": 746,
                    "stems_last": 644,
                    "disturb_ev": "C (2006)",
                    "plot_num": "ep38",
                    "travel_day": "1",
                    "base_acces": "Atherton (1/2 hour)",
                    "Notes": "Short walk to plot (1 hour)",
                    "access": "Y",
                    "multitemp": "N",
                    "style": {
                      "weight": 1
                    }
                  },
                  "geometry": {
                    "type": "Point",
                    "coordinates": [
                      145.47919,
                      -17.35025
                    ]
                  },
                  "bbox": [
                    145.47919,
                    -17.35025,
                    145.47919,
                    -17.35025
                  ]
                },
                {
                  "id": "13",
                  "type": "Feature",
                  "properties": {
                    "lat": -17.40858,
                    "long": 145.77078,
                    "plot_name": "Russell River",
                    "alt_masl": 380,
                    "area_ha": 0.5269,
                    "mean_temp": "22.8",
                    "precip": "3101",
                    "AGB_estim": 530,
                    "first_cens": 1976,
                    "last_censu": 2012,
                    "#census": 12,
                    "stems_firs": 604,
                    "stems_last": 474,
                    "disturb_ev": "C (2006)",
                    "plot_num": "ep34",
                    "travel_day": "1.5*",
                    "base_acces": "Atherton (1/2 hour)",
                    "Notes": "Long walk to plot (several hours)",
                    "access": "Y",
                    "multitemp": "N",
                    "style": {
                      "weight": 1
                    }
                  },
                  "geometry": {
                    "type": "Point",
                    "coordinates": [
                      145.77078,
                      -17.40858
                    ]
                  },
                  "bbox": [
                    145.77078,
                    -17.40858,
                    145.77078,
                    -17.40858
                  ]
                },
                {
                  "id": "14",
                  "type": "Feature",
                  "properties": {
                    "lat": -17.52669,
                    "long": 145.82919,
                    "plot_name": "Woopen Creek",
                    "alt_masl": 80,
                    "area_ha": 0.5241,
                    "mean_temp": "24.2",
                    "precip": "3365",
                    "AGB_estim": 537,
                    "first_cens": 1976,
                    "last_censu": 2013,
                    "#census": 10,
                    "stems_firs": 476,
                    "stems_last": 410,
                    "disturb_ev": "C (1986, 2006), c(2011)",
                    "plot_num": "ep31",
                    "travel_day": "2",
                    "base_acces": "Atherton (1 hour)",
                    "Notes": "Long walk/swim/canoe to plot (5 hours)",
                    "access": "/",
                    "multitemp": "N",
                    "style": {
                      "weight": 1
                    }
                  },
                  "geometry": {
                    "type": "Point",
                    "coordinates": [
                      145.82919,
                      -17.52669
                    ]
                  },
                  "bbox": [
                    145.82919,
                    -17.52669,
                    145.82919,
                    -17.52669
                  ]
                },
                {
                  "id": "15",
                  "type": "Feature",
                  "properties": {
                    "lat": -17.54569,
                    "long": 145.54811,
                    "plot_name": "Mount Fisher",
                    "alt_masl": 1200,
                    "area_ha": 0.5237,
                    "mean_temp": "18.3",
                    "precip": "2857",
                    "AGB_estim": 478,
                    "first_cens": 1975,
                    "last_censu": 2011,
                    "#census": 14,
                    "stems_firs": 988,
                    "stems_last": 842,
                    "disturb_ev": "C (2006, 2011)",
                    "plot_num": "ep29",
                    "travel_day": "1",
                    "base_acces": "Atherton (1/2 hour)",
                    "Notes": "Short walk to plot (1 hour)",
                    "access": "Y",
                    "multitemp": "N",
                    "style": {
                      "weight": 1
                    }
                  },
                  "geometry": {
                    "type": "Point",
                    "coordinates": [
                      145.54811,
                      -17.54569
                    ]
                  },
                  "bbox": [
                    145.54811,
                    -17.54569,
                    145.54811,
                    -17.54569
                  ]
                },
                {
                  "id": "16",
                  "type": "Feature",
                  "properties": {
                    "lat": -18.49892,
                    "long": 145.75628,
                    "plot_name": "Garrawalt",
                    "alt_masl": 620,
                    "area_ha": 0.5235,
                    "mean_temp": "21.4",
                    "precip": "1236",
                    "AGB_estim": 307,
                    "first_cens": 1975,
                    "last_censu": 2013,
                    "#census": 13,
                    "stems_firs": 800,
                    "stems_last": 1032,
                    "disturb_ev": "P (19781989), C(2011)",
                    "plot_num": "ep19",
                    "travel_day": "1",
                    "base_acces": "Ingham (1 hour)",
                    "Notes": "Through locked gate (National Parks) to Wallaman Falls.  Short walk to plot",
                    "access": "N",
                    "multitemp": "N",
                    "style": {
                      "weight": 1
                    }
                  },
                  "geometry": {
                    "type": "Point",
                    "coordinates": [
                      145.75628,
                      -18.49892
                    ]
                  },
                  "bbox": [
                    145.75628,
                    -18.49892,
                    145.75628,
                    -18.49892
                  ]
                },
                {
                  "id": "17",
                  "type": "Feature",
                  "properties": {
                    "lat": -16.10360023979272,
                    "long": 145.44973413835763,
                    "plot_name": "Daintree Rainforest Observatory",
                    "alt_masl": 45,
                    "area_ha": null,
                    "mean_temp": "24.4",
                    "precip": "3500",
                    "AGB_estim": null,
                    "first_cens": null,
                    "last_censu": null,
                    "#census": null,
                    "stems_firs": null,
                    "stems_last": null,
                    "disturb_ev": null,
                    "plot_num": "DRO",
                    "travel_day": null,
                    "base_acces": null,
                    "Notes": null,
                    "access": "Y",
                    "multitemp": "N",
                    "style": {
                      "weight": 1
                    }
                  },
                  "geometry": {
                    "type": "Point",
                    "coordinates": [
                      145.44979917191876,
                      -16.10319437603427
                    ]
                  },
                  "bbox": [
                    145.44979917191876,
                    -16.10319437603427,
                    145.44979917191876,
                    -16.10319437603427
                  ]
                },
                {
                  "id": "18",
                  "type": "Feature",
                  "properties": {
                    "lat": -17.003510400000003,
                    "long": 145.57224019999998,
                    "plot_name": "Davies Creek",
                    "alt_masl": 850,
                    "area_ha": null,
                    "mean_temp": null,
                    "precip": "2164",
                    "AGB_estim": null,
                    "first_cens": null,
                    "last_censu": null,
                    "#census": null,
                    "stems_firs": null,
                    "stems_last": null,
                    "disturb_ev": null,
                    "plot_num": "DC",
                    "travel_day": null,
                    "base_acces": null,
                    "Notes": null,
                    "access": "Y",
                    "multitemp": "N",
                    "style": {
                      "weight": 1
                    }
                  },
                  "geometry": {
                    "type": "Point",
                    "coordinates": [
                      145.57956366548325,
                      -17.00653468949732
                    ]
                  },
                  "bbox": [
                    145.57956366548325,
                    -17.00653468949732,
                    145.57956366548325,
                    -17.00653468949732
                  ]
                }
              ],
              "bbox": [
                145.07139,
                -18.49892,
                145.83122,
                -16.10319437603427
              ]
            },
            "hover_style": {
              "weight": 3,
              "fillOpacity": 0,
              "color": "yellow"
            },
            "layers": [],
            "name": "Plots",
            "options": [],
            "pane": "",
            "point_style": {},
            "popup": null,
            "popup_max_height": null,
            "popup_max_width": 300,
            "popup_min_width": 50,
            "style": {
              "weight": 1
            },
            "subitems": [],
            "visible": true
          }
        },
        "179472626e1249b0bf4d6a6f1f9492cf": {
          "model_module": "@jupyter-widgets/base",
          "model_name": "LayoutModel",
          "model_module_version": "1.2.0",
          "state": {
            "_model_module": "@jupyter-widgets/base",
            "_model_module_version": "1.2.0",
            "_model_name": "LayoutModel",
            "_view_count": null,
            "_view_module": "@jupyter-widgets/base",
            "_view_module_version": "1.2.0",
            "_view_name": "LayoutView",
            "align_content": null,
            "align_items": null,
            "align_self": null,
            "border": null,
            "bottom": null,
            "display": null,
            "flex": null,
            "flex_flow": null,
            "grid_area": null,
            "grid_auto_columns": null,
            "grid_auto_flow": null,
            "grid_auto_rows": null,
            "grid_column": null,
            "grid_gap": null,
            "grid_row": null,
            "grid_template_areas": null,
            "grid_template_columns": null,
            "grid_template_rows": null,
            "height": "18px",
            "justify_content": null,
            "justify_items": null,
            "left": null,
            "margin": null,
            "max_height": null,
            "max_width": null,
            "min_height": null,
            "min_width": null,
            "object_fit": null,
            "object_position": null,
            "order": null,
            "overflow": null,
            "overflow_x": null,
            "overflow_y": null,
            "padding": null,
            "right": null,
            "top": null,
            "visibility": null,
            "width": "25ex"
          }
        },
        "38f354c7e74e4652b7253ea8a8022303": {
          "model_module": "@jupyter-widgets/controls",
          "model_name": "DescriptionStyleModel",
          "model_module_version": "1.5.0",
          "state": {
            "_model_module": "@jupyter-widgets/controls",
            "_model_module_version": "1.5.0",
            "_model_name": "DescriptionStyleModel",
            "_view_count": null,
            "_view_module": "@jupyter-widgets/base",
            "_view_module_version": "1.2.0",
            "_view_name": "StyleView",
            "description_width": ""
          }
        },
        "2e65f9c12c074642a332a35790101170": {
          "model_module": "jupyter-leaflet",
          "model_name": "LeafletMapModel",
          "model_module_version": "^0.19",
          "state": {
            "_dom_classes": [],
            "_model_module": "jupyter-leaflet",
            "_model_module_version": "^0.19",
            "_model_name": "LeafletMapModel",
            "_view_count": null,
            "_view_module": "jupyter-leaflet",
            "_view_module_version": "^0.19",
            "_view_name": "LeafletMapView",
            "bottom": 754,
            "bounce_at_zoom_limits": true,
            "box_zoom": true,
            "center": [
              20,
              0
            ],
            "close_popup_on_click": true,
            "controls": [
              "IPY_MODEL_d68cb7f3d5394ef8a5332d637244ea44",
              "IPY_MODEL_2bf96751cd414c279579129d49e77292",
              "IPY_MODEL_3ecfe426086b4a7989ef7bd9ba20f034",
              "IPY_MODEL_0fdef225fff14c4cb3524639a82f4e98",
              "IPY_MODEL_4d7d50b12ba740d7903f8665ac7b5cda",
              "IPY_MODEL_2b860256902b418c89293b65aef00a0e",
              "IPY_MODEL_804bc8f4e64c4f1eb59734d834d3a274"
            ],
            "crs": {
              "name": "EPSG3857",
              "custom": false
            },
            "default_style": "IPY_MODEL_220ca28f6df94662a2b2b000b5ab134d",
            "double_click_zoom": true,
            "dragging": true,
            "dragging_style": "IPY_MODEL_a9b8581b70cd4642b4228da352098daf",
            "east": 116.3671875,
            "fullscreen": false,
            "inertia": true,
            "inertia_deceleration": 3000,
            "inertia_max_speed": 1500,
            "interpolation": "bilinear",
            "keyboard": true,
            "keyboard_pan_offset": 80,
            "keyboard_zoom_offset": 1,
            "layers": [
              "IPY_MODEL_11850d8be0f041f1beeeb61db3b5223e",
              "IPY_MODEL_7fade1f3d2134d04a60be2cc92298715"
            ],
            "layout": "IPY_MODEL_0bd12d10a6124312a84ab3d901ae846e",
            "left": 182,
            "max_zoom": 24,
            "min_zoom": null,
            "modisdate": "2025-01-29",
            "north": 77.31251993823143,
            "options": [
              "bounce_at_zoom_limits",
              "box_zoom",
              "center",
              "close_popup_on_click",
              "double_click_zoom",
              "dragging",
              "fullscreen",
              "inertia",
              "inertia_deceleration",
              "inertia_max_speed",
              "interpolation",
              "keyboard",
              "keyboard_pan_offset",
              "keyboard_zoom_offset",
              "max_zoom",
              "min_zoom",
              "prefer_canvas",
              "scroll_wheel_zoom",
              "tap",
              "tap_tolerance",
              "touch_zoom",
              "world_copy_jump",
              "zoom",
              "zoom_animation_threshold",
              "zoom_delta",
              "zoom_snap"
            ],
            "panes": {},
            "prefer_canvas": false,
            "right": 843,
            "scroll_wheel_zoom": true,
            "south": -64.47279382008165,
            "style": "IPY_MODEL_b5ec80ad2410471884b049cf7caad06c",
            "tap": true,
            "tap_tolerance": 15,
            "top": 154,
            "touch_zoom": true,
            "west": -116.01562500000001,
            "window_url": "https://vnpjo712b4-496ff2e9c6d22116-0-colab.googleusercontent.com/outputframe.html?vrz=colab_20250128-060149_RC00_720506466",
            "world_copy_jump": false,
            "zoom": 2,
            "zoom_animation_threshold": 4,
            "zoom_delta": 1,
            "zoom_snap": 1
          }
        },
        "3f5f103286664bb0abd1dd58d21daa2a": {
          "model_module": "@jupyter-widgets/base",
          "model_name": "LayoutModel",
          "model_module_version": "1.2.0",
          "state": {
            "_model_module": "@jupyter-widgets/base",
            "_model_module_version": "1.2.0",
            "_model_name": "LayoutModel",
            "_view_count": null,
            "_view_module": "@jupyter-widgets/base",
            "_view_module_version": "1.2.0",
            "_view_name": "LayoutView",
            "align_content": null,
            "align_items": null,
            "align_self": null,
            "border": null,
            "bottom": null,
            "display": null,
            "flex": null,
            "flex_flow": null,
            "grid_area": null,
            "grid_auto_columns": null,
            "grid_auto_flow": null,
            "grid_auto_rows": null,
            "grid_column": null,
            "grid_gap": null,
            "grid_row": null,
            "grid_template_areas": null,
            "grid_template_columns": null,
            "grid_template_rows": null,
            "height": "18px",
            "justify_content": null,
            "justify_items": null,
            "left": null,
            "margin": null,
            "max_height": null,
            "max_width": null,
            "min_height": null,
            "min_width": null,
            "object_fit": null,
            "object_position": null,
            "order": null,
            "overflow": null,
            "overflow_x": null,
            "overflow_y": null,
            "padding": null,
            "right": null,
            "top": null,
            "visibility": null,
            "width": "25ex"
          }
        },
        "fa1ac8916329421e8ee8d740af44dd4b": {
          "model_module": "@jupyter-widgets/controls",
          "model_name": "DescriptionStyleModel",
          "model_module_version": "1.5.0",
          "state": {
            "_model_module": "@jupyter-widgets/controls",
            "_model_module_version": "1.5.0",
            "_model_name": "DescriptionStyleModel",
            "_view_count": null,
            "_view_module": "@jupyter-widgets/base",
            "_view_module_version": "1.2.0",
            "_view_name": "StyleView",
            "description_width": ""
          }
        },
        "5acd2b0be569433e9bab6bd84d6339b2": {
          "model_module": "@jupyter-widgets/base",
          "model_name": "LayoutModel",
          "model_module_version": "1.2.0",
          "state": {
            "_model_module": "@jupyter-widgets/base",
            "_model_module_version": "1.2.0",
            "_model_name": "LayoutModel",
            "_view_count": null,
            "_view_module": "@jupyter-widgets/base",
            "_view_module_version": "1.2.0",
            "_view_name": "LayoutView",
            "align_content": null,
            "align_items": null,
            "align_self": null,
            "border": null,
            "bottom": null,
            "display": null,
            "flex": null,
            "flex_flow": null,
            "grid_area": null,
            "grid_auto_columns": null,
            "grid_auto_flow": null,
            "grid_auto_rows": null,
            "grid_column": null,
            "grid_gap": null,
            "grid_row": null,
            "grid_template_areas": null,
            "grid_template_columns": null,
            "grid_template_rows": null,
            "height": "18px",
            "justify_content": null,
            "justify_items": null,
            "left": null,
            "margin": null,
            "max_height": null,
            "max_width": null,
            "min_height": null,
            "min_width": null,
            "object_fit": null,
            "object_position": null,
            "order": null,
            "overflow": null,
            "overflow_x": null,
            "overflow_y": null,
            "padding": null,
            "right": null,
            "top": null,
            "visibility": null,
            "width": "25ex"
          }
        },
        "791ceb6f42e54dc782a221dde1093516": {
          "model_module": "@jupyter-widgets/controls",
          "model_name": "DescriptionStyleModel",
          "model_module_version": "1.5.0",
          "state": {
            "_model_module": "@jupyter-widgets/controls",
            "_model_module_version": "1.5.0",
            "_model_name": "DescriptionStyleModel",
            "_view_count": null,
            "_view_module": "@jupyter-widgets/base",
            "_view_module_version": "1.2.0",
            "_view_name": "StyleView",
            "description_width": ""
          }
        },
        "fb2af16a864d4ccc9e0ee0d85d7e5cba": {
          "model_module": "@jupyter-widgets/base",
          "model_name": "LayoutModel",
          "model_module_version": "1.2.0",
          "state": {
            "_model_module": "@jupyter-widgets/base",
            "_model_module_version": "1.2.0",
            "_model_name": "LayoutModel",
            "_view_count": null,
            "_view_module": "@jupyter-widgets/base",
            "_view_module_version": "1.2.0",
            "_view_name": "LayoutView",
            "align_content": null,
            "align_items": null,
            "align_self": null,
            "border": null,
            "bottom": null,
            "display": null,
            "flex": null,
            "flex_flow": null,
            "grid_area": null,
            "grid_auto_columns": null,
            "grid_auto_flow": null,
            "grid_auto_rows": null,
            "grid_column": null,
            "grid_gap": null,
            "grid_row": null,
            "grid_template_areas": null,
            "grid_template_columns": null,
            "grid_template_rows": null,
            "height": "18px",
            "justify_content": null,
            "justify_items": null,
            "left": null,
            "margin": null,
            "max_height": null,
            "max_width": null,
            "min_height": null,
            "min_width": null,
            "object_fit": null,
            "object_position": null,
            "order": null,
            "overflow": null,
            "overflow_x": null,
            "overflow_y": null,
            "padding": null,
            "right": null,
            "top": null,
            "visibility": null,
            "width": "25ex"
          }
        },
        "f76eb9c49f2c4232844c5e8c1d68767e": {
          "model_module": "@jupyter-widgets/controls",
          "model_name": "DescriptionStyleModel",
          "model_module_version": "1.5.0",
          "state": {
            "_model_module": "@jupyter-widgets/controls",
            "_model_module_version": "1.5.0",
            "_model_name": "DescriptionStyleModel",
            "_view_count": null,
            "_view_module": "@jupyter-widgets/base",
            "_view_module_version": "1.2.0",
            "_view_name": "StyleView",
            "description_width": ""
          }
        },
        "d68cb7f3d5394ef8a5332d637244ea44": {
          "model_module": "jupyter-leaflet",
          "model_name": "LeafletZoomControlModel",
          "model_module_version": "^0.19",
          "state": {
            "_model_module": "jupyter-leaflet",
            "_model_module_version": "^0.19",
            "_model_name": "LeafletZoomControlModel",
            "_view_count": null,
            "_view_module": "jupyter-leaflet",
            "_view_module_version": "^0.19",
            "_view_name": "LeafletZoomControlView",
            "options": [
              "position",
              "zoom_in_text",
              "zoom_in_title",
              "zoom_out_text",
              "zoom_out_title"
            ],
            "position": "topleft",
            "zoom_in_text": "+",
            "zoom_in_title": "Zoom in",
            "zoom_out_text": "-",
            "zoom_out_title": "Zoom out"
          }
        },
        "2bf96751cd414c279579129d49e77292": {
          "model_module": "jupyter-leaflet",
          "model_name": "LeafletAttributionControlModel",
          "model_module_version": "^0.19",
          "state": {
            "_model_module": "jupyter-leaflet",
            "_model_module_version": "^0.19",
            "_model_name": "LeafletAttributionControlModel",
            "_view_count": null,
            "_view_module": "jupyter-leaflet",
            "_view_module_version": "^0.19",
            "_view_name": "LeafletAttributionControlView",
            "options": [
              "position",
              "prefix"
            ],
            "position": "bottomright",
            "prefix": "ipyleaflet"
          }
        },
        "3ecfe426086b4a7989ef7bd9ba20f034": {
          "model_module": "jupyter-leaflet",
          "model_name": "LeafletFullScreenControlModel",
          "model_module_version": "^0.19",
          "state": {
            "_model_module": "jupyter-leaflet",
            "_model_module_version": "^0.19",
            "_model_name": "LeafletFullScreenControlModel",
            "_view_count": null,
            "_view_module": "jupyter-leaflet",
            "_view_module_version": "^0.19",
            "_view_name": "LeafletFullScreenControlView",
            "options": [
              "position"
            ],
            "position": "topleft"
          }
        },
        "0fdef225fff14c4cb3524639a82f4e98": {
          "model_module": "jupyter-leaflet",
          "model_name": "LeafletDrawControlModel",
          "model_module_version": "^0.19",
          "state": {
            "_model_module": "jupyter-leaflet",
            "_model_module_version": "^0.19",
            "_model_name": "LeafletDrawControlModel",
            "_view_count": null,
            "_view_module": "jupyter-leaflet",
            "_view_module_version": "^0.19",
            "_view_name": "LeafletDrawControlView",
            "circle": {
              "shapeOptions": {
                "color": "#3388ff"
              },
              "repeatMode": false
            },
            "circlemarker": {},
            "data": [],
            "edit": true,
            "marker": {
              "shapeOptions": {
                "color": "#3388ff"
              },
              "repeatMode": false
            },
            "options": [
              "position"
            ],
            "polygon": {
              "repeatMode": false
            },
            "polyline": {
              "repeatMode": false
            },
            "position": "topleft",
            "rectangle": {
              "shapeOptions": {
                "color": "#3388ff"
              },
              "repeatMode": false
            },
            "remove": true
          }
        },
        "4d7d50b12ba740d7903f8665ac7b5cda": {
          "model_module": "jupyter-leaflet",
          "model_name": "LeafletScaleControlModel",
          "model_module_version": "^0.19",
          "state": {
            "_model_module": "jupyter-leaflet",
            "_model_module_version": "^0.19",
            "_model_name": "LeafletScaleControlModel",
            "_view_count": null,
            "_view_module": "jupyter-leaflet",
            "_view_module_version": "^0.19",
            "_view_name": "LeafletScaleControlView",
            "imperial": true,
            "max_width": 100,
            "metric": true,
            "options": [
              "imperial",
              "max_width",
              "metric",
              "position",
              "update_when_idle"
            ],
            "position": "bottomleft",
            "update_when_idle": false
          }
        },
        "2b860256902b418c89293b65aef00a0e": {
          "model_module": "jupyter-leaflet",
          "model_name": "LeafletWidgetControlModel",
          "model_module_version": "^0.19",
          "state": {
            "_model_module": "jupyter-leaflet",
            "_model_module_version": "^0.19",
            "_model_name": "LeafletWidgetControlModel",
            "_view_count": null,
            "_view_module": "jupyter-leaflet",
            "_view_module_version": "^0.19",
            "_view_name": "LeafletWidgetControlView",
            "max_height": null,
            "max_width": null,
            "min_height": null,
            "min_width": null,
            "options": [
              "position",
              "transparent_bg"
            ],
            "position": "topright",
            "transparent_bg": false,
            "widget": "IPY_MODEL_5af5b68c26b343af81b72ac32d3164d3"
          }
        },
        "804bc8f4e64c4f1eb59734d834d3a274": {
          "model_module": "jupyter-leaflet",
          "model_name": "LeafletWidgetControlModel",
          "model_module_version": "^0.19",
          "state": {
            "_model_module": "jupyter-leaflet",
            "_model_module_version": "^0.19",
            "_model_name": "LeafletWidgetControlModel",
            "_view_count": null,
            "_view_module": "jupyter-leaflet",
            "_view_module_version": "^0.19",
            "_view_name": "LeafletWidgetControlView",
            "max_height": null,
            "max_width": null,
            "min_height": null,
            "min_width": null,
            "options": [
              "position",
              "transparent_bg"
            ],
            "position": "bottomright",
            "transparent_bg": false,
            "widget": "IPY_MODEL_eb89c6a7c6454082b714460a96ed4637"
          }
        },
        "220ca28f6df94662a2b2b000b5ab134d": {
          "model_module": "jupyter-leaflet",
          "model_name": "LeafletMapStyleModel",
          "model_module_version": "^0.19",
          "state": {
            "_model_module": "jupyter-leaflet",
            "_model_module_version": "^0.19",
            "_model_name": "LeafletMapStyleModel",
            "_view_count": null,
            "_view_module": "@jupyter-widgets/base",
            "_view_module_version": "1.2.0",
            "_view_name": "StyleView",
            "cursor": "grab"
          }
        },
        "a9b8581b70cd4642b4228da352098daf": {
          "model_module": "jupyter-leaflet",
          "model_name": "LeafletMapStyleModel",
          "model_module_version": "^0.19",
          "state": {
            "_model_module": "jupyter-leaflet",
            "_model_module_version": "^0.19",
            "_model_name": "LeafletMapStyleModel",
            "_view_count": null,
            "_view_module": "@jupyter-widgets/base",
            "_view_module_version": "1.2.0",
            "_view_name": "StyleView",
            "cursor": "move"
          }
        },
        "0bd12d10a6124312a84ab3d901ae846e": {
          "model_module": "@jupyter-widgets/base",
          "model_name": "LayoutModel",
          "model_module_version": "1.2.0",
          "state": {
            "_model_module": "@jupyter-widgets/base",
            "_model_module_version": "1.2.0",
            "_model_name": "LayoutModel",
            "_view_count": null,
            "_view_module": "@jupyter-widgets/base",
            "_view_module_version": "1.2.0",
            "_view_name": "LayoutView",
            "align_content": null,
            "align_items": null,
            "align_self": null,
            "border": null,
            "bottom": null,
            "display": null,
            "flex": null,
            "flex_flow": null,
            "grid_area": null,
            "grid_auto_columns": null,
            "grid_auto_flow": null,
            "grid_auto_rows": null,
            "grid_column": null,
            "grid_gap": null,
            "grid_row": null,
            "grid_template_areas": null,
            "grid_template_columns": null,
            "grid_template_rows": null,
            "height": "600px",
            "justify_content": null,
            "justify_items": null,
            "left": null,
            "margin": null,
            "max_height": null,
            "max_width": null,
            "min_height": null,
            "min_width": null,
            "object_fit": null,
            "object_position": null,
            "order": null,
            "overflow": null,
            "overflow_x": null,
            "overflow_y": null,
            "padding": null,
            "right": null,
            "top": null,
            "visibility": null,
            "width": null
          }
        },
        "b5ec80ad2410471884b049cf7caad06c": {
          "model_module": "jupyter-leaflet",
          "model_name": "LeafletMapStyleModel",
          "model_module_version": "^0.19",
          "state": {
            "_model_module": "jupyter-leaflet",
            "_model_module_version": "^0.19",
            "_model_name": "LeafletMapStyleModel",
            "_view_count": null,
            "_view_module": "@jupyter-widgets/base",
            "_view_module_version": "1.2.0",
            "_view_name": "StyleView",
            "cursor": "grab"
          }
        },
        "5af5b68c26b343af81b72ac32d3164d3": {
          "model_module": "@jupyter-widgets/controls",
          "model_name": "VBoxModel",
          "model_module_version": "1.5.0",
          "state": {
            "_dom_classes": [],
            "_model_module": "@jupyter-widgets/controls",
            "_model_module_version": "1.5.0",
            "_model_name": "VBoxModel",
            "_view_count": null,
            "_view_module": "@jupyter-widgets/controls",
            "_view_module_version": "1.5.0",
            "_view_name": "VBoxView",
            "box_style": "",
            "children": [
              "IPY_MODEL_5ec5579c8b1642aaabe7afa42cc8b00f"
            ],
            "layout": "IPY_MODEL_28dab910aedb43f2ad247caac14611ff"
          }
        },
        "eb89c6a7c6454082b714460a96ed4637": {
          "model_module": "@jupyter-widgets/controls",
          "model_name": "VBoxModel",
          "model_module_version": "1.5.0",
          "state": {
            "_dom_classes": [],
            "_model_module": "@jupyter-widgets/controls",
            "_model_module_version": "1.5.0",
            "_model_name": "VBoxModel",
            "_view_count": null,
            "_view_module": "@jupyter-widgets/controls",
            "_view_module_version": "1.5.0",
            "_view_name": "VBoxView",
            "box_style": "",
            "children": [
              "IPY_MODEL_64c67aec06254626963ea72f3d55472a",
              "IPY_MODEL_37a3e4a02bd049dd92275fe0e83a4e42"
            ],
            "layout": "IPY_MODEL_688b2f68de9b49ed90ddc144f960e45f"
          }
        },
        "5ec5579c8b1642aaabe7afa42cc8b00f": {
          "model_module": "@jupyter-widgets/controls",
          "model_name": "ToggleButtonModel",
          "model_module_version": "1.5.0",
          "state": {
            "_dom_classes": [],
            "_model_module": "@jupyter-widgets/controls",
            "_model_module_version": "1.5.0",
            "_model_name": "ToggleButtonModel",
            "_view_count": null,
            "_view_module": "@jupyter-widgets/controls",
            "_view_module_version": "1.5.0",
            "_view_name": "ToggleButtonView",
            "button_style": "",
            "description": "",
            "description_tooltip": null,
            "disabled": false,
            "icon": "wrench",
            "layout": "IPY_MODEL_edcba03eb2d6489fa5d5f3e44f9a2096",
            "style": "IPY_MODEL_cbcefad099f94d1790e4cab1c0d073dc",
            "tooltip": "Toolbar",
            "value": false
          }
        },
        "28dab910aedb43f2ad247caac14611ff": {
          "model_module": "@jupyter-widgets/base",
          "model_name": "LayoutModel",
          "model_module_version": "1.2.0",
          "state": {
            "_model_module": "@jupyter-widgets/base",
            "_model_module_version": "1.2.0",
            "_model_name": "LayoutModel",
            "_view_count": null,
            "_view_module": "@jupyter-widgets/base",
            "_view_module_version": "1.2.0",
            "_view_name": "LayoutView",
            "align_content": null,
            "align_items": null,
            "align_self": null,
            "border": null,
            "bottom": null,
            "display": null,
            "flex": null,
            "flex_flow": null,
            "grid_area": null,
            "grid_auto_columns": null,
            "grid_auto_flow": null,
            "grid_auto_rows": null,
            "grid_column": null,
            "grid_gap": null,
            "grid_row": null,
            "grid_template_areas": null,
            "grid_template_columns": null,
            "grid_template_rows": null,
            "height": null,
            "justify_content": null,
            "justify_items": null,
            "left": null,
            "margin": null,
            "max_height": null,
            "max_width": null,
            "min_height": null,
            "min_width": null,
            "object_fit": null,
            "object_position": null,
            "order": null,
            "overflow": null,
            "overflow_x": null,
            "overflow_y": null,
            "padding": null,
            "right": null,
            "top": null,
            "visibility": null,
            "width": null
          }
        },
        "64c67aec06254626963ea72f3d55472a": {
          "model_module": "@jupyter-widgets/controls",
          "model_name": "HBoxModel",
          "model_module_version": "1.5.0",
          "state": {
            "_dom_classes": [],
            "_model_module": "@jupyter-widgets/controls",
            "_model_module_version": "1.5.0",
            "_model_name": "HBoxModel",
            "_view_count": null,
            "_view_module": "@jupyter-widgets/controls",
            "_view_module_version": "1.5.0",
            "_view_name": "HBoxView",
            "box_style": "",
            "children": [
              "IPY_MODEL_d595ff69f67045fd9f8f42c5b2fcf378",
              "IPY_MODEL_1e887fdde4694c5fb5ad2039b5fdf345"
            ],
            "layout": "IPY_MODEL_dba8320895d547cea0609aa53a47c23d"
          }
        },
        "37a3e4a02bd049dd92275fe0e83a4e42": {
          "model_module": "@jupyter-widgets/controls",
          "model_name": "HTMLModel",
          "model_module_version": "1.5.0",
          "state": {
            "_dom_classes": [],
            "_model_module": "@jupyter-widgets/controls",
            "_model_module_version": "1.5.0",
            "_model_name": "HTMLModel",
            "_view_count": null,
            "_view_module": "@jupyter-widgets/controls",
            "_view_module_version": "1.5.0",
            "_view_name": "HTMLView",
            "description": "",
            "description_tooltip": null,
            "layout": "IPY_MODEL_9bd1a2aafb304c35850641d6762fde09",
            "placeholder": "​",
            "style": "IPY_MODEL_0e9261dfaccb4e63b1d5ccf56501fc01",
            "value": ""
          }
        },
        "688b2f68de9b49ed90ddc144f960e45f": {
          "model_module": "@jupyter-widgets/base",
          "model_name": "LayoutModel",
          "model_module_version": "1.2.0",
          "state": {
            "_model_module": "@jupyter-widgets/base",
            "_model_module_version": "1.2.0",
            "_model_name": "LayoutModel",
            "_view_count": null,
            "_view_module": "@jupyter-widgets/base",
            "_view_module_version": "1.2.0",
            "_view_name": "LayoutView",
            "align_content": null,
            "align_items": null,
            "align_self": null,
            "border": null,
            "bottom": null,
            "display": null,
            "flex": null,
            "flex_flow": null,
            "grid_area": null,
            "grid_auto_columns": null,
            "grid_auto_flow": null,
            "grid_auto_rows": null,
            "grid_column": null,
            "grid_gap": null,
            "grid_row": null,
            "grid_template_areas": null,
            "grid_template_columns": null,
            "grid_template_rows": null,
            "height": null,
            "justify_content": null,
            "justify_items": null,
            "left": null,
            "margin": null,
            "max_height": null,
            "max_width": null,
            "min_height": null,
            "min_width": null,
            "object_fit": null,
            "object_position": null,
            "order": null,
            "overflow": null,
            "overflow_x": null,
            "overflow_y": null,
            "padding": null,
            "right": null,
            "top": null,
            "visibility": null,
            "width": null
          }
        },
        "edcba03eb2d6489fa5d5f3e44f9a2096": {
          "model_module": "@jupyter-widgets/base",
          "model_name": "LayoutModel",
          "model_module_version": "1.2.0",
          "state": {
            "_model_module": "@jupyter-widgets/base",
            "_model_module_version": "1.2.0",
            "_model_name": "LayoutModel",
            "_view_count": null,
            "_view_module": "@jupyter-widgets/base",
            "_view_module_version": "1.2.0",
            "_view_name": "LayoutView",
            "align_content": null,
            "align_items": null,
            "align_self": null,
            "border": null,
            "bottom": null,
            "display": null,
            "flex": null,
            "flex_flow": null,
            "grid_area": null,
            "grid_auto_columns": null,
            "grid_auto_flow": null,
            "grid_auto_rows": null,
            "grid_column": null,
            "grid_gap": null,
            "grid_row": null,
            "grid_template_areas": null,
            "grid_template_columns": null,
            "grid_template_rows": null,
            "height": "28px",
            "justify_content": null,
            "justify_items": null,
            "left": null,
            "margin": null,
            "max_height": null,
            "max_width": null,
            "min_height": null,
            "min_width": null,
            "object_fit": null,
            "object_position": null,
            "order": null,
            "overflow": null,
            "overflow_x": null,
            "overflow_y": null,
            "padding": "0px 0px 0px 4px",
            "right": null,
            "top": null,
            "visibility": null,
            "width": "28px"
          }
        },
        "cbcefad099f94d1790e4cab1c0d073dc": {
          "model_module": "@jupyter-widgets/controls",
          "model_name": "DescriptionStyleModel",
          "model_module_version": "1.5.0",
          "state": {
            "_model_module": "@jupyter-widgets/controls",
            "_model_module_version": "1.5.0",
            "_model_name": "DescriptionStyleModel",
            "_view_count": null,
            "_view_module": "@jupyter-widgets/base",
            "_view_module_version": "1.2.0",
            "_view_name": "StyleView",
            "description_width": ""
          }
        },
        "d595ff69f67045fd9f8f42c5b2fcf378": {
          "model_module": "@jupyter-widgets/controls",
          "model_name": "ToggleButtonModel",
          "model_module_version": "1.5.0",
          "state": {
            "_dom_classes": [],
            "_model_module": "@jupyter-widgets/controls",
            "_model_module_version": "1.5.0",
            "_model_name": "ToggleButtonModel",
            "_view_count": null,
            "_view_module": "@jupyter-widgets/controls",
            "_view_module_version": "1.5.0",
            "_view_name": "ToggleButtonView",
            "button_style": "",
            "description": "",
            "description_tooltip": null,
            "disabled": false,
            "icon": "info",
            "layout": "IPY_MODEL_26a38b9a7d1f4b478bb8149d0675806c",
            "style": "IPY_MODEL_8285e105dae14921aa457ccfdc37aca8",
            "tooltip": "Toolbar",
            "value": true
          }
        },
        "1e887fdde4694c5fb5ad2039b5fdf345": {
          "model_module": "@jupyter-widgets/controls",
          "model_name": "ToggleButtonModel",
          "model_module_version": "1.5.0",
          "state": {
            "_dom_classes": [],
            "_model_module": "@jupyter-widgets/controls",
            "_model_module_version": "1.5.0",
            "_model_name": "ToggleButtonModel",
            "_view_count": null,
            "_view_module": "@jupyter-widgets/controls",
            "_view_module_version": "1.5.0",
            "_view_name": "ToggleButtonView",
            "button_style": "",
            "description": "",
            "description_tooltip": null,
            "disabled": false,
            "icon": "times",
            "layout": "IPY_MODEL_1802764f4fa443758934a818ca6ef284",
            "style": "IPY_MODEL_2abf3d88054843bb9e1a263536d59edc",
            "tooltip": "Close the tool",
            "value": false
          }
        },
        "dba8320895d547cea0609aa53a47c23d": {
          "model_module": "@jupyter-widgets/base",
          "model_name": "LayoutModel",
          "model_module_version": "1.2.0",
          "state": {
            "_model_module": "@jupyter-widgets/base",
            "_model_module_version": "1.2.0",
            "_model_name": "LayoutModel",
            "_view_count": null,
            "_view_module": "@jupyter-widgets/base",
            "_view_module_version": "1.2.0",
            "_view_name": "LayoutView",
            "align_content": null,
            "align_items": null,
            "align_self": null,
            "border": null,
            "bottom": null,
            "display": null,
            "flex": null,
            "flex_flow": null,
            "grid_area": null,
            "grid_auto_columns": null,
            "grid_auto_flow": null,
            "grid_auto_rows": null,
            "grid_column": null,
            "grid_gap": null,
            "grid_row": null,
            "grid_template_areas": null,
            "grid_template_columns": null,
            "grid_template_rows": null,
            "height": null,
            "justify_content": null,
            "justify_items": null,
            "left": null,
            "margin": null,
            "max_height": null,
            "max_width": null,
            "min_height": null,
            "min_width": null,
            "object_fit": null,
            "object_position": null,
            "order": null,
            "overflow": null,
            "overflow_x": null,
            "overflow_y": null,
            "padding": null,
            "right": null,
            "top": null,
            "visibility": null,
            "width": null
          }
        },
        "9bd1a2aafb304c35850641d6762fde09": {
          "model_module": "@jupyter-widgets/base",
          "model_name": "LayoutModel",
          "model_module_version": "1.2.0",
          "state": {
            "_model_module": "@jupyter-widgets/base",
            "_model_module_version": "1.2.0",
            "_model_name": "LayoutModel",
            "_view_count": null,
            "_view_module": "@jupyter-widgets/base",
            "_view_module_version": "1.2.0",
            "_view_name": "LayoutView",
            "align_content": null,
            "align_items": null,
            "align_self": null,
            "border": null,
            "bottom": null,
            "display": null,
            "flex": null,
            "flex_flow": null,
            "grid_area": null,
            "grid_auto_columns": null,
            "grid_auto_flow": null,
            "grid_auto_rows": null,
            "grid_column": null,
            "grid_gap": null,
            "grid_row": null,
            "grid_template_areas": null,
            "grid_template_columns": null,
            "grid_template_rows": null,
            "height": null,
            "justify_content": null,
            "justify_items": null,
            "left": null,
            "margin": "0px 10px 0px 10px",
            "max_height": "250px",
            "max_width": "250px",
            "min_height": null,
            "min_width": null,
            "object_fit": null,
            "object_position": null,
            "order": null,
            "overflow": null,
            "overflow_x": null,
            "overflow_y": null,
            "padding": null,
            "right": null,
            "top": null,
            "visibility": null,
            "width": null
          }
        },
        "0e9261dfaccb4e63b1d5ccf56501fc01": {
          "model_module": "@jupyter-widgets/controls",
          "model_name": "DescriptionStyleModel",
          "model_module_version": "1.5.0",
          "state": {
            "_model_module": "@jupyter-widgets/controls",
            "_model_module_version": "1.5.0",
            "_model_name": "DescriptionStyleModel",
            "_view_count": null,
            "_view_module": "@jupyter-widgets/base",
            "_view_module_version": "1.2.0",
            "_view_name": "StyleView",
            "description_width": ""
          }
        },
        "26a38b9a7d1f4b478bb8149d0675806c": {
          "model_module": "@jupyter-widgets/base",
          "model_name": "LayoutModel",
          "model_module_version": "1.2.0",
          "state": {
            "_model_module": "@jupyter-widgets/base",
            "_model_module_version": "1.2.0",
            "_model_name": "LayoutModel",
            "_view_count": null,
            "_view_module": "@jupyter-widgets/base",
            "_view_module_version": "1.2.0",
            "_view_name": "LayoutView",
            "align_content": null,
            "align_items": null,
            "align_self": null,
            "border": null,
            "bottom": null,
            "display": null,
            "flex": null,
            "flex_flow": null,
            "grid_area": null,
            "grid_auto_columns": null,
            "grid_auto_flow": null,
            "grid_auto_rows": null,
            "grid_column": null,
            "grid_gap": null,
            "grid_row": null,
            "grid_template_areas": null,
            "grid_template_columns": null,
            "grid_template_rows": null,
            "height": "28px",
            "justify_content": null,
            "justify_items": null,
            "left": null,
            "margin": null,
            "max_height": null,
            "max_width": null,
            "min_height": null,
            "min_width": null,
            "object_fit": null,
            "object_position": null,
            "order": null,
            "overflow": null,
            "overflow_x": null,
            "overflow_y": null,
            "padding": "0px 0px 0px 4px",
            "right": null,
            "top": null,
            "visibility": null,
            "width": "28px"
          }
        },
        "8285e105dae14921aa457ccfdc37aca8": {
          "model_module": "@jupyter-widgets/controls",
          "model_name": "DescriptionStyleModel",
          "model_module_version": "1.5.0",
          "state": {
            "_model_module": "@jupyter-widgets/controls",
            "_model_module_version": "1.5.0",
            "_model_name": "DescriptionStyleModel",
            "_view_count": null,
            "_view_module": "@jupyter-widgets/base",
            "_view_module_version": "1.2.0",
            "_view_name": "StyleView",
            "description_width": ""
          }
        },
        "1802764f4fa443758934a818ca6ef284": {
          "model_module": "@jupyter-widgets/base",
          "model_name": "LayoutModel",
          "model_module_version": "1.2.0",
          "state": {
            "_model_module": "@jupyter-widgets/base",
            "_model_module_version": "1.2.0",
            "_model_name": "LayoutModel",
            "_view_count": null,
            "_view_module": "@jupyter-widgets/base",
            "_view_module_version": "1.2.0",
            "_view_name": "LayoutView",
            "align_content": null,
            "align_items": null,
            "align_self": null,
            "border": null,
            "bottom": null,
            "display": null,
            "flex": null,
            "flex_flow": null,
            "grid_area": null,
            "grid_auto_columns": null,
            "grid_auto_flow": null,
            "grid_auto_rows": null,
            "grid_column": null,
            "grid_gap": null,
            "grid_row": null,
            "grid_template_areas": null,
            "grid_template_columns": null,
            "grid_template_rows": null,
            "height": "28px",
            "justify_content": null,
            "justify_items": null,
            "left": null,
            "margin": null,
            "max_height": null,
            "max_width": null,
            "min_height": null,
            "min_width": null,
            "object_fit": null,
            "object_position": null,
            "order": null,
            "overflow": null,
            "overflow_x": null,
            "overflow_y": null,
            "padding": "0px 0px 0px 4px",
            "right": null,
            "top": null,
            "visibility": null,
            "width": "28px"
          }
        },
        "2abf3d88054843bb9e1a263536d59edc": {
          "model_module": "@jupyter-widgets/controls",
          "model_name": "DescriptionStyleModel",
          "model_module_version": "1.5.0",
          "state": {
            "_model_module": "@jupyter-widgets/controls",
            "_model_module_version": "1.5.0",
            "_model_name": "DescriptionStyleModel",
            "_view_count": null,
            "_view_module": "@jupyter-widgets/base",
            "_view_module_version": "1.2.0",
            "_view_name": "StyleView",
            "description_width": ""
          }
        },
        "cadc8a8fe97e4a92a8837450c7005461": {
          "model_module": "@jupyter-widgets/controls",
          "model_name": "CheckboxModel",
          "model_module_version": "1.5.0",
          "state": {
            "_dom_classes": [],
            "_model_module": "@jupyter-widgets/controls",
            "_model_module_version": "1.5.0",
            "_model_name": "CheckboxModel",
            "_view_count": null,
            "_view_module": "@jupyter-widgets/controls",
            "_view_module_version": "1.5.0",
            "_view_name": "CheckboxView",
            "description": "OpenStreetMap.Mapnik",
            "description_tooltip": null,
            "disabled": false,
            "indent": false,
            "layout": "IPY_MODEL_b67398bbfb574b44b908ba417e0521c5",
            "style": "IPY_MODEL_a1a97892427049c88f5c4ec058b60d11",
            "value": true
          }
        },
        "08229369f52448178dfd6b542a51f9cb": {
          "model_module": "jupyter-leaflet",
          "model_name": "LeafletTileLayerModel",
          "model_module_version": "^0.19",
          "state": {
            "_model_module": "jupyter-leaflet",
            "_model_module_version": "^0.19",
            "_model_name": "LeafletTileLayerModel",
            "_view_count": null,
            "_view_module": "jupyter-leaflet",
            "_view_module_version": "^0.19",
            "_view_name": "LeafletTileLayerView",
            "attribution": "&copy; <a href=\"https://www.openstreetmap.org/copyright\">OpenStreetMap</a> contributors",
            "base": true,
            "bottom": true,
            "bounds": null,
            "detect_retina": false,
            "loading": false,
            "max_native_zoom": null,
            "max_zoom": 19,
            "min_native_zoom": null,
            "min_zoom": 1,
            "name": "OpenStreetMap",
            "no_wrap": false,
            "opacity": 1,
            "options": [
              "attribution",
              "bounds",
              "detect_retina",
              "max_native_zoom",
              "max_zoom",
              "min_native_zoom",
              "min_zoom",
              "no_wrap",
              "tile_size",
              "tms",
              "zoom_offset"
            ],
            "pane": "",
            "popup": null,
            "popup_max_height": null,
            "popup_max_width": 300,
            "popup_min_width": 50,
            "show_loading": false,
            "subitems": [],
            "tile_size": 256,
            "tms": false,
            "url": "https://tile.openstreetmap.org/{z}/{x}/{y}.png",
            "visible": true,
            "zoom_offset": 0
          }
        },
        "144e1aaedd754e03b54b0d1b4ba7ecfd": {
          "model_module": "@jupyter-widgets/controls",
          "model_name": "CheckboxModel",
          "model_module_version": "1.5.0",
          "state": {
            "_dom_classes": [],
            "_model_module": "@jupyter-widgets/controls",
            "_model_module_version": "1.5.0",
            "_model_name": "CheckboxModel",
            "_view_count": null,
            "_view_module": "@jupyter-widgets/controls",
            "_view_module_version": "1.5.0",
            "_view_name": "CheckboxView",
            "description": "OpenStreetMap.Mapnik",
            "description_tooltip": null,
            "disabled": false,
            "indent": false,
            "layout": "IPY_MODEL_8dd095e2e77141409dd6da2671ddc378",
            "style": "IPY_MODEL_57f826ff1d394dccb206426876a87574",
            "value": true
          }
        },
        "411979b03a3f4078bc6efca2f534087e": {
          "model_module": "@jupyter-widgets/controls",
          "model_name": "CheckboxModel",
          "model_module_version": "1.5.0",
          "state": {
            "_dom_classes": [],
            "_model_module": "@jupyter-widgets/controls",
            "_model_module_version": "1.5.0",
            "_model_name": "CheckboxModel",
            "_view_count": null,
            "_view_module": "@jupyter-widgets/controls",
            "_view_module_version": "1.5.0",
            "_view_name": "CheckboxView",
            "description": "OpenStreetMap.Mapnik",
            "description_tooltip": null,
            "disabled": false,
            "indent": false,
            "layout": "IPY_MODEL_6f794fbb5aa64fdb9a47ef93aecb8334",
            "style": "IPY_MODEL_1d5c6ed59b1c42cb98ebd4a748a4473e",
            "value": true
          }
        },
        "b67398bbfb574b44b908ba417e0521c5": {
          "model_module": "@jupyter-widgets/base",
          "model_name": "LayoutModel",
          "model_module_version": "1.2.0",
          "state": {
            "_model_module": "@jupyter-widgets/base",
            "_model_module_version": "1.2.0",
            "_model_name": "LayoutModel",
            "_view_count": null,
            "_view_module": "@jupyter-widgets/base",
            "_view_module_version": "1.2.0",
            "_view_name": "LayoutView",
            "align_content": null,
            "align_items": null,
            "align_self": null,
            "border": null,
            "bottom": null,
            "display": null,
            "flex": null,
            "flex_flow": null,
            "grid_area": null,
            "grid_auto_columns": null,
            "grid_auto_flow": null,
            "grid_auto_rows": null,
            "grid_column": null,
            "grid_gap": null,
            "grid_row": null,
            "grid_template_areas": null,
            "grid_template_columns": null,
            "grid_template_rows": null,
            "height": "18px",
            "justify_content": null,
            "justify_items": null,
            "left": null,
            "margin": null,
            "max_height": null,
            "max_width": null,
            "min_height": null,
            "min_width": null,
            "object_fit": null,
            "object_position": null,
            "order": null,
            "overflow": null,
            "overflow_x": null,
            "overflow_y": null,
            "padding": null,
            "right": null,
            "top": null,
            "visibility": null,
            "width": "25ex"
          }
        },
        "a1a97892427049c88f5c4ec058b60d11": {
          "model_module": "@jupyter-widgets/controls",
          "model_name": "DescriptionStyleModel",
          "model_module_version": "1.5.0",
          "state": {
            "_model_module": "@jupyter-widgets/controls",
            "_model_module_version": "1.5.0",
            "_model_name": "DescriptionStyleModel",
            "_view_count": null,
            "_view_module": "@jupyter-widgets/base",
            "_view_module_version": "1.2.0",
            "_view_name": "StyleView",
            "description_width": ""
          }
        },
        "8dd095e2e77141409dd6da2671ddc378": {
          "model_module": "@jupyter-widgets/base",
          "model_name": "LayoutModel",
          "model_module_version": "1.2.0",
          "state": {
            "_model_module": "@jupyter-widgets/base",
            "_model_module_version": "1.2.0",
            "_model_name": "LayoutModel",
            "_view_count": null,
            "_view_module": "@jupyter-widgets/base",
            "_view_module_version": "1.2.0",
            "_view_name": "LayoutView",
            "align_content": null,
            "align_items": null,
            "align_self": null,
            "border": null,
            "bottom": null,
            "display": null,
            "flex": null,
            "flex_flow": null,
            "grid_area": null,
            "grid_auto_columns": null,
            "grid_auto_flow": null,
            "grid_auto_rows": null,
            "grid_column": null,
            "grid_gap": null,
            "grid_row": null,
            "grid_template_areas": null,
            "grid_template_columns": null,
            "grid_template_rows": null,
            "height": "18px",
            "justify_content": null,
            "justify_items": null,
            "left": null,
            "margin": null,
            "max_height": null,
            "max_width": null,
            "min_height": null,
            "min_width": null,
            "object_fit": null,
            "object_position": null,
            "order": null,
            "overflow": null,
            "overflow_x": null,
            "overflow_y": null,
            "padding": null,
            "right": null,
            "top": null,
            "visibility": null,
            "width": "25ex"
          }
        },
        "57f826ff1d394dccb206426876a87574": {
          "model_module": "@jupyter-widgets/controls",
          "model_name": "DescriptionStyleModel",
          "model_module_version": "1.5.0",
          "state": {
            "_model_module": "@jupyter-widgets/controls",
            "_model_module_version": "1.5.0",
            "_model_name": "DescriptionStyleModel",
            "_view_count": null,
            "_view_module": "@jupyter-widgets/base",
            "_view_module_version": "1.2.0",
            "_view_name": "StyleView",
            "description_width": ""
          }
        },
        "6f794fbb5aa64fdb9a47ef93aecb8334": {
          "model_module": "@jupyter-widgets/base",
          "model_name": "LayoutModel",
          "model_module_version": "1.2.0",
          "state": {
            "_model_module": "@jupyter-widgets/base",
            "_model_module_version": "1.2.0",
            "_model_name": "LayoutModel",
            "_view_count": null,
            "_view_module": "@jupyter-widgets/base",
            "_view_module_version": "1.2.0",
            "_view_name": "LayoutView",
            "align_content": null,
            "align_items": null,
            "align_self": null,
            "border": null,
            "bottom": null,
            "display": null,
            "flex": null,
            "flex_flow": null,
            "grid_area": null,
            "grid_auto_columns": null,
            "grid_auto_flow": null,
            "grid_auto_rows": null,
            "grid_column": null,
            "grid_gap": null,
            "grid_row": null,
            "grid_template_areas": null,
            "grid_template_columns": null,
            "grid_template_rows": null,
            "height": "18px",
            "justify_content": null,
            "justify_items": null,
            "left": null,
            "margin": null,
            "max_height": null,
            "max_width": null,
            "min_height": null,
            "min_width": null,
            "object_fit": null,
            "object_position": null,
            "order": null,
            "overflow": null,
            "overflow_x": null,
            "overflow_y": null,
            "padding": null,
            "right": null,
            "top": null,
            "visibility": null,
            "width": "25ex"
          }
        },
        "1d5c6ed59b1c42cb98ebd4a748a4473e": {
          "model_module": "@jupyter-widgets/controls",
          "model_name": "DescriptionStyleModel",
          "model_module_version": "1.5.0",
          "state": {
            "_model_module": "@jupyter-widgets/controls",
            "_model_module_version": "1.5.0",
            "_model_name": "DescriptionStyleModel",
            "_view_count": null,
            "_view_module": "@jupyter-widgets/base",
            "_view_module_version": "1.2.0",
            "_view_name": "StyleView",
            "description_width": ""
          }
        },
        "8ab67e376c85484f949c6073c9797e39": {
          "model_module": "@jupyter-widgets/controls",
          "model_name": "CheckboxModel",
          "model_module_version": "1.5.0",
          "state": {
            "_dom_classes": [],
            "_model_module": "@jupyter-widgets/controls",
            "_model_module_version": "1.5.0",
            "_model_name": "CheckboxModel",
            "_view_count": null,
            "_view_module": "@jupyter-widgets/controls",
            "_view_module_version": "1.5.0",
            "_view_name": "CheckboxView",
            "description": "OpenStreetMap",
            "description_tooltip": null,
            "disabled": false,
            "indent": false,
            "layout": "IPY_MODEL_3a383514f8c04a7a8309c1f0e1823c2e",
            "style": "IPY_MODEL_c4ad2609bdd44210b36647d1f34a530c",
            "value": true
          }
        },
        "3a383514f8c04a7a8309c1f0e1823c2e": {
          "model_module": "@jupyter-widgets/base",
          "model_name": "LayoutModel",
          "model_module_version": "1.2.0",
          "state": {
            "_model_module": "@jupyter-widgets/base",
            "_model_module_version": "1.2.0",
            "_model_name": "LayoutModel",
            "_view_count": null,
            "_view_module": "@jupyter-widgets/base",
            "_view_module_version": "1.2.0",
            "_view_name": "LayoutView",
            "align_content": null,
            "align_items": null,
            "align_self": null,
            "border": null,
            "bottom": null,
            "display": null,
            "flex": null,
            "flex_flow": null,
            "grid_area": null,
            "grid_auto_columns": null,
            "grid_auto_flow": null,
            "grid_auto_rows": null,
            "grid_column": null,
            "grid_gap": null,
            "grid_row": null,
            "grid_template_areas": null,
            "grid_template_columns": null,
            "grid_template_rows": null,
            "height": "18px",
            "justify_content": null,
            "justify_items": null,
            "left": null,
            "margin": null,
            "max_height": null,
            "max_width": null,
            "min_height": null,
            "min_width": null,
            "object_fit": null,
            "object_position": null,
            "order": null,
            "overflow": null,
            "overflow_x": null,
            "overflow_y": null,
            "padding": null,
            "right": null,
            "top": null,
            "visibility": null,
            "width": "25ex"
          }
        },
        "c4ad2609bdd44210b36647d1f34a530c": {
          "model_module": "@jupyter-widgets/controls",
          "model_name": "DescriptionStyleModel",
          "model_module_version": "1.5.0",
          "state": {
            "_model_module": "@jupyter-widgets/controls",
            "_model_module_version": "1.5.0",
            "_model_name": "DescriptionStyleModel",
            "_view_count": null,
            "_view_module": "@jupyter-widgets/base",
            "_view_module_version": "1.2.0",
            "_view_name": "StyleView",
            "description_width": ""
          }
        },
        "f33fa56056f842dab938bd68ddbb5332": {
          "model_module": "@jupyter-widgets/controls",
          "model_name": "CheckboxModel",
          "model_module_version": "1.5.0",
          "state": {
            "_dom_classes": [],
            "_model_module": "@jupyter-widgets/controls",
            "_model_module_version": "1.5.0",
            "_model_name": "CheckboxModel",
            "_view_count": null,
            "_view_module": "@jupyter-widgets/controls",
            "_view_module_version": "1.5.0",
            "_view_name": "CheckboxView",
            "description": "OpenStreetMap",
            "description_tooltip": null,
            "disabled": false,
            "indent": false,
            "layout": "IPY_MODEL_d0373f8b0f4d49b194d091dcdc09fa99",
            "style": "IPY_MODEL_3c618d0cfd6d464f86f9188c262f0b87",
            "value": true
          }
        },
        "69917da2adfe409483eb22e82068ff80": {
          "model_module": "@jupyter-widgets/controls",
          "model_name": "CheckboxModel",
          "model_module_version": "1.5.0",
          "state": {
            "_dom_classes": [],
            "_model_module": "@jupyter-widgets/controls",
            "_model_module_version": "1.5.0",
            "_model_name": "CheckboxModel",
            "_view_count": null,
            "_view_module": "@jupyter-widgets/controls",
            "_view_module_version": "1.5.0",
            "_view_name": "CheckboxView",
            "description": "Google Hybrid",
            "description_tooltip": null,
            "disabled": false,
            "indent": false,
            "layout": "IPY_MODEL_4fe7fbdbf2534629bece5711486e8724",
            "style": "IPY_MODEL_359ac21f615346ba9cd351bdaeb6bbda",
            "value": true
          }
        },
        "1622619b517040dd9282317fd425976c": {
          "model_module": "jupyter-leaflet",
          "model_name": "LeafletTileLayerModel",
          "model_module_version": "^0.19",
          "state": {
            "_model_module": "jupyter-leaflet",
            "_model_module_version": "^0.19",
            "_model_name": "LeafletTileLayerModel",
            "_view_count": null,
            "_view_module": "jupyter-leaflet",
            "_view_module_version": "^0.19",
            "_view_name": "LeafletTileLayerView",
            "attribution": "Google",
            "base": false,
            "bottom": true,
            "bounds": null,
            "detect_retina": false,
            "loading": false,
            "max_native_zoom": null,
            "max_zoom": 24,
            "min_native_zoom": null,
            "min_zoom": 0,
            "name": "Google Hybrid",
            "no_wrap": false,
            "opacity": 1,
            "options": [
              "attribution",
              "bounds",
              "detect_retina",
              "max_native_zoom",
              "max_zoom",
              "min_native_zoom",
              "min_zoom",
              "no_wrap",
              "tile_size",
              "tms",
              "zoom_offset"
            ],
            "pane": "",
            "popup": null,
            "popup_max_height": null,
            "popup_max_width": 300,
            "popup_min_width": 50,
            "show_loading": false,
            "subitems": [],
            "tile_size": 256,
            "tms": false,
            "url": "https://mt1.google.com/vt/lyrs=y&x={x}&y={y}&z={z}&key=YOUR-API-KEY",
            "visible": true,
            "zoom_offset": 0
          }
        },
        "d0373f8b0f4d49b194d091dcdc09fa99": {
          "model_module": "@jupyter-widgets/base",
          "model_name": "LayoutModel",
          "model_module_version": "1.2.0",
          "state": {
            "_model_module": "@jupyter-widgets/base",
            "_model_module_version": "1.2.0",
            "_model_name": "LayoutModel",
            "_view_count": null,
            "_view_module": "@jupyter-widgets/base",
            "_view_module_version": "1.2.0",
            "_view_name": "LayoutView",
            "align_content": null,
            "align_items": null,
            "align_self": null,
            "border": null,
            "bottom": null,
            "display": null,
            "flex": null,
            "flex_flow": null,
            "grid_area": null,
            "grid_auto_columns": null,
            "grid_auto_flow": null,
            "grid_auto_rows": null,
            "grid_column": null,
            "grid_gap": null,
            "grid_row": null,
            "grid_template_areas": null,
            "grid_template_columns": null,
            "grid_template_rows": null,
            "height": "18px",
            "justify_content": null,
            "justify_items": null,
            "left": null,
            "margin": null,
            "max_height": null,
            "max_width": null,
            "min_height": null,
            "min_width": null,
            "object_fit": null,
            "object_position": null,
            "order": null,
            "overflow": null,
            "overflow_x": null,
            "overflow_y": null,
            "padding": null,
            "right": null,
            "top": null,
            "visibility": null,
            "width": "25ex"
          }
        },
        "3c618d0cfd6d464f86f9188c262f0b87": {
          "model_module": "@jupyter-widgets/controls",
          "model_name": "DescriptionStyleModel",
          "model_module_version": "1.5.0",
          "state": {
            "_model_module": "@jupyter-widgets/controls",
            "_model_module_version": "1.5.0",
            "_model_name": "DescriptionStyleModel",
            "_view_count": null,
            "_view_module": "@jupyter-widgets/base",
            "_view_module_version": "1.2.0",
            "_view_name": "StyleView",
            "description_width": ""
          }
        },
        "4fe7fbdbf2534629bece5711486e8724": {
          "model_module": "@jupyter-widgets/base",
          "model_name": "LayoutModel",
          "model_module_version": "1.2.0",
          "state": {
            "_model_module": "@jupyter-widgets/base",
            "_model_module_version": "1.2.0",
            "_model_name": "LayoutModel",
            "_view_count": null,
            "_view_module": "@jupyter-widgets/base",
            "_view_module_version": "1.2.0",
            "_view_name": "LayoutView",
            "align_content": null,
            "align_items": null,
            "align_self": null,
            "border": null,
            "bottom": null,
            "display": null,
            "flex": null,
            "flex_flow": null,
            "grid_area": null,
            "grid_auto_columns": null,
            "grid_auto_flow": null,
            "grid_auto_rows": null,
            "grid_column": null,
            "grid_gap": null,
            "grid_row": null,
            "grid_template_areas": null,
            "grid_template_columns": null,
            "grid_template_rows": null,
            "height": "18px",
            "justify_content": null,
            "justify_items": null,
            "left": null,
            "margin": null,
            "max_height": null,
            "max_width": null,
            "min_height": null,
            "min_width": null,
            "object_fit": null,
            "object_position": null,
            "order": null,
            "overflow": null,
            "overflow_x": null,
            "overflow_y": null,
            "padding": null,
            "right": null,
            "top": null,
            "visibility": null,
            "width": "25ex"
          }
        },
        "359ac21f615346ba9cd351bdaeb6bbda": {
          "model_module": "@jupyter-widgets/controls",
          "model_name": "DescriptionStyleModel",
          "model_module_version": "1.5.0",
          "state": {
            "_model_module": "@jupyter-widgets/controls",
            "_model_module_version": "1.5.0",
            "_model_name": "DescriptionStyleModel",
            "_view_count": null,
            "_view_module": "@jupyter-widgets/base",
            "_view_module_version": "1.2.0",
            "_view_name": "StyleView",
            "description_width": ""
          }
        }
      }
    }
  },
  "nbformat": 4,
  "nbformat_minor": 0
}