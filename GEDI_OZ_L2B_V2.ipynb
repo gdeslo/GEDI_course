{
  "cells": [
    {
      "cell_type": "markdown",
      "metadata": {
        "colab_type": "text",
        "id": "view-in-github"
      },
      "source": [
        "<a href=\"https://colab.research.google.com/github/gdeslo/GEDI_course/blob/notebook/GEDI_OZ_L2B_V2.ipynb\" target=\"_parent\"><img src=\"https://colab.research.google.com/assets/colab-badge.svg\" alt=\"Open In Colab\"/></a>"
      ]
    },
    {
      "cell_type": "markdown",
      "metadata": {
        "id": "GhjPPEHjTah3"
      },
      "source": [
        "# Getting Started with GEDI L2B Version 2 Data in Python\n",
        "### This tutorial demonstrates how to work with the Canopy Cover and Vertical Profile Metrics ([GEDI02_B.002](https://doi.org/10.5067/GEDI/GEDI02_B.002)) data product.\n",
        "The Global Ecosystem Dynamics Investigation ([GEDI](https://lpdaac.usgs.gov/data/get-started-data/collection-overview/missions/gedi-overview/)) mission aims to characterize ecosystem structure and dynamics to enable radically improved quantification and understanding of the Earth's carbon cycle and biodiversity. The GEDI instrument produces high resolution laser ranging observations of the 3-dimensional structure of the Earth. GEDI is attached to the International Space Station and collects data globally between 51.6 N and 51.6 S latitudes at the highest resolution and densest sampling of any light detection and ranging (lidar) instrument in orbit to date. The Land Processes Distributed Active Archive Center (LP DAAC) distributes the GEDI Level 1 and Level 2 Version 1 and Version 2 products. The L1B and L2 GEDI products are archived and distributed in the HDF-EOS5 file format.\n",
        "\n",
        "---\n",
        "## Use Case Example:  \n",
        "This tutorial was developed using one of our own projects as an example. The QPRP project covers a network of permanent tropical rainforest plots in North-Eastern Queensland, Australia that spans both a rainfall and altitudinal gradient.  **The goal of this practical is to use GEDI L2B Version 2 data to observe tree canopy height, cover, and profile over the QPRP network.**\n",
        "\n",
        "This tutorial will show how to use Python to open GEDI L2B Version 2 files, visualize the sub-orbit of GEDI points (shots), subset to a region of interest, visualize GEDI canopy height and vertical profile metrics, and export subsets of GEDI science dataset (SDS) layers as GeoJSON files that can be loaded into GIS and/or Remote Sensing software programs.\n",
        "\n",
        "***    \n",
        "### Data Used in the Example:  \n",
        "- **GEDI L2B Canopy Cover and Vertical Profile Metrics Data Global Footprint Level - [GEDI02_B.002](https://doi.org/10.5067/GEDI/GEDI02_B.002)**  \n",
        "     - _The purpose of the L2B dataset is to extract biophysical metrics from each GEDI waveform. These metrics are based on the directional gap probability profile derived from the L1B waveform and include canopy cover, Plant Area Index (PAI), Plant Area Volume Density (PAVD) and Foliage Height Diversity (FHD)._   \n",
        "     - **Science Dataset (SDS) layers:**\n",
        "        - /geolocation/digital_elevation_model\n",
        "        - /geolocation/elev_lowestmode  \n",
        "        - /geolocation/elev_highestreturn  \n",
        "        - /geolocation/lat_lowestmode  \n",
        "        - /geolocation/lon_lowestmode  \n",
        "        - /rh100  \n",
        "        - /l2b_quality_flag  \n",
        "        - /degrade_flag  \n",
        "        - /sensitivity  \n",
        "        - /pai  \n",
        "        - /pavd_z  \n",
        "        - /geolocation/shot_number  \n",
        "        - /dz  \n",
        "        - /selected_l2a_algorithm\n",
        "***  \n",
        "# Topics Covered:\n",
        "1. [**Get Started**](#getstarted)  \n",
        "    1.1 Install packages \n",
        "    1.2 Import Packages    \n",
        "    1.3 Set Up the Working Environment and Retrieve Files      \n",
        "2. [**Import and Interpret Data**](#importinterpret)      \n",
        "    2.1 Open a GEDI HDF5 File and Read File Metadata     \n",
        "    2.2 Read SDS Metadata and Subset by Beam   \n",
        "3. [**Visualize a GEDI Sub-Orbit**](#visualizeorbit)      \n",
        "    3.1 Subset by Layer and Create a Geodataframe   \n",
        "    3.2 Visualize a Geodataframe\n",
        "4. [**Work with GEDI L2B Data**](#L2B)        \n",
        "    4.1 Import and Extract PAVD   \n",
        "    4.2 Visualize PAVD    \n",
        "5. [**Work with GEDI L2B Beam Transects**](#beamtransects)        \n",
        "    5.1 Quality Filtering        \n",
        "    5.2 Plot Beam Transects  \n",
        "    5.3 Subset Beam Transects  \n",
        "6. [**Plot Profile Transects**](#plottransects)      \n",
        "    6.1 Plot PAVD Transects  \n",
        "7. [**Spatial Visualization**](#spatialvisualization)      \n",
        "    7.1 Import, Subset, and Quality Filter all Beams  \n",
        "    7.2 Spatial Subsetting  \n",
        "    7.3 Visualize All Beams: Canopy Height, Elevation, and PAI  \n",
        "8. [**Export Subsets as GeoJSON Files**](#exportgeojson)     \n",
        "       \n",
        "***\n",
        "# Before Starting this Tutorial:\n",
        "\n",
        "This tutorial requires a compatible Python Environment and GEDI L2B granule from June 19, 2019 (orbit 02932, sub-orbit `02`) to download. To setup the Python environment and download the file, follow the steps in the github.\n",
        "\n",
        "## Source Code used to Generate this Tutorial:\n",
        "The repository containing all of the required files is located at: https://github.com/gdeslo/GEDI_course.git\n",
        "  \n",
        "<div class=\"alert alert-block alert-warning\" >\n",
        "<b>NOTE:</b> This tutorial was developed for GEDI L2B Version 2 HDF-EOS5 files and should only be used for that product. </div>   \n"
      ]
    },
    {
      "cell_type": "markdown",
      "metadata": {
        "id": "xwW87bh0Tah4"
      },
      "source": [
        "---\n",
        "# 1. Get Started <a id=\"getstarted\"></a>"
      ]
    },
    {
      "cell_type": "markdown",
      "metadata": {
        "id": "CvaqqwXxOEzT"
      },
      "source": [
        "## 1.1 Install Packages <a id=\"1.1\"></a>\n",
        "#### Install the required packages."
      ]
    },
    {
      "cell_type": "code",
      "execution_count": null,
      "metadata": {
        "colab": {
          "base_uri": "https://localhost:8080/"
        },
        "id": "3-Hsi4rHOusx",
        "outputId": "9f1cf966-ff44-47ff-c9d9-df7766b70fdf"
      },
      "outputs": [],
      "source": [
        "# !pip install geospatial geoviews\n",
        "# !pip install \"ipywidgets>=7,<8\""
      ]
    },
    {
      "cell_type": "markdown",
      "metadata": {
        "id": "2AkqRiE_Tah4"
      },
      "source": [
        "## 1.2 Import Packages <a id=\"1.1\"></a>\n",
        "#### Import the required packages and set the input/working directory to run this Jupyter Notebook locally."
      ]
    },
    {
      "cell_type": "code",
      "execution_count": null,
      "metadata": {
        "colab": {
          "base_uri": "https://localhost:8080/",
          "height": 516
        },
        "id": "RwHk0KcTTah4",
        "outputId": "b5bf4b7d-2ba6-4959-a459-285d90532094"
      },
      "outputs": [],
      "source": [
        "import os\n",
        "import h5py\n",
        "import numpy as np\n",
        "import pandas as pd\n",
        "import geopandas as gp\n",
        "from shapely.geometry import Point\n",
        "import geoviews as gv\n",
        "from geoviews import opts, tile_sources as gvts\n",
        "import holoviews as hv\n",
        "gv.extension('bokeh', 'matplotlib')\n",
        "import shapely\n",
        "import warnings\n",
        "from shapely.errors import ShapelyDeprecationWarning\n",
        "warnings.filterwarnings(\"ignore\", category=ShapelyDeprecationWarning)\n",
        "\n",
        "os.chdir('../../')"
      ]
    },
    {
      "cell_type": "markdown",
      "metadata": {
        "id": "DS3sLrRCTah5"
      },
      "source": [
        "## 1.3 Set Up the Working Environment and Retrieve Files<a id=\"1.2\"></a>\n",
        "#### The input directory is defined as the current working directory. Note that you will need to have the Jupyter Notebook and example data (.h5 and .geojson) stored in this directory in order to execute the tutorial successfully."
      ]
    },
    {
      "cell_type": "code",
      "execution_count": null,
      "metadata": {
        "colab": {
          "base_uri": "https://localhost:8080/"
        },
        "id": "NaWeJMXpSc72",
        "outputId": "6e084273-8c1f-4a5f-e012-67722ac59334"
      },
      "outputs": [],
      "source": [
        "from google.colab import drive\n",
        "drive.mount('/content/drive')"
      ]
    },
    {
      "cell_type": "markdown",
      "metadata": {
        "id": "lHdPYeOTTah6"
      },
      "source": [
        "#### You will need to download the file in order to execute this tutorial. Make sure to download the file into the `DATA` directory you made when setting up Google Colab.\n",
        "You can use `earthaccess` package to download the data."
      ]
    },
    {
      "cell_type": "code",
      "execution_count": null,
      "metadata": {
        "colab": {
          "base_uri": "https://localhost:8080/",
          "height": 169,
          "referenced_widgets": [
            "a1eb71fa6a674b72bbd197014d808721",
            "8bfd8d9974be4ad5850feb8a9b2ce9f0",
            "a2fa4ffae9f84cae85be7673d6056103",
            "78ec3d9fad9341e3b7d9c275b01ab8c9",
            "60b2a5f3f7e94e46ab3aa4cf58e271d1",
            "d349013a8452404c9167b7c233a079de",
            "9e636a7f0ad14187b5297ea3382a7d30",
            "317fdd3868d24fa2a93ab2a7db4eed97",
            "71a73ff116184257981be20b4eab99e0",
            "fbbb1c605d2b42f485af3e31b06457d8",
            "bada98e3f54c4dfe9385006df65711c8",
            "6e09a66c4b6b4c9395f8ccb66cbd298e",
            "80e12bd7734543bcbc6eb1539fbf1c0a",
            "65bcedc1e421475ba8241cad3bc23c42",
            "778d7d5a9cac4abe9e8787e2bc0e5460",
            "ff6ca8d019974fb7af0be610378f9a55",
            "7a91ad9b8019412bac5d1b62a221508f",
            "45d2b6b725ef4d17bd6a81c6c0f243d2",
            "d72b3a10596b4196b707bdc7396ed358",
            "0cf6b249ee5f4d6c9a46ef1fe2e54a03",
            "4c01195d1335454886b0ed4af0c97f5e",
            "9f9e0fe4b815475994baec35e470b005",
            "9bf4ef7f44f949a39c1a51ef7847df43",
            "79fe4ed4a6924eab8f06feaede94453e",
            "187e9908627e4c8c8ed679fac6cc3d2c",
            "d9da46b658a04a178f2bb308e34c8701",
            "3783bd9906c44a70872027698f8e7000",
            "9d158dbe205d414fa800152d683392b5",
            "ac8a2b09d9a34e2586f168251bf79607",
            "0071f7da2df944659c4c819ee2d80aee",
            "7f1b53f4bb674e36bdc967860efc9dee",
            "c35c6abfa4524d28b741a2121ab31c6a",
            "6fbeebbd1ddf465a80d1d3ff3e71cfcc"
          ]
        },
        "id": "pK7uzfppTah6",
        "outputId": "921322c6-fef1-4231-e4a5-ff58a0a1e1cc"
      },
      "outputs": [],
      "source": [
        "# !pip install earthaccess==0.8.2\n",
        "import earthaccess\n",
        "earthaccess.login(persist=True)\n",
        "results = ['https://data.lpdaac.earthdatacloud.nasa.gov/lp-prod-protected/GEDI02_B.002/GEDI02_B_2022344195102_O22626_01_T06507_02_003_01_V002/GEDI02_B_2022344195102_O22626_01_T06507_02_003_01_V002.h5']\n",
        "# download\n",
        "downloaded_files = earthaccess.download(\n",
        "    results,\n",
        "    local_path='DATA/',\n",
        ")"
      ]
    },
    {
      "cell_type": "code",
      "execution_count": null,
      "metadata": {
        "colab": {
          "base_uri": "https://localhost:8080/"
        },
        "id": "2o-J5zDvTah6",
        "outputId": "7f6664ef-579d-4b70-c7c9-185a16e4fc04"
      },
      "outputs": [],
      "source": [
        "gediFiles = [g for g in os.listdir('DATA/') if g.startswith('GEDI02_B') and g.endswith('.h5')]  # List all GEDI L2B .h5 files in inDir\n",
        "gediFiles"
      ]
    },
    {
      "cell_type": "markdown",
      "metadata": {
        "id": "xgxrJD_rTah6"
      },
      "source": [
        "---\n",
        "# 2. Import and Interpret Data <a id=\"importinterpret\"></a>"
      ]
    },
    {
      "cell_type": "markdown",
      "metadata": {
        "id": "zak52OkvTah6"
      },
      "source": [
        "## 2.1 Open a GEDI HDF5 File and Read File Metadata <a id=\"2.1\"></a>\n",
        "#### Read the file using `h5py`."
      ]
    },
    {
      "cell_type": "code",
      "execution_count": null,
      "metadata": {
        "colab": {
          "base_uri": "https://localhost:8080/",
          "height": 36
        },
        "id": "X1bruP9xTah6",
        "outputId": "661885bf-b761-496d-ed49-becc70ec9695"
      },
      "outputs": [],
      "source": [
        "L2B = f'DATA/{gediFiles[0]}'\n",
        "L2B"
      ]
    },
    {
      "cell_type": "markdown",
      "metadata": {
        "id": "KJn7TwvzTah6"
      },
      "source": [
        "#### The standard format  for GEDI Version 2 filenames is as follows:\n",
        "> **GEDI02_B**: Product Short Name    \n",
        "**2019170155833**: Julian Date and Time of Acquisition (YYYYDDDHHMMSS)  \n",
        "**O02932**: Orbit Number   \n",
        "**02**: Sub-Orbit Granule Number (1-4)  \n",
        "**T02267**: Track Number (Reference Ground Track)   \n",
        "**02**: Positioning and Pointing Determination System (PPDS) type (00 is predict, 01 rapid, 02 and higher is final)  \n",
        "**003**: PGE Version Number    \n",
        "**01**: Granule Production Version  \n",
        "**V002**: Product Version  "
      ]
    },
    {
      "cell_type": "markdown",
      "metadata": {
        "id": "WHzzQansTah6"
      },
      "source": [
        "#### Read in a GEDI HDF5 file using the `h5py` package."
      ]
    },
    {
      "cell_type": "code",
      "execution_count": null,
      "metadata": {
        "id": "4LmHXY_9Tah6"
      },
      "outputs": [],
      "source": [
        "gediL2B = h5py.File(L2B, 'r')  # Read file using h5py"
      ]
    },
    {
      "cell_type": "markdown",
      "metadata": {
        "id": "Hh9aEsVYTah6"
      },
      "source": [
        "#### Navigate the HDF5 file below."
      ]
    },
    {
      "cell_type": "code",
      "execution_count": null,
      "metadata": {
        "colab": {
          "base_uri": "https://localhost:8080/"
        },
        "id": "gBgbIMZSTah6",
        "outputId": "2afc8be1-0157-4022-9c5e-7106d002fae3"
      },
      "outputs": [],
      "source": [
        "list(gediL2B.keys())"
      ]
    },
    {
      "cell_type": "markdown",
      "metadata": {
        "id": "oBPL7-X_Tah6"
      },
      "source": [
        "#### The GEDI HDF5 file contains groups in which data and metadata are stored.\n",
        "#### First, the `METADATA` group contains the file-level metadata."
      ]
    },
    {
      "cell_type": "code",
      "execution_count": null,
      "metadata": {
        "colab": {
          "base_uri": "https://localhost:8080/"
        },
        "id": "OrHQpF8KTah6",
        "outputId": "155efec7-a890-4655-fc27-fc680535f632"
      },
      "outputs": [],
      "source": [
        "list(gediL2B['METADATA'])"
      ]
    },
    {
      "cell_type": "markdown",
      "metadata": {
        "id": "50rN392cTah7"
      },
      "source": [
        "This contains useful information such as the creation date, PGEVersion, and VersionID. Below, print the file-level metadata attributes."
      ]
    },
    {
      "cell_type": "code",
      "execution_count": null,
      "metadata": {
        "colab": {
          "base_uri": "https://localhost:8080/"
        },
        "id": "2xNCkr8UTah7",
        "outputId": "674418ec-064a-4617-abaa-20a85b02f30d"
      },
      "outputs": [],
      "source": [
        "for g in gediL2B['METADATA']['DatasetIdentification'].attrs:\n",
        "    print(g)"
      ]
    },
    {
      "cell_type": "code",
      "execution_count": null,
      "metadata": {
        "colab": {
          "base_uri": "https://localhost:8080/"
        },
        "id": "t84iC9_pTah7",
        "outputId": "7d8507a8-b751-41a6-eb3c-6ced3318fad4"
      },
      "outputs": [],
      "source": [
        "print(gediL2B['METADATA']['DatasetIdentification'].attrs['purpose'])"
      ]
    },
    {
      "cell_type": "markdown",
      "metadata": {
        "id": "T7KqtKM-Tah7"
      },
      "source": [
        "## 2.2 Read SDS Metadata and Subset by Beam <a id=\"2.2\"></a>"
      ]
    },
    {
      "cell_type": "markdown",
      "metadata": {
        "id": "BtEQSoAPTah7"
      },
      "source": [
        "####  The GEDI instrument consists of 3 lasers producing a total of 8 beam ground transects. The eight remaining groups contain data for each of the eight GEDI beam transects. For additional information, be sure to check out: https://gedi.umd.edu/instrument/specifications/."
      ]
    },
    {
      "cell_type": "code",
      "execution_count": null,
      "metadata": {
        "colab": {
          "base_uri": "https://localhost:8080/"
        },
        "id": "5A2bxGL8Tah7",
        "outputId": "6d275e6a-8d85-4526-ac95-7228b3bdeb90"
      },
      "outputs": [],
      "source": [
        "beamNames = [g for g in gediL2B.keys() if g.startswith('BEAM')]\n",
        "beamNames"
      ]
    },
    {
      "cell_type": "markdown",
      "metadata": {
        "id": "uXdAkD9VTah7"
      },
      "source": [
        "#### One useful piece of metadata to retrieve from each beam transect is whether it is a full power beam or a coverage beam."
      ]
    },
    {
      "cell_type": "code",
      "execution_count": null,
      "metadata": {
        "colab": {
          "base_uri": "https://localhost:8080/"
        },
        "id": "H-0_ADtZTah7",
        "outputId": "0ffe85d9-32d3-4b83-a928-8ddf725f4b99"
      },
      "outputs": [],
      "source": [
        "for g in gediL2B['BEAM0000'].attrs: print(g)"
      ]
    },
    {
      "cell_type": "code",
      "execution_count": null,
      "metadata": {
        "colab": {
          "base_uri": "https://localhost:8080/"
        },
        "id": "vFbErI-BTah7",
        "outputId": "4c0fd727-ffa1-4fcc-ce94-5d27dcc68675"
      },
      "outputs": [],
      "source": [
        "for b in beamNames:\n",
        "    print(f\"{b} is a {gediL2B[b].attrs['description']}\")"
      ]
    },
    {
      "cell_type": "markdown",
      "metadata": {
        "id": "nFwyArPzTah7"
      },
      "source": [
        "#### Below, pick one of the full power beams that will be used to retrieve GEDI L2B shots in Section 3."
      ]
    },
    {
      "cell_type": "code",
      "execution_count": null,
      "metadata": {
        "id": "E47dmbFpTah7"
      },
      "outputs": [],
      "source": [
        "beamNames = ['BEAM1000']"
      ]
    },
    {
      "cell_type": "markdown",
      "metadata": {
        "id": "U8YRhdGNTah7"
      },
      "source": [
        "#### Identify all the objects in the GEDI HDF5 file below.\n",
        "Note: This step may take a while to complete."
      ]
    },
    {
      "cell_type": "code",
      "execution_count": null,
      "metadata": {
        "colab": {
          "base_uri": "https://localhost:8080/"
        },
        "id": "uBP4vSmWTah7",
        "outputId": "56b26463-85f0-47e3-b5d1-429d63d80f7f"
      },
      "outputs": [],
      "source": [
        "gediL2B_objs = []\n",
        "gediL2B.visit(gediL2B_objs.append)                                           # Retrieve list of datasets\n",
        "gediSDS = [o for o in gediL2B_objs if isinstance(gediL2B[o], h5py.Dataset)]  # Search for relevant SDS inside data file\n",
        "[i for i in gediSDS if beamNames[0] in i][:10]                               # Print the first 10 datasets for selected beam"
      ]
    },
    {
      "cell_type": "markdown",
      "metadata": {
        "id": "iHIvJWyWTah7"
      },
      "source": [
        "---\n",
        "# 3. Visualize a GEDI Orbit <a id=\"visualizeorbit\"></a>\n",
        "#### In the section below, import GEDI L2B SDS layers into a `GeoPandas` GeoDataFrame for the beam specified above.\n",
        "#### Use the `lat_lowestmode` and `lon_lowestmode` to create a `shapely` point for each GEDI shot location."
      ]
    },
    {
      "cell_type": "markdown",
      "metadata": {
        "id": "yPwYeQ-mTah7"
      },
      "source": [
        "## 3.1 Subset by Layer and Create a Geodataframe <a id=\"3.1\"></a>"
      ]
    },
    {
      "cell_type": "markdown",
      "metadata": {
        "id": "Daj9ZGGkTah7"
      },
      "source": [
        "#### Read in the SDS and take a representative sample (every 100th shot) and append to lists, then use the lists to generate a `pandas` dataframe."
      ]
    },
    {
      "cell_type": "code",
      "execution_count": null,
      "metadata": {
        "colab": {
          "base_uri": "https://localhost:8080/",
          "height": 423
        },
        "id": "Va6O3DHETah7",
        "outputId": "0618b783-df45-4a02-b062-62daaf0c0d5e"
      },
      "outputs": [],
      "source": [
        "lonSample, latSample, shotSample, qualitySample, beamSample = [], [], [], [], []  # Set up lists to store data\n",
        "\n",
        "# Open the SDS\n",
        "lats = gediL2B[f'{beamNames[0]}/geolocation/lat_lowestmode'][()]\n",
        "lons = gediL2B[f'{beamNames[0]}/geolocation/lon_lowestmode'][()]\n",
        "shots = gediL2B[f'{beamNames[0]}/geolocation/shot_number'][()]\n",
        "quality = gediL2B[f'{beamNames[0]}/l2b_quality_flag'][()]\n",
        "\n",
        "# Take every 100th shot and append to list\n",
        "for i in range(len(shots)):\n",
        "    if i % 100 == 0:\n",
        "        shotSample.append(str(shots[i]))\n",
        "        lonSample.append(lons[i])\n",
        "        latSample.append(lats[i])\n",
        "        qualitySample.append(quality[i])\n",
        "        beamSample.append(beamNames[0])\n",
        "\n",
        "# Write all of the sample shots to a dataframe\n",
        "latslons = pd.DataFrame({'Beam': beamSample, 'Shot Number': shotSample, 'Longitude': lonSample, 'Latitude': latSample,\n",
        "                         'Quality Flag': qualitySample})\n",
        "latslons"
      ]
    },
    {
      "cell_type": "markdown",
      "metadata": {
        "id": "gtNOw8DzTah8"
      },
      "source": [
        "#### Above is a dataframe containing columns describing the beam, shot number, lat/lon location, and quality information about each shot."
      ]
    },
    {
      "cell_type": "markdown",
      "metadata": {
        "id": "oljlWyAqTah8"
      },
      "source": [
        "#### Below, create an additional column called 'geometry' that contains a `shapely` point generated from each lat/lon location from the shot."
      ]
    },
    {
      "cell_type": "code",
      "execution_count": null,
      "metadata": {
        "id": "beIyZ1IfTaiC"
      },
      "outputs": [],
      "source": [
        "# Take the lat/lon dataframe and convert each lat/lon to a shapely point\n",
        "latslons['geometry'] = latslons.apply(lambda row: Point(row.Longitude, row.Latitude), axis=1)"
      ]
    },
    {
      "cell_type": "markdown",
      "metadata": {
        "id": "eip-OdiXTaiC"
      },
      "source": [
        "#### Next, convert to a `Geopandas` GeoDataFrame."
      ]
    },
    {
      "cell_type": "code",
      "execution_count": null,
      "metadata": {
        "colab": {
          "base_uri": "https://localhost:8080/",
          "height": 458
        },
        "id": "kPJdIVDwTaiC",
        "outputId": "e025fcdd-2e28-4900-c750-1d54ae35aa99"
      },
      "outputs": [],
      "source": [
        "# Convert to a Geodataframe\n",
        "latslons = gp.GeoDataFrame(latslons)\n",
        "latslons = latslons.drop(columns=['Latitude','Longitude'])\n",
        "latslons['geometry']"
      ]
    },
    {
      "cell_type": "markdown",
      "metadata": {
        "id": "kWLWO7o3TaiC"
      },
      "source": [
        "#### Pull out and plot an example `shapely` point below."
      ]
    },
    {
      "cell_type": "code",
      "execution_count": null,
      "metadata": {
        "colab": {
          "base_uri": "https://localhost:8080/",
          "height": 121
        },
        "id": "HrEpkVErTaiC",
        "outputId": "c963776e-a997-4168-de88-374c9c2dc304",
        "scrolled": true
      },
      "outputs": [],
      "source": [
        "latslons['geometry'][0]"
      ]
    },
    {
      "cell_type": "markdown",
      "metadata": {
        "id": "6OMbsS-cTaiC"
      },
      "source": [
        "## 3.2 Visualize a GeoDataFrame <a id=\"3.2\"></a>\n",
        "#### In this section, use the GeoDataFrame of Queensland and the QPRP plots, and use the `leafmap` python package to spatially visualize the location of the GEDI shots on a basemap."
      ]
    },
    {
      "cell_type": "markdown",
      "metadata": {
        "id": "8VyTcJABTaiC"
      },
      "source": [
        "#### Import a GeoJSON of Queensland and the QPRP plots as a GeoDataFrame. Note that you will need to have downloaded the folder with DATA to your Google Drive."
      ]
    },
    {
      "cell_type": "code",
      "execution_count": null,
      "metadata": {
        "colab": {
          "base_uri": "https://localhost:8080/"
        },
        "id": "lcWqZ2GGTaiC",
        "outputId": "e86b9048-a061-4655-c835-8313bc1f3dd6"
      },
      "outputs": [],
      "source": [
        "import geopandas as gpd\n",
        "plots = '/content/drive/MyDrive/Colab Notebooks/GEDI_course/DATA/plots.shp'\n",
        "plots_gdf = gpd.read_file(plots, encoding='ISO-8859-1')\n",
        "QLD = gpd.read_file('DATA/QLD.geojson') \n",
        "print(gdf.head())"
      ]
    },
    {
      "cell_type": "code",
      "execution_count": null,
      "metadata": {},
      "outputs": [],
      "source": [
        "#make a bbox to zoom center on\n",
        "bbox = QLD.total_bounds\n",
        "bbox"
      ]
    },
    {
      "cell_type": "markdown",
      "metadata": {},
      "source": [
        "Now we make a simple interactive map using `leafmap` that shows Queensland and the QPRP plots."
      ]
    },
    {
      "cell_type": "code",
      "execution_count": null,
      "metadata": {
        "colab": {
          "base_uri": "https://localhost:8080/",
          "height": 621,
          "referenced_widgets": [
            "9adc10ac8ade41a7bd462b03d5d41454",
            "11850d8be0f041f1beeeb61db3b5223e",
            "ec0b65fd11074168a71390ac0d5b2da8",
            "99b32bd1edc844fa86cf645de9364fc8",
            "0d2bfbe36279441fb03a4f8e469adc01",
            "6eef7d85f71a4713b9ae7461cf1f5ba8",
            "bcd04a0dd0ad4393818f7c669785640b",
            "9602cb5b4b874046b7b6688d343f8bb9",
            "8ac4207784fd415f8b252aacd0e8c56b",
            "a9ba411fa65f4b0da6d15f7c177b6e8d",
            "0b1c19f1038e4027bd254bbdfbca294e",
            "c276dc396d564c3eafada0786e5cbbf2",
            "62bc8f8e4a2d4747b08acfa975f452ea",
            "41d415be139a471b8a8f1cd6b1593e1e",
            "7fade1f3d2134d04a60be2cc92298715",
            "179472626e1249b0bf4d6a6f1f9492cf",
            "38f354c7e74e4652b7253ea8a8022303",
            "2e65f9c12c074642a332a35790101170",
            "3f5f103286664bb0abd1dd58d21daa2a",
            "fa1ac8916329421e8ee8d740af44dd4b",
            "5acd2b0be569433e9bab6bd84d6339b2",
            "791ceb6f42e54dc782a221dde1093516",
            "fb2af16a864d4ccc9e0ee0d85d7e5cba",
            "f76eb9c49f2c4232844c5e8c1d68767e",
            "d68cb7f3d5394ef8a5332d637244ea44",
            "2bf96751cd414c279579129d49e77292",
            "3ecfe426086b4a7989ef7bd9ba20f034",
            "0fdef225fff14c4cb3524639a82f4e98",
            "4d7d50b12ba740d7903f8665ac7b5cda",
            "2b860256902b418c89293b65aef00a0e",
            "804bc8f4e64c4f1eb59734d834d3a274",
            "220ca28f6df94662a2b2b000b5ab134d",
            "a9b8581b70cd4642b4228da352098daf",
            "0bd12d10a6124312a84ab3d901ae846e",
            "b5ec80ad2410471884b049cf7caad06c",
            "5af5b68c26b343af81b72ac32d3164d3",
            "eb89c6a7c6454082b714460a96ed4637",
            "5ec5579c8b1642aaabe7afa42cc8b00f",
            "28dab910aedb43f2ad247caac14611ff",
            "64c67aec06254626963ea72f3d55472a",
            "37a3e4a02bd049dd92275fe0e83a4e42",
            "688b2f68de9b49ed90ddc144f960e45f",
            "edcba03eb2d6489fa5d5f3e44f9a2096",
            "cbcefad099f94d1790e4cab1c0d073dc",
            "d595ff69f67045fd9f8f42c5b2fcf378",
            "1e887fdde4694c5fb5ad2039b5fdf345",
            "dba8320895d547cea0609aa53a47c23d",
            "9bd1a2aafb304c35850641d6762fde09",
            "0e9261dfaccb4e63b1d5ccf56501fc01",
            "26a38b9a7d1f4b478bb8149d0675806c",
            "8285e105dae14921aa457ccfdc37aca8",
            "1802764f4fa443758934a818ca6ef284",
            "2abf3d88054843bb9e1a263536d59edc"
          ]
        },
        "id": "KBdwtw17TaiD",
        "outputId": "e6dc8059-7907-41ef-a1be-83dd35f0e627"
      },
      "outputs": [],
      "source": [
        "import leafmap\n",
        "m = leafmap.Map()\n",
        "m.zoom_to_bounds(bbox)\n",
        "m.add_basemap('HYBRID')\n",
        "m.add_gdf(QLD, layer_name=\"QPRP-CSIRO\", style={'fillColor': 'yellow', 'color': 'yellow', 'fillOpacity': 0.5})\n",
        "m.add_markers(gdf, shape=\"circle\", radius=4, color=\"blue\", fill_color=\"blue\", popup=[\"plot_name\"])\n",
        "m"
      ]
    },
    {
      "cell_type": "markdown",
      "metadata": {},
      "source": [
        "Congrats, you made your first map.\n",
        "\n",
        "Next, let's make a new map that also adds all the GEDI shots."
      ]
    },
    {
      "cell_type": "code",
      "execution_count": null,
      "metadata": {
        "colab": {
          "base_uri": "https://localhost:8080/",
          "height": 478,
          "referenced_widgets": [
            "cadc8a8fe97e4a92a8837450c7005461",
            "08229369f52448178dfd6b542a51f9cb",
            "144e1aaedd754e03b54b0d1b4ba7ecfd",
            "411979b03a3f4078bc6efca2f534087e",
            "b67398bbfb574b44b908ba417e0521c5",
            "a1a97892427049c88f5c4ec058b60d11",
            "8dd095e2e77141409dd6da2671ddc378",
            "57f826ff1d394dccb206426876a87574",
            "6f794fbb5aa64fdb9a47ef93aecb8334",
            "1d5c6ed59b1c42cb98ebd4a748a4473e",
            "8ab67e376c85484f949c6073c9797e39",
            "3a383514f8c04a7a8309c1f0e1823c2e",
            "c4ad2609bdd44210b36647d1f34a530c",
            "f33fa56056f842dab938bd68ddbb5332",
            "69917da2adfe409483eb22e82068ff80",
            "1622619b517040dd9282317fd425976c",
            "d0373f8b0f4d49b194d091dcdc09fa99",
            "3c618d0cfd6d464f86f9188c262f0b87",
            "4fe7fbdbf2534629bece5711486e8724",
            "359ac21f615346ba9cd351bdaeb6bbda"
          ]
        },
        "id": "ZGgu7oaCTaiD",
        "outputId": "9d8608a4-d509-456d-c5c5-33d19731af88"
      },
      "outputs": [],
      "source": [
        "m = leafmap.Map()\n",
        "m.zoom_to_bounds(bbox)\n",
        "m.add_basemap('HYBRID')\n",
        "m.add_gdf(QLD, layer_name=\"QPRP-CSIRO\", style={'fillColor': 'yellow', 'color': 'yellow', 'fillOpacity': 0.5})\n",
        "m.add_markers(latslons, shape=\"circle\", radius=2, color=\"red\", fill_color=\"red\", popup=[\"geometry\", \"Beam\", \"Shot Number\", \"Quality Flag\"])\n",
        "m.add_markers(gdf, shape=\"circle\", radius=4, color=\"blue\", fill_color=\"blue\", popup=[\"plot_name\"])\n",
        "m"
      ]
    },
    {
      "cell_type": "markdown",
      "metadata": {
        "id": "WWjh88Y5TaiD"
      },
      "source": [
        "Above is a good illustration of the new GEDI _Version 2_ sub-orbit granules (remember that GEDI _Version 1_  files are stored as one ISS orbit). One of the benefits of using \t`leafmap` is the interactive nature of the output maps. Use the tools in the upper right of the map and try zooming in to find interesting shots close to QPRP plots."
      ]
    },
    {
      "cell_type": "markdown",
      "metadata": {
        "id": "ZLtzPYsoTaiD"
      },
      "source": [
        "Side Note: Wondering what the 0's and 1's for `l2b_quality_flag` mean?"
      ]
    },
    {
      "cell_type": "code",
      "execution_count": null,
      "metadata": {
        "id": "QMswBC9PTaiD"
      },
      "outputs": [],
      "source": [
        "print(f\"Quality Flag: {gediL2B[b]['l2b_quality_flag'].attrs['description']}\")"
      ]
    },
    {
      "cell_type": "markdown",
      "metadata": {
        "id": "000Nn5pKTaiD"
      },
      "source": [
        "Above, 0 is poor quality and a quality_flag value of 1 indicates the laser shot meets criteria based on energy, sensitivity, amplitude, and real-time surface tracking quality. We will show an example of how to quality filter GEDI data in section 5.1.\n",
        "After finding one of the shots close to a QPRP plot and with a quality index of 1, find the index for that shot number so that we can find the correct shot to visualize in Section 4."
      ]
    },
    {
      "cell_type": "markdown",
      "metadata": {
        "id": "Xpr1upiPTaiD"
      },
      "source": [
        "#### Each GEDI shot has a unique shot identifier (shot number) that is available within each data group of the product. The shot number is important to retain in any data subsetting as it will allow the user to link any shot record back to the original orbit data, and to link any shot and its data between the L1 and L2 products. The standard format  for GEDI Shots is as follows:"
      ]
    },
    {
      "cell_type": "markdown",
      "metadata": {
        "id": "8xi5b4YTTaiE"
      },
      "source": [
        "### Shot: 29320600200465601\n",
        "> **2932**: Orbit Number      \n",
        "**06**: Beam Number    \n",
        "**0**: Reserved for future use     \n",
        "**02**: Sub-orbit Granule Number    \n",
        "**004**: Minor frame number   \n",
        "**65601**: Shot index  "
      ]
    },
    {
      "cell_type": "markdown",
      "metadata": {
        "id": "KQdmQKBPTaiE"
      },
      "source": [
        "---\n",
        "# 4. Work with GEDI L2B Data <a id=\"L2B\"></a>\n",
        "#### The L2B product contains biophysical information derived from the geolocated GEDI return waveforms including total and vertical profiles of canopy cover and Plant Area Index (PAI), the vertical Plant Area Volume Density (PAVD) profile, and Foliage Height Diversity (FHD).\n",
        "Detailed product information can be found on the [GEDI L2B Product Page](https://doi.org/10.5067/GEDI/GEDI02_B.002)."
      ]
    },
    {
      "cell_type": "markdown",
      "metadata": {
        "id": "mEJsLNzTTaiE"
      },
      "source": [
        "## 4.1 Import and Extract Specific Shots\n",
        "#### Notice that there are over a thousand datasets available in the GEDI L2B product. In the code blocks below, you will subset to just a few of the datasets available.\n",
        "#### In this section, learn how to extract and subset specific shots and plot Plant Area Volume Density (PAVD) using `holoviews`."
      ]
    },
    {
      "cell_type": "code",
      "execution_count": null,
      "metadata": {
        "id": "BxqWL3HsTaiE"
      },
      "outputs": [],
      "source": [
        "len(gediSDS)"
      ]
    },
    {
      "cell_type": "code",
      "execution_count": null,
      "metadata": {
        "id": "x1_8dakJTaiE"
      },
      "outputs": [],
      "source": [
        "beamNames"
      ]
    },
    {
      "cell_type": "code",
      "execution_count": null,
      "metadata": {
        "id": "ltAZaEk9TaiE"
      },
      "outputs": [],
      "source": [
        "beamSDS = [g for g in gediSDS if beamNames[0] in g]  # Subset to a single beam\n",
        "len(beamSDS)"
      ]
    },
    {
      "cell_type": "markdown",
      "metadata": {
        "id": "J4AUUlpRTaiE"
      },
      "source": [
        "### We will set the shot index used as an example from the [GEDI L1B Tutorial](https://git.earthdata.nasa.gov/projects/LPDUR/repos/gedi-v2-tutorials/browse/GEDI_L1B_V2_Tutorial.ipynb) and [GEDI L2A Tutorial](https://git.earthdata.nasa.gov/projects/LPDUR/repos/gedi-v2-tutorials/browse/GEDI_L2A_V2_Tutorial.ipynb) to show how to subset a single shot of GEDI L2B data."
      ]
    },
    {
      "cell_type": "code",
      "execution_count": null,
      "metadata": {
        "id": "LCy4koHcTaiE"
      },
      "outputs": [],
      "source": [
        "shot = 226260800100074501"
      ]
    },
    {
      "cell_type": "code",
      "execution_count": null,
      "metadata": {
        "id": "5G-VOW3QTaiE"
      },
      "outputs": [],
      "source": [
        "index = np.where(gediL2B[f'{beamNames[0]}/shot_number'][()]==shot)[0][0]  # Set the index for the shot identified above\n",
        "index"
      ]
    },
    {
      "cell_type": "markdown",
      "metadata": {
        "id": "lb8lhUoLTaiE"
      },
      "source": [
        "## 4.2 Visualize PAVD\n",
        "#### In section 4.2, import the PAVD metrics (`pavd_z`) and begin exploring how to plot them."
      ]
    },
    {
      "cell_type": "code",
      "execution_count": null,
      "metadata": {
        "id": "e3RTT5xvTaiE"
      },
      "outputs": [],
      "source": [
        "pavd = gediL2B[[g for g in beamSDS if g.endswith('/pavd_z')][0]]  # PAVD"
      ]
    },
    {
      "cell_type": "markdown",
      "metadata": {
        "id": "Y6oVcCoETaiE"
      },
      "source": [
        "#### Print the description for the PAVD dataset."
      ]
    },
    {
      "cell_type": "code",
      "execution_count": null,
      "metadata": {
        "id": "_Zza41NbTaiE"
      },
      "outputs": [],
      "source": [
        "print(f\"Plant Area Volume Density is {pavd.attrs['description']}\")"
      ]
    },
    {
      "cell_type": "markdown",
      "metadata": {
        "id": "4Pre6EdsTaiE"
      },
      "source": [
        "#### Below, open the `dz` layer in order to define the correct vertical step size."
      ]
    },
    {
      "cell_type": "code",
      "execution_count": null,
      "metadata": {
        "id": "I0SUFyKvTaiE"
      },
      "outputs": [],
      "source": [
        "# Grab vertical step size\n",
        "dz = gediL2B[f'{beamNames[0]}/ancillary/dz'][0]\n",
        "dz"
      ]
    },
    {
      "cell_type": "markdown",
      "metadata": {
        "id": "Z58MwaniTaiE"
      },
      "source": [
        "#### So the vertical step size is 5.0 meters."
      ]
    },
    {
      "cell_type": "code",
      "execution_count": null,
      "metadata": {
        "id": "1SYiISikTaiE"
      },
      "outputs": [],
      "source": [
        "print(f\"The shape of PAVD is {pavd.shape}.\")"
      ]
    },
    {
      "cell_type": "markdown",
      "metadata": {
        "id": "4F03BIpQTaiE"
      },
      "source": [
        "#### And it looks like PAVD includes 30 \"steps\" in each shot, describing the PAVD at height = step # * `dz`.\n",
        "#### Now, bring in other useful L2B datasets such as `elev_lowestmode`, `lat_lowestmode` and `lon_lowestmode`."
      ]
    },
    {
      "cell_type": "code",
      "execution_count": null,
      "metadata": {
        "id": "1fMmFBM8TaiF"
      },
      "outputs": [],
      "source": [
        "# Bring in the desired SDS\n",
        "elev = gediL2B[f'{beamNames[0]}/geolocation/elev_lowestmode'][()]  # Latitude\n",
        "lats = gediL2B[f'{beamNames[0]}/geolocation/lat_lowestmode'][()]  # Latitude\n",
        "lons = gediL2B[f'{beamNames[0]}/geolocation/lon_lowestmode'][()]  # Longitude"
      ]
    },
    {
      "cell_type": "markdown",
      "metadata": {
        "id": "3v54dLOVTaiF"
      },
      "source": [
        "#### Grab the location, elevation, and PAVD metrics for the shot defined above:"
      ]
    },
    {
      "cell_type": "code",
      "execution_count": null,
      "metadata": {
        "id": "gHL9KydETaiF"
      },
      "outputs": [],
      "source": [
        "shotElev = elev[index]\n",
        "shotLat = lats[index]\n",
        "shotLon = lons[index]\n",
        "shotPAVD = pavd[index]"
      ]
    },
    {
      "cell_type": "markdown",
      "metadata": {
        "id": "TI9nM34yTaiF"
      },
      "source": [
        "#### Put everything together to identify the shot that we want to extract:"
      ]
    },
    {
      "cell_type": "code",
      "execution_count": null,
      "metadata": {
        "id": "yiXP5KH7TaiF"
      },
      "outputs": [],
      "source": [
        "print(f\"The shot is located at: {str(shotLat)}, {str(shotLon)} (shot ID: {shot}, index {index}) and is from {beamNames[0]}.\")"
      ]
    },
    {
      "cell_type": "markdown",
      "metadata": {
        "id": "eD_G0LEgTaiF"
      },
      "source": [
        "#### Next, reformat PAVD into a list of tuples containing each PAVD value and height."
      ]
    },
    {
      "cell_type": "code",
      "execution_count": null,
      "metadata": {
        "id": "azaawJRHTaiF"
      },
      "outputs": [],
      "source": [
        "pavdAll = []\n",
        "pavdElev = []\n",
        "\n",
        "for i, e in enumerate(range(len(shotPAVD))):\n",
        "    if shotPAVD[i] > 0:\n",
        "        pavdElev.append((shot, shotElev + dz * i, shotPAVD[i]))  # Append tuple of shot number, elevation, and PAVD\n",
        "pavdAll.append(pavdElev)                                         # Append to final list"
      ]
    },
    {
      "cell_type": "markdown",
      "metadata": {
        "id": "Vwd-BAhYTaiF"
      },
      "source": [
        "#### Below, plot each shot by using `holoviews` Path() function, with the PAVD plotted in the third dimension in shades of green."
      ]
    },
    {
      "cell_type": "code",
      "execution_count": null,
      "metadata": {
        "id": "Y8elaJ2aTaiF"
      },
      "outputs": [],
      "source": [
        "pavdAll"
      ]
    },
    {
      "cell_type": "code",
      "execution_count": null,
      "metadata": {
        "id": "5bT6PW4tTaiF"
      },
      "outputs": [],
      "source": [
        "path1 = hv.Path(pavdAll, vdims='PAVD').options(color='PAVD', clim=(0,0.1), cmap='Greens', line_width=20, colorbar=True,\n",
        "                                               width=700, height=550, clabel='PAVD', xlabel='Shot Number',\n",
        "                                               ylabel='Elevation (m)', fontsize={'title':16, 'xlabel':16, 'ylabel': 16,\n",
        "                                                                                 'xticks':12, 'yticks':12,\n",
        "                                                                                 'clabel':12, 'cticks':10})\n",
        "path1"
      ]
    },
    {
      "cell_type": "markdown",
      "metadata": {
        "id": "xuV6eU-CTaiF"
      },
      "source": [
        "### Congratulations! You have plotted your first PAVD profile."
      ]
    },
    {
      "cell_type": "markdown",
      "metadata": {
        "id": "zJiSeFV1TaiF"
      },
      "source": [
        "---\n",
        "# 5. Work with GEDI L2B Beam Transects<a id=\"beamtransects\"></a>\n",
        "#### Next, import a number of desired SDS layers for BEAM0110 (for the entire orbit) and create a `pandas` Dataframe to store the arrays."
      ]
    },
    {
      "cell_type": "code",
      "execution_count": null,
      "metadata": {
        "id": "sYW-FsJFTaiF"
      },
      "outputs": [],
      "source": [
        "# Open all of the desired SDS\n",
        "dem = gediL2B[[g for g in beamSDS if g.endswith('/digital_elevation_model')][0]][()]\n",
        "zElevation = gediL2B[[g for g in beamSDS if g.endswith('/elev_lowestmode')][0]][()]\n",
        "zHigh = gediL2B[[g for g in beamSDS if g.endswith('/elev_highestreturn')][0]][()]\n",
        "zLat = gediL2B[[g for g in beamSDS if g.endswith('/lat_lowestmode')][0]][()]\n",
        "zLon = gediL2B[[g for g in beamSDS if g.endswith('/lon_lowestmode')][0]][()]\n",
        "canopyHeight = gediL2B[[g for g in beamSDS if g.endswith('/rh100')][0]][()]\n",
        "quality = gediL2B[[g for g in beamSDS if g.endswith('/l2b_quality_flag')][0]][()]\n",
        "degrade = gediL2B[[g for g in beamSDS if g.endswith('/degrade_flag')][0]][()]\n",
        "sensitivity = gediL2B[[g for g in beamSDS if g.endswith('/sensitivity')][0]][()]\n",
        "pavd = gediL2B[f'{beamNames[0]}/pavd_z'][()]\n",
        "shotNums = gediL2B[f'{beamNames[0]}/shot_number'][()]\n",
        "selectedAlgorithmL2A = gediL2B[[g for g in beamSDS if g.endswith('/selected_l2a_algorithm')][0]][()]\n",
        "\n",
        "# Create a shot index\n",
        "shotIndex = np.arange(shotNums.size)"
      ]
    },
    {
      "cell_type": "markdown",
      "metadata": {
        "id": "Bpd3Q_SfTaiF"
      },
      "source": [
        "#### In the GEDI L2B product, Canopy Height is stored in units (cm), so below convert to meters."
      ]
    },
    {
      "cell_type": "code",
      "execution_count": null,
      "metadata": {
        "id": "RM6ezhGHTaiF"
      },
      "outputs": [],
      "source": [
        "canopyHeight = canopyHeight / 100  # Convert RH100 from cm to m"
      ]
    },
    {
      "cell_type": "markdown",
      "metadata": {
        "id": "BgF-8ve1TaiF"
      },
      "source": [
        "#### As mentioned in the sections above, Plant Area Volume Density (pavd) is defined as the _Vertical Plant Area Volume Density profile with a vertical step size of dZ_. Below, reformat the shape of the PAVD layer in order to add it to the dataframe below."
      ]
    },
    {
      "cell_type": "code",
      "execution_count": null,
      "metadata": {
        "id": "T89hwDB3TaiF"
      },
      "outputs": [],
      "source": [
        "print(f\"The shape of Canopy Height is {canopyHeight.shape} vs. the shape of PAVD, which is {pavd.shape}.\")"
      ]
    },
    {
      "cell_type": "markdown",
      "metadata": {
        "id": "0p0x6_h6TaiF"
      },
      "source": [
        "#### Above, notice that unlike a SDS layer like Canopy Height, which has a single value for each shot, PAVD has 30 values (representing different vertical heights) for each shot.\n",
        "#### Below, reformat the data into a list of values for each shot."
      ]
    },
    {
      "cell_type": "code",
      "execution_count": null,
      "metadata": {
        "id": "yY0sieWATaiG"
      },
      "outputs": [],
      "source": [
        "# Set up an empty list to append to\n",
        "pavdA = []\n",
        "for i in range(len(pavd)):\n",
        "\n",
        "    # If any of the values are fill value, set to nan\n",
        "    pavdF = [np.nan]\n",
        "    for p in range(len(pavd[i])):\n",
        "        if pavd[i][p]!= -9999:\n",
        "            pavdF.append(pavd[i][p])  # If the value is not fill value, append to list\n",
        "    pavdA.append(pavdF)               # Append back to master list"
      ]
    },
    {
      "cell_type": "markdown",
      "metadata": {
        "id": "aCeQXUN9TaiG"
      },
      "source": [
        "#### Note: The cell above may take up to a minute to process."
      ]
    },
    {
      "cell_type": "markdown",
      "metadata": {
        "id": "PtJ0kR5qTaiG"
      },
      "source": [
        "#### Below, notice the reformatted PAVD layer, which should now fit into the dataframe created below."
      ]
    },
    {
      "cell_type": "code",
      "execution_count": null,
      "metadata": {
        "id": "iOYqEeTFTaiG",
        "scrolled": true
      },
      "outputs": [],
      "source": [
        "len(pavdA)"
      ]
    },
    {
      "cell_type": "code",
      "execution_count": null,
      "metadata": {
        "id": "q1QM-GE4TaiG"
      },
      "outputs": [],
      "source": [
        "# Take the DEM, GEDI-produced Elevation, and Canopy height and add to a Pandas dataframe\n",
        "transectDF = pd.DataFrame({\n",
        "    'Shot Index': shotIndex,\n",
        "    'Shot Number': shotNums,\n",
        "    'Latitude': zLat,\n",
        "    'Longitude': zLon,\n",
        "    'Tandem-X DEM': dem,\n",
        "    'Elevation (m)': zElevation,\n",
        "    'Canopy Elevation (m)': zHigh,\n",
        "    'Canopy Height (rh100)': canopyHeight,\n",
        "    'Quality Flag': quality,\n",
        "    'Degrade Flag': degrade,\n",
        "    'Plant Area Volume Density': pavdA,\n",
        "    'Sensitivity': sensitivity,\n",
        "    'Selected L2A Algorithm': selectedAlgorithmL2A\n",
        "    })"
      ]
    },
    {
      "cell_type": "code",
      "execution_count": null,
      "metadata": {
        "id": "l68eCYUwTaiG"
      },
      "outputs": [],
      "source": [
        "transectDF"
      ]
    },
    {
      "cell_type": "code",
      "execution_count": null,
      "metadata": {
        "id": "kdmndZkoTaiG"
      },
      "outputs": [],
      "source": [
        "index"
      ]
    },
    {
      "cell_type": "markdown",
      "metadata": {
        "id": "bLhaJWDaTaiG"
      },
      "source": [
        "#### Notice the unusual values listed above--those shots are flagged as poor quality and will be removed in Section 5.1.\n",
        "#### Now that you have the desired SDS into a `pandas` dataframe, begin plotting the entire beam transect:"
      ]
    },
    {
      "cell_type": "code",
      "execution_count": null,
      "metadata": {
        "id": "loOrusLnTaiG"
      },
      "outputs": [],
      "source": [
        "# Plot Canopy Height\n",
        "canopyVis = hv.Scatter((transectDF['Shot Index'], transectDF['Canopy Height (rh100)']))\n",
        "canopyVis.opts(color='darkgreen', height=500, width=900, title=f'GEDI L2B Full Transect {beamNames[0]}',\n",
        "               fontsize={'title':16, 'xlabel':16, 'ylabel': 16}, size=0.1, xlabel='Shot Index', ylabel='Canopy Height (m)')"
      ]
    },
    {
      "cell_type": "markdown",
      "metadata": {
        "id": "2F6CYcnGTaiG"
      },
      "source": [
        "#### Congratulations! You have plotted your first GEDI sub-orbit beam transect. Notice above that things look a little messy--before we dive deeper into plotting full transects, let's quality filter the shots in the section below."
      ]
    },
    {
      "cell_type": "markdown",
      "metadata": {
        "id": "dN-Dij3LTaiG"
      },
      "source": [
        "## 5.1 Quality Filtering\n",
        "#### Now that you have the desired layers imported as a dataframe for the entire beam transect, let's perform quality filtering.\n",
        "#### Below, remove any shots where the `l2b_quality_flag` is set to 0 by defining those shots as `nan`.\n",
        "#### The syntax of the line below can be read as: in the dataframe, find the rows \"where\" the quality flag is not equal (ne) to 0. If a row (shot) does not meet the condition, set all values equal to `nan` for that row."
      ]
    },
    {
      "cell_type": "code",
      "execution_count": null,
      "metadata": {
        "id": "s_hoGijxTaiG"
      },
      "outputs": [],
      "source": [
        "transectDF = transectDF.where(transectDF['Quality Flag'].ne(0))  # Set any poor quality returns to NaN"
      ]
    },
    {
      "cell_type": "code",
      "execution_count": null,
      "metadata": {
        "id": "CWAGR5yYTaiG"
      },
      "outputs": [],
      "source": [
        "transectDF"
      ]
    },
    {
      "cell_type": "markdown",
      "metadata": {
        "id": "wdWsGcrLTaiG"
      },
      "source": [
        "#### Below, quality filter even further by using the `degrade_flag` (Greater than zero if the shot occurs during a degrade period, zero otherwise) and the `Sensitivity` layer, using a threshold of 0.95."
      ]
    },
    {
      "cell_type": "code",
      "execution_count": null,
      "metadata": {
        "id": "BdcYe5GKTaiG"
      },
      "outputs": [],
      "source": [
        "transectDF = transectDF.where(transectDF['Degrade Flag'] < 1)\n",
        "transectDF = transectDF.where(transectDF['Sensitivity'] > 0.95)"
      ]
    },
    {
      "cell_type": "markdown",
      "metadata": {
        "id": "Xg_4a2bVTaiG"
      },
      "source": [
        "#### Below, drop all of the shots that did not pass the quality filtering standards outlined above from the `transectDF`."
      ]
    },
    {
      "cell_type": "code",
      "execution_count": null,
      "metadata": {
        "id": "EcmWbAKRTaiH"
      },
      "outputs": [],
      "source": [
        "transectDF = transectDF.dropna()  # Drop all of the rows (shots) that did not pass the quality filtering above"
      ]
    },
    {
      "cell_type": "code",
      "execution_count": null,
      "metadata": {
        "id": "3DjBKRQsTaiH"
      },
      "outputs": [],
      "source": [
        "print(f\"Quality filtering complete, {len(transectDF)} high quality shots remaining.\")"
      ]
    },
    {
      "cell_type": "markdown",
      "metadata": {
        "id": "GBxu5yU7TaiH"
      },
      "source": [
        "## 5.2 Plot Beam Transects\n",
        "#### Next, plot the full remaining transect of high quality values using `holoviews` Scatter(). Combine the Tandem-X derived elevation, the GEDI-derived elevation, and the Canopy Top Elevation in a combined holoviews plot."
      ]
    },
    {
      "cell_type": "code",
      "execution_count": null,
      "metadata": {
        "id": "Q3Gun1xfTaiH"
      },
      "outputs": [],
      "source": [
        "# Plot Digital Elevation Model\n",
        "demVis = hv.Scatter((transectDF['Shot Index'], transectDF['Tandem-X DEM']), label='Tandem-X DEM')\n",
        "demVis = demVis.opts(color='black', height=500, width=900, fontsize={'xlabel':16, 'ylabel': 16}, size=1.5)"
      ]
    },
    {
      "cell_type": "code",
      "execution_count": null,
      "metadata": {
        "id": "TrVS-uROTaiH"
      },
      "outputs": [],
      "source": [
        "# Plot GEDI-Retrieved Elevation\n",
        "zVis = hv.Scatter((transectDF['Shot Index'], transectDF['Elevation (m)']), label='GEDI-derived Elevation')\n",
        "zVis = zVis.opts(color='saddlebrown', height=500, width=900, fontsize={'xlabel':16, 'ylabel': 16}, size=1.5)"
      ]
    },
    {
      "cell_type": "code",
      "execution_count": null,
      "metadata": {
        "id": "yZiZRw7VTaiH"
      },
      "outputs": [],
      "source": [
        "# Plot Canopy Top Elevation\n",
        "rhVis = hv.Scatter((transectDF['Shot Index'], transectDF['Canopy Elevation (m)']), label='Canopy Top Elevation')\n",
        "rhVis = rhVis.opts(color='darkgreen', height=500, width=900, fontsize={'xlabel':16, 'ylabel': 16}, size=1.5,\n",
        "                   tools=['hover'], xlabel='Shot Index', ylabel='Elevation (m)')"
      ]
    },
    {
      "cell_type": "code",
      "execution_count": null,
      "metadata": {
        "id": "6e3_VO44TaiH"
      },
      "outputs": [],
      "source": [
        "# Combine all three scatterplots\n",
        "(demVis * zVis * rhVis).opts(show_legend=True, legend_position='top_left',fontsize={'title':14, 'xlabel':16, 'ylabel': 16},\n",
        "                             title=f'{beamNames[0]} Full Transect: {L2B.split(\".\")[0]}')"
      ]
    },
    {
      "cell_type": "markdown",
      "metadata": {
        "id": "qx6uXF7HTaiH"
      },
      "source": [
        "#### The plot still looks a bit messy this far zoomed out--feel free to pan, zoom, and explore different areas of the plot. The waveforms plotted in section 4 were 46597-46600. If you zoom into the high-quality shots between 4.000e+5 and 5.000e+5, you will find the portion of the transect intersecting Redwood National Park, seen below:\n",
        "![GEDI_L2B_V2_Tutorial_2.png](../../img/GEDI_L2B_V2_Tutorial_2.png \"BEAM0110 Transect Plot of Tandem-X Elevation, GEDI-derived Elevation, and Canopy Top Elevation over Redwood National Park, USA.\")"
      ]
    },
    {
      "cell_type": "markdown",
      "metadata": {
        "id": "8SE8sBXoTaiH"
      },
      "source": [
        "## 5.3 Subset Beam Transects"
      ]
    },
    {
      "cell_type": "markdown",
      "metadata": {
        "id": "GNaYT6-zTaiH"
      },
      "source": [
        "#### Now, subset down to a smaller transect centered on the shot analyzed in the sections above."
      ]
    },
    {
      "cell_type": "code",
      "execution_count": null,
      "metadata": {
        "id": "vkiNtzJLTaiH"
      },
      "outputs": [],
      "source": [
        "index"
      ]
    },
    {
      "cell_type": "code",
      "execution_count": null,
      "metadata": {
        "id": "FYrPzMUOd3tU"
      },
      "outputs": [],
      "source": [
        "transectDF"
      ]
    },
    {
      "cell_type": "code",
      "execution_count": null,
      "metadata": {
        "id": "7oz5DcNFTaiH"
      },
      "outputs": [],
      "source": [
        "# Grab 50 points before and after the shot visualized above\n",
        "start = index - 50\n",
        "end = index + 50"
      ]
    },
    {
      "cell_type": "code",
      "execution_count": null,
      "metadata": {
        "id": "PnRLClHNTaiI"
      },
      "outputs": [],
      "source": [
        "start"
      ]
    },
    {
      "cell_type": "code",
      "execution_count": null,
      "metadata": {
        "id": "vL-_R3-FTaiI"
      },
      "outputs": [],
      "source": [
        "transectDF['Latitude']"
      ]
    },
    {
      "cell_type": "markdown",
      "metadata": {
        "id": "62hsJDCJTaiI"
      },
      "source": [
        "#### Below, subset the transect using `.loc`."
      ]
    },
    {
      "cell_type": "code",
      "execution_count": null,
      "metadata": {
        "id": "yUOtI_buTaiI"
      },
      "outputs": [],
      "source": [
        "transectDF = transectDF.loc[start:end]  # Subset the Dataframe to only the selected region of interest over Redwood NP"
      ]
    },
    {
      "cell_type": "markdown",
      "metadata": {
        "id": "FjVqJktQTaiI"
      },
      "source": [
        "---\n",
        "# 6. Plot Profile Transects <a id=\"plottransects\"></a>\n",
        "#### In this section, plot the transect subset using elevation, canopy height, and plant area volume density (PAVD) metrics."
      ]
    },
    {
      "cell_type": "markdown",
      "metadata": {
        "id": "FR8ps_Y4TaiI"
      },
      "source": [
        "#### In order to get an idea of the length of the beam transect that you are plotting, you can plot the x-axis as distance, which is calculated below."
      ]
    },
    {
      "cell_type": "code",
      "execution_count": null,
      "metadata": {
        "id": "jjQOr1L2TaiI"
      },
      "outputs": [],
      "source": [
        "# Calculate along-track distance\n",
        "distance = np.arange(0.0, len(transectDF.index) * 60, 60)  # GEDI Shots are spaced 60 m apart\n",
        "transectDF['Distance'] = distance                          # Add Distance as a new column in the dataframe"
      ]
    },
    {
      "cell_type": "markdown",
      "metadata": {
        "id": "jXfa86meTaiI"
      },
      "source": [
        "## 6.1 Plot PAVD Transects"
      ]
    },
    {
      "cell_type": "markdown",
      "metadata": {
        "id": "Ac-SA_IvTaiI"
      },
      "source": [
        "#### Similar to what was done with PAVD in the sections above, reformat PAVD into a list of tuples containing each PAVD value and height by shot."
      ]
    },
    {
      "cell_type": "code",
      "execution_count": null,
      "metadata": {
        "id": "4o7uelEZTaiI"
      },
      "outputs": [],
      "source": [
        "pavdAll = []\n",
        "for j, s in enumerate(transectDF.index):\n",
        "    pavdShot = transectDF['Plant Area Volume Density'][s]\n",
        "    elevShot = transectDF['Elevation (m)'][s]\n",
        "    pavdElev = []\n",
        "\n",
        "    # Remove fill values\n",
        "    if np.isnan(pavdShot).all():\n",
        "        continue\n",
        "    else:\n",
        "        del pavdShot[0]\n",
        "    for i, e in enumerate(range(len(pavdShot))):\n",
        "        if pavdShot[i] > 0:\n",
        "            pavdElev.append((distance[j], elevShot + dz * i, pavdShot[i]))  # Append tuple of distance, elevation, and PAVD\n",
        "    pavdAll.append(pavdElev)                                                # Append to final list"
      ]
    },
    {
      "cell_type": "code",
      "execution_count": null,
      "metadata": {
        "id": "8HspU6h3TaiI",
        "scrolled": true
      },
      "outputs": [],
      "source": [
        "canopyElevation = [p[-1][1] for p in pavdAll]  # Grab the canopy elevation by selecting the last value in each PAVD"
      ]
    },
    {
      "cell_type": "markdown",
      "metadata": {
        "id": "weBovIY4TaiI"
      },
      "source": [
        "#### Below, plot each shot by using `holoviews` Path() function, with the PAVD plotted in the third dimension in shades of green."
      ]
    },
    {
      "cell_type": "code",
      "execution_count": null,
      "metadata": {
        "id": "bGCnzW5VTaiI"
      },
      "outputs": [],
      "source": [
        "path1 = hv.Path(pavdAll, vdims='PAVD').options(color='PAVD', clim=(0,0.3), cmap='Greens', line_width=8, colorbar=True,\n",
        "                                               width=950, height=500, clabel='PAVD', xlabel='Distance Along Transect (m)',\n",
        "                                               ylabel='Elevation (m)', fontsize={'title':16, 'xlabel':16, 'ylabel': 16,\n",
        "                                                                                 'xticks':12, 'yticks':12,\n",
        "                                                                                 'clabel':12, 'cticks':10})\n",
        "path1"
      ]
    },
    {
      "cell_type": "markdown",
      "metadata": {
        "id": "032NUuc1TaiI"
      },
      "source": [
        "#### Add in the ground elevation and canopy top elevation for better context as to where in the canopy the highest PAVD exists."
      ]
    },
    {
      "cell_type": "code",
      "execution_count": null,
      "metadata": {
        "id": "AqsFtjrXTaiI"
      },
      "outputs": [],
      "source": [
        "path2 = hv.Curve((distance, transectDF['Elevation (m)']), label='Ground Elevation').options(color='black', line_width=2)\n",
        "path3 = hv.Curve((distance, canopyElevation), label='Canopy Top Elevation').options(color='grey', line_width=1.5)"
      ]
    },
    {
      "cell_type": "code",
      "execution_count": null,
      "metadata": {
        "id": "W_WMGxQQTaiJ"
      },
      "outputs": [],
      "source": [
        "# Plot all three together\n",
        "path = path1 * path2 * path3\n",
        "path.opts(height=500,width=980, ylim=(min(transectDF['Elevation (m)']) - 5, max(canopyElevation) + 5),\n",
        "          xlabel='Distance Along Transect (m)', ylabel='Elevation (m)', legend_position='bottom_right',\n",
        "          fontsize={'title':15, 'xlabel':15, 'ylabel': 15, 'xticks': 14, 'yticks': 14, 'legend': 14},\n",
        "          title=f'GEDI L2B {beamNames[0]} PAVD over Dinden National Park, Queensland, Australia in 2022')"
      ]
    },
    {
      "cell_type": "code",
      "execution_count": null,
      "metadata": {
        "id": "92wT99F-TaiJ"
      },
      "outputs": [],
      "source": [
        "#save graph\n",
        "hv.save(path, 'DATA/GEDI_L2B_PAVD.html')"
      ]
    },
    {
      "cell_type": "markdown",
      "metadata": {
        "id": "blkFiyQmTaiJ"
      },
      "source": [
        "#### Above, you can get an idea about the terrain over the region of interest, particularly the classic \"V\" representing the river valley that is bisected by the transect. In terms of vegetation structure, this plot does a good job of showing not only which portions of the canopy are taller, but also where they are denser (darker shades of green)."
      ]
    },
    {
      "cell_type": "code",
      "execution_count": null,
      "metadata": {
        "id": "zzP9hBoZTaiJ"
      },
      "outputs": [],
      "source": [
        "del distance, canopyElevation, pavdAll, pavdElev, pavdShot, transectDF"
      ]
    },
    {
      "cell_type": "markdown",
      "metadata": {
        "id": "PxqhIXKvTaiJ"
      },
      "source": [
        "### At this point you have visualized the elevation, canopy, and vertical structure of specific footprints over Redwood national park, and for a transect cutting through the national park. In section 7 you will look at mapping all of the high-quality shots from all eight GEDI beams for a given region of interest in order to gain knowledge on the spatial distribution of and characteristics of the canopy over Redwood National Park."
      ]
    },
    {
      "cell_type": "markdown",
      "metadata": {
        "id": "eg9vNsgFTaiJ"
      },
      "source": [
        "---\n",
        "# 7. Spatial Visualization<a id=\"spatialvisualization\"></a>\n",
        "#### Section 7 combines many of the techniques learned above including how to import GEDI datasets, perform quality filtering, spatial subsetting, and visualization."
      ]
    },
    {
      "cell_type": "markdown",
      "metadata": {
        "id": "UIlUu7DSTaiJ"
      },
      "source": [
        "## 7.1 Import, Subset, and Quality Filter All Beams"
      ]
    },
    {
      "cell_type": "markdown",
      "metadata": {
        "id": "NzEVQprUTaiJ"
      },
      "source": [
        "#### Below, re-open the GEDI L2B observation--but this time, loop through and import data for all 8 of the GEDI beams."
      ]
    },
    {
      "cell_type": "code",
      "execution_count": null,
      "metadata": {
        "id": "boDoafC4TaiJ"
      },
      "outputs": [],
      "source": [
        "beamNames = [g for g in gediL2B.keys() if g.startswith('BEAM')]"
      ]
    },
    {
      "cell_type": "code",
      "execution_count": null,
      "metadata": {
        "id": "vmKkhCsjTaiJ"
      },
      "outputs": [],
      "source": [
        "beamNames"
      ]
    },
    {
      "cell_type": "markdown",
      "metadata": {
        "id": "_Vg8LpMETaiJ"
      },
      "source": [
        "#### Loop through each of the desired datasets (SDS) for each beam, append to lists, and transform into a `pandas` DataFrame."
      ]
    },
    {
      "cell_type": "code",
      "execution_count": null,
      "metadata": {
        "id": "OiUK7syZTaiJ"
      },
      "outputs": [],
      "source": [
        "# Set up lists to store data\n",
        "shotNum, dem, zElevation, zHigh, zLat, zLon, canopyHeight, quality, degrade, sensitivity, pai, beamI, selectedAlgorithmL2A = ([] for i in range(13))"
      ]
    },
    {
      "cell_type": "code",
      "execution_count": null,
      "metadata": {
        "id": "ozrQkGFuTaiJ"
      },
      "outputs": [],
      "source": [
        "# Loop through each beam and open the SDS needed\n",
        "for b in beamNames:\n",
        "    [shotNum.append(h) for h in gediL2B[[g for g in gediSDS if g.endswith('/shot_number') and b in g][0]][()]]\n",
        "    [dem.append(h) for h in gediL2B[[g for g in gediSDS if g.endswith('/digital_elevation_model') and b in g][0]][()]]\n",
        "    [zElevation.append(h) for h in gediL2B[[g for g in gediSDS if g.endswith('/elev_lowestmode') and b in g][0]][()]]\n",
        "    [zHigh.append(h) for h in gediL2B[[g for g in gediSDS if g.endswith('/elev_highestreturn') and b in g][0]][()]]\n",
        "    [zLat.append(h) for h in gediL2B[[g for g in gediSDS if g.endswith('/lat_lowestmode') and b in g][0]][()]]\n",
        "    [zLon.append(h) for h in gediL2B[[g for g in gediSDS if g.endswith('/lon_lowestmode') and b in g][0]][()]]\n",
        "    [canopyHeight.append(h) for h in gediL2B[[g for g in gediSDS if g.endswith('/rh100') and b in g][0]][()]]\n",
        "    [quality.append(h) for h in gediL2B[[g for g in gediSDS if g.endswith('/l2b_quality_flag') and b in g][0]][()]]\n",
        "    [degrade.append(h) for h in gediL2B[[g for g in gediSDS if g.endswith('/degrade_flag') and b in g][0]][()]]\n",
        "    [sensitivity.append(h) for h in gediL2B[[g for g in gediSDS if g.endswith('/sensitivity') and b in g][0]][()]]\n",
        "    [beamI.append(h) for h in [b] * len(gediL2B[[g for g in gediSDS if g.endswith('/shot_number') and b in g][0]][()])]\n",
        "    [selectedAlgorithmL2A.append(h) for h in gediL2B[[g for g in gediSDS if g.endswith('/selected_l2a_algorithm') and b in g][0]][()]]\n",
        "    [pai.append(h) for h in gediL2B[f'{b}/pai'][()]]"
      ]
    },
    {
      "cell_type": "code",
      "execution_count": null,
      "metadata": {
        "id": "JFHy9NCeTaiJ"
      },
      "outputs": [],
      "source": [
        "# Convert lists to Pandas dataframe\n",
        "allDF = pd.DataFrame({\n",
        "    'Shot Number': shotNum,\n",
        "    'Beam': beamI,\n",
        "    'Latitude': zLat,\n",
        "    'Longitude': zLon,\n",
        "    'Tandem-X DEM': dem,\n",
        "    'Elevation (m)': zElevation,\n",
        "    'Canopy Elevation (m)': zHigh,\n",
        "    'Canopy Height (rh100)': canopyHeight,\n",
        "    'Quality Flag': quality,\n",
        "    'Plant Area Index': pai,\n",
        "    'Degrade Flag': degrade,\n",
        "    'Sensitivity': sensitivity,\n",
        "    'Selected L2A Algorithm': selectedAlgorithmL2A\n",
        "    })"
      ]
    },
    {
      "cell_type": "code",
      "execution_count": null,
      "metadata": {
        "id": "1dqdzJDmTaiJ"
      },
      "outputs": [],
      "source": [
        "del beamI, canopyHeight, degrade, dem, gediSDS, pai, quality, sensitivity, zElevation, zHigh, zLat, zLon, shotNum, selectedAlgorithmL2A"
      ]
    },
    {
      "cell_type": "markdown",
      "metadata": {
        "id": "Q-_oeDXeTaiJ"
      },
      "source": [
        "## 7.2 Spatial Subsetting\n",
        "#### Below, subset the pandas dataframe using a simple bounding box region of interest. If you are interested in spatially clipping GEDI shots to a GeoJSON region of interest, be sure to check out the GEDI-Subsetter python script available at: https://git.earthdata.nasa.gov/projects/LPDUR/repos/gedi-subsetter/browse."
      ]
    },
    {
      "cell_type": "code",
      "execution_count": null,
      "metadata": {
        "id": "UkbGUJxVTaiJ"
      },
      "outputs": [],
      "source": [
        "len(allDF)"
      ]
    },
    {
      "cell_type": "markdown",
      "metadata": {
        "id": "fcvLKinGTaiK"
      },
      "source": [
        "#### Almost 800,000 shots are contained in this single GEDI sub-orbit granule! Below subset down to only the shots falling within this small bounding box encompassing Redwood National Park. `RedwoodNP` our `geopandas` geodataframe can be called for the \"envelope\" or smallest bounding box encompassing the entire region of interest. Here, use that as the bounding box for subsetting the GEDI shots."
      ]
    },
    {
      "cell_type": "code",
      "execution_count": null,
      "metadata": {
        "id": "_3zaQhXvTaiK"
      },
      "outputs": [],
      "source": [
        "QLD.envelope[0].bounds"
      ]
    },
    {
      "cell_type": "code",
      "execution_count": null,
      "metadata": {
        "id": "hAL7gQj5TaiK"
      },
      "outputs": [],
      "source": [
        "minLon, minLat, maxLon, maxLat = QLD.envelope[0].bounds  # Define the min/max lat/lon from the bounds of Redwood NP"
      ]
    },
    {
      "cell_type": "markdown",
      "metadata": {
        "id": "irtOVzgSTaiK"
      },
      "source": [
        "#### Filter by the bounding box, which is done similarly to filtering by quality in section 6.1 above."
      ]
    },
    {
      "cell_type": "code",
      "execution_count": null,
      "metadata": {
        "id": "ZVdCGWrzTaiK"
      },
      "outputs": [],
      "source": [
        "allDF = allDF.where(allDF['Latitude'] > minLat)\n",
        "allDF = allDF.where(allDF['Latitude'] < maxLat)\n",
        "allDF = allDF.where(allDF['Longitude'] > minLon)\n",
        "allDF = allDF.where(allDF['Longitude'] < maxLon)"
      ]
    },
    {
      "cell_type": "code",
      "execution_count": null,
      "metadata": {
        "id": "luLMKzI9TaiK"
      },
      "outputs": [],
      "source": [
        "allDF = allDF.dropna()  # Drop shots outside of the ROI"
      ]
    },
    {
      "cell_type": "code",
      "execution_count": null,
      "metadata": {
        "id": "BAZvJWb-TaiK"
      },
      "outputs": [],
      "source": [
        "len(allDF)"
      ]
    },
    {
      "cell_type": "markdown",
      "metadata": {
        "id": "kGGJhpF2TaiK"
      },
      "source": [
        "#### Notice you have drastically reduced the number of shots you are working with (which will greatly enhance your experience in plotting them below). But first, remove any poor quality shots that exist within the ROI."
      ]
    },
    {
      "cell_type": "code",
      "execution_count": null,
      "metadata": {
        "id": "B6GAEoZETaiK"
      },
      "outputs": [],
      "source": [
        "# Set any poor quality returns to NaN\n",
        "allDF = allDF.where(allDF['Quality Flag'].ne(0))\n",
        "allDF = allDF.where(allDF['Degrade Flag'] < 1)\n",
        "allDF = allDF.where(allDF['Sensitivity'] > 0.95)\n",
        "allDF = allDF.dropna()\n",
        "len(allDF)"
      ]
    },
    {
      "cell_type": "markdown",
      "metadata": {
        "id": "Op50DZoDTaiK"
      },
      "source": [
        "#### Down to roughly 2000 shots, next create a `Shapely` Point out of each shot and insert it as the geometry column in the [soon to be geo]dataframe."
      ]
    },
    {
      "cell_type": "code",
      "execution_count": null,
      "metadata": {
        "id": "c0hQLPxZTaiK"
      },
      "outputs": [],
      "source": [
        "# Take the lat/lon dataframe and convert each lat/lon to a shapely point\n",
        "allDF['geometry'] = allDF.apply(lambda row: Point(row.Longitude, row.Latitude), axis=1)"
      ]
    },
    {
      "cell_type": "code",
      "execution_count": null,
      "metadata": {
        "id": "tSpWCFvsTaiK"
      },
      "outputs": [],
      "source": [
        "# Convert to geodataframe\n",
        "allDF = gp.GeoDataFrame(allDF)\n",
        "allDF = allDF.drop(columns=['Latitude','Longitude'])"
      ]
    },
    {
      "cell_type": "markdown",
      "metadata": {
        "id": "kMy3TzIvTaiK"
      },
      "source": [
        "## 7.3 Visualize All Beams: Canopy Height, Elevation, and PAI"
      ]
    },
    {
      "cell_type": "markdown",
      "metadata": {
        "id": "GmSoj2X9TaiL"
      },
      "source": [
        "#### Now, using the `pointVisual` function defined in section 3.2, plot the `geopandas` GeoDataFrame using `geoviews`."
      ]
    },
    {
      "cell_type": "code",
      "execution_count": null,
      "metadata": {
        "id": "00Va_W7wTaiL"
      },
      "outputs": [],
      "source": [
        "m = leafmap.Map()\n",
        "m.zoom_to_bounds(bbox)\n",
        "m.add_basemap('HYBRID')\n",
        "m.add_gdf(QLD, layer_name=\"QPRP-CSIRO\", style={'fillColor': 'yellow', 'color': 'yellow', 'fillOpacity': 0.5})\n",
        "m.add_markers(allDF, shape=\"circle\", radius=2, color=\"red\", fill_color=\"red\", popup=[\"geometry\", \"Beam\", \"Shot Number\", \"Quality Flag\"])\n",
        "m.add_markers(gdf, shape=\"circle\", radius=4, color=\"blue\", fill_color=\"blue\", popup=[\"plot_name\"])\n",
        "m"
      ]
    },
    {
      "cell_type": "code",
      "execution_count": null,
      "metadata": {
        "id": "IgxKlSFKTaiL"
      },
      "outputs": [],
      "source": [
        "allDF['Shot Number'] = allDF['Shot Number'].astype(str)  # Convert shot number to string\n",
        "\n",
        "vdims = []\n",
        "for f in allDF:\n",
        "    if f not in ['geometry']:\n",
        "        vdims.append(f)\n",
        "\n",
        "visual = pointVisual(allDF, vdims = vdims)\n",
        "visual * gv.Polygons(QLD['geometry']).opts(line_color='red', color=None)"
      ]
    },
    {
      "cell_type": "markdown",
      "metadata": {
        "id": "zts6JIliTaiL"
      },
      "source": [
        "#### Feel free to pan and zoom in to the GEDI shots in yellow."
      ]
    },
    {
      "cell_type": "markdown",
      "metadata": {
        "id": "mgYtMfnaTaiL"
      },
      "source": [
        "### Now let's not only plot the points in the geodataframe but also add a colormap for Canopy Height (m), Elevation (m), and Plant Area Index (PAI)."
      ]
    },
    {
      "cell_type": "code",
      "execution_count": null,
      "metadata": {
        "id": "V7R23cSCTaiL",
        "scrolled": true
      },
      "outputs": [],
      "source": [
        "allDF['Canopy Height (rh100)'] = allDF['Canopy Height (rh100)'] / 100 # Convert canopy height from cm to m\n",
        "#Watch out: do not run this cell twice! As the allDF['Canopy Height (rh100)'] will be divided by 100 again."
      ]
    },
    {
      "cell_type": "code",
      "execution_count": null,
      "metadata": {
        "id": "JD7vIzbsTaiL"
      },
      "outputs": [],
      "source": [
        "# Plot the basemap and geoviews Points, defining the color as the Canopy Height for each shot\n",
        "(gvts.EsriImagery * gv.Points(allDF, vdims=vdims).options(color='Canopy Height (rh100)',cmap='plasma', size=3, tools=['hover'],\n",
        "                                                          clim=(0,70), colorbar=True, clabel='Meters',\n",
        "                                                          title='GEDI Canopy Height over Redwood National Park: June 19, 2019',\n",
        "                                                          fontsize={'xticks': 10, 'yticks': 10, 'xlabel':16, 'clabel':12,\n",
        "                                                                    'cticks':10,'title':16,'ylabel':16})).options(height=500,\n",
        "                                                                                                                  width=900)"
      ]
    },
    {
      "cell_type": "code",
      "execution_count": null,
      "metadata": {
        "id": "HGDXynMKTaiL"
      },
      "outputs": [],
      "source": [
        "m.zoom_to_bounds(bbox)\n",
        "m.add_basemap('HYBRID')\n",
        "m.add_gdf(QLD, layer_name=\"QPRP-CSIRO\", style={'fillColor': 'yellow', 'color': 'yellow', 'fillOpacity': 0.2})\n",
        "m.add_markers(gdf, shape=\"circle\", radius=4, color=\"blue\", fill_color=\"blue\", popup=[\"plot_name\"])\n",
        "m.add_data(allDF, column=\"Canopy Height (rh100)\", cmap=\"plasma\", marker_radius=2, layer_name=\"Canopy Height (rh100)\")\n",
        "m"
      ]
    },
    {
      "cell_type": "markdown",
      "metadata": {
        "id": "-i_xKAwTTaiL"
      },
      "source": [
        "#### Next, take a look at the GEDI-derived elevation over the shots. Notice below that the colormap is changed to 'terrain'."
      ]
    },
    {
      "cell_type": "code",
      "execution_count": null,
      "metadata": {
        "id": "G1qANDJMTaiL"
      },
      "outputs": [],
      "source": [
        "(gvts.EsriImagery * gv.Points(allDF, vdims=vdims).options(color='Elevation (m)',cmap='terrain', size=3, tools=['hover'],\n",
        "                                                          clim=(min(allDF['Elevation (m)']), max(allDF['Elevation (m)'])),\n",
        "                                                          colorbar=True, clabel='Meters',\n",
        "                                                          title='GEDI Elevation over Redwood National Park: June 19, 2019',\n",
        "                                                          fontsize={'xticks': 10, 'yticks': 10, 'xlabel':16, 'clabel':12,\n",
        "                                                                    'cticks':10,'title':16,'ylabel':16})).options(height=500,\n",
        "                                                                                                                  width=900)"
      ]
    },
    {
      "cell_type": "code",
      "execution_count": null,
      "metadata": {
        "id": "s5S5170sTaiL"
      },
      "outputs": [],
      "source": [
        "m = leafmap.Map()\n",
        "m.zoom_to_bounds(bbox)\n",
        "m.add_basemap('HYBRID')\n",
        "m.add_gdf(QLD, layer_name=\"QPRP-CSIRO\", style={'fillColor': 'yellow', 'color': 'yellow', 'fillOpacity': 0.2})\n",
        "m.add_markers(gdf, shape=\"circle\", radius=4, color=\"blue\", fill_color=\"blue\", popup=[\"plot_name\"])\n",
        "m.add_data(allDF, column=\"Elevation (m)\", cmap=\"terrain\", marker_radius=2, layer_name=\"GEDI Elevation\")\n",
        "m"
      ]
    },
    {
      "cell_type": "markdown",
      "metadata": {
        "id": "mwI3TTHVTaiL"
      },
      "source": [
        "#### Last but certainly not least, `Plant Area Index`:"
      ]
    },
    {
      "cell_type": "code",
      "execution_count": null,
      "metadata": {
        "id": "qMMVPSfUTaiL"
      },
      "outputs": [],
      "source": [
        "(gvts.EsriImagery * gv.Points(allDF, vdims=vdims).options(color='Plant Area Index',cmap='Greens', size=3, tools=['hover'],\n",
        "                                                          clim=(0,1), colorbar=True, clabel='m2/m2',\n",
        "                                                          title='GEDI PAI over Redwood National Park: June 19, 2019',\n",
        "                                                          fontsize={'xticks': 10, 'yticks': 10, 'xlabel':16, 'clabel':12,\n",
        "                                                                    'cticks':10,'title':16,'ylabel':16})).options(height=500,\n",
        "                                                                                                                  width=900)"
      ]
    },
    {
      "cell_type": "code",
      "execution_count": null,
      "metadata": {
        "id": "PNK07iWhTaiL"
      },
      "outputs": [],
      "source": [
        "m = leafmap.Map()\n",
        "m.zoom_to_bounds(bbox)\n",
        "m.add_basemap('HYBRID')\n",
        "m.add_gdf(QLD, layer_name=\"QPRP-CSIRO\", style={'fillColor': 'yellow', 'color': 'yellow', 'fillOpacity': 0.2})\n",
        "m.add_markers(gdf, shape=\"circle\", radius=4, color=\"blue\", fill_color=\"blue\", popup=[\"plot_name\"])\n",
        "m.add_data(allDF, column=\"Plant Area Index\", cmap=\"Greens\", marker_radius=2, layer_name=\"GEDI PAI over Queensland\")\n",
        "m"
      ]
    },
    {
      "cell_type": "markdown",
      "metadata": {
        "id": "ffPr_xgdTaiL"
      },
      "source": [
        "### Success! You have now learned how to start working with GEDI L2B files in Python as well as some interesting strategies for visualizing those data in order to better understand your specific region of interest. Using this Jupyter Notebook as a workflow, you should now be able to switch to GEDI files over your specific region of interest and re-run the notebook. Good Luck!"
      ]
    },
    {
      "cell_type": "markdown",
      "metadata": {
        "id": "eYG-RZ1qTaiL"
      },
      "source": [
        "\n",
        "# 8. Export Subsets as GeoJSON Files<a id=\"exportgeojson\"></a>\n",
        "#### In this section, export the GeoDataFrame as a `.geojson` file that can be easily opened in your favorite remote sensing and/or GIS software and will include an attribute table with all of the shots/values for each of the SDS layers in the dataframe."
      ]
    },
    {
      "cell_type": "code",
      "execution_count": null,
      "metadata": {
        "id": "m0EjJcd-TaiM"
      },
      "outputs": [],
      "source": [
        "gediL2B.filename  # L2B Filename"
      ]
    },
    {
      "cell_type": "code",
      "execution_count": null,
      "metadata": {
        "id": "MwzYXo0QTaiM"
      },
      "outputs": [],
      "source": [
        "outName = gediL2B.filename.replace('.h5', '.json')  # Create an output file name using the input file name\n",
        "outName"
      ]
    },
    {
      "cell_type": "code",
      "execution_count": null,
      "metadata": {
        "id": "XrS3rDxfTaiM"
      },
      "outputs": [],
      "source": [
        "allDF.to_file(outName, driver='GeoJSON')  # Export to GeoJSON"
      ]
    },
    {
      "cell_type": "code",
      "execution_count": null,
      "metadata": {
        "id": "Cgl-1nIUTaiM"
      },
      "outputs": [],
      "source": [
        "del allDF"
      ]
    },
    {
      "cell_type": "markdown",
      "metadata": {
        "id": "xfTDrkBPTaiM"
      },
      "source": [
        "\n",
        "## Contact Info:  \n",
        "\n",
        "Email: LPDAAC@usgs.gov  \n",
        "Voice: +1-866-573-3222  \n",
        "Organization: Land Processes Distributed Active Archive Center (LP DAAC)¹  \n",
        "Website: <https://lpdaac.usgs.gov/>  \n",
        "Date last modified: 02-20-2024  \n",
        "\n",
        "¹Work performed under USGS contract G15PD00467 for NASA contract NNG14HH33I.  "
      ]
    }
  ],
  "metadata": {
    "colab": {
      "include_colab_link": true,
      "provenance": []
    },
    "kernelspec": {
      "display_name": ".venv",
      "language": "python",
      "name": "python3"
    },
    "language_info": {
      "codemirror_mode": {
        "name": "ipython",
        "version": 3
      },
      "file_extension": ".py",
      "mimetype": "text/x-python",
      "name": "python",
      "nbconvert_exporter": "python",
      "pygments_lexer": "ipython3",
      "version": "3.11.4"
    },
    "widgets": {
      "application/vnd.jupyter.widget-state+json": {
        "0071f7da2df944659c4c819ee2d80aee": {
          "model_module": "@jupyter-widgets/base",
          "model_module_version": "1.2.0",
          "model_name": "LayoutModel",
          "state": {
            "_model_module": "@jupyter-widgets/base",
            "_model_module_version": "1.2.0",
            "_model_name": "LayoutModel",
            "_view_count": null,
            "_view_module": "@jupyter-widgets/base",
            "_view_module_version": "1.2.0",
            "_view_name": "LayoutView",
            "align_content": null,
            "align_items": null,
            "align_self": null,
            "border": null,
            "bottom": null,
            "display": null,
            "flex": null,
            "flex_flow": null,
            "grid_area": null,
            "grid_auto_columns": null,
            "grid_auto_flow": null,
            "grid_auto_rows": null,
            "grid_column": null,
            "grid_gap": null,
            "grid_row": null,
            "grid_template_areas": null,
            "grid_template_columns": null,
            "grid_template_rows": null,
            "height": null,
            "justify_content": null,
            "justify_items": null,
            "left": null,
            "margin": null,
            "max_height": null,
            "max_width": null,
            "min_height": null,
            "min_width": null,
            "object_fit": null,
            "object_position": null,
            "order": null,
            "overflow": null,
            "overflow_x": null,
            "overflow_y": null,
            "padding": null,
            "right": null,
            "top": null,
            "visibility": null,
            "width": null
          }
        },
        "08229369f52448178dfd6b542a51f9cb": {
          "model_module": "jupyter-leaflet",
          "model_module_version": "^0.19",
          "model_name": "LeafletTileLayerModel",
          "state": {
            "_model_module": "jupyter-leaflet",
            "_model_module_version": "^0.19",
            "_model_name": "LeafletTileLayerModel",
            "_view_count": null,
            "_view_module": "jupyter-leaflet",
            "_view_module_version": "^0.19",
            "_view_name": "LeafletTileLayerView",
            "attribution": "&copy; <a href=\"https://www.openstreetmap.org/copyright\">OpenStreetMap</a> contributors",
            "base": true,
            "bottom": true,
            "bounds": null,
            "detect_retina": false,
            "loading": false,
            "max_native_zoom": null,
            "max_zoom": 19,
            "min_native_zoom": null,
            "min_zoom": 1,
            "name": "OpenStreetMap",
            "no_wrap": false,
            "opacity": 1,
            "options": [
              "attribution",
              "bounds",
              "detect_retina",
              "max_native_zoom",
              "max_zoom",
              "min_native_zoom",
              "min_zoom",
              "no_wrap",
              "tile_size",
              "tms",
              "zoom_offset"
            ],
            "pane": "",
            "popup": null,
            "popup_max_height": null,
            "popup_max_width": 300,
            "popup_min_width": 50,
            "show_loading": false,
            "subitems": [],
            "tile_size": 256,
            "tms": false,
            "url": "https://tile.openstreetmap.org/{z}/{x}/{y}.png",
            "visible": true,
            "zoom_offset": 0
          }
        },
        "0b1c19f1038e4027bd254bbdfbca294e": {
          "model_module": "@jupyter-widgets/controls",
          "model_module_version": "1.5.0",
          "model_name": "CheckboxModel",
          "state": {
            "_dom_classes": [],
            "_model_module": "@jupyter-widgets/controls",
            "_model_module_version": "1.5.0",
            "_model_name": "CheckboxModel",
            "_view_count": null,
            "_view_module": "@jupyter-widgets/controls",
            "_view_module_version": "1.5.0",
            "_view_name": "CheckboxView",
            "description": "OpenStreetMap",
            "description_tooltip": null,
            "disabled": false,
            "indent": false,
            "layout": "IPY_MODEL_179472626e1249b0bf4d6a6f1f9492cf",
            "style": "IPY_MODEL_38f354c7e74e4652b7253ea8a8022303",
            "value": true
          }
        },
        "0bd12d10a6124312a84ab3d901ae846e": {
          "model_module": "@jupyter-widgets/base",
          "model_module_version": "1.2.0",
          "model_name": "LayoutModel",
          "state": {
            "_model_module": "@jupyter-widgets/base",
            "_model_module_version": "1.2.0",
            "_model_name": "LayoutModel",
            "_view_count": null,
            "_view_module": "@jupyter-widgets/base",
            "_view_module_version": "1.2.0",
            "_view_name": "LayoutView",
            "align_content": null,
            "align_items": null,
            "align_self": null,
            "border": null,
            "bottom": null,
            "display": null,
            "flex": null,
            "flex_flow": null,
            "grid_area": null,
            "grid_auto_columns": null,
            "grid_auto_flow": null,
            "grid_auto_rows": null,
            "grid_column": null,
            "grid_gap": null,
            "grid_row": null,
            "grid_template_areas": null,
            "grid_template_columns": null,
            "grid_template_rows": null,
            "height": "600px",
            "justify_content": null,
            "justify_items": null,
            "left": null,
            "margin": null,
            "max_height": null,
            "max_width": null,
            "min_height": null,
            "min_width": null,
            "object_fit": null,
            "object_position": null,
            "order": null,
            "overflow": null,
            "overflow_x": null,
            "overflow_y": null,
            "padding": null,
            "right": null,
            "top": null,
            "visibility": null,
            "width": null
          }
        },
        "0cf6b249ee5f4d6c9a46ef1fe2e54a03": {
          "model_module": "@jupyter-widgets/controls",
          "model_module_version": "1.5.0",
          "model_name": "ProgressStyleModel",
          "state": {
            "_model_module": "@jupyter-widgets/controls",
            "_model_module_version": "1.5.0",
            "_model_name": "ProgressStyleModel",
            "_view_count": null,
            "_view_module": "@jupyter-widgets/base",
            "_view_module_version": "1.2.0",
            "_view_name": "StyleView",
            "bar_color": null,
            "description_width": ""
          }
        },
        "0d2bfbe36279441fb03a4f8e469adc01": {
          "model_module": "@jupyter-widgets/controls",
          "model_module_version": "1.5.0",
          "model_name": "DescriptionStyleModel",
          "state": {
            "_model_module": "@jupyter-widgets/controls",
            "_model_module_version": "1.5.0",
            "_model_name": "DescriptionStyleModel",
            "_view_count": null,
            "_view_module": "@jupyter-widgets/base",
            "_view_module_version": "1.2.0",
            "_view_name": "StyleView",
            "description_width": ""
          }
        },
        "0e9261dfaccb4e63b1d5ccf56501fc01": {
          "model_module": "@jupyter-widgets/controls",
          "model_module_version": "1.5.0",
          "model_name": "DescriptionStyleModel",
          "state": {
            "_model_module": "@jupyter-widgets/controls",
            "_model_module_version": "1.5.0",
            "_model_name": "DescriptionStyleModel",
            "_view_count": null,
            "_view_module": "@jupyter-widgets/base",
            "_view_module_version": "1.2.0",
            "_view_name": "StyleView",
            "description_width": ""
          }
        },
        "0fdef225fff14c4cb3524639a82f4e98": {
          "model_module": "jupyter-leaflet",
          "model_module_version": "^0.19",
          "model_name": "LeafletDrawControlModel",
          "state": {
            "_model_module": "jupyter-leaflet",
            "_model_module_version": "^0.19",
            "_model_name": "LeafletDrawControlModel",
            "_view_count": null,
            "_view_module": "jupyter-leaflet",
            "_view_module_version": "^0.19",
            "_view_name": "LeafletDrawControlView",
            "circle": {
              "repeatMode": false,
              "shapeOptions": {
                "color": "#3388ff"
              }
            },
            "circlemarker": {},
            "data": [],
            "edit": true,
            "marker": {
              "repeatMode": false,
              "shapeOptions": {
                "color": "#3388ff"
              }
            },
            "options": [
              "position"
            ],
            "polygon": {
              "repeatMode": false
            },
            "polyline": {
              "repeatMode": false
            },
            "position": "topleft",
            "rectangle": {
              "repeatMode": false,
              "shapeOptions": {
                "color": "#3388ff"
              }
            },
            "remove": true
          }
        },
        "11850d8be0f041f1beeeb61db3b5223e": {
          "model_module": "jupyter-leaflet",
          "model_module_version": "^0.19",
          "model_name": "LeafletTileLayerModel",
          "state": {
            "_model_module": "jupyter-leaflet",
            "_model_module_version": "^0.19",
            "_model_name": "LeafletTileLayerModel",
            "_view_count": null,
            "_view_module": "jupyter-leaflet",
            "_view_module_version": "^0.19",
            "_view_name": "LeafletTileLayerView",
            "attribution": "&copy; <a href=\"https://www.openstreetmap.org/copyright\">OpenStreetMap</a> contributors",
            "base": true,
            "bottom": true,
            "bounds": null,
            "detect_retina": false,
            "loading": false,
            "max_native_zoom": null,
            "max_zoom": 19,
            "min_native_zoom": null,
            "min_zoom": 1,
            "name": "OpenStreetMap",
            "no_wrap": false,
            "opacity": 1,
            "options": [
              "attribution",
              "bounds",
              "detect_retina",
              "max_native_zoom",
              "max_zoom",
              "min_native_zoom",
              "min_zoom",
              "no_wrap",
              "tile_size",
              "tms",
              "zoom_offset"
            ],
            "pane": "",
            "popup": null,
            "popup_max_height": null,
            "popup_max_width": 300,
            "popup_min_width": 50,
            "show_loading": false,
            "subitems": [],
            "tile_size": 256,
            "tms": false,
            "url": "https://tile.openstreetmap.org/{z}/{x}/{y}.png",
            "visible": true,
            "zoom_offset": 0
          }
        },
        "144e1aaedd754e03b54b0d1b4ba7ecfd": {
          "model_module": "@jupyter-widgets/controls",
          "model_module_version": "1.5.0",
          "model_name": "CheckboxModel",
          "state": {
            "_dom_classes": [],
            "_model_module": "@jupyter-widgets/controls",
            "_model_module_version": "1.5.0",
            "_model_name": "CheckboxModel",
            "_view_count": null,
            "_view_module": "@jupyter-widgets/controls",
            "_view_module_version": "1.5.0",
            "_view_name": "CheckboxView",
            "description": "OpenStreetMap.Mapnik",
            "description_tooltip": null,
            "disabled": false,
            "indent": false,
            "layout": "IPY_MODEL_8dd095e2e77141409dd6da2671ddc378",
            "style": "IPY_MODEL_57f826ff1d394dccb206426876a87574",
            "value": true
          }
        },
        "1622619b517040dd9282317fd425976c": {
          "model_module": "jupyter-leaflet",
          "model_module_version": "^0.19",
          "model_name": "LeafletTileLayerModel",
          "state": {
            "_model_module": "jupyter-leaflet",
            "_model_module_version": "^0.19",
            "_model_name": "LeafletTileLayerModel",
            "_view_count": null,
            "_view_module": "jupyter-leaflet",
            "_view_module_version": "^0.19",
            "_view_name": "LeafletTileLayerView",
            "attribution": "Google",
            "base": false,
            "bottom": true,
            "bounds": null,
            "detect_retina": false,
            "loading": false,
            "max_native_zoom": null,
            "max_zoom": 24,
            "min_native_zoom": null,
            "min_zoom": 0,
            "name": "Google Hybrid",
            "no_wrap": false,
            "opacity": 1,
            "options": [
              "attribution",
              "bounds",
              "detect_retina",
              "max_native_zoom",
              "max_zoom",
              "min_native_zoom",
              "min_zoom",
              "no_wrap",
              "tile_size",
              "tms",
              "zoom_offset"
            ],
            "pane": "",
            "popup": null,
            "popup_max_height": null,
            "popup_max_width": 300,
            "popup_min_width": 50,
            "show_loading": false,
            "subitems": [],
            "tile_size": 256,
            "tms": false,
            "url": "https://mt1.google.com/vt/lyrs=y&x={x}&y={y}&z={z}&key=YOUR-API-KEY",
            "visible": true,
            "zoom_offset": 0
          }
        },
        "179472626e1249b0bf4d6a6f1f9492cf": {
          "model_module": "@jupyter-widgets/base",
          "model_module_version": "1.2.0",
          "model_name": "LayoutModel",
          "state": {
            "_model_module": "@jupyter-widgets/base",
            "_model_module_version": "1.2.0",
            "_model_name": "LayoutModel",
            "_view_count": null,
            "_view_module": "@jupyter-widgets/base",
            "_view_module_version": "1.2.0",
            "_view_name": "LayoutView",
            "align_content": null,
            "align_items": null,
            "align_self": null,
            "border": null,
            "bottom": null,
            "display": null,
            "flex": null,
            "flex_flow": null,
            "grid_area": null,
            "grid_auto_columns": null,
            "grid_auto_flow": null,
            "grid_auto_rows": null,
            "grid_column": null,
            "grid_gap": null,
            "grid_row": null,
            "grid_template_areas": null,
            "grid_template_columns": null,
            "grid_template_rows": null,
            "height": "18px",
            "justify_content": null,
            "justify_items": null,
            "left": null,
            "margin": null,
            "max_height": null,
            "max_width": null,
            "min_height": null,
            "min_width": null,
            "object_fit": null,
            "object_position": null,
            "order": null,
            "overflow": null,
            "overflow_x": null,
            "overflow_y": null,
            "padding": null,
            "right": null,
            "top": null,
            "visibility": null,
            "width": "25ex"
          }
        },
        "1802764f4fa443758934a818ca6ef284": {
          "model_module": "@jupyter-widgets/base",
          "model_module_version": "1.2.0",
          "model_name": "LayoutModel",
          "state": {
            "_model_module": "@jupyter-widgets/base",
            "_model_module_version": "1.2.0",
            "_model_name": "LayoutModel",
            "_view_count": null,
            "_view_module": "@jupyter-widgets/base",
            "_view_module_version": "1.2.0",
            "_view_name": "LayoutView",
            "align_content": null,
            "align_items": null,
            "align_self": null,
            "border": null,
            "bottom": null,
            "display": null,
            "flex": null,
            "flex_flow": null,
            "grid_area": null,
            "grid_auto_columns": null,
            "grid_auto_flow": null,
            "grid_auto_rows": null,
            "grid_column": null,
            "grid_gap": null,
            "grid_row": null,
            "grid_template_areas": null,
            "grid_template_columns": null,
            "grid_template_rows": null,
            "height": "28px",
            "justify_content": null,
            "justify_items": null,
            "left": null,
            "margin": null,
            "max_height": null,
            "max_width": null,
            "min_height": null,
            "min_width": null,
            "object_fit": null,
            "object_position": null,
            "order": null,
            "overflow": null,
            "overflow_x": null,
            "overflow_y": null,
            "padding": "0px 0px 0px 4px",
            "right": null,
            "top": null,
            "visibility": null,
            "width": "28px"
          }
        },
        "187e9908627e4c8c8ed679fac6cc3d2c": {
          "model_module": "@jupyter-widgets/controls",
          "model_module_version": "1.5.0",
          "model_name": "FloatProgressModel",
          "state": {
            "_dom_classes": [],
            "_model_module": "@jupyter-widgets/controls",
            "_model_module_version": "1.5.0",
            "_model_name": "FloatProgressModel",
            "_view_count": null,
            "_view_module": "@jupyter-widgets/controls",
            "_view_module_version": "1.5.0",
            "_view_name": "ProgressView",
            "bar_style": "success",
            "description": "",
            "description_tooltip": null,
            "layout": "IPY_MODEL_0071f7da2df944659c4c819ee2d80aee",
            "max": 1,
            "min": 0,
            "orientation": "horizontal",
            "style": "IPY_MODEL_7f1b53f4bb674e36bdc967860efc9dee",
            "value": 1
          }
        },
        "1d5c6ed59b1c42cb98ebd4a748a4473e": {
          "model_module": "@jupyter-widgets/controls",
          "model_module_version": "1.5.0",
          "model_name": "DescriptionStyleModel",
          "state": {
            "_model_module": "@jupyter-widgets/controls",
            "_model_module_version": "1.5.0",
            "_model_name": "DescriptionStyleModel",
            "_view_count": null,
            "_view_module": "@jupyter-widgets/base",
            "_view_module_version": "1.2.0",
            "_view_name": "StyleView",
            "description_width": ""
          }
        },
        "1e887fdde4694c5fb5ad2039b5fdf345": {
          "model_module": "@jupyter-widgets/controls",
          "model_module_version": "1.5.0",
          "model_name": "ToggleButtonModel",
          "state": {
            "_dom_classes": [],
            "_model_module": "@jupyter-widgets/controls",
            "_model_module_version": "1.5.0",
            "_model_name": "ToggleButtonModel",
            "_view_count": null,
            "_view_module": "@jupyter-widgets/controls",
            "_view_module_version": "1.5.0",
            "_view_name": "ToggleButtonView",
            "button_style": "",
            "description": "",
            "description_tooltip": null,
            "disabled": false,
            "icon": "times",
            "layout": "IPY_MODEL_1802764f4fa443758934a818ca6ef284",
            "style": "IPY_MODEL_2abf3d88054843bb9e1a263536d59edc",
            "tooltip": "Close the tool",
            "value": false
          }
        },
        "220ca28f6df94662a2b2b000b5ab134d": {
          "model_module": "jupyter-leaflet",
          "model_module_version": "^0.19",
          "model_name": "LeafletMapStyleModel",
          "state": {
            "_model_module": "jupyter-leaflet",
            "_model_module_version": "^0.19",
            "_model_name": "LeafletMapStyleModel",
            "_view_count": null,
            "_view_module": "@jupyter-widgets/base",
            "_view_module_version": "1.2.0",
            "_view_name": "StyleView",
            "cursor": "grab"
          }
        },
        "26a38b9a7d1f4b478bb8149d0675806c": {
          "model_module": "@jupyter-widgets/base",
          "model_module_version": "1.2.0",
          "model_name": "LayoutModel",
          "state": {
            "_model_module": "@jupyter-widgets/base",
            "_model_module_version": "1.2.0",
            "_model_name": "LayoutModel",
            "_view_count": null,
            "_view_module": "@jupyter-widgets/base",
            "_view_module_version": "1.2.0",
            "_view_name": "LayoutView",
            "align_content": null,
            "align_items": null,
            "align_self": null,
            "border": null,
            "bottom": null,
            "display": null,
            "flex": null,
            "flex_flow": null,
            "grid_area": null,
            "grid_auto_columns": null,
            "grid_auto_flow": null,
            "grid_auto_rows": null,
            "grid_column": null,
            "grid_gap": null,
            "grid_row": null,
            "grid_template_areas": null,
            "grid_template_columns": null,
            "grid_template_rows": null,
            "height": "28px",
            "justify_content": null,
            "justify_items": null,
            "left": null,
            "margin": null,
            "max_height": null,
            "max_width": null,
            "min_height": null,
            "min_width": null,
            "object_fit": null,
            "object_position": null,
            "order": null,
            "overflow": null,
            "overflow_x": null,
            "overflow_y": null,
            "padding": "0px 0px 0px 4px",
            "right": null,
            "top": null,
            "visibility": null,
            "width": "28px"
          }
        },
        "28dab910aedb43f2ad247caac14611ff": {
          "model_module": "@jupyter-widgets/base",
          "model_module_version": "1.2.0",
          "model_name": "LayoutModel",
          "state": {
            "_model_module": "@jupyter-widgets/base",
            "_model_module_version": "1.2.0",
            "_model_name": "LayoutModel",
            "_view_count": null,
            "_view_module": "@jupyter-widgets/base",
            "_view_module_version": "1.2.0",
            "_view_name": "LayoutView",
            "align_content": null,
            "align_items": null,
            "align_self": null,
            "border": null,
            "bottom": null,
            "display": null,
            "flex": null,
            "flex_flow": null,
            "grid_area": null,
            "grid_auto_columns": null,
            "grid_auto_flow": null,
            "grid_auto_rows": null,
            "grid_column": null,
            "grid_gap": null,
            "grid_row": null,
            "grid_template_areas": null,
            "grid_template_columns": null,
            "grid_template_rows": null,
            "height": null,
            "justify_content": null,
            "justify_items": null,
            "left": null,
            "margin": null,
            "max_height": null,
            "max_width": null,
            "min_height": null,
            "min_width": null,
            "object_fit": null,
            "object_position": null,
            "order": null,
            "overflow": null,
            "overflow_x": null,
            "overflow_y": null,
            "padding": null,
            "right": null,
            "top": null,
            "visibility": null,
            "width": null
          }
        },
        "2abf3d88054843bb9e1a263536d59edc": {
          "model_module": "@jupyter-widgets/controls",
          "model_module_version": "1.5.0",
          "model_name": "DescriptionStyleModel",
          "state": {
            "_model_module": "@jupyter-widgets/controls",
            "_model_module_version": "1.5.0",
            "_model_name": "DescriptionStyleModel",
            "_view_count": null,
            "_view_module": "@jupyter-widgets/base",
            "_view_module_version": "1.2.0",
            "_view_name": "StyleView",
            "description_width": ""
          }
        },
        "2b860256902b418c89293b65aef00a0e": {
          "model_module": "jupyter-leaflet",
          "model_module_version": "^0.19",
          "model_name": "LeafletWidgetControlModel",
          "state": {
            "_model_module": "jupyter-leaflet",
            "_model_module_version": "^0.19",
            "_model_name": "LeafletWidgetControlModel",
            "_view_count": null,
            "_view_module": "jupyter-leaflet",
            "_view_module_version": "^0.19",
            "_view_name": "LeafletWidgetControlView",
            "max_height": null,
            "max_width": null,
            "min_height": null,
            "min_width": null,
            "options": [
              "position",
              "transparent_bg"
            ],
            "position": "topright",
            "transparent_bg": false,
            "widget": "IPY_MODEL_5af5b68c26b343af81b72ac32d3164d3"
          }
        },
        "2bf96751cd414c279579129d49e77292": {
          "model_module": "jupyter-leaflet",
          "model_module_version": "^0.19",
          "model_name": "LeafletAttributionControlModel",
          "state": {
            "_model_module": "jupyter-leaflet",
            "_model_module_version": "^0.19",
            "_model_name": "LeafletAttributionControlModel",
            "_view_count": null,
            "_view_module": "jupyter-leaflet",
            "_view_module_version": "^0.19",
            "_view_name": "LeafletAttributionControlView",
            "options": [
              "position",
              "prefix"
            ],
            "position": "bottomright",
            "prefix": "ipyleaflet"
          }
        },
        "2e65f9c12c074642a332a35790101170": {
          "model_module": "jupyter-leaflet",
          "model_module_version": "^0.19",
          "model_name": "LeafletMapModel",
          "state": {
            "_dom_classes": [],
            "_model_module": "jupyter-leaflet",
            "_model_module_version": "^0.19",
            "_model_name": "LeafletMapModel",
            "_view_count": null,
            "_view_module": "jupyter-leaflet",
            "_view_module_version": "^0.19",
            "_view_name": "LeafletMapView",
            "bottom": 754,
            "bounce_at_zoom_limits": true,
            "box_zoom": true,
            "center": [
              20,
              0
            ],
            "close_popup_on_click": true,
            "controls": [
              "IPY_MODEL_d68cb7f3d5394ef8a5332d637244ea44",
              "IPY_MODEL_2bf96751cd414c279579129d49e77292",
              "IPY_MODEL_3ecfe426086b4a7989ef7bd9ba20f034",
              "IPY_MODEL_0fdef225fff14c4cb3524639a82f4e98",
              "IPY_MODEL_4d7d50b12ba740d7903f8665ac7b5cda",
              "IPY_MODEL_2b860256902b418c89293b65aef00a0e",
              "IPY_MODEL_804bc8f4e64c4f1eb59734d834d3a274"
            ],
            "crs": {
              "custom": false,
              "name": "EPSG3857"
            },
            "default_style": "IPY_MODEL_220ca28f6df94662a2b2b000b5ab134d",
            "double_click_zoom": true,
            "dragging": true,
            "dragging_style": "IPY_MODEL_a9b8581b70cd4642b4228da352098daf",
            "east": 116.3671875,
            "fullscreen": false,
            "inertia": true,
            "inertia_deceleration": 3000,
            "inertia_max_speed": 1500,
            "interpolation": "bilinear",
            "keyboard": true,
            "keyboard_pan_offset": 80,
            "keyboard_zoom_offset": 1,
            "layers": [
              "IPY_MODEL_11850d8be0f041f1beeeb61db3b5223e",
              "IPY_MODEL_7fade1f3d2134d04a60be2cc92298715"
            ],
            "layout": "IPY_MODEL_0bd12d10a6124312a84ab3d901ae846e",
            "left": 182,
            "max_zoom": 24,
            "min_zoom": null,
            "modisdate": "2025-01-29",
            "north": 77.31251993823143,
            "options": [
              "bounce_at_zoom_limits",
              "box_zoom",
              "center",
              "close_popup_on_click",
              "double_click_zoom",
              "dragging",
              "fullscreen",
              "inertia",
              "inertia_deceleration",
              "inertia_max_speed",
              "interpolation",
              "keyboard",
              "keyboard_pan_offset",
              "keyboard_zoom_offset",
              "max_zoom",
              "min_zoom",
              "prefer_canvas",
              "scroll_wheel_zoom",
              "tap",
              "tap_tolerance",
              "touch_zoom",
              "world_copy_jump",
              "zoom",
              "zoom_animation_threshold",
              "zoom_delta",
              "zoom_snap"
            ],
            "panes": {},
            "prefer_canvas": false,
            "right": 843,
            "scroll_wheel_zoom": true,
            "south": -64.47279382008165,
            "style": "IPY_MODEL_b5ec80ad2410471884b049cf7caad06c",
            "tap": true,
            "tap_tolerance": 15,
            "top": 154,
            "touch_zoom": true,
            "west": -116.01562500000001,
            "window_url": "https://vnpjo712b4-496ff2e9c6d22116-0-colab.googleusercontent.com/outputframe.html?vrz=colab_20250128-060149_RC00_720506466",
            "world_copy_jump": false,
            "zoom": 2,
            "zoom_animation_threshold": 4,
            "zoom_delta": 1,
            "zoom_snap": 1
          }
        },
        "317fdd3868d24fa2a93ab2a7db4eed97": {
          "model_module": "@jupyter-widgets/base",
          "model_module_version": "1.2.0",
          "model_name": "LayoutModel",
          "state": {
            "_model_module": "@jupyter-widgets/base",
            "_model_module_version": "1.2.0",
            "_model_name": "LayoutModel",
            "_view_count": null,
            "_view_module": "@jupyter-widgets/base",
            "_view_module_version": "1.2.0",
            "_view_name": "LayoutView",
            "align_content": null,
            "align_items": null,
            "align_self": null,
            "border": null,
            "bottom": null,
            "display": null,
            "flex": null,
            "flex_flow": null,
            "grid_area": null,
            "grid_auto_columns": null,
            "grid_auto_flow": null,
            "grid_auto_rows": null,
            "grid_column": null,
            "grid_gap": null,
            "grid_row": null,
            "grid_template_areas": null,
            "grid_template_columns": null,
            "grid_template_rows": null,
            "height": null,
            "justify_content": null,
            "justify_items": null,
            "left": null,
            "margin": null,
            "max_height": null,
            "max_width": null,
            "min_height": null,
            "min_width": null,
            "object_fit": null,
            "object_position": null,
            "order": null,
            "overflow": null,
            "overflow_x": null,
            "overflow_y": null,
            "padding": null,
            "right": null,
            "top": null,
            "visibility": null,
            "width": null
          }
        },
        "359ac21f615346ba9cd351bdaeb6bbda": {
          "model_module": "@jupyter-widgets/controls",
          "model_module_version": "1.5.0",
          "model_name": "DescriptionStyleModel",
          "state": {
            "_model_module": "@jupyter-widgets/controls",
            "_model_module_version": "1.5.0",
            "_model_name": "DescriptionStyleModel",
            "_view_count": null,
            "_view_module": "@jupyter-widgets/base",
            "_view_module_version": "1.2.0",
            "_view_name": "StyleView",
            "description_width": ""
          }
        },
        "3783bd9906c44a70872027698f8e7000": {
          "model_module": "@jupyter-widgets/base",
          "model_module_version": "1.2.0",
          "model_name": "LayoutModel",
          "state": {
            "_model_module": "@jupyter-widgets/base",
            "_model_module_version": "1.2.0",
            "_model_name": "LayoutModel",
            "_view_count": null,
            "_view_module": "@jupyter-widgets/base",
            "_view_module_version": "1.2.0",
            "_view_name": "LayoutView",
            "align_content": null,
            "align_items": null,
            "align_self": null,
            "border": null,
            "bottom": null,
            "display": null,
            "flex": null,
            "flex_flow": null,
            "grid_area": null,
            "grid_auto_columns": null,
            "grid_auto_flow": null,
            "grid_auto_rows": null,
            "grid_column": null,
            "grid_gap": null,
            "grid_row": null,
            "grid_template_areas": null,
            "grid_template_columns": null,
            "grid_template_rows": null,
            "height": null,
            "justify_content": null,
            "justify_items": null,
            "left": null,
            "margin": null,
            "max_height": null,
            "max_width": null,
            "min_height": null,
            "min_width": null,
            "object_fit": null,
            "object_position": null,
            "order": null,
            "overflow": null,
            "overflow_x": null,
            "overflow_y": null,
            "padding": null,
            "right": null,
            "top": null,
            "visibility": null,
            "width": null
          }
        },
        "37a3e4a02bd049dd92275fe0e83a4e42": {
          "model_module": "@jupyter-widgets/controls",
          "model_module_version": "1.5.0",
          "model_name": "HTMLModel",
          "state": {
            "_dom_classes": [],
            "_model_module": "@jupyter-widgets/controls",
            "_model_module_version": "1.5.0",
            "_model_name": "HTMLModel",
            "_view_count": null,
            "_view_module": "@jupyter-widgets/controls",
            "_view_module_version": "1.5.0",
            "_view_name": "HTMLView",
            "description": "",
            "description_tooltip": null,
            "layout": "IPY_MODEL_9bd1a2aafb304c35850641d6762fde09",
            "placeholder": "​",
            "style": "IPY_MODEL_0e9261dfaccb4e63b1d5ccf56501fc01",
            "value": ""
          }
        },
        "38f354c7e74e4652b7253ea8a8022303": {
          "model_module": "@jupyter-widgets/controls",
          "model_module_version": "1.5.0",
          "model_name": "DescriptionStyleModel",
          "state": {
            "_model_module": "@jupyter-widgets/controls",
            "_model_module_version": "1.5.0",
            "_model_name": "DescriptionStyleModel",
            "_view_count": null,
            "_view_module": "@jupyter-widgets/base",
            "_view_module_version": "1.2.0",
            "_view_name": "StyleView",
            "description_width": ""
          }
        },
        "3a383514f8c04a7a8309c1f0e1823c2e": {
          "model_module": "@jupyter-widgets/base",
          "model_module_version": "1.2.0",
          "model_name": "LayoutModel",
          "state": {
            "_model_module": "@jupyter-widgets/base",
            "_model_module_version": "1.2.0",
            "_model_name": "LayoutModel",
            "_view_count": null,
            "_view_module": "@jupyter-widgets/base",
            "_view_module_version": "1.2.0",
            "_view_name": "LayoutView",
            "align_content": null,
            "align_items": null,
            "align_self": null,
            "border": null,
            "bottom": null,
            "display": null,
            "flex": null,
            "flex_flow": null,
            "grid_area": null,
            "grid_auto_columns": null,
            "grid_auto_flow": null,
            "grid_auto_rows": null,
            "grid_column": null,
            "grid_gap": null,
            "grid_row": null,
            "grid_template_areas": null,
            "grid_template_columns": null,
            "grid_template_rows": null,
            "height": "18px",
            "justify_content": null,
            "justify_items": null,
            "left": null,
            "margin": null,
            "max_height": null,
            "max_width": null,
            "min_height": null,
            "min_width": null,
            "object_fit": null,
            "object_position": null,
            "order": null,
            "overflow": null,
            "overflow_x": null,
            "overflow_y": null,
            "padding": null,
            "right": null,
            "top": null,
            "visibility": null,
            "width": "25ex"
          }
        },
        "3c618d0cfd6d464f86f9188c262f0b87": {
          "model_module": "@jupyter-widgets/controls",
          "model_module_version": "1.5.0",
          "model_name": "DescriptionStyleModel",
          "state": {
            "_model_module": "@jupyter-widgets/controls",
            "_model_module_version": "1.5.0",
            "_model_name": "DescriptionStyleModel",
            "_view_count": null,
            "_view_module": "@jupyter-widgets/base",
            "_view_module_version": "1.2.0",
            "_view_name": "StyleView",
            "description_width": ""
          }
        },
        "3ecfe426086b4a7989ef7bd9ba20f034": {
          "model_module": "jupyter-leaflet",
          "model_module_version": "^0.19",
          "model_name": "LeafletFullScreenControlModel",
          "state": {
            "_model_module": "jupyter-leaflet",
            "_model_module_version": "^0.19",
            "_model_name": "LeafletFullScreenControlModel",
            "_view_count": null,
            "_view_module": "jupyter-leaflet",
            "_view_module_version": "^0.19",
            "_view_name": "LeafletFullScreenControlView",
            "options": [
              "position"
            ],
            "position": "topleft"
          }
        },
        "3f5f103286664bb0abd1dd58d21daa2a": {
          "model_module": "@jupyter-widgets/base",
          "model_module_version": "1.2.0",
          "model_name": "LayoutModel",
          "state": {
            "_model_module": "@jupyter-widgets/base",
            "_model_module_version": "1.2.0",
            "_model_name": "LayoutModel",
            "_view_count": null,
            "_view_module": "@jupyter-widgets/base",
            "_view_module_version": "1.2.0",
            "_view_name": "LayoutView",
            "align_content": null,
            "align_items": null,
            "align_self": null,
            "border": null,
            "bottom": null,
            "display": null,
            "flex": null,
            "flex_flow": null,
            "grid_area": null,
            "grid_auto_columns": null,
            "grid_auto_flow": null,
            "grid_auto_rows": null,
            "grid_column": null,
            "grid_gap": null,
            "grid_row": null,
            "grid_template_areas": null,
            "grid_template_columns": null,
            "grid_template_rows": null,
            "height": "18px",
            "justify_content": null,
            "justify_items": null,
            "left": null,
            "margin": null,
            "max_height": null,
            "max_width": null,
            "min_height": null,
            "min_width": null,
            "object_fit": null,
            "object_position": null,
            "order": null,
            "overflow": null,
            "overflow_x": null,
            "overflow_y": null,
            "padding": null,
            "right": null,
            "top": null,
            "visibility": null,
            "width": "25ex"
          }
        },
        "411979b03a3f4078bc6efca2f534087e": {
          "model_module": "@jupyter-widgets/controls",
          "model_module_version": "1.5.0",
          "model_name": "CheckboxModel",
          "state": {
            "_dom_classes": [],
            "_model_module": "@jupyter-widgets/controls",
            "_model_module_version": "1.5.0",
            "_model_name": "CheckboxModel",
            "_view_count": null,
            "_view_module": "@jupyter-widgets/controls",
            "_view_module_version": "1.5.0",
            "_view_name": "CheckboxView",
            "description": "OpenStreetMap.Mapnik",
            "description_tooltip": null,
            "disabled": false,
            "indent": false,
            "layout": "IPY_MODEL_6f794fbb5aa64fdb9a47ef93aecb8334",
            "style": "IPY_MODEL_1d5c6ed59b1c42cb98ebd4a748a4473e",
            "value": true
          }
        },
        "41d415be139a471b8a8f1cd6b1593e1e": {
          "model_module": "@jupyter-widgets/controls",
          "model_module_version": "1.5.0",
          "model_name": "CheckboxModel",
          "state": {
            "_dom_classes": [],
            "_model_module": "@jupyter-widgets/controls",
            "_model_module_version": "1.5.0",
            "_model_name": "CheckboxModel",
            "_view_count": null,
            "_view_module": "@jupyter-widgets/controls",
            "_view_module_version": "1.5.0",
            "_view_name": "CheckboxView",
            "description": "Plots",
            "description_tooltip": null,
            "disabled": false,
            "indent": false,
            "layout": "IPY_MODEL_fb2af16a864d4ccc9e0ee0d85d7e5cba",
            "style": "IPY_MODEL_f76eb9c49f2c4232844c5e8c1d68767e",
            "value": true
          }
        },
        "45d2b6b725ef4d17bd6a81c6c0f243d2": {
          "model_module": "@jupyter-widgets/controls",
          "model_module_version": "1.5.0",
          "model_name": "DescriptionStyleModel",
          "state": {
            "_model_module": "@jupyter-widgets/controls",
            "_model_module_version": "1.5.0",
            "_model_name": "DescriptionStyleModel",
            "_view_count": null,
            "_view_module": "@jupyter-widgets/base",
            "_view_module_version": "1.2.0",
            "_view_name": "StyleView",
            "description_width": ""
          }
        },
        "4c01195d1335454886b0ed4af0c97f5e": {
          "model_module": "@jupyter-widgets/base",
          "model_module_version": "1.2.0",
          "model_name": "LayoutModel",
          "state": {
            "_model_module": "@jupyter-widgets/base",
            "_model_module_version": "1.2.0",
            "_model_name": "LayoutModel",
            "_view_count": null,
            "_view_module": "@jupyter-widgets/base",
            "_view_module_version": "1.2.0",
            "_view_name": "LayoutView",
            "align_content": null,
            "align_items": null,
            "align_self": null,
            "border": null,
            "bottom": null,
            "display": null,
            "flex": null,
            "flex_flow": null,
            "grid_area": null,
            "grid_auto_columns": null,
            "grid_auto_flow": null,
            "grid_auto_rows": null,
            "grid_column": null,
            "grid_gap": null,
            "grid_row": null,
            "grid_template_areas": null,
            "grid_template_columns": null,
            "grid_template_rows": null,
            "height": null,
            "justify_content": null,
            "justify_items": null,
            "left": null,
            "margin": null,
            "max_height": null,
            "max_width": null,
            "min_height": null,
            "min_width": null,
            "object_fit": null,
            "object_position": null,
            "order": null,
            "overflow": null,
            "overflow_x": null,
            "overflow_y": null,
            "padding": null,
            "right": null,
            "top": null,
            "visibility": null,
            "width": null
          }
        },
        "4d7d50b12ba740d7903f8665ac7b5cda": {
          "model_module": "jupyter-leaflet",
          "model_module_version": "^0.19",
          "model_name": "LeafletScaleControlModel",
          "state": {
            "_model_module": "jupyter-leaflet",
            "_model_module_version": "^0.19",
            "_model_name": "LeafletScaleControlModel",
            "_view_count": null,
            "_view_module": "jupyter-leaflet",
            "_view_module_version": "^0.19",
            "_view_name": "LeafletScaleControlView",
            "imperial": true,
            "max_width": 100,
            "metric": true,
            "options": [
              "imperial",
              "max_width",
              "metric",
              "position",
              "update_when_idle"
            ],
            "position": "bottomleft",
            "update_when_idle": false
          }
        },
        "4fe7fbdbf2534629bece5711486e8724": {
          "model_module": "@jupyter-widgets/base",
          "model_module_version": "1.2.0",
          "model_name": "LayoutModel",
          "state": {
            "_model_module": "@jupyter-widgets/base",
            "_model_module_version": "1.2.0",
            "_model_name": "LayoutModel",
            "_view_count": null,
            "_view_module": "@jupyter-widgets/base",
            "_view_module_version": "1.2.0",
            "_view_name": "LayoutView",
            "align_content": null,
            "align_items": null,
            "align_self": null,
            "border": null,
            "bottom": null,
            "display": null,
            "flex": null,
            "flex_flow": null,
            "grid_area": null,
            "grid_auto_columns": null,
            "grid_auto_flow": null,
            "grid_auto_rows": null,
            "grid_column": null,
            "grid_gap": null,
            "grid_row": null,
            "grid_template_areas": null,
            "grid_template_columns": null,
            "grid_template_rows": null,
            "height": "18px",
            "justify_content": null,
            "justify_items": null,
            "left": null,
            "margin": null,
            "max_height": null,
            "max_width": null,
            "min_height": null,
            "min_width": null,
            "object_fit": null,
            "object_position": null,
            "order": null,
            "overflow": null,
            "overflow_x": null,
            "overflow_y": null,
            "padding": null,
            "right": null,
            "top": null,
            "visibility": null,
            "width": "25ex"
          }
        },
        "57f826ff1d394dccb206426876a87574": {
          "model_module": "@jupyter-widgets/controls",
          "model_module_version": "1.5.0",
          "model_name": "DescriptionStyleModel",
          "state": {
            "_model_module": "@jupyter-widgets/controls",
            "_model_module_version": "1.5.0",
            "_model_name": "DescriptionStyleModel",
            "_view_count": null,
            "_view_module": "@jupyter-widgets/base",
            "_view_module_version": "1.2.0",
            "_view_name": "StyleView",
            "description_width": ""
          }
        },
        "5acd2b0be569433e9bab6bd84d6339b2": {
          "model_module": "@jupyter-widgets/base",
          "model_module_version": "1.2.0",
          "model_name": "LayoutModel",
          "state": {
            "_model_module": "@jupyter-widgets/base",
            "_model_module_version": "1.2.0",
            "_model_name": "LayoutModel",
            "_view_count": null,
            "_view_module": "@jupyter-widgets/base",
            "_view_module_version": "1.2.0",
            "_view_name": "LayoutView",
            "align_content": null,
            "align_items": null,
            "align_self": null,
            "border": null,
            "bottom": null,
            "display": null,
            "flex": null,
            "flex_flow": null,
            "grid_area": null,
            "grid_auto_columns": null,
            "grid_auto_flow": null,
            "grid_auto_rows": null,
            "grid_column": null,
            "grid_gap": null,
            "grid_row": null,
            "grid_template_areas": null,
            "grid_template_columns": null,
            "grid_template_rows": null,
            "height": "18px",
            "justify_content": null,
            "justify_items": null,
            "left": null,
            "margin": null,
            "max_height": null,
            "max_width": null,
            "min_height": null,
            "min_width": null,
            "object_fit": null,
            "object_position": null,
            "order": null,
            "overflow": null,
            "overflow_x": null,
            "overflow_y": null,
            "padding": null,
            "right": null,
            "top": null,
            "visibility": null,
            "width": "25ex"
          }
        },
        "5af5b68c26b343af81b72ac32d3164d3": {
          "model_module": "@jupyter-widgets/controls",
          "model_module_version": "1.5.0",
          "model_name": "VBoxModel",
          "state": {
            "_dom_classes": [],
            "_model_module": "@jupyter-widgets/controls",
            "_model_module_version": "1.5.0",
            "_model_name": "VBoxModel",
            "_view_count": null,
            "_view_module": "@jupyter-widgets/controls",
            "_view_module_version": "1.5.0",
            "_view_name": "VBoxView",
            "box_style": "",
            "children": [
              "IPY_MODEL_5ec5579c8b1642aaabe7afa42cc8b00f"
            ],
            "layout": "IPY_MODEL_28dab910aedb43f2ad247caac14611ff"
          }
        },
        "5ec5579c8b1642aaabe7afa42cc8b00f": {
          "model_module": "@jupyter-widgets/controls",
          "model_module_version": "1.5.0",
          "model_name": "ToggleButtonModel",
          "state": {
            "_dom_classes": [],
            "_model_module": "@jupyter-widgets/controls",
            "_model_module_version": "1.5.0",
            "_model_name": "ToggleButtonModel",
            "_view_count": null,
            "_view_module": "@jupyter-widgets/controls",
            "_view_module_version": "1.5.0",
            "_view_name": "ToggleButtonView",
            "button_style": "",
            "description": "",
            "description_tooltip": null,
            "disabled": false,
            "icon": "wrench",
            "layout": "IPY_MODEL_edcba03eb2d6489fa5d5f3e44f9a2096",
            "style": "IPY_MODEL_cbcefad099f94d1790e4cab1c0d073dc",
            "tooltip": "Toolbar",
            "value": false
          }
        },
        "60b2a5f3f7e94e46ab3aa4cf58e271d1": {
          "model_module": "@jupyter-widgets/base",
          "model_module_version": "1.2.0",
          "model_name": "LayoutModel",
          "state": {
            "_model_module": "@jupyter-widgets/base",
            "_model_module_version": "1.2.0",
            "_model_name": "LayoutModel",
            "_view_count": null,
            "_view_module": "@jupyter-widgets/base",
            "_view_module_version": "1.2.0",
            "_view_name": "LayoutView",
            "align_content": null,
            "align_items": null,
            "align_self": null,
            "border": null,
            "bottom": null,
            "display": null,
            "flex": null,
            "flex_flow": null,
            "grid_area": null,
            "grid_auto_columns": null,
            "grid_auto_flow": null,
            "grid_auto_rows": null,
            "grid_column": null,
            "grid_gap": null,
            "grid_row": null,
            "grid_template_areas": null,
            "grid_template_columns": null,
            "grid_template_rows": null,
            "height": null,
            "justify_content": null,
            "justify_items": null,
            "left": null,
            "margin": null,
            "max_height": null,
            "max_width": null,
            "min_height": null,
            "min_width": null,
            "object_fit": null,
            "object_position": null,
            "order": null,
            "overflow": null,
            "overflow_x": null,
            "overflow_y": null,
            "padding": null,
            "right": null,
            "top": null,
            "visibility": null,
            "width": null
          }
        },
        "62bc8f8e4a2d4747b08acfa975f452ea": {
          "model_module": "@jupyter-widgets/controls",
          "model_module_version": "1.5.0",
          "model_name": "CheckboxModel",
          "state": {
            "_dom_classes": [],
            "_model_module": "@jupyter-widgets/controls",
            "_model_module_version": "1.5.0",
            "_model_name": "CheckboxModel",
            "_view_count": null,
            "_view_module": "@jupyter-widgets/controls",
            "_view_module_version": "1.5.0",
            "_view_name": "CheckboxView",
            "description": "OpenStreetMap",
            "description_tooltip": null,
            "disabled": false,
            "indent": false,
            "layout": "IPY_MODEL_5acd2b0be569433e9bab6bd84d6339b2",
            "style": "IPY_MODEL_791ceb6f42e54dc782a221dde1093516",
            "value": true
          }
        },
        "64c67aec06254626963ea72f3d55472a": {
          "model_module": "@jupyter-widgets/controls",
          "model_module_version": "1.5.0",
          "model_name": "HBoxModel",
          "state": {
            "_dom_classes": [],
            "_model_module": "@jupyter-widgets/controls",
            "_model_module_version": "1.5.0",
            "_model_name": "HBoxModel",
            "_view_count": null,
            "_view_module": "@jupyter-widgets/controls",
            "_view_module_version": "1.5.0",
            "_view_name": "HBoxView",
            "box_style": "",
            "children": [
              "IPY_MODEL_d595ff69f67045fd9f8f42c5b2fcf378",
              "IPY_MODEL_1e887fdde4694c5fb5ad2039b5fdf345"
            ],
            "layout": "IPY_MODEL_dba8320895d547cea0609aa53a47c23d"
          }
        },
        "65bcedc1e421475ba8241cad3bc23c42": {
          "model_module": "@jupyter-widgets/controls",
          "model_module_version": "1.5.0",
          "model_name": "FloatProgressModel",
          "state": {
            "_dom_classes": [],
            "_model_module": "@jupyter-widgets/controls",
            "_model_module_version": "1.5.0",
            "_model_name": "FloatProgressModel",
            "_view_count": null,
            "_view_module": "@jupyter-widgets/controls",
            "_view_module_version": "1.5.0",
            "_view_name": "ProgressView",
            "bar_style": "success",
            "description": "",
            "description_tooltip": null,
            "layout": "IPY_MODEL_d72b3a10596b4196b707bdc7396ed358",
            "max": 1,
            "min": 0,
            "orientation": "horizontal",
            "style": "IPY_MODEL_0cf6b249ee5f4d6c9a46ef1fe2e54a03",
            "value": 1
          }
        },
        "688b2f68de9b49ed90ddc144f960e45f": {
          "model_module": "@jupyter-widgets/base",
          "model_module_version": "1.2.0",
          "model_name": "LayoutModel",
          "state": {
            "_model_module": "@jupyter-widgets/base",
            "_model_module_version": "1.2.0",
            "_model_name": "LayoutModel",
            "_view_count": null,
            "_view_module": "@jupyter-widgets/base",
            "_view_module_version": "1.2.0",
            "_view_name": "LayoutView",
            "align_content": null,
            "align_items": null,
            "align_self": null,
            "border": null,
            "bottom": null,
            "display": null,
            "flex": null,
            "flex_flow": null,
            "grid_area": null,
            "grid_auto_columns": null,
            "grid_auto_flow": null,
            "grid_auto_rows": null,
            "grid_column": null,
            "grid_gap": null,
            "grid_row": null,
            "grid_template_areas": null,
            "grid_template_columns": null,
            "grid_template_rows": null,
            "height": null,
            "justify_content": null,
            "justify_items": null,
            "left": null,
            "margin": null,
            "max_height": null,
            "max_width": null,
            "min_height": null,
            "min_width": null,
            "object_fit": null,
            "object_position": null,
            "order": null,
            "overflow": null,
            "overflow_x": null,
            "overflow_y": null,
            "padding": null,
            "right": null,
            "top": null,
            "visibility": null,
            "width": null
          }
        },
        "69917da2adfe409483eb22e82068ff80": {
          "model_module": "@jupyter-widgets/controls",
          "model_module_version": "1.5.0",
          "model_name": "CheckboxModel",
          "state": {
            "_dom_classes": [],
            "_model_module": "@jupyter-widgets/controls",
            "_model_module_version": "1.5.0",
            "_model_name": "CheckboxModel",
            "_view_count": null,
            "_view_module": "@jupyter-widgets/controls",
            "_view_module_version": "1.5.0",
            "_view_name": "CheckboxView",
            "description": "Google Hybrid",
            "description_tooltip": null,
            "disabled": false,
            "indent": false,
            "layout": "IPY_MODEL_4fe7fbdbf2534629bece5711486e8724",
            "style": "IPY_MODEL_359ac21f615346ba9cd351bdaeb6bbda",
            "value": true
          }
        },
        "6e09a66c4b6b4c9395f8ccb66cbd298e": {
          "model_module": "@jupyter-widgets/controls",
          "model_module_version": "1.5.0",
          "model_name": "HBoxModel",
          "state": {
            "_dom_classes": [],
            "_model_module": "@jupyter-widgets/controls",
            "_model_module_version": "1.5.0",
            "_model_name": "HBoxModel",
            "_view_count": null,
            "_view_module": "@jupyter-widgets/controls",
            "_view_module_version": "1.5.0",
            "_view_name": "HBoxView",
            "box_style": "",
            "children": [
              "IPY_MODEL_80e12bd7734543bcbc6eb1539fbf1c0a",
              "IPY_MODEL_65bcedc1e421475ba8241cad3bc23c42",
              "IPY_MODEL_778d7d5a9cac4abe9e8787e2bc0e5460"
            ],
            "layout": "IPY_MODEL_ff6ca8d019974fb7af0be610378f9a55"
          }
        },
        "6eef7d85f71a4713b9ae7461cf1f5ba8": {
          "model_module": "@jupyter-widgets/base",
          "model_module_version": "1.2.0",
          "model_name": "LayoutModel",
          "state": {
            "_model_module": "@jupyter-widgets/base",
            "_model_module_version": "1.2.0",
            "_model_name": "LayoutModel",
            "_view_count": null,
            "_view_module": "@jupyter-widgets/base",
            "_view_module_version": "1.2.0",
            "_view_name": "LayoutView",
            "align_content": null,
            "align_items": null,
            "align_self": null,
            "border": null,
            "bottom": null,
            "display": null,
            "flex": null,
            "flex_flow": null,
            "grid_area": null,
            "grid_auto_columns": null,
            "grid_auto_flow": null,
            "grid_auto_rows": null,
            "grid_column": null,
            "grid_gap": null,
            "grid_row": null,
            "grid_template_areas": null,
            "grid_template_columns": null,
            "grid_template_rows": null,
            "height": "18px",
            "justify_content": null,
            "justify_items": null,
            "left": null,
            "margin": null,
            "max_height": null,
            "max_width": null,
            "min_height": null,
            "min_width": null,
            "object_fit": null,
            "object_position": null,
            "order": null,
            "overflow": null,
            "overflow_x": null,
            "overflow_y": null,
            "padding": null,
            "right": null,
            "top": null,
            "visibility": null,
            "width": "25ex"
          }
        },
        "6f794fbb5aa64fdb9a47ef93aecb8334": {
          "model_module": "@jupyter-widgets/base",
          "model_module_version": "1.2.0",
          "model_name": "LayoutModel",
          "state": {
            "_model_module": "@jupyter-widgets/base",
            "_model_module_version": "1.2.0",
            "_model_name": "LayoutModel",
            "_view_count": null,
            "_view_module": "@jupyter-widgets/base",
            "_view_module_version": "1.2.0",
            "_view_name": "LayoutView",
            "align_content": null,
            "align_items": null,
            "align_self": null,
            "border": null,
            "bottom": null,
            "display": null,
            "flex": null,
            "flex_flow": null,
            "grid_area": null,
            "grid_auto_columns": null,
            "grid_auto_flow": null,
            "grid_auto_rows": null,
            "grid_column": null,
            "grid_gap": null,
            "grid_row": null,
            "grid_template_areas": null,
            "grid_template_columns": null,
            "grid_template_rows": null,
            "height": "18px",
            "justify_content": null,
            "justify_items": null,
            "left": null,
            "margin": null,
            "max_height": null,
            "max_width": null,
            "min_height": null,
            "min_width": null,
            "object_fit": null,
            "object_position": null,
            "order": null,
            "overflow": null,
            "overflow_x": null,
            "overflow_y": null,
            "padding": null,
            "right": null,
            "top": null,
            "visibility": null,
            "width": "25ex"
          }
        },
        "6fbeebbd1ddf465a80d1d3ff3e71cfcc": {
          "model_module": "@jupyter-widgets/controls",
          "model_module_version": "1.5.0",
          "model_name": "DescriptionStyleModel",
          "state": {
            "_model_module": "@jupyter-widgets/controls",
            "_model_module_version": "1.5.0",
            "_model_name": "DescriptionStyleModel",
            "_view_count": null,
            "_view_module": "@jupyter-widgets/base",
            "_view_module_version": "1.2.0",
            "_view_name": "StyleView",
            "description_width": ""
          }
        },
        "71a73ff116184257981be20b4eab99e0": {
          "model_module": "@jupyter-widgets/controls",
          "model_module_version": "1.5.0",
          "model_name": "ProgressStyleModel",
          "state": {
            "_model_module": "@jupyter-widgets/controls",
            "_model_module_version": "1.5.0",
            "_model_name": "ProgressStyleModel",
            "_view_count": null,
            "_view_module": "@jupyter-widgets/base",
            "_view_module_version": "1.2.0",
            "_view_name": "StyleView",
            "bar_color": null,
            "description_width": ""
          }
        },
        "778d7d5a9cac4abe9e8787e2bc0e5460": {
          "model_module": "@jupyter-widgets/controls",
          "model_module_version": "1.5.0",
          "model_name": "HTMLModel",
          "state": {
            "_dom_classes": [],
            "_model_module": "@jupyter-widgets/controls",
            "_model_module_version": "1.5.0",
            "_model_name": "HTMLModel",
            "_view_count": null,
            "_view_module": "@jupyter-widgets/controls",
            "_view_module_version": "1.5.0",
            "_view_name": "HTMLView",
            "description": "",
            "description_tooltip": null,
            "layout": "IPY_MODEL_4c01195d1335454886b0ed4af0c97f5e",
            "placeholder": "​",
            "style": "IPY_MODEL_9f9e0fe4b815475994baec35e470b005",
            "value": " 1/1 [00:00&lt;00:00, 45.56it/s]"
          }
        },
        "78ec3d9fad9341e3b7d9c275b01ab8c9": {
          "model_module": "@jupyter-widgets/controls",
          "model_module_version": "1.5.0",
          "model_name": "HTMLModel",
          "state": {
            "_dom_classes": [],
            "_model_module": "@jupyter-widgets/controls",
            "_model_module_version": "1.5.0",
            "_model_name": "HTMLModel",
            "_view_count": null,
            "_view_module": "@jupyter-widgets/controls",
            "_view_module_version": "1.5.0",
            "_view_name": "HTMLView",
            "description": "",
            "description_tooltip": null,
            "layout": "IPY_MODEL_fbbb1c605d2b42f485af3e31b06457d8",
            "placeholder": "​",
            "style": "IPY_MODEL_bada98e3f54c4dfe9385006df65711c8",
            "value": " 1/1 [00:00&lt;00:00, 14.68it/s]"
          }
        },
        "791ceb6f42e54dc782a221dde1093516": {
          "model_module": "@jupyter-widgets/controls",
          "model_module_version": "1.5.0",
          "model_name": "DescriptionStyleModel",
          "state": {
            "_model_module": "@jupyter-widgets/controls",
            "_model_module_version": "1.5.0",
            "_model_name": "DescriptionStyleModel",
            "_view_count": null,
            "_view_module": "@jupyter-widgets/base",
            "_view_module_version": "1.2.0",
            "_view_name": "StyleView",
            "description_width": ""
          }
        },
        "79fe4ed4a6924eab8f06feaede94453e": {
          "model_module": "@jupyter-widgets/controls",
          "model_module_version": "1.5.0",
          "model_name": "HTMLModel",
          "state": {
            "_dom_classes": [],
            "_model_module": "@jupyter-widgets/controls",
            "_model_module_version": "1.5.0",
            "_model_name": "HTMLModel",
            "_view_count": null,
            "_view_module": "@jupyter-widgets/controls",
            "_view_module_version": "1.5.0",
            "_view_name": "HTMLView",
            "description": "",
            "description_tooltip": null,
            "layout": "IPY_MODEL_9d158dbe205d414fa800152d683392b5",
            "placeholder": "​",
            "style": "IPY_MODEL_ac8a2b09d9a34e2586f168251bf79607",
            "value": "COLLECTING RESULTS | : 100%"
          }
        },
        "7a91ad9b8019412bac5d1b62a221508f": {
          "model_module": "@jupyter-widgets/base",
          "model_module_version": "1.2.0",
          "model_name": "LayoutModel",
          "state": {
            "_model_module": "@jupyter-widgets/base",
            "_model_module_version": "1.2.0",
            "_model_name": "LayoutModel",
            "_view_count": null,
            "_view_module": "@jupyter-widgets/base",
            "_view_module_version": "1.2.0",
            "_view_name": "LayoutView",
            "align_content": null,
            "align_items": null,
            "align_self": null,
            "border": null,
            "bottom": null,
            "display": null,
            "flex": null,
            "flex_flow": null,
            "grid_area": null,
            "grid_auto_columns": null,
            "grid_auto_flow": null,
            "grid_auto_rows": null,
            "grid_column": null,
            "grid_gap": null,
            "grid_row": null,
            "grid_template_areas": null,
            "grid_template_columns": null,
            "grid_template_rows": null,
            "height": null,
            "justify_content": null,
            "justify_items": null,
            "left": null,
            "margin": null,
            "max_height": null,
            "max_width": null,
            "min_height": null,
            "min_width": null,
            "object_fit": null,
            "object_position": null,
            "order": null,
            "overflow": null,
            "overflow_x": null,
            "overflow_y": null,
            "padding": null,
            "right": null,
            "top": null,
            "visibility": null,
            "width": null
          }
        },
        "7f1b53f4bb674e36bdc967860efc9dee": {
          "model_module": "@jupyter-widgets/controls",
          "model_module_version": "1.5.0",
          "model_name": "ProgressStyleModel",
          "state": {
            "_model_module": "@jupyter-widgets/controls",
            "_model_module_version": "1.5.0",
            "_model_name": "ProgressStyleModel",
            "_view_count": null,
            "_view_module": "@jupyter-widgets/base",
            "_view_module_version": "1.2.0",
            "_view_name": "StyleView",
            "bar_color": null,
            "description_width": ""
          }
        },
        "7fade1f3d2134d04a60be2cc92298715": {
          "model_module": "jupyter-leaflet",
          "model_module_version": "^0.19",
          "model_name": "LeafletGeoJSONModel",
          "state": {
            "_model_module": "jupyter-leaflet",
            "_model_module_version": "^0.19",
            "_model_name": "LeafletGeoJSONModel",
            "_view_count": null,
            "_view_module": "jupyter-leaflet",
            "_view_module_version": "^0.19",
            "_view_name": "LeafletGeoJSONView",
            "base": false,
            "bottom": false,
            "data": {
              "bbox": [
                145.07139,
                -18.49892,
                145.83122,
                -16.10319437603427
              ],
              "features": [
                {
                  "bbox": [
                    145.44139,
                    -16.13658,
                    145.44139,
                    -16.13658
                  ],
                  "geometry": {
                    "coordinates": [
                      145.44139,
                      -16.13658
                    ],
                    "type": "Point"
                  },
                  "id": "0",
                  "properties": {
                    "#census": 13,
                    "AGB_estim": 589,
                    "Notes": "Short walk to plot (1/2 hour)",
                    "access": "Y",
                    "alt_masl": 15,
                    "area_ha": 0.505,
                    "base_acces": "Cairns (1.5 hours)",
                    "disturb_ev": " ",
                    "first_cens": 1977,
                    "last_censu": 2012,
                    "lat": -16.13658,
                    "long": 145.44139,
                    "mean_temp": "25.3",
                    "multitemp": "Y",
                    "plot_name": "Oliver Creek",
                    "plot_num": "ep41",
                    "precip": "3470",
                    "stems_firs": 790,
                    "stems_last": 630,
                    "style": {
                      "weight": 1
                    },
                    "travel_day": "1"
                  },
                  "type": "Feature"
                },
                {
                  "bbox": [
                    145.08522,
                    -16.21794,
                    145.08522,
                    -16.21794
                  ],
                  "geometry": {
                    "coordinates": [
                      145.08522,
                      -16.21794
                    ],
                    "type": "Point"
                  },
                  "id": "1",
                  "properties": {
                    "#census": 10,
                    "AGB_estim": 708,
                    "Notes": "This is the walk - ~10 hours in due to having to cut your way along an old track - faster to come out.",
                    "access": "N",
                    "alt_masl": 910,
                    "area_ha": 0.524,
                    "base_acces": "Atherton/Cairns (2 hour)",
                    "disturb_ev": null,
                    "first_cens": 1980,
                    "last_censu": 2013,
                    "lat": -16.21794,
                    "long": 145.08522,
                    "mean_temp": "20.2",
                    "multitemp": "N",
                    "plot_name": "Fantail LA",
                    "plot_num": "ep44",
                    "precip": "2365",
                    "stems_firs": 878,
                    "stems_last": 778,
                    "style": {
                      "weight": 1
                    },
                    "travel_day": "1.5**"
                  },
                  "type": "Feature"
                },
                {
                  "bbox": [
                    145.07139,
                    -16.27767,
                    145.07139,
                    -16.27767
                  ],
                  "geometry": {
                    "coordinates": [
                      145.07139,
                      -16.27767
                    ],
                    "type": "Point"
                  },
                  "id": "2",
                  "properties": {
                    "#census": 12,
                    "AGB_estim": 674,
                    "Notes": "Would do with Agapates SA and Fantail.  Short walk to this one from road.",
                    "access": "/",
                    "alt_masl": 1060,
                    "area_ha": 0.5081,
                    "base_acces": "Atherton/Cairns (2 hour)",
                    "disturb_ev": " ",
                    "first_cens": 1976,
                    "last_censu": 2013,
                    "lat": -16.27767,
                    "long": 145.07139,
                    "mean_temp": "19.5",
                    "multitemp": "N",
                    "plot_name": "Agapetes LA",
                    "plot_num": "ep30",
                    "precip": "2597",
                    "stems_firs": 1104,
                    "stems_last": 1134,
                    "style": {
                      "weight": 1
                    },
                    "travel_day": "1.5**"
                  },
                  "type": "Feature"
                },
                {
                  "bbox": [
                    145.10231,
                    -16.28017,
                    145.10231,
                    -16.28017
                  ],
                  "geometry": {
                    "coordinates": [
                      145.10231,
                      -16.28017
                    ],
                    "type": "Point"
                  },
                  "id": "3",
                  "properties": {
                    "#census": 11,
                    "AGB_estim": 627,
                    "Notes": "1 hour walk from road",
                    "access": "/",
                    "alt_masl": 800,
                    "area_ha": 0.5236,
                    "base_acces": "Atherton/Cairns (2 hour)",
                    "disturb_ev": "D (2006)",
                    "first_cens": 1978,
                    "last_censu": 2013,
                    "lat": -16.28017,
                    "long": 145.10231,
                    "mean_temp": "20.7",
                    "multitemp": "N",
                    "plot_name": "Agapetes SA",
                    "plot_num": "ep40",
                    "precip": "2097",
                    "stems_firs": 992,
                    "stems_last": 848,
                    "style": {
                      "weight": 1
                    },
                    "travel_day": "1.5**"
                  },
                  "type": "Feature"
                },
                {
                  "bbox": [
                    145.33667,
                    -16.35542,
                    145.33667,
                    -16.35542
                  ],
                  "geometry": {
                    "coordinates": [
                      145.33667,
                      -16.35542
                    ],
                    "type": "Point"
                  },
                  "id": "4",
                  "properties": {
                    "#census": 13,
                    "AGB_estim": 551,
                    "Notes": "Long walk to plot (several hours)",
                    "access": "N",
                    "alt_masl": 230,
                    "area_ha": 0.5401,
                    "base_acces": "Cairns/Atherton (1 hour)",
                    "disturb_ev": "c(1986)",
                    "first_cens": 1977,
                    "last_censu": 2012,
                    "lat": -16.35542,
                    "long": 145.33667,
                    "mean_temp": "24.4",
                    "multitemp": "N",
                    "plot_name": "Whyanbeel",
                    "plot_num": "ep35",
                    "precip": "2411",
                    "stems_firs": 1002,
                    "stems_last": 818,
                    "style": {
                      "weight": 1
                    },
                    "travel_day": "1.5*"
                  },
                  "type": "Feature"
                },
                {
                  "bbox": [
                    145.26656,
                    -16.52264,
                    145.26656,
                    -16.52264
                  ],
                  "geometry": {
                    "coordinates": [
                      145.26656,
                      -16.52264
                    ],
                    "type": "Point"
                  },
                  "id": "5",
                  "properties": {
                    "#census": 15,
                    "AGB_estim": 838,
                    "Notes": "Through locked gate (National Parks) to top of Mt Lewis Road.  Short walk to plot",
                    "access": "/",
                    "alt_masl": 1100,
                    "area_ha": 0.5098,
                    "base_acces": "Cairns/Atherton (2 hour)",
                    "disturb_ev": "P(1987-1996)",
                    "first_cens": 1973,
                    "last_censu": 2012,
                    "lat": -16.52264,
                    "long": 145.26656,
                    "mean_temp": "19.2",
                    "multitemp": "N",
                    "plot_name": "Mount Lewis",
                    "plot_num": "ep18",
                    "precip": "2676",
                    "stems_firs": 908,
                    "stems_last": 838,
                    "style": {
                      "weight": 1
                    },
                    "travel_day": "1"
                  },
                  "type": "Feature"
                },
                {
                  "bbox": [
                    145.83122,
                    -16.99486,
                    145.83122,
                    -16.99486
                  ],
                  "geometry": {
                    "coordinates": [
                      145.83122,
                      -16.99486
                    ],
                    "type": "Point"
                  },
                  "id": "6",
                  "properties": {
                    "#census": 14,
                    "AGB_estim": 456,
                    "Notes": "Short walk to plot (1 hour)",
                    "access": "Y",
                    "alt_masl": 110,
                    "area_ha": 0.5096,
                    "base_acces": "Cairns (1/2 hour)",
                    "disturb_ev": "C (1990)",
                    "first_cens": 1972,
                    "last_censu": 2012,
                    "lat": -16.99486,
                    "long": 145.83122,
                    "mean_temp": "24.9",
                    "multitemp": "N",
                    "plot_name": "Pine Creek",
                    "plot_num": "ep4",
                    "precip": "2453",
                    "stems_firs": 972,
                    "stems_last": 916,
                    "style": {
                      "weight": 1
                    },
                    "travel_day": "1"
                  },
                  "type": "Feature"
                },
                {
                  "bbox": [
                    145.59161,
                    -17.08783,
                    145.59161,
                    -17.08783
                  ],
                  "geometry": {
                    "coordinates": [
                      145.59161,
                      -17.08783
                    ],
                    "type": "Point"
                  },
                  "id": "7",
                  "properties": {
                    "#census": 16,
                    "AGB_estim": 814,
                    "Notes": "Short walk to plot (1 hour)",
                    "access": "N",
                    "alt_masl": 1120,
                    "area_ha": 0.5434,
                    "base_acces": "Atherton (1/2 hour)",
                    "disturb_ev": "c (2006)",
                    "first_cens": 1971,
                    "last_censu": 2011,
                    "lat": -17.08783,
                    "long": 145.59161,
                    "mean_temp": "18.7",
                    "multitemp": "Y",
                    "plot_name": "Mount Haig",
                    "plot_num": "ep3",
                    "precip": "2884",
                    "stems_firs": 1004,
                    "stems_last": 966,
                    "style": {
                      "weight": 1
                    },
                    "travel_day": "1"
                  },
                  "type": "Feature"
                },
                {
                  "bbox": [
                    145.63272,
                    -17.11544,
                    145.63272,
                    -17.11544
                  ],
                  "geometry": {
                    "coordinates": [
                      145.63272,
                      -17.11544
                    ],
                    "type": "Point"
                  },
                  "id": "8",
                  "properties": {
                    "#census": 15,
                    "AGB_estim": 679,
                    "Notes": "Short walk to plot (1/2 hour)",
                    "access": "Y",
                    "alt_masl": 800,
                    "area_ha": 0.5593,
                    "base_acces": "Atherton (1/2 hour)",
                    "disturb_ev": "C (2006)",
                    "first_cens": 1972,
                    "last_censu": 2011,
                    "lat": -17.11544,
                    "long": 145.63272,
                    "mean_temp": "20.399999999999999",
                    "multitemp": "Y",
                    "plot_name": "Robson Creek",
                    "plot_num": "ep9",
                    "precip": "1769",
                    "stems_firs": 882,
                    "stems_last": 856,
                    "style": {
                      "weight": 1
                    },
                    "travel_day": "1"
                  },
                  "type": "Feature"
                },
                {
                  "bbox": [
                    145.58688,
                    -17.14616,
                    145.58688,
                    -17.14616
                  ],
                  "geometry": {
                    "coordinates": [
                      145.58688,
                      -17.14616
                    ],
                    "type": "Point"
                  },
                  "id": "9",
                  "properties": {
                    "#census": 16,
                    "AGB_estim": 343,
                    "Notes": "Short walk to plot (1/2 hour)",
                    "access": "Y",
                    "alt_masl": 720,
                    "area_ha": 0.5128,
                    "base_acces": "Atherton (1/2 hour)",
                    "disturb_ev": "C (2006)",
                    "first_cens": 1971,
                    "last_censu": 2011,
                    "lat": -17.14616,
                    "long": 145.58688,
                    "mean_temp": "20.7",
                    "multitemp": "N",
                    "plot_name": "Downfall Creek",
                    "plot_num": "ep2",
                    "precip": "1403",
                    "stems_firs": 924,
                    "stems_last": 1012,
                    "style": {
                      "weight": 1
                    },
                    "travel_day": "1"
                  },
                  "type": "Feature"
                },
                {
                  "bbox": [
                    145.57183,
                    -17.28642,
                    145.57183,
                    -17.28642
                  ],
                  "geometry": {
                    "coordinates": [
                      145.57183,
                      -17.28642
                    ],
                    "type": "Point"
                  },
                  "id": "10",
                  "properties": {
                    "#census": 13,
                    "AGB_estim": 806,
                    "Notes": "Short walk to plot (1/2 hour)",
                    "access": "Y",
                    "alt_masl": 720,
                    "area_ha": 0.5063,
                    "base_acces": "Atherton (1/2 hour)",
                    "disturb_ev": "c (2006), D (1995)",
                    "first_cens": 1976,
                    "last_censu": 2011,
                    "lat": -17.28642,
                    "long": 145.57183,
                    "mean_temp": "20.6",
                    "multitemp": "Y",
                    "plot_name": "Curtain Fig",
                    "plot_num": "ep33",
                    "precip": "1424",
                    "stems_firs": 630,
                    "stems_last": 514,
                    "style": {
                      "weight": 1
                    },
                    "travel_day": "1"
                  },
                  "type": "Feature"
                },
                {
                  "bbox": [
                    145.43725,
                    -17.30869,
                    145.43725,
                    -17.30869
                  ],
                  "geometry": {
                    "coordinates": [
                      145.43725,
                      -17.30869
                    ],
                    "type": "Point"
                  },
                  "id": "11",
                  "properties": {
                    "#census": 12,
                    "AGB_estim": 635,
                    "Notes": "Short walk to plot (1/2 hour)",
                    "access": "Y",
                    "alt_masl": 1120,
                    "area_ha": 0.5716,
                    "base_acces": "Atherton (1/2 hour)",
                    "disturb_ev": "C (2006)",
                    "first_cens": 1978,
                    "last_censu": 2012,
                    "lat": -17.30869,
                    "long": 145.43725,
                    "mean_temp": "19.100000000000001",
                    "multitemp": "N",
                    "plot_name": "Mount Baldy",
                    "plot_num": "ep43",
                    "precip": "1655",
                    "stems_firs": 778,
                    "stems_last": 678,
                    "style": {
                      "weight": 1
                    },
                    "travel_day": "1"
                  },
                  "type": "Feature"
                },
                {
                  "bbox": [
                    145.47919,
                    -17.35025,
                    145.47919,
                    -17.35025
                  ],
                  "geometry": {
                    "coordinates": [
                      145.47919,
                      -17.35025
                    ],
                    "type": "Point"
                  },
                  "id": "12",
                  "properties": {
                    "#census": 13,
                    "AGB_estim": 505,
                    "Notes": "Short walk to plot (1 hour)",
                    "access": "Y",
                    "alt_masl": 1000,
                    "area_ha": 0.518,
                    "base_acces": "Atherton (1/2 hour)",
                    "disturb_ev": "C (2006)",
                    "first_cens": 1977,
                    "last_censu": 2011,
                    "lat": -17.35025,
                    "long": 145.47919,
                    "mean_temp": "19.2",
                    "multitemp": "N",
                    "plot_name": "The Crater",
                    "plot_num": "ep38",
                    "precip": "1797",
                    "stems_firs": 746,
                    "stems_last": 644,
                    "style": {
                      "weight": 1
                    },
                    "travel_day": "1"
                  },
                  "type": "Feature"
                },
                {
                  "bbox": [
                    145.77078,
                    -17.40858,
                    145.77078,
                    -17.40858
                  ],
                  "geometry": {
                    "coordinates": [
                      145.77078,
                      -17.40858
                    ],
                    "type": "Point"
                  },
                  "id": "13",
                  "properties": {
                    "#census": 12,
                    "AGB_estim": 530,
                    "Notes": "Long walk to plot (several hours)",
                    "access": "Y",
                    "alt_masl": 380,
                    "area_ha": 0.5269,
                    "base_acces": "Atherton (1/2 hour)",
                    "disturb_ev": "C (2006)",
                    "first_cens": 1976,
                    "last_censu": 2012,
                    "lat": -17.40858,
                    "long": 145.77078,
                    "mean_temp": "22.8",
                    "multitemp": "N",
                    "plot_name": "Russell River",
                    "plot_num": "ep34",
                    "precip": "3101",
                    "stems_firs": 604,
                    "stems_last": 474,
                    "style": {
                      "weight": 1
                    },
                    "travel_day": "1.5*"
                  },
                  "type": "Feature"
                },
                {
                  "bbox": [
                    145.82919,
                    -17.52669,
                    145.82919,
                    -17.52669
                  ],
                  "geometry": {
                    "coordinates": [
                      145.82919,
                      -17.52669
                    ],
                    "type": "Point"
                  },
                  "id": "14",
                  "properties": {
                    "#census": 10,
                    "AGB_estim": 537,
                    "Notes": "Long walk/swim/canoe to plot (5 hours)",
                    "access": "/",
                    "alt_masl": 80,
                    "area_ha": 0.5241,
                    "base_acces": "Atherton (1 hour)",
                    "disturb_ev": "C (1986, 2006), c(2011)",
                    "first_cens": 1976,
                    "last_censu": 2013,
                    "lat": -17.52669,
                    "long": 145.82919,
                    "mean_temp": "24.2",
                    "multitemp": "N",
                    "plot_name": "Woopen Creek",
                    "plot_num": "ep31",
                    "precip": "3365",
                    "stems_firs": 476,
                    "stems_last": 410,
                    "style": {
                      "weight": 1
                    },
                    "travel_day": "2"
                  },
                  "type": "Feature"
                },
                {
                  "bbox": [
                    145.54811,
                    -17.54569,
                    145.54811,
                    -17.54569
                  ],
                  "geometry": {
                    "coordinates": [
                      145.54811,
                      -17.54569
                    ],
                    "type": "Point"
                  },
                  "id": "15",
                  "properties": {
                    "#census": 14,
                    "AGB_estim": 478,
                    "Notes": "Short walk to plot (1 hour)",
                    "access": "Y",
                    "alt_masl": 1200,
                    "area_ha": 0.5237,
                    "base_acces": "Atherton (1/2 hour)",
                    "disturb_ev": "C (2006, 2011)",
                    "first_cens": 1975,
                    "last_censu": 2011,
                    "lat": -17.54569,
                    "long": 145.54811,
                    "mean_temp": "18.3",
                    "multitemp": "N",
                    "plot_name": "Mount Fisher",
                    "plot_num": "ep29",
                    "precip": "2857",
                    "stems_firs": 988,
                    "stems_last": 842,
                    "style": {
                      "weight": 1
                    },
                    "travel_day": "1"
                  },
                  "type": "Feature"
                },
                {
                  "bbox": [
                    145.75628,
                    -18.49892,
                    145.75628,
                    -18.49892
                  ],
                  "geometry": {
                    "coordinates": [
                      145.75628,
                      -18.49892
                    ],
                    "type": "Point"
                  },
                  "id": "16",
                  "properties": {
                    "#census": 13,
                    "AGB_estim": 307,
                    "Notes": "Through locked gate (National Parks) to Wallaman Falls.  Short walk to plot",
                    "access": "N",
                    "alt_masl": 620,
                    "area_ha": 0.5235,
                    "base_acces": "Ingham (1 hour)",
                    "disturb_ev": "P (19781989), C(2011)",
                    "first_cens": 1975,
                    "last_censu": 2013,
                    "lat": -18.49892,
                    "long": 145.75628,
                    "mean_temp": "21.4",
                    "multitemp": "N",
                    "plot_name": "Garrawalt",
                    "plot_num": "ep19",
                    "precip": "1236",
                    "stems_firs": 800,
                    "stems_last": 1032,
                    "style": {
                      "weight": 1
                    },
                    "travel_day": "1"
                  },
                  "type": "Feature"
                },
                {
                  "bbox": [
                    145.44979917191876,
                    -16.10319437603427,
                    145.44979917191876,
                    -16.10319437603427
                  ],
                  "geometry": {
                    "coordinates": [
                      145.44979917191876,
                      -16.10319437603427
                    ],
                    "type": "Point"
                  },
                  "id": "17",
                  "properties": {
                    "#census": null,
                    "AGB_estim": null,
                    "Notes": null,
                    "access": "Y",
                    "alt_masl": 45,
                    "area_ha": null,
                    "base_acces": null,
                    "disturb_ev": null,
                    "first_cens": null,
                    "last_censu": null,
                    "lat": -16.10360023979272,
                    "long": 145.44973413835763,
                    "mean_temp": "24.4",
                    "multitemp": "N",
                    "plot_name": "Daintree Rainforest Observatory",
                    "plot_num": "DRO",
                    "precip": "3500",
                    "stems_firs": null,
                    "stems_last": null,
                    "style": {
                      "weight": 1
                    },
                    "travel_day": null
                  },
                  "type": "Feature"
                },
                {
                  "bbox": [
                    145.57956366548325,
                    -17.00653468949732,
                    145.57956366548325,
                    -17.00653468949732
                  ],
                  "geometry": {
                    "coordinates": [
                      145.57956366548325,
                      -17.00653468949732
                    ],
                    "type": "Point"
                  },
                  "id": "18",
                  "properties": {
                    "#census": null,
                    "AGB_estim": null,
                    "Notes": null,
                    "access": "Y",
                    "alt_masl": 850,
                    "area_ha": null,
                    "base_acces": null,
                    "disturb_ev": null,
                    "first_cens": null,
                    "last_censu": null,
                    "lat": -17.003510400000003,
                    "long": 145.57224019999998,
                    "mean_temp": null,
                    "multitemp": "N",
                    "plot_name": "Davies Creek",
                    "plot_num": "DC",
                    "precip": "2164",
                    "stems_firs": null,
                    "stems_last": null,
                    "style": {
                      "weight": 1
                    },
                    "travel_day": null
                  },
                  "type": "Feature"
                }
              ],
              "type": "FeatureCollection"
            },
            "hover_style": {
              "color": "yellow",
              "fillOpacity": 0,
              "weight": 3
            },
            "layers": [],
            "name": "Plots",
            "options": [],
            "pane": "",
            "point_style": {},
            "popup": null,
            "popup_max_height": null,
            "popup_max_width": 300,
            "popup_min_width": 50,
            "style": {
              "weight": 1
            },
            "subitems": [],
            "visible": true
          }
        },
        "804bc8f4e64c4f1eb59734d834d3a274": {
          "model_module": "jupyter-leaflet",
          "model_module_version": "^0.19",
          "model_name": "LeafletWidgetControlModel",
          "state": {
            "_model_module": "jupyter-leaflet",
            "_model_module_version": "^0.19",
            "_model_name": "LeafletWidgetControlModel",
            "_view_count": null,
            "_view_module": "jupyter-leaflet",
            "_view_module_version": "^0.19",
            "_view_name": "LeafletWidgetControlView",
            "max_height": null,
            "max_width": null,
            "min_height": null,
            "min_width": null,
            "options": [
              "position",
              "transparent_bg"
            ],
            "position": "bottomright",
            "transparent_bg": false,
            "widget": "IPY_MODEL_eb89c6a7c6454082b714460a96ed4637"
          }
        },
        "80e12bd7734543bcbc6eb1539fbf1c0a": {
          "model_module": "@jupyter-widgets/controls",
          "model_module_version": "1.5.0",
          "model_name": "HTMLModel",
          "state": {
            "_dom_classes": [],
            "_model_module": "@jupyter-widgets/controls",
            "_model_module_version": "1.5.0",
            "_model_name": "HTMLModel",
            "_view_count": null,
            "_view_module": "@jupyter-widgets/controls",
            "_view_module_version": "1.5.0",
            "_view_name": "HTMLView",
            "description": "",
            "description_tooltip": null,
            "layout": "IPY_MODEL_7a91ad9b8019412bac5d1b62a221508f",
            "placeholder": "​",
            "style": "IPY_MODEL_45d2b6b725ef4d17bd6a81c6c0f243d2",
            "value": "PROCESSING TASKS | : 100%"
          }
        },
        "8285e105dae14921aa457ccfdc37aca8": {
          "model_module": "@jupyter-widgets/controls",
          "model_module_version": "1.5.0",
          "model_name": "DescriptionStyleModel",
          "state": {
            "_model_module": "@jupyter-widgets/controls",
            "_model_module_version": "1.5.0",
            "_model_name": "DescriptionStyleModel",
            "_view_count": null,
            "_view_module": "@jupyter-widgets/base",
            "_view_module_version": "1.2.0",
            "_view_name": "StyleView",
            "description_width": ""
          }
        },
        "8ab67e376c85484f949c6073c9797e39": {
          "model_module": "@jupyter-widgets/controls",
          "model_module_version": "1.5.0",
          "model_name": "CheckboxModel",
          "state": {
            "_dom_classes": [],
            "_model_module": "@jupyter-widgets/controls",
            "_model_module_version": "1.5.0",
            "_model_name": "CheckboxModel",
            "_view_count": null,
            "_view_module": "@jupyter-widgets/controls",
            "_view_module_version": "1.5.0",
            "_view_name": "CheckboxView",
            "description": "OpenStreetMap",
            "description_tooltip": null,
            "disabled": false,
            "indent": false,
            "layout": "IPY_MODEL_3a383514f8c04a7a8309c1f0e1823c2e",
            "style": "IPY_MODEL_c4ad2609bdd44210b36647d1f34a530c",
            "value": true
          }
        },
        "8ac4207784fd415f8b252aacd0e8c56b": {
          "model_module": "@jupyter-widgets/base",
          "model_module_version": "1.2.0",
          "model_name": "LayoutModel",
          "state": {
            "_model_module": "@jupyter-widgets/base",
            "_model_module_version": "1.2.0",
            "_model_name": "LayoutModel",
            "_view_count": null,
            "_view_module": "@jupyter-widgets/base",
            "_view_module_version": "1.2.0",
            "_view_name": "LayoutView",
            "align_content": null,
            "align_items": null,
            "align_self": null,
            "border": null,
            "bottom": null,
            "display": null,
            "flex": null,
            "flex_flow": null,
            "grid_area": null,
            "grid_auto_columns": null,
            "grid_auto_flow": null,
            "grid_auto_rows": null,
            "grid_column": null,
            "grid_gap": null,
            "grid_row": null,
            "grid_template_areas": null,
            "grid_template_columns": null,
            "grid_template_rows": null,
            "height": "18px",
            "justify_content": null,
            "justify_items": null,
            "left": null,
            "margin": null,
            "max_height": null,
            "max_width": null,
            "min_height": null,
            "min_width": null,
            "object_fit": null,
            "object_position": null,
            "order": null,
            "overflow": null,
            "overflow_x": null,
            "overflow_y": null,
            "padding": null,
            "right": null,
            "top": null,
            "visibility": null,
            "width": "25ex"
          }
        },
        "8bfd8d9974be4ad5850feb8a9b2ce9f0": {
          "model_module": "@jupyter-widgets/controls",
          "model_module_version": "1.5.0",
          "model_name": "HTMLModel",
          "state": {
            "_dom_classes": [],
            "_model_module": "@jupyter-widgets/controls",
            "_model_module_version": "1.5.0",
            "_model_name": "HTMLModel",
            "_view_count": null,
            "_view_module": "@jupyter-widgets/controls",
            "_view_module_version": "1.5.0",
            "_view_name": "HTMLView",
            "description": "",
            "description_tooltip": null,
            "layout": "IPY_MODEL_d349013a8452404c9167b7c233a079de",
            "placeholder": "​",
            "style": "IPY_MODEL_9e636a7f0ad14187b5297ea3382a7d30",
            "value": "QUEUEING TASKS | : 100%"
          }
        },
        "8dd095e2e77141409dd6da2671ddc378": {
          "model_module": "@jupyter-widgets/base",
          "model_module_version": "1.2.0",
          "model_name": "LayoutModel",
          "state": {
            "_model_module": "@jupyter-widgets/base",
            "_model_module_version": "1.2.0",
            "_model_name": "LayoutModel",
            "_view_count": null,
            "_view_module": "@jupyter-widgets/base",
            "_view_module_version": "1.2.0",
            "_view_name": "LayoutView",
            "align_content": null,
            "align_items": null,
            "align_self": null,
            "border": null,
            "bottom": null,
            "display": null,
            "flex": null,
            "flex_flow": null,
            "grid_area": null,
            "grid_auto_columns": null,
            "grid_auto_flow": null,
            "grid_auto_rows": null,
            "grid_column": null,
            "grid_gap": null,
            "grid_row": null,
            "grid_template_areas": null,
            "grid_template_columns": null,
            "grid_template_rows": null,
            "height": "18px",
            "justify_content": null,
            "justify_items": null,
            "left": null,
            "margin": null,
            "max_height": null,
            "max_width": null,
            "min_height": null,
            "min_width": null,
            "object_fit": null,
            "object_position": null,
            "order": null,
            "overflow": null,
            "overflow_x": null,
            "overflow_y": null,
            "padding": null,
            "right": null,
            "top": null,
            "visibility": null,
            "width": "25ex"
          }
        },
        "9602cb5b4b874046b7b6688d343f8bb9": {
          "model_module": "@jupyter-widgets/controls",
          "model_module_version": "1.5.0",
          "model_name": "CheckboxModel",
          "state": {
            "_dom_classes": [],
            "_model_module": "@jupyter-widgets/controls",
            "_model_module_version": "1.5.0",
            "_model_name": "CheckboxModel",
            "_view_count": null,
            "_view_module": "@jupyter-widgets/controls",
            "_view_module_version": "1.5.0",
            "_view_name": "CheckboxView",
            "description": "OpenStreetMap.Mapnik",
            "description_tooltip": null,
            "disabled": false,
            "indent": false,
            "layout": "IPY_MODEL_8ac4207784fd415f8b252aacd0e8c56b",
            "style": "IPY_MODEL_a9ba411fa65f4b0da6d15f7c177b6e8d",
            "value": true
          }
        },
        "99b32bd1edc844fa86cf645de9364fc8": {
          "model_module": "@jupyter-widgets/base",
          "model_module_version": "1.2.0",
          "model_name": "LayoutModel",
          "state": {
            "_model_module": "@jupyter-widgets/base",
            "_model_module_version": "1.2.0",
            "_model_name": "LayoutModel",
            "_view_count": null,
            "_view_module": "@jupyter-widgets/base",
            "_view_module_version": "1.2.0",
            "_view_name": "LayoutView",
            "align_content": null,
            "align_items": null,
            "align_self": null,
            "border": null,
            "bottom": null,
            "display": null,
            "flex": null,
            "flex_flow": null,
            "grid_area": null,
            "grid_auto_columns": null,
            "grid_auto_flow": null,
            "grid_auto_rows": null,
            "grid_column": null,
            "grid_gap": null,
            "grid_row": null,
            "grid_template_areas": null,
            "grid_template_columns": null,
            "grid_template_rows": null,
            "height": "18px",
            "justify_content": null,
            "justify_items": null,
            "left": null,
            "margin": null,
            "max_height": null,
            "max_width": null,
            "min_height": null,
            "min_width": null,
            "object_fit": null,
            "object_position": null,
            "order": null,
            "overflow": null,
            "overflow_x": null,
            "overflow_y": null,
            "padding": null,
            "right": null,
            "top": null,
            "visibility": null,
            "width": "25ex"
          }
        },
        "9adc10ac8ade41a7bd462b03d5d41454": {
          "model_module": "@jupyter-widgets/controls",
          "model_module_version": "1.5.0",
          "model_name": "CheckboxModel",
          "state": {
            "_dom_classes": [],
            "_model_module": "@jupyter-widgets/controls",
            "_model_module_version": "1.5.0",
            "_model_name": "CheckboxModel",
            "_view_count": null,
            "_view_module": "@jupyter-widgets/controls",
            "_view_module_version": "1.5.0",
            "_view_name": "CheckboxView",
            "description": "OpenStreetMap.Mapnik",
            "description_tooltip": null,
            "disabled": false,
            "indent": false,
            "layout": "IPY_MODEL_99b32bd1edc844fa86cf645de9364fc8",
            "style": "IPY_MODEL_0d2bfbe36279441fb03a4f8e469adc01",
            "value": true
          }
        },
        "9bd1a2aafb304c35850641d6762fde09": {
          "model_module": "@jupyter-widgets/base",
          "model_module_version": "1.2.0",
          "model_name": "LayoutModel",
          "state": {
            "_model_module": "@jupyter-widgets/base",
            "_model_module_version": "1.2.0",
            "_model_name": "LayoutModel",
            "_view_count": null,
            "_view_module": "@jupyter-widgets/base",
            "_view_module_version": "1.2.0",
            "_view_name": "LayoutView",
            "align_content": null,
            "align_items": null,
            "align_self": null,
            "border": null,
            "bottom": null,
            "display": null,
            "flex": null,
            "flex_flow": null,
            "grid_area": null,
            "grid_auto_columns": null,
            "grid_auto_flow": null,
            "grid_auto_rows": null,
            "grid_column": null,
            "grid_gap": null,
            "grid_row": null,
            "grid_template_areas": null,
            "grid_template_columns": null,
            "grid_template_rows": null,
            "height": null,
            "justify_content": null,
            "justify_items": null,
            "left": null,
            "margin": "0px 10px 0px 10px",
            "max_height": "250px",
            "max_width": "250px",
            "min_height": null,
            "min_width": null,
            "object_fit": null,
            "object_position": null,
            "order": null,
            "overflow": null,
            "overflow_x": null,
            "overflow_y": null,
            "padding": null,
            "right": null,
            "top": null,
            "visibility": null,
            "width": null
          }
        },
        "9bf4ef7f44f949a39c1a51ef7847df43": {
          "model_module": "@jupyter-widgets/controls",
          "model_module_version": "1.5.0",
          "model_name": "HBoxModel",
          "state": {
            "_dom_classes": [],
            "_model_module": "@jupyter-widgets/controls",
            "_model_module_version": "1.5.0",
            "_model_name": "HBoxModel",
            "_view_count": null,
            "_view_module": "@jupyter-widgets/controls",
            "_view_module_version": "1.5.0",
            "_view_name": "HBoxView",
            "box_style": "",
            "children": [
              "IPY_MODEL_79fe4ed4a6924eab8f06feaede94453e",
              "IPY_MODEL_187e9908627e4c8c8ed679fac6cc3d2c",
              "IPY_MODEL_d9da46b658a04a178f2bb308e34c8701"
            ],
            "layout": "IPY_MODEL_3783bd9906c44a70872027698f8e7000"
          }
        },
        "9d158dbe205d414fa800152d683392b5": {
          "model_module": "@jupyter-widgets/base",
          "model_module_version": "1.2.0",
          "model_name": "LayoutModel",
          "state": {
            "_model_module": "@jupyter-widgets/base",
            "_model_module_version": "1.2.0",
            "_model_name": "LayoutModel",
            "_view_count": null,
            "_view_module": "@jupyter-widgets/base",
            "_view_module_version": "1.2.0",
            "_view_name": "LayoutView",
            "align_content": null,
            "align_items": null,
            "align_self": null,
            "border": null,
            "bottom": null,
            "display": null,
            "flex": null,
            "flex_flow": null,
            "grid_area": null,
            "grid_auto_columns": null,
            "grid_auto_flow": null,
            "grid_auto_rows": null,
            "grid_column": null,
            "grid_gap": null,
            "grid_row": null,
            "grid_template_areas": null,
            "grid_template_columns": null,
            "grid_template_rows": null,
            "height": null,
            "justify_content": null,
            "justify_items": null,
            "left": null,
            "margin": null,
            "max_height": null,
            "max_width": null,
            "min_height": null,
            "min_width": null,
            "object_fit": null,
            "object_position": null,
            "order": null,
            "overflow": null,
            "overflow_x": null,
            "overflow_y": null,
            "padding": null,
            "right": null,
            "top": null,
            "visibility": null,
            "width": null
          }
        },
        "9e636a7f0ad14187b5297ea3382a7d30": {
          "model_module": "@jupyter-widgets/controls",
          "model_module_version": "1.5.0",
          "model_name": "DescriptionStyleModel",
          "state": {
            "_model_module": "@jupyter-widgets/controls",
            "_model_module_version": "1.5.0",
            "_model_name": "DescriptionStyleModel",
            "_view_count": null,
            "_view_module": "@jupyter-widgets/base",
            "_view_module_version": "1.2.0",
            "_view_name": "StyleView",
            "description_width": ""
          }
        },
        "9f9e0fe4b815475994baec35e470b005": {
          "model_module": "@jupyter-widgets/controls",
          "model_module_version": "1.5.0",
          "model_name": "DescriptionStyleModel",
          "state": {
            "_model_module": "@jupyter-widgets/controls",
            "_model_module_version": "1.5.0",
            "_model_name": "DescriptionStyleModel",
            "_view_count": null,
            "_view_module": "@jupyter-widgets/base",
            "_view_module_version": "1.2.0",
            "_view_name": "StyleView",
            "description_width": ""
          }
        },
        "a1a97892427049c88f5c4ec058b60d11": {
          "model_module": "@jupyter-widgets/controls",
          "model_module_version": "1.5.0",
          "model_name": "DescriptionStyleModel",
          "state": {
            "_model_module": "@jupyter-widgets/controls",
            "_model_module_version": "1.5.0",
            "_model_name": "DescriptionStyleModel",
            "_view_count": null,
            "_view_module": "@jupyter-widgets/base",
            "_view_module_version": "1.2.0",
            "_view_name": "StyleView",
            "description_width": ""
          }
        },
        "a1eb71fa6a674b72bbd197014d808721": {
          "model_module": "@jupyter-widgets/controls",
          "model_module_version": "1.5.0",
          "model_name": "HBoxModel",
          "state": {
            "_dom_classes": [],
            "_model_module": "@jupyter-widgets/controls",
            "_model_module_version": "1.5.0",
            "_model_name": "HBoxModel",
            "_view_count": null,
            "_view_module": "@jupyter-widgets/controls",
            "_view_module_version": "1.5.0",
            "_view_name": "HBoxView",
            "box_style": "",
            "children": [
              "IPY_MODEL_8bfd8d9974be4ad5850feb8a9b2ce9f0",
              "IPY_MODEL_a2fa4ffae9f84cae85be7673d6056103",
              "IPY_MODEL_78ec3d9fad9341e3b7d9c275b01ab8c9"
            ],
            "layout": "IPY_MODEL_60b2a5f3f7e94e46ab3aa4cf58e271d1"
          }
        },
        "a2fa4ffae9f84cae85be7673d6056103": {
          "model_module": "@jupyter-widgets/controls",
          "model_module_version": "1.5.0",
          "model_name": "FloatProgressModel",
          "state": {
            "_dom_classes": [],
            "_model_module": "@jupyter-widgets/controls",
            "_model_module_version": "1.5.0",
            "_model_name": "FloatProgressModel",
            "_view_count": null,
            "_view_module": "@jupyter-widgets/controls",
            "_view_module_version": "1.5.0",
            "_view_name": "ProgressView",
            "bar_style": "success",
            "description": "",
            "description_tooltip": null,
            "layout": "IPY_MODEL_317fdd3868d24fa2a93ab2a7db4eed97",
            "max": 1,
            "min": 0,
            "orientation": "horizontal",
            "style": "IPY_MODEL_71a73ff116184257981be20b4eab99e0",
            "value": 1
          }
        },
        "a9b8581b70cd4642b4228da352098daf": {
          "model_module": "jupyter-leaflet",
          "model_module_version": "^0.19",
          "model_name": "LeafletMapStyleModel",
          "state": {
            "_model_module": "jupyter-leaflet",
            "_model_module_version": "^0.19",
            "_model_name": "LeafletMapStyleModel",
            "_view_count": null,
            "_view_module": "@jupyter-widgets/base",
            "_view_module_version": "1.2.0",
            "_view_name": "StyleView",
            "cursor": "move"
          }
        },
        "a9ba411fa65f4b0da6d15f7c177b6e8d": {
          "model_module": "@jupyter-widgets/controls",
          "model_module_version": "1.5.0",
          "model_name": "DescriptionStyleModel",
          "state": {
            "_model_module": "@jupyter-widgets/controls",
            "_model_module_version": "1.5.0",
            "_model_name": "DescriptionStyleModel",
            "_view_count": null,
            "_view_module": "@jupyter-widgets/base",
            "_view_module_version": "1.2.0",
            "_view_name": "StyleView",
            "description_width": ""
          }
        },
        "ac8a2b09d9a34e2586f168251bf79607": {
          "model_module": "@jupyter-widgets/controls",
          "model_module_version": "1.5.0",
          "model_name": "DescriptionStyleModel",
          "state": {
            "_model_module": "@jupyter-widgets/controls",
            "_model_module_version": "1.5.0",
            "_model_name": "DescriptionStyleModel",
            "_view_count": null,
            "_view_module": "@jupyter-widgets/base",
            "_view_module_version": "1.2.0",
            "_view_name": "StyleView",
            "description_width": ""
          }
        },
        "b5ec80ad2410471884b049cf7caad06c": {
          "model_module": "jupyter-leaflet",
          "model_module_version": "^0.19",
          "model_name": "LeafletMapStyleModel",
          "state": {
            "_model_module": "jupyter-leaflet",
            "_model_module_version": "^0.19",
            "_model_name": "LeafletMapStyleModel",
            "_view_count": null,
            "_view_module": "@jupyter-widgets/base",
            "_view_module_version": "1.2.0",
            "_view_name": "StyleView",
            "cursor": "grab"
          }
        },
        "b67398bbfb574b44b908ba417e0521c5": {
          "model_module": "@jupyter-widgets/base",
          "model_module_version": "1.2.0",
          "model_name": "LayoutModel",
          "state": {
            "_model_module": "@jupyter-widgets/base",
            "_model_module_version": "1.2.0",
            "_model_name": "LayoutModel",
            "_view_count": null,
            "_view_module": "@jupyter-widgets/base",
            "_view_module_version": "1.2.0",
            "_view_name": "LayoutView",
            "align_content": null,
            "align_items": null,
            "align_self": null,
            "border": null,
            "bottom": null,
            "display": null,
            "flex": null,
            "flex_flow": null,
            "grid_area": null,
            "grid_auto_columns": null,
            "grid_auto_flow": null,
            "grid_auto_rows": null,
            "grid_column": null,
            "grid_gap": null,
            "grid_row": null,
            "grid_template_areas": null,
            "grid_template_columns": null,
            "grid_template_rows": null,
            "height": "18px",
            "justify_content": null,
            "justify_items": null,
            "left": null,
            "margin": null,
            "max_height": null,
            "max_width": null,
            "min_height": null,
            "min_width": null,
            "object_fit": null,
            "object_position": null,
            "order": null,
            "overflow": null,
            "overflow_x": null,
            "overflow_y": null,
            "padding": null,
            "right": null,
            "top": null,
            "visibility": null,
            "width": "25ex"
          }
        },
        "bada98e3f54c4dfe9385006df65711c8": {
          "model_module": "@jupyter-widgets/controls",
          "model_module_version": "1.5.0",
          "model_name": "DescriptionStyleModel",
          "state": {
            "_model_module": "@jupyter-widgets/controls",
            "_model_module_version": "1.5.0",
            "_model_name": "DescriptionStyleModel",
            "_view_count": null,
            "_view_module": "@jupyter-widgets/base",
            "_view_module_version": "1.2.0",
            "_view_name": "StyleView",
            "description_width": ""
          }
        },
        "bcd04a0dd0ad4393818f7c669785640b": {
          "model_module": "@jupyter-widgets/controls",
          "model_module_version": "1.5.0",
          "model_name": "DescriptionStyleModel",
          "state": {
            "_model_module": "@jupyter-widgets/controls",
            "_model_module_version": "1.5.0",
            "_model_name": "DescriptionStyleModel",
            "_view_count": null,
            "_view_module": "@jupyter-widgets/base",
            "_view_module_version": "1.2.0",
            "_view_name": "StyleView",
            "description_width": ""
          }
        },
        "c276dc396d564c3eafada0786e5cbbf2": {
          "model_module": "@jupyter-widgets/controls",
          "model_module_version": "1.5.0",
          "model_name": "CheckboxModel",
          "state": {
            "_dom_classes": [],
            "_model_module": "@jupyter-widgets/controls",
            "_model_module_version": "1.5.0",
            "_model_name": "CheckboxModel",
            "_view_count": null,
            "_view_module": "@jupyter-widgets/controls",
            "_view_module_version": "1.5.0",
            "_view_name": "CheckboxView",
            "description": "OpenStreetMap",
            "description_tooltip": null,
            "disabled": false,
            "indent": false,
            "layout": "IPY_MODEL_3f5f103286664bb0abd1dd58d21daa2a",
            "style": "IPY_MODEL_fa1ac8916329421e8ee8d740af44dd4b",
            "value": true
          }
        },
        "c35c6abfa4524d28b741a2121ab31c6a": {
          "model_module": "@jupyter-widgets/base",
          "model_module_version": "1.2.0",
          "model_name": "LayoutModel",
          "state": {
            "_model_module": "@jupyter-widgets/base",
            "_model_module_version": "1.2.0",
            "_model_name": "LayoutModel",
            "_view_count": null,
            "_view_module": "@jupyter-widgets/base",
            "_view_module_version": "1.2.0",
            "_view_name": "LayoutView",
            "align_content": null,
            "align_items": null,
            "align_self": null,
            "border": null,
            "bottom": null,
            "display": null,
            "flex": null,
            "flex_flow": null,
            "grid_area": null,
            "grid_auto_columns": null,
            "grid_auto_flow": null,
            "grid_auto_rows": null,
            "grid_column": null,
            "grid_gap": null,
            "grid_row": null,
            "grid_template_areas": null,
            "grid_template_columns": null,
            "grid_template_rows": null,
            "height": null,
            "justify_content": null,
            "justify_items": null,
            "left": null,
            "margin": null,
            "max_height": null,
            "max_width": null,
            "min_height": null,
            "min_width": null,
            "object_fit": null,
            "object_position": null,
            "order": null,
            "overflow": null,
            "overflow_x": null,
            "overflow_y": null,
            "padding": null,
            "right": null,
            "top": null,
            "visibility": null,
            "width": null
          }
        },
        "c4ad2609bdd44210b36647d1f34a530c": {
          "model_module": "@jupyter-widgets/controls",
          "model_module_version": "1.5.0",
          "model_name": "DescriptionStyleModel",
          "state": {
            "_model_module": "@jupyter-widgets/controls",
            "_model_module_version": "1.5.0",
            "_model_name": "DescriptionStyleModel",
            "_view_count": null,
            "_view_module": "@jupyter-widgets/base",
            "_view_module_version": "1.2.0",
            "_view_name": "StyleView",
            "description_width": ""
          }
        },
        "cadc8a8fe97e4a92a8837450c7005461": {
          "model_module": "@jupyter-widgets/controls",
          "model_module_version": "1.5.0",
          "model_name": "CheckboxModel",
          "state": {
            "_dom_classes": [],
            "_model_module": "@jupyter-widgets/controls",
            "_model_module_version": "1.5.0",
            "_model_name": "CheckboxModel",
            "_view_count": null,
            "_view_module": "@jupyter-widgets/controls",
            "_view_module_version": "1.5.0",
            "_view_name": "CheckboxView",
            "description": "OpenStreetMap.Mapnik",
            "description_tooltip": null,
            "disabled": false,
            "indent": false,
            "layout": "IPY_MODEL_b67398bbfb574b44b908ba417e0521c5",
            "style": "IPY_MODEL_a1a97892427049c88f5c4ec058b60d11",
            "value": true
          }
        },
        "cbcefad099f94d1790e4cab1c0d073dc": {
          "model_module": "@jupyter-widgets/controls",
          "model_module_version": "1.5.0",
          "model_name": "DescriptionStyleModel",
          "state": {
            "_model_module": "@jupyter-widgets/controls",
            "_model_module_version": "1.5.0",
            "_model_name": "DescriptionStyleModel",
            "_view_count": null,
            "_view_module": "@jupyter-widgets/base",
            "_view_module_version": "1.2.0",
            "_view_name": "StyleView",
            "description_width": ""
          }
        },
        "d0373f8b0f4d49b194d091dcdc09fa99": {
          "model_module": "@jupyter-widgets/base",
          "model_module_version": "1.2.0",
          "model_name": "LayoutModel",
          "state": {
            "_model_module": "@jupyter-widgets/base",
            "_model_module_version": "1.2.0",
            "_model_name": "LayoutModel",
            "_view_count": null,
            "_view_module": "@jupyter-widgets/base",
            "_view_module_version": "1.2.0",
            "_view_name": "LayoutView",
            "align_content": null,
            "align_items": null,
            "align_self": null,
            "border": null,
            "bottom": null,
            "display": null,
            "flex": null,
            "flex_flow": null,
            "grid_area": null,
            "grid_auto_columns": null,
            "grid_auto_flow": null,
            "grid_auto_rows": null,
            "grid_column": null,
            "grid_gap": null,
            "grid_row": null,
            "grid_template_areas": null,
            "grid_template_columns": null,
            "grid_template_rows": null,
            "height": "18px",
            "justify_content": null,
            "justify_items": null,
            "left": null,
            "margin": null,
            "max_height": null,
            "max_width": null,
            "min_height": null,
            "min_width": null,
            "object_fit": null,
            "object_position": null,
            "order": null,
            "overflow": null,
            "overflow_x": null,
            "overflow_y": null,
            "padding": null,
            "right": null,
            "top": null,
            "visibility": null,
            "width": "25ex"
          }
        },
        "d349013a8452404c9167b7c233a079de": {
          "model_module": "@jupyter-widgets/base",
          "model_module_version": "1.2.0",
          "model_name": "LayoutModel",
          "state": {
            "_model_module": "@jupyter-widgets/base",
            "_model_module_version": "1.2.0",
            "_model_name": "LayoutModel",
            "_view_count": null,
            "_view_module": "@jupyter-widgets/base",
            "_view_module_version": "1.2.0",
            "_view_name": "LayoutView",
            "align_content": null,
            "align_items": null,
            "align_self": null,
            "border": null,
            "bottom": null,
            "display": null,
            "flex": null,
            "flex_flow": null,
            "grid_area": null,
            "grid_auto_columns": null,
            "grid_auto_flow": null,
            "grid_auto_rows": null,
            "grid_column": null,
            "grid_gap": null,
            "grid_row": null,
            "grid_template_areas": null,
            "grid_template_columns": null,
            "grid_template_rows": null,
            "height": null,
            "justify_content": null,
            "justify_items": null,
            "left": null,
            "margin": null,
            "max_height": null,
            "max_width": null,
            "min_height": null,
            "min_width": null,
            "object_fit": null,
            "object_position": null,
            "order": null,
            "overflow": null,
            "overflow_x": null,
            "overflow_y": null,
            "padding": null,
            "right": null,
            "top": null,
            "visibility": null,
            "width": null
          }
        },
        "d595ff69f67045fd9f8f42c5b2fcf378": {
          "model_module": "@jupyter-widgets/controls",
          "model_module_version": "1.5.0",
          "model_name": "ToggleButtonModel",
          "state": {
            "_dom_classes": [],
            "_model_module": "@jupyter-widgets/controls",
            "_model_module_version": "1.5.0",
            "_model_name": "ToggleButtonModel",
            "_view_count": null,
            "_view_module": "@jupyter-widgets/controls",
            "_view_module_version": "1.5.0",
            "_view_name": "ToggleButtonView",
            "button_style": "",
            "description": "",
            "description_tooltip": null,
            "disabled": false,
            "icon": "info",
            "layout": "IPY_MODEL_26a38b9a7d1f4b478bb8149d0675806c",
            "style": "IPY_MODEL_8285e105dae14921aa457ccfdc37aca8",
            "tooltip": "Toolbar",
            "value": true
          }
        },
        "d68cb7f3d5394ef8a5332d637244ea44": {
          "model_module": "jupyter-leaflet",
          "model_module_version": "^0.19",
          "model_name": "LeafletZoomControlModel",
          "state": {
            "_model_module": "jupyter-leaflet",
            "_model_module_version": "^0.19",
            "_model_name": "LeafletZoomControlModel",
            "_view_count": null,
            "_view_module": "jupyter-leaflet",
            "_view_module_version": "^0.19",
            "_view_name": "LeafletZoomControlView",
            "options": [
              "position",
              "zoom_in_text",
              "zoom_in_title",
              "zoom_out_text",
              "zoom_out_title"
            ],
            "position": "topleft",
            "zoom_in_text": "+",
            "zoom_in_title": "Zoom in",
            "zoom_out_text": "-",
            "zoom_out_title": "Zoom out"
          }
        },
        "d72b3a10596b4196b707bdc7396ed358": {
          "model_module": "@jupyter-widgets/base",
          "model_module_version": "1.2.0",
          "model_name": "LayoutModel",
          "state": {
            "_model_module": "@jupyter-widgets/base",
            "_model_module_version": "1.2.0",
            "_model_name": "LayoutModel",
            "_view_count": null,
            "_view_module": "@jupyter-widgets/base",
            "_view_module_version": "1.2.0",
            "_view_name": "LayoutView",
            "align_content": null,
            "align_items": null,
            "align_self": null,
            "border": null,
            "bottom": null,
            "display": null,
            "flex": null,
            "flex_flow": null,
            "grid_area": null,
            "grid_auto_columns": null,
            "grid_auto_flow": null,
            "grid_auto_rows": null,
            "grid_column": null,
            "grid_gap": null,
            "grid_row": null,
            "grid_template_areas": null,
            "grid_template_columns": null,
            "grid_template_rows": null,
            "height": null,
            "justify_content": null,
            "justify_items": null,
            "left": null,
            "margin": null,
            "max_height": null,
            "max_width": null,
            "min_height": null,
            "min_width": null,
            "object_fit": null,
            "object_position": null,
            "order": null,
            "overflow": null,
            "overflow_x": null,
            "overflow_y": null,
            "padding": null,
            "right": null,
            "top": null,
            "visibility": null,
            "width": null
          }
        },
        "d9da46b658a04a178f2bb308e34c8701": {
          "model_module": "@jupyter-widgets/controls",
          "model_module_version": "1.5.0",
          "model_name": "HTMLModel",
          "state": {
            "_dom_classes": [],
            "_model_module": "@jupyter-widgets/controls",
            "_model_module_version": "1.5.0",
            "_model_name": "HTMLModel",
            "_view_count": null,
            "_view_module": "@jupyter-widgets/controls",
            "_view_module_version": "1.5.0",
            "_view_name": "HTMLView",
            "description": "",
            "description_tooltip": null,
            "layout": "IPY_MODEL_c35c6abfa4524d28b741a2121ab31c6a",
            "placeholder": "​",
            "style": "IPY_MODEL_6fbeebbd1ddf465a80d1d3ff3e71cfcc",
            "value": " 1/1 [00:00&lt;00:00, 45.44it/s]"
          }
        },
        "dba8320895d547cea0609aa53a47c23d": {
          "model_module": "@jupyter-widgets/base",
          "model_module_version": "1.2.0",
          "model_name": "LayoutModel",
          "state": {
            "_model_module": "@jupyter-widgets/base",
            "_model_module_version": "1.2.0",
            "_model_name": "LayoutModel",
            "_view_count": null,
            "_view_module": "@jupyter-widgets/base",
            "_view_module_version": "1.2.0",
            "_view_name": "LayoutView",
            "align_content": null,
            "align_items": null,
            "align_self": null,
            "border": null,
            "bottom": null,
            "display": null,
            "flex": null,
            "flex_flow": null,
            "grid_area": null,
            "grid_auto_columns": null,
            "grid_auto_flow": null,
            "grid_auto_rows": null,
            "grid_column": null,
            "grid_gap": null,
            "grid_row": null,
            "grid_template_areas": null,
            "grid_template_columns": null,
            "grid_template_rows": null,
            "height": null,
            "justify_content": null,
            "justify_items": null,
            "left": null,
            "margin": null,
            "max_height": null,
            "max_width": null,
            "min_height": null,
            "min_width": null,
            "object_fit": null,
            "object_position": null,
            "order": null,
            "overflow": null,
            "overflow_x": null,
            "overflow_y": null,
            "padding": null,
            "right": null,
            "top": null,
            "visibility": null,
            "width": null
          }
        },
        "eb89c6a7c6454082b714460a96ed4637": {
          "model_module": "@jupyter-widgets/controls",
          "model_module_version": "1.5.0",
          "model_name": "VBoxModel",
          "state": {
            "_dom_classes": [],
            "_model_module": "@jupyter-widgets/controls",
            "_model_module_version": "1.5.0",
            "_model_name": "VBoxModel",
            "_view_count": null,
            "_view_module": "@jupyter-widgets/controls",
            "_view_module_version": "1.5.0",
            "_view_name": "VBoxView",
            "box_style": "",
            "children": [
              "IPY_MODEL_64c67aec06254626963ea72f3d55472a",
              "IPY_MODEL_37a3e4a02bd049dd92275fe0e83a4e42"
            ],
            "layout": "IPY_MODEL_688b2f68de9b49ed90ddc144f960e45f"
          }
        },
        "ec0b65fd11074168a71390ac0d5b2da8": {
          "model_module": "@jupyter-widgets/controls",
          "model_module_version": "1.5.0",
          "model_name": "CheckboxModel",
          "state": {
            "_dom_classes": [],
            "_model_module": "@jupyter-widgets/controls",
            "_model_module_version": "1.5.0",
            "_model_name": "CheckboxModel",
            "_view_count": null,
            "_view_module": "@jupyter-widgets/controls",
            "_view_module_version": "1.5.0",
            "_view_name": "CheckboxView",
            "description": "OpenStreetMap.Mapnik",
            "description_tooltip": null,
            "disabled": false,
            "indent": false,
            "layout": "IPY_MODEL_6eef7d85f71a4713b9ae7461cf1f5ba8",
            "style": "IPY_MODEL_bcd04a0dd0ad4393818f7c669785640b",
            "value": true
          }
        },
        "edcba03eb2d6489fa5d5f3e44f9a2096": {
          "model_module": "@jupyter-widgets/base",
          "model_module_version": "1.2.0",
          "model_name": "LayoutModel",
          "state": {
            "_model_module": "@jupyter-widgets/base",
            "_model_module_version": "1.2.0",
            "_model_name": "LayoutModel",
            "_view_count": null,
            "_view_module": "@jupyter-widgets/base",
            "_view_module_version": "1.2.0",
            "_view_name": "LayoutView",
            "align_content": null,
            "align_items": null,
            "align_self": null,
            "border": null,
            "bottom": null,
            "display": null,
            "flex": null,
            "flex_flow": null,
            "grid_area": null,
            "grid_auto_columns": null,
            "grid_auto_flow": null,
            "grid_auto_rows": null,
            "grid_column": null,
            "grid_gap": null,
            "grid_row": null,
            "grid_template_areas": null,
            "grid_template_columns": null,
            "grid_template_rows": null,
            "height": "28px",
            "justify_content": null,
            "justify_items": null,
            "left": null,
            "margin": null,
            "max_height": null,
            "max_width": null,
            "min_height": null,
            "min_width": null,
            "object_fit": null,
            "object_position": null,
            "order": null,
            "overflow": null,
            "overflow_x": null,
            "overflow_y": null,
            "padding": "0px 0px 0px 4px",
            "right": null,
            "top": null,
            "visibility": null,
            "width": "28px"
          }
        },
        "f33fa56056f842dab938bd68ddbb5332": {
          "model_module": "@jupyter-widgets/controls",
          "model_module_version": "1.5.0",
          "model_name": "CheckboxModel",
          "state": {
            "_dom_classes": [],
            "_model_module": "@jupyter-widgets/controls",
            "_model_module_version": "1.5.0",
            "_model_name": "CheckboxModel",
            "_view_count": null,
            "_view_module": "@jupyter-widgets/controls",
            "_view_module_version": "1.5.0",
            "_view_name": "CheckboxView",
            "description": "OpenStreetMap",
            "description_tooltip": null,
            "disabled": false,
            "indent": false,
            "layout": "IPY_MODEL_d0373f8b0f4d49b194d091dcdc09fa99",
            "style": "IPY_MODEL_3c618d0cfd6d464f86f9188c262f0b87",
            "value": true
          }
        },
        "f76eb9c49f2c4232844c5e8c1d68767e": {
          "model_module": "@jupyter-widgets/controls",
          "model_module_version": "1.5.0",
          "model_name": "DescriptionStyleModel",
          "state": {
            "_model_module": "@jupyter-widgets/controls",
            "_model_module_version": "1.5.0",
            "_model_name": "DescriptionStyleModel",
            "_view_count": null,
            "_view_module": "@jupyter-widgets/base",
            "_view_module_version": "1.2.0",
            "_view_name": "StyleView",
            "description_width": ""
          }
        },
        "fa1ac8916329421e8ee8d740af44dd4b": {
          "model_module": "@jupyter-widgets/controls",
          "model_module_version": "1.5.0",
          "model_name": "DescriptionStyleModel",
          "state": {
            "_model_module": "@jupyter-widgets/controls",
            "_model_module_version": "1.5.0",
            "_model_name": "DescriptionStyleModel",
            "_view_count": null,
            "_view_module": "@jupyter-widgets/base",
            "_view_module_version": "1.2.0",
            "_view_name": "StyleView",
            "description_width": ""
          }
        },
        "fb2af16a864d4ccc9e0ee0d85d7e5cba": {
          "model_module": "@jupyter-widgets/base",
          "model_module_version": "1.2.0",
          "model_name": "LayoutModel",
          "state": {
            "_model_module": "@jupyter-widgets/base",
            "_model_module_version": "1.2.0",
            "_model_name": "LayoutModel",
            "_view_count": null,
            "_view_module": "@jupyter-widgets/base",
            "_view_module_version": "1.2.0",
            "_view_name": "LayoutView",
            "align_content": null,
            "align_items": null,
            "align_self": null,
            "border": null,
            "bottom": null,
            "display": null,
            "flex": null,
            "flex_flow": null,
            "grid_area": null,
            "grid_auto_columns": null,
            "grid_auto_flow": null,
            "grid_auto_rows": null,
            "grid_column": null,
            "grid_gap": null,
            "grid_row": null,
            "grid_template_areas": null,
            "grid_template_columns": null,
            "grid_template_rows": null,
            "height": "18px",
            "justify_content": null,
            "justify_items": null,
            "left": null,
            "margin": null,
            "max_height": null,
            "max_width": null,
            "min_height": null,
            "min_width": null,
            "object_fit": null,
            "object_position": null,
            "order": null,
            "overflow": null,
            "overflow_x": null,
            "overflow_y": null,
            "padding": null,
            "right": null,
            "top": null,
            "visibility": null,
            "width": "25ex"
          }
        },
        "fbbb1c605d2b42f485af3e31b06457d8": {
          "model_module": "@jupyter-widgets/base",
          "model_module_version": "1.2.0",
          "model_name": "LayoutModel",
          "state": {
            "_model_module": "@jupyter-widgets/base",
            "_model_module_version": "1.2.0",
            "_model_name": "LayoutModel",
            "_view_count": null,
            "_view_module": "@jupyter-widgets/base",
            "_view_module_version": "1.2.0",
            "_view_name": "LayoutView",
            "align_content": null,
            "align_items": null,
            "align_self": null,
            "border": null,
            "bottom": null,
            "display": null,
            "flex": null,
            "flex_flow": null,
            "grid_area": null,
            "grid_auto_columns": null,
            "grid_auto_flow": null,
            "grid_auto_rows": null,
            "grid_column": null,
            "grid_gap": null,
            "grid_row": null,
            "grid_template_areas": null,
            "grid_template_columns": null,
            "grid_template_rows": null,
            "height": null,
            "justify_content": null,
            "justify_items": null,
            "left": null,
            "margin": null,
            "max_height": null,
            "max_width": null,
            "min_height": null,
            "min_width": null,
            "object_fit": null,
            "object_position": null,
            "order": null,
            "overflow": null,
            "overflow_x": null,
            "overflow_y": null,
            "padding": null,
            "right": null,
            "top": null,
            "visibility": null,
            "width": null
          }
        },
        "ff6ca8d019974fb7af0be610378f9a55": {
          "model_module": "@jupyter-widgets/base",
          "model_module_version": "1.2.0",
          "model_name": "LayoutModel",
          "state": {
            "_model_module": "@jupyter-widgets/base",
            "_model_module_version": "1.2.0",
            "_model_name": "LayoutModel",
            "_view_count": null,
            "_view_module": "@jupyter-widgets/base",
            "_view_module_version": "1.2.0",
            "_view_name": "LayoutView",
            "align_content": null,
            "align_items": null,
            "align_self": null,
            "border": null,
            "bottom": null,
            "display": null,
            "flex": null,
            "flex_flow": null,
            "grid_area": null,
            "grid_auto_columns": null,
            "grid_auto_flow": null,
            "grid_auto_rows": null,
            "grid_column": null,
            "grid_gap": null,
            "grid_row": null,
            "grid_template_areas": null,
            "grid_template_columns": null,
            "grid_template_rows": null,
            "height": null,
            "justify_content": null,
            "justify_items": null,
            "left": null,
            "margin": null,
            "max_height": null,
            "max_width": null,
            "min_height": null,
            "min_width": null,
            "object_fit": null,
            "object_position": null,
            "order": null,
            "overflow": null,
            "overflow_x": null,
            "overflow_y": null,
            "padding": null,
            "right": null,
            "top": null,
            "visibility": null,
            "width": null
          }
        }
      }
    }
  },
  "nbformat": 4,
  "nbformat_minor": 0
}
